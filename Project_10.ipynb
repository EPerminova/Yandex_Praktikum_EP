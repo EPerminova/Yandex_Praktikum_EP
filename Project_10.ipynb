{
 "cells": [
  {
   "cell_type": "markdown",
   "metadata": {
    "toc": true
   },
   "source": [
    "<h1>Содержание<span class=\"tocSkip\"></span></h1>\n",
    "<div class=\"toc\"><ul class=\"toc-item\"><li><span><a href=\"#Загрузка-данных\" data-toc-modified-id=\"Загрузка-данных-1\"><span class=\"toc-item-num\">1&nbsp;&nbsp;</span>Загрузка данных</a></span></li><li><span><a href=\"#Умножение-матриц\" data-toc-modified-id=\"Умножение-матриц-2\"><span class=\"toc-item-num\">2&nbsp;&nbsp;</span>Умножение матриц</a></span></li><li><span><a href=\"#Алгоритм-преобразования\" data-toc-modified-id=\"Алгоритм-преобразования-3\"><span class=\"toc-item-num\">3&nbsp;&nbsp;</span>Алгоритм преобразования</a></span></li><li><span><a href=\"#Проверка-алгоритма\" data-toc-modified-id=\"Проверка-алгоритма-4\"><span class=\"toc-item-num\">4&nbsp;&nbsp;</span>Проверка алгоритма</a></span></li><li><span><a href=\"#Чек-лист-проверки\" data-toc-modified-id=\"Чек-лист-проверки-5\"><span class=\"toc-item-num\">5&nbsp;&nbsp;</span>Чек-лист проверки</a></span></li></ul></div>"
   ]
  },
  {
   "cell_type": "markdown",
   "metadata": {},
   "source": [
    "# Защита персональных данных клиентов"
   ]
  },
  {
   "cell_type": "markdown",
   "metadata": {},
   "source": [
    "Вам нужно защитить данные клиентов страховой компании «Хоть потоп». Разработайте такой метод преобразования данных, чтобы по ним было сложно восстановить персональную информацию. Обоснуйте корректность его работы.\n",
    "\n",
    "Нужно защитить данные, чтобы при преобразовании качество моделей машинного обучения не ухудшилось. Подбирать наилучшую модель не требуется."
   ]
  },
  {
   "cell_type": "markdown",
   "metadata": {},
   "source": [
    "## Загрузка данных"
   ]
  },
  {
   "cell_type": "code",
   "execution_count": 1,
   "metadata": {},
   "outputs": [],
   "source": [
    "#библиотеки\n",
    "import pandas as pd\n",
    "import numpy as np\n",
    "import matplotlib.pyplot as plt\n",
    "import seaborn as sns\n",
    "from sklearn.metrics import r2_score, mean_squared_error\n",
    "from sklearn.linear_model import LinearRegression"
   ]
  },
  {
   "cell_type": "code",
   "execution_count": 2,
   "metadata": {},
   "outputs": [],
   "source": [
    "df = pd.read_csv('/datasets/insurance.csv')"
   ]
  },
  {
   "cell_type": "code",
   "execution_count": 3,
   "metadata": {},
   "outputs": [
    {
     "name": "stdout",
     "output_type": "stream",
     "text": [
      "<class 'pandas.core.frame.DataFrame'>\n",
      "RangeIndex: 5000 entries, 0 to 4999\n",
      "Data columns (total 5 columns):\n",
      " #   Column             Non-Null Count  Dtype  \n",
      "---  ------             --------------  -----  \n",
      " 0   Пол                5000 non-null   int64  \n",
      " 1   Возраст            5000 non-null   float64\n",
      " 2   Зарплата           5000 non-null   float64\n",
      " 3   Члены семьи        5000 non-null   int64  \n",
      " 4   Страховые выплаты  5000 non-null   int64  \n",
      "dtypes: float64(2), int64(3)\n",
      "memory usage: 195.4 KB\n",
      "None\n",
      "----------------------------------------------------------------------------------------------------\n",
      "ПРОПУСКИ\n",
      "Пол                  0\n",
      "Возраст              0\n",
      "Зарплата             0\n",
      "Члены семьи          0\n",
      "Страховые выплаты    0\n",
      "dtype: int64\n",
      "----------------------------------------------------------------------------------------------------\n",
      "ДУБЛИКАТЫ 153\n",
      "----------------------------------------------------------------------------------------------------\n"
     ]
    }
   ],
   "source": [
    "print(df.info())\n",
    "print('-' * 100)\n",
    "\n",
    "print('ПРОПУСКИ')\n",
    "print(df.isna().sum())\n",
    "print('-' * 100)\n",
    "      \n",
    "print('ДУБЛИКАТЫ', df.duplicated().sum())\n",
    "print('-' * 100)"
   ]
  },
  {
   "cell_type": "code",
   "execution_count": 4,
   "metadata": {},
   "outputs": [
    {
     "data": {
      "text/html": [
       "<div>\n",
       "<style scoped>\n",
       "    .dataframe tbody tr th:only-of-type {\n",
       "        vertical-align: middle;\n",
       "    }\n",
       "\n",
       "    .dataframe tbody tr th {\n",
       "        vertical-align: top;\n",
       "    }\n",
       "\n",
       "    .dataframe thead th {\n",
       "        text-align: right;\n",
       "    }\n",
       "</style>\n",
       "<table border=\"1\" class=\"dataframe\">\n",
       "  <thead>\n",
       "    <tr style=\"text-align: right;\">\n",
       "      <th></th>\n",
       "      <th>Пол</th>\n",
       "      <th>Возраст</th>\n",
       "      <th>Зарплата</th>\n",
       "      <th>Члены семьи</th>\n",
       "      <th>Страховые выплаты</th>\n",
       "    </tr>\n",
       "  </thead>\n",
       "  <tbody>\n",
       "    <tr>\n",
       "      <th>0</th>\n",
       "      <td>1</td>\n",
       "      <td>41.0</td>\n",
       "      <td>49600.0</td>\n",
       "      <td>1</td>\n",
       "      <td>0</td>\n",
       "    </tr>\n",
       "    <tr>\n",
       "      <th>1</th>\n",
       "      <td>0</td>\n",
       "      <td>46.0</td>\n",
       "      <td>38000.0</td>\n",
       "      <td>1</td>\n",
       "      <td>1</td>\n",
       "    </tr>\n",
       "    <tr>\n",
       "      <th>2</th>\n",
       "      <td>0</td>\n",
       "      <td>29.0</td>\n",
       "      <td>21000.0</td>\n",
       "      <td>0</td>\n",
       "      <td>0</td>\n",
       "    </tr>\n",
       "    <tr>\n",
       "      <th>3</th>\n",
       "      <td>0</td>\n",
       "      <td>21.0</td>\n",
       "      <td>41700.0</td>\n",
       "      <td>2</td>\n",
       "      <td>0</td>\n",
       "    </tr>\n",
       "    <tr>\n",
       "      <th>4</th>\n",
       "      <td>1</td>\n",
       "      <td>28.0</td>\n",
       "      <td>26100.0</td>\n",
       "      <td>0</td>\n",
       "      <td>0</td>\n",
       "    </tr>\n",
       "  </tbody>\n",
       "</table>\n",
       "</div>"
      ],
      "text/plain": [
       "   Пол  Возраст  Зарплата  Члены семьи  Страховые выплаты\n",
       "0    1     41.0   49600.0            1                  0\n",
       "1    0     46.0   38000.0            1                  1\n",
       "2    0     29.0   21000.0            0                  0\n",
       "3    0     21.0   41700.0            2                  0\n",
       "4    1     28.0   26100.0            0                  0"
      ]
     },
     "execution_count": 4,
     "metadata": {},
     "output_type": "execute_result"
    }
   ],
   "source": [
    "df.head(5)"
   ]
  },
  {
   "cell_type": "code",
   "execution_count": 5,
   "metadata": {},
   "outputs": [
    {
     "name": "stdout",
     "output_type": "stream",
     "text": [
      "ДУБЛИКАТЫ 0\n",
      "----------------------------------------------------------------------------------------------------\n"
     ]
    }
   ],
   "source": [
    "#удалим дубликаты\n",
    "df_duplicated = df[df.duplicated()].head(20)\n",
    "df = df.drop_duplicates(keep='first').reset_index(drop=True)\n",
    "print('ДУБЛИКАТЫ', df.duplicated().sum())\n",
    "print('-' * 100)"
   ]
  },
  {
   "cell_type": "code",
   "execution_count": 6,
   "metadata": {},
   "outputs": [],
   "source": [
    "#измениние типа данных у колонки 'Пол'\n",
    "#df['Пол'] = df['Пол'].astype('bool')"
   ]
  },
  {
   "cell_type": "code",
   "execution_count": 7,
   "metadata": {},
   "outputs": [
    {
     "data": {
      "text/html": [
       "<div>\n",
       "<style scoped>\n",
       "    .dataframe tbody tr th:only-of-type {\n",
       "        vertical-align: middle;\n",
       "    }\n",
       "\n",
       "    .dataframe tbody tr th {\n",
       "        vertical-align: top;\n",
       "    }\n",
       "\n",
       "    .dataframe thead th {\n",
       "        text-align: right;\n",
       "    }\n",
       "</style>\n",
       "<table border=\"1\" class=\"dataframe\">\n",
       "  <thead>\n",
       "    <tr style=\"text-align: right;\">\n",
       "      <th></th>\n",
       "      <th>Пол</th>\n",
       "      <th>Возраст</th>\n",
       "      <th>Зарплата</th>\n",
       "      <th>Члены семьи</th>\n",
       "      <th>Страховые выплаты</th>\n",
       "    </tr>\n",
       "  </thead>\n",
       "  <tbody>\n",
       "    <tr>\n",
       "      <th>count</th>\n",
       "      <td>4847.000000</td>\n",
       "      <td>4847.000000</td>\n",
       "      <td>4847.000000</td>\n",
       "      <td>4847.000000</td>\n",
       "      <td>4847.000000</td>\n",
       "    </tr>\n",
       "    <tr>\n",
       "      <th>mean</th>\n",
       "      <td>0.498453</td>\n",
       "      <td>31.023932</td>\n",
       "      <td>39895.811842</td>\n",
       "      <td>1.203425</td>\n",
       "      <td>0.152259</td>\n",
       "    </tr>\n",
       "    <tr>\n",
       "      <th>std</th>\n",
       "      <td>0.500049</td>\n",
       "      <td>8.487995</td>\n",
       "      <td>9972.953985</td>\n",
       "      <td>1.098664</td>\n",
       "      <td>0.468934</td>\n",
       "    </tr>\n",
       "    <tr>\n",
       "      <th>min</th>\n",
       "      <td>0.000000</td>\n",
       "      <td>18.000000</td>\n",
       "      <td>5300.000000</td>\n",
       "      <td>0.000000</td>\n",
       "      <td>0.000000</td>\n",
       "    </tr>\n",
       "    <tr>\n",
       "      <th>25%</th>\n",
       "      <td>0.000000</td>\n",
       "      <td>24.000000</td>\n",
       "      <td>33200.000000</td>\n",
       "      <td>0.000000</td>\n",
       "      <td>0.000000</td>\n",
       "    </tr>\n",
       "    <tr>\n",
       "      <th>50%</th>\n",
       "      <td>0.000000</td>\n",
       "      <td>30.000000</td>\n",
       "      <td>40200.000000</td>\n",
       "      <td>1.000000</td>\n",
       "      <td>0.000000</td>\n",
       "    </tr>\n",
       "    <tr>\n",
       "      <th>75%</th>\n",
       "      <td>1.000000</td>\n",
       "      <td>37.000000</td>\n",
       "      <td>46600.000000</td>\n",
       "      <td>2.000000</td>\n",
       "      <td>0.000000</td>\n",
       "    </tr>\n",
       "    <tr>\n",
       "      <th>max</th>\n",
       "      <td>1.000000</td>\n",
       "      <td>65.000000</td>\n",
       "      <td>79000.000000</td>\n",
       "      <td>6.000000</td>\n",
       "      <td>5.000000</td>\n",
       "    </tr>\n",
       "  </tbody>\n",
       "</table>\n",
       "</div>"
      ],
      "text/plain": [
       "               Пол      Возраст      Зарплата  Члены семьи  Страховые выплаты\n",
       "count  4847.000000  4847.000000   4847.000000  4847.000000        4847.000000\n",
       "mean      0.498453    31.023932  39895.811842     1.203425           0.152259\n",
       "std       0.500049     8.487995   9972.953985     1.098664           0.468934\n",
       "min       0.000000    18.000000   5300.000000     0.000000           0.000000\n",
       "25%       0.000000    24.000000  33200.000000     0.000000           0.000000\n",
       "50%       0.000000    30.000000  40200.000000     1.000000           0.000000\n",
       "75%       1.000000    37.000000  46600.000000     2.000000           0.000000\n",
       "max       1.000000    65.000000  79000.000000     6.000000           5.000000"
      ]
     },
     "execution_count": 7,
     "metadata": {},
     "output_type": "execute_result"
    }
   ],
   "source": [
    "df.describe()"
   ]
  },
  {
   "cell_type": "code",
   "execution_count": 8,
   "metadata": {},
   "outputs": [
    {
     "data": {
      "text/plain": [
       "<AxesSubplot:>"
      ]
     },
     "execution_count": 8,
     "metadata": {},
     "output_type": "execute_result"
    },
    {
     "data": {
      "image/png": "[encoded data removed]",
      "text/plain": [
       "<Figure size 432x288 with 1 Axes>"
      ]
     },
     "metadata": {
      "needs_background": "light"
     },
     "output_type": "display_data"
    }
   ],
   "source": [
    "sns.boxplot(data=df['Зарплата'], orient=\"h\")"
   ]
  },
  {
   "cell_type": "code",
   "execution_count": 9,
   "metadata": {},
   "outputs": [
    {
     "data": {
      "text/plain": [
       "<AxesSubplot:>"
      ]
     },
     "execution_count": 9,
     "metadata": {},
     "output_type": "execute_result"
    },
    {
     "data": {
      "image/png": "[encoded data removed]",
      "text/plain": [
       "<Figure size 432x288 with 1 Axes>"
      ]
     },
     "metadata": {
      "needs_background": "light"
     },
     "output_type": "display_data"
    }
   ],
   "source": [
    "plt.xlim(70000, 80000)\n",
    "sns.boxplot(data=df['Зарплата'], orient=\"h\")"
   ]
  },
  {
   "cell_type": "markdown",
   "metadata": {},
   "source": [
    "Все значения реальные, выбросы хоть и есть но в 'Зарплата' редкие выбросы в промежутке 10000, что думаю реально, удалять надобности нет, не слишком огромный выброс. В остальных колонках все ок. Данные готовы к работе. "
   ]
  },
  {
   "cell_type": "markdown",
   "metadata": {},
   "source": [
    "## Умножение матриц"
   ]
  },
  {
   "cell_type": "markdown",
   "metadata": {},
   "source": [
    "В этом задании вы можете записывать формулы в *Jupyter Notebook.*\n",
    "\n",
    "Чтобы записать формулу внутри текста, окружите её символами доллара \\\\$; если снаружи —  двойными символами \\\\$\\\\$. Эти формулы записываются на языке вёрстки *LaTeX.* \n",
    "\n",
    "Для примера мы записали формулы линейной регрессии. Можете их скопировать и отредактировать, чтобы решить задачу.\n",
    "\n",
    "Работать в *LaTeX* необязательно."
   ]
  },
  {
   "cell_type": "markdown",
   "metadata": {},
   "source": [
    "Обозначения:\n",
    "\n",
    "- $X$ — матрица признаков (нулевой столбец состоит из единиц)\n",
    "\n",
    "- $y$ — вектор целевого признака\n",
    "\n",
    "- $P$ — матрица, на которую умножаются признаки\n",
    "\n",
    "- $w$ — вектор весов линейной регрессии (нулевой элемент равен сдвигу)"
   ]
  },
  {
   "cell_type": "markdown",
   "metadata": {},
   "source": [
    "Предсказания:\n",
    "\n",
    "$$\n",
    "a = Xw\n",
    "$$\n",
    "\n",
    "Задача обучения:\n",
    "\n",
    "$$\n",
    "w = \\arg\\min_w MSE(Xw, y)\n",
    "$$\n",
    "\n",
    "Формула обучения:\n",
    "\n",
    "$$\n",
    "w = (X^T X)^{-1} X^T y\n",
    "$$"
   ]
  },
  {
   "cell_type": "markdown",
   "metadata": {},
   "source": [
    "Признаки умножают на обратимую матрицу. Изменится ли качество линейной регрессии? (Её можно обучить заново.)"
   ]
  },
  {
   "attachments": {
    "image-5.png": {
     "image/png": "[encoded data removed]"
    }
   },
   "cell_type": "markdown",
   "metadata": {},
   "source": [
    "**Ответ:** не изменится\n",
    "\n",
    "**Обоснование:** ![image-5.png](attachment:image-5.png)"
   ]
  },
  {
   "attachments": {
    "image-4.png": {
     "image/png": "[encoded data removed]"
    }
   },
   "cell_type": "markdown",
   "metadata": {},
   "source": [
    "Получается даже если мы умножин на какую либо обратимую матрицу наши признаки значение предсказаний не изменятся. \n",
    "![image-4.png](attachment:image-4.png)"
   ]
  },
  {
   "cell_type": "markdown",
   "metadata": {},
   "source": [
    "Поменяла местами посути ... "
   ]
  },
  {
   "cell_type": "markdown",
   "metadata": {},
   "source": [
    "## Алгоритм преобразования"
   ]
  },
  {
   "cell_type": "markdown",
   "metadata": {},
   "source": [
    "Предложите алгоритм преобразования данных для решения задачи. Обоснуйте, почему качество линейной регрессии не поменяется."
   ]
  },
  {
   "cell_type": "markdown",
   "metadata": {},
   "source": [
    "**Алгоритм**\n",
    "\n",
    "\n",
    "Умножим матрицу признаков на обратимую матрицу, в которой все величины сгенерированы случайно."
   ]
  },
  {
   "cell_type": "markdown",
   "metadata": {},
   "source": [
    "**Обоснование**"
   ]
  },
  {
   "cell_type": "code",
   "execution_count": 10,
   "metadata": {},
   "outputs": [],
   "source": [
    "features = df.drop(['Страховые выплаты'], axis=1)  #X\n",
    "target = df['Страховые выплаты']        #y"
   ]
  },
  {
   "cell_type": "code",
   "execution_count": 11,
   "metadata": {},
   "outputs": [
    {
     "name": "stdout",
     "output_type": "stream",
     "text": [
      "существует: [[  5.86713762  -5.36589208 -12.28053975  -1.3322169 ]\n",
      " [ -0.59377505   0.01678359   0.77236056   1.067708  ]\n",
      " [  0.38645918  -0.83326115  -2.7916168   -0.09629969]\n",
      " [ -0.87042158   0.10597306   1.37400787  -0.98867538]]\n"
     ]
    }
   ],
   "source": [
    "#создадим обратимую матрицу\n",
    "P = np.random.randn(features.shape[1], features.shape[1])\n",
    "#существование обратной матрицы\n",
    "try:\n",
    "    print('существует:', np.linalg.inv(P))\n",
    "except:\n",
    "    print('обратная матриа не существует')"
   ]
  },
  {
   "cell_type": "markdown",
   "metadata": {},
   "source": [
    "Формула обучения:\n",
    "\n",
    "$$\n",
    "w = (X^T X)^{-1} X^T y\n",
    "$$\n",
    "\n",
    "Предсказания:\n",
    "\n",
    "$$\n",
    "a = Xw\n",
    "$$\n"
   ]
  },
  {
   "cell_type": "code",
   "execution_count": 12,
   "metadata": {},
   "outputs": [
    {
     "data": {
      "text/plain": [
       "array([ 0.51932881,  0.69230097,  0.09412742, ..., -0.26164511,\n",
       "       -0.19394186,  0.05044763])"
      ]
     },
     "execution_count": 12,
     "metadata": {},
     "output_type": "execute_result"
    }
   ],
   "source": [
    "features_1 = np.concatenate((np.ones((features.shape[0], 1)), features), axis=1)\n",
    "w = np.linalg.inv(features_1.T.dot(features_1)).dot(features_1.T).dot(target)\n",
    "a = features_1 @ w\n",
    "mean_squared_error(target, a)\n",
    "a"
   ]
  },
  {
   "cell_type": "code",
   "execution_count": 13,
   "metadata": {},
   "outputs": [
    {
     "data": {
      "text/plain": [
       "array([ 0.51932879,  0.69230096,  0.09412742, ..., -0.26164512,\n",
       "       -0.19394188,  0.05044761])"
      ]
     },
     "execution_count": 13,
     "metadata": {},
     "output_type": "execute_result"
    }
   ],
   "source": [
    "features_P = features @ P \n",
    "features_P_1 = np.concatenate((np.ones((features_P.shape[0], 1)), features_P), axis=1)\n",
    "w_P = np.linalg.inv(features_P_1.T.dot(features_P_1)).dot(features_P_1.T).dot(target)\n",
    "a_P = features_P_1 @ w_P\n",
    "mean_squared_error(target, a_P)\n",
    "a_P"
   ]
  },
  {
   "cell_type": "code",
   "execution_count": 14,
   "metadata": {},
   "outputs": [
    {
     "data": {
      "text/plain": [
       "array([-1.56963393e-08, -3.17545790e-09,  8.08643430e-11, ...,\n",
       "       -5.54298135e-09, -1.61093234e-08, -1.49008244e-08])"
      ]
     },
     "execution_count": 14,
     "metadata": {},
     "output_type": "execute_result"
    }
   ],
   "source": [
    "#погрешность\n",
    "a_P - a"
   ]
  },
  {
   "cell_type": "markdown",
   "metadata": {},
   "source": [
    "**Обоснование**\n"
   ]
  },
  {
   "cell_type": "markdown",
   "metadata": {},
   "source": [
    " Предсказания совпали. качество метрик не поменялось, пгршность совсем маленькая."
   ]
  },
  {
   "cell_type": "markdown",
   "metadata": {},
   "source": [
    "## Проверка алгоритма"
   ]
  },
  {
   "cell_type": "markdown",
   "metadata": {},
   "source": [
    "Rачество линейной регрессии из sklearn не отличается до и после преобразования. Метрика r2=0.43"
   ]
  },
  {
   "cell_type": "code",
   "execution_count": 15,
   "metadata": {},
   "outputs": [
    {
     "name": "stdout",
     "output_type": "stream",
     "text": [
      "mse_1 0.12527263826681606\n",
      "r2_1 0.4302010044852066\n"
     ]
    }
   ],
   "source": [
    "#2 способ\n",
    "model_1 = LinearRegression()\n",
    "model_1.fit(features, target)\n",
    "predict_1 = model_1.predict(features)\n",
    "mse_1 = mean_squared_error(target, predict_1)\n",
    "r2_1 = r2_score(target, predict_1)\n",
    "print('mse_1', mse_1)\n",
    "print('r2_1', r2_1)"
   ]
  },
  {
   "cell_type": "code",
   "execution_count": 16,
   "metadata": {},
   "outputs": [
    {
     "name": "stdout",
     "output_type": "stream",
     "text": [
      "mse_1 0.1252726382668163\n",
      "r2_1 0.4302010044852054\n"
     ]
    }
   ],
   "source": [
    "model_1_P = LinearRegression()\n",
    "model_1_P.fit(features_P, target)\n",
    "predict_1_P = model_1_P.predict(features_P)\n",
    "mse_1_P = mean_squared_error(target, predict_1_P)\n",
    "r2_1_P = r2_score(target, predict_1_P)\n",
    "print('mse_1', mse_1_P)\n",
    "print('r2_1', r2_1_P)"
   ]
  },
  {
   "cell_type": "markdown",
   "metadata": {},
   "source": [
    "2 вариантам так же метрики одинаковые, но посути это одно и тоже что и первый вариант, там мы просто создавали внутри класса линейную регрессию библиотекой sklearn "
   ]
  },
  {
   "cell_type": "code",
   "execution_count": 17,
   "metadata": {},
   "outputs": [],
   "source": [
    "#3 способ\n",
    "class Linear_Regression_2:\n",
    "    def fit(self, features, target):\n",
    "        X = np.concatenate((np.ones((features.shape[0], 1)), features), axis=1)\n",
    "        y = target\n",
    "        w = (np.linalg.inv(X.T.dot(X)) @ X.T) @ y\n",
    "        self.w = w[1:]\n",
    "        self.w0 = w[0]\n",
    "\n",
    "    def predict(self, features):\n",
    "        return features.dot(self.w) + self.w0\n",
    "    "
   ]
  },
  {
   "cell_type": "code",
   "execution_count": 18,
   "metadata": {},
   "outputs": [
    {
     "name": "stdout",
     "output_type": "stream",
     "text": [
      "mse 0.125272638266816\n",
      "r2 0.4302010044852068\n"
     ]
    }
   ],
   "source": [
    "model_2 = Linear_Regression_2()\n",
    "model_2.fit(features, target)\n",
    "predict_2 = model_2.predict(features)\n",
    "mse_2 = mean_squared_error(target, predict_2)\n",
    "r2_2 = r2_score(target, predict_2)\n",
    "print('mse', mse_2)\n",
    "print('r2', r2_2)"
   ]
  },
  {
   "cell_type": "code",
   "execution_count": 19,
   "metadata": {},
   "outputs": [
    {
     "name": "stdout",
     "output_type": "stream",
     "text": [
      "mse 0.12527263826681626\n",
      "r2 0.4302010044852057\n"
     ]
    }
   ],
   "source": [
    "model_2_P = Linear_Regression_2()\n",
    "model_2_P.fit(features_P, target)\n",
    "predict_2_P = model_2_P.predict(features_P)\n",
    "mse_2_P = mean_squared_error(target, predict_2_P)\n",
    "r2_2_P = r2_score(target, predict_2_P)\n",
    "print('mse', mse_2_P)\n",
    "print('r2', r2_2_P)"
   ]
  },
  {
   "cell_type": "markdown",
   "metadata": {},
   "source": [
    "## Чек-лист проверки"
   ]
  },
  {
   "cell_type": "markdown",
   "metadata": {},
   "source": [
    "- [x]  Jupyter Notebook открыт\n",
    "- [ ]  Весь код выполняется без ошибок\n",
    "- [ ]  Ячейки с кодом расположены в порядке исполнения\n",
    "- [ ]  Выполнен шаг 1: данные загружены\n",
    "- [ ]  Выполнен шаг 2: получен ответ на вопрос об умножении матриц\n",
    "    - [ ]  Указан правильный вариант ответа\n",
    "    - [ ]  Вариант обоснован\n",
    "- [ ]  Выполнен шаг 3: предложен алгоритм преобразования\n",
    "    - [ ]  Алгоритм описан\n",
    "    - [ ]  Алгоритм обоснован\n",
    "- [ ]  Выполнен шаг 4: алгоритм проверен\n",
    "    - [ ]  Алгоритм реализован\n",
    "    - [ ]  Проведено сравнение качества моделей до и после преобразования"
   ]
  }
 ],
 "metadata": {
  "ExecuteTimeLog": [
   {
    "duration": 54,
    "start_time": "2023-03-09T18:28:06.782Z"
   },
   {
    "duration": 490,
    "start_time": "2023-03-09T18:28:34.561Z"
   },
   {
    "duration": 159,
    "start_time": "2023-03-09T18:28:36.746Z"
   },
   {
    "duration": 29,
    "start_time": "2023-03-09T18:28:38.367Z"
   },
   {
    "duration": 22,
    "start_time": "2023-03-09T18:31:11.620Z"
   },
   {
    "duration": 30,
    "start_time": "2023-03-09T18:32:47.373Z"
   },
   {
    "duration": 996,
    "start_time": "2023-03-09T18:34:24.982Z"
   },
   {
    "duration": 20,
    "start_time": "2023-03-09T18:34:38.689Z"
   },
   {
    "duration": 19,
    "start_time": "2023-03-09T18:34:51.066Z"
   },
   {
    "duration": 6,
    "start_time": "2023-03-09T18:35:32.472Z"
   },
   {
    "duration": 26,
    "start_time": "2023-03-09T18:35:36.860Z"
   },
   {
    "duration": 22,
    "start_time": "2023-03-09T18:36:10.666Z"
   },
   {
    "duration": 21,
    "start_time": "2023-03-09T18:36:46.116Z"
   },
   {
    "duration": 18,
    "start_time": "2023-03-09T18:38:11.856Z"
   },
   {
    "duration": 22,
    "start_time": "2023-03-09T18:39:04.902Z"
   },
   {
    "duration": 21,
    "start_time": "2023-03-09T18:40:01.360Z"
   },
   {
    "duration": 27,
    "start_time": "2023-03-09T18:40:48.046Z"
   },
   {
    "duration": 14,
    "start_time": "2023-03-09T18:41:06.360Z"
   },
   {
    "duration": 15,
    "start_time": "2023-03-09T18:41:34.125Z"
   },
   {
    "duration": 12,
    "start_time": "2023-03-09T18:42:20.679Z"
   },
   {
    "duration": 29,
    "start_time": "2023-03-09T18:42:27.280Z"
   },
   {
    "duration": 4,
    "start_time": "2023-03-09T18:46:56.108Z"
   },
   {
    "duration": 33,
    "start_time": "2023-03-09T18:47:00.347Z"
   },
   {
    "duration": 32,
    "start_time": "2023-03-09T18:47:06.752Z"
   },
   {
    "duration": 532,
    "start_time": "2023-03-09T18:48:03.779Z"
   },
   {
    "duration": 17,
    "start_time": "2023-03-09T18:48:41.383Z"
   },
   {
    "duration": 8,
    "start_time": "2023-03-09T18:48:51.014Z"
   },
   {
    "duration": 19,
    "start_time": "2023-03-09T18:49:57.046Z"
   },
   {
    "duration": 514,
    "start_time": "2023-03-09T18:50:38.055Z"
   },
   {
    "duration": 38,
    "start_time": "2023-03-09T18:50:43.391Z"
   },
   {
    "duration": 207,
    "start_time": "2023-03-09T18:51:05.110Z"
   },
   {
    "duration": 135,
    "start_time": "2023-03-09T18:51:35.951Z"
   },
   {
    "duration": 26,
    "start_time": "2023-03-09T18:52:00.721Z"
   },
   {
    "duration": 158,
    "start_time": "2023-03-09T18:52:59.684Z"
   },
   {
    "duration": 130,
    "start_time": "2023-03-09T18:53:19.207Z"
   },
   {
    "duration": 94,
    "start_time": "2023-03-09T18:54:28.893Z"
   },
   {
    "duration": 114,
    "start_time": "2023-03-09T18:54:58.284Z"
   },
   {
    "duration": 109,
    "start_time": "2023-03-09T18:55:05.209Z"
   },
   {
    "duration": 162,
    "start_time": "2023-03-09T18:55:12.586Z"
   },
   {
    "duration": 93,
    "start_time": "2023-03-09T18:55:38.581Z"
   },
   {
    "duration": 110,
    "start_time": "2023-03-09T18:55:41.495Z"
   },
   {
    "duration": 101,
    "start_time": "2023-03-09T18:57:43.696Z"
   },
   {
    "duration": 18,
    "start_time": "2023-03-09T18:59:42.458Z"
   },
   {
    "duration": 27,
    "start_time": "2023-03-09T18:59:43.000Z"
   },
   {
    "duration": 17,
    "start_time": "2023-03-09T18:59:43.378Z"
   },
   {
    "duration": 22,
    "start_time": "2023-03-09T18:59:43.859Z"
   },
   {
    "duration": 17,
    "start_time": "2023-03-09T18:59:44.350Z"
   },
   {
    "duration": 3,
    "start_time": "2023-03-09T18:59:44.824Z"
   },
   {
    "duration": 28,
    "start_time": "2023-03-09T18:59:45.357Z"
   },
   {
    "duration": 125,
    "start_time": "2023-03-09T18:59:45.925Z"
   },
   {
    "duration": 107,
    "start_time": "2023-03-09T18:59:46.559Z"
   },
   {
    "duration": 56,
    "start_time": "2023-03-10T12:27:36.960Z"
   },
   {
    "duration": 6,
    "start_time": "2023-03-10T12:27:45.374Z"
   },
   {
    "duration": 1518,
    "start_time": "2023-03-10T12:27:49.821Z"
   },
   {
    "duration": 83,
    "start_time": "2023-03-10T12:27:51.342Z"
   },
   {
    "duration": 16,
    "start_time": "2023-03-10T12:27:51.427Z"
   },
   {
    "duration": 20,
    "start_time": "2023-03-10T12:27:51.444Z"
   },
   {
    "duration": 32,
    "start_time": "2023-03-10T12:27:51.465Z"
   },
   {
    "duration": 9,
    "start_time": "2023-03-10T12:27:51.499Z"
   },
   {
    "duration": 20,
    "start_time": "2023-03-10T12:27:51.509Z"
   },
   {
    "duration": 98,
    "start_time": "2023-03-10T12:27:51.530Z"
   },
   {
    "duration": 118,
    "start_time": "2023-03-10T12:27:51.629Z"
   },
   {
    "duration": 4,
    "start_time": "2023-03-10T12:27:53.830Z"
   },
   {
    "duration": 5,
    "start_time": "2023-03-10T12:45:20.139Z"
   },
   {
    "duration": 4,
    "start_time": "2023-03-10T12:45:46.661Z"
   },
   {
    "duration": 63,
    "start_time": "2023-03-10T12:46:39.495Z"
   },
   {
    "duration": 10,
    "start_time": "2023-03-10T12:46:50.470Z"
   },
   {
    "duration": 4,
    "start_time": "2023-03-10T12:48:35.596Z"
   },
   {
    "duration": 3,
    "start_time": "2023-03-10T12:48:44.395Z"
   },
   {
    "duration": 4,
    "start_time": "2023-03-10T12:48:49.379Z"
   },
   {
    "duration": 4,
    "start_time": "2023-03-10T12:49:17.541Z"
   },
   {
    "duration": 3,
    "start_time": "2023-03-10T12:49:24.664Z"
   },
   {
    "duration": 5,
    "start_time": "2023-03-10T12:49:30.095Z"
   },
   {
    "duration": 263,
    "start_time": "2023-03-10T12:52:05.959Z"
   },
   {
    "duration": 3,
    "start_time": "2023-03-10T12:52:59.567Z"
   },
   {
    "duration": 232,
    "start_time": "2023-03-10T12:53:08.953Z"
   },
   {
    "duration": 286,
    "start_time": "2023-03-10T12:53:55.554Z"
   },
   {
    "duration": 3,
    "start_time": "2023-03-10T12:55:44.122Z"
   },
   {
    "duration": 35,
    "start_time": "2023-03-10T12:55:44.474Z"
   },
   {
    "duration": 19,
    "start_time": "2023-03-10T12:55:44.793Z"
   },
   {
    "duration": 8,
    "start_time": "2023-03-10T12:55:45.299Z"
   },
   {
    "duration": 8,
    "start_time": "2023-03-10T12:55:45.768Z"
   },
   {
    "duration": 3,
    "start_time": "2023-03-10T12:55:46.829Z"
   },
   {
    "duration": 25,
    "start_time": "2023-03-10T12:55:47.573Z"
   },
   {
    "duration": 84,
    "start_time": "2023-03-10T12:55:48.623Z"
   },
   {
    "duration": 97,
    "start_time": "2023-03-10T12:55:52.192Z"
   },
   {
    "duration": 4,
    "start_time": "2023-03-10T12:56:09.629Z"
   },
   {
    "duration": 5,
    "start_time": "2023-03-10T12:56:12.672Z"
   },
   {
    "duration": 6,
    "start_time": "2023-03-10T12:56:15.679Z"
   },
   {
    "duration": 8,
    "start_time": "2023-03-10T12:56:22.032Z"
   },
   {
    "duration": 13,
    "start_time": "2023-03-10T12:56:25.412Z"
   },
   {
    "duration": 86,
    "start_time": "2023-03-10T12:57:56.500Z"
   },
   {
    "duration": 4,
    "start_time": "2023-03-10T13:01:11.463Z"
   },
   {
    "duration": 88,
    "start_time": "2023-03-10T13:01:13.295Z"
   },
   {
    "duration": 4,
    "start_time": "2023-03-10T13:01:20.526Z"
   },
   {
    "duration": 82,
    "start_time": "2023-03-10T13:01:22.907Z"
   },
   {
    "duration": 14,
    "start_time": "2023-03-10T13:01:27.200Z"
   },
   {
    "duration": 15,
    "start_time": "2023-03-10T13:01:58.017Z"
   },
   {
    "duration": 9,
    "start_time": "2023-03-10T13:02:29.829Z"
   },
   {
    "duration": 10,
    "start_time": "2023-03-10T13:03:39.606Z"
   },
   {
    "duration": 5,
    "start_time": "2023-03-10T13:08:12.512Z"
   },
   {
    "duration": 4,
    "start_time": "2023-03-10T13:08:14.452Z"
   },
   {
    "duration": 4,
    "start_time": "2023-03-10T13:08:43.469Z"
   },
   {
    "duration": 2,
    "start_time": "2023-03-10T13:08:53.451Z"
   },
   {
    "duration": 6,
    "start_time": "2023-03-10T13:09:58.957Z"
   },
   {
    "duration": 2,
    "start_time": "2023-03-10T13:10:06.346Z"
   },
   {
    "duration": 27,
    "start_time": "2023-03-10T13:10:06.537Z"
   },
   {
    "duration": 13,
    "start_time": "2023-03-10T13:10:06.713Z"
   },
   {
    "duration": 8,
    "start_time": "2023-03-10T13:10:06.893Z"
   },
   {
    "duration": 17,
    "start_time": "2023-03-10T13:10:07.068Z"
   },
   {
    "duration": 2,
    "start_time": "2023-03-10T13:10:07.242Z"
   },
   {
    "duration": 20,
    "start_time": "2023-03-10T13:10:07.404Z"
   },
   {
    "duration": 96,
    "start_time": "2023-03-10T13:10:07.597Z"
   },
   {
    "duration": 73,
    "start_time": "2023-03-10T13:10:07.791Z"
   },
   {
    "duration": 5,
    "start_time": "2023-03-10T13:10:10.094Z"
   },
   {
    "duration": 4,
    "start_time": "2023-03-10T13:10:10.301Z"
   },
   {
    "duration": 5,
    "start_time": "2023-03-10T13:10:10.849Z"
   },
   {
    "duration": 8,
    "start_time": "2023-03-10T13:10:11.691Z"
   },
   {
    "duration": 5,
    "start_time": "2023-03-10T13:11:22.860Z"
   },
   {
    "duration": 9,
    "start_time": "2023-03-10T13:11:23.606Z"
   },
   {
    "duration": 445,
    "start_time": "2023-03-10T13:15:49.047Z"
   },
   {
    "duration": 3,
    "start_time": "2023-03-10T13:17:54.256Z"
   },
   {
    "duration": 27,
    "start_time": "2023-03-10T13:17:54.722Z"
   },
   {
    "duration": 14,
    "start_time": "2023-03-10T13:17:54.916Z"
   },
   {
    "duration": 7,
    "start_time": "2023-03-10T13:17:55.095Z"
   },
   {
    "duration": 9,
    "start_time": "2023-03-10T13:17:55.251Z"
   },
   {
    "duration": 2,
    "start_time": "2023-03-10T13:17:55.441Z"
   },
   {
    "duration": 22,
    "start_time": "2023-03-10T13:17:55.544Z"
   },
   {
    "duration": 88,
    "start_time": "2023-03-10T13:17:55.719Z"
   },
   {
    "duration": 71,
    "start_time": "2023-03-10T13:17:55.896Z"
   },
   {
    "duration": 4,
    "start_time": "2023-03-10T13:17:57.899Z"
   },
   {
    "duration": 10,
    "start_time": "2023-03-10T13:17:58.091Z"
   },
   {
    "duration": 13,
    "start_time": "2023-03-10T13:17:58.404Z"
   },
   {
    "duration": 7,
    "start_time": "2023-03-10T13:17:58.595Z"
   },
   {
    "duration": 36,
    "start_time": "2023-03-10T13:21:34.549Z"
   },
   {
    "duration": 10,
    "start_time": "2023-03-10T13:22:25.064Z"
   },
   {
    "duration": 7,
    "start_time": "2023-03-10T13:23:39.867Z"
   },
   {
    "duration": 12,
    "start_time": "2023-03-10T13:25:28.993Z"
   },
   {
    "duration": 12,
    "start_time": "2023-03-10T13:25:51.411Z"
   },
   {
    "duration": 14,
    "start_time": "2023-03-10T13:26:08.365Z"
   },
   {
    "duration": 12,
    "start_time": "2023-03-10T13:27:22.285Z"
   },
   {
    "duration": 15,
    "start_time": "2023-03-10T13:29:04.094Z"
   },
   {
    "duration": 7,
    "start_time": "2023-03-10T13:50:46.531Z"
   },
   {
    "duration": 8,
    "start_time": "2023-03-10T13:51:38.216Z"
   },
   {
    "duration": 8,
    "start_time": "2023-03-10T13:51:39.468Z"
   },
   {
    "duration": 6,
    "start_time": "2023-03-10T13:53:01.385Z"
   },
   {
    "duration": 5,
    "start_time": "2023-03-10T13:54:32.754Z"
   },
   {
    "duration": 8,
    "start_time": "2023-03-10T13:58:14.535Z"
   },
   {
    "duration": 6,
    "start_time": "2023-03-10T14:00:34.747Z"
   },
   {
    "duration": 13,
    "start_time": "2023-03-10T14:00:51.825Z"
   },
   {
    "duration": 1522,
    "start_time": "2023-03-10T19:32:43.125Z"
   },
   {
    "duration": 79,
    "start_time": "2023-03-10T19:32:44.649Z"
   },
   {
    "duration": 16,
    "start_time": "2023-03-10T19:32:44.730Z"
   },
   {
    "duration": 14,
    "start_time": "2023-03-10T19:32:44.749Z"
   },
   {
    "duration": 9,
    "start_time": "2023-03-10T19:32:44.764Z"
   },
   {
    "duration": 2,
    "start_time": "2023-03-10T19:32:44.775Z"
   },
   {
    "duration": 30,
    "start_time": "2023-03-10T19:32:44.779Z"
   },
   {
    "duration": 117,
    "start_time": "2023-03-10T19:32:44.811Z"
   },
   {
    "duration": 94,
    "start_time": "2023-03-10T19:32:44.930Z"
   },
   {
    "duration": 6,
    "start_time": "2023-03-10T19:32:47.064Z"
   },
   {
    "duration": 7,
    "start_time": "2023-03-10T19:32:47.269Z"
   },
   {
    "duration": 14,
    "start_time": "2023-03-10T19:32:47.735Z"
   },
   {
    "duration": 11,
    "start_time": "2023-03-10T19:32:47.957Z"
   },
   {
    "duration": 10,
    "start_time": "2023-03-10T19:32:52.306Z"
   },
   {
    "duration": 8,
    "start_time": "2023-03-10T19:32:56.078Z"
   },
   {
    "duration": 9,
    "start_time": "2023-03-10T19:33:39.075Z"
   },
   {
    "duration": 8,
    "start_time": "2023-03-10T19:33:45.576Z"
   },
   {
    "duration": 8,
    "start_time": "2023-03-10T19:38:32.966Z"
   },
   {
    "duration": 9,
    "start_time": "2023-03-10T19:38:55.158Z"
   },
   {
    "duration": 13,
    "start_time": "2023-03-10T19:41:10.111Z"
   },
   {
    "duration": 9,
    "start_time": "2023-03-10T19:41:13.603Z"
   },
   {
    "duration": 8,
    "start_time": "2023-03-10T19:41:35.959Z"
   },
   {
    "duration": 11,
    "start_time": "2023-03-10T19:42:17.560Z"
   },
   {
    "duration": 8,
    "start_time": "2023-03-10T19:42:51.321Z"
   },
   {
    "duration": 7,
    "start_time": "2023-03-10T19:45:31.520Z"
   },
   {
    "duration": 11,
    "start_time": "2023-03-10T19:45:52.584Z"
   },
   {
    "duration": 17,
    "start_time": "2023-03-10T19:46:02.514Z"
   },
   {
    "duration": 9,
    "start_time": "2023-03-10T19:46:37.257Z"
   },
   {
    "duration": 219,
    "start_time": "2023-03-10T19:46:57.657Z"
   },
   {
    "duration": 8,
    "start_time": "2023-03-10T19:47:01.500Z"
   },
   {
    "duration": 93,
    "start_time": "2023-03-10T19:49:44.299Z"
   },
   {
    "duration": 6,
    "start_time": "2023-03-10T19:50:17.157Z"
   },
   {
    "duration": 9,
    "start_time": "2023-03-10T19:50:25.246Z"
   },
   {
    "duration": 7,
    "start_time": "2023-03-10T20:08:44.323Z"
   },
   {
    "duration": 9,
    "start_time": "2023-03-10T20:09:46.869Z"
   },
   {
    "duration": 4,
    "start_time": "2023-03-10T20:11:45.843Z"
   },
   {
    "duration": 6,
    "start_time": "2023-03-10T20:12:31.405Z"
   },
   {
    "duration": 6,
    "start_time": "2023-03-10T20:12:40.284Z"
   },
   {
    "duration": 5,
    "start_time": "2023-03-10T20:12:42.370Z"
   },
   {
    "duration": 7,
    "start_time": "2023-03-10T20:12:44.108Z"
   },
   {
    "duration": 5,
    "start_time": "2023-03-10T20:12:46.401Z"
   },
   {
    "duration": 6,
    "start_time": "2023-03-10T20:12:49.043Z"
   },
   {
    "duration": 5,
    "start_time": "2023-03-10T20:12:51.572Z"
   },
   {
    "duration": 5,
    "start_time": "2023-03-10T20:12:52.150Z"
   },
   {
    "duration": 5,
    "start_time": "2023-03-10T20:14:23.004Z"
   },
   {
    "duration": 9,
    "start_time": "2023-03-10T20:14:30.785Z"
   },
   {
    "duration": 9,
    "start_time": "2023-03-10T20:14:32.259Z"
   },
   {
    "duration": 6,
    "start_time": "2023-03-10T20:14:56.144Z"
   },
   {
    "duration": 8,
    "start_time": "2023-03-10T20:14:58.605Z"
   },
   {
    "duration": 10,
    "start_time": "2023-03-10T20:14:59.642Z"
   },
   {
    "duration": 7,
    "start_time": "2023-03-10T20:15:11.082Z"
   },
   {
    "duration": 7,
    "start_time": "2023-03-10T20:18:04.610Z"
   },
   {
    "duration": 4,
    "start_time": "2023-03-10T20:19:24.217Z"
   },
   {
    "duration": 5,
    "start_time": "2023-03-10T20:19:28.881Z"
   },
   {
    "duration": 27,
    "start_time": "2023-03-10T20:19:32.964Z"
   },
   {
    "duration": 5,
    "start_time": "2023-03-10T20:20:13.309Z"
   },
   {
    "duration": 32,
    "start_time": "2023-03-10T20:20:18.459Z"
   },
   {
    "duration": 32,
    "start_time": "2023-03-10T20:20:20.758Z"
   },
   {
    "duration": 3,
    "start_time": "2023-03-10T20:20:29.261Z"
   },
   {
    "duration": 30,
    "start_time": "2023-03-10T20:20:29.452Z"
   },
   {
    "duration": 16,
    "start_time": "2023-03-10T20:20:29.647Z"
   },
   {
    "duration": 9,
    "start_time": "2023-03-10T20:20:29.862Z"
   },
   {
    "duration": 11,
    "start_time": "2023-03-10T20:20:30.038Z"
   },
   {
    "duration": 2,
    "start_time": "2023-03-10T20:20:30.207Z"
   },
   {
    "duration": 23,
    "start_time": "2023-03-10T20:20:30.397Z"
   },
   {
    "duration": 98,
    "start_time": "2023-03-10T20:20:30.602Z"
   },
   {
    "duration": 90,
    "start_time": "2023-03-10T20:20:30.794Z"
   },
   {
    "duration": 5,
    "start_time": "2023-03-10T20:20:33.338Z"
   },
   {
    "duration": 6,
    "start_time": "2023-03-10T20:20:33.615Z"
   },
   {
    "duration": 9,
    "start_time": "2023-03-10T20:20:37.913Z"
   },
   {
    "duration": 9,
    "start_time": "2023-03-10T20:20:48.021Z"
   },
   {
    "duration": 8,
    "start_time": "2023-03-10T20:20:54.274Z"
   },
   {
    "duration": 3,
    "start_time": "2023-03-10T20:33:40.500Z"
   },
   {
    "duration": 33,
    "start_time": "2023-03-10T20:33:40.505Z"
   },
   {
    "duration": 15,
    "start_time": "2023-03-10T20:33:40.685Z"
   },
   {
    "duration": 8,
    "start_time": "2023-03-10T20:33:40.907Z"
   },
   {
    "duration": 10,
    "start_time": "2023-03-10T20:33:41.123Z"
   },
   {
    "duration": 3,
    "start_time": "2023-03-10T20:33:41.210Z"
   },
   {
    "duration": 21,
    "start_time": "2023-03-10T20:33:41.353Z"
   },
   {
    "duration": 94,
    "start_time": "2023-03-10T20:33:41.557Z"
   },
   {
    "duration": 152,
    "start_time": "2023-03-10T20:33:41.755Z"
   },
   {
    "duration": 11,
    "start_time": "2023-03-10T20:33:51.954Z"
   },
   {
    "duration": 18,
    "start_time": "2023-03-10T20:34:04.004Z"
   },
   {
    "duration": 11,
    "start_time": "2023-03-10T20:34:07.700Z"
   },
   {
    "duration": 20,
    "start_time": "2023-03-10T20:41:32.120Z"
   },
   {
    "duration": 3,
    "start_time": "2023-03-10T20:41:48.270Z"
   },
   {
    "duration": 30,
    "start_time": "2023-03-10T20:41:48.456Z"
   },
   {
    "duration": 17,
    "start_time": "2023-03-10T20:41:48.648Z"
   },
   {
    "duration": 9,
    "start_time": "2023-03-10T20:41:48.852Z"
   },
   {
    "duration": 10,
    "start_time": "2023-03-10T20:41:49.006Z"
   },
   {
    "duration": 2,
    "start_time": "2023-03-10T20:41:49.172Z"
   },
   {
    "duration": 24,
    "start_time": "2023-03-10T20:41:49.336Z"
   },
   {
    "duration": 105,
    "start_time": "2023-03-10T20:41:49.487Z"
   },
   {
    "duration": 86,
    "start_time": "2023-03-10T20:41:49.687Z"
   },
   {
    "duration": 6,
    "start_time": "2023-03-10T20:41:51.859Z"
   },
   {
    "duration": 6,
    "start_time": "2023-03-10T20:41:53.070Z"
   },
   {
    "duration": 18,
    "start_time": "2023-03-10T20:41:54.156Z"
   },
   {
    "duration": 13,
    "start_time": "2023-03-10T20:41:54.608Z"
   },
   {
    "duration": 13,
    "start_time": "2023-03-10T20:42:01.295Z"
   },
   {
    "duration": 12,
    "start_time": "2023-03-10T20:42:02.864Z"
   },
   {
    "duration": 10,
    "start_time": "2023-03-10T20:42:06.152Z"
   },
   {
    "duration": 4,
    "start_time": "2023-03-10T20:43:27.181Z"
   },
   {
    "duration": 29,
    "start_time": "2023-03-10T20:43:27.360Z"
   },
   {
    "duration": 17,
    "start_time": "2023-03-10T20:43:27.552Z"
   },
   {
    "duration": 9,
    "start_time": "2023-03-10T20:43:27.764Z"
   },
   {
    "duration": 10,
    "start_time": "2023-03-10T20:43:27.907Z"
   },
   {
    "duration": 2,
    "start_time": "2023-03-10T20:43:28.085Z"
   },
   {
    "duration": 22,
    "start_time": "2023-03-10T20:43:28.261Z"
   },
   {
    "duration": 103,
    "start_time": "2023-03-10T20:43:28.427Z"
   },
   {
    "duration": 101,
    "start_time": "2023-03-10T20:43:28.590Z"
   },
   {
    "duration": 5,
    "start_time": "2023-03-10T20:43:30.800Z"
   },
   {
    "duration": 5,
    "start_time": "2023-03-10T20:43:30.976Z"
   },
   {
    "duration": 142,
    "start_time": "2023-03-10T20:43:33.651Z"
   },
   {
    "duration": 11,
    "start_time": "2023-03-10T20:43:42.284Z"
   },
   {
    "duration": 162,
    "start_time": "2023-03-10T20:43:59.531Z"
   },
   {
    "duration": 13,
    "start_time": "2023-03-10T20:44:04.328Z"
   },
   {
    "duration": 29,
    "start_time": "2023-03-10T20:44:07.882Z"
   },
   {
    "duration": 11,
    "start_time": "2023-03-10T20:44:53.400Z"
   },
   {
    "duration": 12,
    "start_time": "2023-03-10T20:45:50.389Z"
   },
   {
    "duration": 138,
    "start_time": "2023-03-10T20:45:56.652Z"
   },
   {
    "duration": 10,
    "start_time": "2023-03-10T20:46:27.058Z"
   },
   {
    "duration": 11,
    "start_time": "2023-03-10T20:46:37.357Z"
   },
   {
    "duration": 12,
    "start_time": "2023-03-10T20:46:54.608Z"
   },
   {
    "duration": 52,
    "start_time": "2023-03-10T20:47:19.839Z"
   },
   {
    "duration": 3,
    "start_time": "2023-03-10T20:47:29.961Z"
   },
   {
    "duration": 30,
    "start_time": "2023-03-10T20:47:30.184Z"
   },
   {
    "duration": 17,
    "start_time": "2023-03-10T20:47:30.380Z"
   },
   {
    "duration": 12,
    "start_time": "2023-03-10T20:47:30.583Z"
   },
   {
    "duration": 15,
    "start_time": "2023-03-10T20:47:30.781Z"
   },
   {
    "duration": 2,
    "start_time": "2023-03-10T20:47:30.974Z"
   },
   {
    "duration": 22,
    "start_time": "2023-03-10T20:47:31.198Z"
   },
   {
    "duration": 102,
    "start_time": "2023-03-10T20:47:34.676Z"
   },
   {
    "duration": 103,
    "start_time": "2023-03-10T20:47:34.891Z"
   },
   {
    "duration": 4,
    "start_time": "2023-03-10T20:47:38.110Z"
   },
   {
    "duration": 6,
    "start_time": "2023-03-10T20:47:38.660Z"
   },
   {
    "duration": 8,
    "start_time": "2023-03-10T20:47:39.781Z"
   },
   {
    "duration": 9,
    "start_time": "2023-03-10T20:47:40.763Z"
   },
   {
    "duration": 11,
    "start_time": "2023-03-10T20:47:49.282Z"
   },
   {
    "duration": 12,
    "start_time": "2023-03-10T20:47:54.316Z"
   },
   {
    "duration": 12,
    "start_time": "2023-03-10T20:47:58.504Z"
   },
   {
    "duration": 6,
    "start_time": "2023-03-10T20:48:55.098Z"
   },
   {
    "duration": 11,
    "start_time": "2023-03-10T20:49:02.423Z"
   },
   {
    "duration": 10,
    "start_time": "2023-03-10T20:49:03.218Z"
   },
   {
    "duration": 12,
    "start_time": "2023-03-10T20:49:07.567Z"
   },
   {
    "duration": 12,
    "start_time": "2023-03-10T20:50:10.379Z"
   },
   {
    "duration": 4,
    "start_time": "2023-03-10T20:50:37.364Z"
   },
   {
    "duration": 7,
    "start_time": "2023-03-10T20:50:39.595Z"
   },
   {
    "duration": 13,
    "start_time": "2023-03-10T20:50:40.563Z"
   },
   {
    "duration": 5,
    "start_time": "2023-03-10T20:50:47.710Z"
   },
   {
    "duration": 10,
    "start_time": "2023-03-10T20:50:48.964Z"
   },
   {
    "duration": 12,
    "start_time": "2023-03-10T20:50:49.872Z"
   },
   {
    "duration": 10,
    "start_time": "2023-03-10T20:50:51.805Z"
   },
   {
    "duration": 10,
    "start_time": "2023-03-10T20:50:52.568Z"
   },
   {
    "duration": 11,
    "start_time": "2023-03-10T20:50:53.486Z"
   },
   {
    "duration": 14,
    "start_time": "2023-03-10T20:52:08.175Z"
   },
   {
    "duration": 13,
    "start_time": "2023-03-10T20:52:11.754Z"
   },
   {
    "duration": 4,
    "start_time": "2023-03-10T20:52:21.459Z"
   },
   {
    "duration": 21,
    "start_time": "2023-03-10T20:52:21.660Z"
   },
   {
    "duration": 9,
    "start_time": "2023-03-10T20:52:21.826Z"
   },
   {
    "duration": 4,
    "start_time": "2023-03-10T20:52:28.160Z"
   },
   {
    "duration": 29,
    "start_time": "2023-03-10T20:52:28.368Z"
   },
   {
    "duration": 17,
    "start_time": "2023-03-10T20:52:28.592Z"
   },
   {
    "duration": 8,
    "start_time": "2023-03-10T20:52:28.788Z"
   },
   {
    "duration": 10,
    "start_time": "2023-03-10T20:52:28.992Z"
   },
   {
    "duration": 3,
    "start_time": "2023-03-10T20:52:29.187Z"
   },
   {
    "duration": 26,
    "start_time": "2023-03-10T20:52:29.400Z"
   },
   {
    "duration": 99,
    "start_time": "2023-03-10T20:52:29.605Z"
   },
   {
    "duration": 86,
    "start_time": "2023-03-10T20:52:29.796Z"
   },
   {
    "duration": 4,
    "start_time": "2023-03-10T20:52:32.253Z"
   },
   {
    "duration": 6,
    "start_time": "2023-03-10T20:52:32.464Z"
   },
   {
    "duration": 10,
    "start_time": "2023-03-10T20:52:32.864Z"
   },
   {
    "duration": 12,
    "start_time": "2023-03-10T20:52:33.105Z"
   },
   {
    "duration": 9,
    "start_time": "2023-03-10T20:52:33.952Z"
   },
   {
    "duration": 10,
    "start_time": "2023-03-10T20:52:34.145Z"
   },
   {
    "duration": 12,
    "start_time": "2023-03-10T20:52:34.343Z"
   },
   {
    "duration": 11,
    "start_time": "2023-03-10T20:52:34.556Z"
   },
   {
    "duration": 11,
    "start_time": "2023-03-10T20:52:50.705Z"
   },
   {
    "duration": 3,
    "start_time": "2023-03-10T20:53:26.570Z"
   },
   {
    "duration": 36,
    "start_time": "2023-03-10T20:53:26.762Z"
   },
   {
    "duration": 16,
    "start_time": "2023-03-10T20:53:26.934Z"
   },
   {
    "duration": 12,
    "start_time": "2023-03-10T20:53:27.132Z"
   },
   {
    "duration": 10,
    "start_time": "2023-03-10T20:53:27.321Z"
   },
   {
    "duration": 2,
    "start_time": "2023-03-10T20:53:27.495Z"
   },
   {
    "duration": 22,
    "start_time": "2023-03-10T20:53:27.659Z"
   },
   {
    "duration": 95,
    "start_time": "2023-03-10T20:53:27.852Z"
   },
   {
    "duration": 90,
    "start_time": "2023-03-10T20:53:28.009Z"
   },
   {
    "duration": 5,
    "start_time": "2023-03-10T20:53:30.281Z"
   },
   {
    "duration": 9,
    "start_time": "2023-03-10T20:53:30.489Z"
   },
   {
    "duration": 10,
    "start_time": "2023-03-10T20:53:30.895Z"
   },
   {
    "duration": 11,
    "start_time": "2023-03-10T20:53:31.117Z"
   },
   {
    "duration": 12,
    "start_time": "2023-03-10T20:53:31.948Z"
   },
   {
    "duration": 10,
    "start_time": "2023-03-10T20:53:32.139Z"
   },
   {
    "duration": 13,
    "start_time": "2023-03-10T20:53:32.366Z"
   },
   {
    "duration": 11,
    "start_time": "2023-03-10T20:53:32.746Z"
   },
   {
    "duration": 9,
    "start_time": "2023-03-10T20:54:29.985Z"
   },
   {
    "duration": 12,
    "start_time": "2023-03-10T20:55:17.943Z"
   },
   {
    "duration": 4,
    "start_time": "2023-03-10T20:56:37.191Z"
   },
   {
    "duration": 29,
    "start_time": "2023-03-10T20:56:37.398Z"
   },
   {
    "duration": 17,
    "start_time": "2023-03-10T20:56:37.575Z"
   },
   {
    "duration": 11,
    "start_time": "2023-03-10T20:56:37.746Z"
   },
   {
    "duration": 11,
    "start_time": "2023-03-10T20:56:37.938Z"
   },
   {
    "duration": 2,
    "start_time": "2023-03-10T20:56:38.071Z"
   },
   {
    "duration": 25,
    "start_time": "2023-03-10T20:56:38.256Z"
   },
   {
    "duration": 113,
    "start_time": "2023-03-10T20:56:38.426Z"
   },
   {
    "duration": 97,
    "start_time": "2023-03-10T20:56:38.612Z"
   },
   {
    "duration": 5,
    "start_time": "2023-03-10T20:56:40.680Z"
   },
   {
    "duration": 9,
    "start_time": "2023-03-10T20:56:40.843Z"
   },
   {
    "duration": 16,
    "start_time": "2023-03-10T20:56:43.198Z"
   },
   {
    "duration": 9,
    "start_time": "2023-03-10T20:56:43.686Z"
   },
   {
    "duration": 11,
    "start_time": "2023-03-10T20:56:45.945Z"
   },
   {
    "duration": 15,
    "start_time": "2023-03-10T20:56:49.117Z"
   },
   {
    "duration": 3,
    "start_time": "2023-03-10T22:20:35.159Z"
   },
   {
    "duration": 29,
    "start_time": "2023-03-10T22:20:35.321Z"
   },
   {
    "duration": 16,
    "start_time": "2023-03-10T22:20:35.499Z"
   },
   {
    "duration": 9,
    "start_time": "2023-03-10T22:20:35.689Z"
   },
   {
    "duration": 10,
    "start_time": "2023-03-10T22:20:35.842Z"
   },
   {
    "duration": 2,
    "start_time": "2023-03-10T22:20:36.018Z"
   },
   {
    "duration": 21,
    "start_time": "2023-03-10T22:20:36.200Z"
   },
   {
    "duration": 114,
    "start_time": "2023-03-10T22:20:36.387Z"
   },
   {
    "duration": 164,
    "start_time": "2023-03-10T22:20:36.544Z"
   },
   {
    "duration": 5,
    "start_time": "2023-03-10T22:20:39.316Z"
   },
   {
    "duration": 5,
    "start_time": "2023-03-10T22:20:39.513Z"
   },
   {
    "duration": 11,
    "start_time": "2023-03-10T22:20:39.881Z"
   },
   {
    "duration": 12,
    "start_time": "2023-03-10T22:20:40.091Z"
   },
   {
    "duration": 3,
    "start_time": "2023-03-10T22:20:40.843Z"
   },
   {
    "duration": 3,
    "start_time": "2023-03-10T22:20:43.979Z"
   },
   {
    "duration": 6777,
    "start_time": "2023-03-10T22:20:44.157Z"
   },
   {
    "duration": 0,
    "start_time": "2023-03-10T22:20:50.936Z"
   },
   {
    "duration": 6905,
    "start_time": "2023-03-10T22:22:37.940Z"
   },
   {
    "duration": 3,
    "start_time": "2023-03-10T22:23:49.328Z"
   },
   {
    "duration": 14,
    "start_time": "2023-03-10T22:23:50.096Z"
   },
   {
    "duration": 4,
    "start_time": "2023-03-10T22:23:56.030Z"
   },
   {
    "duration": 13,
    "start_time": "2023-03-10T22:23:56.851Z"
   },
   {
    "duration": 3,
    "start_time": "2023-03-10T22:26:58.237Z"
   },
   {
    "duration": 13,
    "start_time": "2023-03-10T22:26:58.893Z"
   },
   {
    "duration": 3,
    "start_time": "2023-03-10T22:27:09.206Z"
   },
   {
    "duration": 14,
    "start_time": "2023-03-10T22:27:09.364Z"
   },
   {
    "duration": 3,
    "start_time": "2023-03-10T22:27:12.494Z"
   },
   {
    "duration": 31,
    "start_time": "2023-03-10T22:27:12.833Z"
   },
   {
    "duration": 16,
    "start_time": "2023-03-10T22:27:13.007Z"
   },
   {
    "duration": 9,
    "start_time": "2023-03-10T22:27:13.202Z"
   },
   {
    "duration": 14,
    "start_time": "2023-03-10T22:27:13.364Z"
   },
   {
    "duration": 3,
    "start_time": "2023-03-10T22:27:13.579Z"
   },
   {
    "duration": 25,
    "start_time": "2023-03-10T22:27:13.764Z"
   },
   {
    "duration": 101,
    "start_time": "2023-03-10T22:27:13.919Z"
   },
   {
    "duration": 90,
    "start_time": "2023-03-10T22:27:14.113Z"
   },
   {
    "duration": 5,
    "start_time": "2023-03-10T22:27:16.247Z"
   },
   {
    "duration": 7,
    "start_time": "2023-03-10T22:27:16.861Z"
   },
   {
    "duration": 32,
    "start_time": "2023-03-10T22:27:18.458Z"
   },
   {
    "duration": 11,
    "start_time": "2023-03-10T22:27:20.863Z"
   },
   {
    "duration": 3,
    "start_time": "2023-03-10T22:27:23.827Z"
   },
   {
    "duration": 15,
    "start_time": "2023-03-10T22:27:27.526Z"
   },
   {
    "duration": 4,
    "start_time": "2023-03-10T22:27:57.404Z"
   },
   {
    "duration": 30,
    "start_time": "2023-03-10T22:27:57.580Z"
   },
   {
    "duration": 18,
    "start_time": "2023-03-10T22:27:57.743Z"
   },
   {
    "duration": 9,
    "start_time": "2023-03-10T22:27:57.923Z"
   },
   {
    "duration": 11,
    "start_time": "2023-03-10T22:27:58.062Z"
   },
   {
    "duration": 2,
    "start_time": "2023-03-10T22:27:58.247Z"
   },
   {
    "duration": 26,
    "start_time": "2023-03-10T22:27:58.421Z"
   },
   {
    "duration": 101,
    "start_time": "2023-03-10T22:27:58.580Z"
   },
   {
    "duration": 182,
    "start_time": "2023-03-10T22:27:58.736Z"
   },
   {
    "duration": 5,
    "start_time": "2023-03-10T22:28:00.752Z"
   },
   {
    "duration": 7,
    "start_time": "2023-03-10T22:28:00.928Z"
   },
   {
    "duration": 9,
    "start_time": "2023-03-10T22:28:01.249Z"
   },
   {
    "duration": 10,
    "start_time": "2023-03-10T22:28:01.424Z"
   },
   {
    "duration": 3,
    "start_time": "2023-03-10T22:28:02.765Z"
   },
   {
    "duration": 6,
    "start_time": "2023-03-10T22:28:02.958Z"
   },
   {
    "duration": 11,
    "start_time": "2023-03-10T22:28:09.051Z"
   },
   {
    "duration": 9,
    "start_time": "2023-03-10T22:28:09.934Z"
   },
   {
    "duration": 10,
    "start_time": "2023-03-10T22:28:19.149Z"
   },
   {
    "duration": 9,
    "start_time": "2023-03-10T22:28:29.040Z"
   },
   {
    "duration": 8,
    "start_time": "2023-03-10T22:29:22.949Z"
   },
   {
    "duration": 8,
    "start_time": "2023-03-10T22:30:11.986Z"
   },
   {
    "duration": 4,
    "start_time": "2023-03-10T22:31:15.164Z"
   },
   {
    "duration": 14,
    "start_time": "2023-03-10T22:32:04.959Z"
   },
   {
    "duration": 12,
    "start_time": "2023-03-10T22:32:11.776Z"
   },
   {
    "duration": 10,
    "start_time": "2023-03-10T22:32:53.178Z"
   },
   {
    "duration": 5,
    "start_time": "2023-03-10T22:42:27.253Z"
   },
   {
    "duration": 4,
    "start_time": "2023-03-10T22:43:20.469Z"
   },
   {
    "duration": 3388,
    "start_time": "2023-03-11T16:03:54.599Z"
   },
   {
    "duration": 72,
    "start_time": "2023-03-11T16:03:57.989Z"
   },
   {
    "duration": 17,
    "start_time": "2023-03-11T16:03:58.062Z"
   },
   {
    "duration": 12,
    "start_time": "2023-03-11T16:03:58.080Z"
   },
   {
    "duration": 9,
    "start_time": "2023-03-11T16:03:58.093Z"
   },
   {
    "duration": 2,
    "start_time": "2023-03-11T16:03:58.104Z"
   },
   {
    "duration": 21,
    "start_time": "2023-03-11T16:03:58.107Z"
   },
   {
    "duration": 125,
    "start_time": "2023-03-11T16:03:58.130Z"
   },
   {
    "duration": 91,
    "start_time": "2023-03-11T16:03:58.257Z"
   },
   {
    "duration": 5,
    "start_time": "2023-03-11T16:03:58.350Z"
   },
   {
    "duration": 24,
    "start_time": "2023-03-11T16:03:58.356Z"
   },
   {
    "duration": 105,
    "start_time": "2023-03-11T16:03:58.383Z"
   },
   {
    "duration": 108,
    "start_time": "2023-03-11T16:03:58.581Z"
   },
   {
    "duration": 189,
    "start_time": "2023-03-11T16:03:58.691Z"
   },
   {
    "duration": 16,
    "start_time": "2023-03-11T16:03:58.881Z"
   },
   {
    "duration": 10,
    "start_time": "2023-03-11T16:03:58.899Z"
   },
   {
    "duration": 175,
    "start_time": "2023-03-11T16:03:58.913Z"
   },
   {
    "duration": 198,
    "start_time": "2023-03-11T16:03:59.090Z"
   },
   {
    "duration": 202,
    "start_time": "2023-03-11T16:03:59.290Z"
   },
   {
    "duration": 187,
    "start_time": "2023-03-11T16:03:59.494Z"
   },
   {
    "duration": 11,
    "start_time": "2023-03-11T16:03:59.682Z"
   },
   {
    "duration": 89,
    "start_time": "2023-03-11T16:03:59.695Z"
   },
   {
    "duration": 18,
    "start_time": "2023-03-11T16:06:06.069Z"
   },
   {
    "duration": 5,
    "start_time": "2023-03-11T16:42:34.847Z"
   },
   {
    "duration": 3,
    "start_time": "2023-03-11T16:43:19.217Z"
   },
   {
    "duration": 275,
    "start_time": "2023-03-11T16:43:35.527Z"
   },
   {
    "duration": 7,
    "start_time": "2023-03-11T16:44:01.942Z"
   },
   {
    "duration": 6,
    "start_time": "2023-03-11T16:44:34.857Z"
   },
   {
    "duration": 5,
    "start_time": "2023-03-11T16:45:31.017Z"
   },
   {
    "duration": 81,
    "start_time": "2023-03-11T16:45:55.101Z"
   },
   {
    "duration": 4,
    "start_time": "2023-03-11T16:46:31.427Z"
   },
   {
    "duration": 8,
    "start_time": "2023-03-11T16:46:35.926Z"
   },
   {
    "duration": 6,
    "start_time": "2023-03-11T16:46:50.221Z"
   },
   {
    "duration": 5,
    "start_time": "2023-03-11T16:46:55.063Z"
   },
   {
    "duration": 4,
    "start_time": "2023-03-11T16:47:04.367Z"
   },
   {
    "duration": 5,
    "start_time": "2023-03-11T16:47:26.787Z"
   },
   {
    "duration": 6,
    "start_time": "2023-03-11T16:47:30.727Z"
   },
   {
    "duration": 7,
    "start_time": "2023-03-11T16:47:41.036Z"
   },
   {
    "duration": 5,
    "start_time": "2023-03-11T16:47:59.577Z"
   },
   {
    "duration": 5,
    "start_time": "2023-03-11T16:48:24.611Z"
   },
   {
    "duration": 1849,
    "start_time": "2023-03-11T17:08:48.642Z"
   },
   {
    "duration": 28,
    "start_time": "2023-03-11T17:08:50.493Z"
   },
   {
    "duration": 15,
    "start_time": "2023-03-11T17:08:50.523Z"
   },
   {
    "duration": 12,
    "start_time": "2023-03-11T17:08:50.540Z"
   },
   {
    "duration": 9,
    "start_time": "2023-03-11T17:08:50.553Z"
   },
   {
    "duration": 4,
    "start_time": "2023-03-11T17:08:50.563Z"
   },
   {
    "duration": 25,
    "start_time": "2023-03-11T17:08:50.569Z"
   },
   {
    "duration": 101,
    "start_time": "2023-03-11T17:08:50.596Z"
   },
   {
    "duration": 85,
    "start_time": "2023-03-11T17:08:50.699Z"
   },
   {
    "duration": 5,
    "start_time": "2023-03-11T17:08:50.787Z"
   },
   {
    "duration": 8,
    "start_time": "2023-03-11T17:08:50.793Z"
   },
   {
    "duration": 86,
    "start_time": "2023-03-11T17:08:50.803Z"
   },
   {
    "duration": 103,
    "start_time": "2023-03-11T17:08:50.890Z"
   },
   {
    "duration": 108,
    "start_time": "2023-03-11T17:08:51.081Z"
   },
   {
    "duration": 6,
    "start_time": "2023-03-11T17:08:51.191Z"
   },
   {
    "duration": 9,
    "start_time": "2023-03-11T17:08:51.199Z"
   },
   {
    "duration": 186,
    "start_time": "2023-03-11T17:08:51.209Z"
   },
   {
    "duration": 198,
    "start_time": "2023-03-11T17:08:51.396Z"
   },
   {
    "duration": 204,
    "start_time": "2023-03-11T17:08:51.595Z"
   },
   {
    "duration": 180,
    "start_time": "2023-03-11T17:08:51.801Z"
   },
   {
    "duration": 8,
    "start_time": "2023-03-11T17:08:51.982Z"
   },
   {
    "duration": 200,
    "start_time": "2023-03-11T17:08:51.994Z"
   },
   {
    "duration": 114,
    "start_time": "2023-03-11T18:06:05.278Z"
   },
   {
    "duration": 1817,
    "start_time": "2023-03-11T21:16:26.072Z"
   },
   {
    "duration": 177,
    "start_time": "2023-03-11T21:16:28.572Z"
   },
   {
    "duration": 23,
    "start_time": "2023-03-11T21:16:28.751Z"
   },
   {
    "duration": 21,
    "start_time": "2023-03-11T21:16:28.932Z"
   },
   {
    "duration": 17,
    "start_time": "2023-03-11T21:16:29.116Z"
   },
   {
    "duration": 3,
    "start_time": "2023-03-11T21:16:29.452Z"
   },
   {
    "duration": 42,
    "start_time": "2023-03-11T21:16:29.612Z"
   },
   {
    "duration": 142,
    "start_time": "2023-03-11T21:16:29.813Z"
   },
   {
    "duration": 124,
    "start_time": "2023-03-11T21:16:29.961Z"
   },
   {
    "duration": 6,
    "start_time": "2023-03-11T21:16:33.149Z"
   },
   {
    "duration": 14,
    "start_time": "2023-03-11T21:16:34.175Z"
   },
   {
    "duration": 247,
    "start_time": "2023-03-11T21:16:36.382Z"
   },
   {
    "duration": 18,
    "start_time": "2023-03-11T21:16:45.756Z"
   },
   {
    "duration": 76,
    "start_time": "2023-03-11T21:19:16.650Z"
   },
   {
    "duration": 142,
    "start_time": "2023-03-11T21:20:33.919Z"
   },
   {
    "duration": 144,
    "start_time": "2023-03-11T21:20:59.208Z"
   },
   {
    "duration": 23,
    "start_time": "2023-03-11T21:21:17.609Z"
   },
   {
    "duration": 33,
    "start_time": "2023-03-11T21:21:57.646Z"
   },
   {
    "duration": 15,
    "start_time": "2023-03-11T21:22:05.004Z"
   },
   {
    "duration": 19,
    "start_time": "2023-03-11T21:22:55.071Z"
   },
   {
    "duration": 17,
    "start_time": "2023-03-11T21:23:02.776Z"
   },
   {
    "duration": 17,
    "start_time": "2023-03-11T21:23:37.283Z"
   },
   {
    "duration": 5,
    "start_time": "2023-03-11T21:23:47.476Z"
   },
   {
    "duration": 14,
    "start_time": "2023-03-11T21:23:52.676Z"
   },
   {
    "duration": 5,
    "start_time": "2023-03-11T21:24:34.465Z"
   },
   {
    "duration": 9,
    "start_time": "2023-03-11T21:24:52.010Z"
   },
   {
    "duration": 27,
    "start_time": "2023-03-11T21:25:15.386Z"
   },
   {
    "duration": 14,
    "start_time": "2023-03-11T21:26:17.022Z"
   },
   {
    "duration": 46,
    "start_time": "2023-03-11T21:27:28.121Z"
   },
   {
    "duration": 90,
    "start_time": "2023-03-11T21:27:40.847Z"
   },
   {
    "duration": 21,
    "start_time": "2023-03-11T21:28:22.453Z"
   },
   {
    "duration": 37,
    "start_time": "2023-03-11T21:28:23.949Z"
   },
   {
    "duration": 14,
    "start_time": "2023-03-11T21:29:54.065Z"
   },
   {
    "duration": 90,
    "start_time": "2023-03-11T21:30:23.059Z"
   },
   {
    "duration": 18,
    "start_time": "2023-03-11T21:30:33.361Z"
   },
   {
    "duration": 26,
    "start_time": "2023-03-11T21:31:04.240Z"
   },
   {
    "duration": 23,
    "start_time": "2023-03-11T21:34:06.259Z"
   },
   {
    "duration": 5,
    "start_time": "2023-03-11T21:34:09.503Z"
   },
   {
    "duration": 32,
    "start_time": "2023-03-11T21:34:09.690Z"
   },
   {
    "duration": 35,
    "start_time": "2023-03-11T21:34:09.843Z"
   },
   {
    "duration": 16,
    "start_time": "2023-03-11T21:34:10.060Z"
   },
   {
    "duration": 15,
    "start_time": "2023-03-11T21:34:10.195Z"
   },
   {
    "duration": 6,
    "start_time": "2023-03-11T21:34:10.584Z"
   },
   {
    "duration": 39,
    "start_time": "2023-03-11T21:34:10.721Z"
   },
   {
    "duration": 173,
    "start_time": "2023-03-11T21:34:10.897Z"
   },
   {
    "duration": 153,
    "start_time": "2023-03-11T21:34:11.101Z"
   },
   {
    "duration": 5,
    "start_time": "2023-03-11T21:34:13.964Z"
   },
   {
    "duration": 6,
    "start_time": "2023-03-11T21:34:14.162Z"
   },
   {
    "duration": 17,
    "start_time": "2023-03-11T21:34:17.052Z"
   },
   {
    "duration": 25,
    "start_time": "2023-03-11T21:34:20.039Z"
   },
   {
    "duration": 19,
    "start_time": "2023-03-11T21:34:45.761Z"
   },
   {
    "duration": 27,
    "start_time": "2023-03-11T21:34:54.750Z"
   },
   {
    "duration": 13,
    "start_time": "2023-03-11T21:34:59.298Z"
   },
   {
    "duration": 70,
    "start_time": "2023-03-11T21:36:24.763Z"
   },
   {
    "duration": 29,
    "start_time": "2023-03-11T21:37:37.998Z"
   },
   {
    "duration": 32,
    "start_time": "2023-03-11T21:37:45.465Z"
   },
   {
    "duration": 163,
    "start_time": "2023-03-11T21:38:02.362Z"
   },
   {
    "duration": 68,
    "start_time": "2023-03-11T21:38:07.164Z"
   },
   {
    "duration": 15,
    "start_time": "2023-03-11T21:39:11.055Z"
   },
   {
    "duration": 12,
    "start_time": "2023-03-11T21:39:23.677Z"
   },
   {
    "duration": 8,
    "start_time": "2023-03-11T21:39:28.286Z"
   },
   {
    "duration": 21,
    "start_time": "2023-03-11T21:39:35.548Z"
   },
   {
    "duration": 33,
    "start_time": "2023-03-11T21:40:44.850Z"
   },
   {
    "duration": 92,
    "start_time": "2023-03-11T21:40:45.840Z"
   },
   {
    "duration": 6,
    "start_time": "2023-03-11T21:41:03.683Z"
   },
   {
    "duration": 5,
    "start_time": "2023-03-11T21:41:16.671Z"
   },
   {
    "duration": 5,
    "start_time": "2023-03-11T21:41:39.461Z"
   },
   {
    "duration": 76,
    "start_time": "2023-03-11T21:41:42.049Z"
   },
   {
    "duration": 35,
    "start_time": "2023-03-11T21:41:50.140Z"
   },
   {
    "duration": 81,
    "start_time": "2023-03-11T21:42:20.065Z"
   },
   {
    "duration": 53,
    "start_time": "2023-03-11T21:42:23.813Z"
   },
   {
    "duration": 50,
    "start_time": "2023-03-11T21:43:25.905Z"
   },
   {
    "duration": 15,
    "start_time": "2023-03-11T21:43:27.464Z"
   },
   {
    "duration": 8,
    "start_time": "2023-03-11T21:43:42.349Z"
   },
   {
    "duration": 42,
    "start_time": "2023-03-11T21:43:44.391Z"
   },
   {
    "duration": 22,
    "start_time": "2023-03-11T21:43:57.980Z"
   },
   {
    "duration": 22,
    "start_time": "2023-03-11T21:46:38.858Z"
   },
   {
    "duration": 45,
    "start_time": "2023-03-11T21:47:05.388Z"
   },
   {
    "duration": 20,
    "start_time": "2023-03-11T21:47:08.473Z"
   },
   {
    "duration": 8,
    "start_time": "2023-03-11T21:50:52.224Z"
   },
   {
    "duration": 25,
    "start_time": "2023-03-11T21:50:53.249Z"
   },
   {
    "duration": 13,
    "start_time": "2023-03-11T21:51:03.105Z"
   },
   {
    "duration": 20,
    "start_time": "2023-03-11T22:01:01.878Z"
   },
   {
    "duration": 23,
    "start_time": "2023-03-11T22:01:10.555Z"
   },
   {
    "duration": 5,
    "start_time": "2023-03-11T22:01:22.714Z"
   },
   {
    "duration": 15,
    "start_time": "2023-03-11T22:01:27.853Z"
   },
   {
    "duration": 20,
    "start_time": "2023-03-11T22:01:52.976Z"
   },
   {
    "duration": 65,
    "start_time": "2023-03-11T22:01:54.319Z"
   },
   {
    "duration": 19,
    "start_time": "2023-03-11T22:02:04.383Z"
   },
   {
    "duration": 14,
    "start_time": "2023-03-11T22:02:10.398Z"
   },
   {
    "duration": 1972,
    "start_time": "2023-03-11T22:28:56.571Z"
   },
   {
    "duration": 83,
    "start_time": "2023-03-11T22:28:58.545Z"
   },
   {
    "duration": 16,
    "start_time": "2023-03-11T22:28:58.631Z"
   },
   {
    "duration": 13,
    "start_time": "2023-03-11T22:28:58.650Z"
   },
   {
    "duration": 10,
    "start_time": "2023-03-11T22:28:58.666Z"
   },
   {
    "duration": 2,
    "start_time": "2023-03-11T22:28:58.678Z"
   },
   {
    "duration": 27,
    "start_time": "2023-03-11T22:28:58.682Z"
   },
   {
    "duration": 117,
    "start_time": "2023-03-11T22:28:58.710Z"
   },
   {
    "duration": 94,
    "start_time": "2023-03-11T22:28:58.831Z"
   },
   {
    "duration": 4,
    "start_time": "2023-03-11T22:28:58.927Z"
   },
   {
    "duration": 48,
    "start_time": "2023-03-11T22:28:58.932Z"
   },
   {
    "duration": 230,
    "start_time": "2023-03-11T22:28:58.982Z"
   },
   {
    "duration": 0,
    "start_time": "2023-03-11T22:28:59.213Z"
   },
   {
    "duration": 0,
    "start_time": "2023-03-11T22:28:59.215Z"
   },
   {
    "duration": 0,
    "start_time": "2023-03-11T22:28:59.216Z"
   },
   {
    "duration": 0,
    "start_time": "2023-03-11T22:28:59.217Z"
   },
   {
    "duration": 0,
    "start_time": "2023-03-11T22:28:59.218Z"
   },
   {
    "duration": 0,
    "start_time": "2023-03-11T22:28:59.219Z"
   },
   {
    "duration": 0,
    "start_time": "2023-03-11T22:28:59.220Z"
   },
   {
    "duration": 14,
    "start_time": "2023-03-11T22:39:03.489Z"
   },
   {
    "duration": 8,
    "start_time": "2023-03-11T22:40:06.728Z"
   },
   {
    "duration": 9,
    "start_time": "2023-03-11T22:40:09.781Z"
   },
   {
    "duration": 3,
    "start_time": "2023-03-11T22:41:29.021Z"
   },
   {
    "duration": 16,
    "start_time": "2023-03-11T22:41:30.894Z"
   },
   {
    "duration": 14,
    "start_time": "2023-03-11T22:41:45.086Z"
   },
   {
    "duration": 1901,
    "start_time": "2023-03-11T22:46:58.676Z"
   },
   {
    "duration": 32,
    "start_time": "2023-03-11T22:47:00.579Z"
   },
   {
    "duration": 17,
    "start_time": "2023-03-11T22:47:00.613Z"
   },
   {
    "duration": 18,
    "start_time": "2023-03-11T22:47:00.631Z"
   },
   {
    "duration": 16,
    "start_time": "2023-03-11T22:47:00.652Z"
   },
   {
    "duration": 3,
    "start_time": "2023-03-11T22:47:00.669Z"
   },
   {
    "duration": 50,
    "start_time": "2023-03-11T22:47:00.673Z"
   },
   {
    "duration": 119,
    "start_time": "2023-03-11T22:47:00.725Z"
   },
   {
    "duration": 102,
    "start_time": "2023-03-11T22:47:00.846Z"
   },
   {
    "duration": 5,
    "start_time": "2023-03-11T22:47:00.950Z"
   },
   {
    "duration": 55,
    "start_time": "2023-03-11T22:47:00.957Z"
   },
   {
    "duration": 81,
    "start_time": "2023-03-11T22:47:01.013Z"
   },
   {
    "duration": 102,
    "start_time": "2023-03-11T22:47:01.181Z"
   },
   {
    "duration": 109,
    "start_time": "2023-03-11T22:47:01.287Z"
   },
   {
    "duration": 38,
    "start_time": "2023-03-11T22:47:01.397Z"
   },
   {
    "duration": 163,
    "start_time": "2023-03-11T22:47:01.439Z"
   },
   {
    "duration": 194,
    "start_time": "2023-03-11T22:47:01.606Z"
   },
   {
    "duration": 50,
    "start_time": "2023-03-11T22:47:01.802Z"
   },
   {
    "duration": 137,
    "start_time": "2023-03-11T22:47:01.857Z"
   },
   {
    "duration": 156,
    "start_time": "2023-03-11T22:48:29.442Z"
   },
   {
    "duration": 4,
    "start_time": "2023-03-11T22:48:35.267Z"
   }
  ],
  "kernelspec": {
   "display_name": "Python 3 (ipykernel)",
   "language": "python",
   "name": "python3"
  },
  "language_info": {
   "codemirror_mode": {
    "name": "ipython",
    "version": 3
   },
   "file_extension": ".py",
   "mimetype": "text/x-python",
   "name": "python",
   "nbconvert_exporter": "python",
   "pygments_lexer": "ipython3",
   "version": "3.9.13"
  },
  "toc": {
   "base_numbering": 1,
   "nav_menu": {},
   "number_sections": true,
   "sideBar": true,
   "skip_h1_title": true,
   "title_cell": "Содержание",
   "title_sidebar": "Contents",
   "toc_cell": true,
   "toc_position": {
    "height": "calc(100% - 180px)",
    "left": "10px",
    "top": "150px",
    "width": "255.391px"
   },
   "toc_section_display": true,
   "toc_window_display": true
  }
 },
 "nbformat": 4,
 "nbformat_minor": 2
}
