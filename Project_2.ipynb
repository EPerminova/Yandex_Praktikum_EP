{
 "cells": [
  {
   "cell_type": "markdown",
   "id": "dc1be1bb",
   "metadata": {
    "deletable": false,
    "editable": false,
    "id": "c81daeeb"
   },
   "source": [
    "# Исследование надежности заемщиков\n"
   ]
  },
  {
   "cell_type": "markdown",
   "id": "57b3a8ea",
   "metadata": {
    "deletable": false,
    "editable": false,
    "id": "827c20bf"
   },
   "source": [
    "Во второй части проекта вы выполните шаги 3 и 4. Их вручную проверит ревьюер.\n",
    "Чтобы вам не пришлось писать код заново для шагов 1 и 2, мы добавили авторские решения в ячейки с кодом. \n",
    "\n"
   ]
  },
  {
   "cell_type": "markdown",
   "id": "55a45d99",
   "metadata": {
    "deletable": false,
    "editable": false,
    "id": "744d7639"
   },
   "source": [
    "## Откройте таблицу и изучите общую информацию о данных"
   ]
  },
  {
   "cell_type": "markdown",
   "id": "1285b702",
   "metadata": {
    "deletable": false,
    "editable": false,
    "id": "e7a14c31"
   },
   "source": [
    "**Задание 1. Импортируйте библиотеку pandas. Считайте данные из csv-файла в датафрейм и сохраните в переменную `data`. Путь к файлу:**\n",
    "\n",
    "`/datasets/data.csv`"
   ]
  },
  {
   "cell_type": "code",
   "execution_count": 1,
   "id": "f0b15a63",
   "metadata": {
    "deletable": false,
    "id": "7bcf75c9"
   },
   "outputs": [],
   "source": [
    "import pandas as pd\n",
    "\n",
    "try:\n",
    "    data = pd.read_csv('/datasets/data.csv')\n",
    "except:\n",
    "    data = pd.read_csv('https://code.s3.yandex.net/datasets/data.csv')"
   ]
  },
  {
   "cell_type": "markdown",
   "id": "1dd97e3d",
   "metadata": {
    "deletable": false,
    "editable": false,
    "id": "b8038fe3"
   },
   "source": [
    "**Задание 2. Выведите первые 20 строчек датафрейма `data` на экран.**"
   ]
  },
  {
   "cell_type": "code",
   "execution_count": 2,
   "id": "a47eb66d",
   "metadata": {
    "deletable": false,
    "id": "2a7cab99",
    "outputId": "1a8f3ef2-d323-4ec2-ddf7-89670b5944c4"
   },
   "outputs": [
    {
     "data": {
      "text/html": [
       "<div>\n",
       "<style scoped>\n",
       "    .dataframe tbody tr th:only-of-type {\n",
       "        vertical-align: middle;\n",
       "    }\n",
       "\n",
       "    .dataframe tbody tr th {\n",
       "        vertical-align: top;\n",
       "    }\n",
       "\n",
       "    .dataframe thead th {\n",
       "        text-align: right;\n",
       "    }\n",
       "</style>\n",
       "<table border=\"1\" class=\"dataframe\">\n",
       "  <thead>\n",
       "    <tr style=\"text-align: right;\">\n",
       "      <th></th>\n",
       "      <th>children</th>\n",
       "      <th>days_employed</th>\n",
       "      <th>dob_years</th>\n",
       "      <th>education</th>\n",
       "      <th>education_id</th>\n",
       "      <th>family_status</th>\n",
       "      <th>family_status_id</th>\n",
       "      <th>gender</th>\n",
       "      <th>income_type</th>\n",
       "      <th>debt</th>\n",
       "      <th>total_income</th>\n",
       "      <th>purpose</th>\n",
       "    </tr>\n",
       "  </thead>\n",
       "  <tbody>\n",
       "    <tr>\n",
       "      <th>0</th>\n",
       "      <td>1</td>\n",
       "      <td>-8437.673028</td>\n",
       "      <td>42</td>\n",
       "      <td>высшее</td>\n",
       "      <td>0</td>\n",
       "      <td>женат / замужем</td>\n",
       "      <td>0</td>\n",
       "      <td>F</td>\n",
       "      <td>сотрудник</td>\n",
       "      <td>0</td>\n",
       "      <td>253875.639453</td>\n",
       "      <td>покупка жилья</td>\n",
       "    </tr>\n",
       "    <tr>\n",
       "      <th>1</th>\n",
       "      <td>1</td>\n",
       "      <td>-4024.803754</td>\n",
       "      <td>36</td>\n",
       "      <td>среднее</td>\n",
       "      <td>1</td>\n",
       "      <td>женат / замужем</td>\n",
       "      <td>0</td>\n",
       "      <td>F</td>\n",
       "      <td>сотрудник</td>\n",
       "      <td>0</td>\n",
       "      <td>112080.014102</td>\n",
       "      <td>приобретение автомобиля</td>\n",
       "    </tr>\n",
       "    <tr>\n",
       "      <th>2</th>\n",
       "      <td>0</td>\n",
       "      <td>-5623.422610</td>\n",
       "      <td>33</td>\n",
       "      <td>Среднее</td>\n",
       "      <td>1</td>\n",
       "      <td>женат / замужем</td>\n",
       "      <td>0</td>\n",
       "      <td>M</td>\n",
       "      <td>сотрудник</td>\n",
       "      <td>0</td>\n",
       "      <td>145885.952297</td>\n",
       "      <td>покупка жилья</td>\n",
       "    </tr>\n",
       "    <tr>\n",
       "      <th>3</th>\n",
       "      <td>3</td>\n",
       "      <td>-4124.747207</td>\n",
       "      <td>32</td>\n",
       "      <td>среднее</td>\n",
       "      <td>1</td>\n",
       "      <td>женат / замужем</td>\n",
       "      <td>0</td>\n",
       "      <td>M</td>\n",
       "      <td>сотрудник</td>\n",
       "      <td>0</td>\n",
       "      <td>267628.550329</td>\n",
       "      <td>дополнительное образование</td>\n",
       "    </tr>\n",
       "    <tr>\n",
       "      <th>4</th>\n",
       "      <td>0</td>\n",
       "      <td>340266.072047</td>\n",
       "      <td>53</td>\n",
       "      <td>среднее</td>\n",
       "      <td>1</td>\n",
       "      <td>гражданский брак</td>\n",
       "      <td>1</td>\n",
       "      <td>F</td>\n",
       "      <td>пенсионер</td>\n",
       "      <td>0</td>\n",
       "      <td>158616.077870</td>\n",
       "      <td>сыграть свадьбу</td>\n",
       "    </tr>\n",
       "    <tr>\n",
       "      <th>5</th>\n",
       "      <td>0</td>\n",
       "      <td>-926.185831</td>\n",
       "      <td>27</td>\n",
       "      <td>высшее</td>\n",
       "      <td>0</td>\n",
       "      <td>гражданский брак</td>\n",
       "      <td>1</td>\n",
       "      <td>M</td>\n",
       "      <td>компаньон</td>\n",
       "      <td>0</td>\n",
       "      <td>255763.565419</td>\n",
       "      <td>покупка жилья</td>\n",
       "    </tr>\n",
       "    <tr>\n",
       "      <th>6</th>\n",
       "      <td>0</td>\n",
       "      <td>-2879.202052</td>\n",
       "      <td>43</td>\n",
       "      <td>высшее</td>\n",
       "      <td>0</td>\n",
       "      <td>женат / замужем</td>\n",
       "      <td>0</td>\n",
       "      <td>F</td>\n",
       "      <td>компаньон</td>\n",
       "      <td>0</td>\n",
       "      <td>240525.971920</td>\n",
       "      <td>операции с жильем</td>\n",
       "    </tr>\n",
       "    <tr>\n",
       "      <th>7</th>\n",
       "      <td>0</td>\n",
       "      <td>-152.779569</td>\n",
       "      <td>50</td>\n",
       "      <td>СРЕДНЕЕ</td>\n",
       "      <td>1</td>\n",
       "      <td>женат / замужем</td>\n",
       "      <td>0</td>\n",
       "      <td>M</td>\n",
       "      <td>сотрудник</td>\n",
       "      <td>0</td>\n",
       "      <td>135823.934197</td>\n",
       "      <td>образование</td>\n",
       "    </tr>\n",
       "    <tr>\n",
       "      <th>8</th>\n",
       "      <td>2</td>\n",
       "      <td>-6929.865299</td>\n",
       "      <td>35</td>\n",
       "      <td>ВЫСШЕЕ</td>\n",
       "      <td>0</td>\n",
       "      <td>гражданский брак</td>\n",
       "      <td>1</td>\n",
       "      <td>F</td>\n",
       "      <td>сотрудник</td>\n",
       "      <td>0</td>\n",
       "      <td>95856.832424</td>\n",
       "      <td>на проведение свадьбы</td>\n",
       "    </tr>\n",
       "    <tr>\n",
       "      <th>9</th>\n",
       "      <td>0</td>\n",
       "      <td>-2188.756445</td>\n",
       "      <td>41</td>\n",
       "      <td>среднее</td>\n",
       "      <td>1</td>\n",
       "      <td>женат / замужем</td>\n",
       "      <td>0</td>\n",
       "      <td>M</td>\n",
       "      <td>сотрудник</td>\n",
       "      <td>0</td>\n",
       "      <td>144425.938277</td>\n",
       "      <td>покупка жилья для семьи</td>\n",
       "    </tr>\n",
       "    <tr>\n",
       "      <th>10</th>\n",
       "      <td>2</td>\n",
       "      <td>-4171.483647</td>\n",
       "      <td>36</td>\n",
       "      <td>высшее</td>\n",
       "      <td>0</td>\n",
       "      <td>женат / замужем</td>\n",
       "      <td>0</td>\n",
       "      <td>M</td>\n",
       "      <td>компаньон</td>\n",
       "      <td>0</td>\n",
       "      <td>113943.491460</td>\n",
       "      <td>покупка недвижимости</td>\n",
       "    </tr>\n",
       "    <tr>\n",
       "      <th>11</th>\n",
       "      <td>0</td>\n",
       "      <td>-792.701887</td>\n",
       "      <td>40</td>\n",
       "      <td>среднее</td>\n",
       "      <td>1</td>\n",
       "      <td>женат / замужем</td>\n",
       "      <td>0</td>\n",
       "      <td>F</td>\n",
       "      <td>сотрудник</td>\n",
       "      <td>0</td>\n",
       "      <td>77069.234271</td>\n",
       "      <td>покупка коммерческой недвижимости</td>\n",
       "    </tr>\n",
       "    <tr>\n",
       "      <th>12</th>\n",
       "      <td>0</td>\n",
       "      <td>NaN</td>\n",
       "      <td>65</td>\n",
       "      <td>среднее</td>\n",
       "      <td>1</td>\n",
       "      <td>гражданский брак</td>\n",
       "      <td>1</td>\n",
       "      <td>M</td>\n",
       "      <td>пенсионер</td>\n",
       "      <td>0</td>\n",
       "      <td>NaN</td>\n",
       "      <td>сыграть свадьбу</td>\n",
       "    </tr>\n",
       "    <tr>\n",
       "      <th>13</th>\n",
       "      <td>0</td>\n",
       "      <td>-1846.641941</td>\n",
       "      <td>54</td>\n",
       "      <td>неоконченное высшее</td>\n",
       "      <td>2</td>\n",
       "      <td>женат / замужем</td>\n",
       "      <td>0</td>\n",
       "      <td>F</td>\n",
       "      <td>сотрудник</td>\n",
       "      <td>0</td>\n",
       "      <td>130458.228857</td>\n",
       "      <td>приобретение автомобиля</td>\n",
       "    </tr>\n",
       "    <tr>\n",
       "      <th>14</th>\n",
       "      <td>0</td>\n",
       "      <td>-1844.956182</td>\n",
       "      <td>56</td>\n",
       "      <td>высшее</td>\n",
       "      <td>0</td>\n",
       "      <td>гражданский брак</td>\n",
       "      <td>1</td>\n",
       "      <td>F</td>\n",
       "      <td>компаньон</td>\n",
       "      <td>1</td>\n",
       "      <td>165127.911772</td>\n",
       "      <td>покупка жилой недвижимости</td>\n",
       "    </tr>\n",
       "    <tr>\n",
       "      <th>15</th>\n",
       "      <td>1</td>\n",
       "      <td>-972.364419</td>\n",
       "      <td>26</td>\n",
       "      <td>среднее</td>\n",
       "      <td>1</td>\n",
       "      <td>женат / замужем</td>\n",
       "      <td>0</td>\n",
       "      <td>F</td>\n",
       "      <td>сотрудник</td>\n",
       "      <td>0</td>\n",
       "      <td>116820.904450</td>\n",
       "      <td>строительство собственной недвижимости</td>\n",
       "    </tr>\n",
       "    <tr>\n",
       "      <th>16</th>\n",
       "      <td>0</td>\n",
       "      <td>-1719.934226</td>\n",
       "      <td>35</td>\n",
       "      <td>среднее</td>\n",
       "      <td>1</td>\n",
       "      <td>женат / замужем</td>\n",
       "      <td>0</td>\n",
       "      <td>F</td>\n",
       "      <td>сотрудник</td>\n",
       "      <td>0</td>\n",
       "      <td>289202.704229</td>\n",
       "      <td>недвижимость</td>\n",
       "    </tr>\n",
       "    <tr>\n",
       "      <th>17</th>\n",
       "      <td>0</td>\n",
       "      <td>-2369.999720</td>\n",
       "      <td>33</td>\n",
       "      <td>высшее</td>\n",
       "      <td>0</td>\n",
       "      <td>гражданский брак</td>\n",
       "      <td>1</td>\n",
       "      <td>M</td>\n",
       "      <td>сотрудник</td>\n",
       "      <td>0</td>\n",
       "      <td>90410.586745</td>\n",
       "      <td>строительство недвижимости</td>\n",
       "    </tr>\n",
       "    <tr>\n",
       "      <th>18</th>\n",
       "      <td>0</td>\n",
       "      <td>400281.136913</td>\n",
       "      <td>53</td>\n",
       "      <td>среднее</td>\n",
       "      <td>1</td>\n",
       "      <td>вдовец / вдова</td>\n",
       "      <td>2</td>\n",
       "      <td>F</td>\n",
       "      <td>пенсионер</td>\n",
       "      <td>0</td>\n",
       "      <td>56823.777243</td>\n",
       "      <td>на покупку подержанного автомобиля</td>\n",
       "    </tr>\n",
       "    <tr>\n",
       "      <th>19</th>\n",
       "      <td>0</td>\n",
       "      <td>-10038.818549</td>\n",
       "      <td>48</td>\n",
       "      <td>СРЕДНЕЕ</td>\n",
       "      <td>1</td>\n",
       "      <td>в разводе</td>\n",
       "      <td>3</td>\n",
       "      <td>F</td>\n",
       "      <td>сотрудник</td>\n",
       "      <td>0</td>\n",
       "      <td>242831.107982</td>\n",
       "      <td>на покупку своего автомобиля</td>\n",
       "    </tr>\n",
       "  </tbody>\n",
       "</table>\n",
       "</div>"
      ],
      "text/plain": [
       "    children  days_employed  dob_years            education  education_id  \\\n",
       "0          1   -8437.673028         42               высшее             0   \n",
       "1          1   -4024.803754         36              среднее             1   \n",
       "2          0   -5623.422610         33              Среднее             1   \n",
       "3          3   -4124.747207         32              среднее             1   \n",
       "4          0  340266.072047         53              среднее             1   \n",
       "5          0    -926.185831         27               высшее             0   \n",
       "6          0   -2879.202052         43               высшее             0   \n",
       "7          0    -152.779569         50              СРЕДНЕЕ             1   \n",
       "8          2   -6929.865299         35               ВЫСШЕЕ             0   \n",
       "9          0   -2188.756445         41              среднее             1   \n",
       "10         2   -4171.483647         36               высшее             0   \n",
       "11         0    -792.701887         40              среднее             1   \n",
       "12         0            NaN         65              среднее             1   \n",
       "13         0   -1846.641941         54  неоконченное высшее             2   \n",
       "14         0   -1844.956182         56               высшее             0   \n",
       "15         1    -972.364419         26              среднее             1   \n",
       "16         0   -1719.934226         35              среднее             1   \n",
       "17         0   -2369.999720         33               высшее             0   \n",
       "18         0  400281.136913         53              среднее             1   \n",
       "19         0  -10038.818549         48              СРЕДНЕЕ             1   \n",
       "\n",
       "       family_status  family_status_id gender income_type  debt  \\\n",
       "0    женат / замужем                 0      F   сотрудник     0   \n",
       "1    женат / замужем                 0      F   сотрудник     0   \n",
       "2    женат / замужем                 0      M   сотрудник     0   \n",
       "3    женат / замужем                 0      M   сотрудник     0   \n",
       "4   гражданский брак                 1      F   пенсионер     0   \n",
       "5   гражданский брак                 1      M   компаньон     0   \n",
       "6    женат / замужем                 0      F   компаньон     0   \n",
       "7    женат / замужем                 0      M   сотрудник     0   \n",
       "8   гражданский брак                 1      F   сотрудник     0   \n",
       "9    женат / замужем                 0      M   сотрудник     0   \n",
       "10   женат / замужем                 0      M   компаньон     0   \n",
       "11   женат / замужем                 0      F   сотрудник     0   \n",
       "12  гражданский брак                 1      M   пенсионер     0   \n",
       "13   женат / замужем                 0      F   сотрудник     0   \n",
       "14  гражданский брак                 1      F   компаньон     1   \n",
       "15   женат / замужем                 0      F   сотрудник     0   \n",
       "16   женат / замужем                 0      F   сотрудник     0   \n",
       "17  гражданский брак                 1      M   сотрудник     0   \n",
       "18    вдовец / вдова                 2      F   пенсионер     0   \n",
       "19         в разводе                 3      F   сотрудник     0   \n",
       "\n",
       "     total_income                                 purpose  \n",
       "0   253875.639453                           покупка жилья  \n",
       "1   112080.014102                 приобретение автомобиля  \n",
       "2   145885.952297                           покупка жилья  \n",
       "3   267628.550329              дополнительное образование  \n",
       "4   158616.077870                         сыграть свадьбу  \n",
       "5   255763.565419                           покупка жилья  \n",
       "6   240525.971920                       операции с жильем  \n",
       "7   135823.934197                             образование  \n",
       "8    95856.832424                   на проведение свадьбы  \n",
       "9   144425.938277                 покупка жилья для семьи  \n",
       "10  113943.491460                    покупка недвижимости  \n",
       "11   77069.234271       покупка коммерческой недвижимости  \n",
       "12            NaN                         сыграть свадьбу  \n",
       "13  130458.228857                 приобретение автомобиля  \n",
       "14  165127.911772              покупка жилой недвижимости  \n",
       "15  116820.904450  строительство собственной недвижимости  \n",
       "16  289202.704229                            недвижимость  \n",
       "17   90410.586745              строительство недвижимости  \n",
       "18   56823.777243      на покупку подержанного автомобиля  \n",
       "19  242831.107982            на покупку своего автомобиля  "
      ]
     },
     "execution_count": 2,
     "metadata": {},
     "output_type": "execute_result"
    }
   ],
   "source": [
    "data.head(20) "
   ]
  },
  {
   "cell_type": "markdown",
   "id": "0efa2e97",
   "metadata": {
    "deletable": false,
    "editable": false,
    "id": "1c12e233"
   },
   "source": [
    "**Задание 3. Выведите основную информацию о датафрейме с помощью метода `info()`.**"
   ]
  },
  {
   "cell_type": "code",
   "execution_count": 3,
   "id": "455b26a1",
   "metadata": {
    "deletable": false,
    "id": "2b757bca",
    "outputId": "15376089-8dad-46c9-b520-c05248d43158"
   },
   "outputs": [
    {
     "name": "stdout",
     "output_type": "stream",
     "text": [
      "<class 'pandas.core.frame.DataFrame'>\n",
      "RangeIndex: 21525 entries, 0 to 21524\n",
      "Data columns (total 12 columns):\n",
      " #   Column            Non-Null Count  Dtype  \n",
      "---  ------            --------------  -----  \n",
      " 0   children          21525 non-null  int64  \n",
      " 1   days_employed     19351 non-null  float64\n",
      " 2   dob_years         21525 non-null  int64  \n",
      " 3   education         21525 non-null  object \n",
      " 4   education_id      21525 non-null  int64  \n",
      " 5   family_status     21525 non-null  object \n",
      " 6   family_status_id  21525 non-null  int64  \n",
      " 7   gender            21525 non-null  object \n",
      " 8   income_type       21525 non-null  object \n",
      " 9   debt              21525 non-null  int64  \n",
      " 10  total_income      19351 non-null  float64\n",
      " 11  purpose           21525 non-null  object \n",
      "dtypes: float64(2), int64(5), object(5)\n",
      "memory usage: 2.0+ MB\n"
     ]
    }
   ],
   "source": [
    "data.info()"
   ]
  },
  {
   "cell_type": "markdown",
   "id": "b5d577fd",
   "metadata": {
    "deletable": false,
    "editable": false,
    "id": "333ec665"
   },
   "source": [
    "## Предобработка данных"
   ]
  },
  {
   "cell_type": "markdown",
   "id": "145b8ec2",
   "metadata": {
    "deletable": false,
    "editable": false,
    "id": "02d92d53"
   },
   "source": [
    "### Удаление пропусков"
   ]
  },
  {
   "cell_type": "markdown",
   "id": "44552e32",
   "metadata": {
    "deletable": false,
    "editable": false,
    "id": "cd84967c"
   },
   "source": [
    "**Задание 4. Выведите количество пропущенных значений для каждого столбца. Используйте комбинацию двух методов.**"
   ]
  },
  {
   "cell_type": "code",
   "execution_count": 4,
   "id": "0bf2dcfa",
   "metadata": {
    "deletable": false,
    "id": "7f9b2309",
    "outputId": "81f4d817-781c-465c-ed15-91ce4446810d"
   },
   "outputs": [
    {
     "data": {
      "text/plain": [
       "children               0\n",
       "days_employed       2174\n",
       "dob_years              0\n",
       "education              0\n",
       "education_id           0\n",
       "family_status          0\n",
       "family_status_id       0\n",
       "gender                 0\n",
       "income_type            0\n",
       "debt                   0\n",
       "total_income        2174\n",
       "purpose                0\n",
       "dtype: int64"
      ]
     },
     "execution_count": 4,
     "metadata": {},
     "output_type": "execute_result"
    }
   ],
   "source": [
    "data.isna().sum()"
   ]
  },
  {
   "cell_type": "markdown",
   "id": "a8de50c4",
   "metadata": {
    "deletable": false,
    "editable": false,
    "id": "db86e27b"
   },
   "source": [
    "**Задание 5. В двух столбцах есть пропущенные значения. Один из них — `days_employed`. Пропуски в этом столбце вы обработаете на следующем этапе. Другой столбец с пропущенными значениями — `total_income` — хранит данные о доходах. На сумму дохода сильнее всего влияет тип занятости, поэтому заполнить пропуски в этом столбце нужно медианным значением по каждому типу из столбца `income_type`. Например, у человека с типом занятости `сотрудник` пропуск в столбце `total_income` должен быть заполнен медианным доходом среди всех записей с тем же типом.**"
   ]
  },
  {
   "cell_type": "code",
   "execution_count": 5,
   "id": "4b374020",
   "metadata": {
    "deletable": false,
    "id": "42006a93"
   },
   "outputs": [],
   "source": [
    "for t in data['income_type'].unique():\n",
    "    data.loc[(data['income_type'] == t) & (data['total_income'].isna()), 'total_income'] = \\\n",
    "    data.loc[(data['income_type'] == t), 'total_income'].median()"
   ]
  },
  {
   "cell_type": "markdown",
   "id": "bd0ef212",
   "metadata": {
    "deletable": false,
    "editable": false,
    "id": "89da5ece"
   },
   "source": [
    "### Обработка аномальных значений"
   ]
  },
  {
   "cell_type": "markdown",
   "id": "710b7928",
   "metadata": {
    "deletable": false,
    "editable": false,
    "id": "57964554"
   },
   "source": [
    "**Задание 6. В данных могут встречаться артефакты (аномалии) — значения, которые не отражают действительность и появились по какой-то ошибке. таким артефактом будет отрицательное количество дней трудового стажа в столбце `days_employed`. Для реальных данных это нормально. Обработайте значения в этом столбце: замените все отрицательные значения положительными с помощью метода `abs()`.**"
   ]
  },
  {
   "cell_type": "code",
   "execution_count": 6,
   "id": "54ac4c84",
   "metadata": {
    "deletable": false,
    "id": "f6f055bf"
   },
   "outputs": [],
   "source": [
    "data['days_employed'] = data['days_employed'].abs()"
   ]
  },
  {
   "cell_type": "markdown",
   "id": "e8acea28",
   "metadata": {
    "deletable": false,
    "editable": false,
    "id": "6107dd2f"
   },
   "source": [
    "**Задание 7. Для каждого типа занятости выведите медианное значение трудового стажа `days_employed` в днях.**"
   ]
  },
  {
   "cell_type": "code",
   "execution_count": 7,
   "id": "50c3f0fe",
   "metadata": {
    "deletable": false,
    "id": "85a5faf6",
    "outputId": "801ef80e-522b-4668-f34e-565af7432bcf"
   },
   "outputs": [
    {
     "data": {
      "text/plain": [
       "income_type\n",
       "безработный        366413.652744\n",
       "в декрете            3296.759962\n",
       "госслужащий          2689.368353\n",
       "компаньон            1547.382223\n",
       "пенсионер          365213.306266\n",
       "предприниматель       520.848083\n",
       "сотрудник            1574.202821\n",
       "студент               578.751554\n",
       "Name: days_employed, dtype: float64"
      ]
     },
     "execution_count": 7,
     "metadata": {},
     "output_type": "execute_result"
    }
   ],
   "source": [
    "data.groupby('income_type')['days_employed'].agg('median')"
   ]
  },
  {
   "cell_type": "markdown",
   "id": "a0fa7e4b",
   "metadata": {
    "deletable": false,
    "editable": false,
    "id": "38d1a030"
   },
   "source": [
    "У двух типов (безработные и пенсионеры) получатся аномально большие значения. Исправить такие значения сложно, поэтому оставьте их как есть. Тем более этот столбец не понадобится вам для исследования."
   ]
  },
  {
   "cell_type": "markdown",
   "id": "8c324c35",
   "metadata": {
    "deletable": false,
    "editable": false,
    "id": "d8a9f147"
   },
   "source": [
    "**Задание 8. Выведите перечень уникальных значений столбца `children`.**"
   ]
  },
  {
   "cell_type": "code",
   "execution_count": 8,
   "id": "85c06f87",
   "metadata": {
    "deletable": false,
    "id": "ef5056eb",
    "outputId": "6975b15c-7f95-4697-d16d-a0c79b657b03"
   },
   "outputs": [
    {
     "data": {
      "text/plain": [
       "array([ 1,  0,  3,  2, -1,  4, 20,  5])"
      ]
     },
     "execution_count": 8,
     "metadata": {},
     "output_type": "execute_result"
    }
   ],
   "source": [
    "data['children'].unique()"
   ]
  },
  {
   "cell_type": "markdown",
   "id": "8e89e521",
   "metadata": {
    "deletable": false,
    "editable": false,
    "id": "40b9ebf2"
   },
   "source": [
    "**Задание 9. В столбце `children` есть два аномальных значения. Удалите строки, в которых встречаются такие аномальные значения из датафрейма `data`.**"
   ]
  },
  {
   "cell_type": "code",
   "execution_count": 9,
   "id": "50a42eab",
   "metadata": {
    "deletable": false,
    "id": "3ff9801d"
   },
   "outputs": [],
   "source": [
    "data = data[(data['children'] != -1) & (data['children'] != 20)]"
   ]
  },
  {
   "cell_type": "markdown",
   "id": "7c39d974",
   "metadata": {
    "deletable": false,
    "editable": false,
    "id": "bbc4d0ce"
   },
   "source": [
    "**Задание 10. Ещё раз выведите перечень уникальных значений столбца `children`, чтобы убедиться, что артефакты удалены.**"
   ]
  },
  {
   "cell_type": "code",
   "execution_count": 10,
   "id": "4e6e98fd",
   "metadata": {
    "deletable": false,
    "id": "ad4fa8b7",
    "outputId": "b2097101-d49d-44d9-901b-32a65c9463d1"
   },
   "outputs": [
    {
     "data": {
      "text/plain": [
       "array([1, 0, 3, 2, 4, 5])"
      ]
     },
     "execution_count": 10,
     "metadata": {},
     "output_type": "execute_result"
    }
   ],
   "source": [
    "data['children'].unique()"
   ]
  },
  {
   "cell_type": "markdown",
   "id": "bc119d98",
   "metadata": {
    "deletable": false,
    "editable": false,
    "id": "75440b63"
   },
   "source": [
    "### Удаление пропусков (продолжение)"
   ]
  },
  {
   "cell_type": "markdown",
   "id": "70f251f0",
   "metadata": {
    "deletable": false,
    "editable": false,
    "id": "f4ea573f"
   },
   "source": [
    "**Задание 11. Заполните пропуски в столбце `days_employed` медианными значениями по каждого типа занятости `income_type`.**"
   ]
  },
  {
   "cell_type": "code",
   "execution_count": 11,
   "id": "012c4be7",
   "metadata": {
    "deletable": false,
    "id": "af6b1a7e"
   },
   "outputs": [],
   "source": [
    "for t in data['income_type'].unique():\n",
    "    data.loc[(data['income_type'] == t) & (data['days_employed'].isna()), 'days_employed'] = \\\n",
    "    data.loc[(data['income_type'] == t), 'days_employed'].median()"
   ]
  },
  {
   "cell_type": "markdown",
   "id": "a3368de0",
   "metadata": {
    "deletable": false,
    "editable": false,
    "id": "2753f40d"
   },
   "source": [
    "**Задание 12. Убедитесь, что все пропуски заполнены. Проверьте себя и ещё раз выведите количество пропущенных значений для каждого столбца с помощью двух методов.**"
   ]
  },
  {
   "cell_type": "code",
   "execution_count": 12,
   "id": "2eabbb57",
   "metadata": {
    "deletable": false,
    "id": "55f78bc2",
    "outputId": "8da1e4e1-358e-4e87-98c9-f261bce0a7b2"
   },
   "outputs": [
    {
     "data": {
      "text/plain": [
       "children            0\n",
       "days_employed       0\n",
       "dob_years           0\n",
       "education           0\n",
       "education_id        0\n",
       "family_status       0\n",
       "family_status_id    0\n",
       "gender              0\n",
       "income_type         0\n",
       "debt                0\n",
       "total_income        0\n",
       "purpose             0\n",
       "dtype: int64"
      ]
     },
     "execution_count": 12,
     "metadata": {},
     "output_type": "execute_result"
    }
   ],
   "source": [
    "data.isna().sum()"
   ]
  },
  {
   "cell_type": "markdown",
   "id": "f5abadd3",
   "metadata": {
    "deletable": false,
    "editable": false,
    "id": "ddc81e43"
   },
   "source": [
    "### Изменение типов данных"
   ]
  },
  {
   "cell_type": "markdown",
   "id": "f27e094d",
   "metadata": {
    "deletable": false,
    "editable": false,
    "id": "42d19d24"
   },
   "source": [
    "**Задание 13. Замените вещественный тип данных в столбце `total_income` на целочисленный с помощью метода `astype()`.**"
   ]
  },
  {
   "cell_type": "code",
   "execution_count": 13,
   "id": "14efc745",
   "metadata": {
    "deletable": false,
    "id": "920b65ad"
   },
   "outputs": [],
   "source": [
    "data['total_income'] = data['total_income'].astype(int)"
   ]
  },
  {
   "cell_type": "markdown",
   "id": "9c4991fc",
   "metadata": {
    "deletable": false,
    "editable": false,
    "id": "80c420ba"
   },
   "source": [
    "### Обработка дубликатов"
   ]
  },
  {
   "cell_type": "markdown",
   "id": "8973b94c",
   "metadata": {
    "deletable": false,
    "editable": false
   },
   "source": [
    "**Задание 14. Обработайте неявные дубликаты в столбце `education`. В этом столбце есть одни и те же значения, но записанные по-разному: с использованием заглавных и строчных букв. Приведите их к нижнему регистру. Проверьте остальные столбцы.**"
   ]
  },
  {
   "cell_type": "code",
   "execution_count": 14,
   "id": "dda1fdc2",
   "metadata": {
    "deletable": false
   },
   "outputs": [],
   "source": [
    "data['education'] = data['education'].str.lower()"
   ]
  },
  {
   "cell_type": "markdown",
   "id": "6ec9e270",
   "metadata": {
    "deletable": false,
    "editable": false,
    "id": "dc587695"
   },
   "source": [
    "**Задание 15. Выведите на экран количество строк-дубликатов в данных. Если такие строки присутствуют, удалите их.**"
   ]
  },
  {
   "cell_type": "code",
   "execution_count": 15,
   "id": "0ee92c0e",
   "metadata": {
    "deletable": false,
    "id": "3ee445e4",
    "outputId": "9684deba-1934-42d1-99e1-cda61740f822"
   },
   "outputs": [
    {
     "data": {
      "text/plain": [
       "71"
      ]
     },
     "execution_count": 15,
     "metadata": {},
     "output_type": "execute_result"
    }
   ],
   "source": [
    "data.duplicated().sum()"
   ]
  },
  {
   "cell_type": "code",
   "execution_count": 16,
   "id": "df456f5f",
   "metadata": {
    "deletable": false,
    "id": "8575fe05"
   },
   "outputs": [],
   "source": [
    "data = data.drop_duplicates()"
   ]
  },
  {
   "cell_type": "markdown",
   "id": "888114ed",
   "metadata": {
    "deletable": false,
    "editable": false,
    "id": "9904cf55"
   },
   "source": [
    "### Категоризация данных"
   ]
  },
  {
   "cell_type": "markdown",
   "id": "83a9ea60",
   "metadata": {
    "deletable": false,
    "editable": false,
    "id": "72fcc8a2"
   },
   "source": [
    "**Задание 16. На основании диапазонов, указанных ниже, создайте в датафрейме `data` столбец `total_income_category` с категориями:**\n",
    "\n",
    "- 0–30000 — `'E'`;\n",
    "- 30001–50000 — `'D'`;\n",
    "- 50001–200000 — `'C'`;\n",
    "- 200001–1000000 — `'B'`;\n",
    "- 1000001 и выше — `'A'`.\n",
    "\n",
    "\n",
    "**Например, кредитополучателю с доходом 25000 нужно назначить категорию `'E'`, а клиенту, получающему 235000, — `'B'`. Используйте собственную функцию с именем `categorize_income()` и метод `apply()`.**"
   ]
  },
  {
   "cell_type": "code",
   "execution_count": 17,
   "id": "c3feb3ea",
   "metadata": {
    "deletable": false,
    "id": "e1771346"
   },
   "outputs": [],
   "source": [
    "def categorize_income(income):\n",
    "    try:\n",
    "        if 0 <= income <= 30000:\n",
    "            return 'E'\n",
    "        elif 30001 <= income <= 50000:\n",
    "            return 'D'\n",
    "        elif 50001 <= income <= 200000:\n",
    "            return 'C'\n",
    "        elif 200001 <= income <= 1000000:\n",
    "            return 'B'\n",
    "        elif income >= 1000001:\n",
    "            return 'A'\n",
    "    except:\n",
    "        pass"
   ]
  },
  {
   "cell_type": "code",
   "execution_count": 18,
   "id": "f77fd3de",
   "metadata": {
    "deletable": false,
    "id": "d5f3586d"
   },
   "outputs": [],
   "source": [
    "data['total_income_category'] = data['total_income'].apply(categorize_income)"
   ]
  },
  {
   "cell_type": "markdown",
   "id": "03d97d27",
   "metadata": {
    "deletable": false,
    "editable": false,
    "id": "dde49b5c"
   },
   "source": [
    "**Задание 17. Выведите на экран перечень уникальных целей взятия кредита из столбца `purpose`.**"
   ]
  },
  {
   "cell_type": "code",
   "execution_count": 19,
   "id": "b260570d",
   "metadata": {
    "deletable": false,
    "id": "f67ce9b3",
    "outputId": "673c12d9-7d7e-4ae0-9812-c622c89dd244",
    "scrolled": true
   },
   "outputs": [
    {
     "data": {
      "text/plain": [
       "array(['покупка жилья', 'приобретение автомобиля',\n",
       "       'дополнительное образование', 'сыграть свадьбу',\n",
       "       'операции с жильем', 'образование', 'на проведение свадьбы',\n",
       "       'покупка жилья для семьи', 'покупка недвижимости',\n",
       "       'покупка коммерческой недвижимости', 'покупка жилой недвижимости',\n",
       "       'строительство собственной недвижимости', 'недвижимость',\n",
       "       'строительство недвижимости', 'на покупку подержанного автомобиля',\n",
       "       'на покупку своего автомобиля',\n",
       "       'операции с коммерческой недвижимостью',\n",
       "       'строительство жилой недвижимости', 'жилье',\n",
       "       'операции со своей недвижимостью', 'автомобили',\n",
       "       'заняться образованием', 'сделка с подержанным автомобилем',\n",
       "       'получение образования', 'автомобиль', 'свадьба',\n",
       "       'получение дополнительного образования', 'покупка своего жилья',\n",
       "       'операции с недвижимостью', 'получение высшего образования',\n",
       "       'свой автомобиль', 'сделка с автомобилем',\n",
       "       'профильное образование', 'высшее образование',\n",
       "       'покупка жилья для сдачи', 'на покупку автомобиля', 'ремонт жилью',\n",
       "       'заняться высшим образованием'], dtype=object)"
      ]
     },
     "execution_count": 19,
     "metadata": {},
     "output_type": "execute_result"
    }
   ],
   "source": [
    "data['purpose'].unique()"
   ]
  },
  {
   "cell_type": "markdown",
   "id": "141a2d9a",
   "metadata": {
    "deletable": false,
    "editable": false,
    "id": "85d0aef0"
   },
   "source": [
    "**Задание 18. Создайте функцию, которая на основании данных из столбца `purpose` сформирует новый столбец `purpose_category`, в который войдут следующие категории:**\n",
    "\n",
    "- `'операции с автомобилем'`,\n",
    "- `'операции с недвижимостью'`,\n",
    "- `'проведение свадьбы'`,\n",
    "- `'получение образования'`.\n",
    "\n",
    "**Например, если в столбце `purpose` находится подстрока `'на покупку автомобиля'`, то в столбце `purpose_category` должна появиться строка `'операции с автомобилем'`.**\n",
    "\n",
    "**Используйте собственную функцию с именем `categorize_purpose()` и метод `apply()`. Изучите данные в столбце `purpose` и определите, какие подстроки помогут вам правильно определить категорию.**"
   ]
  },
  {
   "cell_type": "code",
   "execution_count": 20,
   "id": "1736b1c6",
   "metadata": {
    "deletable": false,
    "id": "e149fab4"
   },
   "outputs": [],
   "source": [
    "def categorize_purpose(row):\n",
    "    try:\n",
    "        if 'автом' in row:\n",
    "            return 'операции с автомобилем'\n",
    "        elif 'жил' in row or 'недвиж' in row:\n",
    "            return 'операции с недвижимостью'\n",
    "        elif 'свад' in row:\n",
    "            return 'проведение свадьбы'\n",
    "        elif 'образов' in row:\n",
    "            return 'получение образования'\n",
    "    except:\n",
    "        return 'нет категории'"
   ]
  },
  {
   "cell_type": "code",
   "execution_count": 21,
   "id": "0cc51b8c",
   "metadata": {
    "deletable": false,
    "id": "bf36e69b"
   },
   "outputs": [],
   "source": [
    "data['purpose_category'] = data['purpose'].apply(categorize_purpose)"
   ]
  },
  {
   "cell_type": "code",
   "execution_count": 22,
   "id": "0c42fb26",
   "metadata": {
    "scrolled": false
   },
   "outputs": [
    {
     "data": {
      "text/html": [
       "<div>\n",
       "<style scoped>\n",
       "    .dataframe tbody tr th:only-of-type {\n",
       "        vertical-align: middle;\n",
       "    }\n",
       "\n",
       "    .dataframe tbody tr th {\n",
       "        vertical-align: top;\n",
       "    }\n",
       "\n",
       "    .dataframe thead th {\n",
       "        text-align: right;\n",
       "    }\n",
       "</style>\n",
       "<table border=\"1\" class=\"dataframe\">\n",
       "  <thead>\n",
       "    <tr style=\"text-align: right;\">\n",
       "      <th></th>\n",
       "      <th>children</th>\n",
       "      <th>days_employed</th>\n",
       "      <th>dob_years</th>\n",
       "      <th>education</th>\n",
       "      <th>education_id</th>\n",
       "      <th>family_status</th>\n",
       "      <th>family_status_id</th>\n",
       "      <th>gender</th>\n",
       "      <th>income_type</th>\n",
       "      <th>debt</th>\n",
       "      <th>total_income</th>\n",
       "      <th>purpose</th>\n",
       "      <th>total_income_category</th>\n",
       "      <th>purpose_category</th>\n",
       "    </tr>\n",
       "  </thead>\n",
       "  <tbody>\n",
       "    <tr>\n",
       "      <th>0</th>\n",
       "      <td>1</td>\n",
       "      <td>8437.673028</td>\n",
       "      <td>42</td>\n",
       "      <td>высшее</td>\n",
       "      <td>0</td>\n",
       "      <td>женат / замужем</td>\n",
       "      <td>0</td>\n",
       "      <td>F</td>\n",
       "      <td>сотрудник</td>\n",
       "      <td>0</td>\n",
       "      <td>253875</td>\n",
       "      <td>покупка жилья</td>\n",
       "      <td>B</td>\n",
       "      <td>операции с недвижимостью</td>\n",
       "    </tr>\n",
       "    <tr>\n",
       "      <th>1</th>\n",
       "      <td>1</td>\n",
       "      <td>4024.803754</td>\n",
       "      <td>36</td>\n",
       "      <td>среднее</td>\n",
       "      <td>1</td>\n",
       "      <td>женат / замужем</td>\n",
       "      <td>0</td>\n",
       "      <td>F</td>\n",
       "      <td>сотрудник</td>\n",
       "      <td>0</td>\n",
       "      <td>112080</td>\n",
       "      <td>приобретение автомобиля</td>\n",
       "      <td>C</td>\n",
       "      <td>операции с автомобилем</td>\n",
       "    </tr>\n",
       "    <tr>\n",
       "      <th>2</th>\n",
       "      <td>0</td>\n",
       "      <td>5623.422610</td>\n",
       "      <td>33</td>\n",
       "      <td>среднее</td>\n",
       "      <td>1</td>\n",
       "      <td>женат / замужем</td>\n",
       "      <td>0</td>\n",
       "      <td>M</td>\n",
       "      <td>сотрудник</td>\n",
       "      <td>0</td>\n",
       "      <td>145885</td>\n",
       "      <td>покупка жилья</td>\n",
       "      <td>C</td>\n",
       "      <td>операции с недвижимостью</td>\n",
       "    </tr>\n",
       "    <tr>\n",
       "      <th>3</th>\n",
       "      <td>3</td>\n",
       "      <td>4124.747207</td>\n",
       "      <td>32</td>\n",
       "      <td>среднее</td>\n",
       "      <td>1</td>\n",
       "      <td>женат / замужем</td>\n",
       "      <td>0</td>\n",
       "      <td>M</td>\n",
       "      <td>сотрудник</td>\n",
       "      <td>0</td>\n",
       "      <td>267628</td>\n",
       "      <td>дополнительное образование</td>\n",
       "      <td>B</td>\n",
       "      <td>получение образования</td>\n",
       "    </tr>\n",
       "    <tr>\n",
       "      <th>4</th>\n",
       "      <td>0</td>\n",
       "      <td>340266.072047</td>\n",
       "      <td>53</td>\n",
       "      <td>среднее</td>\n",
       "      <td>1</td>\n",
       "      <td>гражданский брак</td>\n",
       "      <td>1</td>\n",
       "      <td>F</td>\n",
       "      <td>пенсионер</td>\n",
       "      <td>0</td>\n",
       "      <td>158616</td>\n",
       "      <td>сыграть свадьбу</td>\n",
       "      <td>C</td>\n",
       "      <td>проведение свадьбы</td>\n",
       "    </tr>\n",
       "    <tr>\n",
       "      <th>5</th>\n",
       "      <td>0</td>\n",
       "      <td>926.185831</td>\n",
       "      <td>27</td>\n",
       "      <td>высшее</td>\n",
       "      <td>0</td>\n",
       "      <td>гражданский брак</td>\n",
       "      <td>1</td>\n",
       "      <td>M</td>\n",
       "      <td>компаньон</td>\n",
       "      <td>0</td>\n",
       "      <td>255763</td>\n",
       "      <td>покупка жилья</td>\n",
       "      <td>B</td>\n",
       "      <td>операции с недвижимостью</td>\n",
       "    </tr>\n",
       "    <tr>\n",
       "      <th>6</th>\n",
       "      <td>0</td>\n",
       "      <td>2879.202052</td>\n",
       "      <td>43</td>\n",
       "      <td>высшее</td>\n",
       "      <td>0</td>\n",
       "      <td>женат / замужем</td>\n",
       "      <td>0</td>\n",
       "      <td>F</td>\n",
       "      <td>компаньон</td>\n",
       "      <td>0</td>\n",
       "      <td>240525</td>\n",
       "      <td>операции с жильем</td>\n",
       "      <td>B</td>\n",
       "      <td>операции с недвижимостью</td>\n",
       "    </tr>\n",
       "    <tr>\n",
       "      <th>7</th>\n",
       "      <td>0</td>\n",
       "      <td>152.779569</td>\n",
       "      <td>50</td>\n",
       "      <td>среднее</td>\n",
       "      <td>1</td>\n",
       "      <td>женат / замужем</td>\n",
       "      <td>0</td>\n",
       "      <td>M</td>\n",
       "      <td>сотрудник</td>\n",
       "      <td>0</td>\n",
       "      <td>135823</td>\n",
       "      <td>образование</td>\n",
       "      <td>C</td>\n",
       "      <td>получение образования</td>\n",
       "    </tr>\n",
       "    <tr>\n",
       "      <th>8</th>\n",
       "      <td>2</td>\n",
       "      <td>6929.865299</td>\n",
       "      <td>35</td>\n",
       "      <td>высшее</td>\n",
       "      <td>0</td>\n",
       "      <td>гражданский брак</td>\n",
       "      <td>1</td>\n",
       "      <td>F</td>\n",
       "      <td>сотрудник</td>\n",
       "      <td>0</td>\n",
       "      <td>95856</td>\n",
       "      <td>на проведение свадьбы</td>\n",
       "      <td>C</td>\n",
       "      <td>проведение свадьбы</td>\n",
       "    </tr>\n",
       "    <tr>\n",
       "      <th>9</th>\n",
       "      <td>0</td>\n",
       "      <td>2188.756445</td>\n",
       "      <td>41</td>\n",
       "      <td>среднее</td>\n",
       "      <td>1</td>\n",
       "      <td>женат / замужем</td>\n",
       "      <td>0</td>\n",
       "      <td>M</td>\n",
       "      <td>сотрудник</td>\n",
       "      <td>0</td>\n",
       "      <td>144425</td>\n",
       "      <td>покупка жилья для семьи</td>\n",
       "      <td>C</td>\n",
       "      <td>операции с недвижимостью</td>\n",
       "    </tr>\n",
       "  </tbody>\n",
       "</table>\n",
       "</div>"
      ],
      "text/plain": [
       "   children  days_employed  dob_years education  education_id  \\\n",
       "0         1    8437.673028         42    высшее             0   \n",
       "1         1    4024.803754         36   среднее             1   \n",
       "2         0    5623.422610         33   среднее             1   \n",
       "3         3    4124.747207         32   среднее             1   \n",
       "4         0  340266.072047         53   среднее             1   \n",
       "5         0     926.185831         27    высшее             0   \n",
       "6         0    2879.202052         43    высшее             0   \n",
       "7         0     152.779569         50   среднее             1   \n",
       "8         2    6929.865299         35    высшее             0   \n",
       "9         0    2188.756445         41   среднее             1   \n",
       "\n",
       "      family_status  family_status_id gender income_type  debt  total_income  \\\n",
       "0   женат / замужем                 0      F   сотрудник     0        253875   \n",
       "1   женат / замужем                 0      F   сотрудник     0        112080   \n",
       "2   женат / замужем                 0      M   сотрудник     0        145885   \n",
       "3   женат / замужем                 0      M   сотрудник     0        267628   \n",
       "4  гражданский брак                 1      F   пенсионер     0        158616   \n",
       "5  гражданский брак                 1      M   компаньон     0        255763   \n",
       "6   женат / замужем                 0      F   компаньон     0        240525   \n",
       "7   женат / замужем                 0      M   сотрудник     0        135823   \n",
       "8  гражданский брак                 1      F   сотрудник     0         95856   \n",
       "9   женат / замужем                 0      M   сотрудник     0        144425   \n",
       "\n",
       "                      purpose total_income_category          purpose_category  \n",
       "0               покупка жилья                     B  операции с недвижимостью  \n",
       "1     приобретение автомобиля                     C    операции с автомобилем  \n",
       "2               покупка жилья                     C  операции с недвижимостью  \n",
       "3  дополнительное образование                     B     получение образования  \n",
       "4             сыграть свадьбу                     C        проведение свадьбы  \n",
       "5               покупка жилья                     B  операции с недвижимостью  \n",
       "6           операции с жильем                     B  операции с недвижимостью  \n",
       "7                 образование                     C     получение образования  \n",
       "8       на проведение свадьбы                     C        проведение свадьбы  \n",
       "9     покупка жилья для семьи                     C  операции с недвижимостью  "
      ]
     },
     "execution_count": 22,
     "metadata": {},
     "output_type": "execute_result"
    }
   ],
   "source": [
    "data.head(10)"
   ]
  },
  {
   "cell_type": "markdown",
   "id": "63553edb",
   "metadata": {
    "deletable": false,
    "editable": false,
    "id": "09b242bf"
   },
   "source": [
    "### Шаг 3. Исследуйте данные и ответьте на вопросы"
   ]
  },
  {
   "cell_type": "markdown",
   "id": "05f08919",
   "metadata": {
    "deletable": false,
    "editable": false,
    "id": "c5d66278"
   },
   "source": [
    "#### 3.1 Есть ли зависимость между количеством детей и возвратом кредита в срок?"
   ]
  },
  {
   "cell_type": "code",
   "execution_count": 23,
   "id": "5c63715e",
   "metadata": {
    "deletable": false,
    "id": "2cacfc4a",
    "scrolled": false
   },
   "outputs": [
    {
     "data": {
      "text/html": [
       "<div>\n",
       "<style scoped>\n",
       "    .dataframe tbody tr th:only-of-type {\n",
       "        vertical-align: middle;\n",
       "    }\n",
       "\n",
       "    .dataframe tbody tr th {\n",
       "        vertical-align: top;\n",
       "    }\n",
       "\n",
       "    .dataframe thead th {\n",
       "        text-align: right;\n",
       "    }\n",
       "</style>\n",
       "<table border=\"1\" class=\"dataframe\">\n",
       "  <thead>\n",
       "    <tr style=\"text-align: right;\">\n",
       "      <th></th>\n",
       "      <th>count</th>\n",
       "      <th>mean</th>\n",
       "    </tr>\n",
       "    <tr>\n",
       "      <th>children</th>\n",
       "      <th></th>\n",
       "      <th></th>\n",
       "    </tr>\n",
       "  </thead>\n",
       "  <tbody>\n",
       "    <tr>\n",
       "      <th>0</th>\n",
       "      <td>14091</td>\n",
       "      <td>0.075438</td>\n",
       "    </tr>\n",
       "    <tr>\n",
       "      <th>1</th>\n",
       "      <td>4808</td>\n",
       "      <td>0.092346</td>\n",
       "    </tr>\n",
       "    <tr>\n",
       "      <th>2</th>\n",
       "      <td>2052</td>\n",
       "      <td>0.094542</td>\n",
       "    </tr>\n",
       "    <tr>\n",
       "      <th>3</th>\n",
       "      <td>330</td>\n",
       "      <td>0.081818</td>\n",
       "    </tr>\n",
       "    <tr>\n",
       "      <th>4</th>\n",
       "      <td>41</td>\n",
       "      <td>0.097561</td>\n",
       "    </tr>\n",
       "    <tr>\n",
       "      <th>5</th>\n",
       "      <td>9</td>\n",
       "      <td>0.000000</td>\n",
       "    </tr>\n",
       "  </tbody>\n",
       "</table>\n",
       "</div>"
      ],
      "text/plain": [
       "          count      mean\n",
       "children                 \n",
       "0         14091  0.075438\n",
       "1          4808  0.092346\n",
       "2          2052  0.094542\n",
       "3           330  0.081818\n",
       "4            41  0.097561\n",
       "5             9  0.000000"
      ]
     },
     "execution_count": 23,
     "metadata": {},
     "output_type": "execute_result"
    }
   ],
   "source": [
    "test = data.groupby(\"children\")[\"debt\"].agg([\"count\", \"mean\"])\n",
    "test"
   ]
  },
  {
   "cell_type": "code",
   "execution_count": 25,
   "id": "269aecf3",
   "metadata": {
    "collapsed": true
   },
   "outputs": [
    {
     "ename": "KeyError",
     "evalue": "'children'",
     "output_type": "error",
     "traceback": [
      "\u001b[0;31m---------------------------------------------------------------------------\u001b[0m",
      "\u001b[0;31mKeyError\u001b[0m                                  Traceback (most recent call last)",
      "\u001b[0;32m/opt/conda/lib/python3.9/site-packages/pandas/core/indexes/base.py\u001b[0m in \u001b[0;36mget_loc\u001b[0;34m(self, key, method, tolerance)\u001b[0m\n\u001b[1;32m   3079\u001b[0m             \u001b[0;32mtry\u001b[0m\u001b[0;34m:\u001b[0m\u001b[0;34m\u001b[0m\u001b[0;34m\u001b[0m\u001b[0m\n\u001b[0;32m-> 3080\u001b[0;31m                 \u001b[0;32mreturn\u001b[0m \u001b[0mself\u001b[0m\u001b[0;34m.\u001b[0m\u001b[0m_engine\u001b[0m\u001b[0;34m.\u001b[0m\u001b[0mget_loc\u001b[0m\u001b[0;34m(\u001b[0m\u001b[0mcasted_key\u001b[0m\u001b[0;34m)\u001b[0m\u001b[0;34m\u001b[0m\u001b[0;34m\u001b[0m\u001b[0m\n\u001b[0m\u001b[1;32m   3081\u001b[0m             \u001b[0;32mexcept\u001b[0m \u001b[0mKeyError\u001b[0m \u001b[0;32mas\u001b[0m \u001b[0merr\u001b[0m\u001b[0;34m:\u001b[0m\u001b[0;34m\u001b[0m\u001b[0;34m\u001b[0m\u001b[0m\n",
      "\u001b[0;32mpandas/_libs/index.pyx\u001b[0m in \u001b[0;36mpandas._libs.index.IndexEngine.get_loc\u001b[0;34m()\u001b[0m\n",
      "\u001b[0;32mpandas/_libs/index.pyx\u001b[0m in \u001b[0;36mpandas._libs.index.IndexEngine.get_loc\u001b[0;34m()\u001b[0m\n",
      "\u001b[0;32mpandas/_libs/hashtable_class_helper.pxi\u001b[0m in \u001b[0;36mpandas._libs.hashtable.PyObjectHashTable.get_item\u001b[0;34m()\u001b[0m\n",
      "\u001b[0;32mpandas/_libs/hashtable_class_helper.pxi\u001b[0m in \u001b[0;36mpandas._libs.hashtable.PyObjectHashTable.get_item\u001b[0;34m()\u001b[0m\n",
      "\u001b[0;31mKeyError\u001b[0m: 'children'",
      "\nThe above exception was the direct cause of the following exception:\n",
      "\u001b[0;31mKeyError\u001b[0m                                  Traceback (most recent call last)",
      "\u001b[0;32m/tmp/ipykernel_31/887197393.py\u001b[0m in \u001b[0;36m<module>\u001b[0;34m\u001b[0m\n\u001b[1;32m      1\u001b[0m \u001b[0;32mimport\u001b[0m \u001b[0mseaborn\u001b[0m\u001b[0;34m\u001b[0m\u001b[0;34m\u001b[0m\u001b[0m\n\u001b[0;32m----> 2\u001b[0;31m \u001b[0mseaborn\u001b[0m\u001b[0;34m.\u001b[0m\u001b[0mbarplot\u001b[0m\u001b[0;34m(\u001b[0m\u001b[0mx\u001b[0m\u001b[0;34m=\u001b[0m\u001b[0mtest\u001b[0m\u001b[0;34m[\u001b[0m\u001b[0;34m'children'\u001b[0m\u001b[0;34m]\u001b[0m\u001b[0;34m,\u001b[0m \u001b[0my\u001b[0m\u001b[0;34m=\u001b[0m\u001b[0mtest\u001b[0m\u001b[0;34m[\u001b[0m\u001b[0;34m\"mean\"\u001b[0m\u001b[0;34m]\u001b[0m\u001b[0;34m)\u001b[0m\u001b[0;34m\u001b[0m\u001b[0;34m\u001b[0m\u001b[0m\n\u001b[0m",
      "\u001b[0;32m/opt/conda/lib/python3.9/site-packages/pandas/core/frame.py\u001b[0m in \u001b[0;36m__getitem__\u001b[0;34m(self, key)\u001b[0m\n\u001b[1;32m   3022\u001b[0m             \u001b[0;32mif\u001b[0m \u001b[0mself\u001b[0m\u001b[0;34m.\u001b[0m\u001b[0mcolumns\u001b[0m\u001b[0;34m.\u001b[0m\u001b[0mnlevels\u001b[0m \u001b[0;34m>\u001b[0m \u001b[0;36m1\u001b[0m\u001b[0;34m:\u001b[0m\u001b[0;34m\u001b[0m\u001b[0;34m\u001b[0m\u001b[0m\n\u001b[1;32m   3023\u001b[0m                 \u001b[0;32mreturn\u001b[0m \u001b[0mself\u001b[0m\u001b[0;34m.\u001b[0m\u001b[0m_getitem_multilevel\u001b[0m\u001b[0;34m(\u001b[0m\u001b[0mkey\u001b[0m\u001b[0;34m)\u001b[0m\u001b[0;34m\u001b[0m\u001b[0;34m\u001b[0m\u001b[0m\n\u001b[0;32m-> 3024\u001b[0;31m             \u001b[0mindexer\u001b[0m \u001b[0;34m=\u001b[0m \u001b[0mself\u001b[0m\u001b[0;34m.\u001b[0m\u001b[0mcolumns\u001b[0m\u001b[0;34m.\u001b[0m\u001b[0mget_loc\u001b[0m\u001b[0;34m(\u001b[0m\u001b[0mkey\u001b[0m\u001b[0;34m)\u001b[0m\u001b[0;34m\u001b[0m\u001b[0;34m\u001b[0m\u001b[0m\n\u001b[0m\u001b[1;32m   3025\u001b[0m             \u001b[0;32mif\u001b[0m \u001b[0mis_integer\u001b[0m\u001b[0;34m(\u001b[0m\u001b[0mindexer\u001b[0m\u001b[0;34m)\u001b[0m\u001b[0;34m:\u001b[0m\u001b[0;34m\u001b[0m\u001b[0;34m\u001b[0m\u001b[0m\n\u001b[1;32m   3026\u001b[0m                 \u001b[0mindexer\u001b[0m \u001b[0;34m=\u001b[0m \u001b[0;34m[\u001b[0m\u001b[0mindexer\u001b[0m\u001b[0;34m]\u001b[0m\u001b[0;34m\u001b[0m\u001b[0;34m\u001b[0m\u001b[0m\n",
      "\u001b[0;32m/opt/conda/lib/python3.9/site-packages/pandas/core/indexes/base.py\u001b[0m in \u001b[0;36mget_loc\u001b[0;34m(self, key, method, tolerance)\u001b[0m\n\u001b[1;32m   3080\u001b[0m                 \u001b[0;32mreturn\u001b[0m \u001b[0mself\u001b[0m\u001b[0;34m.\u001b[0m\u001b[0m_engine\u001b[0m\u001b[0;34m.\u001b[0m\u001b[0mget_loc\u001b[0m\u001b[0;34m(\u001b[0m\u001b[0mcasted_key\u001b[0m\u001b[0;34m)\u001b[0m\u001b[0;34m\u001b[0m\u001b[0;34m\u001b[0m\u001b[0m\n\u001b[1;32m   3081\u001b[0m             \u001b[0;32mexcept\u001b[0m \u001b[0mKeyError\u001b[0m \u001b[0;32mas\u001b[0m \u001b[0merr\u001b[0m\u001b[0;34m:\u001b[0m\u001b[0;34m\u001b[0m\u001b[0;34m\u001b[0m\u001b[0m\n\u001b[0;32m-> 3082\u001b[0;31m                 \u001b[0;32mraise\u001b[0m \u001b[0mKeyError\u001b[0m\u001b[0;34m(\u001b[0m\u001b[0mkey\u001b[0m\u001b[0;34m)\u001b[0m \u001b[0;32mfrom\u001b[0m \u001b[0merr\u001b[0m\u001b[0;34m\u001b[0m\u001b[0;34m\u001b[0m\u001b[0m\n\u001b[0m\u001b[1;32m   3083\u001b[0m \u001b[0;34m\u001b[0m\u001b[0m\n\u001b[1;32m   3084\u001b[0m         \u001b[0;32mif\u001b[0m \u001b[0mtolerance\u001b[0m \u001b[0;32mis\u001b[0m \u001b[0;32mnot\u001b[0m \u001b[0;32mNone\u001b[0m\u001b[0;34m:\u001b[0m\u001b[0;34m\u001b[0m\u001b[0;34m\u001b[0m\u001b[0m\n",
      "\u001b[0;31mKeyError\u001b[0m: 'children'"
     ]
    }
   ],
   "source": [
    "import seaborn\n",
    "seaborn.barplot(x=test['children'], y=test[\"mean\"])"
   ]
  },
  {
   "cell_type": "markdown",
   "id": "0b1ea8fc",
   "metadata": {
    "deletable": false,
    "id": "3a6b99ec"
   },
   "source": [
    "**Вывод:** проанализировав график зависимости количества детей от возврата кредита в срок, можно увидеть следующее:\n",
    "      \n",
    "   **—** Чем больше детей тем меньше показатель по возврату вовремя. Получается, что выгоднее давать кредит людям у кого нет детей, 3 ребенка или 5, так как их процент неуплаты вовремя кредита 8% и неиже. У кого 5 детей задолжностей нет.\n",
    "      \n",
    "   **—** Тем у кого нет детей или 1-2 или 4 нерезонно одобрять кредиты, так как их процент по невозврату кредита вовремя около 9%. \n",
    "   \n",
    "     Стоит отметить, что данные показатели все меньше 10% от общего количество заемщиков.  "
   ]
  },
  {
   "cell_type": "markdown",
   "id": "53e2a12c",
   "metadata": {
    "deletable": false,
    "editable": false,
    "id": "97be82ca"
   },
   "source": [
    "#### 3.2 Есть ли зависимость между семейным положением и возвратом кредита в срок?"
   ]
  },
  {
   "cell_type": "code",
   "execution_count": 25,
   "id": "9483c708",
   "metadata": {
    "deletable": false,
    "id": "dc3f7ee8"
   },
   "outputs": [
    {
     "data": {
      "text/plain": [
       "family_status\n",
       "Не женат / не замужем    0.097639\n",
       "в разводе                0.070648\n",
       "вдовец / вдова           0.066246\n",
       "гражданский брак         0.093130\n",
       "женат / замужем          0.075606\n",
       "Name: debt, dtype: float64"
      ]
     },
     "execution_count": 25,
     "metadata": {},
     "output_type": "execute_result"
    }
   ],
   "source": [
    "family_debt_sum= data.groupby('family_status')['debt'].sum() # Кол-во задолжностей(1) по каждой категории в children\n",
    "family = data.groupby('family_status')['debt'].count() # Кол-во элементов в столбце family_status по каждой категории\n",
    "family_debt = family_debt_sum / family # Доля задолжников в зависимости от семейного положения\n",
    "family_unique = data['family_status'].sort_values().unique()\n",
    "family_debt"
   ]
  },
  {
   "cell_type": "code",
   "execution_count": 26,
   "id": "15eecb77",
   "metadata": {},
   "outputs": [
    {
     "data": {
      "image/png": "[encoded data removed]",
      "text/plain": [
       "<Figure size 432x288 with 1 Axes>"
      ]
     },
     "metadata": {
      "needs_background": "light"
     },
     "output_type": "display_data"
    }
   ],
   "source": [
    "import seaborn\n",
    "import matplotlib.pyplot as plt\n",
    "seaborn.barplot(x=family_unique , y=family_debt, data = data)\n",
    "plt.xticks(rotation=45)\n",
    "plt.show()"
   ]
  },
  {
   "cell_type": "markdown",
   "id": "d0fb6b81",
   "metadata": {
    "deletable": false,
    "id": "1cef7837"
   },
   "source": [
    "**Вывод:** проанализировав график зависимости семейного положения от возврата кредита в срок, можно увидеть следующее:\n",
    "      \n",
    "   **—** Люди со статусом в разводе и вдовец/вдова имеют одни из самых низких показателей по возврату кредита в срок. Это говорит о том, что имея некий бэкграунд люди стараются выплачивать все в сроки и не иметь задалжности хотябы в кредите.  Самый низкий у вдовец/вдова 6,6%.\n",
    "   \n",
    "   **—** Статус женат/замужем не сильно отличается от сказанных выше статусов - 7,5% \n",
    "      \n",
    "   **—** Со статусом не женат/не замужем (9,7%) и гражданский брак (9,3%) самые высокие показатели. Получаются люди не побывавшие в официальном браке больше подвержены к неуплате кредита вовремя. \n",
    "   \n",
    "     Стоит отметить, что данные показатели все меньше 10% от общего количество заемщиков. "
   ]
  },
  {
   "cell_type": "markdown",
   "id": "96a201aa",
   "metadata": {
    "deletable": false,
    "editable": false,
    "id": "1e8b2fca"
   },
   "source": [
    "#### 3.3 Есть ли зависимость между уровнем дохода и возвратом кредита в срок?"
   ]
  },
  {
   "cell_type": "code",
   "execution_count": 27,
   "id": "3796dc2f",
   "metadata": {
    "deletable": false,
    "id": "cd7e3720"
   },
   "outputs": [
    {
     "data": {
      "text/plain": [
       "total_income_category\n",
       "A    0.080000\n",
       "B    0.070602\n",
       "C    0.084982\n",
       "D    0.060172\n",
       "E    0.090909\n",
       "Name: debt, dtype: float64"
      ]
     },
     "execution_count": 27,
     "metadata": {},
     "output_type": "execute_result"
    }
   ],
   "source": [
    "category_debt_sum= data.groupby('total_income_category')['debt'].sum() # Кол-во задолжностей(1) по каждой категории в total_income_category\n",
    "category = data.groupby('total_income_category')['debt'].count() # Кол-во элементов в столбце total_income_category по каждой категории\n",
    "category_debt = category_debt_sum / category # Доля задолжников в зависимости от уровня дохода\n",
    "category_unique = data['total_income_category'].sort_values().unique()\n",
    "category_debt"
   ]
  },
  {
   "cell_type": "code",
   "execution_count": 28,
   "id": "764ca593",
   "metadata": {},
   "outputs": [
    {
     "data": {
      "text/plain": [
       "<AxesSubplot:ylabel='debt'>"
      ]
     },
     "execution_count": 28,
     "metadata": {},
     "output_type": "execute_result"
    },
    {
     "data": {
      "image/png": "[encoded data removed]",
      "text/plain": [
       "<Figure size 432x288 with 1 Axes>"
      ]
     },
     "metadata": {
      "needs_background": "light"
     },
     "output_type": "display_data"
    }
   ],
   "source": [
    "import seaborn\n",
    "\n",
    "seaborn.barplot(x=category_unique , y=category_debt)\n"
   ]
  },
  {
   "cell_type": "markdown",
   "id": "d460ada7",
   "metadata": {
    "deletable": false,
    "id": "e8593def"
   },
   "source": [
    "\n",
    "- 0–30000 — `'E'`;\n",
    "- 30001–50000 — `'D'`;\n",
    "- 50001–200000 — `'C'`;\n",
    "- 200001–1000000 — `'B'`;\n",
    "- 1000001 и выше — `'A'`.\n",
    "\n",
    "**Вывод:** проанализировав график зависимости уровня доходов от доли неуплаты кредита в срок, можно увидеть следующее:\n",
    "\n",
    "   **—** Люди из категории Д имеют самый низкий показатель по неуплате кредита (6%). Следовательно с таким уровнем дохода лиди более ответственные и почти всегда платят кредит вовремя.\n",
    "      \n",
    "   **—** Люди со средним доходом (категория С) и выше среднего (категории В 7% и А8%) имеют достаточно высокие показатели по неуплате кредита. В категории С - 8,4%. \n",
    "      \n",
    "   **—** Люди с самым низким доходом имеют самые большие показатели по неуплате кредита. В категории Е 9%,  Следовательно люди получающие до 30000 самые не ответственные и чаще всех неуплачивают кредит вовремя, может быть из-за ограниченных ресурсов.  \n",
    "     \n",
    "     Стоит отметить, что данные показатели все меньше 10% от общего количество заемщиков. "
   ]
  },
  {
   "cell_type": "markdown",
   "id": "c4e5a2e3",
   "metadata": {
    "deletable": false,
    "editable": false,
    "id": "99ecbd1f"
   },
   "source": [
    "#### 3.4 Как разные цели кредита влияют на его возврат в срок?"
   ]
  },
  {
   "cell_type": "code",
   "execution_count": 29,
   "id": "2e2ad060",
   "metadata": {
    "deletable": false,
    "id": "2b687290"
   },
   "outputs": [
    {
     "data": {
      "text/plain": [
       "purpose_category\n",
       "операции с автомобилем      0.093480\n",
       "операции с недвижимостью    0.072551\n",
       "получение образования       0.092528\n",
       "проведение свадьбы          0.079118\n",
       "Name: debt, dtype: float64"
      ]
     },
     "execution_count": 29,
     "metadata": {},
     "output_type": "execute_result"
    }
   ],
   "source": [
    "purpose_debt_sum= data.groupby('purpose_category')['debt'].sum() # Кол-во задолжностей(1) по каждой категории в purpose_category\n",
    "purpose = data.groupby('purpose_category')['debt'].count() # Кол-во элементов в столбце purpose_category \n",
    "purpose_debt = purpose_debt_sum / purpose # Доля задолжников в зависимости от цели кредита\n",
    "purpose_unique = data['purpose_category'].sort_values().unique()\n",
    "purpose_debt"
   ]
  },
  {
   "cell_type": "code",
   "execution_count": 30,
   "id": "13da3590",
   "metadata": {},
   "outputs": [
    {
     "data": {
      "image/png": "[encoded data removed]",
      "text/plain": [
       "<Figure size 432x288 with 1 Axes>"
      ]
     },
     "metadata": {
      "needs_background": "light"
     },
     "output_type": "display_data"
    }
   ],
   "source": [
    "import seaborn\n",
    "import matplotlib.pyplot as plt\n",
    "seaborn.barplot(x=purpose_unique , y=purpose_debt, data = data)\n",
    "plt.xticks(rotation=45)\n",
    "plt.show()"
   ]
  },
  {
   "cell_type": "markdown",
   "id": "be88b846",
   "metadata": {
    "deletable": false,
    "id": "b4bb2ce6"
   },
   "source": [
    "**Вывод:** проанализировав график зависимости цели кредита от возврата кредита в срок, можно увидеть следующее:\n",
    "      \n",
    "   **—** Хуже всего ситуация с кредитом на автомобили и образование. 9% люлей не возвращают кредит вовремя. \n",
    "     \n",
    "   **—** Ситуация с кредитами на свадьбу чуть ниже: около 7,9% людей не закрывают кредит вовремя.\n",
    "   \n",
    "   **—** Самый низкий показатель с кредитом на недвижимость, его закрывают лучше всего. 7,2% людей не закрыли кредит вовремя.Но его показатель не сильно отличается от кредита на свадьбу. Скорей всего кредит на недвижимость берут чаще и поэтому чуть мень показатель. \n",
    "   \n",
    "     Стоит отметить, что данные показатели все меньше 10% от общего количество заемщиков. "
   ]
  },
  {
   "cell_type": "markdown",
   "id": "642d2a0c",
   "metadata": {
    "deletable": false,
    "editable": false,
    "id": "09c3ac4c"
   },
   "source": [
    "#### 3.5 Приведите возможные причины появления пропусков в исходных данных."
   ]
  },
  {
   "cell_type": "markdown",
   "id": "53fff2af",
   "metadata": {
    "deletable": false,
    "id": "9da2ceda"
   },
   "source": [
    "*Ответ:* \n",
    "1)пользователь не указал о себе какие-нибудь сведения \n",
    "2)автоматизированная система сбора информации дала сбой\n",
    "3)пропуски оставляют умышленно, рассчитывая на автозаполнение спецсимволами"
   ]
  },
  {
   "cell_type": "markdown",
   "id": "56b22a4e",
   "metadata": {
    "deletable": false,
    "editable": false,
    "id": "7b0487d6"
   },
   "source": [
    "#### 3.6 Объясните, почему заполнить пропуски медианным значением — лучшее решение для количественных переменных."
   ]
  },
  {
   "cell_type": "markdown",
   "id": "2934b272",
   "metadata": {
    "deletable": false,
    "id": "7ecf2b8e"
   },
   "source": [
    "*Ответ:*  \n",
    "Медиана — это такое число в выборке, что ровно половина элементов больше него, а другая половина — меньше. Медианное значению лучше чем среднее значение, так как среднее значение некорректно характеризует данные, когда некоторые значения сильно выделяются среди большинства. С помощью медианног значения мы получаем более объективную информация. "
   ]
  },
  {
   "cell_type": "markdown",
   "id": "72dbb34a",
   "metadata": {
    "deletable": false,
    "editable": false,
    "id": "6db5255a"
   },
   "source": [
    "### Шаг 4: общий вывод."
   ]
  },
  {
   "cell_type": "markdown",
   "id": "3307998a",
   "metadata": {
    "deletable": false,
    "id": "bad65432"
   },
   "source": [
    "   В данной работе проводился анализ с данными по статистике о платежеспособности клиентов.Результаты данной работы будут учтены при построении модели кредитного скоринга. \n",
    "\n",
    "При работе с данными были выявлены пропуски в столбцах days_employed, total_income. В total_income пропуски были заменены на медианное значетие по каждой категории столбца income_type. В столбце days_employed встретились аномальные значения (отрицательные числа), их мы взяли по модулю. В столбце days_employed пропуски так же заполнили медианными значениями по каждого типа занятости income_type. В столце children - количество детей были устранены аномальные значения: 20, -1. Были удалены строки дублирующие друг друга. \n",
    "\n",
    "Был создан новый столбец total_income_category, в нем люди разделены на категории по количеству дохода (по столбцу total_income). Это позволило нам провести зависимость между уровнем дохода и возвратом кредита в срок.\n",
    "Создали новый столбец purpose_category, в котором так же люди разделены на категории по цели на кредит (столбец purpose), для того чтобы с данными мжно было работать. Это позволило нам узнать как цели кредита влияют на его возврат в срок.\n",
    "После того как данные были приведены в нуужный вид, были постоены графики по которым можно разобраться, влияет ли семейное положение и количество детей клиента на факт погашения кредита в срок. \n",
    "\n",
    "\n",
    "Можно сказать точно, что людям с 4 детьми или 2, которые не женаты или незамужем, получающие заработную плату меньше 30000 не желательно одобрять кредит, особенно если он на автомобиль или образование. \n",
    "\n",
    "Лучше всего выплачивают кредит многодетные семьис 5 детьми с доходом от 30000 до 200000, особенно если кредит на недвижимость. \n",
    "Стоит отметить, что так же следует учитывать историю по кредитам, которая в данном анализе не представлена.(нет данных) "
   ]
  },
  {
   "cell_type": "code",
   "execution_count": null,
   "id": "1f156012",
   "metadata": {},
   "outputs": [],
   "source": []
  }
 ],
 "metadata": {
  "ExecuteTimeLog": [
   {
    "duration": 48,
    "start_time": "2022-11-09T12:50:18.407Z"
   },
   {
    "duration": 452,
    "start_time": "2022-11-09T12:50:23.058Z"
   },
   {
    "duration": 23,
    "start_time": "2022-11-09T12:50:23.512Z"
   },
   {
    "duration": 15,
    "start_time": "2022-11-09T12:50:23.756Z"
   },
   {
    "duration": 10,
    "start_time": "2022-11-09T12:50:24.366Z"
   },
   {
    "duration": 36,
    "start_time": "2022-11-09T12:50:24.703Z"
   },
   {
    "duration": 4,
    "start_time": "2022-11-09T12:50:25.251Z"
   },
   {
    "duration": 8,
    "start_time": "2022-11-09T12:50:25.637Z"
   },
   {
    "duration": 4,
    "start_time": "2022-11-09T12:50:26.178Z"
   },
   {
    "duration": 9,
    "start_time": "2022-11-09T12:50:26.546Z"
   },
   {
    "duration": 6,
    "start_time": "2022-11-09T12:50:26.913Z"
   },
   {
    "duration": 34,
    "start_time": "2022-11-09T12:50:27.425Z"
   },
   {
    "duration": 15,
    "start_time": "2022-11-09T12:50:28.141Z"
   },
   {
    "duration": 4,
    "start_time": "2022-11-09T12:50:29.309Z"
   },
   {
    "duration": 12,
    "start_time": "2022-11-09T12:50:29.823Z"
   },
   {
    "duration": 20,
    "start_time": "2022-11-09T12:50:30.248Z"
   },
   {
    "duration": 18,
    "start_time": "2022-11-09T12:50:30.537Z"
   },
   {
    "duration": 4,
    "start_time": "2022-11-09T12:50:31.322Z"
   },
   {
    "duration": 11,
    "start_time": "2022-11-09T12:50:31.515Z"
   },
   {
    "duration": 7,
    "start_time": "2022-11-09T12:50:32.971Z"
   },
   {
    "duration": 3,
    "start_time": "2022-11-09T12:50:33.325Z"
   },
   {
    "duration": 13,
    "start_time": "2022-11-09T12:50:33.502Z"
   },
   {
    "duration": 14,
    "start_time": "2022-11-09T12:50:33.677Z"
   },
   {
    "duration": 2,
    "start_time": "2022-11-09T12:50:34.367Z"
   },
   {
    "duration": 26,
    "start_time": "2022-11-09T12:55:19.560Z"
   },
   {
    "duration": 5,
    "start_time": "2022-11-09T12:55:25.365Z"
   },
   {
    "duration": 4,
    "start_time": "2022-11-09T12:55:28.256Z"
   },
   {
    "duration": 8,
    "start_time": "2022-11-09T12:55:40.837Z"
   },
   {
    "duration": 6,
    "start_time": "2022-11-09T12:59:04.468Z"
   },
   {
    "duration": 6,
    "start_time": "2022-11-09T12:59:14.620Z"
   },
   {
    "duration": 13,
    "start_time": "2022-11-09T13:08:29.234Z"
   },
   {
    "duration": 13,
    "start_time": "2022-11-09T13:08:37.300Z"
   },
   {
    "duration": 9,
    "start_time": "2022-11-09T13:08:42.948Z"
   },
   {
    "duration": 20,
    "start_time": "2022-11-09T13:17:32.408Z"
   },
   {
    "duration": 9,
    "start_time": "2022-11-09T13:18:04.905Z"
   },
   {
    "duration": 33,
    "start_time": "2022-11-09T13:18:24.274Z"
   },
   {
    "duration": 16,
    "start_time": "2022-11-09T13:19:37.657Z"
   },
   {
    "duration": 6,
    "start_time": "2022-11-09T13:28:50.885Z"
   },
   {
    "duration": 5,
    "start_time": "2022-11-09T13:31:36.504Z"
   },
   {
    "duration": 6,
    "start_time": "2022-11-09T13:31:41.434Z"
   },
   {
    "duration": 6,
    "start_time": "2022-11-09T13:38:11.719Z"
   },
   {
    "duration": 9,
    "start_time": "2022-11-09T13:38:17.366Z"
   },
   {
    "duration": 8,
    "start_time": "2022-11-09T13:42:02.053Z"
   },
   {
    "duration": 46,
    "start_time": "2022-11-09T13:43:22.188Z"
   },
   {
    "duration": 69,
    "start_time": "2022-11-09T13:43:30.666Z"
   },
   {
    "duration": 8,
    "start_time": "2022-11-09T13:44:00.335Z"
   },
   {
    "duration": 49,
    "start_time": "2022-11-09T13:44:12.169Z"
   },
   {
    "duration": 45,
    "start_time": "2022-11-09T13:44:16.912Z"
   },
   {
    "duration": 51,
    "start_time": "2022-11-09T13:44:22.065Z"
   },
   {
    "duration": 8,
    "start_time": "2022-11-09T13:44:29.116Z"
   },
   {
    "duration": 9,
    "start_time": "2022-11-09T13:47:51.009Z"
   },
   {
    "duration": 954,
    "start_time": "2022-11-09T13:51:56.646Z"
   },
   {
    "duration": 10,
    "start_time": "2022-11-09T13:52:05.026Z"
   },
   {
    "duration": 174,
    "start_time": "2022-11-09T13:52:06.477Z"
   },
   {
    "duration": 770,
    "start_time": "2022-11-09T20:13:15.126Z"
   },
   {
    "duration": 24,
    "start_time": "2022-11-09T20:13:15.898Z"
   },
   {
    "duration": 16,
    "start_time": "2022-11-09T20:13:15.924Z"
   },
   {
    "duration": 10,
    "start_time": "2022-11-09T20:13:16.399Z"
   },
   {
    "duration": 37,
    "start_time": "2022-11-09T20:13:16.749Z"
   },
   {
    "duration": 5,
    "start_time": "2022-11-09T20:13:17.265Z"
   },
   {
    "duration": 11,
    "start_time": "2022-11-09T20:13:17.578Z"
   },
   {
    "duration": 4,
    "start_time": "2022-11-09T20:13:18.101Z"
   },
   {
    "duration": 8,
    "start_time": "2022-11-09T20:13:18.469Z"
   },
   {
    "duration": 6,
    "start_time": "2022-11-09T20:13:18.858Z"
   },
   {
    "duration": 39,
    "start_time": "2022-11-09T20:13:19.398Z"
   },
   {
    "duration": 10,
    "start_time": "2022-11-09T20:13:19.783Z"
   },
   {
    "duration": 5,
    "start_time": "2022-11-09T20:13:20.437Z"
   },
   {
    "duration": 12,
    "start_time": "2022-11-09T20:13:21.200Z"
   },
   {
    "duration": 19,
    "start_time": "2022-11-09T20:13:21.559Z"
   },
   {
    "duration": 18,
    "start_time": "2022-11-09T20:13:21.858Z"
   },
   {
    "duration": 3,
    "start_time": "2022-11-09T20:13:22.391Z"
   },
   {
    "duration": 10,
    "start_time": "2022-11-09T20:13:22.576Z"
   },
   {
    "duration": 5,
    "start_time": "2022-11-09T20:13:22.941Z"
   },
   {
    "duration": 3,
    "start_time": "2022-11-09T20:13:23.279Z"
   },
   {
    "duration": 8,
    "start_time": "2022-11-09T20:13:23.474Z"
   },
   {
    "duration": 14,
    "start_time": "2022-11-09T20:13:23.658Z"
   },
   {
    "duration": 5,
    "start_time": "2022-11-09T20:13:24.233Z"
   },
   {
    "duration": 11,
    "start_time": "2022-11-09T20:13:24.473Z"
   },
   {
    "duration": 23,
    "start_time": "2022-11-09T20:13:51.826Z"
   },
   {
    "duration": 9,
    "start_time": "2022-11-09T20:14:42.992Z"
   },
   {
    "duration": 1099,
    "start_time": "2022-11-09T20:14:46.103Z"
   },
   {
    "duration": 8,
    "start_time": "2022-11-09T20:16:00.398Z"
   },
   {
    "duration": 5,
    "start_time": "2022-11-09T20:20:11.697Z"
   },
   {
    "duration": 139,
    "start_time": "2022-11-09T20:22:14.655Z"
   },
   {
    "duration": 9,
    "start_time": "2022-11-09T20:22:31.138Z"
   },
   {
    "duration": 7,
    "start_time": "2022-11-09T20:22:44.772Z"
   },
   {
    "duration": 5,
    "start_time": "2022-11-09T20:22:48.685Z"
   },
   {
    "duration": 8,
    "start_time": "2022-11-09T20:22:56.816Z"
   },
   {
    "duration": 8,
    "start_time": "2022-11-09T20:23:50.069Z"
   },
   {
    "duration": 57,
    "start_time": "2022-11-09T20:25:33.131Z"
   },
   {
    "duration": 39,
    "start_time": "2022-11-09T20:25:37.921Z"
   },
   {
    "duration": 5,
    "start_time": "2022-11-09T20:25:45.676Z"
   },
   {
    "duration": 10,
    "start_time": "2022-11-09T20:35:29.330Z"
   },
   {
    "duration": 10,
    "start_time": "2022-11-09T20:35:54.405Z"
   },
   {
    "duration": 16,
    "start_time": "2022-11-09T20:36:07.178Z"
   },
   {
    "duration": 25,
    "start_time": "2022-11-09T20:37:01.271Z"
   },
   {
    "duration": 123,
    "start_time": "2022-11-09T20:37:06.690Z"
   },
   {
    "duration": 140,
    "start_time": "2022-11-09T20:43:42.669Z"
   },
   {
    "duration": 128,
    "start_time": "2022-11-09T20:44:06.069Z"
   },
   {
    "duration": 123,
    "start_time": "2022-11-09T20:46:02.459Z"
   },
   {
    "duration": 122,
    "start_time": "2022-11-09T20:46:13.798Z"
   },
   {
    "duration": 151,
    "start_time": "2022-11-09T20:46:20.651Z"
   },
   {
    "duration": 134,
    "start_time": "2022-11-09T20:48:47.931Z"
   },
   {
    "duration": 202,
    "start_time": "2022-11-09T20:49:11.714Z"
   },
   {
    "duration": 137,
    "start_time": "2022-11-09T20:54:31.354Z"
   },
   {
    "duration": 132,
    "start_time": "2022-11-09T20:55:27.553Z"
   },
   {
    "duration": 148,
    "start_time": "2022-11-09T20:57:24.630Z"
   },
   {
    "duration": 23,
    "start_time": "2022-11-09T21:00:27.619Z"
   },
   {
    "duration": 125,
    "start_time": "2022-11-09T21:00:29.603Z"
   },
   {
    "duration": 32,
    "start_time": "2022-11-09T21:00:49.637Z"
   },
   {
    "duration": 147,
    "start_time": "2022-11-09T21:00:50.959Z"
   },
   {
    "duration": 7,
    "start_time": "2022-11-09T21:03:17.094Z"
   },
   {
    "duration": 19,
    "start_time": "2022-11-09T21:04:15.685Z"
   },
   {
    "duration": 8,
    "start_time": "2022-11-09T21:04:41.331Z"
   },
   {
    "duration": 23,
    "start_time": "2022-11-09T21:05:36.286Z"
   },
   {
    "duration": 121,
    "start_time": "2022-11-09T21:06:05.154Z"
   },
   {
    "duration": 131,
    "start_time": "2022-11-09T21:06:15.914Z"
   },
   {
    "duration": 34,
    "start_time": "2022-11-09T21:12:28.365Z"
   },
   {
    "duration": 154,
    "start_time": "2022-11-09T21:12:29.725Z"
   },
   {
    "duration": 64,
    "start_time": "2022-11-10T08:16:52.207Z"
   },
   {
    "duration": 679,
    "start_time": "2022-11-10T08:17:01.694Z"
   },
   {
    "duration": 21,
    "start_time": "2022-11-10T08:17:02.375Z"
   },
   {
    "duration": 14,
    "start_time": "2022-11-10T08:17:02.397Z"
   },
   {
    "duration": 11,
    "start_time": "2022-11-10T08:17:03.003Z"
   },
   {
    "duration": 35,
    "start_time": "2022-11-10T08:17:03.322Z"
   },
   {
    "duration": 4,
    "start_time": "2022-11-10T08:17:03.825Z"
   },
   {
    "duration": 8,
    "start_time": "2022-11-10T08:17:04.144Z"
   },
   {
    "duration": 4,
    "start_time": "2022-11-10T08:17:04.624Z"
   },
   {
    "duration": 7,
    "start_time": "2022-11-10T08:17:04.959Z"
   },
   {
    "duration": 5,
    "start_time": "2022-11-10T08:17:05.296Z"
   },
   {
    "duration": 30,
    "start_time": "2022-11-10T08:17:05.793Z"
   },
   {
    "duration": 9,
    "start_time": "2022-11-10T08:17:06.118Z"
   },
   {
    "duration": 3,
    "start_time": "2022-11-10T08:17:06.628Z"
   },
   {
    "duration": 11,
    "start_time": "2022-11-10T08:17:07.124Z"
   },
   {
    "duration": 21,
    "start_time": "2022-11-10T08:17:07.460Z"
   },
   {
    "duration": 19,
    "start_time": "2022-11-10T08:17:07.629Z"
   },
   {
    "duration": 3,
    "start_time": "2022-11-10T08:17:08.133Z"
   },
   {
    "duration": 8,
    "start_time": "2022-11-10T08:17:08.309Z"
   },
   {
    "duration": 6,
    "start_time": "2022-11-10T08:17:08.679Z"
   },
   {
    "duration": 4,
    "start_time": "2022-11-10T08:17:09.035Z"
   },
   {
    "duration": 8,
    "start_time": "2022-11-10T08:17:09.208Z"
   },
   {
    "duration": 12,
    "start_time": "2022-11-10T08:17:09.404Z"
   },
   {
    "duration": 8,
    "start_time": "2022-11-10T08:17:10.728Z"
   },
   {
    "duration": 959,
    "start_time": "2022-11-10T08:17:11.765Z"
   },
   {
    "duration": 20,
    "start_time": "2022-11-10T08:17:14.375Z"
   },
   {
    "duration": 115,
    "start_time": "2022-11-10T08:17:15.435Z"
   },
   {
    "duration": 20,
    "start_time": "2022-11-10T08:17:18.195Z"
   },
   {
    "duration": 106,
    "start_time": "2022-11-10T08:17:45.978Z"
   },
   {
    "duration": 23,
    "start_time": "2022-11-10T08:31:25.757Z"
   },
   {
    "duration": 113,
    "start_time": "2022-11-10T08:31:26.869Z"
   },
   {
    "duration": 117,
    "start_time": "2022-11-10T08:33:32.979Z"
   },
   {
    "duration": 49,
    "start_time": "2022-11-10T08:36:17.680Z"
   },
   {
    "duration": 11,
    "start_time": "2022-11-10T08:36:23.879Z"
   },
   {
    "duration": 125,
    "start_time": "2022-11-10T08:36:27.757Z"
   },
   {
    "duration": 86,
    "start_time": "2022-11-10T08:37:18.628Z"
   },
   {
    "duration": 25,
    "start_time": "2022-11-10T08:37:24.607Z"
   },
   {
    "duration": 116,
    "start_time": "2022-11-10T08:37:25.942Z"
   },
   {
    "duration": 9,
    "start_time": "2022-11-10T09:11:18.800Z"
   },
   {
    "duration": 157,
    "start_time": "2022-11-10T09:11:19.582Z"
   },
   {
    "duration": 10,
    "start_time": "2022-11-10T09:13:01.115Z"
   },
   {
    "duration": 121,
    "start_time": "2022-11-10T09:13:03.847Z"
   },
   {
    "duration": 8,
    "start_time": "2022-11-10T09:13:37.518Z"
   },
   {
    "duration": 119,
    "start_time": "2022-11-10T09:13:38.404Z"
   },
   {
    "duration": 12,
    "start_time": "2022-11-10T09:14:09.258Z"
   },
   {
    "duration": 117,
    "start_time": "2022-11-10T09:14:10.227Z"
   },
   {
    "duration": 514,
    "start_time": "2022-11-10T14:12:39.703Z"
   },
   {
    "duration": 26,
    "start_time": "2022-11-10T14:12:40.219Z"
   },
   {
    "duration": 18,
    "start_time": "2022-11-10T14:12:40.247Z"
   },
   {
    "duration": 12,
    "start_time": "2022-11-10T14:12:40.267Z"
   },
   {
    "duration": 70,
    "start_time": "2022-11-10T14:12:40.282Z"
   },
   {
    "duration": 4,
    "start_time": "2022-11-10T14:12:40.354Z"
   },
   {
    "duration": 14,
    "start_time": "2022-11-10T14:12:40.359Z"
   },
   {
    "duration": 5,
    "start_time": "2022-11-10T14:12:40.375Z"
   },
   {
    "duration": 9,
    "start_time": "2022-11-10T14:12:40.381Z"
   },
   {
    "duration": 6,
    "start_time": "2022-11-10T14:12:40.392Z"
   },
   {
    "duration": 72,
    "start_time": "2022-11-10T14:12:40.399Z"
   },
   {
    "duration": 11,
    "start_time": "2022-11-10T14:12:40.473Z"
   },
   {
    "duration": 5,
    "start_time": "2022-11-10T14:12:40.485Z"
   },
   {
    "duration": 13,
    "start_time": "2022-11-10T14:12:40.492Z"
   },
   {
    "duration": 49,
    "start_time": "2022-11-10T14:12:40.507Z"
   },
   {
    "duration": 18,
    "start_time": "2022-11-10T14:12:40.558Z"
   },
   {
    "duration": 4,
    "start_time": "2022-11-10T14:12:40.578Z"
   },
   {
    "duration": 15,
    "start_time": "2022-11-10T14:12:40.583Z"
   },
   {
    "duration": 9,
    "start_time": "2022-11-10T14:12:40.600Z"
   },
   {
    "duration": 26,
    "start_time": "2022-11-10T14:12:40.613Z"
   },
   {
    "duration": 11,
    "start_time": "2022-11-10T14:12:40.641Z"
   },
   {
    "duration": 18,
    "start_time": "2022-11-10T14:12:40.653Z"
   },
   {
    "duration": 11,
    "start_time": "2022-11-10T14:12:40.672Z"
   },
   {
    "duration": 1169,
    "start_time": "2022-11-10T14:12:40.685Z"
   },
   {
    "duration": 24,
    "start_time": "2022-11-10T14:12:41.856Z"
   },
   {
    "duration": 150,
    "start_time": "2022-11-10T14:12:41.881Z"
   },
   {
    "duration": 22,
    "start_time": "2022-11-10T14:12:42.037Z"
   },
   {
    "duration": 145,
    "start_time": "2022-11-10T14:12:42.061Z"
   },
   {
    "duration": 37,
    "start_time": "2022-11-10T14:12:42.208Z"
   },
   {
    "duration": 153,
    "start_time": "2022-11-10T14:12:42.247Z"
   },
   {
    "duration": 4,
    "start_time": "2022-11-10T14:14:19.433Z"
   },
   {
    "duration": 522,
    "start_time": "2022-11-10T14:28:13.655Z"
   },
   {
    "duration": 28,
    "start_time": "2022-11-10T14:28:14.179Z"
   },
   {
    "duration": 31,
    "start_time": "2022-11-10T14:28:14.209Z"
   },
   {
    "duration": 12,
    "start_time": "2022-11-10T14:28:14.243Z"
   },
   {
    "duration": 39,
    "start_time": "2022-11-10T14:28:14.257Z"
   },
   {
    "duration": 5,
    "start_time": "2022-11-10T14:28:14.300Z"
   },
   {
    "duration": 37,
    "start_time": "2022-11-10T14:28:14.308Z"
   },
   {
    "duration": 5,
    "start_time": "2022-11-10T14:28:14.347Z"
   },
   {
    "duration": 10,
    "start_time": "2022-11-10T14:28:14.354Z"
   },
   {
    "duration": 6,
    "start_time": "2022-11-10T14:28:14.369Z"
   },
   {
    "duration": 70,
    "start_time": "2022-11-10T14:28:14.377Z"
   },
   {
    "duration": 11,
    "start_time": "2022-11-10T14:28:14.449Z"
   },
   {
    "duration": 6,
    "start_time": "2022-11-10T14:28:14.462Z"
   },
   {
    "duration": 14,
    "start_time": "2022-11-10T14:28:14.470Z"
   },
   {
    "duration": 21,
    "start_time": "2022-11-10T14:28:14.486Z"
   },
   {
    "duration": 53,
    "start_time": "2022-11-10T14:28:14.509Z"
   },
   {
    "duration": 5,
    "start_time": "2022-11-10T14:28:14.564Z"
   },
   {
    "duration": 16,
    "start_time": "2022-11-10T14:28:14.571Z"
   },
   {
    "duration": 12,
    "start_time": "2022-11-10T14:28:14.588Z"
   },
   {
    "duration": 4,
    "start_time": "2022-11-10T14:28:14.603Z"
   },
   {
    "duration": 32,
    "start_time": "2022-11-10T14:28:14.609Z"
   },
   {
    "duration": 17,
    "start_time": "2022-11-10T14:28:14.643Z"
   },
   {
    "duration": 11,
    "start_time": "2022-11-10T14:28:14.662Z"
   },
   {
    "duration": 993,
    "start_time": "2022-11-10T14:28:14.674Z"
   },
   {
    "duration": 25,
    "start_time": "2022-11-10T14:28:15.669Z"
   },
   {
    "duration": 176,
    "start_time": "2022-11-10T14:28:15.696Z"
   },
   {
    "duration": 27,
    "start_time": "2022-11-10T14:28:15.875Z"
   },
   {
    "duration": 155,
    "start_time": "2022-11-10T14:28:15.906Z"
   },
   {
    "duration": 24,
    "start_time": "2022-11-10T14:28:16.063Z"
   },
   {
    "duration": 166,
    "start_time": "2022-11-10T14:28:16.089Z"
   },
   {
    "duration": 74,
    "start_time": "2022-11-10T19:53:22.072Z"
   },
   {
    "duration": 587,
    "start_time": "2022-11-10T19:53:29.072Z"
   },
   {
    "duration": 25,
    "start_time": "2022-11-10T19:53:29.661Z"
   },
   {
    "duration": 16,
    "start_time": "2022-11-10T19:53:29.802Z"
   },
   {
    "duration": 15,
    "start_time": "2022-11-10T19:53:30.477Z"
   },
   {
    "duration": 40,
    "start_time": "2022-11-10T19:53:30.861Z"
   },
   {
    "duration": 5,
    "start_time": "2022-11-10T19:53:31.364Z"
   },
   {
    "duration": 11,
    "start_time": "2022-11-10T19:53:31.732Z"
   },
   {
    "duration": 5,
    "start_time": "2022-11-10T19:53:32.293Z"
   },
   {
    "duration": 7,
    "start_time": "2022-11-10T19:53:32.690Z"
   },
   {
    "duration": 5,
    "start_time": "2022-11-10T19:53:33.051Z"
   },
   {
    "duration": 46,
    "start_time": "2022-11-10T19:53:33.623Z"
   },
   {
    "duration": 11,
    "start_time": "2022-11-10T19:53:33.996Z"
   },
   {
    "duration": 4,
    "start_time": "2022-11-10T19:53:34.581Z"
   },
   {
    "duration": 11,
    "start_time": "2022-11-10T19:53:35.162Z"
   },
   {
    "duration": 22,
    "start_time": "2022-11-10T19:53:35.569Z"
   },
   {
    "duration": 22,
    "start_time": "2022-11-10T19:53:35.760Z"
   },
   {
    "duration": 3,
    "start_time": "2022-11-10T19:53:36.352Z"
   },
   {
    "duration": 12,
    "start_time": "2022-11-10T19:53:36.526Z"
   },
   {
    "duration": 8,
    "start_time": "2022-11-10T19:53:37.059Z"
   },
   {
    "duration": 4,
    "start_time": "2022-11-10T19:53:37.713Z"
   },
   {
    "duration": 10,
    "start_time": "2022-11-10T19:53:37.881Z"
   },
   {
    "duration": 21,
    "start_time": "2022-11-10T19:53:38.057Z"
   },
   {
    "duration": 894,
    "start_time": "2022-11-10T19:53:40.974Z"
   },
   {
    "duration": 918,
    "start_time": "2022-11-10T19:53:45.569Z"
   },
   {
    "duration": 8,
    "start_time": "2022-11-10T19:55:05.881Z"
   },
   {
    "duration": 11,
    "start_time": "2022-11-10T19:57:07.784Z"
   },
   {
    "duration": 7,
    "start_time": "2022-11-10T19:57:56.600Z"
   },
   {
    "duration": 7,
    "start_time": "2022-11-10T19:57:58.348Z"
   },
   {
    "duration": 14,
    "start_time": "2022-11-10T19:58:24.857Z"
   },
   {
    "duration": 1215,
    "start_time": "2022-11-10T19:58:25.769Z"
   },
   {
    "duration": 12,
    "start_time": "2022-11-10T19:58:41.538Z"
   },
   {
    "duration": 37,
    "start_time": "2022-11-10T20:00:25.615Z"
   },
   {
    "duration": 161,
    "start_time": "2022-11-10T20:00:26.661Z"
   },
   {
    "duration": 24,
    "start_time": "2022-11-10T20:01:05.678Z"
   },
   {
    "duration": 132,
    "start_time": "2022-11-10T20:01:06.379Z"
   },
   {
    "duration": 40,
    "start_time": "2022-11-10T20:01:42.424Z"
   },
   {
    "duration": 145,
    "start_time": "2022-11-10T20:01:43.126Z"
   },
   {
    "duration": 730,
    "start_time": "2022-11-11T08:01:34.353Z"
   },
   {
    "duration": 23,
    "start_time": "2022-11-11T08:01:35.085Z"
   },
   {
    "duration": 14,
    "start_time": "2022-11-11T08:01:35.110Z"
   },
   {
    "duration": 9,
    "start_time": "2022-11-11T08:01:35.740Z"
   },
   {
    "duration": 33,
    "start_time": "2022-11-11T08:01:36.024Z"
   },
   {
    "duration": 4,
    "start_time": "2022-11-11T08:01:36.522Z"
   },
   {
    "duration": 7,
    "start_time": "2022-11-11T08:01:36.845Z"
   },
   {
    "duration": 5,
    "start_time": "2022-11-11T08:01:37.359Z"
   },
   {
    "duration": 8,
    "start_time": "2022-11-11T08:01:37.715Z"
   },
   {
    "duration": 6,
    "start_time": "2022-11-11T08:01:38.071Z"
   },
   {
    "duration": 33,
    "start_time": "2022-11-11T08:01:38.584Z"
   },
   {
    "duration": 9,
    "start_time": "2022-11-11T08:01:39.064Z"
   },
   {
    "duration": 3,
    "start_time": "2022-11-11T08:01:39.590Z"
   },
   {
    "duration": 11,
    "start_time": "2022-11-11T08:01:40.119Z"
   },
   {
    "duration": 20,
    "start_time": "2022-11-11T08:01:40.444Z"
   },
   {
    "duration": 15,
    "start_time": "2022-11-11T08:01:40.641Z"
   },
   {
    "duration": 3,
    "start_time": "2022-11-11T08:01:41.185Z"
   },
   {
    "duration": 9,
    "start_time": "2022-11-11T08:01:41.348Z"
   },
   {
    "duration": 6,
    "start_time": "2022-11-11T08:01:41.708Z"
   },
   {
    "duration": 4,
    "start_time": "2022-11-11T08:01:42.079Z"
   },
   {
    "duration": 14,
    "start_time": "2022-11-11T08:01:42.241Z"
   },
   {
    "duration": 23,
    "start_time": "2022-11-11T08:01:42.440Z"
   },
   {
    "duration": 14,
    "start_time": "2022-11-11T08:01:43.184Z"
   },
   {
    "duration": 1059,
    "start_time": "2022-11-11T08:01:43.423Z"
   },
   {
    "duration": 20,
    "start_time": "2022-11-11T08:01:48.163Z"
   },
   {
    "duration": 110,
    "start_time": "2022-11-11T08:01:49.337Z"
   },
   {
    "duration": 19,
    "start_time": "2022-11-11T08:01:50.475Z"
   },
   {
    "duration": 93,
    "start_time": "2022-11-11T08:01:50.740Z"
   },
   {
    "duration": 22,
    "start_time": "2022-11-11T08:01:52.121Z"
   },
   {
    "duration": 105,
    "start_time": "2022-11-11T08:01:52.283Z"
   },
   {
    "duration": 633,
    "start_time": "2022-11-11T20:17:29.949Z"
   },
   {
    "duration": 33,
    "start_time": "2022-11-11T20:17:30.586Z"
   },
   {
    "duration": 17,
    "start_time": "2022-11-11T20:17:30.707Z"
   },
   {
    "duration": 12,
    "start_time": "2022-11-11T20:17:31.419Z"
   },
   {
    "duration": 38,
    "start_time": "2022-11-11T20:17:31.794Z"
   },
   {
    "duration": 6,
    "start_time": "2022-11-11T20:17:32.286Z"
   },
   {
    "duration": 14,
    "start_time": "2022-11-11T20:17:32.614Z"
   },
   {
    "duration": 5,
    "start_time": "2022-11-11T20:17:33.146Z"
   },
   {
    "duration": 10,
    "start_time": "2022-11-11T20:17:33.510Z"
   },
   {
    "duration": 5,
    "start_time": "2022-11-11T20:17:33.869Z"
   },
   {
    "duration": 45,
    "start_time": "2022-11-11T20:17:34.406Z"
   },
   {
    "duration": 18,
    "start_time": "2022-11-11T20:17:34.764Z"
   },
   {
    "duration": 5,
    "start_time": "2022-11-11T20:17:35.289Z"
   },
   {
    "duration": 15,
    "start_time": "2022-11-11T20:17:35.859Z"
   },
   {
    "duration": 27,
    "start_time": "2022-11-11T20:17:36.222Z"
   },
   {
    "duration": 18,
    "start_time": "2022-11-11T20:17:36.412Z"
   },
   {
    "duration": 3,
    "start_time": "2022-11-11T20:17:36.936Z"
   },
   {
    "duration": 11,
    "start_time": "2022-11-11T20:17:37.121Z"
   },
   {
    "duration": 10,
    "start_time": "2022-11-11T20:17:37.502Z"
   },
   {
    "duration": 4,
    "start_time": "2022-11-11T20:17:37.881Z"
   },
   {
    "duration": 9,
    "start_time": "2022-11-11T20:17:38.061Z"
   },
   {
    "duration": 14,
    "start_time": "2022-11-11T20:17:38.256Z"
   },
   {
    "duration": 14,
    "start_time": "2022-11-11T20:17:39.060Z"
   },
   {
    "duration": 1225,
    "start_time": "2022-11-11T20:17:39.253Z"
   },
   {
    "duration": 43,
    "start_time": "2022-11-11T20:17:40.481Z"
   },
   {
    "duration": 116,
    "start_time": "2022-11-11T20:17:58.192Z"
   },
   {
    "duration": 141,
    "start_time": "2022-11-11T20:18:31.604Z"
   },
   {
    "duration": 9,
    "start_time": "2022-11-11T20:19:06.221Z"
   },
   {
    "duration": 144,
    "start_time": "2022-11-11T20:19:21.995Z"
   },
   {
    "duration": 13,
    "start_time": "2022-11-11T20:19:59.294Z"
   },
   {
    "duration": 151,
    "start_time": "2022-11-11T20:19:59.763Z"
   },
   {
    "duration": 10,
    "start_time": "2022-11-11T20:24:50.631Z"
   },
   {
    "duration": 143,
    "start_time": "2022-11-11T20:24:54.519Z"
   },
   {
    "duration": 439,
    "start_time": "2022-11-12T07:22:59.965Z"
   },
   {
    "duration": 20,
    "start_time": "2022-11-12T07:23:00.407Z"
   },
   {
    "duration": 37,
    "start_time": "2022-11-12T07:23:00.429Z"
   },
   {
    "duration": 11,
    "start_time": "2022-11-12T07:23:00.468Z"
   },
   {
    "duration": 51,
    "start_time": "2022-11-12T07:23:00.481Z"
   },
   {
    "duration": 5,
    "start_time": "2022-11-12T07:23:00.534Z"
   },
   {
    "duration": 49,
    "start_time": "2022-11-12T07:23:00.540Z"
   },
   {
    "duration": 11,
    "start_time": "2022-11-12T07:23:00.591Z"
   },
   {
    "duration": 12,
    "start_time": "2022-11-12T07:23:00.603Z"
   },
   {
    "duration": 9,
    "start_time": "2022-11-12T07:23:00.617Z"
   },
   {
    "duration": 39,
    "start_time": "2022-11-12T07:23:00.628Z"
   },
   {
    "duration": 11,
    "start_time": "2022-11-12T07:23:00.669Z"
   },
   {
    "duration": 37,
    "start_time": "2022-11-12T07:23:00.682Z"
   },
   {
    "duration": 23,
    "start_time": "2022-11-12T07:23:00.722Z"
   },
   {
    "duration": 32,
    "start_time": "2022-11-12T07:23:00.747Z"
   },
   {
    "duration": 19,
    "start_time": "2022-11-12T07:23:00.780Z"
   },
   {
    "duration": 16,
    "start_time": "2022-11-12T07:23:00.801Z"
   },
   {
    "duration": 22,
    "start_time": "2022-11-12T07:23:00.818Z"
   },
   {
    "duration": 31,
    "start_time": "2022-11-12T07:23:00.842Z"
   },
   {
    "duration": 25,
    "start_time": "2022-11-12T07:23:00.875Z"
   },
   {
    "duration": 36,
    "start_time": "2022-11-12T07:23:00.902Z"
   },
   {
    "duration": 40,
    "start_time": "2022-11-12T07:23:00.940Z"
   },
   {
    "duration": 27,
    "start_time": "2022-11-12T07:23:00.982Z"
   },
   {
    "duration": 1033,
    "start_time": "2022-11-12T07:23:01.011Z"
   },
   {
    "duration": 24,
    "start_time": "2022-11-12T07:23:02.045Z"
   },
   {
    "duration": 137,
    "start_time": "2022-11-12T07:23:02.071Z"
   },
   {
    "duration": 28,
    "start_time": "2022-11-12T07:23:02.210Z"
   },
   {
    "duration": 112,
    "start_time": "2022-11-12T07:23:02.240Z"
   },
   {
    "duration": 22,
    "start_time": "2022-11-12T07:23:02.354Z"
   },
   {
    "duration": 180,
    "start_time": "2022-11-12T07:23:02.378Z"
   },
   {
    "duration": 117,
    "start_time": "2022-11-12T07:23:57.569Z"
   },
   {
    "duration": 4,
    "start_time": "2022-11-12T07:24:12.036Z"
   },
   {
    "duration": 7,
    "start_time": "2022-11-12T07:24:20.812Z"
   },
   {
    "duration": 106,
    "start_time": "2022-11-12T07:24:31.989Z"
   },
   {
    "duration": 136,
    "start_time": "2022-11-12T07:25:53.923Z"
   },
   {
    "duration": 10,
    "start_time": "2022-11-12T07:29:33.158Z"
   },
   {
    "duration": 6,
    "start_time": "2022-11-12T07:29:42.570Z"
   },
   {
    "duration": 128,
    "start_time": "2022-11-12T07:29:57.282Z"
   },
   {
    "duration": 190,
    "start_time": "2022-11-12T07:30:03.517Z"
   },
   {
    "duration": 14,
    "start_time": "2022-11-12T07:30:11.349Z"
   },
   {
    "duration": 129,
    "start_time": "2022-11-12T07:30:20.849Z"
   },
   {
    "duration": 121,
    "start_time": "2022-11-12T07:30:25.973Z"
   },
   {
    "duration": 675,
    "start_time": "2022-11-12T10:39:49.102Z"
   },
   {
    "duration": 19,
    "start_time": "2022-11-12T10:39:49.779Z"
   },
   {
    "duration": 14,
    "start_time": "2022-11-12T10:39:49.800Z"
   },
   {
    "duration": 10,
    "start_time": "2022-11-12T10:39:50.443Z"
   },
   {
    "duration": 32,
    "start_time": "2022-11-12T10:39:50.827Z"
   },
   {
    "duration": 4,
    "start_time": "2022-11-12T10:39:51.329Z"
   },
   {
    "duration": 8,
    "start_time": "2022-11-12T10:39:51.694Z"
   },
   {
    "duration": 5,
    "start_time": "2022-11-12T10:39:52.214Z"
   },
   {
    "duration": 8,
    "start_time": "2022-11-12T10:39:52.577Z"
   },
   {
    "duration": 5,
    "start_time": "2022-11-12T10:39:52.923Z"
   },
   {
    "duration": 54,
    "start_time": "2022-11-12T10:39:53.919Z"
   },
   {
    "duration": 17,
    "start_time": "2022-11-12T10:39:54.274Z"
   },
   {
    "duration": 4,
    "start_time": "2022-11-12T10:39:54.830Z"
   },
   {
    "duration": 10,
    "start_time": "2022-11-12T10:39:55.375Z"
   },
   {
    "duration": 20,
    "start_time": "2022-11-12T10:39:55.725Z"
   },
   {
    "duration": 17,
    "start_time": "2022-11-12T10:39:55.934Z"
   },
   {
    "duration": 4,
    "start_time": "2022-11-12T10:39:56.481Z"
   },
   {
    "duration": 10,
    "start_time": "2022-11-12T10:39:56.659Z"
   },
   {
    "duration": 7,
    "start_time": "2022-11-12T10:39:57.026Z"
   },
   {
    "duration": 3,
    "start_time": "2022-11-12T10:39:57.433Z"
   },
   {
    "duration": 8,
    "start_time": "2022-11-12T10:39:57.601Z"
   },
   {
    "duration": 13,
    "start_time": "2022-11-12T10:39:57.794Z"
   },
   {
    "duration": 13,
    "start_time": "2022-11-12T10:40:00.484Z"
   },
   {
    "duration": 1056,
    "start_time": "2022-11-12T10:43:17.440Z"
   },
   {
    "duration": 772,
    "start_time": "2022-11-12T10:43:43.984Z"
   }
  ],
  "colab": {
   "name": "dpp_template_part2.ipynb",
   "provenance": []
  },
  "kernelspec": {
   "display_name": "Python 3 (ipykernel)",
   "language": "python",
   "name": "python3"
  },
  "language_info": {
   "codemirror_mode": {
    "name": "ipython",
    "version": 3
   },
   "file_extension": ".py",
   "mimetype": "text/x-python",
   "name": "python",
   "nbconvert_exporter": "python",
   "pygments_lexer": "ipython3",
   "version": "3.9.13"
  },
  "toc": {
   "base_numbering": 1,
   "nav_menu": {},
   "number_sections": true,
   "sideBar": true,
   "skip_h1_title": true,
   "title_cell": "Table of Contents",
   "title_sidebar": "Contents",
   "toc_cell": false,
   "toc_position": {},
   "toc_section_display": true,
   "toc_window_display": false
  }
 },
 "nbformat": 4,
 "nbformat_minor": 5
}
