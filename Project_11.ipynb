{
 "cells": [
  {
   "cell_type": "markdown",
   "metadata": {},
   "source": [
    "# Определение стоимости автомобилей"
   ]
  },
  {
   "cell_type": "markdown",
   "metadata": {},
   "source": [
    "Сервис по продаже автомобилей с пробегом «Не бит, не крашен» разрабатывает приложение для привлечения новых клиентов. В нём можно быстро узнать рыночную стоимость своего автомобиля. В вашем распоряжении исторические данные: технические характеристики, комплектации и цены автомобилей. Вам нужно построить модель для определения стоимости. \n",
    "\n",
    "Заказчику важны:\n",
    "\n",
    "- качество предсказания;\n",
    "- скорость предсказания;\n",
    "- время обучения."
   ]
  },
  {
   "cell_type": "markdown",
   "metadata": {},
   "source": [
    "## Подготовка данных"
   ]
  },
  {
   "cell_type": "code",
   "execution_count": 21,
   "metadata": {},
   "outputs": [],
   "source": [
    "#библиотеки\n",
    "import numpy as np\n",
    "import pandas as pd\n",
    "import seaborn\n",
    "import matplotlib.pyplot as plt\n",
    "from sklearn.preprocessing import OrdinalEncoder\n",
    "from sklearn.preprocessing import StandardScaler\n",
    "from sklearn.model_selection import train_test_split\n",
    "\n",
    "from sklearn.linear_model import LinearRegression\n",
    "from sklearn.ensemble import RandomForestRegressor\n",
    "from sklearn.model_selection import cross_val_score\n",
    "from sklearn.metrics import mean_absolute_error, mean_squared_error\n",
    "from tqdm import tqdm\n",
    "from numpy.random import RandomState\n",
    "from lightgbm import LGBMRegressor\n",
    "from sklearn.model_selection import RepeatedKFold\n",
    "from sklearn.model_selection import GridSearchCV\n",
    "import time\n",
    "from sklearn.dummy import DummyRegressor\n",
    "import lightgbm as lgb"
   ]
  },
  {
   "cell_type": "code",
   "execution_count": 22,
   "metadata": {},
   "outputs": [],
   "source": [
    "df = pd.read_csv('/datasets/autos.csv')"
   ]
  },
  {
   "cell_type": "code",
   "execution_count": 23,
   "metadata": {},
   "outputs": [
    {
     "name": "stdout",
     "output_type": "stream",
     "text": [
      "<class 'pandas.core.frame.DataFrame'>\n",
      "RangeIndex: 354369 entries, 0 to 354368\n",
      "Data columns (total 16 columns):\n",
      " #   Column             Non-Null Count   Dtype \n",
      "---  ------             --------------   ----- \n",
      " 0   DateCrawled        354369 non-null  object\n",
      " 1   Price              354369 non-null  int64 \n",
      " 2   VehicleType        316879 non-null  object\n",
      " 3   RegistrationYear   354369 non-null  int64 \n",
      " 4   Gearbox            334536 non-null  object\n",
      " 5   Power              354369 non-null  int64 \n",
      " 6   Model              334664 non-null  object\n",
      " 7   Kilometer          354369 non-null  int64 \n",
      " 8   RegistrationMonth  354369 non-null  int64 \n",
      " 9   FuelType           321474 non-null  object\n",
      " 10  Brand              354369 non-null  object\n",
      " 11  Repaired           283215 non-null  object\n",
      " 12  DateCreated        354369 non-null  object\n",
      " 13  NumberOfPictures   354369 non-null  int64 \n",
      " 14  PostalCode         354369 non-null  int64 \n",
      " 15  LastSeen           354369 non-null  object\n",
      "dtypes: int64(7), object(9)\n",
      "memory usage: 43.3+ MB\n"
     ]
    }
   ],
   "source": [
    "df.info()"
   ]
  },
  {
   "cell_type": "code",
   "execution_count": 24,
   "metadata": {},
   "outputs": [
    {
     "data": {
      "text/plain": [
       "DateCrawled              0\n",
       "Price                    0\n",
       "VehicleType          37490\n",
       "RegistrationYear         0\n",
       "Gearbox              19833\n",
       "Power                    0\n",
       "Model                19705\n",
       "Kilometer                0\n",
       "RegistrationMonth        0\n",
       "FuelType             32895\n",
       "Brand                    0\n",
       "Repaired             71154\n",
       "DateCreated              0\n",
       "NumberOfPictures         0\n",
       "PostalCode               0\n",
       "LastSeen                 0\n",
       "dtype: int64"
      ]
     },
     "execution_count": 24,
     "metadata": {},
     "output_type": "execute_result"
    }
   ],
   "source": [
    "df.isna().sum()"
   ]
  },
  {
   "cell_type": "markdown",
   "metadata": {},
   "source": [
    "Обнаружины пропуски в \n",
    "* VehicleType 37490 - тип автомобильного кузова\n",
    "* Gearbox 19833 - тип коробки передач\n",
    "* Model 19705 - модель автомобиля\n",
    "* FuelType 32895 - тип топлива\n",
    "* Repaired 71154 - была машина в ремонте или нет"
   ]
  },
  {
   "cell_type": "markdown",
   "metadata": {},
   "source": [
    "### Устронение дубликатов"
   ]
  },
  {
   "cell_type": "code",
   "execution_count": 25,
   "metadata": {},
   "outputs": [
    {
     "data": {
      "text/html": [
       "<div>\n",
       "<style scoped>\n",
       "    .dataframe tbody tr th:only-of-type {\n",
       "        vertical-align: middle;\n",
       "    }\n",
       "\n",
       "    .dataframe tbody tr th {\n",
       "        vertical-align: top;\n",
       "    }\n",
       "\n",
       "    .dataframe thead th {\n",
       "        text-align: right;\n",
       "    }\n",
       "</style>\n",
       "<table border=\"1\" class=\"dataframe\">\n",
       "  <thead>\n",
       "    <tr style=\"text-align: right;\">\n",
       "      <th></th>\n",
       "      <th>DateCrawled</th>\n",
       "      <th>Price</th>\n",
       "      <th>VehicleType</th>\n",
       "      <th>RegistrationYear</th>\n",
       "      <th>Gearbox</th>\n",
       "      <th>Power</th>\n",
       "      <th>Model</th>\n",
       "      <th>Kilometer</th>\n",
       "      <th>RegistrationMonth</th>\n",
       "      <th>FuelType</th>\n",
       "      <th>Brand</th>\n",
       "      <th>Repaired</th>\n",
       "      <th>DateCreated</th>\n",
       "      <th>NumberOfPictures</th>\n",
       "      <th>PostalCode</th>\n",
       "      <th>LastSeen</th>\n",
       "    </tr>\n",
       "  </thead>\n",
       "  <tbody>\n",
       "    <tr>\n",
       "      <th>171088</th>\n",
       "      <td>2016-03-08 18:42:48</td>\n",
       "      <td>1799</td>\n",
       "      <td>coupe</td>\n",
       "      <td>1999</td>\n",
       "      <td>auto</td>\n",
       "      <td>193</td>\n",
       "      <td>clk</td>\n",
       "      <td>20000</td>\n",
       "      <td>7</td>\n",
       "      <td>petrol</td>\n",
       "      <td>mercedes_benz</td>\n",
       "      <td>no</td>\n",
       "      <td>2016-03-08 00:00:00</td>\n",
       "      <td>0</td>\n",
       "      <td>89518</td>\n",
       "      <td>2016-03-09 09:46:57</td>\n",
       "    </tr>\n",
       "    <tr>\n",
       "      <th>231258</th>\n",
       "      <td>2016-03-28 00:56:10</td>\n",
       "      <td>1000</td>\n",
       "      <td>small</td>\n",
       "      <td>2002</td>\n",
       "      <td>manual</td>\n",
       "      <td>83</td>\n",
       "      <td>other</td>\n",
       "      <td>150000</td>\n",
       "      <td>1</td>\n",
       "      <td>petrol</td>\n",
       "      <td>suzuki</td>\n",
       "      <td>no</td>\n",
       "      <td>2016-03-28 00:00:00</td>\n",
       "      <td>0</td>\n",
       "      <td>66589</td>\n",
       "      <td>2016-03-28 08:46:21</td>\n",
       "    </tr>\n",
       "    <tr>\n",
       "      <th>258109</th>\n",
       "      <td>2016-04-03 09:01:15</td>\n",
       "      <td>4699</td>\n",
       "      <td>coupe</td>\n",
       "      <td>2003</td>\n",
       "      <td>auto</td>\n",
       "      <td>218</td>\n",
       "      <td>clk</td>\n",
       "      <td>125000</td>\n",
       "      <td>6</td>\n",
       "      <td>petrol</td>\n",
       "      <td>mercedes_benz</td>\n",
       "      <td>yes</td>\n",
       "      <td>2016-04-03 00:00:00</td>\n",
       "      <td>0</td>\n",
       "      <td>75196</td>\n",
       "      <td>2016-04-07 09:44:54</td>\n",
       "    </tr>\n",
       "    <tr>\n",
       "      <th>325651</th>\n",
       "      <td>2016-03-18 18:46:15</td>\n",
       "      <td>1999</td>\n",
       "      <td>wagon</td>\n",
       "      <td>2001</td>\n",
       "      <td>manual</td>\n",
       "      <td>131</td>\n",
       "      <td>passat</td>\n",
       "      <td>150000</td>\n",
       "      <td>7</td>\n",
       "      <td>gasoline</td>\n",
       "      <td>volkswagen</td>\n",
       "      <td>no</td>\n",
       "      <td>2016-03-18 00:00:00</td>\n",
       "      <td>0</td>\n",
       "      <td>36391</td>\n",
       "      <td>2016-03-18 18:46:15</td>\n",
       "    </tr>\n",
       "  </tbody>\n",
       "</table>\n",
       "</div>"
      ],
      "text/plain": [
       "                DateCrawled  Price VehicleType  RegistrationYear Gearbox  \\\n",
       "171088  2016-03-08 18:42:48   1799       coupe              1999    auto   \n",
       "231258  2016-03-28 00:56:10   1000       small              2002  manual   \n",
       "258109  2016-04-03 09:01:15   4699       coupe              2003    auto   \n",
       "325651  2016-03-18 18:46:15   1999       wagon              2001  manual   \n",
       "\n",
       "        Power   Model  Kilometer  RegistrationMonth  FuelType          Brand  \\\n",
       "171088    193     clk      20000                  7    petrol  mercedes_benz   \n",
       "231258     83   other     150000                  1    petrol         suzuki   \n",
       "258109    218     clk     125000                  6    petrol  mercedes_benz   \n",
       "325651    131  passat     150000                  7  gasoline     volkswagen   \n",
       "\n",
       "       Repaired          DateCreated  NumberOfPictures  PostalCode  \\\n",
       "171088       no  2016-03-08 00:00:00                 0       89518   \n",
       "231258       no  2016-03-28 00:00:00                 0       66589   \n",
       "258109      yes  2016-04-03 00:00:00                 0       75196   \n",
       "325651       no  2016-03-18 00:00:00                 0       36391   \n",
       "\n",
       "                   LastSeen  \n",
       "171088  2016-03-09 09:46:57  \n",
       "231258  2016-03-28 08:46:21  \n",
       "258109  2016-04-07 09:44:54  \n",
       "325651  2016-03-18 18:46:15  "
      ]
     },
     "execution_count": 25,
     "metadata": {},
     "output_type": "execute_result"
    }
   ],
   "source": [
    "df[df.duplicated() == True]"
   ]
  },
  {
   "cell_type": "code",
   "execution_count": 26,
   "metadata": {},
   "outputs": [
    {
     "data": {
      "text/plain": [
       "(354365, 16)"
      ]
     },
     "execution_count": 26,
     "metadata": {},
     "output_type": "execute_result"
    }
   ],
   "source": [
    "df = df.drop_duplicates(keep='first')\n",
    "df.shape"
   ]
  },
  {
   "cell_type": "code",
   "execution_count": 27,
   "metadata": {},
   "outputs": [
    {
     "data": {
      "text/plain": [
       "Index(['DateCrawled', 'Price', 'VehicleType', 'RegistrationYear', 'Gearbox',\n",
       "       'Power', 'Model', 'Kilometer', 'RegistrationMonth', 'FuelType', 'Brand',\n",
       "       'Repaired', 'DateCreated', 'NumberOfPictures', 'PostalCode',\n",
       "       'LastSeen'],\n",
       "      dtype='object')"
      ]
     },
     "execution_count": 27,
     "metadata": {},
     "output_type": "execute_result"
    }
   ],
   "source": [
    "df.columns"
   ]
  },
  {
   "cell_type": "code",
   "execution_count": 28,
   "metadata": {},
   "outputs": [
    {
     "name": "stdout",
     "output_type": "stream",
     "text": [
      "<class 'pandas.core.frame.DataFrame'>\n",
      "Int64Index: 354365 entries, 0 to 354368\n",
      "Data columns (total 12 columns):\n",
      " #   Column             Non-Null Count   Dtype \n",
      "---  ------             --------------   ----- \n",
      " 0   DateCrawled        354365 non-null  object\n",
      " 1   Price              354365 non-null  int64 \n",
      " 2   VehicleType        316875 non-null  object\n",
      " 3   RegistrationYear   354365 non-null  int64 \n",
      " 4   Gearbox            334532 non-null  object\n",
      " 5   Power              354365 non-null  int64 \n",
      " 6   Model              334660 non-null  object\n",
      " 7   Kilometer          354365 non-null  int64 \n",
      " 8   RegistrationMonth  354365 non-null  int64 \n",
      " 9   FuelType           321470 non-null  object\n",
      " 10  Brand              354365 non-null  object\n",
      " 11  Repaired           283211 non-null  object\n",
      "dtypes: int64(5), object(7)\n",
      "memory usage: 35.1+ MB\n"
     ]
    }
   ],
   "source": [
    "df = df.drop(columns=[ 'DateCreated', 'NumberOfPictures','PostalCode', 'LastSeen' ])\n",
    "#df = df[['Price', 'VehicleType', 'RegistrationYear', 'Gearbox', 'Repaired', 'Power', 'Model', 'Kilometer', 'FuelType', 'Brand']].copy()\n",
    "df.info()"
   ]
  },
  {
   "cell_type": "code",
   "execution_count": 29,
   "metadata": {
    "scrolled": false
   },
   "outputs": [
    {
     "data": {
      "text/html": [
       "<div>\n",
       "<style scoped>\n",
       "    .dataframe tbody tr th:only-of-type {\n",
       "        vertical-align: middle;\n",
       "    }\n",
       "\n",
       "    .dataframe tbody tr th {\n",
       "        vertical-align: top;\n",
       "    }\n",
       "\n",
       "    .dataframe thead th {\n",
       "        text-align: right;\n",
       "    }\n",
       "</style>\n",
       "<table border=\"1\" class=\"dataframe\">\n",
       "  <thead>\n",
       "    <tr style=\"text-align: right;\">\n",
       "      <th></th>\n",
       "      <th>DateCrawled</th>\n",
       "      <th>Price</th>\n",
       "      <th>VehicleType</th>\n",
       "      <th>RegistrationYear</th>\n",
       "      <th>Gearbox</th>\n",
       "      <th>Power</th>\n",
       "      <th>Model</th>\n",
       "      <th>Kilometer</th>\n",
       "      <th>RegistrationMonth</th>\n",
       "      <th>FuelType</th>\n",
       "      <th>Brand</th>\n",
       "      <th>Repaired</th>\n",
       "    </tr>\n",
       "  </thead>\n",
       "  <tbody>\n",
       "    <tr>\n",
       "      <th>0</th>\n",
       "      <td>2016-03-24 11:52:17</td>\n",
       "      <td>480</td>\n",
       "      <td>NaN</td>\n",
       "      <td>1993</td>\n",
       "      <td>manual</td>\n",
       "      <td>0</td>\n",
       "      <td>golf</td>\n",
       "      <td>150000</td>\n",
       "      <td>0</td>\n",
       "      <td>petrol</td>\n",
       "      <td>volkswagen</td>\n",
       "      <td>NaN</td>\n",
       "    </tr>\n",
       "    <tr>\n",
       "      <th>1</th>\n",
       "      <td>2016-03-24 10:58:45</td>\n",
       "      <td>18300</td>\n",
       "      <td>coupe</td>\n",
       "      <td>2011</td>\n",
       "      <td>manual</td>\n",
       "      <td>190</td>\n",
       "      <td>NaN</td>\n",
       "      <td>125000</td>\n",
       "      <td>5</td>\n",
       "      <td>gasoline</td>\n",
       "      <td>audi</td>\n",
       "      <td>yes</td>\n",
       "    </tr>\n",
       "    <tr>\n",
       "      <th>2</th>\n",
       "      <td>2016-03-14 12:52:21</td>\n",
       "      <td>9800</td>\n",
       "      <td>suv</td>\n",
       "      <td>2004</td>\n",
       "      <td>auto</td>\n",
       "      <td>163</td>\n",
       "      <td>grand</td>\n",
       "      <td>125000</td>\n",
       "      <td>8</td>\n",
       "      <td>gasoline</td>\n",
       "      <td>jeep</td>\n",
       "      <td>NaN</td>\n",
       "    </tr>\n",
       "    <tr>\n",
       "      <th>3</th>\n",
       "      <td>2016-03-17 16:54:04</td>\n",
       "      <td>1500</td>\n",
       "      <td>small</td>\n",
       "      <td>2001</td>\n",
       "      <td>manual</td>\n",
       "      <td>75</td>\n",
       "      <td>golf</td>\n",
       "      <td>150000</td>\n",
       "      <td>6</td>\n",
       "      <td>petrol</td>\n",
       "      <td>volkswagen</td>\n",
       "      <td>no</td>\n",
       "    </tr>\n",
       "    <tr>\n",
       "      <th>4</th>\n",
       "      <td>2016-03-31 17:25:20</td>\n",
       "      <td>3600</td>\n",
       "      <td>small</td>\n",
       "      <td>2008</td>\n",
       "      <td>manual</td>\n",
       "      <td>69</td>\n",
       "      <td>fabia</td>\n",
       "      <td>90000</td>\n",
       "      <td>7</td>\n",
       "      <td>gasoline</td>\n",
       "      <td>skoda</td>\n",
       "      <td>no</td>\n",
       "    </tr>\n",
       "    <tr>\n",
       "      <th>...</th>\n",
       "      <td>...</td>\n",
       "      <td>...</td>\n",
       "      <td>...</td>\n",
       "      <td>...</td>\n",
       "      <td>...</td>\n",
       "      <td>...</td>\n",
       "      <td>...</td>\n",
       "      <td>...</td>\n",
       "      <td>...</td>\n",
       "      <td>...</td>\n",
       "      <td>...</td>\n",
       "      <td>...</td>\n",
       "    </tr>\n",
       "    <tr>\n",
       "      <th>354364</th>\n",
       "      <td>2016-03-21 09:50:58</td>\n",
       "      <td>0</td>\n",
       "      <td>NaN</td>\n",
       "      <td>2005</td>\n",
       "      <td>manual</td>\n",
       "      <td>0</td>\n",
       "      <td>colt</td>\n",
       "      <td>150000</td>\n",
       "      <td>7</td>\n",
       "      <td>petrol</td>\n",
       "      <td>mitsubishi</td>\n",
       "      <td>yes</td>\n",
       "    </tr>\n",
       "    <tr>\n",
       "      <th>354365</th>\n",
       "      <td>2016-03-14 17:48:27</td>\n",
       "      <td>2200</td>\n",
       "      <td>NaN</td>\n",
       "      <td>2005</td>\n",
       "      <td>NaN</td>\n",
       "      <td>0</td>\n",
       "      <td>NaN</td>\n",
       "      <td>20000</td>\n",
       "      <td>1</td>\n",
       "      <td>NaN</td>\n",
       "      <td>sonstige_autos</td>\n",
       "      <td>NaN</td>\n",
       "    </tr>\n",
       "    <tr>\n",
       "      <th>354366</th>\n",
       "      <td>2016-03-05 19:56:21</td>\n",
       "      <td>1199</td>\n",
       "      <td>convertible</td>\n",
       "      <td>2000</td>\n",
       "      <td>auto</td>\n",
       "      <td>101</td>\n",
       "      <td>fortwo</td>\n",
       "      <td>125000</td>\n",
       "      <td>3</td>\n",
       "      <td>petrol</td>\n",
       "      <td>smart</td>\n",
       "      <td>no</td>\n",
       "    </tr>\n",
       "    <tr>\n",
       "      <th>354367</th>\n",
       "      <td>2016-03-19 18:57:12</td>\n",
       "      <td>9200</td>\n",
       "      <td>bus</td>\n",
       "      <td>1996</td>\n",
       "      <td>manual</td>\n",
       "      <td>102</td>\n",
       "      <td>transporter</td>\n",
       "      <td>150000</td>\n",
       "      <td>3</td>\n",
       "      <td>gasoline</td>\n",
       "      <td>volkswagen</td>\n",
       "      <td>no</td>\n",
       "    </tr>\n",
       "    <tr>\n",
       "      <th>354368</th>\n",
       "      <td>2016-03-20 19:41:08</td>\n",
       "      <td>3400</td>\n",
       "      <td>wagon</td>\n",
       "      <td>2002</td>\n",
       "      <td>manual</td>\n",
       "      <td>100</td>\n",
       "      <td>golf</td>\n",
       "      <td>150000</td>\n",
       "      <td>6</td>\n",
       "      <td>gasoline</td>\n",
       "      <td>volkswagen</td>\n",
       "      <td>NaN</td>\n",
       "    </tr>\n",
       "  </tbody>\n",
       "</table>\n",
       "<p>354365 rows × 12 columns</p>\n",
       "</div>"
      ],
      "text/plain": [
       "                DateCrawled  Price  VehicleType  RegistrationYear Gearbox  \\\n",
       "0       2016-03-24 11:52:17    480          NaN              1993  manual   \n",
       "1       2016-03-24 10:58:45  18300        coupe              2011  manual   \n",
       "2       2016-03-14 12:52:21   9800          suv              2004    auto   \n",
       "3       2016-03-17 16:54:04   1500        small              2001  manual   \n",
       "4       2016-03-31 17:25:20   3600        small              2008  manual   \n",
       "...                     ...    ...          ...               ...     ...   \n",
       "354364  2016-03-21 09:50:58      0          NaN              2005  manual   \n",
       "354365  2016-03-14 17:48:27   2200          NaN              2005     NaN   \n",
       "354366  2016-03-05 19:56:21   1199  convertible              2000    auto   \n",
       "354367  2016-03-19 18:57:12   9200          bus              1996  manual   \n",
       "354368  2016-03-20 19:41:08   3400        wagon              2002  manual   \n",
       "\n",
       "        Power        Model  Kilometer  RegistrationMonth  FuelType  \\\n",
       "0           0         golf     150000                  0    petrol   \n",
       "1         190          NaN     125000                  5  gasoline   \n",
       "2         163        grand     125000                  8  gasoline   \n",
       "3          75         golf     150000                  6    petrol   \n",
       "4          69        fabia      90000                  7  gasoline   \n",
       "...       ...          ...        ...                ...       ...   \n",
       "354364      0         colt     150000                  7    petrol   \n",
       "354365      0          NaN      20000                  1       NaN   \n",
       "354366    101       fortwo     125000                  3    petrol   \n",
       "354367    102  transporter     150000                  3  gasoline   \n",
       "354368    100         golf     150000                  6  gasoline   \n",
       "\n",
       "                 Brand Repaired  \n",
       "0           volkswagen      NaN  \n",
       "1                 audi      yes  \n",
       "2                 jeep      NaN  \n",
       "3           volkswagen       no  \n",
       "4                skoda       no  \n",
       "...                ...      ...  \n",
       "354364      mitsubishi      yes  \n",
       "354365  sonstige_autos      NaN  \n",
       "354366           smart       no  \n",
       "354367      volkswagen       no  \n",
       "354368      volkswagen      NaN  \n",
       "\n",
       "[354365 rows x 12 columns]"
      ]
     },
     "execution_count": 29,
     "metadata": {},
     "output_type": "execute_result"
    }
   ],
   "source": [
    "df"
   ]
  },
  {
   "cell_type": "markdown",
   "metadata": {},
   "source": [
    "### Устранение пропусков"
   ]
  },
  {
   "cell_type": "code",
   "execution_count": 30,
   "metadata": {},
   "outputs": [
    {
     "data": {
      "text/plain": [
       "DateCrawled              0\n",
       "Price                    0\n",
       "VehicleType          37490\n",
       "RegistrationYear         0\n",
       "Gearbox              19833\n",
       "Power                    0\n",
       "Model                19705\n",
       "Kilometer                0\n",
       "RegistrationMonth        0\n",
       "FuelType             32895\n",
       "Brand                    0\n",
       "Repaired             71154\n",
       "dtype: int64"
      ]
     },
     "execution_count": 30,
     "metadata": {},
     "output_type": "execute_result"
    }
   ],
   "source": [
    "df.isna().sum()"
   ]
  },
  {
   "cell_type": "code",
   "execution_count": 31,
   "metadata": {},
   "outputs": [
    {
     "data": {
      "image/png": "[encoded data removed]",
      "text/plain": [
       "<Figure size 1224x504 with 1 Axes>"
      ]
     },
     "metadata": {
      "needs_background": "light"
     },
     "output_type": "display_data"
    }
   ],
   "source": [
    "fig, ax = plt.subplots(figsize = (17,7))\n",
    "ax = (df.isna().mean()*100).to_frame().rename(columns = {0:'space'}).query('space > 0').sort_values(by = 'space', ascending = True).plot(kind = 'barh', rot = -5, legend = False, fontsize = 16, ylabel='колонки c пропусками', ax =ax)\n",
    "ax.set_title('Пропуски' + \"\\n\", fontsize = 22, color = 'SteelBlue')\n",
    "ax.set_xlabel('количество пропусков')\n",
    "plt.show()"
   ]
  },
  {
   "cell_type": "markdown",
   "metadata": {},
   "source": [
    "Пропуски в VehicleType заменим на часто используемое значение по каждой категории машин в колонке Brand, т.е. модой. "
   ]
  },
  {
   "cell_type": "code",
   "execution_count": 32,
   "metadata": {},
   "outputs": [],
   "source": [
    "df['VehicleType'] = df.groupby('Brand')['VehicleType'].transform(\n",
    "    lambda x: x.fillna(( x.mode()[0] if x.count()!=0 else \"unknown\")))"
   ]
  },
  {
   "cell_type": "markdown",
   "metadata": {},
   "source": [
    "Пропуски в Gearbox так же заменим на часто используемое значение по каждой категории машин в колонке Model, т.е. модой. Но сначала пропуски в колонке Model заменим на unknown, так как тут я не вижу смылка \"угадывать\" по самому часто встречающемуся значению колонке Brand или еще какой либо. \n",
    "\n",
    "(ну либо я что-то не догнала так как  слабо разбираюсь в машинах...)"
   ]
  },
  {
   "cell_type": "code",
   "execution_count": 33,
   "metadata": {},
   "outputs": [],
   "source": [
    "df['Model'] = df['Model'].fillna('unknown')\n",
    "df['Gearbox'] = df.groupby('Model')['Gearbox'].transform(\n",
    "    lambda x: x.fillna(( x.mode()[0] if x.count()!=0 else \"unknown\")))"
   ]
  },
  {
   "cell_type": "markdown",
   "metadata": {},
   "source": [
    "С пропусками в FuelType сделаем то же самое что и в Gearbox."
   ]
  },
  {
   "cell_type": "code",
   "execution_count": 34,
   "metadata": {},
   "outputs": [],
   "source": [
    "df['FuelType'] = df.groupby('Model')['FuelType'].transform(\n",
    "    lambda x: x.fillna(( x.mode()[0] if x.count()!=0 else \"unknown\")))\n",
    "df['Repaired'] = df['Repaired'].fillna('no')"
   ]
  },
  {
   "cell_type": "code",
   "execution_count": 35,
   "metadata": {},
   "outputs": [
    {
     "name": "stdout",
     "output_type": "stream",
     "text": [
      "<class 'pandas.core.frame.DataFrame'>\n",
      "Int64Index: 354365 entries, 0 to 354368\n",
      "Data columns (total 12 columns):\n",
      " #   Column             Non-Null Count   Dtype \n",
      "---  ------             --------------   ----- \n",
      " 0   DateCrawled        354365 non-null  object\n",
      " 1   Price              354365 non-null  int64 \n",
      " 2   VehicleType        354365 non-null  object\n",
      " 3   RegistrationYear   354365 non-null  int64 \n",
      " 4   Gearbox            354365 non-null  object\n",
      " 5   Power              354365 non-null  int64 \n",
      " 6   Model              354365 non-null  object\n",
      " 7   Kilometer          354365 non-null  int64 \n",
      " 8   RegistrationMonth  354365 non-null  int64 \n",
      " 9   FuelType           354365 non-null  object\n",
      " 10  Brand              354365 non-null  object\n",
      " 11  Repaired           354365 non-null  object\n",
      "dtypes: int64(5), object(7)\n",
      "memory usage: 35.1+ MB\n"
     ]
    }
   ],
   "source": [
    "df.info()"
   ]
  },
  {
   "cell_type": "code",
   "execution_count": 36,
   "metadata": {},
   "outputs": [
    {
     "data": {
      "text/plain": [
       "DateCrawled          0\n",
       "Price                0\n",
       "VehicleType          0\n",
       "RegistrationYear     0\n",
       "Gearbox              0\n",
       "Power                0\n",
       "Model                0\n",
       "Kilometer            0\n",
       "RegistrationMonth    0\n",
       "FuelType             0\n",
       "Brand                0\n",
       "Repaired             0\n",
       "dtype: int64"
      ]
     },
     "execution_count": 36,
     "metadata": {},
     "output_type": "execute_result"
    }
   ],
   "source": [
    "df.isna().sum()"
   ]
  },
  {
   "cell_type": "markdown",
   "metadata": {},
   "source": [
    "### Выбросы"
   ]
  },
  {
   "cell_type": "code",
   "execution_count": 37,
   "metadata": {},
   "outputs": [
    {
     "data": {
      "text/html": [
       "<div>\n",
       "<style scoped>\n",
       "    .dataframe tbody tr th:only-of-type {\n",
       "        vertical-align: middle;\n",
       "    }\n",
       "\n",
       "    .dataframe tbody tr th {\n",
       "        vertical-align: top;\n",
       "    }\n",
       "\n",
       "    .dataframe thead th {\n",
       "        text-align: right;\n",
       "    }\n",
       "</style>\n",
       "<table border=\"1\" class=\"dataframe\">\n",
       "  <thead>\n",
       "    <tr style=\"text-align: right;\">\n",
       "      <th></th>\n",
       "      <th>Price</th>\n",
       "      <th>RegistrationYear</th>\n",
       "      <th>Power</th>\n",
       "      <th>Kilometer</th>\n",
       "      <th>RegistrationMonth</th>\n",
       "    </tr>\n",
       "  </thead>\n",
       "  <tbody>\n",
       "    <tr>\n",
       "      <th>count</th>\n",
       "      <td>354365.000000</td>\n",
       "      <td>354365.000000</td>\n",
       "      <td>354365.000000</td>\n",
       "      <td>354365.000000</td>\n",
       "      <td>354365.000000</td>\n",
       "    </tr>\n",
       "    <tr>\n",
       "      <th>mean</th>\n",
       "      <td>4416.679830</td>\n",
       "      <td>2004.234481</td>\n",
       "      <td>110.093816</td>\n",
       "      <td>128211.363989</td>\n",
       "      <td>5.714650</td>\n",
       "    </tr>\n",
       "    <tr>\n",
       "      <th>std</th>\n",
       "      <td>4514.176349</td>\n",
       "      <td>90.228466</td>\n",
       "      <td>189.851330</td>\n",
       "      <td>37905.083858</td>\n",
       "      <td>3.726432</td>\n",
       "    </tr>\n",
       "    <tr>\n",
       "      <th>min</th>\n",
       "      <td>0.000000</td>\n",
       "      <td>1000.000000</td>\n",
       "      <td>0.000000</td>\n",
       "      <td>5000.000000</td>\n",
       "      <td>0.000000</td>\n",
       "    </tr>\n",
       "    <tr>\n",
       "      <th>25%</th>\n",
       "      <td>1050.000000</td>\n",
       "      <td>1999.000000</td>\n",
       "      <td>69.000000</td>\n",
       "      <td>125000.000000</td>\n",
       "      <td>3.000000</td>\n",
       "    </tr>\n",
       "    <tr>\n",
       "      <th>50%</th>\n",
       "      <td>2700.000000</td>\n",
       "      <td>2003.000000</td>\n",
       "      <td>105.000000</td>\n",
       "      <td>150000.000000</td>\n",
       "      <td>6.000000</td>\n",
       "    </tr>\n",
       "    <tr>\n",
       "      <th>75%</th>\n",
       "      <td>6400.000000</td>\n",
       "      <td>2008.000000</td>\n",
       "      <td>143.000000</td>\n",
       "      <td>150000.000000</td>\n",
       "      <td>9.000000</td>\n",
       "    </tr>\n",
       "    <tr>\n",
       "      <th>max</th>\n",
       "      <td>20000.000000</td>\n",
       "      <td>9999.000000</td>\n",
       "      <td>20000.000000</td>\n",
       "      <td>150000.000000</td>\n",
       "      <td>12.000000</td>\n",
       "    </tr>\n",
       "  </tbody>\n",
       "</table>\n",
       "</div>"
      ],
      "text/plain": [
       "               Price  RegistrationYear          Power      Kilometer  \\\n",
       "count  354365.000000     354365.000000  354365.000000  354365.000000   \n",
       "mean     4416.679830       2004.234481     110.093816  128211.363989   \n",
       "std      4514.176349         90.228466     189.851330   37905.083858   \n",
       "min         0.000000       1000.000000       0.000000    5000.000000   \n",
       "25%      1050.000000       1999.000000      69.000000  125000.000000   \n",
       "50%      2700.000000       2003.000000     105.000000  150000.000000   \n",
       "75%      6400.000000       2008.000000     143.000000  150000.000000   \n",
       "max     20000.000000       9999.000000   20000.000000  150000.000000   \n",
       "\n",
       "       RegistrationMonth  \n",
       "count      354365.000000  \n",
       "mean            5.714650  \n",
       "std             3.726432  \n",
       "min             0.000000  \n",
       "25%             3.000000  \n",
       "50%             6.000000  \n",
       "75%             9.000000  \n",
       "max            12.000000  "
      ]
     },
     "execution_count": 37,
     "metadata": {},
     "output_type": "execute_result"
    }
   ],
   "source": [
    "df.describe()"
   ]
  },
  {
   "cell_type": "code",
   "execution_count": 38,
   "metadata": {},
   "outputs": [
    {
     "data": {
      "image/png": "[encoded data removed]",
      "text/plain": [
       "<Figure size 1224x144 with 1 Axes>"
      ]
     },
     "metadata": {
      "needs_background": "light"
     },
     "output_type": "display_data"
    }
   ],
   "source": [
    "fig, ax = plt.subplots(figsize = (17,2))\n",
    "ax = df[['Price']].boxplot(vert = False, ax =ax)\n",
    "ax.set_title('Диаграмма размаха Price')\n",
    "ax.set_xlabel('цена')\n",
    "plt.show()\n",
    "#ax.set_xlim(0, 400);"
   ]
  },
  {
   "cell_type": "markdown",
   "metadata": {},
   "source": [
    "А какой я график удалила, просто я вроде утром ток делала и я два графика просто меняла, я могла случайно удалить но я сижу и не могу вспомнить чего не хватает... Если помнишь напиши пожалуйста."
   ]
  },
  {
   "cell_type": "code",
   "execution_count": 39,
   "metadata": {},
   "outputs": [
    {
     "data": {
      "image/png": "[encoded data removed]",
      "text/plain": [
       "<Figure size 1080x504 with 1 Axes>"
      ]
     },
     "metadata": {
      "needs_background": "light"
     },
     "output_type": "display_data"
    }
   ],
   "source": [
    "df['Price'].hist(bins = 150, figsize = (15,7))\n",
    "plt.xlabel('значение цены', fontsize=16)\n",
    "plt.ylabel('частота цены', fontsize=16)\n",
    "plt.title('Price')\n",
    "plt.show()"
   ]
  },
  {
   "cell_type": "markdown",
   "metadata": {},
   "source": [
    "Понятное дело врятли машины за 1 евро и правда существуют. Поэтому если смотреть в рублях более мнее нормальную машины на ходу можно приобрести за 100000рублем, в евро это плюс минус 1000евро. Максимальая стоимость машины в таблице это 20т.евро. Я думаю это в полне реально, если переводить в рублт это больше 1мил.руб. "
   ]
  },
  {
   "cell_type": "code",
   "execution_count": 40,
   "metadata": {},
   "outputs": [],
   "source": [
    "df = df.query('1000 <= Price <= 10000') "
   ]
  },
  {
   "cell_type": "code",
   "execution_count": 41,
   "metadata": {},
   "outputs": [
    {
     "name": "stdout",
     "output_type": "stream",
     "text": [
      "2005    18817\n",
      "2004    17751\n",
      "2003    17404\n",
      "2006    16676\n",
      "2002    15959\n",
      "        ...  \n",
      "8888        1\n",
      "7100        1\n",
      "1600        1\n",
      "2500        1\n",
      "7800        1\n",
      "Name: RegistrationYear, Length: 115, dtype: int64\n",
      "AxesSubplot(0.125,0.125;0.775x0.755)\n"
     ]
    },
    {
     "data": {
      "image/png": "[encoded data removed]",
      "text/plain": [
       "<Figure size 1080x216 with 1 Axes>"
      ]
     },
     "metadata": {
      "needs_background": "light"
     },
     "output_type": "display_data"
    }
   ],
   "source": [
    "print(df['RegistrationYear'].value_counts())\n",
    "print(df['RegistrationYear'].hist(bins = 150, figsize = (15,3), range = (1900,9000)))\n",
    "plt.xlabel('год', fontsize=10)\n",
    "plt.ylabel('частота значений', fontsize=10)\n",
    "plt.title('RegistrationYear', fontsize=16);"
   ]
  },
  {
   "cell_type": "code",
   "execution_count": 42,
   "metadata": {},
   "outputs": [],
   "source": [
    "df = df.query('1960 <= RegistrationYear < 2023') "
   ]
  },
  {
   "cell_type": "code",
   "execution_count": 43,
   "metadata": {},
   "outputs": [
    {
     "name": "stdout",
     "output_type": "stream",
     "text": [
      "<class 'pandas.core.frame.DataFrame'>\n",
      "Int64Index: 227603 entries, 2 to 354368\n",
      "Data columns (total 13 columns):\n",
      " #   Column             Non-Null Count   Dtype         \n",
      "---  ------             --------------   -----         \n",
      " 0   DateCrawled        227603 non-null  datetime64[ns]\n",
      " 1   Price              227603 non-null  int64         \n",
      " 2   VehicleType        227603 non-null  object        \n",
      " 3   RegistrationYear   227603 non-null  int64         \n",
      " 4   Gearbox            227603 non-null  object        \n",
      " 5   Power              227603 non-null  int64         \n",
      " 6   Model              227603 non-null  object        \n",
      " 7   Kilometer          227603 non-null  int64         \n",
      " 8   RegistrationMonth  227603 non-null  int64         \n",
      " 9   FuelType           227603 non-null  object        \n",
      " 10  Brand              227603 non-null  object        \n",
      " 11  Repaired           227603 non-null  object        \n",
      " 12  DateCrawled_year   227603 non-null  int64         \n",
      "dtypes: datetime64[ns](1), int64(6), object(6)\n",
      "memory usage: 24.3+ MB\n"
     ]
    }
   ],
   "source": [
    "df['DateCrawled'] = pd.to_datetime(df['DateCrawled'], format='%Y-%m-%d %H:%M:%S')\n",
    "df['DateCrawled_year'] = df['DateCrawled'].dt.year\n",
    "df.info()"
   ]
  },
  {
   "cell_type": "code",
   "execution_count": 44,
   "metadata": {},
   "outputs": [],
   "source": [
    "df = df.query('DateCrawled_year >= RegistrationYear') "
   ]
  },
  {
   "cell_type": "markdown",
   "metadata": {},
   "source": [
    "Удалила где год совпадает, так как в таблице с месяцем сложно понять 0 это какой. Данных не много 4280 относительно всех, поэтому просто избавимся от них. "
   ]
  },
  {
   "cell_type": "code",
   "execution_count": 45,
   "metadata": {},
   "outputs": [
    {
     "data": {
      "image/png": "[encoded data removed]",
      "text/plain": [
       "<Figure size 1080x504 with 1 Axes>"
      ]
     },
     "metadata": {
      "needs_background": "light"
     },
     "output_type": "display_data"
    }
   ],
   "source": [
    "df['RegistrationYear'].hist(bins = 150, figsize = (15,7), range = (1959,2020))\n",
    "plt.xlabel('год', fontsize=10)\n",
    "plt.ylabel('частота значений', fontsize=10)\n",
    "plt.title('RegistrationYear', fontsize=16);"
   ]
  },
  {
   "cell_type": "code",
   "execution_count": 46,
   "metadata": {},
   "outputs": [
    {
     "data": {
      "image/png": "[encoded data removed]",
      "text/plain": [
       "<Figure size 1080x504 with 1 Axes>"
      ]
     },
     "metadata": {
      "needs_background": "light"
     },
     "output_type": "display_data"
    }
   ],
   "source": [
    "df['Power'].hist(bins = 150, figsize = (15,7))\n",
    "plt.xlabel('мощность', fontsize=10)\n",
    "plt.ylabel('частота значений', fontsize=10)\n",
    "plt.title('Power', fontsize=16);"
   ]
  },
  {
   "cell_type": "markdown",
   "metadata": {},
   "source": [
    "В интернете нашла статью о машине с мощьностью в 1360 л.с. минимальное значение думаю 20. "
   ]
  },
  {
   "cell_type": "code",
   "execution_count": 47,
   "metadata": {},
   "outputs": [
    {
     "data": {
      "image/png": "[encoded data removed]",
      "text/plain": [
       "<Figure size 1080x504 with 1 Axes>"
      ]
     },
     "metadata": {
      "needs_background": "light"
     },
     "output_type": "display_data"
    }
   ],
   "source": [
    "df = df.query('20 <= Power < 1360') \n",
    "df['Power'].hist(bins = 150, figsize = (15,7))\n",
    "plt.xlabel('мощность', fontsize=10)\n",
    "plt.ylabel('частота значений', fontsize=10)\n",
    "plt.title('Power', fontsize=16);"
   ]
  },
  {
   "cell_type": "markdown",
   "metadata": {},
   "source": [
    "у нас значений больше 400 очень малы, это выбросы их уерем. "
   ]
  },
  {
   "cell_type": "code",
   "execution_count": 48,
   "metadata": {},
   "outputs": [
    {
     "data": {
      "image/png": "[encoded data removed]",
      "text/plain": [
       "<Figure size 1080x504 with 1 Axes>"
      ]
     },
     "metadata": {
      "needs_background": "light"
     },
     "output_type": "display_data"
    }
   ],
   "source": [
    "df = df.query('20 <= Power < 400') \n",
    "df['Power'].hist(bins = 150, figsize = (15,7))\n",
    "plt.xlabel('мощность', fontsize=10)\n",
    "plt.ylabel('частота значений', fontsize=10)\n",
    "plt.title('Power', fontsize=16);"
   ]
  },
  {
   "cell_type": "code",
   "execution_count": 49,
   "metadata": {},
   "outputs": [
    {
     "data": {
      "image/png": "[encoded data removed]",
      "text/plain": [
       "<Figure size 1080x216 with 1 Axes>"
      ]
     },
     "metadata": {
      "needs_background": "light"
     },
     "output_type": "display_data"
    }
   ],
   "source": [
    "df['Kilometer'].hist(bins = 150, figsize = (15,3))\n",
    "plt.xlabel('пробег ', fontsize=10)\n",
    "plt.ylabel('частота значений', fontsize=10)\n",
    "plt.title('Kilometer', fontsize=16);"
   ]
  },
  {
   "cell_type": "markdown",
   "metadata": {},
   "source": [
    "С пробегом все хорошо, значения реальные."
   ]
  },
  {
   "cell_type": "code",
   "execution_count": 50,
   "metadata": {},
   "outputs": [
    {
     "data": {
      "image/png": "[encoded data removed]",
      "text/plain": [
       "<Figure size 504x216 with 1 Axes>"
      ]
     },
     "metadata": {
      "needs_background": "light"
     },
     "output_type": "display_data"
    }
   ],
   "source": [
    "df['Repaired'].hist( figsize = (7,3))\n",
    "plt.xlabel('ремонт ', fontsize=10)\n",
    "plt.ylabel('частота значений', fontsize=10)\n",
    "plt.title('Repaired', fontsize=16);"
   ]
  },
  {
   "cell_type": "code",
   "execution_count": 51,
   "metadata": {},
   "outputs": [],
   "source": [
    "#удалим не нужные столбцы для обучения моделей. \n",
    "df = df.drop(columns=[ 'DateCrawled', 'RegistrationMonth','DateCrawled_year' ])"
   ]
  },
  {
   "cell_type": "code",
   "execution_count": 52,
   "metadata": {},
   "outputs": [
    {
     "name": "stdout",
     "output_type": "stream",
     "text": [
      "<class 'pandas.core.frame.DataFrame'>\n",
      "Int64Index: 199932 entries, 2 to 354368\n",
      "Data columns (total 10 columns):\n",
      " #   Column            Non-Null Count   Dtype \n",
      "---  ------            --------------   ----- \n",
      " 0   Price             199932 non-null  int64 \n",
      " 1   VehicleType       199932 non-null  object\n",
      " 2   RegistrationYear  199932 non-null  int64 \n",
      " 3   Gearbox           199932 non-null  object\n",
      " 4   Power             199932 non-null  int64 \n",
      " 5   Model             199932 non-null  object\n",
      " 6   Kilometer         199932 non-null  int64 \n",
      " 7   FuelType          199932 non-null  object\n",
      " 8   Brand             199932 non-null  object\n",
      " 9   Repaired          199932 non-null  object\n",
      "dtypes: int64(4), object(6)\n",
      "memory usage: 16.8+ MB\n"
     ]
    }
   ],
   "source": [
    "df.info()"
   ]
  },
  {
   "cell_type": "code",
   "execution_count": 53,
   "metadata": {},
   "outputs": [
    {
     "data": {
      "text/plain": [
       "55.509370176285174"
      ]
     },
     "execution_count": 53,
     "metadata": {},
     "output_type": "execute_result"
    }
   ],
   "source": [
    "196708 * 100 / 354369"
   ]
  },
  {
   "cell_type": "markdown",
   "metadata": {},
   "source": [
    "В предобработке данных было выполнено: \n",
    "* -удаление дубликатов\n",
    "* -избавление от пропусков, в таблицах VehicleType, Gearbox, FuelType пропуски заменены на самое часто попадающееся значение по категориям. В Repaired пропуски заменены на no, в Model на unknown. \n",
    "* -удаление выбросов и несуществующих значений в Price, RegistrationYear, Power. В остальных значния нормальные. \n",
    "* -удаление неныжных столбцов, оставлены те которые понадобятся для построения модели.\n",
    "\n",
    "\n",
    "В общей сложности осталось 56% данных от изначального количества."
   ]
  },
  {
   "cell_type": "markdown",
   "metadata": {},
   "source": [
    "## Подготовка выборок для обучения моделей"
   ]
  },
  {
   "cell_type": "code",
   "execution_count": 35,
   "metadata": {},
   "outputs": [
    {
     "data": {
      "text/html": [
       "<div>\n",
       "<style scoped>\n",
       "    .dataframe tbody tr th:only-of-type {\n",
       "        vertical-align: middle;\n",
       "    }\n",
       "\n",
       "    .dataframe tbody tr th {\n",
       "        vertical-align: top;\n",
       "    }\n",
       "\n",
       "    .dataframe thead th {\n",
       "        text-align: right;\n",
       "    }\n",
       "</style>\n",
       "<table border=\"1\" class=\"dataframe\">\n",
       "  <thead>\n",
       "    <tr style=\"text-align: right;\">\n",
       "      <th></th>\n",
       "      <th>Price</th>\n",
       "      <th>VehicleType</th>\n",
       "      <th>RegistrationYear</th>\n",
       "      <th>Gearbox</th>\n",
       "      <th>Power</th>\n",
       "      <th>Model</th>\n",
       "      <th>Kilometer</th>\n",
       "      <th>FuelType</th>\n",
       "      <th>Brand</th>\n",
       "      <th>Repaired</th>\n",
       "    </tr>\n",
       "  </thead>\n",
       "  <tbody>\n",
       "    <tr>\n",
       "      <th>2</th>\n",
       "      <td>9800</td>\n",
       "      <td>suv</td>\n",
       "      <td>2004</td>\n",
       "      <td>auto</td>\n",
       "      <td>163</td>\n",
       "      <td>grand</td>\n",
       "      <td>125000</td>\n",
       "      <td>gasoline</td>\n",
       "      <td>jeep</td>\n",
       "      <td>no</td>\n",
       "    </tr>\n",
       "    <tr>\n",
       "      <th>3</th>\n",
       "      <td>1500</td>\n",
       "      <td>small</td>\n",
       "      <td>2001</td>\n",
       "      <td>manual</td>\n",
       "      <td>75</td>\n",
       "      <td>golf</td>\n",
       "      <td>150000</td>\n",
       "      <td>petrol</td>\n",
       "      <td>volkswagen</td>\n",
       "      <td>no</td>\n",
       "    </tr>\n",
       "    <tr>\n",
       "      <th>4</th>\n",
       "      <td>3600</td>\n",
       "      <td>small</td>\n",
       "      <td>2008</td>\n",
       "      <td>manual</td>\n",
       "      <td>69</td>\n",
       "      <td>fabia</td>\n",
       "      <td>90000</td>\n",
       "      <td>gasoline</td>\n",
       "      <td>skoda</td>\n",
       "      <td>no</td>\n",
       "    </tr>\n",
       "    <tr>\n",
       "      <th>6</th>\n",
       "      <td>2200</td>\n",
       "      <td>convertible</td>\n",
       "      <td>2004</td>\n",
       "      <td>manual</td>\n",
       "      <td>109</td>\n",
       "      <td>2_reihe</td>\n",
       "      <td>150000</td>\n",
       "      <td>petrol</td>\n",
       "      <td>peugeot</td>\n",
       "      <td>no</td>\n",
       "    </tr>\n",
       "    <tr>\n",
       "      <th>10</th>\n",
       "      <td>2000</td>\n",
       "      <td>sedan</td>\n",
       "      <td>2004</td>\n",
       "      <td>manual</td>\n",
       "      <td>105</td>\n",
       "      <td>3_reihe</td>\n",
       "      <td>150000</td>\n",
       "      <td>petrol</td>\n",
       "      <td>mazda</td>\n",
       "      <td>no</td>\n",
       "    </tr>\n",
       "  </tbody>\n",
       "</table>\n",
       "</div>"
      ],
      "text/plain": [
       "    Price  VehicleType  RegistrationYear Gearbox  Power    Model  Kilometer  \\\n",
       "2    9800          suv              2004    auto    163    grand     125000   \n",
       "3    1500        small              2001  manual     75     golf     150000   \n",
       "4    3600        small              2008  manual     69    fabia      90000   \n",
       "6    2200  convertible              2004  manual    109  2_reihe     150000   \n",
       "10   2000        sedan              2004  manual    105  3_reihe     150000   \n",
       "\n",
       "    FuelType       Brand Repaired  \n",
       "2   gasoline        jeep       no  \n",
       "3     petrol  volkswagen       no  \n",
       "4   gasoline       skoda       no  \n",
       "6     petrol     peugeot       no  \n",
       "10    petrol       mazda       no  "
      ]
     },
     "execution_count": 35,
     "metadata": {},
     "output_type": "execute_result"
    }
   ],
   "source": [
    "df.head()"
   ]
  },
  {
   "cell_type": "code",
   "execution_count": 36,
   "metadata": {},
   "outputs": [],
   "source": [
    "target = df['Price']\n",
    "features  = df.drop(['Price'] , axis=1)"
   ]
  },
  {
   "cell_type": "code",
   "execution_count": 37,
   "metadata": {},
   "outputs": [],
   "source": [
    "columns_object = ['VehicleType', 'Gearbox', 'Model', 'FuelType', 'Brand', 'Repaired']\n",
    "columns_not_object = ['RegistrationYear', 'Power', 'Kilometer']"
   ]
  },
  {
   "cell_type": "markdown",
   "metadata": {},
   "source": [
    "### OrdinalEncoder"
   ]
  },
  {
   "cell_type": "code",
   "execution_count": 38,
   "metadata": {},
   "outputs": [],
   "source": [
    "features_train, features_test, target_train, target_test = train_test_split(\n",
    "    features, target, test_size=0.25, random_state=12345)"
   ]
  },
  {
   "cell_type": "code",
   "execution_count": 39,
   "metadata": {
    "collapsed": true
   },
   "outputs": [
    {
     "name": "stderr",
     "output_type": "stream",
     "text": [
      "/tmp/ipykernel_333/2776467163.py:4: SettingWithCopyWarning: \n",
      "A value is trying to be set on a copy of a slice from a DataFrame.\n",
      "Try using .loc[row_indexer,col_indexer] = value instead\n",
      "\n",
      "See the caveats in the documentation: https://pandas.pydata.org/pandas-docs/stable/user_guide/indexing.html#returning-a-view-versus-a-copy\n",
      "  features_train[columns_object] = encoder.fit_transform(features_train[columns_object])\n",
      "/opt/conda/lib/python3.9/site-packages/pandas/core/indexing.py:1738: SettingWithCopyWarning: \n",
      "A value is trying to be set on a copy of a slice from a DataFrame.\n",
      "Try using .loc[row_indexer,col_indexer] = value instead\n",
      "\n",
      "See the caveats in the documentation: https://pandas.pydata.org/pandas-docs/stable/user_guide/indexing.html#returning-a-view-versus-a-copy\n",
      "  self._setitem_single_column(loc, value[:, i].tolist(), pi)\n",
      "/tmp/ipykernel_333/2776467163.py:6: SettingWithCopyWarning: \n",
      "A value is trying to be set on a copy of a slice from a DataFrame.\n",
      "Try using .loc[row_indexer,col_indexer] = value instead\n",
      "\n",
      "See the caveats in the documentation: https://pandas.pydata.org/pandas-docs/stable/user_guide/indexing.html#returning-a-view-versus-a-copy\n",
      "  features_test[columns_object] = encoder.transform(features_test[columns_object])\n",
      "/opt/conda/lib/python3.9/site-packages/pandas/core/indexing.py:1738: SettingWithCopyWarning: \n",
      "A value is trying to be set on a copy of a slice from a DataFrame.\n",
      "Try using .loc[row_indexer,col_indexer] = value instead\n",
      "\n",
      "See the caveats in the documentation: https://pandas.pydata.org/pandas-docs/stable/user_guide/indexing.html#returning-a-view-versus-a-copy\n",
      "  self._setitem_single_column(loc, value[:, i].tolist(), pi)\n"
     ]
    }
   ],
   "source": [
    "encoder = OrdinalEncoder(handle_unknown='use_encoded_value', unknown_value=-1)\n",
    "\n",
    "\n",
    "features_train[columns_object] = encoder.fit_transform(features_train[columns_object]) \n",
    "\n",
    "features_test[columns_object] = encoder.transform(features_test[columns_object])"
   ]
  },
  {
   "cell_type": "code",
   "execution_count": 40,
   "metadata": {},
   "outputs": [
    {
     "data": {
      "text/html": [
       "<div>\n",
       "<style scoped>\n",
       "    .dataframe tbody tr th:only-of-type {\n",
       "        vertical-align: middle;\n",
       "    }\n",
       "\n",
       "    .dataframe tbody tr th {\n",
       "        vertical-align: top;\n",
       "    }\n",
       "\n",
       "    .dataframe thead th {\n",
       "        text-align: right;\n",
       "    }\n",
       "</style>\n",
       "<table border=\"1\" class=\"dataframe\">\n",
       "  <thead>\n",
       "    <tr style=\"text-align: right;\">\n",
       "      <th></th>\n",
       "      <th>VehicleType</th>\n",
       "      <th>RegistrationYear</th>\n",
       "      <th>Gearbox</th>\n",
       "      <th>Power</th>\n",
       "      <th>Model</th>\n",
       "      <th>Kilometer</th>\n",
       "      <th>FuelType</th>\n",
       "      <th>Brand</th>\n",
       "      <th>Repaired</th>\n",
       "    </tr>\n",
       "  </thead>\n",
       "  <tbody>\n",
       "    <tr>\n",
       "      <th>4027</th>\n",
       "      <td>4.0</td>\n",
       "      <td>2000</td>\n",
       "      <td>1.0</td>\n",
       "      <td>101</td>\n",
       "      <td>169.0</td>\n",
       "      <td>125000</td>\n",
       "      <td>6.0</td>\n",
       "      <td>38.0</td>\n",
       "      <td>0.0</td>\n",
       "    </tr>\n",
       "    <tr>\n",
       "      <th>247617</th>\n",
       "      <td>7.0</td>\n",
       "      <td>2000</td>\n",
       "      <td>1.0</td>\n",
       "      <td>101</td>\n",
       "      <td>29.0</td>\n",
       "      <td>150000</td>\n",
       "      <td>2.0</td>\n",
       "      <td>1.0</td>\n",
       "      <td>0.0</td>\n",
       "    </tr>\n",
       "    <tr>\n",
       "      <th>350150</th>\n",
       "      <td>5.0</td>\n",
       "      <td>2005</td>\n",
       "      <td>1.0</td>\n",
       "      <td>136</td>\n",
       "      <td>58.0</td>\n",
       "      <td>150000</td>\n",
       "      <td>2.0</td>\n",
       "      <td>5.0</td>\n",
       "      <td>0.0</td>\n",
       "    </tr>\n",
       "    <tr>\n",
       "      <th>82663</th>\n",
       "      <td>6.0</td>\n",
       "      <td>2002</td>\n",
       "      <td>0.0</td>\n",
       "      <td>311</td>\n",
       "      <td>165.0</td>\n",
       "      <td>150000</td>\n",
       "      <td>6.0</td>\n",
       "      <td>10.0</td>\n",
       "      <td>0.0</td>\n",
       "    </tr>\n",
       "    <tr>\n",
       "      <th>342472</th>\n",
       "      <td>0.0</td>\n",
       "      <td>2000</td>\n",
       "      <td>1.0</td>\n",
       "      <td>116</td>\n",
       "      <td>165.0</td>\n",
       "      <td>150000</td>\n",
       "      <td>6.0</td>\n",
       "      <td>5.0</td>\n",
       "      <td>0.0</td>\n",
       "    </tr>\n",
       "    <tr>\n",
       "      <th>...</th>\n",
       "      <td>...</td>\n",
       "      <td>...</td>\n",
       "      <td>...</td>\n",
       "      <td>...</td>\n",
       "      <td>...</td>\n",
       "      <td>...</td>\n",
       "      <td>...</td>\n",
       "      <td>...</td>\n",
       "      <td>...</td>\n",
       "    </tr>\n",
       "    <tr>\n",
       "      <th>195120</th>\n",
       "      <td>4.0</td>\n",
       "      <td>2002</td>\n",
       "      <td>1.0</td>\n",
       "      <td>125</td>\n",
       "      <td>231.0</td>\n",
       "      <td>150000</td>\n",
       "      <td>6.0</td>\n",
       "      <td>24.0</td>\n",
       "      <td>0.0</td>\n",
       "    </tr>\n",
       "    <tr>\n",
       "      <th>151236</th>\n",
       "      <td>7.0</td>\n",
       "      <td>1999</td>\n",
       "      <td>1.0</td>\n",
       "      <td>100</td>\n",
       "      <td>231.0</td>\n",
       "      <td>150000</td>\n",
       "      <td>6.0</td>\n",
       "      <td>24.0</td>\n",
       "      <td>0.0</td>\n",
       "    </tr>\n",
       "    <tr>\n",
       "      <th>236457</th>\n",
       "      <td>0.0</td>\n",
       "      <td>2007</td>\n",
       "      <td>1.0</td>\n",
       "      <td>109</td>\n",
       "      <td>60.0</td>\n",
       "      <td>125000</td>\n",
       "      <td>2.0</td>\n",
       "      <td>10.0</td>\n",
       "      <td>0.0</td>\n",
       "    </tr>\n",
       "    <tr>\n",
       "      <th>231361</th>\n",
       "      <td>7.0</td>\n",
       "      <td>2000</td>\n",
       "      <td>1.0</td>\n",
       "      <td>170</td>\n",
       "      <td>224.0</td>\n",
       "      <td>150000</td>\n",
       "      <td>6.0</td>\n",
       "      <td>2.0</td>\n",
       "      <td>0.0</td>\n",
       "    </tr>\n",
       "    <tr>\n",
       "      <th>136811</th>\n",
       "      <td>1.0</td>\n",
       "      <td>2009</td>\n",
       "      <td>1.0</td>\n",
       "      <td>120</td>\n",
       "      <td>8.0</td>\n",
       "      <td>80000</td>\n",
       "      <td>6.0</td>\n",
       "      <td>25.0</td>\n",
       "      <td>0.0</td>\n",
       "    </tr>\n",
       "  </tbody>\n",
       "</table>\n",
       "<p>149949 rows × 9 columns</p>\n",
       "</div>"
      ],
      "text/plain": [
       "        VehicleType  RegistrationYear  Gearbox  Power  Model  Kilometer  \\\n",
       "4027            4.0              2000      1.0    101  169.0     125000   \n",
       "247617          7.0              2000      1.0    101   29.0     150000   \n",
       "350150          5.0              2005      1.0    136   58.0     150000   \n",
       "82663           6.0              2002      0.0    311  165.0     150000   \n",
       "342472          0.0              2000      1.0    116  165.0     150000   \n",
       "...             ...               ...      ...    ...    ...        ...   \n",
       "195120          4.0              2002      1.0    125  231.0     150000   \n",
       "151236          7.0              1999      1.0    100  231.0     150000   \n",
       "236457          0.0              2007      1.0    109   60.0     125000   \n",
       "231361          7.0              2000      1.0    170  224.0     150000   \n",
       "136811          1.0              2009      1.0    120    8.0      80000   \n",
       "\n",
       "        FuelType  Brand  Repaired  \n",
       "4027         6.0   38.0       0.0  \n",
       "247617       2.0    1.0       0.0  \n",
       "350150       2.0    5.0       0.0  \n",
       "82663        6.0   10.0       0.0  \n",
       "342472       6.0    5.0       0.0  \n",
       "...          ...    ...       ...  \n",
       "195120       6.0   24.0       0.0  \n",
       "151236       6.0   24.0       0.0  \n",
       "236457       2.0   10.0       0.0  \n",
       "231361       6.0    2.0       0.0  \n",
       "136811       6.0   25.0       0.0  \n",
       "\n",
       "[149949 rows x 9 columns]"
      ]
     },
     "execution_count": 40,
     "metadata": {},
     "output_type": "execute_result"
    }
   ],
   "source": [
    "features_train"
   ]
  },
  {
   "cell_type": "code",
   "execution_count": 41,
   "metadata": {},
   "outputs": [
    {
     "data": {
      "text/html": [
       "<div>\n",
       "<style scoped>\n",
       "    .dataframe tbody tr th:only-of-type {\n",
       "        vertical-align: middle;\n",
       "    }\n",
       "\n",
       "    .dataframe tbody tr th {\n",
       "        vertical-align: top;\n",
       "    }\n",
       "\n",
       "    .dataframe thead th {\n",
       "        text-align: right;\n",
       "    }\n",
       "</style>\n",
       "<table border=\"1\" class=\"dataframe\">\n",
       "  <thead>\n",
       "    <tr style=\"text-align: right;\">\n",
       "      <th></th>\n",
       "      <th>VehicleType</th>\n",
       "      <th>RegistrationYear</th>\n",
       "      <th>Gearbox</th>\n",
       "      <th>Power</th>\n",
       "      <th>Model</th>\n",
       "      <th>Kilometer</th>\n",
       "      <th>FuelType</th>\n",
       "      <th>Brand</th>\n",
       "      <th>Repaired</th>\n",
       "    </tr>\n",
       "  </thead>\n",
       "  <tbody>\n",
       "    <tr>\n",
       "      <th>123551</th>\n",
       "      <td>4.0</td>\n",
       "      <td>1998</td>\n",
       "      <td>1.0</td>\n",
       "      <td>110</td>\n",
       "      <td>169.0</td>\n",
       "      <td>150000</td>\n",
       "      <td>2.0</td>\n",
       "      <td>38.0</td>\n",
       "      <td>0.0</td>\n",
       "    </tr>\n",
       "    <tr>\n",
       "      <th>257549</th>\n",
       "      <td>7.0</td>\n",
       "      <td>2002</td>\n",
       "      <td>1.0</td>\n",
       "      <td>116</td>\n",
       "      <td>162.0</td>\n",
       "      <td>150000</td>\n",
       "      <td>6.0</td>\n",
       "      <td>31.0</td>\n",
       "      <td>1.0</td>\n",
       "    </tr>\n",
       "    <tr>\n",
       "      <th>301437</th>\n",
       "      <td>7.0</td>\n",
       "      <td>1994</td>\n",
       "      <td>0.0</td>\n",
       "      <td>143</td>\n",
       "      <td>15.0</td>\n",
       "      <td>150000</td>\n",
       "      <td>2.0</td>\n",
       "      <td>2.0</td>\n",
       "      <td>0.0</td>\n",
       "    </tr>\n",
       "    <tr>\n",
       "      <th>91031</th>\n",
       "      <td>5.0</td>\n",
       "      <td>2008</td>\n",
       "      <td>0.0</td>\n",
       "      <td>112</td>\n",
       "      <td>184.0</td>\n",
       "      <td>50000</td>\n",
       "      <td>6.0</td>\n",
       "      <td>15.0</td>\n",
       "      <td>0.0</td>\n",
       "    </tr>\n",
       "    <tr>\n",
       "      <th>279063</th>\n",
       "      <td>5.0</td>\n",
       "      <td>2004</td>\n",
       "      <td>0.0</td>\n",
       "      <td>61</td>\n",
       "      <td>106.0</td>\n",
       "      <td>90000</td>\n",
       "      <td>6.0</td>\n",
       "      <td>32.0</td>\n",
       "      <td>0.0</td>\n",
       "    </tr>\n",
       "    <tr>\n",
       "      <th>...</th>\n",
       "      <td>...</td>\n",
       "      <td>...</td>\n",
       "      <td>...</td>\n",
       "      <td>...</td>\n",
       "      <td>...</td>\n",
       "      <td>...</td>\n",
       "      <td>...</td>\n",
       "      <td>...</td>\n",
       "      <td>...</td>\n",
       "    </tr>\n",
       "    <tr>\n",
       "      <th>337098</th>\n",
       "      <td>5.0</td>\n",
       "      <td>2007</td>\n",
       "      <td>1.0</td>\n",
       "      <td>68</td>\n",
       "      <td>172.0</td>\n",
       "      <td>150000</td>\n",
       "      <td>6.0</td>\n",
       "      <td>38.0</td>\n",
       "      <td>0.0</td>\n",
       "    </tr>\n",
       "    <tr>\n",
       "      <th>146432</th>\n",
       "      <td>2.0</td>\n",
       "      <td>1999</td>\n",
       "      <td>1.0</td>\n",
       "      <td>116</td>\n",
       "      <td>115.0</td>\n",
       "      <td>150000</td>\n",
       "      <td>6.0</td>\n",
       "      <td>38.0</td>\n",
       "      <td>0.0</td>\n",
       "    </tr>\n",
       "    <tr>\n",
       "      <th>238256</th>\n",
       "      <td>4.0</td>\n",
       "      <td>2004</td>\n",
       "      <td>1.0</td>\n",
       "      <td>140</td>\n",
       "      <td>33.0</td>\n",
       "      <td>150000</td>\n",
       "      <td>2.0</td>\n",
       "      <td>20.0</td>\n",
       "      <td>1.0</td>\n",
       "    </tr>\n",
       "    <tr>\n",
       "      <th>273369</th>\n",
       "      <td>4.0</td>\n",
       "      <td>2008</td>\n",
       "      <td>1.0</td>\n",
       "      <td>109</td>\n",
       "      <td>10.0</td>\n",
       "      <td>150000</td>\n",
       "      <td>2.0</td>\n",
       "      <td>19.0</td>\n",
       "      <td>0.0</td>\n",
       "    </tr>\n",
       "    <tr>\n",
       "      <th>247137</th>\n",
       "      <td>4.0</td>\n",
       "      <td>2005</td>\n",
       "      <td>0.0</td>\n",
       "      <td>90</td>\n",
       "      <td>73.0</td>\n",
       "      <td>70000</td>\n",
       "      <td>6.0</td>\n",
       "      <td>11.0</td>\n",
       "      <td>0.0</td>\n",
       "    </tr>\n",
       "  </tbody>\n",
       "</table>\n",
       "<p>49983 rows × 9 columns</p>\n",
       "</div>"
      ],
      "text/plain": [
       "        VehicleType  RegistrationYear  Gearbox  Power  Model  Kilometer  \\\n",
       "123551          4.0              1998      1.0    110  169.0     150000   \n",
       "257549          7.0              2002      1.0    116  162.0     150000   \n",
       "301437          7.0              1994      0.0    143   15.0     150000   \n",
       "91031           5.0              2008      0.0    112  184.0      50000   \n",
       "279063          5.0              2004      0.0     61  106.0      90000   \n",
       "...             ...               ...      ...    ...    ...        ...   \n",
       "337098          5.0              2007      1.0     68  172.0     150000   \n",
       "146432          2.0              1999      1.0    116  115.0     150000   \n",
       "238256          4.0              2004      1.0    140   33.0     150000   \n",
       "273369          4.0              2008      1.0    109   10.0     150000   \n",
       "247137          4.0              2005      0.0     90   73.0      70000   \n",
       "\n",
       "        FuelType  Brand  Repaired  \n",
       "123551       2.0   38.0       0.0  \n",
       "257549       6.0   31.0       1.0  \n",
       "301437       2.0    2.0       0.0  \n",
       "91031        6.0   15.0       0.0  \n",
       "279063       6.0   32.0       0.0  \n",
       "...          ...    ...       ...  \n",
       "337098       6.0   38.0       0.0  \n",
       "146432       6.0   38.0       0.0  \n",
       "238256       2.0   20.0       1.0  \n",
       "273369       2.0   19.0       0.0  \n",
       "247137       6.0   11.0       0.0  \n",
       "\n",
       "[49983 rows x 9 columns]"
      ]
     },
     "execution_count": 41,
     "metadata": {},
     "output_type": "execute_result"
    }
   ],
   "source": [
    "features_test"
   ]
  },
  {
   "cell_type": "code",
   "execution_count": 42,
   "metadata": {},
   "outputs": [
    {
     "data": {
      "text/html": [
       "<div>\n",
       "<style scoped>\n",
       "    .dataframe tbody tr th:only-of-type {\n",
       "        vertical-align: middle;\n",
       "    }\n",
       "\n",
       "    .dataframe tbody tr th {\n",
       "        vertical-align: top;\n",
       "    }\n",
       "\n",
       "    .dataframe thead th {\n",
       "        text-align: right;\n",
       "    }\n",
       "</style>\n",
       "<table border=\"1\" class=\"dataframe\">\n",
       "  <thead>\n",
       "    <tr style=\"text-align: right;\">\n",
       "      <th></th>\n",
       "      <th>VehicleType</th>\n",
       "      <th>RegistrationYear</th>\n",
       "      <th>Gearbox</th>\n",
       "      <th>Power</th>\n",
       "      <th>Model</th>\n",
       "      <th>Kilometer</th>\n",
       "      <th>FuelType</th>\n",
       "      <th>Brand</th>\n",
       "      <th>Repaired</th>\n",
       "    </tr>\n",
       "  </thead>\n",
       "  <tbody>\n",
       "    <tr>\n",
       "      <th>2</th>\n",
       "      <td>suv</td>\n",
       "      <td>2004</td>\n",
       "      <td>auto</td>\n",
       "      <td>163</td>\n",
       "      <td>grand</td>\n",
       "      <td>125000</td>\n",
       "      <td>gasoline</td>\n",
       "      <td>jeep</td>\n",
       "      <td>no</td>\n",
       "    </tr>\n",
       "    <tr>\n",
       "      <th>3</th>\n",
       "      <td>small</td>\n",
       "      <td>2001</td>\n",
       "      <td>manual</td>\n",
       "      <td>75</td>\n",
       "      <td>golf</td>\n",
       "      <td>150000</td>\n",
       "      <td>petrol</td>\n",
       "      <td>volkswagen</td>\n",
       "      <td>no</td>\n",
       "    </tr>\n",
       "    <tr>\n",
       "      <th>4</th>\n",
       "      <td>small</td>\n",
       "      <td>2008</td>\n",
       "      <td>manual</td>\n",
       "      <td>69</td>\n",
       "      <td>fabia</td>\n",
       "      <td>90000</td>\n",
       "      <td>gasoline</td>\n",
       "      <td>skoda</td>\n",
       "      <td>no</td>\n",
       "    </tr>\n",
       "    <tr>\n",
       "      <th>6</th>\n",
       "      <td>convertible</td>\n",
       "      <td>2004</td>\n",
       "      <td>manual</td>\n",
       "      <td>109</td>\n",
       "      <td>2_reihe</td>\n",
       "      <td>150000</td>\n",
       "      <td>petrol</td>\n",
       "      <td>peugeot</td>\n",
       "      <td>no</td>\n",
       "    </tr>\n",
       "    <tr>\n",
       "      <th>10</th>\n",
       "      <td>sedan</td>\n",
       "      <td>2004</td>\n",
       "      <td>manual</td>\n",
       "      <td>105</td>\n",
       "      <td>3_reihe</td>\n",
       "      <td>150000</td>\n",
       "      <td>petrol</td>\n",
       "      <td>mazda</td>\n",
       "      <td>no</td>\n",
       "    </tr>\n",
       "  </tbody>\n",
       "</table>\n",
       "</div>"
      ],
      "text/plain": [
       "    VehicleType  RegistrationYear Gearbox  Power    Model  Kilometer  \\\n",
       "2           suv              2004    auto    163    grand     125000   \n",
       "3         small              2001  manual     75     golf     150000   \n",
       "4         small              2008  manual     69    fabia      90000   \n",
       "6   convertible              2004  manual    109  2_reihe     150000   \n",
       "10        sedan              2004  manual    105  3_reihe     150000   \n",
       "\n",
       "    FuelType       Brand Repaired  \n",
       "2   gasoline        jeep       no  \n",
       "3     petrol  volkswagen       no  \n",
       "4   gasoline       skoda       no  \n",
       "6     petrol     peugeot       no  \n",
       "10    petrol       mazda       no  "
      ]
     },
     "execution_count": 42,
     "metadata": {},
     "output_type": "execute_result"
    }
   ],
   "source": [
    "features.head()"
   ]
  },
  {
   "cell_type": "code",
   "execution_count": 43,
   "metadata": {},
   "outputs": [],
   "source": [
    "scaler = StandardScaler()\n",
    "pd.options.mode.chained_assignment = None\n",
    "scaler.fit(features_train[columns_not_object])\n",
    "features_train = scaler.transform(features_train[columns_not_object])\n",
    "features_test[columns_not_object] = scaler.transform(features_test[columns_not_object])\n",
    "\n",
    "X_train = pd.DataFrame(scaler.fit_transform(X_train), columns = X_train.columns)\n",
    "X_test = pd.DataFrame(scaler.transform(X_test), columns = X_train.columns)"
   ]
  },
  {
   "cell_type": "markdown",
   "metadata": {},
   "source": [
    "### OneHotEncoder"
   ]
  },
  {
   "cell_type": "code",
   "execution_count": 44,
   "metadata": {},
   "outputs": [
    {
     "data": {
      "text/html": [
       "<div>\n",
       "<style scoped>\n",
       "    .dataframe tbody tr th:only-of-type {\n",
       "        vertical-align: middle;\n",
       "    }\n",
       "\n",
       "    .dataframe tbody tr th {\n",
       "        vertical-align: top;\n",
       "    }\n",
       "\n",
       "    .dataframe thead th {\n",
       "        text-align: right;\n",
       "    }\n",
       "</style>\n",
       "<table border=\"1\" class=\"dataframe\">\n",
       "  <thead>\n",
       "    <tr style=\"text-align: right;\">\n",
       "      <th></th>\n",
       "      <th>RegistrationYear</th>\n",
       "      <th>Power</th>\n",
       "      <th>Kilometer</th>\n",
       "      <th>VehicleType_convertible</th>\n",
       "      <th>VehicleType_coupe</th>\n",
       "      <th>VehicleType_other</th>\n",
       "      <th>VehicleType_sedan</th>\n",
       "      <th>VehicleType_small</th>\n",
       "      <th>VehicleType_suv</th>\n",
       "      <th>VehicleType_wagon</th>\n",
       "      <th>...</th>\n",
       "      <th>Brand_skoda</th>\n",
       "      <th>Brand_smart</th>\n",
       "      <th>Brand_sonstige_autos</th>\n",
       "      <th>Brand_subaru</th>\n",
       "      <th>Brand_suzuki</th>\n",
       "      <th>Brand_toyota</th>\n",
       "      <th>Brand_trabant</th>\n",
       "      <th>Brand_volkswagen</th>\n",
       "      <th>Brand_volvo</th>\n",
       "      <th>Repaired_yes</th>\n",
       "    </tr>\n",
       "  </thead>\n",
       "  <tbody>\n",
       "    <tr>\n",
       "      <th>2</th>\n",
       "      <td>2004</td>\n",
       "      <td>163</td>\n",
       "      <td>125000</td>\n",
       "      <td>0</td>\n",
       "      <td>0</td>\n",
       "      <td>0</td>\n",
       "      <td>0</td>\n",
       "      <td>0</td>\n",
       "      <td>1</td>\n",
       "      <td>0</td>\n",
       "      <td>...</td>\n",
       "      <td>0</td>\n",
       "      <td>0</td>\n",
       "      <td>0</td>\n",
       "      <td>0</td>\n",
       "      <td>0</td>\n",
       "      <td>0</td>\n",
       "      <td>0</td>\n",
       "      <td>0</td>\n",
       "      <td>0</td>\n",
       "      <td>0</td>\n",
       "    </tr>\n",
       "    <tr>\n",
       "      <th>3</th>\n",
       "      <td>2001</td>\n",
       "      <td>75</td>\n",
       "      <td>150000</td>\n",
       "      <td>0</td>\n",
       "      <td>0</td>\n",
       "      <td>0</td>\n",
       "      <td>0</td>\n",
       "      <td>1</td>\n",
       "      <td>0</td>\n",
       "      <td>0</td>\n",
       "      <td>...</td>\n",
       "      <td>0</td>\n",
       "      <td>0</td>\n",
       "      <td>0</td>\n",
       "      <td>0</td>\n",
       "      <td>0</td>\n",
       "      <td>0</td>\n",
       "      <td>0</td>\n",
       "      <td>1</td>\n",
       "      <td>0</td>\n",
       "      <td>0</td>\n",
       "    </tr>\n",
       "    <tr>\n",
       "      <th>4</th>\n",
       "      <td>2008</td>\n",
       "      <td>69</td>\n",
       "      <td>90000</td>\n",
       "      <td>0</td>\n",
       "      <td>0</td>\n",
       "      <td>0</td>\n",
       "      <td>0</td>\n",
       "      <td>1</td>\n",
       "      <td>0</td>\n",
       "      <td>0</td>\n",
       "      <td>...</td>\n",
       "      <td>1</td>\n",
       "      <td>0</td>\n",
       "      <td>0</td>\n",
       "      <td>0</td>\n",
       "      <td>0</td>\n",
       "      <td>0</td>\n",
       "      <td>0</td>\n",
       "      <td>0</td>\n",
       "      <td>0</td>\n",
       "      <td>0</td>\n",
       "    </tr>\n",
       "    <tr>\n",
       "      <th>6</th>\n",
       "      <td>2004</td>\n",
       "      <td>109</td>\n",
       "      <td>150000</td>\n",
       "      <td>1</td>\n",
       "      <td>0</td>\n",
       "      <td>0</td>\n",
       "      <td>0</td>\n",
       "      <td>0</td>\n",
       "      <td>0</td>\n",
       "      <td>0</td>\n",
       "      <td>...</td>\n",
       "      <td>0</td>\n",
       "      <td>0</td>\n",
       "      <td>0</td>\n",
       "      <td>0</td>\n",
       "      <td>0</td>\n",
       "      <td>0</td>\n",
       "      <td>0</td>\n",
       "      <td>0</td>\n",
       "      <td>0</td>\n",
       "      <td>0</td>\n",
       "    </tr>\n",
       "    <tr>\n",
       "      <th>10</th>\n",
       "      <td>2004</td>\n",
       "      <td>105</td>\n",
       "      <td>150000</td>\n",
       "      <td>0</td>\n",
       "      <td>0</td>\n",
       "      <td>0</td>\n",
       "      <td>1</td>\n",
       "      <td>0</td>\n",
       "      <td>0</td>\n",
       "      <td>0</td>\n",
       "      <td>...</td>\n",
       "      <td>0</td>\n",
       "      <td>0</td>\n",
       "      <td>0</td>\n",
       "      <td>0</td>\n",
       "      <td>0</td>\n",
       "      <td>0</td>\n",
       "      <td>0</td>\n",
       "      <td>0</td>\n",
       "      <td>0</td>\n",
       "      <td>0</td>\n",
       "    </tr>\n",
       "  </tbody>\n",
       "</table>\n",
       "<p>5 rows × 304 columns</p>\n",
       "</div>"
      ],
      "text/plain": [
       "    RegistrationYear  Power  Kilometer  VehicleType_convertible  \\\n",
       "2               2004    163     125000                        0   \n",
       "3               2001     75     150000                        0   \n",
       "4               2008     69      90000                        0   \n",
       "6               2004    109     150000                        1   \n",
       "10              2004    105     150000                        0   \n",
       "\n",
       "    VehicleType_coupe  VehicleType_other  VehicleType_sedan  \\\n",
       "2                   0                  0                  0   \n",
       "3                   0                  0                  0   \n",
       "4                   0                  0                  0   \n",
       "6                   0                  0                  0   \n",
       "10                  0                  0                  1   \n",
       "\n",
       "    VehicleType_small  VehicleType_suv  VehicleType_wagon  ...  Brand_skoda  \\\n",
       "2                   0                1                  0  ...            0   \n",
       "3                   1                0                  0  ...            0   \n",
       "4                   1                0                  0  ...            1   \n",
       "6                   0                0                  0  ...            0   \n",
       "10                  0                0                  0  ...            0   \n",
       "\n",
       "    Brand_smart  Brand_sonstige_autos  Brand_subaru  Brand_suzuki  \\\n",
       "2             0                     0             0             0   \n",
       "3             0                     0             0             0   \n",
       "4             0                     0             0             0   \n",
       "6             0                     0             0             0   \n",
       "10            0                     0             0             0   \n",
       "\n",
       "    Brand_toyota  Brand_trabant  Brand_volkswagen  Brand_volvo  Repaired_yes  \n",
       "2              0              0                 0            0             0  \n",
       "3              0              0                 1            0             0  \n",
       "4              0              0                 0            0             0  \n",
       "6              0              0                 0            0             0  \n",
       "10             0              0                 0            0             0  \n",
       "\n",
       "[5 rows x 304 columns]"
      ]
     },
     "execution_count": 44,
     "metadata": {},
     "output_type": "execute_result"
    }
   ],
   "source": [
    "features_columns = df.drop(['Price'] , axis=1)\n",
    "features_OHE = pd.get_dummies(features_columns, drop_first=True)\n",
    "features_OHE.head()"
   ]
  },
  {
   "cell_type": "code",
   "execution_count": 45,
   "metadata": {},
   "outputs": [],
   "source": [
    "features_ohe_train, features_ohe_test, target_ohe_train, target_ohe_test = train_test_split(\n",
    "    features_OHE, df['Price'], test_size=0.25, random_state=12345)"
   ]
  },
  {
   "cell_type": "code",
   "execution_count": 46,
   "metadata": {},
   "outputs": [],
   "source": [
    "columns_not_cat = ['RegistrationYear', 'Power', 'Kilometer']"
   ]
  },
  {
   "cell_type": "code",
   "execution_count": 47,
   "metadata": {},
   "outputs": [],
   "source": [
    "scaler = StandardScaler()\n",
    "pd.options.mode.chained_assignment = None\n",
    "scaler.fit(features_ohe_train[columns_not_cat])\n",
    "features_ohe_train[columns_not_cat] = scaler.transform(features_ohe_train[columns_not_cat])\n",
    "features_ohe_test[columns_not_cat] = scaler.transform(features_ohe_test[columns_not_cat])"
   ]
  },
  {
   "cell_type": "markdown",
   "metadata": {},
   "source": [
    "Разделила данные на признаки и целевой признак (цена). Сделала порядковое кодирование с помощью OrdinalEncoder(), разделила данные на тренировочную и тестовую выборки и затем провела маштабирование признаков методом StandardScaler. Вторым способом (для линейной регрессии) проделала тоже самое с OHE."
   ]
  },
  {
   "cell_type": "markdown",
   "metadata": {},
   "source": [
    "## Обучние моделей"
   ]
  },
  {
   "cell_type": "markdown",
   "metadata": {},
   "source": [
    "### LinearRegression"
   ]
  },
  {
   "cell_type": "code",
   "execution_count": 51,
   "metadata": {
    "scrolled": false
   },
   "outputs": [
    {
     "name": "stderr",
     "output_type": "stream",
     "text": [
      "[Parallel(n_jobs=-1)]: Using backend SequentialBackend with 1 concurrent workers.\n"
     ]
    },
    {
     "name": "stdout",
     "output_type": "stream",
     "text": [
      "[CV] START .....................................................................\n",
      "[CV] END ............................ score: (test=-1704.815) total time=  13.4s\n",
      "[CV] START .....................................................................\n"
     ]
    },
    {
     "name": "stderr",
     "output_type": "stream",
     "text": [
      "[Parallel(n_jobs=-1)]: Done   1 out of   1 | elapsed:   13.4s remaining:    0.0s\n"
     ]
    },
    {
     "name": "stdout",
     "output_type": "stream",
     "text": [
      "[CV] END ............................ score: (test=-1677.424) total time=  13.3s\n",
      "[CV] START .....................................................................\n"
     ]
    },
    {
     "name": "stderr",
     "output_type": "stream",
     "text": [
      "[Parallel(n_jobs=-1)]: Done   2 out of   2 | elapsed:   26.8s remaining:    0.0s\n"
     ]
    },
    {
     "name": "stdout",
     "output_type": "stream",
     "text": [
      "[CV] END ............................ score: (test=-1683.554) total time=  13.8s\n",
      "RMSE для линейной регрессии: 1688.5975220074463\n",
      "CPU times: user 23 s, sys: 17.3 s, total: 40.3 s\n",
      "Wall time: 40.6 s\n"
     ]
    },
    {
     "name": "stderr",
     "output_type": "stream",
     "text": [
      "[Parallel(n_jobs=-1)]: Done   3 out of   3 | elapsed:   40.6s remaining:    0.0s\n",
      "[Parallel(n_jobs=-1)]: Done   3 out of   3 | elapsed:   40.6s finished\n"
     ]
    }
   ],
   "source": [
    "%%time\n",
    "model_LR = LinearRegression()\n",
    "scores_LR = cross_val_score(model_LR,\n",
    "                            features_ohe_train,\n",
    "                            target_ohe_train,\n",
    "                            cv=3,\n",
    "                            verbose=10,\n",
    "                            n_jobs=-1,\n",
    "                            scoring='neg_root_mean_squared_error') \n",
    "RMSE_LR = (scores_LR * (-1)).mean()\n",
    "print('RMSE для линейной регрессии:', RMSE_LR)"
   ]
  },
  {
   "cell_type": "code",
   "execution_count": 62,
   "metadata": {},
   "outputs": [
    {
     "name": "stdout",
     "output_type": "stream",
     "text": [
      "Время: 24\n",
      "\n",
      "CPU times: user 22.2 s, sys: 19.4 s, total: 41.6 s\n",
      "Wall time: 41.6 s\n"
     ]
    }
   ],
   "source": [
    "%%time\n",
    "start = time.time()\n",
    "model_LR.fit(features_ohe_train, target_ohe_train)\n",
    "t_rf_LR=round(end-start)\n",
    "print('Время:',(-1) * t_rf_LR)\n",
    "print()"
   ]
  },
  {
   "cell_type": "code",
   "execution_count": 61,
   "metadata": {},
   "outputs": [
    {
     "name": "stdout",
     "output_type": "stream",
     "text": [
      "Время: 0.19\n",
      "\n",
      "CPU times: user 138 ms, sys: 111 ms, total: 249 ms\n",
      "Wall time: 248 ms\n"
     ]
    }
   ],
   "source": [
    "%%time\n",
    "start = time.time()\n",
    "predict_time = model_LR.predict(features_ohe_train)\n",
    "end = time.time()\n",
    "t_rf_LR_pr=round(end-start,2)\n",
    "print('Время:',t_rf_LR_pr)\n",
    "print()"
   ]
  },
  {
   "cell_type": "markdown",
   "metadata": {},
   "source": [
    "### RandomForestRegressor"
   ]
  },
  {
   "cell_type": "code",
   "execution_count": 64,
   "metadata": {},
   "outputs": [
    {
     "name": "stderr",
     "output_type": "stream",
     "text": [
      "100%|██████████| 9/9 [06:36<00:00, 44.02s/it]"
     ]
    },
    {
     "name": "stdout",
     "output_type": "stream",
     "text": [
      "RMSE для RandomForestRegressor 1334.028177039214 Максимальная глубина: 9 Количество деревьев: 19\n",
      "CPU times: user 6min 34s, sys: 599 ms, total: 6min 34s\n",
      "Wall time: 6min 36s\n"
     ]
    },
    {
     "name": "stderr",
     "output_type": "stream",
     "text": [
      "\n"
     ]
    }
   ],
   "source": [
    "%%time\n",
    "best_RMSE_RTR = 100000\n",
    "best_depth_RTR = 0\n",
    "best_est_RTR = 0\n",
    "best_model_RTR = []\n",
    "\n",
    "for depth in tqdm(range(1, 10, 1)):\n",
    "    for est in range(1, 20, 1):\n",
    "        model_RTR = RandomForestRegressor(max_depth=depth, random_state=12345, n_estimators=est) \n",
    "        scores_RTR= cross_val_score(model_RTR,\n",
    "                                    features_train,\n",
    "                                    target_train,\n",
    "                                    cv=3,\n",
    "                                    n_jobs=-1,\n",
    "                                    scoring='neg_root_mean_squared_error')  \n",
    "        RMSE_RTR = (scores_RTR * (-1)).mean() \n",
    "\n",
    "        if RMSE_RTR < best_RMSE_RTR:\n",
    "                    best_RMSE_RTR = RMSE_RTR \n",
    "                    best_depth_RTR = depth\n",
    "                    best_est_RTR = est\n",
    "                    best_model_RTR = model_RTR\n",
    "            \n",
    "print('RMSE для RandomForestRegressor', best_RMSE_RTR, 'Максимальная глубина:', best_depth_RTR, \"Количество деревьев:\", best_est_RTR)"
   ]
  },
  {
   "cell_type": "code",
   "execution_count": 322,
   "metadata": {},
   "outputs": [
    {
     "data": {
      "text/plain": [
       "RandomForestRegressor(max_depth=9, n_estimators=19, random_state=12345)"
      ]
     },
     "execution_count": 322,
     "metadata": {},
     "output_type": "execute_result"
    }
   ],
   "source": [
    "best_model_RTR"
   ]
  },
  {
   "cell_type": "code",
   "execution_count": 66,
   "metadata": {},
   "outputs": [
    {
     "name": "stdout",
     "output_type": "stream",
     "text": [
      "Время: 3.65\n",
      "\n",
      "CPU times: user 3.64 s, sys: 3.19 ms, total: 3.64 s\n",
      "Wall time: 3.65 s\n"
     ]
    }
   ],
   "source": [
    "%%time\n",
    "start = time.time()\n",
    "model_best_RTR = RandomForestRegressor(random_state=12345, \n",
    "                                       criterion='mse',\n",
    "                                       max_depth=9, n_estimators=19)\n",
    "model_best_RTR.fit(features_train, target_train)\n",
    "end = time.time()\n",
    "t_rf_RTR=round(end-start,2)\n",
    "print('Время:',t_rf_RTR)\n",
    "print()"
   ]
  },
  {
   "cell_type": "code",
   "execution_count": 67,
   "metadata": {},
   "outputs": [
    {
     "name": "stdout",
     "output_type": "stream",
     "text": [
      "Время: 0.27\n",
      "\n",
      "CPU times: user 258 ms, sys: 0 ns, total: 258 ms\n",
      "Wall time: 265 ms\n"
     ]
    }
   ],
   "source": [
    "%%time\n",
    "start = time.time()\n",
    "predict_time_RTR = model_best_RTR.predict(features_train)\n",
    "end = time.time()\n",
    "t_rf_RTR_pr=round(end-start,2)\n",
    "print('Время:',t_rf_RTR_pr)\n",
    "print()"
   ]
  },
  {
   "cell_type": "markdown",
   "metadata": {},
   "source": [
    "### LGBMRegressor"
   ]
  },
  {
   "cell_type": "code",
   "execution_count": 43,
   "metadata": {},
   "outputs": [
    {
     "name": "stdout",
     "output_type": "stream",
     "text": [
      "3.3.1\n"
     ]
    }
   ],
   "source": [
    "# check lightgbm version\n",
    "import lightgbm\n",
    "print(lightgbm.__version__)"
   ]
  },
  {
   "cell_type": "raw",
   "metadata": {},
   "source": [
    "#вариант1 НЕ использовала, не стала удалять чтоб потом разобраться   (!!!РАЗОБРАТЬС С RepeatedKFold!!!)\n",
    "%time\n",
    "model_LGBMR = LGBMRegressor()\n",
    "cv = RepeatedKFold(n_splits=5, n_repeats=3, random_state=12345)\n",
    "n_scores =  cross_val_score(model_LGBMR, features_train, target_train, scoring='neg_root_mean_squared_error', cv=cv, n_jobs=5, error_score='raise')\n",
    "print('RMSE для LGBMR', ((-1) * n_scores).mean())"
   ]
  },
  {
   "cell_type": "code",
   "execution_count": 324,
   "metadata": {},
   "outputs": [
    {
     "name": "stdout",
     "output_type": "stream",
     "text": [
      "CPU times: user 3 µs, sys: 0 ns, total: 3 µs\n",
      "Wall time: 6.44 µs\n",
      "Fitting 3 folds for each of 24 candidates, totalling 72 fits\n",
      "[CV 1/3; 1/24] START learning_rate=0.4, max_depth=4, n_estimators=50............\n",
      "[CV 1/3; 1/24] END learning_rate=0.4, max_depth=4, n_estimators=50; total time= 1.1min\n",
      "[CV 2/3; 1/24] START learning_rate=0.4, max_depth=4, n_estimators=50............\n",
      "[CV 2/3; 1/24] END learning_rate=0.4, max_depth=4, n_estimators=50; total time= 1.2min\n",
      "[CV 3/3; 1/24] START learning_rate=0.4, max_depth=4, n_estimators=50............\n",
      "[CV 3/3; 1/24] END learning_rate=0.4, max_depth=4, n_estimators=50; total time= 1.3min\n",
      "[CV 1/3; 2/24] START learning_rate=0.4, max_depth=4, n_estimators=100...........\n",
      "[CV 1/3; 2/24] END learning_rate=0.4, max_depth=4, n_estimators=100; total time= 2.2min\n",
      "[CV 2/3; 2/24] START learning_rate=0.4, max_depth=4, n_estimators=100...........\n",
      "[CV 2/3; 2/24] END learning_rate=0.4, max_depth=4, n_estimators=100; total time=   2.2s\n",
      "[CV 3/3; 2/24] START learning_rate=0.4, max_depth=4, n_estimators=100...........\n",
      "[CV 3/3; 2/24] END learning_rate=0.4, max_depth=4, n_estimators=100; total time=   2.3s\n",
      "[CV 1/3; 3/24] START learning_rate=0.4, max_depth=4, n_estimators=150...........\n",
      "[CV 1/3; 3/24] END learning_rate=0.4, max_depth=4, n_estimators=150; total time=   2.5s\n",
      "[CV 2/3; 3/24] START learning_rate=0.4, max_depth=4, n_estimators=150...........\n",
      "[CV 2/3; 3/24] END learning_rate=0.4, max_depth=4, n_estimators=150; total time=   2.6s\n",
      "[CV 3/3; 3/24] START learning_rate=0.4, max_depth=4, n_estimators=150...........\n",
      "[CV 3/3; 3/24] END learning_rate=0.4, max_depth=4, n_estimators=150; total time=   2.9s\n",
      "[CV 1/3; 4/24] START learning_rate=0.4, max_depth=4, n_estimators=1000..........\n",
      "[CV 1/3; 4/24] END learning_rate=0.4, max_depth=4, n_estimators=1000; total time=  15.7s\n",
      "[CV 2/3; 4/24] START learning_rate=0.4, max_depth=4, n_estimators=1000..........\n",
      "[CV 2/3; 4/24] END learning_rate=0.4, max_depth=4, n_estimators=1000; total time=  16.0s\n",
      "[CV 3/3; 4/24] START learning_rate=0.4, max_depth=4, n_estimators=1000..........\n",
      "[CV 3/3; 4/24] END learning_rate=0.4, max_depth=4, n_estimators=1000; total time=  16.7s\n",
      "[CV 1/3; 5/24] START learning_rate=0.4, max_depth=6, n_estimators=50............\n",
      "[CV 1/3; 5/24] END learning_rate=0.4, max_depth=6, n_estimators=50; total time=   1.4s\n",
      "[CV 2/3; 5/24] START learning_rate=0.4, max_depth=6, n_estimators=50............\n",
      "[CV 2/3; 5/24] END learning_rate=0.4, max_depth=6, n_estimators=50; total time=   1.4s\n",
      "[CV 3/3; 5/24] START learning_rate=0.4, max_depth=6, n_estimators=50............\n",
      "[CV 3/3; 5/24] END learning_rate=0.4, max_depth=6, n_estimators=50; total time=   1.4s\n",
      "[CV 1/3; 6/24] START learning_rate=0.4, max_depth=6, n_estimators=100...........\n",
      "[CV 1/3; 6/24] END learning_rate=0.4, max_depth=6, n_estimators=100; total time=   2.6s\n",
      "[CV 2/3; 6/24] START learning_rate=0.4, max_depth=6, n_estimators=100...........\n",
      "[CV 2/3; 6/24] END learning_rate=0.4, max_depth=6, n_estimators=100; total time=   2.5s\n",
      "[CV 3/3; 6/24] START learning_rate=0.4, max_depth=6, n_estimators=100...........\n",
      "[CV 3/3; 6/24] END learning_rate=0.4, max_depth=6, n_estimators=100; total time=   2.6s\n",
      "[CV 1/3; 7/24] START learning_rate=0.4, max_depth=6, n_estimators=150...........\n",
      "[CV 1/3; 7/24] END learning_rate=0.4, max_depth=6, n_estimators=150; total time=   3.2s\n",
      "[CV 2/3; 7/24] START learning_rate=0.4, max_depth=6, n_estimators=150...........\n",
      "[CV 2/3; 7/24] END learning_rate=0.4, max_depth=6, n_estimators=150; total time=   3.6s\n",
      "[CV 3/3; 7/24] START learning_rate=0.4, max_depth=6, n_estimators=150...........\n",
      "[CV 3/3; 7/24] END learning_rate=0.4, max_depth=6, n_estimators=150; total time=   3.5s\n",
      "[CV 1/3; 8/24] START learning_rate=0.4, max_depth=6, n_estimators=1000..........\n",
      "[CV 1/3; 8/24] END learning_rate=0.4, max_depth=6, n_estimators=1000; total time=  24.8s\n",
      "[CV 2/3; 8/24] START learning_rate=0.4, max_depth=6, n_estimators=1000..........\n",
      "[CV 2/3; 8/24] END learning_rate=0.4, max_depth=6, n_estimators=1000; total time=  22.5s\n",
      "[CV 3/3; 8/24] START learning_rate=0.4, max_depth=6, n_estimators=1000..........\n",
      "[CV 3/3; 8/24] END learning_rate=0.4, max_depth=6, n_estimators=1000; total time=  22.2s\n",
      "[CV 1/3; 9/24] START learning_rate=0.1, max_depth=4, n_estimators=50............\n",
      "[CV 1/3; 9/24] END learning_rate=0.1, max_depth=4, n_estimators=50; total time=   1.1s\n",
      "[CV 2/3; 9/24] START learning_rate=0.1, max_depth=4, n_estimators=50............\n",
      "[CV 2/3; 9/24] END learning_rate=0.1, max_depth=4, n_estimators=50; total time=   1.2s\n",
      "[CV 3/3; 9/24] START learning_rate=0.1, max_depth=4, n_estimators=50............\n",
      "[CV 3/3; 9/24] END learning_rate=0.1, max_depth=4, n_estimators=50; total time=   1.2s\n",
      "[CV 1/3; 10/24] START learning_rate=0.1, max_depth=4, n_estimators=100..........\n",
      "[CV 1/3; 10/24] END learning_rate=0.1, max_depth=4, n_estimators=100; total time=   1.9s\n",
      "[CV 2/3; 10/24] START learning_rate=0.1, max_depth=4, n_estimators=100..........\n",
      "[CV 2/3; 10/24] END learning_rate=0.1, max_depth=4, n_estimators=100; total time=   2.1s\n",
      "[CV 3/3; 10/24] START learning_rate=0.1, max_depth=4, n_estimators=100..........\n",
      "[CV 3/3; 10/24] END learning_rate=0.1, max_depth=4, n_estimators=100; total time=   2.1s\n",
      "[CV 1/3; 11/24] START learning_rate=0.1, max_depth=4, n_estimators=150..........\n",
      "[CV 1/3; 11/24] END learning_rate=0.1, max_depth=4, n_estimators=150; total time=   2.9s\n",
      "[CV 2/3; 11/24] START learning_rate=0.1, max_depth=4, n_estimators=150..........\n",
      "[CV 2/3; 11/24] END learning_rate=0.1, max_depth=4, n_estimators=150; total time=   3.1s\n",
      "[CV 3/3; 11/24] START learning_rate=0.1, max_depth=4, n_estimators=150..........\n",
      "[CV 3/3; 11/24] END learning_rate=0.1, max_depth=4, n_estimators=150; total time=   2.8s\n",
      "[CV 1/3; 12/24] START learning_rate=0.1, max_depth=4, n_estimators=1000.........\n",
      "[CV 1/3; 12/24] END learning_rate=0.1, max_depth=4, n_estimators=1000; total time=  16.8s\n",
      "[CV 2/3; 12/24] START learning_rate=0.1, max_depth=4, n_estimators=1000.........\n",
      "[CV 2/3; 12/24] END learning_rate=0.1, max_depth=4, n_estimators=1000; total time=  16.9s\n",
      "[CV 3/3; 12/24] START learning_rate=0.1, max_depth=4, n_estimators=1000.........\n",
      "[CV 3/3; 12/24] END learning_rate=0.1, max_depth=4, n_estimators=1000; total time=  18.3s\n",
      "[CV 1/3; 13/24] START learning_rate=0.1, max_depth=6, n_estimators=50...........\n",
      "[CV 1/3; 13/24] END learning_rate=0.1, max_depth=6, n_estimators=50; total time=   1.6s\n",
      "[CV 2/3; 13/24] START learning_rate=0.1, max_depth=6, n_estimators=50...........\n",
      "[CV 2/3; 13/24] END learning_rate=0.1, max_depth=6, n_estimators=50; total time=   1.6s\n",
      "[CV 3/3; 13/24] START learning_rate=0.1, max_depth=6, n_estimators=50...........\n",
      "[CV 3/3; 13/24] END learning_rate=0.1, max_depth=6, n_estimators=50; total time=   1.6s\n",
      "[CV 1/3; 14/24] START learning_rate=0.1, max_depth=6, n_estimators=100..........\n",
      "[CV 1/3; 14/24] END learning_rate=0.1, max_depth=6, n_estimators=100; total time=   2.8s\n",
      "[CV 2/3; 14/24] START learning_rate=0.1, max_depth=6, n_estimators=100..........\n",
      "[CV 2/3; 14/24] END learning_rate=0.1, max_depth=6, n_estimators=100; total time=   2.8s\n",
      "[CV 3/3; 14/24] START learning_rate=0.1, max_depth=6, n_estimators=100..........\n",
      "[CV 3/3; 14/24] END learning_rate=0.1, max_depth=6, n_estimators=100; total time=   2.7s\n",
      "[CV 1/3; 15/24] START learning_rate=0.1, max_depth=6, n_estimators=150..........\n",
      "[CV 1/3; 15/24] END learning_rate=0.1, max_depth=6, n_estimators=150; total time=   4.1s\n",
      "[CV 2/3; 15/24] START learning_rate=0.1, max_depth=6, n_estimators=150..........\n",
      "[CV 2/3; 15/24] END learning_rate=0.1, max_depth=6, n_estimators=150; total time=   3.8s\n",
      "[CV 3/3; 15/24] START learning_rate=0.1, max_depth=6, n_estimators=150..........\n",
      "[CV 3/3; 15/24] END learning_rate=0.1, max_depth=6, n_estimators=150; total time=   4.9s\n",
      "[CV 1/3; 16/24] START learning_rate=0.1, max_depth=6, n_estimators=1000.........\n",
      "[CV 1/3; 16/24] END learning_rate=0.1, max_depth=6, n_estimators=1000; total time=  22.8s\n",
      "[CV 2/3; 16/24] START learning_rate=0.1, max_depth=6, n_estimators=1000.........\n",
      "[CV 2/3; 16/24] END learning_rate=0.1, max_depth=6, n_estimators=1000; total time=  23.8s\n",
      "[CV 3/3; 16/24] START learning_rate=0.1, max_depth=6, n_estimators=1000.........\n",
      "[CV 3/3; 16/24] END learning_rate=0.1, max_depth=6, n_estimators=1000; total time=  24.1s\n",
      "[CV 1/3; 17/24] START learning_rate=0.01, max_depth=4, n_estimators=50..........\n",
      "[CV 1/3; 17/24] END learning_rate=0.01, max_depth=4, n_estimators=50; total time=   1.2s\n",
      "[CV 2/3; 17/24] START learning_rate=0.01, max_depth=4, n_estimators=50..........\n",
      "[CV 2/3; 17/24] END learning_rate=0.01, max_depth=4, n_estimators=50; total time=   1.3s\n",
      "[CV 3/3; 17/24] START learning_rate=0.01, max_depth=4, n_estimators=50..........\n",
      "[CV 3/3; 17/24] END learning_rate=0.01, max_depth=4, n_estimators=50; total time=   1.1s\n",
      "[CV 1/3; 18/24] START learning_rate=0.01, max_depth=4, n_estimators=100.........\n",
      "[CV 1/3; 18/24] END learning_rate=0.01, max_depth=4, n_estimators=100; total time=   3.9s\n",
      "[CV 2/3; 18/24] START learning_rate=0.01, max_depth=4, n_estimators=100.........\n",
      "[CV 2/3; 18/24] END learning_rate=0.01, max_depth=4, n_estimators=100; total time=   2.1s\n",
      "[CV 3/3; 18/24] START learning_rate=0.01, max_depth=4, n_estimators=100.........\n",
      "[CV 3/3; 18/24] END learning_rate=0.01, max_depth=4, n_estimators=100; total time=   2.2s\n",
      "[CV 1/3; 19/24] START learning_rate=0.01, max_depth=4, n_estimators=150.........\n",
      "[CV 1/3; 19/24] END learning_rate=0.01, max_depth=4, n_estimators=150; total time=   3.2s\n",
      "[CV 2/3; 19/24] START learning_rate=0.01, max_depth=4, n_estimators=150.........\n",
      "[CV 2/3; 19/24] END learning_rate=0.01, max_depth=4, n_estimators=150; total time=   2.9s\n",
      "[CV 3/3; 19/24] START learning_rate=0.01, max_depth=4, n_estimators=150.........\n",
      "[CV 3/3; 19/24] END learning_rate=0.01, max_depth=4, n_estimators=150; total time=   3.2s\n",
      "[CV 1/3; 20/24] START learning_rate=0.01, max_depth=4, n_estimators=1000........\n",
      "[CV 1/3; 20/24] END learning_rate=0.01, max_depth=4, n_estimators=1000; total time=  18.8s\n",
      "[CV 2/3; 20/24] START learning_rate=0.01, max_depth=4, n_estimators=1000........\n",
      "[CV 2/3; 20/24] END learning_rate=0.01, max_depth=4, n_estimators=1000; total time=  19.9s\n",
      "[CV 3/3; 20/24] START learning_rate=0.01, max_depth=4, n_estimators=1000........\n",
      "[CV 3/3; 20/24] END learning_rate=0.01, max_depth=4, n_estimators=1000; total time=  19.5s\n",
      "[CV 1/3; 21/24] START learning_rate=0.01, max_depth=6, n_estimators=50..........\n",
      "[CV 1/3; 21/24] END learning_rate=0.01, max_depth=6, n_estimators=50; total time=   1.8s\n",
      "[CV 2/3; 21/24] START learning_rate=0.01, max_depth=6, n_estimators=50..........\n",
      "[CV 2/3; 21/24] END learning_rate=0.01, max_depth=6, n_estimators=50; total time=   1.7s\n",
      "[CV 3/3; 21/24] START learning_rate=0.01, max_depth=6, n_estimators=50..........\n",
      "[CV 3/3; 21/24] END learning_rate=0.01, max_depth=6, n_estimators=50; total time=   1.7s\n",
      "[CV 1/3; 22/24] START learning_rate=0.01, max_depth=6, n_estimators=100.........\n",
      "[CV 1/3; 22/24] END learning_rate=0.01, max_depth=6, n_estimators=100; total time=   3.3s\n",
      "[CV 2/3; 22/24] START learning_rate=0.01, max_depth=6, n_estimators=100.........\n",
      "[CV 2/3; 22/24] END learning_rate=0.01, max_depth=6, n_estimators=100; total time=   3.1s\n",
      "[CV 3/3; 22/24] START learning_rate=0.01, max_depth=6, n_estimators=100.........\n",
      "[CV 3/3; 22/24] END learning_rate=0.01, max_depth=6, n_estimators=100; total time=   3.3s\n",
      "[CV 1/3; 23/24] START learning_rate=0.01, max_depth=6, n_estimators=150.........\n",
      "[CV 1/3; 23/24] END learning_rate=0.01, max_depth=6, n_estimators=150; total time=   4.7s\n",
      "[CV 2/3; 23/24] START learning_rate=0.01, max_depth=6, n_estimators=150.........\n",
      "[CV 2/3; 23/24] END learning_rate=0.01, max_depth=6, n_estimators=150; total time=   6.5s\n",
      "[CV 3/3; 23/24] START learning_rate=0.01, max_depth=6, n_estimators=150.........\n",
      "[CV 3/3; 23/24] END learning_rate=0.01, max_depth=6, n_estimators=150; total time=   4.8s\n",
      "[CV 1/3; 24/24] START learning_rate=0.01, max_depth=6, n_estimators=1000........\n",
      "[CV 1/3; 24/24] END learning_rate=0.01, max_depth=6, n_estimators=1000; total time=  29.1s\n",
      "[CV 2/3; 24/24] START learning_rate=0.01, max_depth=6, n_estimators=1000........\n",
      "[CV 2/3; 24/24] END learning_rate=0.01, max_depth=6, n_estimators=1000; total time=  27.7s\n",
      "[CV 3/3; 24/24] START learning_rate=0.01, max_depth=6, n_estimators=1000........\n",
      "[CV 3/3; 24/24] END learning_rate=0.01, max_depth=6, n_estimators=1000; total time=  28.6s\n",
      "1128.2960524630587\n",
      "-------------\n",
      "{'learning_rate': 0.1, 'max_depth': 6, 'n_estimators': 1000}\n",
      "-------------\n",
      "LGBMRegressor(max_depth=6, n_estimators=1000, objective='regression',\n",
      "              random_state=12345)\n"
     ]
    }
   ],
   "source": [
    "# 2 вариант \n",
    "%time\n",
    "param_grid = {\n",
    "    'learning_rate': [0.4, 0.1, 0.01],\n",
    "    'n_estimators': [50, 100, 150, 1000],\n",
    "    'max_depth': [4, 6]\n",
    "}\n",
    "\n",
    "\n",
    "estimator = lgb.LGBMRegressor(objective='regression', \n",
    "                              random_state=12345)\n",
    "\n",
    "model = GridSearchCV(estimator=estimator, \n",
    "                     param_grid=param_grid,\n",
    "                     cv=3, \n",
    "                     n_jobs=-1, \n",
    "                     verbose=10,\n",
    "                     scoring='neg_root_mean_squared_error')\n",
    "model.fit(features_train, target_train)\n",
    "\n",
    "best_params = model.best_params_\n",
    "print(model.best_score_ * (-1))\n",
    "print('-------------')\n",
    "print(best_params)\n",
    "print('-------------')\n",
    "print(model.best_estimator_)"
   ]
  },
  {
   "cell_type": "markdown",
   "metadata": {},
   "source": [
    "Итоговое время обучения 451мин"
   ]
  },
  {
   "cell_type": "code",
   "execution_count": 70,
   "metadata": {},
   "outputs": [
    {
     "name": "stderr",
     "output_type": "stream",
     "text": [
      "/opt/conda/lib/python3.9/site-packages/lightgbm/sklearn.py:736: UserWarning: 'verbose' argument is deprecated and will be removed in a future release of LightGBM. Pass 'log_evaluation()' callback via 'callbacks' argument instead.\n",
      "  _log_warning(\"'verbose' argument is deprecated and will be removed in a future release of LightGBM. \"\n"
     ]
    },
    {
     "name": "stdout",
     "output_type": "stream",
     "text": [
      "Время: 1547\n",
      "\n",
      "CPU times: user 25min 18s, sys: 18.1 s, total: 25min 36s\n",
      "Wall time: 25min 46s\n"
     ]
    }
   ],
   "source": [
    "%%time\n",
    "start = time.time()\n",
    "model_best_LGBMR = lgb.LGBMRegressor( learning_rate=0.1, max_depth=6, n_estimators=1000, \n",
    "                                     random_state=12345, objective='regression')\n",
    "model_best_LGBMR.fit(features_train, target_train, verbose=10)\n",
    "end = time.time()\n",
    "t_rf_LGBMR=round(end-start)\n",
    "print('Время:',t_rf_LGBMR)\n",
    "print()"
   ]
  },
  {
   "cell_type": "code",
   "execution_count": 71,
   "metadata": {},
   "outputs": [
    {
     "name": "stdout",
     "output_type": "stream",
     "text": [
      "Время: 19\n",
      "\n",
      "CPU times: user 19 s, sys: 0 ns, total: 19 s\n",
      "Wall time: 19 s\n"
     ]
    }
   ],
   "source": [
    "%%time\n",
    "start = time.time()\n",
    "model_best_LGBMR.predict(features_train)\n",
    "end = time.time()\n",
    "t_rf_LGBMR_pr=round(end-start)\n",
    "print('Время:',t_rf_LGBMR_pr)\n",
    "print()"
   ]
  },
  {
   "cell_type": "markdown",
   "metadata": {},
   "source": [
    "### DummyRegressor"
   ]
  },
  {
   "cell_type": "code",
   "execution_count": 49,
   "metadata": {},
   "outputs": [
    {
     "name": "stdout",
     "output_type": "stream",
     "text": [
      "CPU times: user 3.27 ms, sys: 204 µs, total: 3.47 ms\n",
      "Wall time: 2.14 ms\n"
     ]
    },
    {
     "data": {
      "text/plain": [
       "2505.878882026043"
      ]
     },
     "execution_count": 49,
     "metadata": {},
     "output_type": "execute_result"
    }
   ],
   "source": [
    "%%time\n",
    "dummy_regr = DummyRegressor(strategy=\"mean\")\n",
    "dummy_regr.fit(features_train, target_train)\n",
    "predict_dummy_mean = dummy_regr.predict(features_test)\n",
    "mean_squared_error(target_test, predict_dummy_mean) ** 0.5"
   ]
  },
  {
   "cell_type": "markdown",
   "metadata": {},
   "source": [
    "## Анализ моделей"
   ]
  },
  {
   "cell_type": "code",
   "execution_count": 73,
   "metadata": {},
   "outputs": [
    {
     "data": {
      "text/html": [
       "<div>\n",
       "<style scoped>\n",
       "    .dataframe tbody tr th:only-of-type {\n",
       "        vertical-align: middle;\n",
       "    }\n",
       "\n",
       "    .dataframe tbody tr th {\n",
       "        vertical-align: top;\n",
       "    }\n",
       "\n",
       "    .dataframe thead th {\n",
       "        text-align: right;\n",
       "    }\n",
       "</style>\n",
       "<table border=\"1\" class=\"dataframe\">\n",
       "  <thead>\n",
       "    <tr style=\"text-align: right;\">\n",
       "      <th></th>\n",
       "      <th>LinearRegression (сек)</th>\n",
       "      <th>RandomForestRegressor (сек)</th>\n",
       "      <th>LGBMRegressor (сек)</th>\n",
       "    </tr>\n",
       "  </thead>\n",
       "  <tbody>\n",
       "    <tr>\n",
       "      <th>RMSE</th>\n",
       "      <td>1688.597522</td>\n",
       "      <td>1334.028177</td>\n",
       "      <td>1128.296</td>\n",
       "    </tr>\n",
       "    <tr>\n",
       "      <th>time fit</th>\n",
       "      <td>-24.000000</td>\n",
       "      <td>3.650000</td>\n",
       "      <td>1547</td>\n",
       "    </tr>\n",
       "    <tr>\n",
       "      <th>time predict</th>\n",
       "      <td>0.190000</td>\n",
       "      <td>0.270000</td>\n",
       "      <td>19</td>\n",
       "    </tr>\n",
       "  </tbody>\n",
       "</table>\n",
       "</div>"
      ],
      "text/plain": [
       "              LinearRegression (сек)  RandomForestRegressor (сек)  \\\n",
       "RMSE                     1688.597522                  1334.028177   \n",
       "time fit                  -24.000000                     3.650000   \n",
       "time predict                0.190000                     0.270000   \n",
       "\n",
       "             LGBMRegressor (сек)  \n",
       "RMSE                    1128.296  \n",
       "time fit                    1547  \n",
       "time predict                  19  "
      ]
     },
     "execution_count": 73,
     "metadata": {},
     "output_type": "execute_result"
    }
   ],
   "source": [
    "index = ['RMSE', 'time fit', 'time predict']\n",
    "analysis = {'LinearRegression (сек)':[RMSE_LR, t_rf_LR, t_rf_LR_pr],\n",
    "            'RandomForestRegressor (сек)':[best_RMSE_RTR, t_rf_RTR, t_rf_RTR_pr ],\n",
    "            'LGBMRegressor (сек)':['1128.296', t_rf_LGBMR, t_rf_LGBMR_pr]}\n",
    "analysis_itog = pd.DataFrame(data=analysis, index=index)\n",
    "analysis_itog"
   ]
  },
  {
   "cell_type": "markdown",
   "metadata": {},
   "source": [
    "Лучшая модель по показателю RMSE это LGBMRegressor, но по времени обучения она чуть дольше чем RandomForestRegressor."
   ]
  },
  {
   "cell_type": "markdown",
   "metadata": {},
   "source": [
    "## Проверка на тестовой выборки"
   ]
  },
  {
   "cell_type": "markdown",
   "metadata": {},
   "source": [
    "Выберу лучшую модель LGBMRegressor и проверю ее на тестовой выборке. "
   ]
  },
  {
   "cell_type": "code",
   "execution_count": 74,
   "metadata": {},
   "outputs": [
    {
     "data": {
      "text/plain": [
       "LGBMRegressor(max_depth=6, n_estimators=1000, objective='regression',\n",
       "              random_state=12345)"
      ]
     },
     "execution_count": 74,
     "metadata": {},
     "output_type": "execute_result"
    }
   ],
   "source": [
    "model_best_LGBMR"
   ]
  },
  {
   "cell_type": "code",
   "execution_count": 75,
   "metadata": {},
   "outputs": [
    {
     "name": "stdout",
     "output_type": "stream",
     "text": [
      "CPU times: user 5.87 s, sys: 0 ns, total: 5.87 s\n",
      "Wall time: 5.82 s\n"
     ]
    },
    {
     "data": {
      "text/plain": [
       "1119.6650576276952"
      ]
     },
     "execution_count": 75,
     "metadata": {},
     "output_type": "execute_result"
    }
   ],
   "source": [
    "%%time\n",
    "predict = model_best_LGBMR.predict(features_test)\n",
    "RMSE_test = mean_squared_error(target_test, predict) ** 0.5\n",
    "RMSE_test"
   ]
  },
  {
   "cell_type": "markdown",
   "metadata": {},
   "source": [
    "На тестовой выборке показатель RMSE лучшей модели model_best_LGBMR 1119.6, на тренировочных данныйх результат был 1128.296. Время предсказания 5.82 s. \n",
    "\n",
    "Для заказчика порекомендовала бы эту модель, у нее хороший показатель метрики, и достаточно быстрое время обучения и предсказания, но конечно не самое быстрое, как у RandomForestRegressor, но там хуже показатель метрики. Поэтому критериям заказчика модель удовлетворяет. "
   ]
  }
 ],
 "metadata": {
  "ExecuteTimeLog": [
   {
    "duration": 67,
    "start_time": "2023-03-23T16:14:30.028Z"
   },
   {
    "duration": 408,
    "start_time": "2023-03-23T16:14:32.849Z"
   },
   {
    "duration": 1173,
    "start_time": "2023-03-23T16:14:33.330Z"
   },
   {
    "duration": 27,
    "start_time": "2023-03-23T16:14:38.594Z"
   },
   {
    "duration": 121,
    "start_time": "2023-03-23T16:14:55.504Z"
   },
   {
    "duration": 176,
    "start_time": "2023-03-23T16:17:14.596Z"
   },
   {
    "duration": 42,
    "start_time": "2023-03-23T16:24:35.595Z"
   },
   {
    "duration": 431,
    "start_time": "2023-03-23T16:24:53.773Z"
   },
   {
    "duration": 450,
    "start_time": "2023-03-23T16:25:11.163Z"
   },
   {
    "duration": 596,
    "start_time": "2023-03-23T16:25:27.339Z"
   },
   {
    "duration": 508,
    "start_time": "2023-03-23T16:26:49.292Z"
   },
   {
    "duration": 451,
    "start_time": "2023-03-23T16:26:59.717Z"
   },
   {
    "duration": 480,
    "start_time": "2023-03-23T16:27:09.583Z"
   },
   {
    "duration": 493,
    "start_time": "2023-03-23T16:27:23.899Z"
   },
   {
    "duration": 5,
    "start_time": "2023-03-23T16:28:50.865Z"
   },
   {
    "duration": 1007,
    "start_time": "2023-03-23T16:29:06.026Z"
   },
   {
    "duration": 32,
    "start_time": "2023-03-23T16:29:42.666Z"
   },
   {
    "duration": 118,
    "start_time": "2023-03-23T16:29:46.488Z"
   },
   {
    "duration": 52,
    "start_time": "2023-03-23T19:33:54.739Z"
   },
   {
    "duration": 6,
    "start_time": "2023-03-23T19:33:58.500Z"
   },
   {
    "duration": 428,
    "start_time": "2023-03-23T19:34:04.738Z"
   },
   {
    "duration": 1273,
    "start_time": "2023-03-23T19:34:05.674Z"
   },
   {
    "duration": 154,
    "start_time": "2023-03-23T19:34:06.950Z"
   },
   {
    "duration": 142,
    "start_time": "2023-03-23T19:34:07.105Z"
   },
   {
    "duration": 568,
    "start_time": "2023-03-23T19:34:07.249Z"
   },
   {
    "duration": 597,
    "start_time": "2023-03-23T19:34:07.818Z"
   },
   {
    "duration": 5,
    "start_time": "2023-03-23T19:34:08.418Z"
   },
   {
    "duration": 821,
    "start_time": "2023-03-23T19:34:08.426Z"
   },
   {
    "duration": 118,
    "start_time": "2023-03-23T19:34:09.250Z"
   },
   {
    "duration": 53,
    "start_time": "2023-03-23T19:34:09.371Z"
   },
   {
    "duration": 5,
    "start_time": "2023-03-23T19:34:14.315Z"
   },
   {
    "duration": 152,
    "start_time": "2023-03-23T19:40:27.381Z"
   },
   {
    "duration": 121,
    "start_time": "2023-03-23T19:40:52.241Z"
   },
   {
    "duration": 17,
    "start_time": "2023-03-23T19:42:46.267Z"
   },
   {
    "duration": 3,
    "start_time": "2023-03-23T19:42:56.737Z"
   },
   {
    "duration": 1097,
    "start_time": "2023-03-23T19:42:56.931Z"
   },
   {
    "duration": 181,
    "start_time": "2023-03-23T19:42:58.030Z"
   },
   {
    "duration": 175,
    "start_time": "2023-03-23T19:42:58.214Z"
   },
   {
    "duration": 623,
    "start_time": "2023-03-23T19:42:58.396Z"
   },
   {
    "duration": 616,
    "start_time": "2023-03-23T19:42:59.021Z"
   },
   {
    "duration": 4,
    "start_time": "2023-03-23T19:42:59.639Z"
   },
   {
    "duration": 364,
    "start_time": "2023-03-23T19:42:59.645Z"
   },
   {
    "duration": 130,
    "start_time": "2023-03-23T19:43:00.013Z"
   },
   {
    "duration": 4,
    "start_time": "2023-03-23T19:43:00.145Z"
   },
   {
    "duration": 189,
    "start_time": "2023-03-23T19:43:00.151Z"
   },
   {
    "duration": 97,
    "start_time": "2023-03-23T19:43:00.342Z"
   },
   {
    "duration": 7,
    "start_time": "2023-03-23T19:44:45.415Z"
   },
   {
    "duration": 385,
    "start_time": "2023-03-23T19:44:45.886Z"
   },
   {
    "duration": 77,
    "start_time": "2023-03-23T19:44:59.855Z"
   },
   {
    "duration": 23,
    "start_time": "2023-03-23T20:16:15.908Z"
   },
   {
    "duration": 3,
    "start_time": "2023-03-23T20:33:41.403Z"
   },
   {
    "duration": 935,
    "start_time": "2023-03-23T20:33:41.599Z"
   },
   {
    "duration": 174,
    "start_time": "2023-03-23T20:33:42.536Z"
   },
   {
    "duration": 167,
    "start_time": "2023-03-23T20:33:42.712Z"
   },
   {
    "duration": 578,
    "start_time": "2023-03-23T20:33:42.888Z"
   },
   {
    "duration": 655,
    "start_time": "2023-03-23T20:33:43.468Z"
   },
   {
    "duration": 7,
    "start_time": "2023-03-23T20:33:44.127Z"
   },
   {
    "duration": 279,
    "start_time": "2023-03-23T20:33:44.136Z"
   },
   {
    "duration": 26,
    "start_time": "2023-03-23T20:33:44.417Z"
   },
   {
    "duration": 185,
    "start_time": "2023-03-23T20:33:44.446Z"
   },
   {
    "duration": 7,
    "start_time": "2023-03-23T20:33:44.634Z"
   },
   {
    "duration": 418,
    "start_time": "2023-03-23T20:33:44.644Z"
   },
   {
    "duration": 477,
    "start_time": "2023-03-23T20:35:51.049Z"
   },
   {
    "duration": 77,
    "start_time": "2023-03-24T08:04:36.185Z"
   },
   {
    "duration": 460,
    "start_time": "2023-03-24T08:04:42.075Z"
   },
   {
    "duration": 1665,
    "start_time": "2023-03-24T08:04:42.537Z"
   },
   {
    "duration": 213,
    "start_time": "2023-03-24T08:04:44.204Z"
   },
   {
    "duration": 227,
    "start_time": "2023-03-24T08:04:44.423Z"
   },
   {
    "duration": 876,
    "start_time": "2023-03-24T08:04:44.653Z"
   },
   {
    "duration": 825,
    "start_time": "2023-03-24T08:04:45.532Z"
   },
   {
    "duration": 12,
    "start_time": "2023-03-24T08:04:46.360Z"
   },
   {
    "duration": 222,
    "start_time": "2023-03-24T08:04:46.375Z"
   },
   {
    "duration": 22,
    "start_time": "2023-03-24T08:04:46.600Z"
   },
   {
    "duration": 153,
    "start_time": "2023-03-24T08:04:46.643Z"
   },
   {
    "duration": 15,
    "start_time": "2023-03-24T08:04:46.799Z"
   },
   {
    "duration": 899,
    "start_time": "2023-03-24T08:04:46.816Z"
   },
   {
    "duration": 106,
    "start_time": "2023-03-24T08:04:47.717Z"
   },
   {
    "duration": 7,
    "start_time": "2023-03-24T08:04:47.825Z"
   },
   {
    "duration": 44,
    "start_time": "2023-03-24T08:05:16.530Z"
   },
   {
    "duration": 41,
    "start_time": "2023-03-24T08:08:17.069Z"
   },
   {
    "duration": 66,
    "start_time": "2023-03-24T08:12:11.798Z"
   },
   {
    "duration": 60,
    "start_time": "2023-03-24T08:12:23.259Z"
   },
   {
    "duration": 34,
    "start_time": "2023-03-24T08:12:28.568Z"
   },
   {
    "duration": 41,
    "start_time": "2023-03-24T08:25:02.674Z"
   },
   {
    "duration": 5,
    "start_time": "2023-03-24T08:25:07.672Z"
   },
   {
    "duration": 67,
    "start_time": "2023-03-24T08:25:39.169Z"
   },
   {
    "duration": 26,
    "start_time": "2023-03-24T08:39:31.229Z"
   },
   {
    "duration": 53,
    "start_time": "2023-03-24T08:40:08.955Z"
   },
   {
    "duration": 159,
    "start_time": "2023-03-24T08:47:29.147Z"
   },
   {
    "duration": 110,
    "start_time": "2023-03-24T08:48:09.692Z"
   },
   {
    "duration": 222,
    "start_time": "2023-03-24T08:56:05.424Z"
   },
   {
    "duration": 31,
    "start_time": "2023-03-24T08:59:14.428Z"
   },
   {
    "duration": 64,
    "start_time": "2023-03-24T08:59:21.624Z"
   },
   {
    "duration": 35,
    "start_time": "2023-03-24T09:01:01.213Z"
   },
   {
    "duration": 109,
    "start_time": "2023-03-24T09:01:35.510Z"
   },
   {
    "duration": 58,
    "start_time": "2023-03-24T09:04:06.031Z"
   },
   {
    "duration": 12,
    "start_time": "2023-03-24T09:04:27.332Z"
   },
   {
    "duration": 16,
    "start_time": "2023-03-24T09:04:44.151Z"
   },
   {
    "duration": 55,
    "start_time": "2023-03-24T09:05:00.727Z"
   },
   {
    "duration": 5,
    "start_time": "2023-03-24T09:05:15.286Z"
   },
   {
    "duration": 69,
    "start_time": "2023-03-24T09:05:23.245Z"
   },
   {
    "duration": 160,
    "start_time": "2023-03-24T09:22:34.453Z"
   },
   {
    "duration": 18,
    "start_time": "2023-03-24T09:22:48.036Z"
   },
   {
    "duration": 65,
    "start_time": "2023-03-24T09:24:25.562Z"
   },
   {
    "duration": 181,
    "start_time": "2023-03-24T09:26:10.195Z"
   },
   {
    "duration": 187,
    "start_time": "2023-03-24T09:26:31.183Z"
   },
   {
    "duration": 200,
    "start_time": "2023-03-24T09:26:42.458Z"
   },
   {
    "duration": 162,
    "start_time": "2023-03-24T09:26:52.290Z"
   },
   {
    "duration": 172,
    "start_time": "2023-03-24T09:27:06.142Z"
   },
   {
    "duration": 174,
    "start_time": "2023-03-24T09:28:47.238Z"
   },
   {
    "duration": 153,
    "start_time": "2023-03-24T09:29:44.313Z"
   },
   {
    "duration": 16,
    "start_time": "2023-03-24T09:31:34.192Z"
   },
   {
    "duration": 104,
    "start_time": "2023-03-24T09:32:25.086Z"
   },
   {
    "duration": 167,
    "start_time": "2023-03-24T09:32:38.894Z"
   },
   {
    "duration": 58,
    "start_time": "2023-03-24T09:33:24.062Z"
   },
   {
    "duration": 165,
    "start_time": "2023-03-24T09:36:22.139Z"
   },
   {
    "duration": 179,
    "start_time": "2023-03-24T09:36:29.243Z"
   },
   {
    "duration": 3,
    "start_time": "2023-03-24T09:36:48.982Z"
   },
   {
    "duration": 1036,
    "start_time": "2023-03-24T09:36:49.120Z"
   },
   {
    "duration": 126,
    "start_time": "2023-03-24T09:36:50.159Z"
   },
   {
    "duration": 127,
    "start_time": "2023-03-24T09:36:50.287Z"
   },
   {
    "duration": 551,
    "start_time": "2023-03-24T09:36:50.417Z"
   },
   {
    "duration": 598,
    "start_time": "2023-03-24T09:36:50.970Z"
   },
   {
    "duration": 6,
    "start_time": "2023-03-24T09:36:51.572Z"
   },
   {
    "duration": 189,
    "start_time": "2023-03-24T09:36:53.466Z"
   },
   {
    "duration": 22,
    "start_time": "2023-03-24T09:36:54.608Z"
   },
   {
    "duration": 79,
    "start_time": "2023-03-24T09:36:55.316Z"
   },
   {
    "duration": 5,
    "start_time": "2023-03-24T09:36:57.747Z"
   },
   {
    "duration": 263,
    "start_time": "2023-03-24T09:36:57.940Z"
   },
   {
    "duration": 72,
    "start_time": "2023-03-24T09:37:01.572Z"
   },
   {
    "duration": 24,
    "start_time": "2023-03-24T09:37:02.578Z"
   },
   {
    "duration": 144,
    "start_time": "2023-03-24T09:37:08.144Z"
   },
   {
    "duration": 165,
    "start_time": "2023-03-24T09:37:18.438Z"
   },
   {
    "duration": 184,
    "start_time": "2023-03-24T09:38:37.938Z"
   },
   {
    "duration": 22,
    "start_time": "2023-03-24T09:40:33.092Z"
   },
   {
    "duration": 160,
    "start_time": "2023-03-24T09:47:39.742Z"
   },
   {
    "duration": 171,
    "start_time": "2023-03-24T09:48:13.746Z"
   },
   {
    "duration": 3,
    "start_time": "2023-03-24T09:50:07.380Z"
   },
   {
    "duration": 899,
    "start_time": "2023-03-24T09:50:07.542Z"
   },
   {
    "duration": 128,
    "start_time": "2023-03-24T09:50:08.444Z"
   },
   {
    "duration": 133,
    "start_time": "2023-03-24T09:50:08.574Z"
   },
   {
    "duration": 534,
    "start_time": "2023-03-24T09:50:08.709Z"
   },
   {
    "duration": 606,
    "start_time": "2023-03-24T09:50:09.246Z"
   },
   {
    "duration": 5,
    "start_time": "2023-03-24T09:50:09.855Z"
   },
   {
    "duration": 157,
    "start_time": "2023-03-24T09:50:09.862Z"
   },
   {
    "duration": 24,
    "start_time": "2023-03-24T09:50:10.021Z"
   },
   {
    "duration": 102,
    "start_time": "2023-03-24T09:50:10.047Z"
   },
   {
    "duration": 7,
    "start_time": "2023-03-24T09:50:10.152Z"
   },
   {
    "duration": 261,
    "start_time": "2023-03-24T09:50:10.162Z"
   },
   {
    "duration": 80,
    "start_time": "2023-03-24T09:50:10.425Z"
   },
   {
    "duration": 36,
    "start_time": "2023-03-24T09:50:10.508Z"
   },
   {
    "duration": 303,
    "start_time": "2023-03-24T09:50:10.547Z"
   },
   {
    "duration": 198,
    "start_time": "2023-03-24T09:50:15.595Z"
   },
   {
    "duration": 96,
    "start_time": "2023-03-24T09:50:21.568Z"
   },
   {
    "duration": 23,
    "start_time": "2023-03-24T09:51:08.079Z"
   },
   {
    "duration": 37,
    "start_time": "2023-03-24T09:51:43.881Z"
   },
   {
    "duration": 41,
    "start_time": "2023-03-24T09:51:52.172Z"
   },
   {
    "duration": 4,
    "start_time": "2023-03-24T09:53:31.506Z"
   },
   {
    "duration": 919,
    "start_time": "2023-03-24T09:53:31.666Z"
   },
   {
    "duration": 136,
    "start_time": "2023-03-24T09:53:32.587Z"
   },
   {
    "duration": 133,
    "start_time": "2023-03-24T09:53:32.725Z"
   },
   {
    "duration": 545,
    "start_time": "2023-03-24T09:53:32.861Z"
   },
   {
    "duration": 595,
    "start_time": "2023-03-24T09:53:33.409Z"
   },
   {
    "duration": 5,
    "start_time": "2023-03-24T09:53:34.006Z"
   },
   {
    "duration": 190,
    "start_time": "2023-03-24T09:53:34.012Z"
   },
   {
    "duration": 38,
    "start_time": "2023-03-24T09:53:34.205Z"
   },
   {
    "duration": 104,
    "start_time": "2023-03-24T09:53:34.246Z"
   },
   {
    "duration": 5,
    "start_time": "2023-03-24T09:53:34.351Z"
   },
   {
    "duration": 290,
    "start_time": "2023-03-24T09:53:34.358Z"
   },
   {
    "duration": 98,
    "start_time": "2023-03-24T09:53:34.651Z"
   },
   {
    "duration": 24,
    "start_time": "2023-03-24T09:53:34.752Z"
   },
   {
    "duration": 238,
    "start_time": "2023-03-24T09:53:34.779Z"
   },
   {
    "duration": 406,
    "start_time": "2023-03-24T09:53:35.691Z"
   },
   {
    "duration": 289,
    "start_time": "2023-03-24T09:53:36.953Z"
   },
   {
    "duration": 302,
    "start_time": "2023-03-24T09:53:55.133Z"
   },
   {
    "duration": 79,
    "start_time": "2023-03-24T10:47:52.082Z"
   },
   {
    "duration": 3,
    "start_time": "2023-03-24T10:48:32.119Z"
   },
   {
    "duration": 872,
    "start_time": "2023-03-24T10:48:32.292Z"
   },
   {
    "duration": 141,
    "start_time": "2023-03-24T10:48:33.167Z"
   },
   {
    "duration": 144,
    "start_time": "2023-03-24T10:48:33.310Z"
   },
   {
    "duration": 532,
    "start_time": "2023-03-24T10:48:33.456Z"
   },
   {
    "duration": 569,
    "start_time": "2023-03-24T10:48:33.990Z"
   },
   {
    "duration": 5,
    "start_time": "2023-03-24T10:48:34.561Z"
   },
   {
    "duration": 174,
    "start_time": "2023-03-24T10:48:34.568Z"
   },
   {
    "duration": 19,
    "start_time": "2023-03-24T10:48:34.744Z"
   },
   {
    "duration": 86,
    "start_time": "2023-03-24T10:48:34.764Z"
   },
   {
    "duration": 7,
    "start_time": "2023-03-24T10:48:34.851Z"
   },
   {
    "duration": 275,
    "start_time": "2023-03-24T10:48:34.860Z"
   },
   {
    "duration": 73,
    "start_time": "2023-03-24T10:48:35.137Z"
   },
   {
    "duration": 41,
    "start_time": "2023-03-24T10:48:35.212Z"
   },
   {
    "duration": 181,
    "start_time": "2023-03-24T10:48:35.256Z"
   },
   {
    "duration": 313,
    "start_time": "2023-03-24T10:48:35.570Z"
   },
   {
    "duration": 313,
    "start_time": "2023-03-24T10:48:35.897Z"
   },
   {
    "duration": 226,
    "start_time": "2023-03-24T10:48:43.522Z"
   },
   {
    "duration": 22,
    "start_time": "2023-03-24T10:50:52.332Z"
   },
   {
    "duration": 20,
    "start_time": "2023-03-24T10:58:01.833Z"
   },
   {
    "duration": 75,
    "start_time": "2023-03-24T10:58:15.116Z"
   },
   {
    "duration": 53,
    "start_time": "2023-03-24T11:02:33.733Z"
   },
   {
    "duration": 18,
    "start_time": "2023-03-24T11:07:54.321Z"
   },
   {
    "duration": 143,
    "start_time": "2023-03-24T11:08:22.194Z"
   },
   {
    "duration": 43,
    "start_time": "2023-03-24T11:08:43.761Z"
   },
   {
    "duration": 7,
    "start_time": "2023-03-24T11:09:02.528Z"
   },
   {
    "duration": 20,
    "start_time": "2023-03-24T11:09:14.379Z"
   },
   {
    "duration": 2,
    "start_time": "2023-03-24T11:10:14.151Z"
   },
   {
    "duration": 876,
    "start_time": "2023-03-24T11:10:14.314Z"
   },
   {
    "duration": 135,
    "start_time": "2023-03-24T11:10:15.193Z"
   },
   {
    "duration": 122,
    "start_time": "2023-03-24T11:10:15.330Z"
   },
   {
    "duration": 536,
    "start_time": "2023-03-24T11:10:15.455Z"
   },
   {
    "duration": 604,
    "start_time": "2023-03-24T11:10:15.993Z"
   },
   {
    "duration": 5,
    "start_time": "2023-03-24T11:10:16.600Z"
   },
   {
    "duration": 166,
    "start_time": "2023-03-24T11:10:16.607Z"
   },
   {
    "duration": 19,
    "start_time": "2023-03-24T11:10:16.775Z"
   },
   {
    "duration": 84,
    "start_time": "2023-03-24T11:10:16.796Z"
   },
   {
    "duration": 7,
    "start_time": "2023-03-24T11:10:16.882Z"
   },
   {
    "duration": 256,
    "start_time": "2023-03-24T11:10:16.891Z"
   },
   {
    "duration": 74,
    "start_time": "2023-03-24T11:10:17.149Z"
   },
   {
    "duration": 38,
    "start_time": "2023-03-24T11:10:17.225Z"
   },
   {
    "duration": 156,
    "start_time": "2023-03-24T11:10:17.542Z"
   },
   {
    "duration": 285,
    "start_time": "2023-03-24T11:10:17.981Z"
   },
   {
    "duration": 260,
    "start_time": "2023-03-24T11:10:18.397Z"
   },
   {
    "duration": 69,
    "start_time": "2023-03-24T11:10:18.668Z"
   },
   {
    "duration": 19,
    "start_time": "2023-03-24T11:10:18.912Z"
   },
   {
    "duration": 79,
    "start_time": "2023-03-24T11:10:19.104Z"
   },
   {
    "duration": 12,
    "start_time": "2023-03-24T11:10:41.527Z"
   },
   {
    "duration": 19,
    "start_time": "2023-03-24T11:10:42.579Z"
   },
   {
    "duration": 3,
    "start_time": "2023-03-24T11:10:45.999Z"
   },
   {
    "duration": 1043,
    "start_time": "2023-03-24T11:10:46.173Z"
   },
   {
    "duration": 149,
    "start_time": "2023-03-24T11:10:47.219Z"
   },
   {
    "duration": 149,
    "start_time": "2023-03-24T11:10:47.370Z"
   },
   {
    "duration": 567,
    "start_time": "2023-03-24T11:10:47.522Z"
   },
   {
    "duration": 605,
    "start_time": "2023-03-24T11:10:48.091Z"
   },
   {
    "duration": 5,
    "start_time": "2023-03-24T11:10:48.698Z"
   },
   {
    "duration": 183,
    "start_time": "2023-03-24T11:10:48.706Z"
   },
   {
    "duration": 17,
    "start_time": "2023-03-24T11:10:48.891Z"
   },
   {
    "duration": 82,
    "start_time": "2023-03-24T11:10:48.910Z"
   },
   {
    "duration": 11,
    "start_time": "2023-03-24T11:10:48.994Z"
   },
   {
    "duration": 278,
    "start_time": "2023-03-24T11:10:49.006Z"
   },
   {
    "duration": 76,
    "start_time": "2023-03-24T11:10:49.286Z"
   },
   {
    "duration": 19,
    "start_time": "2023-03-24T11:10:49.365Z"
   },
   {
    "duration": 169,
    "start_time": "2023-03-24T11:10:49.386Z"
   },
   {
    "duration": 278,
    "start_time": "2023-03-24T11:10:49.577Z"
   },
   {
    "duration": 251,
    "start_time": "2023-03-24T11:10:49.879Z"
   },
   {
    "duration": 47,
    "start_time": "2023-03-24T11:10:50.133Z"
   },
   {
    "duration": 19,
    "start_time": "2023-03-24T11:10:50.245Z"
   },
   {
    "duration": 87,
    "start_time": "2023-03-24T11:10:50.437Z"
   },
   {
    "duration": 61,
    "start_time": "2023-03-24T11:11:04.296Z"
   },
   {
    "duration": 21,
    "start_time": "2023-03-24T11:11:05.528Z"
   },
   {
    "duration": 74,
    "start_time": "2023-03-24T11:11:13.755Z"
   },
   {
    "duration": 278,
    "start_time": "2023-03-24T11:15:19.005Z"
   },
   {
    "duration": 88,
    "start_time": "2023-03-24T11:17:53.746Z"
   },
   {
    "duration": 66,
    "start_time": "2023-03-24T11:17:54.361Z"
   },
   {
    "duration": 21,
    "start_time": "2023-03-24T11:19:03.735Z"
   },
   {
    "duration": 4,
    "start_time": "2023-03-24T11:23:43.320Z"
   },
   {
    "duration": 862,
    "start_time": "2023-03-24T11:23:43.531Z"
   },
   {
    "duration": 130,
    "start_time": "2023-03-24T11:23:44.395Z"
   },
   {
    "duration": 138,
    "start_time": "2023-03-24T11:23:44.528Z"
   },
   {
    "duration": 501,
    "start_time": "2023-03-24T11:23:50.544Z"
   },
   {
    "duration": 574,
    "start_time": "2023-03-24T11:23:52.055Z"
   },
   {
    "duration": 5,
    "start_time": "2023-03-24T11:23:54.594Z"
   },
   {
    "duration": 121,
    "start_time": "2023-03-24T11:23:56.016Z"
   },
   {
    "duration": 22,
    "start_time": "2023-03-24T11:24:45.724Z"
   },
   {
    "duration": 69,
    "start_time": "2023-03-24T11:24:49.456Z"
   },
   {
    "duration": 4,
    "start_time": "2023-03-24T11:24:54.345Z"
   },
   {
    "duration": 239,
    "start_time": "2023-03-24T11:24:55.033Z"
   },
   {
    "duration": 71,
    "start_time": "2023-03-24T11:24:57.894Z"
   },
   {
    "duration": 153,
    "start_time": "2023-03-24T11:25:14.378Z"
   },
   {
    "duration": 287,
    "start_time": "2023-03-24T11:25:15.514Z"
   },
   {
    "duration": 288,
    "start_time": "2023-03-24T11:25:16.432Z"
   },
   {
    "duration": 110,
    "start_time": "2023-03-24T11:25:16.836Z"
   },
   {
    "duration": 67,
    "start_time": "2023-03-24T11:25:18.217Z"
   },
   {
    "duration": 64,
    "start_time": "2023-03-24T11:25:37.735Z"
   },
   {
    "duration": 88,
    "start_time": "2023-03-24T11:25:42.012Z"
   },
   {
    "duration": 10,
    "start_time": "2023-03-24T11:26:10.273Z"
   },
   {
    "duration": 9,
    "start_time": "2023-03-24T11:26:44.059Z"
   },
   {
    "duration": 9,
    "start_time": "2023-03-24T11:26:51.802Z"
   },
   {
    "duration": 550,
    "start_time": "2023-03-24T11:28:21.079Z"
   },
   {
    "duration": 861,
    "start_time": "2023-03-24T11:28:22.507Z"
   },
   {
    "duration": 123,
    "start_time": "2023-03-24T11:28:23.370Z"
   },
   {
    "duration": 137,
    "start_time": "2023-03-24T11:28:23.495Z"
   },
   {
    "duration": 548,
    "start_time": "2023-03-24T11:28:23.634Z"
   },
   {
    "duration": 593,
    "start_time": "2023-03-24T11:28:24.183Z"
   },
   {
    "duration": 4,
    "start_time": "2023-03-24T11:28:24.778Z"
   },
   {
    "duration": 132,
    "start_time": "2023-03-24T11:28:24.783Z"
   },
   {
    "duration": 26,
    "start_time": "2023-03-24T11:28:24.917Z"
   },
   {
    "duration": 68,
    "start_time": "2023-03-24T11:28:24.945Z"
   },
   {
    "duration": 27,
    "start_time": "2023-03-24T11:28:25.016Z"
   },
   {
    "duration": 240,
    "start_time": "2023-03-24T11:28:25.045Z"
   },
   {
    "duration": 160,
    "start_time": "2023-03-24T11:28:25.287Z"
   },
   {
    "duration": 295,
    "start_time": "2023-03-24T11:28:25.449Z"
   },
   {
    "duration": 283,
    "start_time": "2023-03-24T11:28:25.746Z"
   },
   {
    "duration": 126,
    "start_time": "2023-03-24T11:28:26.031Z"
   },
   {
    "duration": 88,
    "start_time": "2023-03-24T11:28:26.160Z"
   },
   {
    "duration": 59,
    "start_time": "2023-03-24T11:28:26.252Z"
   },
   {
    "duration": 110,
    "start_time": "2023-03-24T11:28:26.542Z"
   },
   {
    "duration": 12,
    "start_time": "2023-03-24T11:28:26.720Z"
   },
   {
    "duration": 504,
    "start_time": "2023-03-24T11:28:45.408Z"
   },
   {
    "duration": 493,
    "start_time": "2023-03-24T11:28:57.448Z"
   },
   {
    "duration": 9,
    "start_time": "2023-03-24T11:36:34.152Z"
   },
   {
    "duration": 243,
    "start_time": "2023-03-24T11:36:36.315Z"
   },
   {
    "duration": 78,
    "start_time": "2023-03-24T11:36:54.753Z"
   },
   {
    "duration": 158,
    "start_time": "2023-03-24T11:38:07.140Z"
   },
   {
    "duration": 79,
    "start_time": "2023-03-24T11:38:13.026Z"
   },
   {
    "duration": 40,
    "start_time": "2023-03-24T11:39:29.145Z"
   },
   {
    "duration": 10,
    "start_time": "2023-03-24T11:39:49.443Z"
   },
   {
    "duration": 10,
    "start_time": "2023-03-24T11:39:53.328Z"
   },
   {
    "duration": 11,
    "start_time": "2023-03-24T11:40:06.389Z"
   },
   {
    "duration": 91,
    "start_time": "2023-03-24T11:40:22.382Z"
   },
   {
    "duration": 72,
    "start_time": "2023-03-24T11:40:25.643Z"
   },
   {
    "duration": 69,
    "start_time": "2023-03-24T11:40:29.915Z"
   },
   {
    "duration": 3,
    "start_time": "2023-03-24T11:40:52.194Z"
   },
   {
    "duration": 792,
    "start_time": "2023-03-24T11:40:52.388Z"
   },
   {
    "duration": 130,
    "start_time": "2023-03-24T11:40:53.183Z"
   },
   {
    "duration": 107,
    "start_time": "2023-03-24T11:40:53.315Z"
   },
   {
    "duration": 486,
    "start_time": "2023-03-24T11:40:53.423Z"
   },
   {
    "duration": 514,
    "start_time": "2023-03-24T11:40:53.911Z"
   },
   {
    "duration": 4,
    "start_time": "2023-03-24T11:40:54.427Z"
   },
   {
    "duration": 126,
    "start_time": "2023-03-24T11:40:54.433Z"
   },
   {
    "duration": 19,
    "start_time": "2023-03-24T11:40:54.561Z"
   },
   {
    "duration": 90,
    "start_time": "2023-03-24T11:40:54.583Z"
   },
   {
    "duration": 4,
    "start_time": "2023-03-24T11:40:54.943Z"
   },
   {
    "duration": 238,
    "start_time": "2023-03-24T11:40:55.151Z"
   },
   {
    "duration": 262,
    "start_time": "2023-03-24T11:40:55.568Z"
   },
   {
    "duration": 278,
    "start_time": "2023-03-24T11:40:55.969Z"
   },
   {
    "duration": 263,
    "start_time": "2023-03-24T11:40:56.370Z"
   },
   {
    "duration": 116,
    "start_time": "2023-03-24T11:40:56.636Z"
   },
   {
    "duration": 66,
    "start_time": "2023-03-24T11:40:56.754Z"
   },
   {
    "duration": 61,
    "start_time": "2023-03-24T11:40:56.899Z"
   },
   {
    "duration": 79,
    "start_time": "2023-03-24T11:40:57.251Z"
   },
   {
    "duration": 11,
    "start_time": "2023-03-24T11:40:57.523Z"
   },
   {
    "duration": 29,
    "start_time": "2023-03-24T11:40:58.209Z"
   },
   {
    "duration": 60,
    "start_time": "2023-03-24T11:41:02.483Z"
   },
   {
    "duration": 507,
    "start_time": "2023-03-24T11:41:11.066Z"
   },
   {
    "duration": 124,
    "start_time": "2023-03-24T11:44:13.876Z"
   },
   {
    "duration": 337,
    "start_time": "2023-03-24T11:44:19.183Z"
   },
   {
    "duration": 369,
    "start_time": "2023-03-24T11:44:28.877Z"
   },
   {
    "duration": 45,
    "start_time": "2023-03-24T11:52:10.192Z"
   },
   {
    "duration": 32,
    "start_time": "2023-03-24T11:52:44.927Z"
   },
   {
    "duration": 73,
    "start_time": "2023-03-24T11:53:08.188Z"
   },
   {
    "duration": 4,
    "start_time": "2023-03-24T11:53:24.486Z"
   },
   {
    "duration": 1001,
    "start_time": "2023-03-24T11:53:24.673Z"
   },
   {
    "duration": 179,
    "start_time": "2023-03-24T11:53:25.676Z"
   },
   {
    "duration": 194,
    "start_time": "2023-03-24T11:53:25.858Z"
   },
   {
    "duration": 531,
    "start_time": "2023-03-24T11:53:26.055Z"
   },
   {
    "duration": 583,
    "start_time": "2023-03-24T11:53:26.591Z"
   },
   {
    "duration": 5,
    "start_time": "2023-03-24T11:53:27.176Z"
   },
   {
    "duration": 136,
    "start_time": "2023-03-24T11:53:27.182Z"
   },
   {
    "duration": 30,
    "start_time": "2023-03-24T11:53:27.320Z"
   },
   {
    "duration": 72,
    "start_time": "2023-03-24T11:53:27.352Z"
   },
   {
    "duration": 12,
    "start_time": "2023-03-24T11:53:27.440Z"
   },
   {
    "duration": 280,
    "start_time": "2023-03-24T11:53:27.454Z"
   },
   {
    "duration": 168,
    "start_time": "2023-03-24T11:53:27.736Z"
   },
   {
    "duration": 295,
    "start_time": "2023-03-24T11:53:27.907Z"
   },
   {
    "duration": 303,
    "start_time": "2023-03-24T11:53:28.206Z"
   },
   {
    "duration": 109,
    "start_time": "2023-03-24T11:53:28.511Z"
   },
   {
    "duration": 73,
    "start_time": "2023-03-24T11:53:28.744Z"
   },
   {
    "duration": 69,
    "start_time": "2023-03-24T11:53:28.936Z"
   },
   {
    "duration": 113,
    "start_time": "2023-03-24T11:53:29.290Z"
   },
   {
    "duration": 13,
    "start_time": "2023-03-24T11:53:29.479Z"
   },
   {
    "duration": 86,
    "start_time": "2023-03-24T11:53:29.628Z"
   },
   {
    "duration": 30,
    "start_time": "2023-03-24T11:59:40.573Z"
   },
   {
    "duration": 3,
    "start_time": "2023-03-24T11:59:54.827Z"
   },
   {
    "duration": 873,
    "start_time": "2023-03-24T11:59:54.974Z"
   },
   {
    "duration": 137,
    "start_time": "2023-03-24T11:59:55.849Z"
   },
   {
    "duration": 175,
    "start_time": "2023-03-24T11:59:55.988Z"
   },
   {
    "duration": 549,
    "start_time": "2023-03-24T11:59:56.166Z"
   },
   {
    "duration": 573,
    "start_time": "2023-03-24T11:59:56.717Z"
   },
   {
    "duration": 5,
    "start_time": "2023-03-24T11:59:57.292Z"
   },
   {
    "duration": 154,
    "start_time": "2023-03-24T11:59:57.300Z"
   },
   {
    "duration": 24,
    "start_time": "2023-03-24T11:59:57.456Z"
   },
   {
    "duration": 97,
    "start_time": "2023-03-24T11:59:57.482Z"
   },
   {
    "duration": 5,
    "start_time": "2023-03-24T11:59:57.581Z"
   },
   {
    "duration": 275,
    "start_time": "2023-03-24T11:59:57.589Z"
   },
   {
    "duration": 286,
    "start_time": "2023-03-24T11:59:57.867Z"
   },
   {
    "duration": 316,
    "start_time": "2023-03-24T11:59:58.155Z"
   },
   {
    "duration": 276,
    "start_time": "2023-03-24T11:59:58.516Z"
   },
   {
    "duration": 105,
    "start_time": "2023-03-24T11:59:58.795Z"
   },
   {
    "duration": 71,
    "start_time": "2023-03-24T11:59:58.902Z"
   },
   {
    "duration": 58,
    "start_time": "2023-03-24T11:59:59.069Z"
   },
   {
    "duration": 114,
    "start_time": "2023-03-24T11:59:59.454Z"
   },
   {
    "duration": 12,
    "start_time": "2023-03-24T12:00:00.289Z"
   },
   {
    "duration": 41,
    "start_time": "2023-03-24T12:00:01.810Z"
   },
   {
    "duration": 198,
    "start_time": "2023-03-24T12:00:29.086Z"
   },
   {
    "duration": 368,
    "start_time": "2023-03-24T12:00:38.057Z"
   },
   {
    "duration": 23,
    "start_time": "2023-03-24T12:00:49.512Z"
   },
   {
    "duration": 406,
    "start_time": "2023-03-24T12:00:55.924Z"
   },
   {
    "duration": 439,
    "start_time": "2023-03-24T12:01:04.894Z"
   },
   {
    "duration": 84,
    "start_time": "2023-03-24T12:01:13.403Z"
   },
   {
    "duration": 14,
    "start_time": "2023-03-24T12:02:05.243Z"
   },
   {
    "duration": 55,
    "start_time": "2023-03-24T12:02:13.937Z"
   },
   {
    "duration": 7,
    "start_time": "2023-03-24T12:03:30.076Z"
   },
   {
    "duration": 25,
    "start_time": "2023-03-24T12:04:02.788Z"
   },
   {
    "duration": 8,
    "start_time": "2023-03-24T12:04:35.477Z"
   },
   {
    "duration": 13,
    "start_time": "2023-03-24T12:04:39.940Z"
   },
   {
    "duration": 343,
    "start_time": "2023-03-24T12:06:36.878Z"
   },
   {
    "duration": 546,
    "start_time": "2023-03-24T12:07:40.927Z"
   },
   {
    "duration": 420,
    "start_time": "2023-03-24T12:07:54.205Z"
   },
   {
    "duration": 423,
    "start_time": "2023-03-24T12:07:59.937Z"
   },
   {
    "duration": 414,
    "start_time": "2023-03-24T12:08:47.408Z"
   },
   {
    "duration": 522,
    "start_time": "2023-03-24T12:11:21.837Z"
   },
   {
    "duration": 29,
    "start_time": "2023-03-24T12:13:13.414Z"
   },
   {
    "duration": 414,
    "start_time": "2023-03-24T12:13:25.163Z"
   },
   {
    "duration": 35,
    "start_time": "2023-03-24T12:13:38.203Z"
   },
   {
    "duration": 383,
    "start_time": "2023-03-24T12:13:38.746Z"
   },
   {
    "duration": 401,
    "start_time": "2023-03-24T12:13:49.478Z"
   },
   {
    "duration": 516,
    "start_time": "2023-03-24T12:14:01.378Z"
   },
   {
    "duration": 394,
    "start_time": "2023-03-24T12:14:13.116Z"
   },
   {
    "duration": 4,
    "start_time": "2023-03-24T12:14:33.108Z"
   },
   {
    "duration": 982,
    "start_time": "2023-03-24T12:14:33.284Z"
   },
   {
    "duration": 137,
    "start_time": "2023-03-24T12:14:34.269Z"
   },
   {
    "duration": 140,
    "start_time": "2023-03-24T12:14:34.408Z"
   },
   {
    "duration": 552,
    "start_time": "2023-03-24T12:14:34.551Z"
   },
   {
    "duration": 656,
    "start_time": "2023-03-24T12:14:35.105Z"
   },
   {
    "duration": 6,
    "start_time": "2023-03-24T12:14:35.764Z"
   },
   {
    "duration": 236,
    "start_time": "2023-03-24T12:14:35.773Z"
   },
   {
    "duration": 42,
    "start_time": "2023-03-24T12:14:36.012Z"
   },
   {
    "duration": 110,
    "start_time": "2023-03-24T12:14:36.056Z"
   },
   {
    "duration": 9,
    "start_time": "2023-03-24T12:14:36.169Z"
   },
   {
    "duration": 296,
    "start_time": "2023-03-24T12:14:36.180Z"
   },
   {
    "duration": 168,
    "start_time": "2023-03-24T12:14:36.479Z"
   },
   {
    "duration": 344,
    "start_time": "2023-03-24T12:14:36.650Z"
   },
   {
    "duration": 306,
    "start_time": "2023-03-24T12:14:37.023Z"
   },
   {
    "duration": 97,
    "start_time": "2023-03-24T12:14:37.332Z"
   },
   {
    "duration": 74,
    "start_time": "2023-03-24T12:14:37.431Z"
   },
   {
    "duration": 78,
    "start_time": "2023-03-24T12:14:37.601Z"
   },
   {
    "duration": 85,
    "start_time": "2023-03-24T12:14:37.978Z"
   },
   {
    "duration": 576,
    "start_time": "2023-03-24T12:14:38.169Z"
   },
   {
    "duration": 390,
    "start_time": "2023-03-24T12:14:38.747Z"
   },
   {
    "duration": 23,
    "start_time": "2023-03-24T12:14:39.140Z"
   },
   {
    "duration": 503,
    "start_time": "2023-03-24T12:14:39.165Z"
   },
   {
    "duration": 25,
    "start_time": "2023-03-24T12:14:39.670Z"
   },
   {
    "duration": 375,
    "start_time": "2023-03-24T12:14:39.697Z"
   },
   {
    "duration": 3,
    "start_time": "2023-03-24T12:15:46.291Z"
   },
   {
    "duration": 1044,
    "start_time": "2023-03-24T12:15:46.447Z"
   },
   {
    "duration": 132,
    "start_time": "2023-03-24T12:15:47.493Z"
   },
   {
    "duration": 134,
    "start_time": "2023-03-24T12:15:47.627Z"
   },
   {
    "duration": 544,
    "start_time": "2023-03-24T12:15:47.764Z"
   },
   {
    "duration": 592,
    "start_time": "2023-03-24T12:15:48.310Z"
   },
   {
    "duration": 6,
    "start_time": "2023-03-24T12:15:48.904Z"
   },
   {
    "duration": 145,
    "start_time": "2023-03-24T12:15:48.913Z"
   },
   {
    "duration": 27,
    "start_time": "2023-03-24T12:15:49.060Z"
   },
   {
    "duration": 154,
    "start_time": "2023-03-24T12:15:49.089Z"
   },
   {
    "duration": 8,
    "start_time": "2023-03-24T12:15:49.246Z"
   },
   {
    "duration": 262,
    "start_time": "2023-03-24T12:15:49.257Z"
   },
   {
    "duration": 163,
    "start_time": "2023-03-24T12:15:49.522Z"
   },
   {
    "duration": 297,
    "start_time": "2023-03-24T12:15:49.687Z"
   },
   {
    "duration": 279,
    "start_time": "2023-03-24T12:15:49.986Z"
   },
   {
    "duration": 103,
    "start_time": "2023-03-24T12:15:50.268Z"
   },
   {
    "duration": 74,
    "start_time": "2023-03-24T12:15:50.373Z"
   },
   {
    "duration": 60,
    "start_time": "2023-03-24T12:15:50.449Z"
   },
   {
    "duration": 89,
    "start_time": "2023-03-24T12:15:50.759Z"
   },
   {
    "duration": 533,
    "start_time": "2023-03-24T12:15:52.528Z"
   },
   {
    "duration": 412,
    "start_time": "2023-03-24T12:15:53.064Z"
   },
   {
    "duration": 23,
    "start_time": "2023-03-24T12:15:53.478Z"
   },
   {
    "duration": 514,
    "start_time": "2023-03-24T12:15:57.471Z"
   },
   {
    "duration": 29,
    "start_time": "2023-03-24T12:16:05.829Z"
   },
   {
    "duration": 402,
    "start_time": "2023-03-24T12:16:06.981Z"
   },
   {
    "duration": 14,
    "start_time": "2023-03-24T12:28:29.470Z"
   },
   {
    "duration": 85,
    "start_time": "2023-03-24T12:28:46.389Z"
   },
   {
    "duration": 444,
    "start_time": "2023-03-24T12:28:54.105Z"
   },
   {
    "duration": 406,
    "start_time": "2023-03-24T12:35:50.925Z"
   },
   {
    "duration": 605,
    "start_time": "2023-03-24T12:37:10.859Z"
   },
   {
    "duration": 424,
    "start_time": "2023-03-24T12:38:27.062Z"
   },
   {
    "duration": 374,
    "start_time": "2023-03-24T12:38:44.658Z"
   },
   {
    "duration": 309,
    "start_time": "2023-03-24T12:39:38.399Z"
   },
   {
    "duration": 382,
    "start_time": "2023-03-24T12:39:52.963Z"
   },
   {
    "duration": 141,
    "start_time": "2023-03-24T12:40:01.478Z"
   },
   {
    "duration": 131,
    "start_time": "2023-03-24T12:40:10.755Z"
   },
   {
    "duration": 73,
    "start_time": "2023-03-24T12:40:53.432Z"
   },
   {
    "duration": 52,
    "start_time": "2023-03-24T12:41:31.857Z"
   },
   {
    "duration": 5,
    "start_time": "2023-03-24T12:44:43.407Z"
   },
   {
    "duration": 15,
    "start_time": "2023-03-24T12:55:07.240Z"
   },
   {
    "duration": 4,
    "start_time": "2023-03-24T17:25:15.591Z"
   },
   {
    "duration": 1020,
    "start_time": "2023-03-24T17:25:15.782Z"
   },
   {
    "duration": 125,
    "start_time": "2023-03-24T17:25:16.804Z"
   },
   {
    "duration": 136,
    "start_time": "2023-03-24T17:25:16.931Z"
   },
   {
    "duration": 523,
    "start_time": "2023-03-24T17:25:17.070Z"
   },
   {
    "duration": 561,
    "start_time": "2023-03-24T17:25:17.594Z"
   },
   {
    "duration": 5,
    "start_time": "2023-03-24T17:25:18.158Z"
   },
   {
    "duration": 149,
    "start_time": "2023-03-24T17:25:18.165Z"
   },
   {
    "duration": 31,
    "start_time": "2023-03-24T17:25:18.316Z"
   },
   {
    "duration": 99,
    "start_time": "2023-03-24T17:25:18.350Z"
   },
   {
    "duration": 6,
    "start_time": "2023-03-24T17:25:18.451Z"
   },
   {
    "duration": 249,
    "start_time": "2023-03-24T17:25:18.459Z"
   },
   {
    "duration": 171,
    "start_time": "2023-03-24T17:25:18.711Z"
   },
   {
    "duration": 650,
    "start_time": "2023-03-24T17:25:18.886Z"
   },
   {
    "duration": 0,
    "start_time": "2023-03-24T17:25:19.539Z"
   },
   {
    "duration": 0,
    "start_time": "2023-03-24T17:25:19.540Z"
   },
   {
    "duration": 0,
    "start_time": "2023-03-24T17:25:19.544Z"
   },
   {
    "duration": 116,
    "start_time": "2023-03-24T17:25:19.778Z"
   },
   {
    "duration": 86,
    "start_time": "2023-03-24T17:25:20.080Z"
   },
   {
    "duration": 556,
    "start_time": "2023-03-24T17:25:20.766Z"
   },
   {
    "duration": 429,
    "start_time": "2023-03-24T17:25:21.325Z"
   },
   {
    "duration": 24,
    "start_time": "2023-03-24T17:25:21.757Z"
   },
   {
    "duration": 379,
    "start_time": "2023-03-24T17:25:21.784Z"
   },
   {
    "duration": 31,
    "start_time": "2023-03-24T17:25:22.166Z"
   },
   {
    "duration": 416,
    "start_time": "2023-03-24T17:25:22.199Z"
   },
   {
    "duration": 470,
    "start_time": "2023-03-24T17:25:22.617Z"
   },
   {
    "duration": 636,
    "start_time": "2023-03-24T17:25:23.092Z"
   },
   {
    "duration": 415,
    "start_time": "2023-03-24T17:25:23.730Z"
   },
   {
    "duration": 345,
    "start_time": "2023-03-24T17:25:24.147Z"
   },
   {
    "duration": 229,
    "start_time": "2023-03-24T17:25:24.495Z"
   },
   {
    "duration": 67,
    "start_time": "2023-03-24T17:25:24.727Z"
   },
   {
    "duration": 5,
    "start_time": "2023-03-24T17:25:24.797Z"
   },
   {
    "duration": 3,
    "start_time": "2023-03-24T17:25:24.937Z"
   },
   {
    "duration": 58,
    "start_time": "2023-03-24T17:25:34.904Z"
   },
   {
    "duration": 304,
    "start_time": "2023-03-24T17:25:58.095Z"
   },
   {
    "duration": 4,
    "start_time": "2023-03-24T17:26:00.832Z"
   },
   {
    "duration": 918,
    "start_time": "2023-03-24T17:26:01.023Z"
   },
   {
    "duration": 130,
    "start_time": "2023-03-24T17:26:01.943Z"
   },
   {
    "duration": 137,
    "start_time": "2023-03-24T17:26:02.075Z"
   },
   {
    "duration": 526,
    "start_time": "2023-03-24T17:26:02.215Z"
   },
   {
    "duration": 544,
    "start_time": "2023-03-24T17:26:02.743Z"
   },
   {
    "duration": 5,
    "start_time": "2023-03-24T17:26:03.290Z"
   },
   {
    "duration": 149,
    "start_time": "2023-03-24T17:26:03.297Z"
   },
   {
    "duration": 20,
    "start_time": "2023-03-24T17:26:03.448Z"
   },
   {
    "duration": 103,
    "start_time": "2023-03-24T17:26:03.470Z"
   },
   {
    "duration": 5,
    "start_time": "2023-03-24T17:26:03.575Z"
   },
   {
    "duration": 266,
    "start_time": "2023-03-24T17:26:03.583Z"
   },
   {
    "duration": 164,
    "start_time": "2023-03-24T17:26:03.852Z"
   },
   {
    "duration": 378,
    "start_time": "2023-03-24T17:26:04.019Z"
   },
   {
    "duration": 285,
    "start_time": "2023-03-24T17:26:04.404Z"
   },
   {
    "duration": 101,
    "start_time": "2023-03-24T17:26:04.691Z"
   },
   {
    "duration": 75,
    "start_time": "2023-03-24T17:26:04.794Z"
   },
   {
    "duration": 56,
    "start_time": "2023-03-24T17:26:04.936Z"
   },
   {
    "duration": 113,
    "start_time": "2023-03-24T17:26:05.333Z"
   },
   {
    "duration": 619,
    "start_time": "2023-03-24T17:26:05.522Z"
   },
   {
    "duration": 422,
    "start_time": "2023-03-24T17:26:06.144Z"
   },
   {
    "duration": 24,
    "start_time": "2023-03-24T17:26:06.568Z"
   },
   {
    "duration": 410,
    "start_time": "2023-03-24T17:26:06.595Z"
   },
   {
    "duration": 43,
    "start_time": "2023-03-24T17:26:07.007Z"
   },
   {
    "duration": 668,
    "start_time": "2023-03-24T17:26:07.058Z"
   },
   {
    "duration": 422,
    "start_time": "2023-03-24T17:26:07.728Z"
   },
   {
    "duration": 417,
    "start_time": "2023-03-24T17:26:08.153Z"
   },
   {
    "duration": 401,
    "start_time": "2023-03-24T17:26:08.571Z"
   },
   {
    "duration": 368,
    "start_time": "2023-03-24T17:26:08.974Z"
   },
   {
    "duration": 162,
    "start_time": "2023-03-24T17:26:09.344Z"
   },
   {
    "duration": 48,
    "start_time": "2023-03-24T17:26:09.508Z"
   },
   {
    "duration": 21,
    "start_time": "2023-03-24T17:26:09.558Z"
   },
   {
    "duration": 4,
    "start_time": "2023-03-24T17:26:09.632Z"
   },
   {
    "duration": 253,
    "start_time": "2023-03-24T17:29:39.728Z"
   },
   {
    "duration": 18,
    "start_time": "2023-03-24T17:33:51.085Z"
   },
   {
    "duration": 4,
    "start_time": "2023-03-24T17:33:54.634Z"
   },
   {
    "duration": 18,
    "start_time": "2023-03-24T17:33:57.765Z"
   },
   {
    "duration": 10,
    "start_time": "2023-03-24T17:34:02.684Z"
   },
   {
    "duration": 18,
    "start_time": "2023-03-24T17:34:08.250Z"
   },
   {
    "duration": 1770,
    "start_time": "2023-03-24T20:26:39.844Z"
   },
   {
    "duration": 1590,
    "start_time": "2023-03-24T20:26:41.616Z"
   },
   {
    "duration": 179,
    "start_time": "2023-03-24T20:26:43.215Z"
   },
   {
    "duration": 137,
    "start_time": "2023-03-24T20:26:43.406Z"
   },
   {
    "duration": 522,
    "start_time": "2023-03-24T20:26:43.545Z"
   },
   {
    "duration": 563,
    "start_time": "2023-03-24T20:26:44.068Z"
   },
   {
    "duration": 4,
    "start_time": "2023-03-24T20:26:44.635Z"
   },
   {
    "duration": 136,
    "start_time": "2023-03-24T20:26:44.641Z"
   },
   {
    "duration": 18,
    "start_time": "2023-03-24T20:26:44.779Z"
   },
   {
    "duration": 131,
    "start_time": "2023-03-24T20:26:44.799Z"
   },
   {
    "duration": 6,
    "start_time": "2023-03-24T20:26:44.933Z"
   },
   {
    "duration": 321,
    "start_time": "2023-03-24T20:26:44.941Z"
   },
   {
    "duration": 163,
    "start_time": "2023-03-24T20:26:45.264Z"
   },
   {
    "duration": 349,
    "start_time": "2023-03-24T20:26:45.429Z"
   },
   {
    "duration": 281,
    "start_time": "2023-03-24T20:26:45.783Z"
   },
   {
    "duration": 108,
    "start_time": "2023-03-24T20:26:46.065Z"
   },
   {
    "duration": 78,
    "start_time": "2023-03-24T20:26:46.174Z"
   },
   {
    "duration": 82,
    "start_time": "2023-03-24T20:26:46.254Z"
   },
   {
    "duration": 95,
    "start_time": "2023-03-24T20:26:46.339Z"
   },
   {
    "duration": 524,
    "start_time": "2023-03-24T20:26:46.436Z"
   },
   {
    "duration": 351,
    "start_time": "2023-03-24T20:26:46.961Z"
   },
   {
    "duration": 18,
    "start_time": "2023-03-24T20:26:47.314Z"
   },
   {
    "duration": 375,
    "start_time": "2023-03-24T20:26:47.334Z"
   },
   {
    "duration": 29,
    "start_time": "2023-03-24T20:26:47.711Z"
   },
   {
    "duration": 374,
    "start_time": "2023-03-24T20:26:47.742Z"
   },
   {
    "duration": 336,
    "start_time": "2023-03-24T20:26:48.118Z"
   },
   {
    "duration": 310,
    "start_time": "2023-03-24T20:26:48.455Z"
   },
   {
    "duration": 438,
    "start_time": "2023-03-24T20:26:48.772Z"
   },
   {
    "duration": 300,
    "start_time": "2023-03-24T20:26:49.214Z"
   },
   {
    "duration": 120,
    "start_time": "2023-03-24T20:26:49.516Z"
   },
   {
    "duration": 46,
    "start_time": "2023-03-24T20:26:49.638Z"
   },
   {
    "duration": 25,
    "start_time": "2023-03-24T20:26:49.685Z"
   },
   {
    "duration": 15,
    "start_time": "2023-03-24T20:30:17.502Z"
   },
   {
    "duration": 9,
    "start_time": "2023-03-24T20:30:18.534Z"
   },
   {
    "duration": 371,
    "start_time": "2023-03-24T20:30:20.225Z"
   },
   {
    "duration": 353,
    "start_time": "2023-03-24T20:30:40.896Z"
   },
   {
    "duration": 275,
    "start_time": "2023-03-24T20:30:44.730Z"
   },
   {
    "duration": 253,
    "start_time": "2023-03-24T20:34:09.485Z"
   },
   {
    "duration": 3,
    "start_time": "2023-03-24T20:36:43.696Z"
   },
   {
    "duration": 775,
    "start_time": "2023-03-24T20:36:43.844Z"
   },
   {
    "duration": 112,
    "start_time": "2023-03-24T20:36:44.621Z"
   },
   {
    "duration": 123,
    "start_time": "2023-03-24T20:36:44.736Z"
   },
   {
    "duration": 392,
    "start_time": "2023-03-24T20:36:44.861Z"
   },
   {
    "duration": 430,
    "start_time": "2023-03-24T20:36:45.255Z"
   },
   {
    "duration": 6,
    "start_time": "2023-03-24T20:36:45.688Z"
   },
   {
    "duration": 141,
    "start_time": "2023-03-24T20:36:45.696Z"
   },
   {
    "duration": 15,
    "start_time": "2023-03-24T20:36:45.839Z"
   },
   {
    "duration": 87,
    "start_time": "2023-03-24T20:36:45.855Z"
   },
   {
    "duration": 8,
    "start_time": "2023-03-24T20:36:45.944Z"
   },
   {
    "duration": 363,
    "start_time": "2023-03-24T20:36:46.044Z"
   },
   {
    "duration": 168,
    "start_time": "2023-03-24T20:36:46.409Z"
   },
   {
    "duration": 375,
    "start_time": "2023-03-24T20:36:46.714Z"
   },
   {
    "duration": 253,
    "start_time": "2023-03-24T20:36:47.091Z"
   },
   {
    "duration": 97,
    "start_time": "2023-03-24T20:36:47.346Z"
   },
   {
    "duration": 58,
    "start_time": "2023-03-24T20:36:47.444Z"
   },
   {
    "duration": 56,
    "start_time": "2023-03-24T20:36:47.535Z"
   },
   {
    "duration": 99,
    "start_time": "2023-03-24T20:36:47.893Z"
   },
   {
    "duration": 391,
    "start_time": "2023-03-24T20:36:48.061Z"
   },
   {
    "duration": 384,
    "start_time": "2023-03-24T20:36:48.454Z"
   },
   {
    "duration": 18,
    "start_time": "2023-03-24T20:36:48.840Z"
   },
   {
    "duration": 311,
    "start_time": "2023-03-24T20:36:48.859Z"
   },
   {
    "duration": 27,
    "start_time": "2023-03-24T20:36:49.178Z"
   },
   {
    "duration": 301,
    "start_time": "2023-03-24T20:36:49.208Z"
   },
   {
    "duration": 317,
    "start_time": "2023-03-24T20:36:49.511Z"
   },
   {
    "duration": 464,
    "start_time": "2023-03-24T20:36:49.830Z"
   },
   {
    "duration": 351,
    "start_time": "2023-03-24T20:36:50.296Z"
   },
   {
    "duration": 280,
    "start_time": "2023-03-24T20:36:50.648Z"
   },
   {
    "duration": 186,
    "start_time": "2023-03-24T20:36:50.931Z"
   },
   {
    "duration": 78,
    "start_time": "2023-03-24T20:36:51.119Z"
   },
   {
    "duration": 9,
    "start_time": "2023-03-24T20:36:51.199Z"
   },
   {
    "duration": 34,
    "start_time": "2023-03-24T20:36:51.210Z"
   },
   {
    "duration": 11,
    "start_time": "2023-03-24T20:36:51.291Z"
   },
   {
    "duration": 25,
    "start_time": "2023-03-24T20:36:51.464Z"
   },
   {
    "duration": 241,
    "start_time": "2023-03-24T20:36:52.622Z"
   },
   {
    "duration": 238,
    "start_time": "2023-03-24T20:38:34.553Z"
   },
   {
    "duration": 15,
    "start_time": "2023-03-24T20:39:08.477Z"
   },
   {
    "duration": 33,
    "start_time": "2023-03-24T20:42:55.685Z"
   },
   {
    "duration": 4,
    "start_time": "2023-03-24T20:46:49.693Z"
   },
   {
    "duration": 724,
    "start_time": "2023-03-24T20:46:49.699Z"
   },
   {
    "duration": 109,
    "start_time": "2023-03-24T20:46:50.425Z"
   },
   {
    "duration": 128,
    "start_time": "2023-03-24T20:46:50.536Z"
   },
   {
    "duration": 382,
    "start_time": "2023-03-24T20:46:50.673Z"
   },
   {
    "duration": 407,
    "start_time": "2023-03-24T20:46:51.057Z"
   },
   {
    "duration": 8,
    "start_time": "2023-03-24T20:46:51.466Z"
   },
   {
    "duration": 123,
    "start_time": "2023-03-24T20:46:51.476Z"
   },
   {
    "duration": 17,
    "start_time": "2023-03-24T20:46:51.601Z"
   },
   {
    "duration": 82,
    "start_time": "2023-03-24T20:46:51.620Z"
   },
   {
    "duration": 4,
    "start_time": "2023-03-24T20:46:51.704Z"
   },
   {
    "duration": 229,
    "start_time": "2023-03-24T20:46:51.710Z"
   },
   {
    "duration": 132,
    "start_time": "2023-03-24T20:46:51.941Z"
   },
   {
    "duration": 316,
    "start_time": "2023-03-24T20:46:52.075Z"
   },
   {
    "duration": 215,
    "start_time": "2023-03-24T20:46:52.393Z"
   },
   {
    "duration": 86,
    "start_time": "2023-03-24T20:46:52.609Z"
   },
   {
    "duration": 50,
    "start_time": "2023-03-24T20:46:52.697Z"
   },
   {
    "duration": 48,
    "start_time": "2023-03-24T20:46:52.861Z"
   },
   {
    "duration": 77,
    "start_time": "2023-03-24T20:46:53.252Z"
   },
   {
    "duration": 387,
    "start_time": "2023-03-24T20:46:53.440Z"
   },
   {
    "duration": 436,
    "start_time": "2023-03-24T20:46:53.829Z"
   },
   {
    "duration": 19,
    "start_time": "2023-03-24T20:46:54.421Z"
   },
   {
    "duration": 254,
    "start_time": "2023-03-24T20:46:54.629Z"
   },
   {
    "duration": 19,
    "start_time": "2023-03-24T20:46:54.885Z"
   },
   {
    "duration": 389,
    "start_time": "2023-03-24T20:46:55.029Z"
   },
   {
    "duration": 317,
    "start_time": "2023-03-24T20:46:55.419Z"
   },
   {
    "duration": 344,
    "start_time": "2023-03-24T20:46:55.739Z"
   },
   {
    "duration": 466,
    "start_time": "2023-03-24T20:46:56.085Z"
   },
   {
    "duration": 275,
    "start_time": "2023-03-24T20:46:56.554Z"
   },
   {
    "duration": 132,
    "start_time": "2023-03-24T20:46:56.831Z"
   },
   {
    "duration": 44,
    "start_time": "2023-03-24T20:46:56.972Z"
   },
   {
    "duration": 4,
    "start_time": "2023-03-24T20:46:57.018Z"
   },
   {
    "duration": 20,
    "start_time": "2023-03-24T20:46:57.419Z"
   },
   {
    "duration": 3,
    "start_time": "2023-03-24T20:46:57.622Z"
   },
   {
    "duration": 242,
    "start_time": "2023-03-24T20:46:58.022Z"
   },
   {
    "duration": 38,
    "start_time": "2023-03-24T20:46:58.266Z"
   },
   {
    "duration": 9,
    "start_time": "2023-03-24T20:46:58.431Z"
   },
   {
    "duration": 137,
    "start_time": "2023-03-24T20:47:21.961Z"
   },
   {
    "duration": 41,
    "start_time": "2023-03-24T20:54:31.386Z"
   },
   {
    "duration": 3,
    "start_time": "2023-03-24T20:54:44.429Z"
   },
   {
    "duration": 164,
    "start_time": "2023-03-24T20:54:50.814Z"
   },
   {
    "duration": 125,
    "start_time": "2023-03-24T20:57:12.992Z"
   },
   {
    "duration": 17,
    "start_time": "2023-03-24T20:57:29.934Z"
   },
   {
    "duration": 34,
    "start_time": "2023-03-24T20:57:34.125Z"
   },
   {
    "duration": 3,
    "start_time": "2023-03-24T20:57:43.320Z"
   },
   {
    "duration": 59,
    "start_time": "2023-03-24T20:57:52.746Z"
   },
   {
    "duration": 34,
    "start_time": "2023-03-24T21:02:52.109Z"
   },
   {
    "duration": 34,
    "start_time": "2023-03-24T21:03:14.912Z"
   },
   {
    "duration": 73,
    "start_time": "2023-03-24T21:27:05.717Z"
   },
   {
    "duration": 5,
    "start_time": "2023-03-24T21:30:23.988Z"
   },
   {
    "duration": 4,
    "start_time": "2023-03-24T21:35:58.516Z"
   },
   {
    "duration": 770,
    "start_time": "2023-03-24T21:35:58.667Z"
   },
   {
    "duration": 116,
    "start_time": "2023-03-24T21:35:59.440Z"
   },
   {
    "duration": 133,
    "start_time": "2023-03-24T21:35:59.558Z"
   },
   {
    "duration": 402,
    "start_time": "2023-03-24T21:35:59.711Z"
   },
   {
    "duration": 454,
    "start_time": "2023-03-24T21:36:00.114Z"
   },
   {
    "duration": 4,
    "start_time": "2023-03-24T21:36:00.571Z"
   },
   {
    "duration": 131,
    "start_time": "2023-03-24T21:36:00.576Z"
   },
   {
    "duration": 29,
    "start_time": "2023-03-24T21:36:00.708Z"
   },
   {
    "duration": 70,
    "start_time": "2023-03-24T21:36:00.988Z"
   },
   {
    "duration": 36,
    "start_time": "2023-03-24T21:36:01.060Z"
   },
   {
    "duration": 329,
    "start_time": "2023-03-24T21:36:01.102Z"
   },
   {
    "duration": 163,
    "start_time": "2023-03-24T21:36:01.467Z"
   },
   {
    "duration": 311,
    "start_time": "2023-03-24T21:36:01.793Z"
   },
   {
    "duration": 227,
    "start_time": "2023-03-24T21:36:02.145Z"
   },
   {
    "duration": 90,
    "start_time": "2023-03-24T21:36:02.373Z"
   },
   {
    "duration": 49,
    "start_time": "2023-03-24T21:36:02.493Z"
   },
   {
    "duration": 90,
    "start_time": "2023-03-24T21:36:02.687Z"
   },
   {
    "duration": 81,
    "start_time": "2023-03-24T21:36:03.074Z"
   },
   {
    "duration": 475,
    "start_time": "2023-03-24T21:36:03.287Z"
   },
   {
    "duration": 316,
    "start_time": "2023-03-24T21:36:03.764Z"
   },
   {
    "duration": 20,
    "start_time": "2023-03-24T21:36:04.082Z"
   },
   {
    "duration": 320,
    "start_time": "2023-03-24T21:36:04.104Z"
   },
   {
    "duration": 26,
    "start_time": "2023-03-24T21:36:04.427Z"
   },
   {
    "duration": 534,
    "start_time": "2023-03-24T21:36:04.456Z"
   },
   {
    "duration": 341,
    "start_time": "2023-03-24T21:36:04.993Z"
   },
   {
    "duration": 316,
    "start_time": "2023-03-24T21:36:05.336Z"
   },
   {
    "duration": 379,
    "start_time": "2023-03-24T21:36:05.653Z"
   },
   {
    "duration": 480,
    "start_time": "2023-03-24T21:36:06.034Z"
   },
   {
    "duration": 171,
    "start_time": "2023-03-24T21:36:06.531Z"
   },
   {
    "duration": 41,
    "start_time": "2023-03-24T21:36:06.704Z"
   },
   {
    "duration": 4,
    "start_time": "2023-03-24T21:36:06.747Z"
   },
   {
    "duration": 43,
    "start_time": "2023-03-24T21:36:06.753Z"
   },
   {
    "duration": 3,
    "start_time": "2023-03-24T21:36:06.831Z"
   },
   {
    "duration": 340,
    "start_time": "2023-03-24T21:36:07.014Z"
   },
   {
    "duration": 2,
    "start_time": "2023-03-24T21:36:07.357Z"
   },
   {
    "duration": 13,
    "start_time": "2023-03-24T21:36:07.378Z"
   },
   {
    "duration": 46,
    "start_time": "2023-03-24T21:36:07.561Z"
   },
   {
    "duration": 24,
    "start_time": "2023-03-24T21:36:08.392Z"
   },
   {
    "duration": 904,
    "start_time": "2023-03-24T21:42:10.593Z"
   },
   {
    "duration": 36,
    "start_time": "2023-03-24T21:45:07.611Z"
   },
   {
    "duration": 139,
    "start_time": "2023-03-24T21:45:23.051Z"
   },
   {
    "duration": 124,
    "start_time": "2023-03-24T21:45:32.457Z"
   },
   {
    "duration": 44,
    "start_time": "2023-03-24T21:46:25.551Z"
   },
   {
    "duration": 128,
    "start_time": "2023-03-24T21:47:06.957Z"
   },
   {
    "duration": 800,
    "start_time": "2023-03-24T21:48:05.285Z"
   },
   {
    "duration": 676,
    "start_time": "2023-03-24T21:48:16.822Z"
   },
   {
    "duration": 696,
    "start_time": "2023-03-24T21:48:31.699Z"
   },
   {
    "duration": 798,
    "start_time": "2023-03-24T21:50:46.611Z"
   },
   {
    "duration": 5,
    "start_time": "2023-03-24T21:54:07.045Z"
   },
   {
    "duration": 810,
    "start_time": "2023-03-24T21:54:07.179Z"
   },
   {
    "duration": 127,
    "start_time": "2023-03-24T21:54:07.992Z"
   },
   {
    "duration": 120,
    "start_time": "2023-03-24T21:54:08.120Z"
   },
   {
    "duration": 401,
    "start_time": "2023-03-24T21:54:08.242Z"
   },
   {
    "duration": 432,
    "start_time": "2023-03-24T21:54:08.645Z"
   },
   {
    "duration": 6,
    "start_time": "2023-03-24T21:54:09.078Z"
   },
   {
    "duration": 158,
    "start_time": "2023-03-24T21:54:09.089Z"
   },
   {
    "duration": 42,
    "start_time": "2023-03-24T21:54:09.249Z"
   },
   {
    "duration": 65,
    "start_time": "2023-03-24T21:54:09.303Z"
   },
   {
    "duration": 4,
    "start_time": "2023-03-24T21:54:09.491Z"
   },
   {
    "duration": 215,
    "start_time": "2023-03-24T21:54:09.644Z"
   },
   {
    "duration": 139,
    "start_time": "2023-03-24T21:54:10.015Z"
   },
   {
    "duration": 328,
    "start_time": "2023-03-24T21:54:10.390Z"
   },
   {
    "duration": 219,
    "start_time": "2023-03-24T21:54:10.799Z"
   },
   {
    "duration": 105,
    "start_time": "2023-03-24T21:54:11.020Z"
   },
   {
    "duration": 60,
    "start_time": "2023-03-24T21:54:11.164Z"
   },
   {
    "duration": 57,
    "start_time": "2023-03-24T21:54:11.378Z"
   },
   {
    "duration": 80,
    "start_time": "2023-03-24T21:54:11.738Z"
   },
   {
    "duration": 417,
    "start_time": "2023-03-24T21:54:11.950Z"
   },
   {
    "duration": 482,
    "start_time": "2023-03-24T21:54:12.372Z"
   },
   {
    "duration": 34,
    "start_time": "2023-03-24T21:54:12.856Z"
   },
   {
    "duration": 289,
    "start_time": "2023-03-24T21:54:12.892Z"
   },
   {
    "duration": 20,
    "start_time": "2023-03-24T21:54:13.183Z"
   },
   {
    "duration": 309,
    "start_time": "2023-03-24T21:54:13.204Z"
   },
   {
    "duration": 307,
    "start_time": "2023-03-24T21:54:13.515Z"
   },
   {
    "duration": 387,
    "start_time": "2023-03-24T21:54:13.825Z"
   },
   {
    "duration": 331,
    "start_time": "2023-03-24T21:54:14.215Z"
   },
   {
    "duration": 288,
    "start_time": "2023-03-24T21:54:14.548Z"
   },
   {
    "duration": 359,
    "start_time": "2023-03-24T21:54:14.837Z"
   },
   {
    "duration": 39,
    "start_time": "2023-03-24T21:54:15.198Z"
   },
   {
    "duration": 4,
    "start_time": "2023-03-24T21:54:15.239Z"
   },
   {
    "duration": 15,
    "start_time": "2023-03-24T21:54:15.344Z"
   },
   {
    "duration": 3,
    "start_time": "2023-03-24T21:54:15.510Z"
   },
   {
    "duration": 304,
    "start_time": "2023-03-24T21:54:15.952Z"
   },
   {
    "duration": 2,
    "start_time": "2023-03-24T21:54:16.259Z"
   },
   {
    "duration": 11,
    "start_time": "2023-03-24T21:54:16.272Z"
   },
   {
    "duration": 50,
    "start_time": "2023-03-24T21:54:16.285Z"
   },
   {
    "duration": 609,
    "start_time": "2023-03-24T21:54:17.192Z"
   },
   {
    "duration": 119,
    "start_time": "2023-03-24T22:03:12.760Z"
   },
   {
    "duration": 9,
    "start_time": "2023-03-24T22:03:27.306Z"
   },
   {
    "duration": 13,
    "start_time": "2023-03-24T22:03:31.295Z"
   },
   {
    "duration": 99,
    "start_time": "2023-03-24T22:03:31.816Z"
   },
   {
    "duration": 5,
    "start_time": "2023-03-24T22:03:51.135Z"
   },
   {
    "duration": 4,
    "start_time": "2023-03-24T22:03:56.490Z"
   },
   {
    "duration": 4362,
    "start_time": "2023-03-24T22:04:00.040Z"
   },
   {
    "duration": 51235,
    "start_time": "2023-03-24T22:04:21.757Z"
   },
   {
    "duration": 880,
    "start_time": "2023-03-24T22:06:34.695Z"
   },
   {
    "duration": 24,
    "start_time": "2023-03-24T22:11:25.841Z"
   },
   {
    "duration": 3,
    "start_time": "2023-03-24T22:11:40.835Z"
   },
   {
    "duration": 1482,
    "start_time": "2023-03-25T09:17:02.370Z"
   },
   {
    "duration": 3141,
    "start_time": "2023-03-25T09:17:03.855Z"
   },
   {
    "duration": 116,
    "start_time": "2023-03-25T09:17:06.997Z"
   },
   {
    "duration": 118,
    "start_time": "2023-03-25T09:17:07.116Z"
   },
   {
    "duration": 422,
    "start_time": "2023-03-25T09:17:07.239Z"
   },
   {
    "duration": 455,
    "start_time": "2023-03-25T09:17:07.663Z"
   },
   {
    "duration": 4,
    "start_time": "2023-03-25T09:17:08.120Z"
   },
   {
    "duration": 148,
    "start_time": "2023-03-25T09:17:08.125Z"
   },
   {
    "duration": 15,
    "start_time": "2023-03-25T09:17:08.274Z"
   },
   {
    "duration": 103,
    "start_time": "2023-03-25T09:17:08.291Z"
   },
   {
    "duration": 12,
    "start_time": "2023-03-25T09:17:08.395Z"
   },
   {
    "duration": 307,
    "start_time": "2023-03-25T09:17:08.409Z"
   },
   {
    "duration": 149,
    "start_time": "2023-03-25T09:17:08.717Z"
   },
   {
    "duration": 300,
    "start_time": "2023-03-25T09:17:09.767Z"
   },
   {
    "duration": 247,
    "start_time": "2023-03-25T09:17:10.148Z"
   },
   {
    "duration": 95,
    "start_time": "2023-03-25T09:17:10.396Z"
   },
   {
    "duration": 65,
    "start_time": "2023-03-25T09:17:10.501Z"
   },
   {
    "duration": 47,
    "start_time": "2023-03-25T09:17:10.698Z"
   },
   {
    "duration": 78,
    "start_time": "2023-03-25T09:17:11.065Z"
   },
   {
    "duration": 368,
    "start_time": "2023-03-25T09:17:11.273Z"
   },
   {
    "duration": 365,
    "start_time": "2023-03-25T09:17:11.643Z"
   },
   {
    "duration": 30,
    "start_time": "2023-03-25T09:17:12.010Z"
   },
   {
    "duration": 266,
    "start_time": "2023-03-25T09:17:12.168Z"
   },
   {
    "duration": 24,
    "start_time": "2023-03-25T09:17:12.440Z"
   },
   {
    "duration": 326,
    "start_time": "2023-03-25T09:17:12.498Z"
   },
   {
    "duration": 357,
    "start_time": "2023-03-25T09:17:12.826Z"
   },
   {
    "duration": 386,
    "start_time": "2023-03-25T09:17:13.184Z"
   },
   {
    "duration": 321,
    "start_time": "2023-03-25T09:17:13.572Z"
   },
   {
    "duration": 293,
    "start_time": "2023-03-25T09:17:13.928Z"
   },
   {
    "duration": 135,
    "start_time": "2023-03-25T09:17:14.351Z"
   },
   {
    "duration": 54,
    "start_time": "2023-03-25T09:17:14.487Z"
   },
   {
    "duration": 3,
    "start_time": "2023-03-25T09:17:14.658Z"
   },
   {
    "duration": 16,
    "start_time": "2023-03-25T09:17:15.053Z"
   },
   {
    "duration": 2,
    "start_time": "2023-03-25T09:17:15.243Z"
   },
   {
    "duration": 259,
    "start_time": "2023-03-25T09:17:15.410Z"
   },
   {
    "duration": 2,
    "start_time": "2023-03-25T09:17:15.671Z"
   },
   {
    "duration": 13,
    "start_time": "2023-03-25T09:17:15.778Z"
   },
   {
    "duration": 28,
    "start_time": "2023-03-25T09:17:15.947Z"
   },
   {
    "duration": 937,
    "start_time": "2023-03-25T09:17:16.816Z"
   },
   {
    "duration": 3,
    "start_time": "2023-03-25T09:17:22.650Z"
   },
   {
    "duration": 48167,
    "start_time": "2023-03-25T09:17:23.575Z"
   },
   {
    "duration": 2097,
    "start_time": "2023-03-25T09:18:11.744Z"
   },
   {
    "duration": 1932,
    "start_time": "2023-03-25T09:20:32.708Z"
   },
   {
    "duration": 46,
    "start_time": "2023-03-25T09:20:45.205Z"
   },
   {
    "duration": 3,
    "start_time": "2023-03-25T09:21:15.703Z"
   },
   {
    "duration": 138149,
    "start_time": "2023-03-25T09:25:31.924Z"
   },
   {
    "duration": 0,
    "start_time": "2023-03-25T09:37:55.355Z"
   },
   {
    "duration": 4,
    "start_time": "2023-03-25T09:38:22.728Z"
   },
   {
    "duration": 648476,
    "start_time": "2023-03-25T09:38:31.365Z"
   },
   {
    "duration": 145959,
    "start_time": "2023-03-25T09:50:01.881Z"
   },
   {
    "duration": 47219,
    "start_time": "2023-03-25T10:27:50.650Z"
   },
   {
    "duration": 4,
    "start_time": "2023-03-25T10:30:22.138Z"
   },
   {
    "duration": 676,
    "start_time": "2023-03-25T10:30:22.312Z"
   },
   {
    "duration": 109,
    "start_time": "2023-03-25T10:30:22.989Z"
   },
   {
    "duration": 105,
    "start_time": "2023-03-25T10:30:23.099Z"
   },
   {
    "duration": 333,
    "start_time": "2023-03-25T10:30:23.245Z"
   },
   {
    "duration": 467,
    "start_time": "2023-03-25T10:30:23.579Z"
   },
   {
    "duration": 3,
    "start_time": "2023-03-25T10:30:24.048Z"
   },
   {
    "duration": 119,
    "start_time": "2023-03-25T10:30:24.053Z"
   },
   {
    "duration": 15,
    "start_time": "2023-03-25T10:30:24.174Z"
   },
   {
    "duration": 70,
    "start_time": "2023-03-25T10:30:24.313Z"
   },
   {
    "duration": 5,
    "start_time": "2023-03-25T10:30:24.458Z"
   },
   {
    "duration": 212,
    "start_time": "2023-03-25T10:30:24.650Z"
   },
   {
    "duration": 128,
    "start_time": "2023-03-25T10:30:24.994Z"
   },
   {
    "duration": 317,
    "start_time": "2023-03-25T10:30:25.364Z"
   },
   {
    "duration": 221,
    "start_time": "2023-03-25T10:30:25.725Z"
   },
   {
    "duration": 82,
    "start_time": "2023-03-25T10:30:25.948Z"
   },
   {
    "duration": 51,
    "start_time": "2023-03-25T10:30:26.096Z"
   },
   {
    "duration": 46,
    "start_time": "2023-03-25T10:30:26.293Z"
   },
   {
    "duration": 105,
    "start_time": "2023-03-25T10:30:26.658Z"
   },
   {
    "duration": 366,
    "start_time": "2023-03-25T10:30:26.885Z"
   },
   {
    "duration": 304,
    "start_time": "2023-03-25T10:30:27.253Z"
   },
   {
    "duration": 16,
    "start_time": "2023-03-25T10:30:27.560Z"
   },
   {
    "duration": 265,
    "start_time": "2023-03-25T10:30:27.586Z"
   },
   {
    "duration": 16,
    "start_time": "2023-03-25T10:30:27.853Z"
   },
   {
    "duration": 278,
    "start_time": "2023-03-25T10:30:27.979Z"
   },
   {
    "duration": 387,
    "start_time": "2023-03-25T10:30:28.259Z"
   },
   {
    "duration": 280,
    "start_time": "2023-03-25T10:30:28.647Z"
   },
   {
    "duration": 308,
    "start_time": "2023-03-25T10:30:28.936Z"
   },
   {
    "duration": 272,
    "start_time": "2023-03-25T10:30:29.246Z"
   },
   {
    "duration": 201,
    "start_time": "2023-03-25T10:30:29.519Z"
   },
   {
    "duration": 47,
    "start_time": "2023-03-25T10:30:29.721Z"
   },
   {
    "duration": 4,
    "start_time": "2023-03-25T10:30:29.872Z"
   },
   {
    "duration": 14,
    "start_time": "2023-03-25T10:30:30.245Z"
   },
   {
    "duration": 2,
    "start_time": "2023-03-25T10:30:30.439Z"
   },
   {
    "duration": 2,
    "start_time": "2023-03-25T10:30:30.671Z"
   },
   {
    "duration": 331,
    "start_time": "2023-03-25T10:30:30.853Z"
   },
   {
    "duration": 110,
    "start_time": "2023-03-25T10:30:31.185Z"
   },
   {
    "duration": 164,
    "start_time": "2023-03-25T10:30:31.297Z"
   },
   {
    "duration": 47586,
    "start_time": "2023-03-25T10:30:32.005Z"
   },
   {
    "duration": 166,
    "start_time": "2023-03-25T10:31:19.593Z"
   },
   {
    "duration": 166945,
    "start_time": "2023-03-25T10:31:29.805Z"
   },
   {
    "duration": 166987,
    "start_time": "2023-03-25T10:35:40.958Z"
   },
   {
    "duration": 90,
    "start_time": "2023-03-25T10:38:27.950Z"
   },
   {
    "duration": 364578,
    "start_time": "2023-03-25T10:38:28.042Z"
   },
   {
    "duration": 22,
    "start_time": "2023-03-25T10:47:02.347Z"
   },
   {
    "duration": 4,
    "start_time": "2023-03-25T10:47:11.209Z"
   },
   {
    "duration": 3,
    "start_time": "2023-03-25T10:47:13.869Z"
   },
   {
    "duration": 1379,
    "start_time": "2023-03-25T11:18:21.849Z"
   },
   {
    "duration": 7,
    "start_time": "2023-03-25T11:18:41.602Z"
   },
   {
    "duration": 724,
    "start_time": "2023-03-25T11:18:48.262Z"
   },
   {
    "duration": 127,
    "start_time": "2023-03-25T11:18:48.987Z"
   },
   {
    "duration": 109,
    "start_time": "2023-03-25T11:18:50.305Z"
   },
   {
    "duration": 391,
    "start_time": "2023-03-25T11:18:51.740Z"
   },
   {
    "duration": 472,
    "start_time": "2023-03-25T11:18:52.133Z"
   },
   {
    "duration": 4,
    "start_time": "2023-03-25T11:18:52.607Z"
   },
   {
    "duration": 116,
    "start_time": "2023-03-25T11:18:52.980Z"
   },
   {
    "duration": 16,
    "start_time": "2023-03-25T11:18:53.364Z"
   },
   {
    "duration": 73,
    "start_time": "2023-03-25T11:18:55.882Z"
   },
   {
    "duration": 5,
    "start_time": "2023-03-25T11:18:58.804Z"
   },
   {
    "duration": 234,
    "start_time": "2023-03-25T11:18:59.110Z"
   },
   {
    "duration": 152,
    "start_time": "2023-03-25T11:18:59.622Z"
   },
   {
    "duration": 311,
    "start_time": "2023-03-25T11:19:00.001Z"
   },
   {
    "duration": 244,
    "start_time": "2023-03-25T11:19:00.389Z"
   },
   {
    "duration": 88,
    "start_time": "2023-03-25T11:19:00.635Z"
   },
   {
    "duration": 66,
    "start_time": "2023-03-25T11:19:00.725Z"
   },
   {
    "duration": 66,
    "start_time": "2023-03-25T11:19:00.793Z"
   },
   {
    "duration": 80,
    "start_time": "2023-03-25T11:19:01.434Z"
   },
   {
    "duration": 413,
    "start_time": "2023-03-25T11:19:01.515Z"
   },
   {
    "duration": 393,
    "start_time": "2023-03-25T11:19:01.930Z"
   },
   {
    "duration": 24,
    "start_time": "2023-03-25T11:19:02.325Z"
   },
   {
    "duration": 304,
    "start_time": "2023-03-25T11:19:02.351Z"
   },
   {
    "duration": 21,
    "start_time": "2023-03-25T11:19:02.657Z"
   },
   {
    "duration": 315,
    "start_time": "2023-03-25T11:19:02.680Z"
   },
   {
    "duration": 314,
    "start_time": "2023-03-25T11:19:02.996Z"
   },
   {
    "duration": 389,
    "start_time": "2023-03-25T11:19:03.311Z"
   },
   {
    "duration": 327,
    "start_time": "2023-03-25T11:19:03.702Z"
   },
   {
    "duration": 288,
    "start_time": "2023-03-25T11:19:04.031Z"
   },
   {
    "duration": 120,
    "start_time": "2023-03-25T11:19:04.320Z"
   },
   {
    "duration": 41,
    "start_time": "2023-03-25T11:19:04.442Z"
   },
   {
    "duration": 4,
    "start_time": "2023-03-25T11:19:04.484Z"
   },
   {
    "duration": 23,
    "start_time": "2023-03-25T11:19:04.498Z"
   },
   {
    "duration": 2,
    "start_time": "2023-03-25T11:19:05.614Z"
   },
   {
    "duration": 3,
    "start_time": "2023-03-25T11:19:08.735Z"
   },
   {
    "duration": 359,
    "start_time": "2023-03-25T11:19:10.271Z"
   },
   {
    "duration": 112,
    "start_time": "2023-03-25T11:19:14.367Z"
   },
   {
    "duration": 160,
    "start_time": "2023-03-25T11:19:14.777Z"
   },
   {
    "duration": 128,
    "start_time": "2023-03-25T11:19:36.969Z"
   },
   {
    "duration": 3,
    "start_time": "2023-03-25T11:19:44.473Z"
   },
   {
    "duration": 18,
    "start_time": "2023-03-25T11:19:47.238Z"
   },
   {
    "duration": 51,
    "start_time": "2023-03-25T11:25:58.337Z"
   },
   {
    "duration": 7,
    "start_time": "2023-03-25T11:25:58.442Z"
   },
   {
    "duration": 6,
    "start_time": "2023-03-25T11:25:58.644Z"
   },
   {
    "duration": 1353,
    "start_time": "2023-03-25T11:26:04.481Z"
   },
   {
    "duration": 792,
    "start_time": "2023-03-25T11:26:05.836Z"
   },
   {
    "duration": 139,
    "start_time": "2023-03-25T11:26:07.655Z"
   },
   {
    "duration": 114,
    "start_time": "2023-03-25T11:26:07.860Z"
   },
   {
    "duration": 431,
    "start_time": "2023-03-25T11:26:08.372Z"
   },
   {
    "duration": 458,
    "start_time": "2023-03-25T11:26:08.805Z"
   },
   {
    "duration": 4,
    "start_time": "2023-03-25T11:26:09.265Z"
   },
   {
    "duration": 121,
    "start_time": "2023-03-25T11:26:09.272Z"
   },
   {
    "duration": 16,
    "start_time": "2023-03-25T11:26:09.395Z"
   },
   {
    "duration": 81,
    "start_time": "2023-03-25T11:26:09.416Z"
   },
   {
    "duration": 4,
    "start_time": "2023-03-25T11:26:09.601Z"
   },
   {
    "duration": 239,
    "start_time": "2023-03-25T11:26:09.771Z"
   },
   {
    "duration": 146,
    "start_time": "2023-03-25T11:26:10.139Z"
   },
   {
    "duration": 345,
    "start_time": "2023-03-25T11:26:10.495Z"
   },
   {
    "duration": 223,
    "start_time": "2023-03-25T11:26:10.878Z"
   },
   {
    "duration": 91,
    "start_time": "2023-03-25T11:26:11.103Z"
   },
   {
    "duration": 51,
    "start_time": "2023-03-25T11:26:11.213Z"
   },
   {
    "duration": 49,
    "start_time": "2023-03-25T11:26:11.389Z"
   },
   {
    "duration": 76,
    "start_time": "2023-03-25T11:26:11.742Z"
   },
   {
    "duration": 410,
    "start_time": "2023-03-25T11:26:11.918Z"
   },
   {
    "duration": 384,
    "start_time": "2023-03-25T11:26:12.330Z"
   },
   {
    "duration": 29,
    "start_time": "2023-03-25T11:26:12.717Z"
   },
   {
    "duration": 307,
    "start_time": "2023-03-25T11:26:12.747Z"
   },
   {
    "duration": 20,
    "start_time": "2023-03-25T11:26:13.057Z"
   },
   {
    "duration": 301,
    "start_time": "2023-03-25T11:26:13.079Z"
   },
   {
    "duration": 312,
    "start_time": "2023-03-25T11:26:13.382Z"
   },
   {
    "duration": 363,
    "start_time": "2023-03-25T11:26:13.695Z"
   },
   {
    "duration": 311,
    "start_time": "2023-03-25T11:26:14.060Z"
   },
   {
    "duration": 290,
    "start_time": "2023-03-25T11:26:14.373Z"
   },
   {
    "duration": 114,
    "start_time": "2023-03-25T11:26:14.995Z"
   },
   {
    "duration": 38,
    "start_time": "2023-03-25T11:26:15.186Z"
   },
   {
    "duration": 4,
    "start_time": "2023-03-25T11:26:15.379Z"
   },
   {
    "duration": 15,
    "start_time": "2023-03-25T11:26:15.732Z"
   },
   {
    "duration": 3,
    "start_time": "2023-03-25T11:26:15.924Z"
   },
   {
    "duration": 2,
    "start_time": "2023-03-25T11:26:16.100Z"
   },
   {
    "duration": 333,
    "start_time": "2023-03-25T11:26:16.308Z"
   },
   {
    "duration": 118,
    "start_time": "2023-03-25T11:26:16.642Z"
   },
   {
    "duration": 151,
    "start_time": "2023-03-25T11:26:17.482Z"
   },
   {
    "duration": 4,
    "start_time": "2023-03-25T11:26:40.758Z"
   },
   {
    "duration": 731,
    "start_time": "2023-03-25T11:26:40.936Z"
   },
   {
    "duration": 122,
    "start_time": "2023-03-25T11:26:41.669Z"
   },
   {
    "duration": 110,
    "start_time": "2023-03-25T11:26:41.792Z"
   },
   {
    "duration": 351,
    "start_time": "2023-03-25T11:26:41.904Z"
   },
   {
    "duration": 355,
    "start_time": "2023-03-25T11:26:42.257Z"
   },
   {
    "duration": 4,
    "start_time": "2023-03-25T11:26:42.613Z"
   },
   {
    "duration": 124,
    "start_time": "2023-03-25T11:26:42.619Z"
   },
   {
    "duration": 16,
    "start_time": "2023-03-25T11:26:42.745Z"
   },
   {
    "duration": 73,
    "start_time": "2023-03-25T11:26:42.831Z"
   },
   {
    "duration": 4,
    "start_time": "2023-03-25T11:26:43.001Z"
   },
   {
    "duration": 217,
    "start_time": "2023-03-25T11:26:43.177Z"
   },
   {
    "duration": 129,
    "start_time": "2023-03-25T11:26:43.513Z"
   },
   {
    "duration": 303,
    "start_time": "2023-03-25T11:26:43.883Z"
   },
   {
    "duration": 217,
    "start_time": "2023-03-25T11:26:44.202Z"
   },
   {
    "duration": 84,
    "start_time": "2023-03-25T11:26:44.421Z"
   },
   {
    "duration": 50,
    "start_time": "2023-03-25T11:26:44.571Z"
   },
   {
    "duration": 49,
    "start_time": "2023-03-25T11:26:45.613Z"
   },
   {
    "duration": 74,
    "start_time": "2023-03-25T11:26:46.055Z"
   },
   {
    "duration": 526,
    "start_time": "2023-03-25T11:26:46.170Z"
   },
   {
    "duration": 291,
    "start_time": "2023-03-25T11:26:46.875Z"
   },
   {
    "duration": 16,
    "start_time": "2023-03-25T11:26:48.122Z"
   },
   {
    "duration": 274,
    "start_time": "2023-03-25T11:26:48.316Z"
   },
   {
    "duration": 19,
    "start_time": "2023-03-25T11:26:49.779Z"
   },
   {
    "duration": 286,
    "start_time": "2023-03-25T11:26:50.049Z"
   },
   {
    "duration": 396,
    "start_time": "2023-03-25T11:26:50.340Z"
   },
   {
    "duration": 302,
    "start_time": "2023-03-25T11:26:50.740Z"
   },
   {
    "duration": 312,
    "start_time": "2023-03-25T11:26:51.044Z"
   },
   {
    "duration": 277,
    "start_time": "2023-03-25T11:26:51.358Z"
   },
   {
    "duration": 224,
    "start_time": "2023-03-25T11:26:51.893Z"
   },
   {
    "duration": 48,
    "start_time": "2023-03-25T11:26:52.118Z"
   },
   {
    "duration": 4,
    "start_time": "2023-03-25T11:26:52.231Z"
   },
   {
    "duration": 17,
    "start_time": "2023-03-25T11:26:52.599Z"
   },
   {
    "duration": 3,
    "start_time": "2023-03-25T11:26:53.328Z"
   },
   {
    "duration": 269,
    "start_time": "2023-03-25T11:26:54.924Z"
   },
   {
    "duration": 2,
    "start_time": "2023-03-25T11:26:56.398Z"
   },
   {
    "duration": 10,
    "start_time": "2023-03-25T11:26:57.013Z"
   },
   {
    "duration": 28,
    "start_time": "2023-03-25T11:26:57.524Z"
   },
   {
    "duration": 3,
    "start_time": "2023-03-25T11:27:11.246Z"
   },
   {
    "duration": 1377,
    "start_time": "2023-03-25T11:43:54.263Z"
   },
   {
    "duration": 796,
    "start_time": "2023-03-25T11:43:57.023Z"
   },
   {
    "duration": 119,
    "start_time": "2023-03-25T11:43:57.821Z"
   },
   {
    "duration": 120,
    "start_time": "2023-03-25T11:43:57.941Z"
   },
   {
    "duration": 439,
    "start_time": "2023-03-25T11:43:58.064Z"
   },
   {
    "duration": 502,
    "start_time": "2023-03-25T11:43:58.505Z"
   },
   {
    "duration": 5,
    "start_time": "2023-03-25T11:43:59.009Z"
   },
   {
    "duration": 139,
    "start_time": "2023-03-25T11:43:59.016Z"
   },
   {
    "duration": 16,
    "start_time": "2023-03-25T11:43:59.157Z"
   },
   {
    "duration": 89,
    "start_time": "2023-03-25T11:43:59.175Z"
   },
   {
    "duration": 4,
    "start_time": "2023-03-25T11:43:59.275Z"
   },
   {
    "duration": 240,
    "start_time": "2023-03-25T11:43:59.378Z"
   },
   {
    "duration": 202,
    "start_time": "2023-03-25T11:43:59.890Z"
   },
   {
    "duration": 341,
    "start_time": "2023-03-25T11:44:00.230Z"
   },
   {
    "duration": 246,
    "start_time": "2023-03-25T11:44:00.583Z"
   },
   {
    "duration": 91,
    "start_time": "2023-03-25T11:44:00.831Z"
   },
   {
    "duration": 56,
    "start_time": "2023-03-25T11:44:00.952Z"
   },
   {
    "duration": 50,
    "start_time": "2023-03-25T11:44:01.129Z"
   },
   {
    "duration": 84,
    "start_time": "2023-03-25T11:44:01.481Z"
   },
   {
    "duration": 426,
    "start_time": "2023-03-25T11:44:01.680Z"
   },
   {
    "duration": 397,
    "start_time": "2023-03-25T11:44:02.108Z"
   },
   {
    "duration": 19,
    "start_time": "2023-03-25T11:44:02.508Z"
   },
   {
    "duration": 330,
    "start_time": "2023-03-25T11:44:02.530Z"
   },
   {
    "duration": 33,
    "start_time": "2023-03-25T11:44:02.862Z"
   },
   {
    "duration": 345,
    "start_time": "2023-03-25T11:44:02.907Z"
   },
   {
    "duration": 338,
    "start_time": "2023-03-25T11:44:03.254Z"
   },
   {
    "duration": 412,
    "start_time": "2023-03-25T11:44:03.593Z"
   },
   {
    "duration": 369,
    "start_time": "2023-03-25T11:44:04.340Z"
   },
   {
    "duration": 314,
    "start_time": "2023-03-25T11:44:04.741Z"
   },
   {
    "duration": 123,
    "start_time": "2023-03-25T11:44:05.160Z"
   },
   {
    "duration": 42,
    "start_time": "2023-03-25T11:44:05.448Z"
   },
   {
    "duration": 4,
    "start_time": "2023-03-25T11:44:06.079Z"
   },
   {
    "duration": 11,
    "start_time": "2023-03-25T11:44:22.429Z"
   },
   {
    "duration": 353,
    "start_time": "2023-03-25T11:44:49.042Z"
   },
   {
    "duration": 3,
    "start_time": "2023-03-25T11:46:53.286Z"
   },
   {
    "duration": 751,
    "start_time": "2023-03-25T11:46:53.471Z"
   },
   {
    "duration": 125,
    "start_time": "2023-03-25T11:46:54.224Z"
   },
   {
    "duration": 113,
    "start_time": "2023-03-25T11:46:54.350Z"
   },
   {
    "duration": 401,
    "start_time": "2023-03-25T11:46:54.465Z"
   },
   {
    "duration": 411,
    "start_time": "2023-03-25T11:46:54.868Z"
   },
   {
    "duration": 5,
    "start_time": "2023-03-25T11:46:55.281Z"
   },
   {
    "duration": 141,
    "start_time": "2023-03-25T11:46:55.288Z"
   },
   {
    "duration": 21,
    "start_time": "2023-03-25T11:46:55.431Z"
   },
   {
    "duration": 87,
    "start_time": "2023-03-25T11:46:55.454Z"
   },
   {
    "duration": 4,
    "start_time": "2023-03-25T11:46:55.543Z"
   },
   {
    "duration": 231,
    "start_time": "2023-03-25T11:46:55.603Z"
   },
   {
    "duration": 137,
    "start_time": "2023-03-25T11:46:55.914Z"
   },
   {
    "duration": 378,
    "start_time": "2023-03-25T11:46:56.278Z"
   },
   {
    "duration": 297,
    "start_time": "2023-03-25T11:46:56.658Z"
   },
   {
    "duration": 96,
    "start_time": "2023-03-25T11:46:56.957Z"
   },
   {
    "duration": 58,
    "start_time": "2023-03-25T11:46:57.054Z"
   },
   {
    "duration": 52,
    "start_time": "2023-03-25T11:46:57.151Z"
   },
   {
    "duration": 82,
    "start_time": "2023-03-25T11:46:57.515Z"
   },
   {
    "duration": 503,
    "start_time": "2023-03-25T11:46:57.694Z"
   },
   {
    "duration": 333,
    "start_time": "2023-03-25T11:46:58.277Z"
   },
   {
    "duration": 18,
    "start_time": "2023-03-25T11:46:58.628Z"
   },
   {
    "duration": 282,
    "start_time": "2023-03-25T11:46:58.807Z"
   },
   {
    "duration": 21,
    "start_time": "2023-03-25T11:46:59.334Z"
   },
   {
    "duration": 312,
    "start_time": "2023-03-25T11:46:59.558Z"
   },
   {
    "duration": 446,
    "start_time": "2023-03-25T11:47:00.112Z"
   },
   {
    "duration": 319,
    "start_time": "2023-03-25T11:47:00.976Z"
   },
   {
    "duration": 351,
    "start_time": "2023-03-25T11:47:01.825Z"
   },
   {
    "duration": 302,
    "start_time": "2023-03-25T11:47:02.287Z"
   },
   {
    "duration": 113,
    "start_time": "2023-03-25T11:47:03.523Z"
   },
   {
    "duration": 41,
    "start_time": "2023-03-25T11:47:03.718Z"
   },
   {
    "duration": 5,
    "start_time": "2023-03-25T11:47:04.391Z"
   },
   {
    "duration": 13,
    "start_time": "2023-03-25T11:47:05.952Z"
   },
   {
    "duration": 3,
    "start_time": "2023-03-25T11:47:08.306Z"
   },
   {
    "duration": 2,
    "start_time": "2023-03-25T11:47:10.561Z"
   },
   {
    "duration": 130,
    "start_time": "2023-03-25T11:47:13.837Z"
   },
   {
    "duration": 386,
    "start_time": "2023-03-25T11:47:19.060Z"
   },
   {
    "duration": 5,
    "start_time": "2023-03-25T11:49:30.830Z"
   },
   {
    "duration": 755,
    "start_time": "2023-03-25T11:49:31.023Z"
   },
   {
    "duration": 115,
    "start_time": "2023-03-25T11:49:31.780Z"
   },
   {
    "duration": 119,
    "start_time": "2023-03-25T11:49:31.897Z"
   },
   {
    "duration": 391,
    "start_time": "2023-03-25T11:49:32.018Z"
   },
   {
    "duration": 430,
    "start_time": "2023-03-25T11:49:32.411Z"
   },
   {
    "duration": 3,
    "start_time": "2023-03-25T11:49:32.843Z"
   },
   {
    "duration": 127,
    "start_time": "2023-03-25T11:49:32.848Z"
   },
   {
    "duration": 144,
    "start_time": "2023-03-25T11:49:32.977Z"
   },
   {
    "duration": 84,
    "start_time": "2023-03-25T11:49:33.122Z"
   },
   {
    "duration": 5,
    "start_time": "2023-03-25T11:49:33.208Z"
   },
   {
    "duration": 234,
    "start_time": "2023-03-25T11:49:33.306Z"
   },
   {
    "duration": 138,
    "start_time": "2023-03-25T11:49:33.551Z"
   },
   {
    "duration": 315,
    "start_time": "2023-03-25T11:49:33.889Z"
   },
   {
    "duration": 228,
    "start_time": "2023-03-25T11:49:34.227Z"
   },
   {
    "duration": 100,
    "start_time": "2023-03-25T11:49:34.457Z"
   },
   {
    "duration": 62,
    "start_time": "2023-03-25T11:49:34.563Z"
   },
   {
    "duration": 51,
    "start_time": "2023-03-25T11:49:34.723Z"
   },
   {
    "duration": 84,
    "start_time": "2023-03-25T11:49:35.059Z"
   },
   {
    "duration": 430,
    "start_time": "2023-03-25T11:49:35.235Z"
   },
   {
    "duration": 320,
    "start_time": "2023-03-25T11:49:35.667Z"
   },
   {
    "duration": 17,
    "start_time": "2023-03-25T11:49:35.989Z"
   },
   {
    "duration": 308,
    "start_time": "2023-03-25T11:49:36.008Z"
   },
   {
    "duration": 34,
    "start_time": "2023-03-25T11:49:36.319Z"
   },
   {
    "duration": 400,
    "start_time": "2023-03-25T11:49:36.355Z"
   },
   {
    "duration": 352,
    "start_time": "2023-03-25T11:49:36.757Z"
   },
   {
    "duration": 477,
    "start_time": "2023-03-25T11:49:37.111Z"
   },
   {
    "duration": 350,
    "start_time": "2023-03-25T11:49:37.590Z"
   },
   {
    "duration": 312,
    "start_time": "2023-03-25T11:49:37.941Z"
   },
   {
    "duration": 129,
    "start_time": "2023-03-25T11:49:38.254Z"
   },
   {
    "duration": 41,
    "start_time": "2023-03-25T11:49:38.385Z"
   },
   {
    "duration": 4,
    "start_time": "2023-03-25T11:49:38.441Z"
   },
   {
    "duration": 10,
    "start_time": "2023-03-25T11:49:38.706Z"
   },
   {
    "duration": 3,
    "start_time": "2023-03-25T11:49:41.348Z"
   },
   {
    "duration": 2,
    "start_time": "2023-03-25T11:49:42.215Z"
   },
   {
    "duration": 32,
    "start_time": "2023-03-25T11:49:43.582Z"
   },
   {
    "duration": 900,
    "start_time": "2023-03-25T11:50:13.447Z"
   },
   {
    "duration": 682,
    "start_time": "2023-03-25T11:50:27.271Z"
   },
   {
    "duration": 8,
    "start_time": "2023-03-25T11:50:54.923Z"
   },
   {
    "duration": 6,
    "start_time": "2023-03-25T11:51:07.003Z"
   },
   {
    "duration": 837,
    "start_time": "2023-03-25T11:51:07.126Z"
   },
   {
    "duration": 123,
    "start_time": "2023-03-25T11:51:07.965Z"
   },
   {
    "duration": 119,
    "start_time": "2023-03-25T11:51:08.089Z"
   },
   {
    "duration": 436,
    "start_time": "2023-03-25T11:51:08.210Z"
   },
   {
    "duration": 411,
    "start_time": "2023-03-25T11:51:08.648Z"
   },
   {
    "duration": 5,
    "start_time": "2023-03-25T11:51:09.061Z"
   },
   {
    "duration": 132,
    "start_time": "2023-03-25T11:51:09.068Z"
   },
   {
    "duration": 17,
    "start_time": "2023-03-25T11:51:09.202Z"
   },
   {
    "duration": 98,
    "start_time": "2023-03-25T11:51:09.222Z"
   },
   {
    "duration": 5,
    "start_time": "2023-03-25T11:51:09.322Z"
   },
   {
    "duration": 309,
    "start_time": "2023-03-25T11:51:09.665Z"
   },
   {
    "duration": 157,
    "start_time": "2023-03-25T11:51:09.978Z"
   },
   {
    "duration": 327,
    "start_time": "2023-03-25T11:51:10.360Z"
   },
   {
    "duration": 239,
    "start_time": "2023-03-25T11:51:10.728Z"
   },
   {
    "duration": 96,
    "start_time": "2023-03-25T11:51:10.969Z"
   },
   {
    "duration": 57,
    "start_time": "2023-03-25T11:51:11.079Z"
   },
   {
    "duration": 53,
    "start_time": "2023-03-25T11:51:11.256Z"
   },
   {
    "duration": 108,
    "start_time": "2023-03-25T11:51:11.594Z"
   },
   {
    "duration": 442,
    "start_time": "2023-03-25T11:51:11.772Z"
   },
   {
    "duration": 329,
    "start_time": "2023-03-25T11:51:12.216Z"
   },
   {
    "duration": 19,
    "start_time": "2023-03-25T11:51:12.547Z"
   },
   {
    "duration": 313,
    "start_time": "2023-03-25T11:51:12.568Z"
   },
   {
    "duration": 28,
    "start_time": "2023-03-25T11:51:12.884Z"
   },
   {
    "duration": 560,
    "start_time": "2023-03-25T11:51:12.914Z"
   },
   {
    "duration": 366,
    "start_time": "2023-03-25T11:51:13.476Z"
   },
   {
    "duration": 371,
    "start_time": "2023-03-25T11:51:13.844Z"
   },
   {
    "duration": 402,
    "start_time": "2023-03-25T11:51:14.217Z"
   },
   {
    "duration": 360,
    "start_time": "2023-03-25T11:51:14.621Z"
   },
   {
    "duration": 139,
    "start_time": "2023-03-25T11:51:14.983Z"
   },
   {
    "duration": 91,
    "start_time": "2023-03-25T11:51:15.125Z"
   },
   {
    "duration": 6,
    "start_time": "2023-03-25T11:51:15.218Z"
   },
   {
    "duration": 13,
    "start_time": "2023-03-25T11:51:19.905Z"
   },
   {
    "duration": 3,
    "start_time": "2023-03-25T11:51:22.055Z"
   },
   {
    "duration": 51,
    "start_time": "2023-03-25T11:54:02.414Z"
   },
   {
    "duration": 12,
    "start_time": "2023-03-25T11:54:19.822Z"
   },
   {
    "duration": 659,
    "start_time": "2023-03-25T11:55:13.891Z"
   },
   {
    "duration": 4,
    "start_time": "2023-03-25T11:55:19.317Z"
   },
   {
    "duration": 733,
    "start_time": "2023-03-25T11:55:19.521Z"
   },
   {
    "duration": 113,
    "start_time": "2023-03-25T11:55:20.255Z"
   },
   {
    "duration": 120,
    "start_time": "2023-03-25T11:55:20.370Z"
   },
   {
    "duration": 415,
    "start_time": "2023-03-25T11:55:20.492Z"
   },
   {
    "duration": 412,
    "start_time": "2023-03-25T11:55:20.909Z"
   },
   {
    "duration": 3,
    "start_time": "2023-03-25T11:55:21.323Z"
   },
   {
    "duration": 146,
    "start_time": "2023-03-25T11:55:21.328Z"
   },
   {
    "duration": 19,
    "start_time": "2023-03-25T11:55:21.475Z"
   },
   {
    "duration": 73,
    "start_time": "2023-03-25T11:55:21.569Z"
   },
   {
    "duration": 5,
    "start_time": "2023-03-25T11:55:21.774Z"
   },
   {
    "duration": 230,
    "start_time": "2023-03-25T11:55:21.979Z"
   },
   {
    "duration": 134,
    "start_time": "2023-03-25T11:55:22.288Z"
   },
   {
    "duration": 320,
    "start_time": "2023-03-25T11:55:22.696Z"
   },
   {
    "duration": 239,
    "start_time": "2023-03-25T11:55:23.023Z"
   },
   {
    "duration": 95,
    "start_time": "2023-03-25T11:55:23.264Z"
   },
   {
    "duration": 54,
    "start_time": "2023-03-25T11:55:23.392Z"
   },
   {
    "duration": 50,
    "start_time": "2023-03-25T11:55:23.553Z"
   },
   {
    "duration": 82,
    "start_time": "2023-03-25T11:55:24.097Z"
   },
   {
    "duration": 420,
    "start_time": "2023-03-25T11:55:24.291Z"
   },
   {
    "duration": 510,
    "start_time": "2023-03-25T11:55:24.713Z"
   },
   {
    "duration": 24,
    "start_time": "2023-03-25T11:55:25.225Z"
   },
   {
    "duration": 291,
    "start_time": "2023-03-25T11:55:25.251Z"
   },
   {
    "duration": 19,
    "start_time": "2023-03-25T11:55:25.545Z"
   },
   {
    "duration": 328,
    "start_time": "2023-03-25T11:55:25.566Z"
   },
   {
    "duration": 331,
    "start_time": "2023-03-25T11:55:25.895Z"
   },
   {
    "duration": 355,
    "start_time": "2023-03-25T11:55:26.228Z"
   },
   {
    "duration": 390,
    "start_time": "2023-03-25T11:55:26.585Z"
   },
   {
    "duration": 311,
    "start_time": "2023-03-25T11:55:26.976Z"
   },
   {
    "duration": 126,
    "start_time": "2023-03-25T11:55:27.289Z"
   },
   {
    "duration": 53,
    "start_time": "2023-03-25T11:55:27.416Z"
   },
   {
    "duration": 3,
    "start_time": "2023-03-25T11:55:27.527Z"
   },
   {
    "duration": 10,
    "start_time": "2023-03-25T11:55:27.857Z"
   },
   {
    "duration": 2,
    "start_time": "2023-03-25T11:55:31.298Z"
   },
   {
    "duration": 2,
    "start_time": "2023-03-25T11:55:31.617Z"
   },
   {
    "duration": 130,
    "start_time": "2023-03-25T11:55:32.321Z"
   },
   {
    "duration": 633,
    "start_time": "2023-03-25T11:56:06.831Z"
   },
   {
    "duration": 651,
    "start_time": "2023-03-25T11:57:11.138Z"
   },
   {
    "duration": 688,
    "start_time": "2023-03-25T11:57:45.135Z"
   },
   {
    "duration": 60,
    "start_time": "2023-03-25T11:57:51.996Z"
   },
   {
    "duration": 4,
    "start_time": "2023-03-25T11:59:09.104Z"
   },
   {
    "duration": 721,
    "start_time": "2023-03-25T11:59:09.308Z"
   },
   {
    "duration": 134,
    "start_time": "2023-03-25T11:59:10.031Z"
   },
   {
    "duration": 118,
    "start_time": "2023-03-25T11:59:10.167Z"
   },
   {
    "duration": 372,
    "start_time": "2023-03-25T11:59:10.287Z"
   },
   {
    "duration": 393,
    "start_time": "2023-03-25T11:59:12.482Z"
   },
   {
    "duration": 5,
    "start_time": "2023-03-25T11:59:12.877Z"
   },
   {
    "duration": 121,
    "start_time": "2023-03-25T11:59:12.884Z"
   },
   {
    "duration": 17,
    "start_time": "2023-03-25T11:59:13.007Z"
   },
   {
    "duration": 72,
    "start_time": "2023-03-25T11:59:13.304Z"
   },
   {
    "duration": 5,
    "start_time": "2023-03-25T11:59:13.506Z"
   },
   {
    "duration": 235,
    "start_time": "2023-03-25T11:59:13.711Z"
   },
   {
    "duration": 347,
    "start_time": "2023-03-25T11:59:13.979Z"
   },
   {
    "duration": 334,
    "start_time": "2023-03-25T11:59:14.331Z"
   },
   {
    "duration": 240,
    "start_time": "2023-03-25T11:59:14.667Z"
   },
   {
    "duration": 98,
    "start_time": "2023-03-25T11:59:14.909Z"
   },
   {
    "duration": 58,
    "start_time": "2023-03-25T11:59:15.009Z"
   },
   {
    "duration": 51,
    "start_time": "2023-03-25T11:59:15.182Z"
   },
   {
    "duration": 78,
    "start_time": "2023-03-25T11:59:15.677Z"
   },
   {
    "duration": 424,
    "start_time": "2023-03-25T11:59:15.871Z"
   },
   {
    "duration": 340,
    "start_time": "2023-03-25T11:59:16.297Z"
   },
   {
    "duration": 17,
    "start_time": "2023-03-25T11:59:16.641Z"
   },
   {
    "duration": 351,
    "start_time": "2023-03-25T11:59:16.660Z"
   },
   {
    "duration": 30,
    "start_time": "2023-03-25T11:59:17.013Z"
   },
   {
    "duration": 343,
    "start_time": "2023-03-25T11:59:17.046Z"
   },
   {
    "duration": 340,
    "start_time": "2023-03-25T11:59:17.392Z"
   },
   {
    "duration": 325,
    "start_time": "2023-03-25T11:59:17.734Z"
   },
   {
    "duration": 333,
    "start_time": "2023-03-25T11:59:18.061Z"
   },
   {
    "duration": 305,
    "start_time": "2023-03-25T11:59:18.396Z"
   },
   {
    "duration": 137,
    "start_time": "2023-03-25T11:59:18.703Z"
   },
   {
    "duration": 43,
    "start_time": "2023-03-25T11:59:18.842Z"
   },
   {
    "duration": 4,
    "start_time": "2023-03-25T11:59:18.887Z"
   },
   {
    "duration": 10,
    "start_time": "2023-03-25T11:59:19.011Z"
   },
   {
    "duration": 2,
    "start_time": "2023-03-25T11:59:19.203Z"
   },
   {
    "duration": 2,
    "start_time": "2023-03-25T11:59:19.379Z"
   },
   {
    "duration": 117,
    "start_time": "2023-03-25T11:59:19.571Z"
   },
   {
    "duration": 11,
    "start_time": "2023-03-25T11:59:19.753Z"
   },
   {
    "duration": 690,
    "start_time": "2023-03-25T12:00:25.698Z"
   },
   {
    "duration": 680,
    "start_time": "2023-03-25T12:00:46.998Z"
   },
   {
    "duration": 4,
    "start_time": "2023-03-25T12:01:12.191Z"
   },
   {
    "duration": 746,
    "start_time": "2023-03-25T12:01:12.598Z"
   },
   {
    "duration": 121,
    "start_time": "2023-03-25T12:01:13.347Z"
   },
   {
    "duration": 114,
    "start_time": "2023-03-25T12:01:13.470Z"
   },
   {
    "duration": 380,
    "start_time": "2023-03-25T12:01:14.033Z"
   },
   {
    "duration": 429,
    "start_time": "2023-03-25T12:01:14.416Z"
   },
   {
    "duration": 4,
    "start_time": "2023-03-25T12:01:14.846Z"
   },
   {
    "duration": 122,
    "start_time": "2023-03-25T12:01:14.852Z"
   },
   {
    "duration": 17,
    "start_time": "2023-03-25T12:01:14.975Z"
   },
   {
    "duration": 71,
    "start_time": "2023-03-25T12:01:15.158Z"
   },
   {
    "duration": 1350,
    "start_time": "2023-03-25T12:01:24.477Z"
   },
   {
    "duration": 816,
    "start_time": "2023-03-25T12:01:26.730Z"
   },
   {
    "duration": 129,
    "start_time": "2023-03-25T12:01:27.548Z"
   },
   {
    "duration": 134,
    "start_time": "2023-03-25T12:01:27.679Z"
   },
   {
    "duration": 423,
    "start_time": "2023-03-25T12:01:28.087Z"
   },
   {
    "duration": 487,
    "start_time": "2023-03-25T12:01:28.512Z"
   },
   {
    "duration": 3,
    "start_time": "2023-03-25T12:01:29.001Z"
   },
   {
    "duration": 134,
    "start_time": "2023-03-25T12:01:29.006Z"
   },
   {
    "duration": 15,
    "start_time": "2023-03-25T12:01:29.142Z"
   },
   {
    "duration": 88,
    "start_time": "2023-03-25T12:01:29.159Z"
   },
   {
    "duration": 5,
    "start_time": "2023-03-25T12:01:29.249Z"
   },
   {
    "duration": 247,
    "start_time": "2023-03-25T12:01:29.349Z"
   },
   {
    "duration": 157,
    "start_time": "2023-03-25T12:01:29.751Z"
   },
   {
    "duration": 324,
    "start_time": "2023-03-25T12:01:30.135Z"
   },
   {
    "duration": 241,
    "start_time": "2023-03-25T12:01:30.519Z"
   },
   {
    "duration": 100,
    "start_time": "2023-03-25T12:01:30.762Z"
   },
   {
    "duration": 59,
    "start_time": "2023-03-25T12:01:30.891Z"
   },
   {
    "duration": 54,
    "start_time": "2023-03-25T12:01:31.079Z"
   },
   {
    "duration": 81,
    "start_time": "2023-03-25T12:01:31.465Z"
   },
   {
    "duration": 459,
    "start_time": "2023-03-25T12:01:31.673Z"
   },
   {
    "duration": 474,
    "start_time": "2023-03-25T12:01:32.134Z"
   },
   {
    "duration": 29,
    "start_time": "2023-03-25T12:01:32.611Z"
   },
   {
    "duration": 281,
    "start_time": "2023-03-25T12:01:32.641Z"
   },
   {
    "duration": 35,
    "start_time": "2023-03-25T12:01:32.924Z"
   },
   {
    "duration": 352,
    "start_time": "2023-03-25T12:01:32.961Z"
   },
   {
    "duration": 348,
    "start_time": "2023-03-25T12:01:33.314Z"
   },
   {
    "duration": 419,
    "start_time": "2023-03-25T12:01:33.664Z"
   },
   {
    "duration": 381,
    "start_time": "2023-03-25T12:01:34.086Z"
   },
   {
    "duration": 305,
    "start_time": "2023-03-25T12:01:34.468Z"
   },
   {
    "duration": 134,
    "start_time": "2023-03-25T12:01:34.775Z"
   },
   {
    "duration": 46,
    "start_time": "2023-03-25T12:01:34.911Z"
   },
   {
    "duration": 5,
    "start_time": "2023-03-25T12:01:34.959Z"
   },
   {
    "duration": 11,
    "start_time": "2023-03-25T12:01:35.245Z"
   },
   {
    "duration": 2,
    "start_time": "2023-03-25T12:01:35.453Z"
   },
   {
    "duration": 3,
    "start_time": "2023-03-25T12:01:35.677Z"
   },
   {
    "duration": 54,
    "start_time": "2023-03-25T12:01:37.032Z"
   },
   {
    "duration": 193,
    "start_time": "2023-03-25T12:01:49.462Z"
   },
   {
    "duration": 60,
    "start_time": "2023-03-25T12:02:17.930Z"
   },
   {
    "duration": 1375,
    "start_time": "2023-03-25T12:02:49.283Z"
   },
   {
    "duration": 796,
    "start_time": "2023-03-25T12:02:50.660Z"
   },
   {
    "duration": 138,
    "start_time": "2023-03-25T12:02:51.458Z"
   },
   {
    "duration": 119,
    "start_time": "2023-03-25T12:02:51.599Z"
   },
   {
    "duration": 440,
    "start_time": "2023-03-25T12:02:51.720Z"
   },
   {
    "duration": 487,
    "start_time": "2023-03-25T12:02:52.161Z"
   },
   {
    "duration": 4,
    "start_time": "2023-03-25T12:02:52.650Z"
   },
   {
    "duration": 136,
    "start_time": "2023-03-25T12:02:52.656Z"
   },
   {
    "duration": 16,
    "start_time": "2023-03-25T12:02:52.794Z"
   },
   {
    "duration": 90,
    "start_time": "2023-03-25T12:02:52.812Z"
   },
   {
    "duration": 4,
    "start_time": "2023-03-25T12:02:52.904Z"
   },
   {
    "duration": 249,
    "start_time": "2023-03-25T12:02:52.909Z"
   },
   {
    "duration": 158,
    "start_time": "2023-03-25T12:02:53.160Z"
   },
   {
    "duration": 336,
    "start_time": "2023-03-25T12:02:53.320Z"
   },
   {
    "duration": 242,
    "start_time": "2023-03-25T12:02:53.658Z"
   },
   {
    "duration": 97,
    "start_time": "2023-03-25T12:02:53.902Z"
   },
   {
    "duration": 62,
    "start_time": "2023-03-25T12:02:54.000Z"
   },
   {
    "duration": 59,
    "start_time": "2023-03-25T12:02:54.063Z"
   },
   {
    "duration": 103,
    "start_time": "2023-03-25T12:02:54.124Z"
   },
   {
    "duration": 435,
    "start_time": "2023-03-25T12:02:54.228Z"
   },
   {
    "duration": 392,
    "start_time": "2023-03-25T12:02:54.665Z"
   },
   {
    "duration": 19,
    "start_time": "2023-03-25T12:02:55.059Z"
   },
   {
    "duration": 306,
    "start_time": "2023-03-25T12:02:55.079Z"
   },
   {
    "duration": 21,
    "start_time": "2023-03-25T12:02:55.387Z"
   },
   {
    "duration": 344,
    "start_time": "2023-03-25T12:02:55.410Z"
   },
   {
    "duration": 339,
    "start_time": "2023-03-25T12:02:55.756Z"
   },
   {
    "duration": 426,
    "start_time": "2023-03-25T12:02:56.097Z"
   },
   {
    "duration": 401,
    "start_time": "2023-03-25T12:02:56.525Z"
   },
   {
    "duration": 295,
    "start_time": "2023-03-25T12:02:56.928Z"
   },
   {
    "duration": 126,
    "start_time": "2023-03-25T12:02:57.226Z"
   },
   {
    "duration": 44,
    "start_time": "2023-03-25T12:02:57.354Z"
   },
   {
    "duration": 4,
    "start_time": "2023-03-25T12:02:57.400Z"
   },
   {
    "duration": 11,
    "start_time": "2023-03-25T12:02:57.536Z"
   },
   {
    "duration": 3,
    "start_time": "2023-03-25T12:02:57.743Z"
   },
   {
    "duration": 3,
    "start_time": "2023-03-25T12:02:57.935Z"
   },
   {
    "duration": 53,
    "start_time": "2023-03-25T12:02:59.763Z"
   },
   {
    "duration": 195,
    "start_time": "2023-03-25T12:03:04.419Z"
   },
   {
    "duration": 18,
    "start_time": "2023-03-25T12:03:33.603Z"
   },
   {
    "duration": 60,
    "start_time": "2023-03-25T12:04:00.023Z"
   },
   {
    "duration": 48,
    "start_time": "2023-03-25T12:04:48.255Z"
   },
   {
    "duration": 69,
    "start_time": "2023-03-25T12:05:03.306Z"
   },
   {
    "duration": 38,
    "start_time": "2023-03-25T12:06:10.379Z"
   },
   {
    "duration": 1653,
    "start_time": "2023-03-25T12:07:35.371Z"
   },
   {
    "duration": 778,
    "start_time": "2023-03-25T12:07:37.026Z"
   },
   {
    "duration": 141,
    "start_time": "2023-03-25T12:07:37.805Z"
   },
   {
    "duration": 125,
    "start_time": "2023-03-25T12:07:37.949Z"
   },
   {
    "duration": 457,
    "start_time": "2023-03-25T12:07:38.076Z"
   },
   {
    "duration": 503,
    "start_time": "2023-03-25T12:07:38.534Z"
   },
   {
    "duration": 8,
    "start_time": "2023-03-25T12:07:39.042Z"
   },
   {
    "duration": 150,
    "start_time": "2023-03-25T12:07:39.052Z"
   },
   {
    "duration": 23,
    "start_time": "2023-03-25T12:07:39.204Z"
   },
   {
    "duration": 111,
    "start_time": "2023-03-25T12:07:39.230Z"
   },
   {
    "duration": 5,
    "start_time": "2023-03-25T12:07:39.343Z"
   },
   {
    "duration": 270,
    "start_time": "2023-03-25T12:07:39.351Z"
   },
   {
    "duration": 159,
    "start_time": "2023-03-25T12:07:39.623Z"
   },
   {
    "duration": 362,
    "start_time": "2023-03-25T12:07:39.784Z"
   },
   {
    "duration": 245,
    "start_time": "2023-03-25T12:07:40.148Z"
   },
   {
    "duration": 116,
    "start_time": "2023-03-25T12:07:40.394Z"
   },
   {
    "duration": 76,
    "start_time": "2023-03-25T12:07:40.513Z"
   },
   {
    "duration": 60,
    "start_time": "2023-03-25T12:07:40.591Z"
   },
   {
    "duration": 114,
    "start_time": "2023-03-25T12:07:40.653Z"
   },
   {
    "duration": 457,
    "start_time": "2023-03-25T12:07:40.769Z"
   },
   {
    "duration": 419,
    "start_time": "2023-03-25T12:07:41.227Z"
   },
   {
    "duration": 18,
    "start_time": "2023-03-25T12:07:41.649Z"
   },
   {
    "duration": 325,
    "start_time": "2023-03-25T12:07:41.669Z"
   },
   {
    "duration": 29,
    "start_time": "2023-03-25T12:07:41.995Z"
   },
   {
    "duration": 337,
    "start_time": "2023-03-25T12:07:42.026Z"
   },
   {
    "duration": 337,
    "start_time": "2023-03-25T12:07:42.365Z"
   },
   {
    "duration": 416,
    "start_time": "2023-03-25T12:07:42.704Z"
   },
   {
    "duration": 387,
    "start_time": "2023-03-25T12:07:43.122Z"
   },
   {
    "duration": 321,
    "start_time": "2023-03-25T12:07:43.511Z"
   },
   {
    "duration": 138,
    "start_time": "2023-03-25T12:07:43.834Z"
   },
   {
    "duration": 44,
    "start_time": "2023-03-25T12:07:43.974Z"
   },
   {
    "duration": 22,
    "start_time": "2023-03-25T12:07:44.019Z"
   },
   {
    "duration": 15,
    "start_time": "2023-03-25T12:07:45.475Z"
   },
   {
    "duration": 3,
    "start_time": "2023-03-25T12:07:46.019Z"
   },
   {
    "duration": 4,
    "start_time": "2023-03-25T12:07:46.840Z"
   },
   {
    "duration": 77,
    "start_time": "2023-03-25T12:07:48.889Z"
   },
   {
    "duration": 88,
    "start_time": "2023-03-25T12:07:49.810Z"
   },
   {
    "duration": 188,
    "start_time": "2023-03-25T12:07:53.906Z"
   },
   {
    "duration": 89,
    "start_time": "2023-03-25T12:08:14.591Z"
   },
   {
    "duration": 10,
    "start_time": "2023-03-25T12:10:07.948Z"
   },
   {
    "duration": 731,
    "start_time": "2023-03-25T12:12:07.756Z"
   },
   {
    "duration": 74,
    "start_time": "2023-03-25T12:12:08.678Z"
   },
   {
    "duration": 6,
    "start_time": "2023-03-25T12:12:40.614Z"
   },
   {
    "duration": 724,
    "start_time": "2023-03-25T12:12:40.622Z"
   },
   {
    "duration": 119,
    "start_time": "2023-03-25T12:12:41.347Z"
   },
   {
    "duration": 112,
    "start_time": "2023-03-25T12:12:41.468Z"
   },
   {
    "duration": 371,
    "start_time": "2023-03-25T12:12:41.583Z"
   },
   {
    "duration": 408,
    "start_time": "2023-03-25T12:12:41.956Z"
   },
   {
    "duration": 3,
    "start_time": "2023-03-25T12:12:42.366Z"
   },
   {
    "duration": 122,
    "start_time": "2023-03-25T12:12:42.371Z"
   },
   {
    "duration": 17,
    "start_time": "2023-03-25T12:12:42.495Z"
   },
   {
    "duration": 108,
    "start_time": "2023-03-25T12:12:42.515Z"
   },
   {
    "duration": 5,
    "start_time": "2023-03-25T12:12:42.625Z"
   },
   {
    "duration": 248,
    "start_time": "2023-03-25T12:12:42.640Z"
   },
   {
    "duration": 146,
    "start_time": "2023-03-25T12:12:42.891Z"
   },
   {
    "duration": 327,
    "start_time": "2023-03-25T12:12:43.039Z"
   },
   {
    "duration": 240,
    "start_time": "2023-03-25T12:12:43.367Z"
   },
   {
    "duration": 95,
    "start_time": "2023-03-25T12:12:43.609Z"
   },
   {
    "duration": 61,
    "start_time": "2023-03-25T12:12:43.705Z"
   },
   {
    "duration": 50,
    "start_time": "2023-03-25T12:12:43.768Z"
   },
   {
    "duration": 79,
    "start_time": "2023-03-25T12:12:44.041Z"
   },
   {
    "duration": 501,
    "start_time": "2023-03-25T12:12:44.220Z"
   },
   {
    "duration": 341,
    "start_time": "2023-03-25T12:12:44.722Z"
   },
   {
    "duration": 18,
    "start_time": "2023-03-25T12:12:45.066Z"
   },
   {
    "duration": 303,
    "start_time": "2023-03-25T12:12:45.086Z"
   },
   {
    "duration": 17,
    "start_time": "2023-03-25T12:12:45.391Z"
   },
   {
    "duration": 322,
    "start_time": "2023-03-25T12:12:45.410Z"
   },
   {
    "duration": 445,
    "start_time": "2023-03-25T12:12:45.740Z"
   },
   {
    "duration": 385,
    "start_time": "2023-03-25T12:12:46.188Z"
   },
   {
    "duration": 443,
    "start_time": "2023-03-25T12:12:46.575Z"
   },
   {
    "duration": 309,
    "start_time": "2023-03-25T12:12:47.020Z"
   },
   {
    "duration": 264,
    "start_time": "2023-03-25T12:12:47.331Z"
   },
   {
    "duration": 51,
    "start_time": "2023-03-25T12:12:47.597Z"
   },
   {
    "duration": 4,
    "start_time": "2023-03-25T12:12:47.651Z"
   },
   {
    "duration": 20,
    "start_time": "2023-03-25T12:12:47.656Z"
   },
   {
    "duration": 3,
    "start_time": "2023-03-25T12:12:48.198Z"
   },
   {
    "duration": 275,
    "start_time": "2023-03-25T12:12:48.406Z"
   },
   {
    "duration": 11,
    "start_time": "2023-03-25T12:12:49.979Z"
   },
   {
    "duration": 144,
    "start_time": "2023-03-25T12:12:56.089Z"
   },
   {
    "duration": 11,
    "start_time": "2023-03-25T12:13:04.076Z"
   },
   {
    "duration": 9,
    "start_time": "2023-03-25T12:13:05.534Z"
   },
   {
    "duration": 27,
    "start_time": "2023-03-25T12:13:06.526Z"
   },
   {
    "duration": 890,
    "start_time": "2023-03-25T12:14:08.077Z"
   },
   {
    "duration": 68,
    "start_time": "2023-03-25T12:14:30.708Z"
   },
   {
    "duration": 3,
    "start_time": "2023-03-25T12:14:34.406Z"
   },
   {
    "duration": 51291,
    "start_time": "2023-03-25T12:14:34.803Z"
   },
   {
    "duration": 1482,
    "start_time": "2023-03-25T12:51:21.839Z"
   },
   {
    "duration": 823,
    "start_time": "2023-03-25T12:51:24.194Z"
   },
   {
    "duration": 151,
    "start_time": "2023-03-25T12:51:25.019Z"
   },
   {
    "duration": 118,
    "start_time": "2023-03-25T12:51:25.172Z"
   },
   {
    "duration": 3,
    "start_time": "2023-03-25T12:51:31.670Z"
   },
   {
    "duration": 861,
    "start_time": "2023-03-25T12:51:31.774Z"
   },
   {
    "duration": 151,
    "start_time": "2023-03-25T12:51:32.637Z"
   },
   {
    "duration": 128,
    "start_time": "2023-03-25T12:51:32.790Z"
   },
   {
    "duration": 448,
    "start_time": "2023-03-25T12:51:32.920Z"
   },
   {
    "duration": 451,
    "start_time": "2023-03-25T12:51:33.369Z"
   },
   {
    "duration": 4,
    "start_time": "2023-03-25T12:51:33.821Z"
   },
   {
    "duration": 154,
    "start_time": "2023-03-25T12:51:33.827Z"
   },
   {
    "duration": 17,
    "start_time": "2023-03-25T12:51:33.983Z"
   },
   {
    "duration": 104,
    "start_time": "2023-03-25T12:51:34.002Z"
   },
   {
    "duration": 4,
    "start_time": "2023-03-25T12:51:34.108Z"
   },
   {
    "duration": 270,
    "start_time": "2023-03-25T12:51:34.113Z"
   },
   {
    "duration": 148,
    "start_time": "2023-03-25T12:51:34.434Z"
   },
   {
    "duration": 347,
    "start_time": "2023-03-25T12:51:34.738Z"
   },
   {
    "duration": 250,
    "start_time": "2023-03-25T12:51:35.266Z"
   },
   {
    "duration": 101,
    "start_time": "2023-03-25T12:51:35.518Z"
   },
   {
    "duration": 55,
    "start_time": "2023-03-25T12:51:35.655Z"
   },
   {
    "duration": 65,
    "start_time": "2023-03-25T12:51:35.827Z"
   },
   {
    "duration": 94,
    "start_time": "2023-03-25T12:51:36.196Z"
   },
   {
    "duration": 484,
    "start_time": "2023-03-25T12:51:36.372Z"
   },
   {
    "duration": 421,
    "start_time": "2023-03-25T12:51:36.859Z"
   },
   {
    "duration": 17,
    "start_time": "2023-03-25T12:51:37.282Z"
   },
   {
    "duration": 310,
    "start_time": "2023-03-25T12:51:37.300Z"
   },
   {
    "duration": 33,
    "start_time": "2023-03-25T12:51:37.612Z"
   },
   {
    "duration": 328,
    "start_time": "2023-03-25T12:51:37.703Z"
   },
   {
    "duration": 337,
    "start_time": "2023-03-25T12:51:38.034Z"
   },
   {
    "duration": 440,
    "start_time": "2023-03-25T12:51:38.373Z"
   },
   {
    "duration": 358,
    "start_time": "2023-03-25T12:51:38.815Z"
   },
   {
    "duration": 301,
    "start_time": "2023-03-25T12:51:39.175Z"
   },
   {
    "duration": 130,
    "start_time": "2023-03-25T12:51:39.478Z"
   },
   {
    "duration": 61,
    "start_time": "2023-03-25T12:51:39.609Z"
   },
   {
    "duration": 3,
    "start_time": "2023-03-25T12:51:39.672Z"
   },
   {
    "duration": 10,
    "start_time": "2023-03-25T12:51:39.977Z"
   },
   {
    "duration": 2,
    "start_time": "2023-03-25T12:51:40.159Z"
   },
   {
    "duration": 278,
    "start_time": "2023-03-25T12:51:40.376Z"
   },
   {
    "duration": 11,
    "start_time": "2023-03-25T12:51:40.656Z"
   },
   {
    "duration": 16,
    "start_time": "2023-03-25T12:51:40.754Z"
   },
   {
    "duration": 38,
    "start_time": "2023-03-25T12:51:40.939Z"
   },
   {
    "duration": 949,
    "start_time": "2023-03-25T12:51:41.705Z"
   },
   {
    "duration": 4,
    "start_time": "2023-03-25T12:51:42.658Z"
   },
   {
    "duration": 3,
    "start_time": "2023-03-25T12:51:52.104Z"
   },
   {
    "duration": 52,
    "start_time": "2023-03-25T12:52:00.655Z"
   },
   {
    "duration": 141,
    "start_time": "2023-03-25T12:52:13.658Z"
   },
   {
    "duration": 3,
    "start_time": "2023-03-25T12:52:50.110Z"
   },
   {
    "duration": 3627,
    "start_time": "2023-03-25T12:52:54.103Z"
   },
   {
    "duration": 1391,
    "start_time": "2023-03-25T13:04:29.298Z"
   },
   {
    "duration": 1392,
    "start_time": "2023-03-25T13:11:50.161Z"
   },
   {
    "duration": 805,
    "start_time": "2023-03-25T13:11:52.692Z"
   },
   {
    "duration": 134,
    "start_time": "2023-03-25T13:11:53.499Z"
   },
   {
    "duration": 118,
    "start_time": "2023-03-25T13:11:53.635Z"
   },
   {
    "duration": 442,
    "start_time": "2023-03-25T13:11:53.755Z"
   },
   {
    "duration": 492,
    "start_time": "2023-03-25T13:11:54.199Z"
   },
   {
    "duration": 4,
    "start_time": "2023-03-25T13:11:54.693Z"
   },
   {
    "duration": 136,
    "start_time": "2023-03-25T13:11:54.698Z"
   },
   {
    "duration": 19,
    "start_time": "2023-03-25T13:11:54.836Z"
   },
   {
    "duration": 97,
    "start_time": "2023-03-25T13:11:54.857Z"
   },
   {
    "duration": 4,
    "start_time": "2023-03-25T13:11:54.956Z"
   },
   {
    "duration": 254,
    "start_time": "2023-03-25T13:11:54.962Z"
   },
   {
    "duration": 161,
    "start_time": "2023-03-25T13:11:55.351Z"
   },
   {
    "duration": 328,
    "start_time": "2023-03-25T13:11:55.583Z"
   },
   {
    "duration": 245,
    "start_time": "2023-03-25T13:11:55.937Z"
   },
   {
    "duration": 116,
    "start_time": "2023-03-25T13:11:56.185Z"
   },
   {
    "duration": 70,
    "start_time": "2023-03-25T13:11:56.318Z"
   },
   {
    "duration": 57,
    "start_time": "2023-03-25T13:11:57.223Z"
   },
   {
    "duration": 83,
    "start_time": "2023-03-25T13:11:57.583Z"
   },
   {
    "duration": 430,
    "start_time": "2023-03-25T13:11:57.768Z"
   },
   {
    "duration": 448,
    "start_time": "2023-03-25T13:11:58.201Z"
   },
   {
    "duration": 19,
    "start_time": "2023-03-25T13:11:58.655Z"
   },
   {
    "duration": 316,
    "start_time": "2023-03-25T13:11:58.676Z"
   },
   {
    "duration": 22,
    "start_time": "2023-03-25T13:11:58.994Z"
   },
   {
    "duration": 358,
    "start_time": "2023-03-25T13:11:59.018Z"
   },
   {
    "duration": 318,
    "start_time": "2023-03-25T13:11:59.378Z"
   },
   {
    "duration": 390,
    "start_time": "2023-03-25T13:11:59.698Z"
   },
   {
    "duration": 362,
    "start_time": "2023-03-25T13:12:00.090Z"
   },
   {
    "duration": 354,
    "start_time": "2023-03-25T13:12:00.454Z"
   },
   {
    "duration": 146,
    "start_time": "2023-03-25T13:12:00.809Z"
   },
   {
    "duration": 42,
    "start_time": "2023-03-25T13:12:00.957Z"
   },
   {
    "duration": 8,
    "start_time": "2023-03-25T13:12:01.002Z"
   },
   {
    "duration": 13,
    "start_time": "2023-03-25T13:12:01.215Z"
   },
   {
    "duration": 3,
    "start_time": "2023-03-25T13:12:01.383Z"
   },
   {
    "duration": 278,
    "start_time": "2023-03-25T13:12:01.559Z"
   },
   {
    "duration": 13,
    "start_time": "2023-03-25T13:12:01.849Z"
   },
   {
    "duration": 12,
    "start_time": "2023-03-25T13:12:01.908Z"
   },
   {
    "duration": 31,
    "start_time": "2023-03-25T13:12:02.088Z"
   },
   {
    "duration": 822,
    "start_time": "2023-03-25T13:12:02.938Z"
   },
   {
    "duration": 3,
    "start_time": "2023-03-25T13:12:11.123Z"
   },
   {
    "duration": 1440,
    "start_time": "2023-03-25T13:37:17.613Z"
   },
   {
    "duration": 791,
    "start_time": "2023-03-25T13:37:19.058Z"
   },
   {
    "duration": 123,
    "start_time": "2023-03-25T13:37:19.854Z"
   },
   {
    "duration": 121,
    "start_time": "2023-03-25T13:37:19.979Z"
   },
   {
    "duration": 472,
    "start_time": "2023-03-25T13:37:20.102Z"
   },
   {
    "duration": 476,
    "start_time": "2023-03-25T13:37:20.576Z"
   },
   {
    "duration": 4,
    "start_time": "2023-03-25T13:37:21.481Z"
   },
   {
    "duration": 124,
    "start_time": "2023-03-25T13:37:21.678Z"
   },
   {
    "duration": 16,
    "start_time": "2023-03-25T13:37:21.895Z"
   },
   {
    "duration": 80,
    "start_time": "2023-03-25T13:37:22.206Z"
   },
   {
    "duration": 4,
    "start_time": "2023-03-25T13:37:22.403Z"
   },
   {
    "duration": 249,
    "start_time": "2023-03-25T13:37:22.566Z"
   },
   {
    "duration": 149,
    "start_time": "2023-03-25T13:37:22.881Z"
   },
   {
    "duration": 337,
    "start_time": "2023-03-25T13:37:23.254Z"
   },
   {
    "duration": 245,
    "start_time": "2023-03-25T13:37:23.608Z"
   },
   {
    "duration": 98,
    "start_time": "2023-03-25T13:37:23.855Z"
   },
   {
    "duration": 55,
    "start_time": "2023-03-25T13:37:23.961Z"
   },
   {
    "duration": 51,
    "start_time": "2023-03-25T13:37:24.558Z"
   },
   {
    "duration": 85,
    "start_time": "2023-03-25T13:37:24.983Z"
   },
   {
    "duration": 428,
    "start_time": "2023-03-25T13:37:25.181Z"
   },
   {
    "duration": 402,
    "start_time": "2023-03-25T13:37:25.612Z"
   },
   {
    "duration": 32,
    "start_time": "2023-03-25T13:37:26.017Z"
   },
   {
    "duration": 326,
    "start_time": "2023-03-25T13:37:26.054Z"
   },
   {
    "duration": 23,
    "start_time": "2023-03-25T13:37:26.382Z"
   },
   {
    "duration": 360,
    "start_time": "2023-03-25T13:37:26.407Z"
   },
   {
    "duration": 428,
    "start_time": "2023-03-25T13:37:26.769Z"
   },
   {
    "duration": 419,
    "start_time": "2023-03-25T13:37:27.199Z"
   },
   {
    "duration": 338,
    "start_time": "2023-03-25T13:37:27.619Z"
   },
   {
    "duration": 305,
    "start_time": "2023-03-25T13:37:27.960Z"
   },
   {
    "duration": 126,
    "start_time": "2023-03-25T13:37:28.266Z"
   },
   {
    "duration": 57,
    "start_time": "2023-03-25T13:37:28.394Z"
   },
   {
    "duration": 4,
    "start_time": "2023-03-25T13:37:28.454Z"
   },
   {
    "duration": 16,
    "start_time": "2023-03-25T13:37:28.460Z"
   },
   {
    "duration": 3,
    "start_time": "2023-03-25T13:37:28.570Z"
   },
   {
    "duration": 2,
    "start_time": "2023-03-25T13:37:28.763Z"
   },
   {
    "duration": 10,
    "start_time": "2023-03-25T13:37:28.911Z"
   },
   {
    "duration": 10,
    "start_time": "2023-03-25T13:37:29.091Z"
   },
   {
    "duration": 342,
    "start_time": "2023-03-25T13:37:29.292Z"
   },
   {
    "duration": 217,
    "start_time": "2023-03-25T13:37:29.636Z"
   },
   {
    "duration": 1756,
    "start_time": "2023-03-25T13:38:52.008Z"
   },
   {
    "duration": 4,
    "start_time": "2023-03-25T13:39:38.706Z"
   },
   {
    "duration": 127,
    "start_time": "2023-03-25T13:39:41.649Z"
   },
   {
    "duration": 0,
    "start_time": "2023-03-25T13:39:41.778Z"
   },
   {
    "duration": 9,
    "start_time": "2023-03-25T13:39:41.951Z"
   },
   {
    "duration": 14,
    "start_time": "2023-03-25T13:39:42.131Z"
   },
   {
    "duration": 8,
    "start_time": "2023-03-25T13:39:42.321Z"
   },
   {
    "duration": 8,
    "start_time": "2023-03-25T13:39:42.636Z"
   },
   {
    "duration": 4,
    "start_time": "2023-03-25T13:39:42.787Z"
   },
   {
    "duration": 8,
    "start_time": "2023-03-25T13:39:42.977Z"
   },
   {
    "duration": 4,
    "start_time": "2023-03-25T13:39:51.351Z"
   },
   {
    "duration": 777,
    "start_time": "2023-03-25T13:39:51.537Z"
   },
   {
    "duration": 139,
    "start_time": "2023-03-25T13:39:52.316Z"
   },
   {
    "duration": 137,
    "start_time": "2023-03-25T13:39:52.456Z"
   },
   {
    "duration": 419,
    "start_time": "2023-03-25T13:39:52.595Z"
   },
   {
    "duration": 472,
    "start_time": "2023-03-25T13:39:53.015Z"
   },
   {
    "duration": 3,
    "start_time": "2023-03-25T13:39:53.489Z"
   },
   {
    "duration": 133,
    "start_time": "2023-03-25T13:39:53.494Z"
   },
   {
    "duration": 29,
    "start_time": "2023-03-25T13:39:53.629Z"
   },
   {
    "duration": 86,
    "start_time": "2023-03-25T13:39:54.317Z"
   },
   {
    "duration": 4,
    "start_time": "2023-03-25T13:39:54.490Z"
   },
   {
    "duration": 252,
    "start_time": "2023-03-25T13:39:54.657Z"
   },
   {
    "duration": 152,
    "start_time": "2023-03-25T13:39:55.051Z"
   },
   {
    "duration": 355,
    "start_time": "2023-03-25T13:39:55.405Z"
   },
   {
    "duration": 244,
    "start_time": "2023-03-25T13:39:55.762Z"
   },
   {
    "duration": 112,
    "start_time": "2023-03-25T13:39:56.008Z"
   },
   {
    "duration": 68,
    "start_time": "2023-03-25T13:39:56.123Z"
   },
   {
    "duration": 61,
    "start_time": "2023-03-25T13:39:56.417Z"
   },
   {
    "duration": 82,
    "start_time": "2023-03-25T13:39:56.832Z"
   },
   {
    "duration": 420,
    "start_time": "2023-03-25T13:39:57.056Z"
   },
   {
    "duration": 396,
    "start_time": "2023-03-25T13:39:57.478Z"
   },
   {
    "duration": 17,
    "start_time": "2023-03-25T13:39:57.876Z"
   },
   {
    "duration": 307,
    "start_time": "2023-03-25T13:39:57.894Z"
   },
   {
    "duration": 20,
    "start_time": "2023-03-25T13:39:58.202Z"
   },
   {
    "duration": 332,
    "start_time": "2023-03-25T13:39:58.223Z"
   },
   {
    "duration": 322,
    "start_time": "2023-03-25T13:39:58.557Z"
   },
   {
    "duration": 393,
    "start_time": "2023-03-25T13:39:58.880Z"
   },
   {
    "duration": 323,
    "start_time": "2023-03-25T13:39:59.275Z"
   },
   {
    "duration": 303,
    "start_time": "2023-03-25T13:39:59.599Z"
   },
   {
    "duration": 122,
    "start_time": "2023-03-25T13:39:59.904Z"
   },
   {
    "duration": 47,
    "start_time": "2023-03-25T13:40:00.028Z"
   },
   {
    "duration": 3,
    "start_time": "2023-03-25T13:40:00.077Z"
   },
   {
    "duration": 9,
    "start_time": "2023-03-25T13:40:01.110Z"
   },
   {
    "duration": 3,
    "start_time": "2023-03-25T13:40:01.287Z"
   },
   {
    "duration": 307,
    "start_time": "2023-03-25T13:40:16.530Z"
   },
   {
    "duration": 14,
    "start_time": "2023-03-25T13:40:17.039Z"
   },
   {
    "duration": 13,
    "start_time": "2023-03-25T13:40:20.722Z"
   },
   {
    "duration": 3,
    "start_time": "2023-03-25T13:40:22.879Z"
   },
   {
    "duration": 36,
    "start_time": "2023-03-25T13:40:23.441Z"
   },
   {
    "duration": 843,
    "start_time": "2023-03-25T13:40:26.327Z"
   },
   {
    "duration": 3,
    "start_time": "2023-03-25T13:40:32.660Z"
   },
   {
    "duration": 51604,
    "start_time": "2023-03-25T13:40:39.497Z"
   },
   {
    "duration": 570421,
    "start_time": "2023-03-25T13:41:39.038Z"
   },
   {
    "duration": 0,
    "start_time": "2023-03-25T13:51:09.461Z"
   },
   {
    "duration": 35059,
    "start_time": "2023-03-25T13:51:19.931Z"
   },
   {
    "duration": 66756,
    "start_time": "2023-03-25T13:52:05.511Z"
   },
   {
    "duration": 0,
    "start_time": "2023-03-25T13:53:12.354Z"
   },
   {
    "duration": 33136,
    "start_time": "2023-03-25T13:53:17.083Z"
   },
   {
    "duration": 0,
    "start_time": "2023-03-25T14:12:18.081Z"
   },
   {
    "duration": 1413,
    "start_time": "2023-03-25T14:15:32.997Z"
   },
   {
    "duration": 921,
    "start_time": "2023-03-25T14:15:34.412Z"
   },
   {
    "duration": 151,
    "start_time": "2023-03-25T14:15:35.335Z"
   },
   {
    "duration": 137,
    "start_time": "2023-03-25T14:15:35.489Z"
   },
   {
    "duration": 483,
    "start_time": "2023-03-25T14:15:35.627Z"
   },
   {
    "duration": 605,
    "start_time": "2023-03-25T14:15:36.112Z"
   },
   {
    "duration": 4,
    "start_time": "2023-03-25T14:15:36.719Z"
   },
   {
    "duration": 169,
    "start_time": "2023-03-25T14:15:36.724Z"
   },
   {
    "duration": 19,
    "start_time": "2023-03-25T14:15:36.895Z"
   },
   {
    "duration": 72,
    "start_time": "2023-03-25T14:15:36.966Z"
   },
   {
    "duration": 3,
    "start_time": "2023-03-25T14:15:37.131Z"
   },
   {
    "duration": 277,
    "start_time": "2023-03-25T14:15:37.300Z"
   },
   {
    "duration": 178,
    "start_time": "2023-03-25T14:15:37.675Z"
   },
   {
    "duration": 151,
    "start_time": "2023-03-25T14:15:39.766Z"
   },
   {
    "duration": 367,
    "start_time": "2023-03-25T14:15:40.115Z"
   },
   {
    "duration": 277,
    "start_time": "2023-03-25T14:15:40.484Z"
   },
   {
    "duration": 102,
    "start_time": "2023-03-25T14:15:40.763Z"
   },
   {
    "duration": 59,
    "start_time": "2023-03-25T14:15:40.867Z"
   },
   {
    "duration": 50,
    "start_time": "2023-03-25T14:15:40.989Z"
   },
   {
    "duration": 84,
    "start_time": "2023-03-25T14:15:41.340Z"
   },
   {
    "duration": 465,
    "start_time": "2023-03-25T14:15:41.512Z"
   },
   {
    "duration": 422,
    "start_time": "2023-03-25T14:15:41.978Z"
   },
   {
    "duration": 17,
    "start_time": "2023-03-25T14:15:42.402Z"
   },
   {
    "duration": 328,
    "start_time": "2023-03-25T14:15:42.421Z"
   },
   {
    "duration": 25,
    "start_time": "2023-03-25T14:15:42.751Z"
   },
   {
    "duration": 327,
    "start_time": "2023-03-25T14:15:42.777Z"
   },
   {
    "duration": 372,
    "start_time": "2023-03-25T14:15:43.106Z"
   },
   {
    "duration": 431,
    "start_time": "2023-03-25T14:15:43.480Z"
   },
   {
    "duration": 361,
    "start_time": "2023-03-25T14:15:43.912Z"
   },
   {
    "duration": 332,
    "start_time": "2023-03-25T14:15:44.276Z"
   },
   {
    "duration": 148,
    "start_time": "2023-03-25T14:15:44.609Z"
   },
   {
    "duration": 51,
    "start_time": "2023-03-25T14:15:44.759Z"
   },
   {
    "duration": 3,
    "start_time": "2023-03-25T14:15:44.812Z"
   },
   {
    "duration": 29,
    "start_time": "2023-03-25T14:15:44.816Z"
   },
   {
    "duration": 3,
    "start_time": "2023-03-25T14:15:44.893Z"
   },
   {
    "duration": 319,
    "start_time": "2023-03-25T14:15:45.063Z"
   },
   {
    "duration": 10,
    "start_time": "2023-03-25T14:15:45.384Z"
   },
   {
    "duration": 13,
    "start_time": "2023-03-25T14:15:45.467Z"
   },
   {
    "duration": 2,
    "start_time": "2023-03-25T14:15:45.618Z"
   },
   {
    "duration": 47,
    "start_time": "2023-03-25T14:15:45.810Z"
   },
   {
    "duration": 957,
    "start_time": "2023-03-25T14:15:46.590Z"
   },
   {
    "duration": 9,
    "start_time": "2023-03-25T14:15:47.549Z"
   },
   {
    "duration": 5106,
    "start_time": "2023-03-25T14:15:47.560Z"
   },
   {
    "duration": 3,
    "start_time": "2023-03-25T14:15:52.668Z"
   },
   {
    "duration": 174774,
    "start_time": "2023-03-25T14:16:01.107Z"
   },
   {
    "duration": 1514,
    "start_time": "2023-03-25T14:19:28.411Z"
   },
   {
    "duration": 903,
    "start_time": "2023-03-25T14:19:29.927Z"
   },
   {
    "duration": 158,
    "start_time": "2023-03-25T14:19:30.831Z"
   },
   {
    "duration": 132,
    "start_time": "2023-03-25T14:19:30.991Z"
   },
   {
    "duration": 491,
    "start_time": "2023-03-25T14:19:31.124Z"
   },
   {
    "duration": 551,
    "start_time": "2023-03-25T14:19:31.616Z"
   },
   {
    "duration": 5,
    "start_time": "2023-03-25T14:19:32.169Z"
   },
   {
    "duration": 141,
    "start_time": "2023-03-25T14:19:32.176Z"
   },
   {
    "duration": 30,
    "start_time": "2023-03-25T14:19:32.319Z"
   },
   {
    "duration": 74,
    "start_time": "2023-03-25T14:19:32.360Z"
   },
   {
    "duration": 5,
    "start_time": "2023-03-25T14:19:32.436Z"
   },
   {
    "duration": 264,
    "start_time": "2023-03-25T14:19:32.442Z"
   },
   {
    "duration": 175,
    "start_time": "2023-03-25T14:19:32.707Z"
   },
   {
    "duration": 354,
    "start_time": "2023-03-25T14:19:32.883Z"
   },
   {
    "duration": 273,
    "start_time": "2023-03-25T14:19:33.240Z"
   },
   {
    "duration": 108,
    "start_time": "2023-03-25T14:19:33.515Z"
   },
   {
    "duration": 77,
    "start_time": "2023-03-25T14:19:33.624Z"
   },
   {
    "duration": 67,
    "start_time": "2023-03-25T14:19:33.703Z"
   },
   {
    "duration": 102,
    "start_time": "2023-03-25T14:19:33.773Z"
   },
   {
    "duration": 487,
    "start_time": "2023-03-25T14:19:33.877Z"
   },
   {
    "duration": 443,
    "start_time": "2023-03-25T14:19:34.367Z"
   },
   {
    "duration": 36,
    "start_time": "2023-03-25T14:19:34.813Z"
   },
   {
    "duration": 361,
    "start_time": "2023-03-25T14:19:34.862Z"
   },
   {
    "duration": 40,
    "start_time": "2023-03-25T14:19:35.225Z"
   },
   {
    "duration": 335,
    "start_time": "2023-03-25T14:19:35.268Z"
   },
   {
    "duration": 358,
    "start_time": "2023-03-25T14:19:35.604Z"
   },
   {
    "duration": 457,
    "start_time": "2023-03-25T14:19:35.968Z"
   },
   {
    "duration": 433,
    "start_time": "2023-03-25T14:19:36.427Z"
   },
   {
    "duration": 316,
    "start_time": "2023-03-25T14:19:36.862Z"
   },
   {
    "duration": 138,
    "start_time": "2023-03-25T14:19:37.180Z"
   },
   {
    "duration": 59,
    "start_time": "2023-03-25T14:19:37.320Z"
   },
   {
    "duration": 3,
    "start_time": "2023-03-25T14:19:37.381Z"
   },
   {
    "duration": 9,
    "start_time": "2023-03-25T14:19:37.386Z"
   },
   {
    "duration": 3,
    "start_time": "2023-03-25T14:19:37.396Z"
   },
   {
    "duration": 319,
    "start_time": "2023-03-25T14:19:37.401Z"
   },
   {
    "duration": 11,
    "start_time": "2023-03-25T14:19:37.722Z"
   },
   {
    "duration": 21,
    "start_time": "2023-03-25T14:19:37.740Z"
   },
   {
    "duration": 2,
    "start_time": "2023-03-25T14:19:37.788Z"
   },
   {
    "duration": 37,
    "start_time": "2023-03-25T14:19:37.960Z"
   },
   {
    "duration": 874,
    "start_time": "2023-03-25T14:19:38.675Z"
   },
   {
    "duration": 0,
    "start_time": "2023-03-25T14:22:47.047Z"
   },
   {
    "duration": 1485,
    "start_time": "2023-03-25T14:22:52.669Z"
   },
   {
    "duration": 911,
    "start_time": "2023-03-25T14:22:54.156Z"
   },
   {
    "duration": 145,
    "start_time": "2023-03-25T14:22:55.070Z"
   },
   {
    "duration": 132,
    "start_time": "2023-03-25T14:22:55.217Z"
   },
   {
    "duration": 473,
    "start_time": "2023-03-25T14:22:55.351Z"
   },
   {
    "duration": 570,
    "start_time": "2023-03-25T14:22:55.825Z"
   },
   {
    "duration": 4,
    "start_time": "2023-03-25T14:22:56.396Z"
   },
   {
    "duration": 152,
    "start_time": "2023-03-25T14:22:56.401Z"
   },
   {
    "duration": 33,
    "start_time": "2023-03-25T14:22:56.554Z"
   },
   {
    "duration": 98,
    "start_time": "2023-03-25T14:22:56.590Z"
   },
   {
    "duration": 6,
    "start_time": "2023-03-25T14:22:56.690Z"
   },
   {
    "duration": 331,
    "start_time": "2023-03-25T14:22:56.698Z"
   },
   {
    "duration": 194,
    "start_time": "2023-03-25T14:22:57.031Z"
   },
   {
    "duration": 380,
    "start_time": "2023-03-25T14:22:57.226Z"
   },
   {
    "duration": 273,
    "start_time": "2023-03-25T14:22:57.607Z"
   },
   {
    "duration": 108,
    "start_time": "2023-03-25T14:22:57.881Z"
   },
   {
    "duration": 84,
    "start_time": "2023-03-25T14:22:57.990Z"
   },
   {
    "duration": 52,
    "start_time": "2023-03-25T14:22:58.076Z"
   },
   {
    "duration": 96,
    "start_time": "2023-03-25T14:22:58.129Z"
   },
   {
    "duration": 473,
    "start_time": "2023-03-25T14:22:58.227Z"
   },
   {
    "duration": 411,
    "start_time": "2023-03-25T14:22:58.702Z"
   },
   {
    "duration": 26,
    "start_time": "2023-03-25T14:22:59.115Z"
   },
   {
    "duration": 315,
    "start_time": "2023-03-25T14:22:59.143Z"
   },
   {
    "duration": 21,
    "start_time": "2023-03-25T14:22:59.463Z"
   },
   {
    "duration": 329,
    "start_time": "2023-03-25T14:22:59.486Z"
   },
   {
    "duration": 377,
    "start_time": "2023-03-25T14:22:59.817Z"
   },
   {
    "duration": 465,
    "start_time": "2023-03-25T14:23:00.196Z"
   },
   {
    "duration": 352,
    "start_time": "2023-03-25T14:23:00.662Z"
   },
   {
    "duration": 337,
    "start_time": "2023-03-25T14:23:01.016Z"
   },
   {
    "duration": 125,
    "start_time": "2023-03-25T14:23:01.355Z"
   },
   {
    "duration": 41,
    "start_time": "2023-03-25T14:23:01.481Z"
   },
   {
    "duration": 8,
    "start_time": "2023-03-25T14:23:01.524Z"
   },
   {
    "duration": 41,
    "start_time": "2023-03-25T14:23:01.540Z"
   },
   {
    "duration": 3,
    "start_time": "2023-03-25T14:23:01.629Z"
   },
   {
    "duration": 296,
    "start_time": "2023-03-25T14:23:01.867Z"
   },
   {
    "duration": 13,
    "start_time": "2023-03-25T14:23:02.166Z"
   },
   {
    "duration": 12,
    "start_time": "2023-03-25T14:23:02.189Z"
   },
   {
    "duration": 2,
    "start_time": "2023-03-25T14:23:02.379Z"
   },
   {
    "duration": 32,
    "start_time": "2023-03-25T14:23:02.575Z"
   },
   {
    "duration": 808,
    "start_time": "2023-03-25T14:23:03.367Z"
   },
   {
    "duration": 121968,
    "start_time": "2023-03-25T14:23:10.765Z"
   },
   {
    "duration": 0,
    "start_time": "2023-03-25T14:27:39.388Z"
   },
   {
    "duration": 1505,
    "start_time": "2023-03-25T14:27:54.300Z"
   },
   {
    "duration": 965,
    "start_time": "2023-03-25T14:27:55.808Z"
   },
   {
    "duration": 178,
    "start_time": "2023-03-25T14:27:56.775Z"
   },
   {
    "duration": 155,
    "start_time": "2023-03-25T14:27:56.958Z"
   },
   {
    "duration": 526,
    "start_time": "2023-03-25T14:27:57.116Z"
   },
   {
    "duration": 579,
    "start_time": "2023-03-25T14:27:57.644Z"
   },
   {
    "duration": 3,
    "start_time": "2023-03-25T14:27:58.225Z"
   },
   {
    "duration": 147,
    "start_time": "2023-03-25T14:27:58.243Z"
   },
   {
    "duration": 17,
    "start_time": "2023-03-25T14:27:58.391Z"
   },
   {
    "duration": 101,
    "start_time": "2023-03-25T14:27:58.409Z"
   },
   {
    "duration": 6,
    "start_time": "2023-03-25T14:27:58.511Z"
   },
   {
    "duration": 302,
    "start_time": "2023-03-25T14:27:58.520Z"
   },
   {
    "duration": 182,
    "start_time": "2023-03-25T14:27:58.825Z"
   },
   {
    "duration": 365,
    "start_time": "2023-03-25T14:27:59.070Z"
   },
   {
    "duration": 282,
    "start_time": "2023-03-25T14:27:59.437Z"
   },
   {
    "duration": 116,
    "start_time": "2023-03-25T14:27:59.722Z"
   },
   {
    "duration": 80,
    "start_time": "2023-03-25T14:27:59.840Z"
   },
   {
    "duration": 79,
    "start_time": "2023-03-25T14:27:59.923Z"
   },
   {
    "duration": 102,
    "start_time": "2023-03-25T14:28:00.295Z"
   },
   {
    "duration": 516,
    "start_time": "2023-03-25T14:28:00.467Z"
   },
   {
    "duration": 432,
    "start_time": "2023-03-25T14:28:00.985Z"
   },
   {
    "duration": 29,
    "start_time": "2023-03-25T14:28:01.419Z"
   },
   {
    "duration": 342,
    "start_time": "2023-03-25T14:28:01.450Z"
   },
   {
    "duration": 25,
    "start_time": "2023-03-25T14:28:01.794Z"
   },
   {
    "duration": 347,
    "start_time": "2023-03-25T14:28:01.820Z"
   },
   {
    "duration": 360,
    "start_time": "2023-03-25T14:28:02.169Z"
   },
   {
    "duration": 460,
    "start_time": "2023-03-25T14:28:02.532Z"
   },
   {
    "duration": 379,
    "start_time": "2023-03-25T14:28:02.993Z"
   },
   {
    "duration": 317,
    "start_time": "2023-03-25T14:28:03.375Z"
   },
   {
    "duration": 144,
    "start_time": "2023-03-25T14:28:03.693Z"
   },
   {
    "duration": 70,
    "start_time": "2023-03-25T14:28:03.838Z"
   },
   {
    "duration": 4,
    "start_time": "2023-03-25T14:28:03.910Z"
   },
   {
    "duration": 32,
    "start_time": "2023-03-25T14:28:03.917Z"
   },
   {
    "duration": 10,
    "start_time": "2023-03-25T14:28:03.951Z"
   },
   {
    "duration": 310,
    "start_time": "2023-03-25T14:28:04.000Z"
   },
   {
    "duration": 11,
    "start_time": "2023-03-25T14:28:04.313Z"
   },
   {
    "duration": 31,
    "start_time": "2023-03-25T14:28:04.538Z"
   },
   {
    "duration": 2,
    "start_time": "2023-03-25T14:28:04.713Z"
   },
   {
    "duration": 38,
    "start_time": "2023-03-25T14:28:04.889Z"
   },
   {
    "duration": 740,
    "start_time": "2023-03-25T14:28:05.627Z"
   },
   {
    "duration": 3,
    "start_time": "2023-03-25T14:28:06.373Z"
   },
   {
    "duration": 383755,
    "start_time": "2023-03-25T14:28:12.134Z"
   },
   {
    "duration": 1503,
    "start_time": "2023-03-25T14:35:09.105Z"
   },
   {
    "duration": 1639,
    "start_time": "2023-03-25T14:35:16.696Z"
   },
   {
    "duration": 973,
    "start_time": "2023-03-25T14:35:18.337Z"
   },
   {
    "duration": 151,
    "start_time": "2023-03-25T14:35:19.311Z"
   },
   {
    "duration": 122,
    "start_time": "2023-03-25T14:35:19.464Z"
   },
   {
    "duration": 465,
    "start_time": "2023-03-25T14:35:19.588Z"
   },
   {
    "duration": 516,
    "start_time": "2023-03-25T14:35:20.063Z"
   },
   {
    "duration": 4,
    "start_time": "2023-03-25T14:35:20.580Z"
   },
   {
    "duration": 145,
    "start_time": "2023-03-25T14:35:20.586Z"
   },
   {
    "duration": 36,
    "start_time": "2023-03-25T14:35:20.733Z"
   },
   {
    "duration": 88,
    "start_time": "2023-03-25T14:35:20.771Z"
   },
   {
    "duration": 8,
    "start_time": "2023-03-25T14:35:20.860Z"
   },
   {
    "duration": 263,
    "start_time": "2023-03-25T14:35:20.870Z"
   },
   {
    "duration": 179,
    "start_time": "2023-03-25T14:35:21.134Z"
   },
   {
    "duration": 352,
    "start_time": "2023-03-25T14:35:21.314Z"
   },
   {
    "duration": 258,
    "start_time": "2023-03-25T14:35:21.668Z"
   },
   {
    "duration": 104,
    "start_time": "2023-03-25T14:35:21.928Z"
   },
   {
    "duration": 72,
    "start_time": "2023-03-25T14:35:22.035Z"
   },
   {
    "duration": 68,
    "start_time": "2023-03-25T14:35:22.109Z"
   },
   {
    "duration": 97,
    "start_time": "2023-03-25T14:35:22.178Z"
   },
   {
    "duration": 496,
    "start_time": "2023-03-25T14:35:22.277Z"
   },
   {
    "duration": 430,
    "start_time": "2023-03-25T14:35:22.775Z"
   },
   {
    "duration": 19,
    "start_time": "2023-03-25T14:35:23.207Z"
   },
   {
    "duration": 328,
    "start_time": "2023-03-25T14:35:23.239Z"
   },
   {
    "duration": 27,
    "start_time": "2023-03-25T14:35:23.569Z"
   },
   {
    "duration": 370,
    "start_time": "2023-03-25T14:35:23.597Z"
   },
   {
    "duration": 349,
    "start_time": "2023-03-25T14:35:23.969Z"
   },
   {
    "duration": 415,
    "start_time": "2023-03-25T14:35:24.320Z"
   },
   {
    "duration": 356,
    "start_time": "2023-03-25T14:35:24.749Z"
   },
   {
    "duration": 320,
    "start_time": "2023-03-25T14:35:25.106Z"
   },
   {
    "duration": 142,
    "start_time": "2023-03-25T14:35:25.428Z"
   },
   {
    "duration": 41,
    "start_time": "2023-03-25T14:35:25.572Z"
   },
   {
    "duration": 3,
    "start_time": "2023-03-25T14:35:25.615Z"
   },
   {
    "duration": 39,
    "start_time": "2023-03-25T14:35:25.620Z"
   },
   {
    "duration": 3,
    "start_time": "2023-03-25T14:35:25.662Z"
   },
   {
    "duration": 302,
    "start_time": "2023-03-25T14:35:25.668Z"
   },
   {
    "duration": 11,
    "start_time": "2023-03-25T14:35:25.972Z"
   },
   {
    "duration": 14,
    "start_time": "2023-03-25T14:35:25.985Z"
   },
   {
    "duration": 3,
    "start_time": "2023-03-25T14:35:26.000Z"
   },
   {
    "duration": 61,
    "start_time": "2023-03-25T14:35:26.005Z"
   },
   {
    "duration": 153,
    "start_time": "2023-03-25T14:35:33.933Z"
   },
   {
    "duration": 263837,
    "start_time": "2023-03-25T14:35:53.608Z"
   },
   {
    "duration": 1493,
    "start_time": "2023-03-25T14:40:33.583Z"
   },
   {
    "duration": 906,
    "start_time": "2023-03-25T14:40:35.078Z"
   },
   {
    "duration": 141,
    "start_time": "2023-03-25T14:40:37.567Z"
   },
   {
    "duration": 132,
    "start_time": "2023-03-25T14:40:37.795Z"
   },
   {
    "duration": 557,
    "start_time": "2023-03-25T14:40:38.309Z"
   },
   {
    "duration": 588,
    "start_time": "2023-03-25T14:40:38.868Z"
   },
   {
    "duration": 4,
    "start_time": "2023-03-25T14:40:39.459Z"
   },
   {
    "duration": 150,
    "start_time": "2023-03-25T14:40:39.465Z"
   },
   {
    "duration": 33,
    "start_time": "2023-03-25T14:40:39.616Z"
   },
   {
    "duration": 96,
    "start_time": "2023-03-25T14:40:39.655Z"
   },
   {
    "duration": 15,
    "start_time": "2023-03-25T14:40:39.753Z"
   },
   {
    "duration": 293,
    "start_time": "2023-03-25T14:40:39.774Z"
   },
   {
    "duration": 201,
    "start_time": "2023-03-25T14:40:40.070Z"
   },
   {
    "duration": 401,
    "start_time": "2023-03-25T14:40:40.337Z"
   },
   {
    "duration": 276,
    "start_time": "2023-03-25T14:40:40.746Z"
   },
   {
    "duration": 103,
    "start_time": "2023-03-25T14:40:41.024Z"
   },
   {
    "duration": 71,
    "start_time": "2023-03-25T14:40:41.129Z"
   },
   {
    "duration": 80,
    "start_time": "2023-03-25T14:40:41.202Z"
   },
   {
    "duration": 94,
    "start_time": "2023-03-25T14:40:41.523Z"
   },
   {
    "duration": 518,
    "start_time": "2023-03-25T14:40:41.670Z"
   },
   {
    "duration": 479,
    "start_time": "2023-03-25T14:40:42.190Z"
   },
   {
    "duration": 28,
    "start_time": "2023-03-25T14:40:42.671Z"
   },
   {
    "duration": 353,
    "start_time": "2023-03-25T14:40:42.701Z"
   },
   {
    "duration": 30,
    "start_time": "2023-03-25T14:40:43.056Z"
   },
   {
    "duration": 382,
    "start_time": "2023-03-25T14:40:43.088Z"
   },
   {
    "duration": 402,
    "start_time": "2023-03-25T14:40:43.472Z"
   },
   {
    "duration": 450,
    "start_time": "2023-03-25T14:40:43.877Z"
   },
   {
    "duration": 392,
    "start_time": "2023-03-25T14:40:44.329Z"
   },
   {
    "duration": 346,
    "start_time": "2023-03-25T14:40:44.723Z"
   },
   {
    "duration": 135,
    "start_time": "2023-03-25T14:40:45.071Z"
   },
   {
    "duration": 67,
    "start_time": "2023-03-25T14:40:45.207Z"
   },
   {
    "duration": 4,
    "start_time": "2023-03-25T14:40:45.275Z"
   },
   {
    "duration": 9,
    "start_time": "2023-03-25T14:40:45.281Z"
   },
   {
    "duration": 3,
    "start_time": "2023-03-25T14:40:45.291Z"
   },
   {
    "duration": 334,
    "start_time": "2023-03-25T14:40:45.296Z"
   },
   {
    "duration": 30,
    "start_time": "2023-03-25T14:40:45.632Z"
   },
   {
    "duration": 15,
    "start_time": "2023-03-25T14:40:45.666Z"
   },
   {
    "duration": 7,
    "start_time": "2023-03-25T14:40:45.683Z"
   },
   {
    "duration": 34,
    "start_time": "2023-03-25T14:40:45.879Z"
   },
   {
    "duration": 925,
    "start_time": "2023-03-25T14:40:54.919Z"
   },
   {
    "duration": 3,
    "start_time": "2023-03-25T14:40:57.420Z"
   },
   {
    "duration": 54978,
    "start_time": "2023-03-25T14:40:59.987Z"
   },
   {
    "duration": 2,
    "start_time": "2023-03-25T14:42:02.810Z"
   },
   {
    "duration": 37232,
    "start_time": "2023-03-25T14:42:05.126Z"
   },
   {
    "duration": 5,
    "start_time": "2023-03-25T14:42:51.012Z"
   },
   {
    "duration": 197,
    "start_time": "2023-03-25T14:42:55.775Z"
   },
   {
    "duration": 11,
    "start_time": "2023-03-25T14:43:18.577Z"
   },
   {
    "duration": 9,
    "start_time": "2023-03-25T14:43:24.083Z"
   },
   {
    "duration": 0,
    "start_time": "2023-03-25T14:49:29.262Z"
   },
   {
    "duration": 0,
    "start_time": "2023-03-25T14:49:29.263Z"
   },
   {
    "duration": 1793,
    "start_time": "2023-03-27T08:24:09.942Z"
   },
   {
    "duration": 3369,
    "start_time": "2023-03-27T08:24:11.737Z"
   },
   {
    "duration": 137,
    "start_time": "2023-03-27T08:24:15.108Z"
   },
   {
    "duration": 142,
    "start_time": "2023-03-27T08:24:15.247Z"
   },
   {
    "duration": 559,
    "start_time": "2023-03-27T08:24:18.450Z"
   },
   {
    "duration": 597,
    "start_time": "2023-03-27T08:24:19.116Z"
   },
   {
    "duration": 4,
    "start_time": "2023-03-27T08:24:21.168Z"
   },
   {
    "duration": 145,
    "start_time": "2023-03-27T08:24:23.318Z"
   },
   {
    "duration": 20,
    "start_time": "2023-03-27T08:24:23.537Z"
   },
   {
    "duration": 85,
    "start_time": "2023-03-27T08:24:26.931Z"
   },
   {
    "duration": 5,
    "start_time": "2023-03-27T08:24:50.502Z"
   },
   {
    "duration": 153,
    "start_time": "2023-03-27T08:24:56.311Z"
   },
   {
    "duration": 5,
    "start_time": "2023-03-27T08:25:56.298Z"
   },
   {
    "duration": 285,
    "start_time": "2023-03-27T08:25:56.980Z"
   },
   {
    "duration": 293,
    "start_time": "2023-03-27T08:26:22.447Z"
   },
   {
    "duration": 5,
    "start_time": "2023-03-27T08:27:46.428Z"
   },
   {
    "duration": 263,
    "start_time": "2023-03-27T08:27:47.009Z"
   },
   {
    "duration": 17,
    "start_time": "2023-03-27T08:27:58.356Z"
   },
   {
    "duration": 8,
    "start_time": "2023-03-27T08:28:03.593Z"
   },
   {
    "duration": 1028,
    "start_time": "2023-03-27T08:28:03.860Z"
   },
   {
    "duration": 142,
    "start_time": "2023-03-27T08:28:04.892Z"
   },
   {
    "duration": 168,
    "start_time": "2023-03-27T08:28:05.036Z"
   },
   {
    "duration": 536,
    "start_time": "2023-03-27T08:28:05.210Z"
   },
   {
    "duration": 546,
    "start_time": "2023-03-27T08:28:05.748Z"
   },
   {
    "duration": 5,
    "start_time": "2023-03-27T08:28:06.305Z"
   },
   {
    "duration": 147,
    "start_time": "2023-03-27T08:28:06.312Z"
   },
   {
    "duration": 104,
    "start_time": "2023-03-27T08:28:06.461Z"
   },
   {
    "duration": 85,
    "start_time": "2023-03-27T08:28:06.583Z"
   },
   {
    "duration": 16,
    "start_time": "2023-03-27T08:28:06.679Z"
   },
   {
    "duration": 274,
    "start_time": "2023-03-27T08:28:09.957Z"
   },
   {
    "duration": 5,
    "start_time": "2023-03-27T08:29:24.902Z"
   },
   {
    "duration": 78,
    "start_time": "2023-03-27T08:29:25.605Z"
   },
   {
    "duration": 4,
    "start_time": "2023-03-27T08:29:49.104Z"
   },
   {
    "duration": 290,
    "start_time": "2023-03-27T08:29:50.940Z"
   },
   {
    "duration": 83,
    "start_time": "2023-03-27T08:32:15.956Z"
   },
   {
    "duration": 255,
    "start_time": "2023-03-27T08:32:16.406Z"
   },
   {
    "duration": 46,
    "start_time": "2023-03-27T08:32:38.302Z"
   },
   {
    "duration": 64,
    "start_time": "2023-03-27T08:33:02.705Z"
   },
   {
    "duration": 50,
    "start_time": "2023-03-27T08:34:46.611Z"
   },
   {
    "duration": 5,
    "start_time": "2023-03-27T08:34:59.688Z"
   },
   {
    "duration": 271,
    "start_time": "2023-03-27T08:35:00.554Z"
   },
   {
    "duration": 6,
    "start_time": "2023-03-27T08:35:37.849Z"
   },
   {
    "duration": 260,
    "start_time": "2023-03-27T08:35:38.560Z"
   },
   {
    "duration": 4,
    "start_time": "2023-03-27T08:35:44.009Z"
   },
   {
    "duration": 876,
    "start_time": "2023-03-27T08:35:44.489Z"
   },
   {
    "duration": 132,
    "start_time": "2023-03-27T08:35:45.367Z"
   },
   {
    "duration": 128,
    "start_time": "2023-03-27T08:35:46.803Z"
   },
   {
    "duration": 471,
    "start_time": "2023-03-27T08:35:47.522Z"
   },
   {
    "duration": 517,
    "start_time": "2023-03-27T08:35:48.290Z"
   },
   {
    "duration": 4,
    "start_time": "2023-03-27T08:35:49.265Z"
   },
   {
    "duration": 141,
    "start_time": "2023-03-27T08:35:49.991Z"
   },
   {
    "duration": 18,
    "start_time": "2023-03-27T08:35:50.198Z"
   },
   {
    "duration": 80,
    "start_time": "2023-03-27T08:35:51.454Z"
   },
   {
    "duration": 5,
    "start_time": "2023-03-27T08:35:51.916Z"
   },
   {
    "duration": 255,
    "start_time": "2023-03-27T08:35:52.818Z"
   },
   {
    "duration": 4,
    "start_time": "2023-03-27T08:36:22.694Z"
   },
   {
    "duration": 234,
    "start_time": "2023-03-27T08:36:23.394Z"
   },
   {
    "duration": 5,
    "start_time": "2023-03-27T08:37:18.032Z"
   },
   {
    "duration": 260,
    "start_time": "2023-03-27T08:37:18.521Z"
   },
   {
    "duration": 4,
    "start_time": "2023-03-27T08:37:36.452Z"
   },
   {
    "duration": 874,
    "start_time": "2023-03-27T08:37:36.833Z"
   },
   {
    "duration": 127,
    "start_time": "2023-03-27T08:37:37.709Z"
   },
   {
    "duration": 146,
    "start_time": "2023-03-27T08:37:37.838Z"
   },
   {
    "duration": 513,
    "start_time": "2023-03-27T08:37:37.986Z"
   },
   {
    "duration": 560,
    "start_time": "2023-03-27T08:37:38.502Z"
   },
   {
    "duration": 18,
    "start_time": "2023-03-27T08:37:39.065Z"
   },
   {
    "duration": 125,
    "start_time": "2023-03-27T08:37:39.085Z"
   },
   {
    "duration": 18,
    "start_time": "2023-03-27T08:37:39.211Z"
   },
   {
    "duration": 71,
    "start_time": "2023-03-27T08:37:39.292Z"
   },
   {
    "duration": 5,
    "start_time": "2023-03-27T08:37:39.427Z"
   },
   {
    "duration": 282,
    "start_time": "2023-03-27T08:37:39.558Z"
   },
   {
    "duration": 7,
    "start_time": "2023-03-27T08:37:49.593Z"
   },
   {
    "duration": 278,
    "start_time": "2023-03-27T08:37:50.150Z"
   },
   {
    "duration": 6,
    "start_time": "2023-03-27T08:37:58.702Z"
   },
   {
    "duration": 895,
    "start_time": "2023-03-27T08:37:58.996Z"
   },
   {
    "duration": 123,
    "start_time": "2023-03-27T08:37:59.893Z"
   },
   {
    "duration": 158,
    "start_time": "2023-03-27T08:38:00.018Z"
   },
   {
    "duration": 506,
    "start_time": "2023-03-27T08:38:00.200Z"
   },
   {
    "duration": 536,
    "start_time": "2023-03-27T08:38:00.708Z"
   },
   {
    "duration": 5,
    "start_time": "2023-03-27T08:38:01.246Z"
   },
   {
    "duration": 146,
    "start_time": "2023-03-27T08:38:01.253Z"
   },
   {
    "duration": 19,
    "start_time": "2023-03-27T08:38:01.401Z"
   },
   {
    "duration": 78,
    "start_time": "2023-03-27T08:38:02.494Z"
   },
   {
    "duration": 4,
    "start_time": "2023-03-27T08:38:03.724Z"
   },
   {
    "duration": 246,
    "start_time": "2023-03-27T08:38:05.305Z"
   },
   {
    "duration": 5,
    "start_time": "2023-03-27T08:38:16.668Z"
   },
   {
    "duration": 241,
    "start_time": "2023-03-27T08:38:17.392Z"
   },
   {
    "duration": 5,
    "start_time": "2023-03-27T08:38:29.545Z"
   },
   {
    "duration": 898,
    "start_time": "2023-03-27T08:38:29.895Z"
   },
   {
    "duration": 130,
    "start_time": "2023-03-27T08:38:30.796Z"
   },
   {
    "duration": 137,
    "start_time": "2023-03-27T08:38:30.928Z"
   },
   {
    "duration": 472,
    "start_time": "2023-03-27T08:38:31.756Z"
   },
   {
    "duration": 533,
    "start_time": "2023-03-27T08:38:32.230Z"
   },
   {
    "duration": 10,
    "start_time": "2023-03-27T08:38:32.765Z"
   },
   {
    "duration": 136,
    "start_time": "2023-03-27T08:38:32.777Z"
   },
   {
    "duration": 18,
    "start_time": "2023-03-27T08:38:32.915Z"
   },
   {
    "duration": 84,
    "start_time": "2023-03-27T08:38:33.441Z"
   },
   {
    "duration": 6,
    "start_time": "2023-03-27T08:38:34.656Z"
   },
   {
    "duration": 254,
    "start_time": "2023-03-27T08:38:36.889Z"
   },
   {
    "duration": 6,
    "start_time": "2023-03-27T08:39:10.396Z"
   },
   {
    "duration": 379,
    "start_time": "2023-03-27T08:39:10.596Z"
   },
   {
    "duration": 43,
    "start_time": "2023-03-27T08:41:15.803Z"
   },
   {
    "duration": 45,
    "start_time": "2023-03-27T08:41:51.484Z"
   },
   {
    "duration": 7,
    "start_time": "2023-03-27T08:42:32.925Z"
   },
   {
    "duration": 260,
    "start_time": "2023-03-27T08:42:34.517Z"
   },
   {
    "duration": 6,
    "start_time": "2023-03-27T08:43:16.617Z"
   },
   {
    "duration": 244,
    "start_time": "2023-03-27T08:43:16.796Z"
   },
   {
    "duration": 6,
    "start_time": "2023-03-27T08:43:32.690Z"
   },
   {
    "duration": 242,
    "start_time": "2023-03-27T08:43:32.882Z"
   },
   {
    "duration": 6,
    "start_time": "2023-03-27T08:44:15.897Z"
   },
   {
    "duration": 290,
    "start_time": "2023-03-27T08:44:21.299Z"
   },
   {
    "duration": 5,
    "start_time": "2023-03-27T08:44:53.448Z"
   },
   {
    "duration": 258,
    "start_time": "2023-03-27T08:44:53.643Z"
   },
   {
    "duration": 5,
    "start_time": "2023-03-27T08:45:09.316Z"
   },
   {
    "duration": 252,
    "start_time": "2023-03-27T08:45:09.508Z"
   },
   {
    "duration": 5,
    "start_time": "2023-03-27T08:47:28.297Z"
   },
   {
    "duration": 267,
    "start_time": "2023-03-27T08:47:28.494Z"
   },
   {
    "duration": 5,
    "start_time": "2023-03-27T08:47:45.522Z"
   },
   {
    "duration": 254,
    "start_time": "2023-03-27T08:47:45.748Z"
   },
   {
    "duration": 48,
    "start_time": "2023-03-27T08:47:59.104Z"
   },
   {
    "duration": 252,
    "start_time": "2023-03-27T08:47:59.297Z"
   },
   {
    "duration": 5,
    "start_time": "2023-03-27T08:48:24.993Z"
   },
   {
    "duration": 257,
    "start_time": "2023-03-27T08:48:25.198Z"
   },
   {
    "duration": 147,
    "start_time": "2023-03-27T08:59:25.301Z"
   },
   {
    "duration": 295,
    "start_time": "2023-03-27T08:59:26.737Z"
   },
   {
    "duration": 297,
    "start_time": "2023-03-27T08:59:29.461Z"
   },
   {
    "duration": 110,
    "start_time": "2023-03-27T08:59:33.002Z"
   },
   {
    "duration": 85,
    "start_time": "2023-03-27T08:59:36.048Z"
   },
   {
    "duration": 71,
    "start_time": "2023-03-27T08:59:38.432Z"
   },
   {
    "duration": 518,
    "start_time": "2023-03-27T09:00:29.528Z"
   },
   {
    "duration": 537,
    "start_time": "2023-03-27T09:00:54.208Z"
   },
   {
    "duration": 540,
    "start_time": "2023-03-27T09:03:08.412Z"
   },
   {
    "duration": 454,
    "start_time": "2023-03-27T09:04:18.358Z"
   },
   {
    "duration": 464,
    "start_time": "2023-03-27T09:04:35.057Z"
   },
   {
    "duration": 20,
    "start_time": "2023-03-27T09:08:49.293Z"
   },
   {
    "duration": 511,
    "start_time": "2023-03-27T09:08:53.341Z"
   },
   {
    "duration": 325,
    "start_time": "2023-03-27T09:08:59.796Z"
   },
   {
    "duration": 5,
    "start_time": "2023-03-27T09:09:05.811Z"
   },
   {
    "duration": 839,
    "start_time": "2023-03-27T09:09:06.161Z"
   },
   {
    "duration": 147,
    "start_time": "2023-03-27T09:09:07.003Z"
   },
   {
    "duration": 132,
    "start_time": "2023-03-27T09:09:07.152Z"
   },
   {
    "duration": 469,
    "start_time": "2023-03-27T09:09:07.359Z"
   },
   {
    "duration": 622,
    "start_time": "2023-03-27T09:09:07.831Z"
   },
   {
    "duration": 6,
    "start_time": "2023-03-27T09:09:08.456Z"
   },
   {
    "duration": 141,
    "start_time": "2023-03-27T09:09:08.475Z"
   },
   {
    "duration": 20,
    "start_time": "2023-03-27T09:09:08.621Z"
   },
   {
    "duration": 111,
    "start_time": "2023-03-27T09:09:08.758Z"
   },
   {
    "duration": 6,
    "start_time": "2023-03-27T09:09:08.910Z"
   },
   {
    "duration": 328,
    "start_time": "2023-03-27T09:09:09.101Z"
   },
   {
    "duration": 150,
    "start_time": "2023-03-27T09:09:09.694Z"
   },
   {
    "duration": 295,
    "start_time": "2023-03-27T09:09:10.004Z"
   },
   {
    "duration": 338,
    "start_time": "2023-03-27T09:09:10.398Z"
   },
   {
    "duration": 133,
    "start_time": "2023-03-27T09:09:10.896Z"
   },
   {
    "duration": 99,
    "start_time": "2023-03-27T09:09:11.067Z"
   },
   {
    "duration": 82,
    "start_time": "2023-03-27T09:09:11.617Z"
   },
   {
    "duration": 511,
    "start_time": "2023-03-27T09:09:11.806Z"
   },
   {
    "duration": 410,
    "start_time": "2023-03-27T09:09:13.551Z"
   },
   {
    "duration": 21,
    "start_time": "2023-03-27T09:09:14.601Z"
   },
   {
    "duration": 415,
    "start_time": "2023-03-27T09:09:16.114Z"
   },
   {
    "duration": 20,
    "start_time": "2023-03-27T09:12:34.998Z"
   },
   {
    "duration": 4,
    "start_time": "2023-03-27T09:19:46.430Z"
   },
   {
    "duration": 810,
    "start_time": "2023-03-27T09:19:46.793Z"
   },
   {
    "duration": 123,
    "start_time": "2023-03-27T09:19:47.606Z"
   },
   {
    "duration": 122,
    "start_time": "2023-03-27T09:19:47.731Z"
   },
   {
    "duration": 459,
    "start_time": "2023-03-27T09:19:48.025Z"
   },
   {
    "duration": 482,
    "start_time": "2023-03-27T09:19:48.490Z"
   },
   {
    "duration": 4,
    "start_time": "2023-03-27T09:19:48.975Z"
   },
   {
    "duration": 165,
    "start_time": "2023-03-27T09:19:48.980Z"
   },
   {
    "duration": 154,
    "start_time": "2023-03-27T09:19:49.147Z"
   },
   {
    "duration": 99,
    "start_time": "2023-03-27T09:19:49.425Z"
   },
   {
    "duration": 6,
    "start_time": "2023-03-27T09:19:49.602Z"
   },
   {
    "duration": 268,
    "start_time": "2023-03-27T09:19:49.801Z"
   },
   {
    "duration": 173,
    "start_time": "2023-03-27T09:19:50.328Z"
   },
   {
    "duration": 282,
    "start_time": "2023-03-27T09:19:50.868Z"
   },
   {
    "duration": 305,
    "start_time": "2023-03-27T09:19:51.414Z"
   },
   {
    "duration": 130,
    "start_time": "2023-03-27T09:19:54.294Z"
   },
   {
    "duration": 91,
    "start_time": "2023-03-27T09:19:54.746Z"
   },
   {
    "duration": 65,
    "start_time": "2023-03-27T09:19:55.551Z"
   },
   {
    "duration": 550,
    "start_time": "2023-03-27T09:19:55.794Z"
   },
   {
    "duration": 386,
    "start_time": "2023-03-27T09:19:56.347Z"
   },
   {
    "duration": 32,
    "start_time": "2023-03-27T09:19:59.758Z"
   },
   {
    "duration": 335,
    "start_time": "2023-03-27T09:20:11.337Z"
   },
   {
    "duration": 28,
    "start_time": "2023-03-27T09:20:12.803Z"
   },
   {
    "duration": 21,
    "start_time": "2023-03-27T09:20:15.740Z"
   },
   {
    "duration": 69,
    "start_time": "2023-03-27T09:21:25.635Z"
   },
   {
    "duration": 19,
    "start_time": "2023-03-27T09:21:33.048Z"
   },
   {
    "duration": 632,
    "start_time": "2023-03-27T09:23:25.006Z"
   },
   {
    "duration": 1264,
    "start_time": "2023-03-27T09:23:39.628Z"
   },
   {
    "duration": 1858,
    "start_time": "2023-03-27T09:23:46.398Z"
   },
   {
    "duration": 433,
    "start_time": "2023-03-27T09:23:57.619Z"
   },
   {
    "duration": 52,
    "start_time": "2023-03-27T09:24:16.198Z"
   },
   {
    "duration": 101,
    "start_time": "2023-03-27T09:24:30.653Z"
   },
   {
    "duration": 160,
    "start_time": "2023-03-27T09:24:35.222Z"
   },
   {
    "duration": 1840,
    "start_time": "2023-03-27T09:27:14.058Z"
   },
   {
    "duration": 1716,
    "start_time": "2023-03-27T09:27:21.349Z"
   },
   {
    "duration": 1802,
    "start_time": "2023-03-27T09:27:32.303Z"
   },
   {
    "duration": 93,
    "start_time": "2023-03-27T09:27:41.317Z"
   },
   {
    "duration": 134,
    "start_time": "2023-03-27T09:27:55.960Z"
   },
   {
    "duration": 31,
    "start_time": "2023-03-27T09:28:24.093Z"
   },
   {
    "duration": 29,
    "start_time": "2023-03-27T09:29:44.917Z"
   },
   {
    "duration": 39,
    "start_time": "2023-03-27T09:29:51.513Z"
   },
   {
    "duration": 55,
    "start_time": "2023-03-27T09:31:02.453Z"
   },
   {
    "duration": 82,
    "start_time": "2023-03-27T09:32:18.410Z"
   },
   {
    "duration": 61,
    "start_time": "2023-03-27T09:32:39.006Z"
   },
   {
    "duration": 56,
    "start_time": "2023-03-27T09:33:12.759Z"
   },
   {
    "duration": 64,
    "start_time": "2023-03-27T09:33:18.009Z"
   },
   {
    "duration": 33,
    "start_time": "2023-03-27T09:34:41.118Z"
   },
   {
    "duration": 155,
    "start_time": "2023-03-27T09:34:49.532Z"
   },
   {
    "duration": 52,
    "start_time": "2023-03-27T09:35:18.021Z"
   },
   {
    "duration": 5,
    "start_time": "2023-03-27T09:36:54.408Z"
   },
   {
    "duration": 909,
    "start_time": "2023-03-27T09:36:54.801Z"
   },
   {
    "duration": 142,
    "start_time": "2023-03-27T09:36:55.713Z"
   },
   {
    "duration": 187,
    "start_time": "2023-03-27T09:36:55.857Z"
   },
   {
    "duration": 547,
    "start_time": "2023-03-27T09:36:56.049Z"
   },
   {
    "duration": 558,
    "start_time": "2023-03-27T09:36:56.598Z"
   },
   {
    "duration": 4,
    "start_time": "2023-03-27T09:36:57.159Z"
   },
   {
    "duration": 160,
    "start_time": "2023-03-27T09:36:57.178Z"
   },
   {
    "duration": 45,
    "start_time": "2023-03-27T09:36:57.342Z"
   },
   {
    "duration": 99,
    "start_time": "2023-03-27T09:36:57.392Z"
   },
   {
    "duration": 7,
    "start_time": "2023-03-27T09:36:57.534Z"
   },
   {
    "duration": 382,
    "start_time": "2023-03-27T09:36:57.713Z"
   },
   {
    "duration": 162,
    "start_time": "2023-03-27T09:36:58.224Z"
   },
   {
    "duration": 295,
    "start_time": "2023-03-27T09:37:00.016Z"
   },
   {
    "duration": 333,
    "start_time": "2023-03-27T09:37:00.369Z"
   },
   {
    "duration": 100,
    "start_time": "2023-03-27T09:37:00.908Z"
   },
   {
    "duration": 99,
    "start_time": "2023-03-27T09:37:01.120Z"
   },
   {
    "duration": 66,
    "start_time": "2023-03-27T09:37:01.665Z"
   },
   {
    "duration": 510,
    "start_time": "2023-03-27T09:37:02.513Z"
   },
   {
    "duration": 420,
    "start_time": "2023-03-27T09:37:05.332Z"
   },
   {
    "duration": 33,
    "start_time": "2023-03-27T09:37:10.754Z"
   },
   {
    "duration": 403,
    "start_time": "2023-03-27T09:37:20.001Z"
   },
   {
    "duration": 38,
    "start_time": "2023-03-27T09:37:22.757Z"
   },
   {
    "duration": 128,
    "start_time": "2023-03-27T09:37:25.216Z"
   },
   {
    "duration": 231,
    "start_time": "2023-03-27T09:37:35.305Z"
   },
   {
    "duration": 16,
    "start_time": "2023-03-27T09:37:41.850Z"
   },
   {
    "duration": 24,
    "start_time": "2023-03-27T09:37:50.209Z"
   },
   {
    "duration": 4,
    "start_time": "2023-03-27T09:38:17.100Z"
   },
   {
    "duration": 798,
    "start_time": "2023-03-27T09:38:17.448Z"
   },
   {
    "duration": 135,
    "start_time": "2023-03-27T09:38:18.249Z"
   },
   {
    "duration": 121,
    "start_time": "2023-03-27T09:38:18.391Z"
   },
   {
    "duration": 456,
    "start_time": "2023-03-27T09:38:18.661Z"
   },
   {
    "duration": 485,
    "start_time": "2023-03-27T09:38:19.118Z"
   },
   {
    "duration": 4,
    "start_time": "2023-03-27T09:38:19.605Z"
   },
   {
    "duration": 168,
    "start_time": "2023-03-27T09:38:19.610Z"
   },
   {
    "duration": 22,
    "start_time": "2023-03-27T09:38:19.786Z"
   },
   {
    "duration": 90,
    "start_time": "2023-03-27T09:38:20.125Z"
   },
   {
    "duration": 4,
    "start_time": "2023-03-27T09:38:20.305Z"
   },
   {
    "duration": 283,
    "start_time": "2023-03-27T09:38:20.468Z"
   },
   {
    "duration": 148,
    "start_time": "2023-03-27T09:38:21.012Z"
   },
   {
    "duration": 279,
    "start_time": "2023-03-27T09:38:21.403Z"
   },
   {
    "duration": 308,
    "start_time": "2023-03-27T09:38:21.745Z"
   },
   {
    "duration": 97,
    "start_time": "2023-03-27T09:38:22.241Z"
   },
   {
    "duration": 92,
    "start_time": "2023-03-27T09:38:22.434Z"
   },
   {
    "duration": 66,
    "start_time": "2023-03-27T09:38:23.013Z"
   },
   {
    "duration": 541,
    "start_time": "2023-03-27T09:38:23.206Z"
   },
   {
    "duration": 432,
    "start_time": "2023-03-27T09:38:23.749Z"
   },
   {
    "duration": 29,
    "start_time": "2023-03-27T09:38:24.188Z"
   },
   {
    "duration": 372,
    "start_time": "2023-03-27T09:38:24.505Z"
   },
   {
    "duration": 32,
    "start_time": "2023-03-27T09:38:26.541Z"
   },
   {
    "duration": 172,
    "start_time": "2023-03-27T09:38:27.220Z"
   },
   {
    "duration": 26,
    "start_time": "2023-03-27T09:38:34.425Z"
   },
   {
    "duration": 17,
    "start_time": "2023-03-27T09:38:36.573Z"
   },
   {
    "duration": 14,
    "start_time": "2023-03-27T09:38:43.269Z"
   },
   {
    "duration": 5,
    "start_time": "2023-03-27T09:40:03.905Z"
   },
   {
    "duration": 985,
    "start_time": "2023-03-27T09:40:04.226Z"
   },
   {
    "duration": 153,
    "start_time": "2023-03-27T09:40:05.213Z"
   },
   {
    "duration": 150,
    "start_time": "2023-03-27T09:40:05.375Z"
   },
   {
    "duration": 475,
    "start_time": "2023-03-27T09:40:05.527Z"
   },
   {
    "duration": 532,
    "start_time": "2023-03-27T09:40:06.004Z"
   },
   {
    "duration": 5,
    "start_time": "2023-03-27T09:40:06.538Z"
   },
   {
    "duration": 176,
    "start_time": "2023-03-27T09:40:06.546Z"
   },
   {
    "duration": 30,
    "start_time": "2023-03-27T09:40:06.724Z"
   },
   {
    "duration": 141,
    "start_time": "2023-03-27T09:40:06.871Z"
   },
   {
    "duration": 5,
    "start_time": "2023-03-27T09:40:07.019Z"
   },
   {
    "duration": 323,
    "start_time": "2023-03-27T09:40:07.206Z"
   },
   {
    "duration": 149,
    "start_time": "2023-03-27T09:40:07.723Z"
   },
   {
    "duration": 333,
    "start_time": "2023-03-27T09:40:08.072Z"
   },
   {
    "duration": 293,
    "start_time": "2023-03-27T09:40:08.518Z"
   },
   {
    "duration": 98,
    "start_time": "2023-03-27T09:40:09.018Z"
   },
   {
    "duration": 99,
    "start_time": "2023-03-27T09:40:09.213Z"
   },
   {
    "duration": 76,
    "start_time": "2023-03-27T09:40:09.717Z"
   },
   {
    "duration": 690,
    "start_time": "2023-03-27T09:40:09.866Z"
   },
   {
    "duration": 420,
    "start_time": "2023-03-27T09:40:11.515Z"
   },
   {
    "duration": 26,
    "start_time": "2023-03-27T09:40:12.546Z"
   },
   {
    "duration": 462,
    "start_time": "2023-03-27T09:40:14.022Z"
   },
   {
    "duration": 29,
    "start_time": "2023-03-27T09:40:14.521Z"
   },
   {
    "duration": 156,
    "start_time": "2023-03-27T09:40:15.568Z"
   },
   {
    "duration": 40,
    "start_time": "2023-03-27T09:40:19.863Z"
   },
   {
    "duration": 31,
    "start_time": "2023-03-27T09:40:22.017Z"
   },
   {
    "duration": 185,
    "start_time": "2023-03-27T09:41:17.320Z"
   },
   {
    "duration": 224,
    "start_time": "2023-03-27T09:41:17.532Z"
   },
   {
    "duration": 5,
    "start_time": "2023-03-27T09:41:17.937Z"
   },
   {
    "duration": 18,
    "start_time": "2023-03-27T09:41:18.121Z"
   },
   {
    "duration": 26,
    "start_time": "2023-03-27T09:41:18.314Z"
   },
   {
    "duration": 4,
    "start_time": "2023-03-27T09:41:20.845Z"
   },
   {
    "duration": 865,
    "start_time": "2023-03-27T09:41:21.226Z"
   },
   {
    "duration": 127,
    "start_time": "2023-03-27T09:41:22.093Z"
   },
   {
    "duration": 131,
    "start_time": "2023-03-27T09:41:22.222Z"
   },
   {
    "duration": 613,
    "start_time": "2023-03-27T09:41:22.451Z"
   },
   {
    "duration": 500,
    "start_time": "2023-03-27T09:41:23.066Z"
   },
   {
    "duration": 17,
    "start_time": "2023-03-27T09:41:23.568Z"
   },
   {
    "duration": 136,
    "start_time": "2023-03-27T09:41:23.596Z"
   },
   {
    "duration": 18,
    "start_time": "2023-03-27T09:41:23.734Z"
   },
   {
    "duration": 98,
    "start_time": "2023-03-27T09:41:23.853Z"
   },
   {
    "duration": 5,
    "start_time": "2023-03-27T09:41:24.020Z"
   },
   {
    "duration": 312,
    "start_time": "2023-03-27T09:41:24.402Z"
   },
   {
    "duration": 170,
    "start_time": "2023-03-27T09:41:24.918Z"
   },
   {
    "duration": 333,
    "start_time": "2023-03-27T09:41:25.233Z"
   },
   {
    "duration": 302,
    "start_time": "2023-03-27T09:41:25.620Z"
   },
   {
    "duration": 109,
    "start_time": "2023-03-27T09:41:26.121Z"
   },
   {
    "duration": 114,
    "start_time": "2023-03-27T09:41:26.249Z"
   },
   {
    "duration": 79,
    "start_time": "2023-03-27T09:41:26.817Z"
   },
   {
    "duration": 552,
    "start_time": "2023-03-27T09:41:26.959Z"
   },
   {
    "duration": 536,
    "start_time": "2023-03-27T09:41:27.513Z"
   },
   {
    "duration": 46,
    "start_time": "2023-03-27T09:41:28.051Z"
   },
   {
    "duration": 379,
    "start_time": "2023-03-27T09:41:28.218Z"
   },
   {
    "duration": 29,
    "start_time": "2023-03-27T09:41:28.599Z"
   },
   {
    "duration": 160,
    "start_time": "2023-03-27T09:41:28.631Z"
   },
   {
    "duration": 29,
    "start_time": "2023-03-27T09:41:29.709Z"
   },
   {
    "duration": 23,
    "start_time": "2023-03-27T09:42:19.408Z"
   },
   {
    "duration": 92,
    "start_time": "2023-03-27T09:42:19.632Z"
   },
   {
    "duration": 28,
    "start_time": "2023-03-27T09:42:20.509Z"
   },
   {
    "duration": 25,
    "start_time": "2023-03-27T09:42:22.144Z"
   },
   {
    "duration": 5,
    "start_time": "2023-03-27T09:44:26.831Z"
   },
   {
    "duration": 854,
    "start_time": "2023-03-27T09:44:27.214Z"
   },
   {
    "duration": 136,
    "start_time": "2023-03-27T09:44:28.070Z"
   },
   {
    "duration": 127,
    "start_time": "2023-03-27T09:44:28.208Z"
   },
   {
    "duration": 466,
    "start_time": "2023-03-27T09:44:28.375Z"
   },
   {
    "duration": 497,
    "start_time": "2023-03-27T09:44:28.843Z"
   },
   {
    "duration": 4,
    "start_time": "2023-03-27T09:44:29.343Z"
   },
   {
    "duration": 159,
    "start_time": "2023-03-27T09:44:29.349Z"
   },
   {
    "duration": 21,
    "start_time": "2023-03-27T09:44:29.510Z"
   },
   {
    "duration": 100,
    "start_time": "2023-03-27T09:44:29.708Z"
   },
   {
    "duration": 5,
    "start_time": "2023-03-27T09:44:29.892Z"
   },
   {
    "duration": 281,
    "start_time": "2023-03-27T09:44:30.036Z"
   },
   {
    "duration": 155,
    "start_time": "2023-03-27T09:44:30.580Z"
   },
   {
    "duration": 289,
    "start_time": "2023-03-27T09:44:30.911Z"
   },
   {
    "duration": 293,
    "start_time": "2023-03-27T09:44:31.313Z"
   },
   {
    "duration": 113,
    "start_time": "2023-03-27T09:44:31.739Z"
   },
   {
    "duration": 88,
    "start_time": "2023-03-27T09:44:31.906Z"
   },
   {
    "duration": 84,
    "start_time": "2023-03-27T09:44:32.450Z"
   },
   {
    "duration": 515,
    "start_time": "2023-03-27T09:44:32.616Z"
   },
   {
    "duration": 511,
    "start_time": "2023-03-27T09:44:33.132Z"
   },
   {
    "duration": 26,
    "start_time": "2023-03-27T09:44:38.607Z"
   },
   {
    "duration": 348,
    "start_time": "2023-03-27T09:44:41.413Z"
   },
   {
    "duration": 29,
    "start_time": "2023-03-27T09:44:43.825Z"
   },
   {
    "duration": 191,
    "start_time": "2023-03-27T09:44:45.118Z"
   },
   {
    "duration": 31,
    "start_time": "2023-03-27T09:44:47.620Z"
   },
   {
    "duration": 375,
    "start_time": "2023-03-27T09:44:52.770Z"
   },
   {
    "duration": 426,
    "start_time": "2023-03-27T09:45:23.474Z"
   },
   {
    "duration": 617,
    "start_time": "2023-03-27T09:45:23.903Z"
   },
   {
    "duration": 465,
    "start_time": "2023-03-27T09:45:24.523Z"
   },
   {
    "duration": 371,
    "start_time": "2023-03-27T09:45:25.602Z"
   },
   {
    "duration": 253,
    "start_time": "2023-03-27T09:45:28.761Z"
   },
   {
    "duration": 51,
    "start_time": "2023-03-27T09:45:32.118Z"
   },
   {
    "duration": 19,
    "start_time": "2023-03-27T09:48:32.319Z"
   },
   {
    "duration": 93,
    "start_time": "2023-03-27T09:48:33.613Z"
   },
   {
    "duration": 9,
    "start_time": "2023-03-27T09:48:59.088Z"
   },
   {
    "duration": 13,
    "start_time": "2023-03-27T09:55:45.192Z"
   },
   {
    "duration": 3,
    "start_time": "2023-03-27T09:56:49.760Z"
   },
   {
    "duration": 12,
    "start_time": "2023-03-27T10:11:13.419Z"
   },
   {
    "duration": 20,
    "start_time": "2023-03-27T10:11:15.267Z"
   },
   {
    "duration": 3,
    "start_time": "2023-03-27T10:11:17.034Z"
   },
   {
    "duration": 363,
    "start_time": "2023-03-27T10:11:20.348Z"
   },
   {
    "duration": 16,
    "start_time": "2023-03-27T10:11:37.607Z"
   },
   {
    "duration": 43,
    "start_time": "2023-03-27T11:05:15.554Z"
   },
   {
    "duration": 11,
    "start_time": "2023-03-27T11:18:45.164Z"
   },
   {
    "duration": 4,
    "start_time": "2023-03-27T11:19:11.595Z"
   },
   {
    "duration": 53,
    "start_time": "2023-03-27T11:19:18.790Z"
   },
   {
    "duration": 6,
    "start_time": "2023-03-27T11:24:34.864Z"
   },
   {
    "duration": 1092,
    "start_time": "2023-03-27T11:24:35.012Z"
   },
   {
    "duration": 172,
    "start_time": "2023-03-27T11:24:36.107Z"
   },
   {
    "duration": 147,
    "start_time": "2023-03-27T11:24:36.281Z"
   },
   {
    "duration": 487,
    "start_time": "2023-03-27T11:24:36.430Z"
   },
   {
    "duration": 638,
    "start_time": "2023-03-27T11:24:36.920Z"
   },
   {
    "duration": 14,
    "start_time": "2023-03-27T11:24:37.562Z"
   },
   {
    "duration": 154,
    "start_time": "2023-03-27T11:24:37.580Z"
   },
   {
    "duration": 47,
    "start_time": "2023-03-27T11:24:37.737Z"
   },
   {
    "duration": 92,
    "start_time": "2023-03-27T11:24:37.816Z"
   },
   {
    "duration": 5,
    "start_time": "2023-03-27T11:24:37.966Z"
   },
   {
    "duration": 357,
    "start_time": "2023-03-27T11:24:38.198Z"
   },
   {
    "duration": 158,
    "start_time": "2023-03-27T11:24:38.672Z"
   },
   {
    "duration": 343,
    "start_time": "2023-03-27T11:24:39.044Z"
   },
   {
    "duration": 339,
    "start_time": "2023-03-27T11:24:39.404Z"
   },
   {
    "duration": 116,
    "start_time": "2023-03-27T11:24:39.933Z"
   },
   {
    "duration": 113,
    "start_time": "2023-03-27T11:24:40.145Z"
   },
   {
    "duration": 82,
    "start_time": "2023-03-27T11:24:40.634Z"
   },
   {
    "duration": 585,
    "start_time": "2023-03-27T11:24:40.802Z"
   },
   {
    "duration": 543,
    "start_time": "2023-03-27T11:24:41.389Z"
   },
   {
    "duration": 26,
    "start_time": "2023-03-27T11:24:41.934Z"
   },
   {
    "duration": 376,
    "start_time": "2023-03-27T11:24:42.094Z"
   },
   {
    "duration": 49,
    "start_time": "2023-03-27T11:24:42.472Z"
   },
   {
    "duration": 205,
    "start_time": "2023-03-27T11:24:42.523Z"
   },
   {
    "duration": 48,
    "start_time": "2023-03-27T11:24:42.731Z"
   },
   {
    "duration": 469,
    "start_time": "2023-03-27T11:24:43.330Z"
   },
   {
    "duration": 453,
    "start_time": "2023-03-27T11:24:43.802Z"
   },
   {
    "duration": 577,
    "start_time": "2023-03-27T11:24:44.258Z"
   },
   {
    "duration": 430,
    "start_time": "2023-03-27T11:24:44.837Z"
   },
   {
    "duration": 419,
    "start_time": "2023-03-27T11:24:45.269Z"
   },
   {
    "duration": 274,
    "start_time": "2023-03-27T11:24:45.693Z"
   },
   {
    "duration": 24,
    "start_time": "2023-03-27T11:24:45.970Z"
   },
   {
    "duration": 102,
    "start_time": "2023-03-27T11:24:45.996Z"
   },
   {
    "duration": 5,
    "start_time": "2023-03-27T11:24:46.107Z"
   },
   {
    "duration": 18,
    "start_time": "2023-03-27T11:24:47.039Z"
   },
   {
    "duration": 13,
    "start_time": "2023-03-27T11:24:47.157Z"
   },
   {
    "duration": 3,
    "start_time": "2023-03-27T11:24:47.348Z"
   },
   {
    "duration": 360,
    "start_time": "2023-03-27T11:24:47.552Z"
   },
   {
    "duration": 13,
    "start_time": "2023-03-27T11:24:47.914Z"
   },
   {
    "duration": 55,
    "start_time": "2023-03-27T11:24:47.940Z"
   },
   {
    "duration": 49,
    "start_time": "2023-03-27T11:24:48.119Z"
   },
   {
    "duration": 15,
    "start_time": "2023-03-27T11:25:06.574Z"
   },
   {
    "duration": 10,
    "start_time": "2023-03-27T11:25:25.298Z"
   },
   {
    "duration": 869,
    "start_time": "2023-03-27T11:26:08.010Z"
   },
   {
    "duration": 412,
    "start_time": "2023-03-27T11:28:50.092Z"
   },
   {
    "duration": 6,
    "start_time": "2023-03-27T11:39:03.623Z"
   },
   {
    "duration": 893,
    "start_time": "2023-03-27T11:39:03.993Z"
   },
   {
    "duration": 148,
    "start_time": "2023-03-27T11:39:04.889Z"
   },
   {
    "duration": 142,
    "start_time": "2023-03-27T11:39:05.039Z"
   },
   {
    "duration": 480,
    "start_time": "2023-03-27T11:39:05.183Z"
   },
   {
    "duration": 502,
    "start_time": "2023-03-27T11:39:05.666Z"
   },
   {
    "duration": 13,
    "start_time": "2023-03-27T11:39:06.175Z"
   },
   {
    "duration": 128,
    "start_time": "2023-03-27T11:39:06.192Z"
   },
   {
    "duration": 19,
    "start_time": "2023-03-27T11:39:06.322Z"
   },
   {
    "duration": 94,
    "start_time": "2023-03-27T11:39:06.517Z"
   },
   {
    "duration": 4,
    "start_time": "2023-03-27T11:39:06.732Z"
   },
   {
    "duration": 266,
    "start_time": "2023-03-27T11:39:06.891Z"
   },
   {
    "duration": 148,
    "start_time": "2023-03-27T11:39:07.354Z"
   },
   {
    "duration": 312,
    "start_time": "2023-03-27T11:39:07.731Z"
   },
   {
    "duration": 290,
    "start_time": "2023-03-27T11:39:08.060Z"
   },
   {
    "duration": 93,
    "start_time": "2023-03-27T11:39:09.793Z"
   },
   {
    "duration": 95,
    "start_time": "2023-03-27T11:39:09.961Z"
   },
   {
    "duration": 74,
    "start_time": "2023-03-27T11:39:10.497Z"
   },
   {
    "duration": 580,
    "start_time": "2023-03-27T11:39:10.679Z"
   },
   {
    "duration": 581,
    "start_time": "2023-03-27T11:39:11.261Z"
   },
   {
    "duration": 25,
    "start_time": "2023-03-27T11:39:11.844Z"
   },
   {
    "duration": 343,
    "start_time": "2023-03-27T11:39:11.928Z"
   },
   {
    "duration": 38,
    "start_time": "2023-03-27T11:39:12.280Z"
   },
   {
    "duration": 139,
    "start_time": "2023-03-27T11:39:12.320Z"
   },
   {
    "duration": 46,
    "start_time": "2023-03-27T11:39:12.462Z"
   },
   {
    "duration": 383,
    "start_time": "2023-03-27T11:39:13.204Z"
   },
   {
    "duration": 396,
    "start_time": "2023-03-27T11:39:13.591Z"
   },
   {
    "duration": 602,
    "start_time": "2023-03-27T11:39:14.022Z"
   },
   {
    "duration": 417,
    "start_time": "2023-03-27T11:39:14.626Z"
   },
   {
    "duration": 368,
    "start_time": "2023-03-27T11:39:15.045Z"
   },
   {
    "duration": 202,
    "start_time": "2023-03-27T11:39:15.415Z"
   },
   {
    "duration": 13,
    "start_time": "2023-03-27T11:39:15.619Z"
   },
   {
    "duration": 73,
    "start_time": "2023-03-27T11:39:15.634Z"
   },
   {
    "duration": 4,
    "start_time": "2023-03-27T11:39:16.209Z"
   },
   {
    "duration": 11,
    "start_time": "2023-03-27T11:39:16.912Z"
   },
   {
    "duration": 11,
    "start_time": "2023-03-27T11:39:19.897Z"
   },
   {
    "duration": 3,
    "start_time": "2023-03-27T11:39:20.461Z"
   },
   {
    "duration": 336,
    "start_time": "2023-03-27T11:39:21.240Z"
   },
   {
    "duration": 21,
    "start_time": "2023-03-27T11:39:21.761Z"
   },
   {
    "duration": 18,
    "start_time": "2023-03-27T11:39:24.824Z"
   },
   {
    "duration": 93,
    "start_time": "2023-03-27T11:40:03.610Z"
   },
   {
    "duration": 1991,
    "start_time": "2023-03-27T11:40:07.159Z"
   },
   {
    "duration": 1447,
    "start_time": "2023-03-27T11:40:09.152Z"
   },
   {
    "duration": 139,
    "start_time": "2023-03-27T11:40:10.605Z"
   },
   {
    "duration": 161,
    "start_time": "2023-03-27T11:40:10.746Z"
   },
   {
    "duration": 551,
    "start_time": "2023-03-27T11:40:10.911Z"
   },
   {
    "duration": 577,
    "start_time": "2023-03-27T11:40:11.464Z"
   },
   {
    "duration": 4,
    "start_time": "2023-03-27T11:40:12.043Z"
   },
   {
    "duration": 160,
    "start_time": "2023-03-27T11:40:12.049Z"
   },
   {
    "duration": 20,
    "start_time": "2023-03-27T11:40:12.211Z"
   },
   {
    "duration": 111,
    "start_time": "2023-03-27T11:40:12.234Z"
   },
   {
    "duration": 4,
    "start_time": "2023-03-27T11:40:12.347Z"
   },
   {
    "duration": 328,
    "start_time": "2023-03-27T11:40:12.353Z"
   },
   {
    "duration": 180,
    "start_time": "2023-03-27T11:40:12.688Z"
   },
   {
    "duration": 317,
    "start_time": "2023-03-27T11:40:12.890Z"
   },
   {
    "duration": 302,
    "start_time": "2023-03-27T11:40:13.228Z"
   },
   {
    "duration": 96,
    "start_time": "2023-03-27T11:40:13.800Z"
   },
   {
    "duration": 96,
    "start_time": "2023-03-27T11:40:13.960Z"
   },
   {
    "duration": 80,
    "start_time": "2023-03-27T11:40:14.538Z"
   },
   {
    "duration": 528,
    "start_time": "2023-03-27T11:40:14.833Z"
   },
   {
    "duration": 562,
    "start_time": "2023-03-27T11:40:15.363Z"
   },
   {
    "duration": 27,
    "start_time": "2023-03-27T11:40:15.927Z"
   },
   {
    "duration": 365,
    "start_time": "2023-03-27T11:40:16.170Z"
   },
   {
    "duration": 50,
    "start_time": "2023-03-27T11:40:16.537Z"
   },
   {
    "duration": 130,
    "start_time": "2023-03-27T11:40:16.624Z"
   },
   {
    "duration": 25,
    "start_time": "2023-03-27T11:40:18.012Z"
   },
   {
    "duration": 406,
    "start_time": "2023-03-27T11:40:18.763Z"
   },
   {
    "duration": 400,
    "start_time": "2023-03-27T11:40:19.175Z"
   },
   {
    "duration": 537,
    "start_time": "2023-03-27T11:40:19.576Z"
   },
   {
    "duration": 450,
    "start_time": "2023-03-27T11:40:20.116Z"
   },
   {
    "duration": 426,
    "start_time": "2023-03-27T11:40:20.569Z"
   },
   {
    "duration": 188,
    "start_time": "2023-03-27T11:40:21.002Z"
   },
   {
    "duration": 19,
    "start_time": "2023-03-27T11:40:21.191Z"
   },
   {
    "duration": 82,
    "start_time": "2023-03-27T11:40:22.820Z"
   },
   {
    "duration": 5,
    "start_time": "2023-03-27T11:40:26.208Z"
   },
   {
    "duration": 12,
    "start_time": "2023-03-27T11:40:32.899Z"
   },
   {
    "duration": 15,
    "start_time": "2023-03-27T11:40:37.534Z"
   },
   {
    "duration": 3,
    "start_time": "2023-03-27T11:40:38.428Z"
   },
   {
    "duration": 57,
    "start_time": "2023-03-27T11:41:08.204Z"
   },
   {
    "duration": 1565,
    "start_time": "2023-03-27T11:41:15.028Z"
   },
   {
    "duration": 1405,
    "start_time": "2023-03-27T11:41:16.599Z"
   },
   {
    "duration": 137,
    "start_time": "2023-03-27T11:41:18.006Z"
   },
   {
    "duration": 150,
    "start_time": "2023-03-27T11:41:18.145Z"
   },
   {
    "duration": 553,
    "start_time": "2023-03-27T11:41:19.913Z"
   },
   {
    "duration": 569,
    "start_time": "2023-03-27T11:41:20.468Z"
   },
   {
    "duration": 5,
    "start_time": "2023-03-27T11:41:21.038Z"
   },
   {
    "duration": 168,
    "start_time": "2023-03-27T11:41:21.045Z"
   },
   {
    "duration": 22,
    "start_time": "2023-03-27T11:41:21.215Z"
   },
   {
    "duration": 95,
    "start_time": "2023-03-27T11:41:21.265Z"
   },
   {
    "duration": 5,
    "start_time": "2023-03-27T11:41:21.502Z"
   },
   {
    "duration": 311,
    "start_time": "2023-03-27T11:41:21.703Z"
   },
   {
    "duration": 188,
    "start_time": "2023-03-27T11:41:22.370Z"
   },
   {
    "duration": 321,
    "start_time": "2023-03-27T11:41:22.733Z"
   },
   {
    "duration": 310,
    "start_time": "2023-03-27T11:41:23.099Z"
   },
   {
    "duration": 103,
    "start_time": "2023-03-27T11:41:23.634Z"
   },
   {
    "duration": 101,
    "start_time": "2023-03-27T11:41:23.829Z"
   },
   {
    "duration": 106,
    "start_time": "2023-03-27T11:41:24.360Z"
   },
   {
    "duration": 555,
    "start_time": "2023-03-27T11:41:24.569Z"
   },
   {
    "duration": 507,
    "start_time": "2023-03-27T11:41:25.126Z"
   },
   {
    "duration": 26,
    "start_time": "2023-03-27T11:41:25.635Z"
   },
   {
    "duration": 386,
    "start_time": "2023-03-27T11:41:25.824Z"
   },
   {
    "duration": 37,
    "start_time": "2023-03-27T11:41:26.214Z"
   },
   {
    "duration": 171,
    "start_time": "2023-03-27T11:41:26.253Z"
   },
   {
    "duration": 25,
    "start_time": "2023-03-27T11:41:26.426Z"
   },
   {
    "duration": 438,
    "start_time": "2023-03-27T11:41:27.116Z"
   },
   {
    "duration": 454,
    "start_time": "2023-03-27T11:41:27.556Z"
   },
   {
    "duration": 602,
    "start_time": "2023-03-27T11:41:28.013Z"
   },
   {
    "duration": 500,
    "start_time": "2023-03-27T11:41:28.617Z"
   },
   {
    "duration": 408,
    "start_time": "2023-03-27T11:41:29.120Z"
   },
   {
    "duration": 239,
    "start_time": "2023-03-27T11:41:29.531Z"
   },
   {
    "duration": 19,
    "start_time": "2023-03-27T11:41:29.771Z"
   },
   {
    "duration": 61,
    "start_time": "2023-03-27T11:41:29.793Z"
   },
   {
    "duration": 5,
    "start_time": "2023-03-27T11:41:30.425Z"
   },
   {
    "duration": 12,
    "start_time": "2023-03-27T11:41:33.503Z"
   },
   {
    "duration": 11,
    "start_time": "2023-03-27T11:41:36.260Z"
   },
   {
    "duration": 7,
    "start_time": "2023-03-27T11:41:36.902Z"
   },
   {
    "duration": 409,
    "start_time": "2023-03-27T11:41:42.804Z"
   },
   {
    "duration": 9,
    "start_time": "2023-03-27T11:42:44.902Z"
   },
   {
    "duration": 59,
    "start_time": "2023-03-27T11:42:58.694Z"
   },
   {
    "duration": 29,
    "start_time": "2023-03-27T11:43:12.716Z"
   },
   {
    "duration": 13,
    "start_time": "2023-03-27T11:43:17.709Z"
   },
   {
    "duration": 391,
    "start_time": "2023-03-27T11:43:42.702Z"
   },
   {
    "duration": 14,
    "start_time": "2023-03-27T11:43:45.535Z"
   },
   {
    "duration": 6,
    "start_time": "2023-03-27T11:47:55.747Z"
   },
   {
    "duration": 955,
    "start_time": "2023-03-27T11:47:55.756Z"
   },
   {
    "duration": 131,
    "start_time": "2023-03-27T11:47:56.713Z"
   },
   {
    "duration": 134,
    "start_time": "2023-03-27T11:47:56.846Z"
   },
   {
    "duration": 501,
    "start_time": "2023-03-27T11:47:56.982Z"
   },
   {
    "duration": 532,
    "start_time": "2023-03-27T11:47:57.485Z"
   },
   {
    "duration": 6,
    "start_time": "2023-03-27T11:47:58.018Z"
   },
   {
    "duration": 167,
    "start_time": "2023-03-27T11:47:58.026Z"
   },
   {
    "duration": 34,
    "start_time": "2023-03-27T11:47:58.202Z"
   },
   {
    "duration": 164,
    "start_time": "2023-03-27T11:47:58.303Z"
   },
   {
    "duration": 10,
    "start_time": "2023-03-27T11:47:58.477Z"
   },
   {
    "duration": 317,
    "start_time": "2023-03-27T11:47:58.623Z"
   },
   {
    "duration": 164,
    "start_time": "2023-03-27T11:47:59.131Z"
   },
   {
    "duration": 304,
    "start_time": "2023-03-27T11:47:59.508Z"
   },
   {
    "duration": 318,
    "start_time": "2023-03-27T11:47:59.838Z"
   },
   {
    "duration": 153,
    "start_time": "2023-03-27T11:48:00.365Z"
   },
   {
    "duration": 101,
    "start_time": "2023-03-27T11:48:00.526Z"
   },
   {
    "duration": 102,
    "start_time": "2023-03-27T11:48:01.197Z"
   },
   {
    "duration": 671,
    "start_time": "2023-03-27T11:48:01.410Z"
   },
   {
    "duration": 457,
    "start_time": "2023-03-27T11:48:02.083Z"
   },
   {
    "duration": 42,
    "start_time": "2023-03-27T11:48:02.541Z"
   },
   {
    "duration": 370,
    "start_time": "2023-03-27T11:48:02.613Z"
   },
   {
    "duration": 33,
    "start_time": "2023-03-27T11:48:02.986Z"
   },
   {
    "duration": 142,
    "start_time": "2023-03-27T11:48:03.021Z"
   },
   {
    "duration": 40,
    "start_time": "2023-03-27T11:48:03.166Z"
   },
   {
    "duration": 489,
    "start_time": "2023-03-27T11:48:03.956Z"
   },
   {
    "duration": 590,
    "start_time": "2023-03-27T11:48:04.450Z"
   },
   {
    "duration": 503,
    "start_time": "2023-03-27T11:48:05.043Z"
   },
   {
    "duration": 570,
    "start_time": "2023-03-27T11:48:05.549Z"
   },
   {
    "duration": 437,
    "start_time": "2023-03-27T11:48:06.121Z"
   },
   {
    "duration": 206,
    "start_time": "2023-03-27T11:48:06.560Z"
   },
   {
    "duration": 33,
    "start_time": "2023-03-27T11:48:06.769Z"
   },
   {
    "duration": 59,
    "start_time": "2023-03-27T11:48:06.804Z"
   },
   {
    "duration": 8,
    "start_time": "2023-03-27T11:48:06.865Z"
   },
   {
    "duration": 12,
    "start_time": "2023-03-27T11:48:07.432Z"
   },
   {
    "duration": 11,
    "start_time": "2023-03-27T11:48:07.615Z"
   },
   {
    "duration": 8,
    "start_time": "2023-03-27T11:48:07.898Z"
   },
   {
    "duration": 383,
    "start_time": "2023-03-27T11:48:08.310Z"
   },
   {
    "duration": 17,
    "start_time": "2023-03-27T11:48:08.695Z"
   },
   {
    "duration": 52,
    "start_time": "2023-03-27T11:48:08.844Z"
   },
   {
    "duration": 61,
    "start_time": "2023-03-27T11:48:09.117Z"
   },
   {
    "duration": 3965,
    "start_time": "2023-03-27T11:49:42.006Z"
   },
   {
    "duration": 1471,
    "start_time": "2023-03-27T11:49:45.974Z"
   },
   {
    "duration": 156,
    "start_time": "2023-03-27T11:49:47.447Z"
   },
   {
    "duration": 133,
    "start_time": "2023-03-27T11:49:47.614Z"
   },
   {
    "duration": 601,
    "start_time": "2023-03-27T11:49:47.749Z"
   },
   {
    "duration": 635,
    "start_time": "2023-03-27T11:49:48.352Z"
   },
   {
    "duration": 11,
    "start_time": "2023-03-27T11:49:48.990Z"
   },
   {
    "duration": 190,
    "start_time": "2023-03-27T11:49:49.003Z"
   },
   {
    "duration": 26,
    "start_time": "2023-03-27T11:49:49.195Z"
   },
   {
    "duration": 110,
    "start_time": "2023-03-27T11:49:49.401Z"
   },
   {
    "duration": 15,
    "start_time": "2023-03-27T11:49:49.591Z"
   },
   {
    "duration": 345,
    "start_time": "2023-03-27T11:49:49.758Z"
   },
   {
    "duration": 210,
    "start_time": "2023-03-27T11:49:50.334Z"
   },
   {
    "duration": 340,
    "start_time": "2023-03-27T11:49:50.651Z"
   },
   {
    "duration": 351,
    "start_time": "2023-03-27T11:49:51.002Z"
   },
   {
    "duration": 113,
    "start_time": "2023-03-27T11:49:51.572Z"
   },
   {
    "duration": 109,
    "start_time": "2023-03-27T11:49:51.772Z"
   },
   {
    "duration": 101,
    "start_time": "2023-03-27T11:49:52.403Z"
   },
   {
    "duration": 633,
    "start_time": "2023-03-27T11:49:52.603Z"
   },
   {
    "duration": 596,
    "start_time": "2023-03-27T11:49:53.238Z"
   },
   {
    "duration": 45,
    "start_time": "2023-03-27T11:49:53.836Z"
   },
   {
    "duration": 389,
    "start_time": "2023-03-27T11:49:53.938Z"
   },
   {
    "duration": 55,
    "start_time": "2023-03-27T11:49:54.329Z"
   },
   {
    "duration": 201,
    "start_time": "2023-03-27T11:49:54.386Z"
   },
   {
    "duration": 37,
    "start_time": "2023-03-27T11:49:54.594Z"
   },
   {
    "duration": 483,
    "start_time": "2023-03-27T11:49:55.232Z"
   },
   {
    "duration": 430,
    "start_time": "2023-03-27T11:49:55.717Z"
   },
   {
    "duration": 517,
    "start_time": "2023-03-27T11:49:56.150Z"
   },
   {
    "duration": 429,
    "start_time": "2023-03-27T11:49:56.668Z"
   },
   {
    "duration": 378,
    "start_time": "2023-03-27T11:49:57.100Z"
   },
   {
    "duration": 190,
    "start_time": "2023-03-27T11:49:57.481Z"
   },
   {
    "duration": 23,
    "start_time": "2023-03-27T11:49:57.673Z"
   },
   {
    "duration": 48,
    "start_time": "2023-03-27T11:49:57.705Z"
   },
   {
    "duration": 5,
    "start_time": "2023-03-27T11:49:58.714Z"
   },
   {
    "duration": 14,
    "start_time": "2023-03-27T11:50:02.594Z"
   },
   {
    "duration": 10,
    "start_time": "2023-03-27T11:50:03.647Z"
   },
   {
    "duration": 3,
    "start_time": "2023-03-27T11:50:04.416Z"
   },
   {
    "duration": 3534,
    "start_time": "2023-03-27T11:50:35.411Z"
   },
   {
    "duration": 1403,
    "start_time": "2023-03-27T11:50:38.947Z"
   },
   {
    "duration": 169,
    "start_time": "2023-03-27T11:50:40.352Z"
   },
   {
    "duration": 137,
    "start_time": "2023-03-27T11:50:40.523Z"
   },
   {
    "duration": 598,
    "start_time": "2023-03-27T11:50:40.662Z"
   },
   {
    "duration": 601,
    "start_time": "2023-03-27T11:50:41.262Z"
   },
   {
    "duration": 18,
    "start_time": "2023-03-27T11:50:41.866Z"
   },
   {
    "duration": 179,
    "start_time": "2023-03-27T11:50:41.888Z"
   },
   {
    "duration": 23,
    "start_time": "2023-03-27T11:50:42.069Z"
   },
   {
    "duration": 123,
    "start_time": "2023-03-27T11:50:42.094Z"
   },
   {
    "duration": 7,
    "start_time": "2023-03-27T11:50:42.219Z"
   },
   {
    "duration": 328,
    "start_time": "2023-03-27T11:50:42.228Z"
   },
   {
    "duration": 207,
    "start_time": "2023-03-27T11:50:42.559Z"
   },
   {
    "duration": 392,
    "start_time": "2023-03-27T11:50:42.774Z"
   },
   {
    "duration": 308,
    "start_time": "2023-03-27T11:50:43.168Z"
   },
   {
    "duration": 102,
    "start_time": "2023-03-27T11:50:43.484Z"
   },
   {
    "duration": 87,
    "start_time": "2023-03-27T11:50:43.592Z"
   },
   {
    "duration": 82,
    "start_time": "2023-03-27T11:50:43.680Z"
   },
   {
    "duration": 549,
    "start_time": "2023-03-27T11:50:43.763Z"
   },
   {
    "duration": 541,
    "start_time": "2023-03-27T11:50:44.314Z"
   },
   {
    "duration": 36,
    "start_time": "2023-03-27T11:50:44.857Z"
   },
   {
    "duration": 359,
    "start_time": "2023-03-27T11:50:44.895Z"
   },
   {
    "duration": 57,
    "start_time": "2023-03-27T11:50:45.256Z"
   },
   {
    "duration": 140,
    "start_time": "2023-03-27T11:50:45.314Z"
   },
   {
    "duration": 47,
    "start_time": "2023-03-27T11:50:45.456Z"
   },
   {
    "duration": 398,
    "start_time": "2023-03-27T11:50:45.505Z"
   },
   {
    "duration": 434,
    "start_time": "2023-03-27T11:50:45.904Z"
   },
   {
    "duration": 501,
    "start_time": "2023-03-27T11:50:46.340Z"
   },
   {
    "duration": 398,
    "start_time": "2023-03-27T11:50:46.843Z"
   },
   {
    "duration": 383,
    "start_time": "2023-03-27T11:50:47.244Z"
   },
   {
    "duration": 203,
    "start_time": "2023-03-27T11:50:47.630Z"
   },
   {
    "duration": 13,
    "start_time": "2023-03-27T11:50:47.835Z"
   },
   {
    "duration": 77,
    "start_time": "2023-03-27T11:50:47.850Z"
   },
   {
    "duration": 4,
    "start_time": "2023-03-27T11:50:47.929Z"
   },
   {
    "duration": 14,
    "start_time": "2023-03-27T11:50:47.934Z"
   },
   {
    "duration": 32,
    "start_time": "2023-03-27T11:50:47.949Z"
   },
   {
    "duration": 8,
    "start_time": "2023-03-27T11:50:47.983Z"
   },
   {
    "duration": 390,
    "start_time": "2023-03-27T11:50:48.101Z"
   },
   {
    "duration": 26,
    "start_time": "2023-03-27T11:50:53.168Z"
   },
   {
    "duration": 38,
    "start_time": "2023-03-27T11:50:54.102Z"
   },
   {
    "duration": 56,
    "start_time": "2023-03-27T11:50:55.104Z"
   },
   {
    "duration": 25,
    "start_time": "2023-03-27T11:50:57.827Z"
   },
   {
    "duration": 6,
    "start_time": "2023-03-27T11:52:40.422Z"
   },
   {
    "duration": 901,
    "start_time": "2023-03-27T11:52:40.807Z"
   },
   {
    "duration": 126,
    "start_time": "2023-03-27T11:52:41.711Z"
   },
   {
    "duration": 138,
    "start_time": "2023-03-27T11:52:41.838Z"
   },
   {
    "duration": 474,
    "start_time": "2023-03-27T11:52:42.058Z"
   },
   {
    "duration": 523,
    "start_time": "2023-03-27T11:52:42.534Z"
   },
   {
    "duration": 4,
    "start_time": "2023-03-27T11:52:43.059Z"
   },
   {
    "duration": 154,
    "start_time": "2023-03-27T11:52:43.086Z"
   },
   {
    "duration": 36,
    "start_time": "2023-03-27T11:52:43.242Z"
   },
   {
    "duration": 99,
    "start_time": "2023-03-27T11:52:43.403Z"
   },
   {
    "duration": 6,
    "start_time": "2023-03-27T11:52:43.570Z"
   },
   {
    "duration": 314,
    "start_time": "2023-03-27T11:52:43.774Z"
   },
   {
    "duration": 187,
    "start_time": "2023-03-27T11:52:44.326Z"
   },
   {
    "duration": 304,
    "start_time": "2023-03-27T11:52:44.649Z"
   },
   {
    "duration": 307,
    "start_time": "2023-03-27T11:52:45.051Z"
   },
   {
    "duration": 104,
    "start_time": "2023-03-27T11:52:45.559Z"
   },
   {
    "duration": 90,
    "start_time": "2023-03-27T11:52:45.706Z"
   },
   {
    "duration": 93,
    "start_time": "2023-03-27T11:52:46.252Z"
   },
   {
    "duration": 623,
    "start_time": "2023-03-27T11:52:46.416Z"
   },
   {
    "duration": 408,
    "start_time": "2023-03-27T11:52:47.041Z"
   },
   {
    "duration": 43,
    "start_time": "2023-03-27T11:52:47.451Z"
   },
   {
    "duration": 426,
    "start_time": "2023-03-27T11:52:47.796Z"
   },
   {
    "duration": 29,
    "start_time": "2023-03-27T11:52:48.516Z"
   },
   {
    "duration": 158,
    "start_time": "2023-03-27T11:52:48.547Z"
   },
   {
    "duration": 29,
    "start_time": "2023-03-27T11:52:48.707Z"
   },
   {
    "duration": 423,
    "start_time": "2023-03-27T11:52:49.043Z"
   },
   {
    "duration": 559,
    "start_time": "2023-03-27T11:52:49.475Z"
   },
   {
    "duration": 420,
    "start_time": "2023-03-27T11:52:50.036Z"
   },
   {
    "duration": 431,
    "start_time": "2023-03-27T11:52:50.458Z"
   },
   {
    "duration": 385,
    "start_time": "2023-03-27T11:52:50.892Z"
   },
   {
    "duration": 189,
    "start_time": "2023-03-27T11:52:51.279Z"
   },
   {
    "duration": 38,
    "start_time": "2023-03-27T11:52:51.470Z"
   },
   {
    "duration": 50,
    "start_time": "2023-03-27T11:52:51.511Z"
   },
   {
    "duration": 4,
    "start_time": "2023-03-27T11:52:51.915Z"
   },
   {
    "duration": 16,
    "start_time": "2023-03-27T11:52:52.700Z"
   },
   {
    "duration": 16,
    "start_time": "2023-03-27T11:52:52.874Z"
   },
   {
    "duration": 3,
    "start_time": "2023-03-27T11:52:53.065Z"
   },
   {
    "duration": 355,
    "start_time": "2023-03-27T11:52:53.432Z"
   },
   {
    "duration": 22,
    "start_time": "2023-03-27T11:52:53.791Z"
   },
   {
    "duration": 32,
    "start_time": "2023-03-27T11:52:57.304Z"
   },
   {
    "duration": 71,
    "start_time": "2023-03-27T11:52:58.044Z"
   },
   {
    "duration": 430,
    "start_time": "2023-03-27T11:53:00.630Z"
   },
   {
    "duration": 255,
    "start_time": "2023-03-27T11:54:23.153Z"
   },
   {
    "duration": 2164,
    "start_time": "2023-03-27T11:54:33.869Z"
   },
   {
    "duration": 114597,
    "start_time": "2023-03-27T11:56:10.099Z"
   },
   {
    "duration": 33959,
    "start_time": "2023-03-27T12:05:52.863Z"
   },
   {
    "duration": 1179641,
    "start_time": "2023-03-27T12:07:38.404Z"
   },
   {
    "duration": 359059,
    "start_time": "2023-03-27T12:28:01.847Z"
   },
   {
    "duration": 31026,
    "start_time": "2023-03-27T12:38:52.898Z"
   },
   {
    "duration": 23397,
    "start_time": "2023-03-27T12:40:06.718Z"
   },
   {
    "duration": 520528,
    "start_time": "2023-03-27T12:40:58.206Z"
   },
   {
    "duration": 1832780,
    "start_time": "2023-03-27T12:54:44.956Z"
   },
   {
    "duration": 103,
    "start_time": "2023-03-27T13:41:35.636Z"
   },
   {
    "duration": 627137,
    "start_time": "2023-03-27T13:41:56.925Z"
   },
   {
    "duration": 4505,
    "start_time": "2023-03-27T14:14:09.814Z"
   },
   {
    "duration": 1704,
    "start_time": "2023-03-27T14:14:14.322Z"
   },
   {
    "duration": 164,
    "start_time": "2023-03-27T14:14:16.031Z"
   },
   {
    "duration": 163,
    "start_time": "2023-03-27T14:14:16.198Z"
   },
   {
    "duration": 642,
    "start_time": "2023-03-27T14:14:16.362Z"
   },
   {
    "duration": 625,
    "start_time": "2023-03-27T14:14:17.006Z"
   },
   {
    "duration": 4,
    "start_time": "2023-03-27T14:14:17.633Z"
   },
   {
    "duration": 170,
    "start_time": "2023-03-27T14:14:17.638Z"
   },
   {
    "duration": 32,
    "start_time": "2023-03-27T14:14:17.810Z"
   },
   {
    "duration": 123,
    "start_time": "2023-03-27T14:14:17.844Z"
   },
   {
    "duration": 4,
    "start_time": "2023-03-27T14:14:17.969Z"
   },
   {
    "duration": 421,
    "start_time": "2023-03-27T14:14:17.974Z"
   },
   {
    "duration": 222,
    "start_time": "2023-03-27T14:14:18.397Z"
   },
   {
    "duration": 335,
    "start_time": "2023-03-27T14:14:18.621Z"
   },
   {
    "duration": 353,
    "start_time": "2023-03-27T14:14:18.958Z"
   },
   {
    "duration": 129,
    "start_time": "2023-03-27T14:14:19.324Z"
   },
   {
    "duration": 106,
    "start_time": "2023-03-27T14:14:19.455Z"
   },
   {
    "duration": 104,
    "start_time": "2023-03-27T14:14:19.562Z"
   },
   {
    "duration": 559,
    "start_time": "2023-03-27T14:14:19.668Z"
   },
   {
    "duration": 554,
    "start_time": "2023-03-27T14:14:20.228Z"
   },
   {
    "duration": 35,
    "start_time": "2023-03-27T14:14:20.784Z"
   },
   {
    "duration": 407,
    "start_time": "2023-03-27T14:14:20.821Z"
   },
   {
    "duration": 34,
    "start_time": "2023-03-27T14:14:21.229Z"
   },
   {
    "duration": 179,
    "start_time": "2023-03-27T14:14:21.265Z"
   },
   {
    "duration": 51,
    "start_time": "2023-03-27T14:14:21.446Z"
   },
   {
    "duration": 421,
    "start_time": "2023-03-27T14:14:21.501Z"
   },
   {
    "duration": 418,
    "start_time": "2023-03-27T14:14:21.928Z"
   },
   {
    "duration": 543,
    "start_time": "2023-03-27T14:14:22.348Z"
   },
   {
    "duration": 450,
    "start_time": "2023-03-27T14:14:22.892Z"
   },
   {
    "duration": 413,
    "start_time": "2023-03-27T14:14:23.344Z"
   },
   {
    "duration": 237,
    "start_time": "2023-03-27T14:14:23.758Z"
   },
   {
    "duration": 20,
    "start_time": "2023-03-27T14:14:24.002Z"
   },
   {
    "duration": 65,
    "start_time": "2023-03-27T14:14:24.028Z"
   },
   {
    "duration": 5,
    "start_time": "2023-03-27T14:14:24.095Z"
   },
   {
    "duration": 28,
    "start_time": "2023-03-27T14:14:24.104Z"
   },
   {
    "duration": 12,
    "start_time": "2023-03-27T14:14:24.136Z"
   },
   {
    "duration": 3,
    "start_time": "2023-03-27T14:14:24.150Z"
   },
   {
    "duration": 471,
    "start_time": "2023-03-27T14:14:24.155Z"
   },
   {
    "duration": 18,
    "start_time": "2023-03-27T14:14:24.628Z"
   },
   {
    "duration": 49,
    "start_time": "2023-03-27T14:14:24.648Z"
   },
   {
    "duration": 56,
    "start_time": "2023-03-27T14:14:24.699Z"
   },
   {
    "duration": 477,
    "start_time": "2023-03-27T14:14:24.757Z"
   },
   {
    "duration": 284,
    "start_time": "2023-03-27T14:14:25.237Z"
   },
   {
    "duration": 3137,
    "start_time": "2023-03-27T14:14:25.526Z"
   },
   {
    "duration": 157514,
    "start_time": "2023-03-27T14:14:28.666Z"
   },
   {
    "duration": 413975,
    "start_time": "2023-03-27T14:17:06.185Z"
   },
   {
    "duration": 8,
    "start_time": "2023-03-27T14:26:13.839Z"
   },
   {
    "duration": 213,
    "start_time": "2023-03-27T14:30:31.128Z"
   },
   {
    "duration": 6,
    "start_time": "2023-03-27T14:31:01.206Z"
   },
   {
    "duration": 137,
    "start_time": "2023-03-27T14:31:06.204Z"
   },
   {
    "duration": 3817,
    "start_time": "2023-03-27T14:31:48.745Z"
   },
   {
    "duration": 3808,
    "start_time": "2023-03-27T14:32:49.544Z"
   },
   {
    "duration": 30507,
    "start_time": "2023-03-27T14:33:41.666Z"
   },
   {
    "duration": 22,
    "start_time": "2023-03-27T14:34:39.822Z"
   },
   {
    "duration": 12,
    "start_time": "2023-03-27T14:35:01.950Z"
   },
   {
    "duration": 11,
    "start_time": "2023-03-27T14:35:11.121Z"
   },
   {
    "duration": 9,
    "start_time": "2023-03-27T14:36:41.713Z"
   },
   {
    "duration": 14,
    "start_time": "2023-03-27T14:38:02.300Z"
   },
   {
    "duration": 6,
    "start_time": "2023-03-27T14:38:45.356Z"
   },
   {
    "duration": 4,
    "start_time": "2023-03-27T14:39:04.739Z"
   },
   {
    "duration": 2473442,
    "start_time": "2023-03-27T14:41:23.557Z"
   },
   {
    "duration": 39,
    "start_time": "2023-03-27T17:01:18.332Z"
   },
   {
    "duration": 1624,
    "start_time": "2023-03-27T19:37:54.353Z"
   },
   {
    "duration": 1337,
    "start_time": "2023-03-27T19:38:00.108Z"
   },
   {
    "duration": 115,
    "start_time": "2023-03-27T19:38:01.448Z"
   },
   {
    "duration": 138,
    "start_time": "2023-03-27T19:38:01.566Z"
   },
   {
    "duration": 505,
    "start_time": "2023-03-27T19:38:01.706Z"
   },
   {
    "duration": 532,
    "start_time": "2023-03-27T19:38:02.213Z"
   },
   {
    "duration": 4,
    "start_time": "2023-03-27T19:38:02.747Z"
   },
   {
    "duration": 143,
    "start_time": "2023-03-27T19:38:02.752Z"
   },
   {
    "duration": 30,
    "start_time": "2023-03-27T19:38:02.897Z"
   },
   {
    "duration": 77,
    "start_time": "2023-03-27T19:38:02.930Z"
   },
   {
    "duration": 5,
    "start_time": "2023-03-27T19:38:03.186Z"
   },
   {
    "duration": 260,
    "start_time": "2023-03-27T19:38:03.284Z"
   },
   {
    "duration": 151,
    "start_time": "2023-03-27T19:38:03.844Z"
   },
   {
    "duration": 267,
    "start_time": "2023-03-27T19:38:04.206Z"
   },
   {
    "duration": 276,
    "start_time": "2023-03-27T19:38:04.618Z"
   },
   {
    "duration": 93,
    "start_time": "2023-03-27T19:38:05.114Z"
   },
   {
    "duration": 76,
    "start_time": "2023-03-27T19:38:05.310Z"
   },
   {
    "duration": 82,
    "start_time": "2023-03-27T19:38:05.879Z"
   },
   {
    "duration": 440,
    "start_time": "2023-03-27T19:38:06.079Z"
   },
   {
    "duration": 466,
    "start_time": "2023-03-27T19:38:06.523Z"
   },
   {
    "duration": 37,
    "start_time": "2023-03-27T19:38:06.991Z"
   },
   {
    "duration": 330,
    "start_time": "2023-03-27T19:38:07.491Z"
   },
   {
    "duration": 33,
    "start_time": "2023-03-27T19:38:07.823Z"
   },
   {
    "duration": 140,
    "start_time": "2023-03-27T19:38:07.858Z"
   },
   {
    "duration": 27,
    "start_time": "2023-03-27T19:38:08.088Z"
   },
   {
    "duration": 355,
    "start_time": "2023-03-27T19:38:08.794Z"
   },
   {
    "duration": 363,
    "start_time": "2023-03-27T19:38:09.151Z"
   },
   {
    "duration": 444,
    "start_time": "2023-03-27T19:38:09.515Z"
   },
   {
    "duration": 388,
    "start_time": "2023-03-27T19:38:09.961Z"
   },
   {
    "duration": 431,
    "start_time": "2023-03-27T19:38:10.352Z"
   },
   {
    "duration": 181,
    "start_time": "2023-03-27T19:38:10.785Z"
   },
   {
    "duration": 12,
    "start_time": "2023-03-27T19:38:10.998Z"
   },
   {
    "duration": 48,
    "start_time": "2023-03-27T19:38:11.168Z"
   },
   {
    "duration": 4,
    "start_time": "2023-03-27T19:38:11.749Z"
   },
   {
    "duration": 12,
    "start_time": "2023-03-27T19:38:12.543Z"
   },
   {
    "duration": 10,
    "start_time": "2023-03-27T19:38:12.801Z"
   },
   {
    "duration": 3,
    "start_time": "2023-03-27T19:38:12.930Z"
   },
   {
    "duration": 300,
    "start_time": "2023-03-27T19:38:13.384Z"
   },
   {
    "duration": 13,
    "start_time": "2023-03-27T19:38:13.686Z"
   },
   {
    "duration": 40,
    "start_time": "2023-03-27T19:38:13.712Z"
   },
   {
    "duration": 53,
    "start_time": "2023-03-27T19:38:13.906Z"
   },
   {
    "duration": 395,
    "start_time": "2023-03-27T19:38:14.387Z"
   },
   {
    "duration": 236,
    "start_time": "2023-03-27T19:38:14.784Z"
   },
   {
    "duration": 2026,
    "start_time": "2023-03-27T19:38:15.022Z"
   },
   {
    "duration": 193,
    "start_time": "2023-03-27T19:38:50.392Z"
   },
   {
    "duration": 4,
    "start_time": "2023-03-27T19:39:03.382Z"
   },
   {
    "duration": 9833,
    "start_time": "2023-03-27T19:39:08.454Z"
   },
   {
    "duration": 16216,
    "start_time": "2023-03-27T19:48:37.916Z"
   },
   {
    "duration": 7,
    "start_time": "2023-03-27T19:54:07.409Z"
   },
   {
    "duration": 46,
    "start_time": "2023-03-27T19:55:44.733Z"
   },
   {
    "duration": 40,
    "start_time": "2023-03-27T19:55:59.020Z"
   },
   {
    "duration": 49,
    "start_time": "2023-03-27T19:57:48.002Z"
   },
   {
    "duration": 5,
    "start_time": "2023-03-27T19:58:00.621Z"
   },
   {
    "duration": 10,
    "start_time": "2023-03-27T19:58:07.213Z"
   },
   {
    "duration": 10,
    "start_time": "2023-03-27T19:58:54.406Z"
   },
   {
    "duration": 24248,
    "start_time": "2023-03-27T20:01:55.187Z"
   },
   {
    "duration": 3747,
    "start_time": "2023-03-27T20:12:00.502Z"
   },
   {
    "duration": 4,
    "start_time": "2023-03-27T20:12:21.154Z"
   },
   {
    "duration": 6,
    "start_time": "2023-03-27T20:12:45.472Z"
   },
   {
    "duration": 2178,
    "start_time": "2023-03-28T15:32:44.958Z"
   },
   {
    "duration": 1198,
    "start_time": "2023-03-28T15:32:47.140Z"
   },
   {
    "duration": 137,
    "start_time": "2023-03-28T15:32:48.340Z"
   },
   {
    "duration": 144,
    "start_time": "2023-03-28T15:32:48.480Z"
   },
   {
    "duration": 475,
    "start_time": "2023-03-28T15:32:48.625Z"
   },
   {
    "duration": 551,
    "start_time": "2023-03-28T15:32:49.102Z"
   },
   {
    "duration": 5,
    "start_time": "2023-03-28T15:32:49.656Z"
   },
   {
    "duration": 153,
    "start_time": "2023-03-28T15:32:49.674Z"
   },
   {
    "duration": 21,
    "start_time": "2023-03-28T15:32:49.829Z"
   },
   {
    "duration": 103,
    "start_time": "2023-03-28T15:32:49.874Z"
   },
   {
    "duration": 8,
    "start_time": "2023-03-28T15:32:49.978Z"
   },
   {
    "duration": 300,
    "start_time": "2023-03-28T15:32:49.988Z"
   },
   {
    "duration": 220,
    "start_time": "2023-03-28T15:32:50.290Z"
   },
   {
    "duration": 324,
    "start_time": "2023-03-28T15:32:50.513Z"
   },
   {
    "duration": 299,
    "start_time": "2023-03-28T15:32:50.839Z"
   },
   {
    "duration": 94,
    "start_time": "2023-03-28T15:32:51.141Z"
   },
   {
    "duration": 94,
    "start_time": "2023-03-28T15:32:51.237Z"
   },
   {
    "duration": 105,
    "start_time": "2023-03-28T15:32:51.334Z"
   },
   {
    "duration": 440,
    "start_time": "2023-03-28T15:32:51.441Z"
   },
   {
    "duration": 524,
    "start_time": "2023-03-28T15:32:51.883Z"
   },
   {
    "duration": 26,
    "start_time": "2023-03-28T15:32:52.409Z"
   },
   {
    "duration": 439,
    "start_time": "2023-03-28T15:32:52.439Z"
   },
   {
    "duration": 41,
    "start_time": "2023-03-28T15:32:52.881Z"
   },
   {
    "duration": 224,
    "start_time": "2023-03-28T15:32:52.925Z"
   },
   {
    "duration": 21,
    "start_time": "2023-03-28T15:32:57.789Z"
   },
   {
    "duration": 2053,
    "start_time": "2023-03-28T15:35:30.638Z"
   },
   {
    "duration": 873,
    "start_time": "2023-03-28T15:35:32.693Z"
   },
   {
    "duration": 145,
    "start_time": "2023-03-28T15:35:33.568Z"
   },
   {
    "duration": 129,
    "start_time": "2023-03-28T15:35:33.716Z"
   },
   {
    "duration": 609,
    "start_time": "2023-03-28T15:35:33.847Z"
   },
   {
    "duration": 572,
    "start_time": "2023-03-28T15:35:34.458Z"
   },
   {
    "duration": 4,
    "start_time": "2023-03-28T15:35:35.032Z"
   },
   {
    "duration": 173,
    "start_time": "2023-03-28T15:35:35.038Z"
   },
   {
    "duration": 22,
    "start_time": "2023-03-28T15:35:35.214Z"
   },
   {
    "duration": 107,
    "start_time": "2023-03-28T15:35:35.239Z"
   },
   {
    "duration": 6,
    "start_time": "2023-03-28T15:35:35.348Z"
   },
   {
    "duration": 314,
    "start_time": "2023-03-28T15:35:35.356Z"
   },
   {
    "duration": 177,
    "start_time": "2023-03-28T15:35:35.672Z"
   },
   {
    "duration": 303,
    "start_time": "2023-03-28T15:35:35.851Z"
   },
   {
    "duration": 297,
    "start_time": "2023-03-28T15:35:36.157Z"
   },
   {
    "duration": 88,
    "start_time": "2023-03-28T15:35:36.456Z"
   },
   {
    "duration": 99,
    "start_time": "2023-03-28T15:35:36.546Z"
   },
   {
    "duration": 86,
    "start_time": "2023-03-28T15:35:36.647Z"
   },
   {
    "duration": 472,
    "start_time": "2023-03-28T15:35:36.734Z"
   },
   {
    "duration": 488,
    "start_time": "2023-03-28T15:35:37.208Z"
   },
   {
    "duration": 24,
    "start_time": "2023-03-28T15:35:37.698Z"
   },
   {
    "duration": 366,
    "start_time": "2023-03-28T15:35:37.724Z"
   },
   {
    "duration": 32,
    "start_time": "2023-03-28T15:35:38.092Z"
   },
   {
    "duration": 151,
    "start_time": "2023-03-28T15:35:38.126Z"
   },
   {
    "duration": 33,
    "start_time": "2023-03-28T15:35:38.279Z"
   },
   {
    "duration": 427,
    "start_time": "2023-03-28T15:35:38.314Z"
   },
   {
    "duration": 382,
    "start_time": "2023-03-28T15:35:38.743Z"
   },
   {
    "duration": 478,
    "start_time": "2023-03-28T15:35:39.128Z"
   },
   {
    "duration": 399,
    "start_time": "2023-03-28T15:35:39.608Z"
   },
   {
    "duration": 389,
    "start_time": "2023-03-28T15:35:40.009Z"
   },
   {
    "duration": 201,
    "start_time": "2023-03-28T15:35:40.400Z"
   },
   {
    "duration": 13,
    "start_time": "2023-03-28T15:35:40.603Z"
   },
   {
    "duration": 72,
    "start_time": "2023-03-28T15:35:40.618Z"
   },
   {
    "duration": 4,
    "start_time": "2023-03-28T15:35:40.693Z"
   },
   {
    "duration": 13,
    "start_time": "2023-03-28T15:35:40.699Z"
   },
   {
    "duration": 11,
    "start_time": "2023-03-28T15:35:41.987Z"
   },
   {
    "duration": 3,
    "start_time": "2023-03-28T15:35:42.344Z"
   },
   {
    "duration": 427,
    "start_time": "2023-03-28T15:36:04.851Z"
   },
   {
    "duration": 230,
    "start_time": "2023-03-28T15:36:22.409Z"
   },
   {
    "duration": 183,
    "start_time": "2023-03-28T15:43:06.501Z"
   },
   {
    "duration": 1828,
    "start_time": "2023-03-28T20:01:25.780Z"
   },
   {
    "duration": 1242,
    "start_time": "2023-03-28T20:01:27.610Z"
   },
   {
    "duration": 158,
    "start_time": "2023-03-28T20:01:28.854Z"
   },
   {
    "duration": 136,
    "start_time": "2023-03-28T20:01:29.014Z"
   },
   {
    "duration": 527,
    "start_time": "2023-03-28T20:01:29.151Z"
   },
   {
    "duration": 556,
    "start_time": "2023-03-28T20:01:29.680Z"
   },
   {
    "duration": 4,
    "start_time": "2023-03-28T20:01:30.238Z"
   },
   {
    "duration": 186,
    "start_time": "2023-03-28T20:01:30.243Z"
   },
   {
    "duration": 20,
    "start_time": "2023-03-28T20:01:30.431Z"
   },
   {
    "duration": 113,
    "start_time": "2023-03-28T20:01:30.462Z"
   },
   {
    "duration": 5,
    "start_time": "2023-03-28T20:01:30.577Z"
   },
   {
    "duration": 318,
    "start_time": "2023-03-28T20:01:30.584Z"
   },
   {
    "duration": 181,
    "start_time": "2023-03-28T20:01:30.904Z"
   },
   {
    "duration": 290,
    "start_time": "2023-03-28T20:01:31.088Z"
   },
   {
    "duration": 297,
    "start_time": "2023-03-28T20:01:31.379Z"
   },
   {
    "duration": 107,
    "start_time": "2023-03-28T20:01:31.678Z"
   },
   {
    "duration": 115,
    "start_time": "2023-03-28T20:01:31.787Z"
   },
   {
    "duration": 70,
    "start_time": "2023-03-28T20:01:32.282Z"
   },
   {
    "duration": 473,
    "start_time": "2023-03-28T20:01:32.453Z"
   },
   {
    "duration": 464,
    "start_time": "2023-03-28T20:01:32.978Z"
   },
   {
    "duration": 39,
    "start_time": "2023-03-28T20:01:33.444Z"
   },
   {
    "duration": 336,
    "start_time": "2023-03-28T20:01:34.238Z"
   },
   {
    "duration": 31,
    "start_time": "2023-03-28T20:01:34.578Z"
   },
   {
    "duration": 149,
    "start_time": "2023-03-28T20:01:34.611Z"
   },
   {
    "duration": 30,
    "start_time": "2023-03-28T20:01:34.816Z"
   },
   {
    "duration": 371,
    "start_time": "2023-03-28T20:01:35.735Z"
   },
   {
    "duration": 403,
    "start_time": "2023-03-28T20:01:36.108Z"
   },
   {
    "duration": 452,
    "start_time": "2023-03-28T20:01:36.513Z"
   },
   {
    "duration": 417,
    "start_time": "2023-03-28T20:01:36.967Z"
   },
   {
    "duration": 351,
    "start_time": "2023-03-28T20:01:37.386Z"
   },
   {
    "duration": 201,
    "start_time": "2023-03-28T20:01:37.740Z"
   },
   {
    "duration": 31,
    "start_time": "2023-03-28T20:01:37.943Z"
   },
   {
    "duration": 58,
    "start_time": "2023-03-28T20:01:38.117Z"
   },
   {
    "duration": 4,
    "start_time": "2023-03-28T20:01:38.874Z"
   },
   {
    "duration": 12,
    "start_time": "2023-03-28T20:01:42.102Z"
   },
   {
    "duration": 13,
    "start_time": "2023-03-28T20:01:42.319Z"
   },
   {
    "duration": 3,
    "start_time": "2023-03-28T20:01:44.844Z"
   },
   {
    "duration": 40,
    "start_time": "2023-03-28T20:01:49.595Z"
   },
   {
    "duration": 139,
    "start_time": "2023-03-28T20:01:52.055Z"
   },
   {
    "duration": 5,
    "start_time": "2023-03-28T20:02:37.413Z"
   },
   {
    "duration": 19,
    "start_time": "2023-03-28T20:02:41.207Z"
   },
   {
    "duration": 17,
    "start_time": "2023-03-28T20:03:02.910Z"
   },
   {
    "duration": 12,
    "start_time": "2023-03-28T20:03:27.176Z"
   },
   {
    "duration": 4,
    "start_time": "2023-03-28T20:03:56.606Z"
   },
   {
    "duration": 288,
    "start_time": "2023-03-28T20:04:06.426Z"
   },
   {
    "duration": 20,
    "start_time": "2023-03-28T20:04:35.982Z"
   },
   {
    "duration": 92,
    "start_time": "2023-03-28T20:05:34.533Z"
   },
   {
    "duration": 19,
    "start_time": "2023-03-28T20:05:36.835Z"
   },
   {
    "duration": 5,
    "start_time": "2023-03-28T20:25:53.640Z"
   },
   {
    "duration": 990,
    "start_time": "2023-03-28T20:25:54.005Z"
   },
   {
    "duration": 150,
    "start_time": "2023-03-28T20:25:54.997Z"
   },
   {
    "duration": 136,
    "start_time": "2023-03-28T20:25:55.162Z"
   },
   {
    "duration": 498,
    "start_time": "2023-03-28T20:25:55.300Z"
   },
   {
    "duration": 499,
    "start_time": "2023-03-28T20:25:55.800Z"
   },
   {
    "duration": 4,
    "start_time": "2023-03-28T20:25:56.301Z"
   },
   {
    "duration": 161,
    "start_time": "2023-03-28T20:25:56.307Z"
   },
   {
    "duration": 21,
    "start_time": "2023-03-28T20:25:56.470Z"
   },
   {
    "duration": 96,
    "start_time": "2023-03-28T20:25:56.614Z"
   },
   {
    "duration": 4,
    "start_time": "2023-03-28T20:25:56.871Z"
   },
   {
    "duration": 293,
    "start_time": "2023-03-28T20:25:57.034Z"
   },
   {
    "duration": 149,
    "start_time": "2023-03-28T20:25:57.663Z"
   },
   {
    "duration": 272,
    "start_time": "2023-03-28T20:25:58.017Z"
   },
   {
    "duration": 276,
    "start_time": "2023-03-28T20:25:58.393Z"
   },
   {
    "duration": 100,
    "start_time": "2023-03-28T20:25:59.091Z"
   },
   {
    "duration": 103,
    "start_time": "2023-03-28T20:25:59.268Z"
   },
   {
    "duration": 72,
    "start_time": "2023-03-28T20:25:59.852Z"
   },
   {
    "duration": 588,
    "start_time": "2023-03-28T20:26:00.038Z"
   },
   {
    "duration": 382,
    "start_time": "2023-03-28T20:26:00.628Z"
   },
   {
    "duration": 27,
    "start_time": "2023-03-28T20:26:01.012Z"
   },
   {
    "duration": 337,
    "start_time": "2023-03-28T20:26:01.751Z"
   },
   {
    "duration": 29,
    "start_time": "2023-03-28T20:26:02.089Z"
   },
   {
    "duration": 145,
    "start_time": "2023-03-28T20:26:02.120Z"
   },
   {
    "duration": 35,
    "start_time": "2023-03-28T20:26:02.321Z"
   },
   {
    "duration": 358,
    "start_time": "2023-03-28T20:26:03.245Z"
   },
   {
    "duration": 542,
    "start_time": "2023-03-28T20:26:03.606Z"
   },
   {
    "duration": 381,
    "start_time": "2023-03-28T20:26:04.150Z"
   },
   {
    "duration": 389,
    "start_time": "2023-03-28T20:26:04.533Z"
   },
   {
    "duration": 368,
    "start_time": "2023-03-28T20:26:04.924Z"
   },
   {
    "duration": 216,
    "start_time": "2023-03-28T20:26:05.294Z"
   },
   {
    "duration": 13,
    "start_time": "2023-03-28T20:26:05.512Z"
   },
   {
    "duration": 67,
    "start_time": "2023-03-28T20:26:05.527Z"
   },
   {
    "duration": 4,
    "start_time": "2023-03-28T20:26:06.207Z"
   },
   {
    "duration": 12,
    "start_time": "2023-03-28T20:26:08.900Z"
   },
   {
    "duration": 13,
    "start_time": "2023-03-28T20:26:10.870Z"
   },
   {
    "duration": 3,
    "start_time": "2023-03-28T20:26:12.105Z"
   },
   {
    "duration": 48,
    "start_time": "2023-03-28T20:26:15.716Z"
   },
   {
    "duration": 57,
    "start_time": "2023-03-28T20:26:19.221Z"
   },
   {
    "duration": 295,
    "start_time": "2023-03-28T20:27:49.463Z"
   },
   {
    "duration": 245,
    "start_time": "2023-03-28T20:29:24.209Z"
   },
   {
    "duration": 299,
    "start_time": "2023-03-28T20:29:49.137Z"
   },
   {
    "duration": 257,
    "start_time": "2023-03-28T20:30:50.870Z"
   },
   {
    "duration": 296,
    "start_time": "2023-03-28T20:31:11.380Z"
   },
   {
    "duration": 604,
    "start_time": "2023-03-28T20:33:41.182Z"
   },
   {
    "duration": 4,
    "start_time": "2023-03-28T20:33:59.585Z"
   },
   {
    "duration": 827,
    "start_time": "2023-03-28T20:33:59.989Z"
   },
   {
    "duration": 135,
    "start_time": "2023-03-28T20:34:00.819Z"
   },
   {
    "duration": 140,
    "start_time": "2023-03-28T20:34:00.956Z"
   },
   {
    "duration": 471,
    "start_time": "2023-03-28T20:34:01.340Z"
   },
   {
    "duration": 467,
    "start_time": "2023-03-28T20:34:01.812Z"
   },
   {
    "duration": 1429,
    "start_time": "2023-03-28T20:34:09.670Z"
   },
   {
    "duration": 876,
    "start_time": "2023-03-28T20:34:11.101Z"
   },
   {
    "duration": 142,
    "start_time": "2023-03-28T20:34:11.979Z"
   },
   {
    "duration": 135,
    "start_time": "2023-03-28T20:34:12.123Z"
   },
   {
    "duration": 517,
    "start_time": "2023-03-28T20:34:12.261Z"
   },
   {
    "duration": 552,
    "start_time": "2023-03-28T20:34:12.779Z"
   },
   {
    "duration": 3,
    "start_time": "2023-03-28T20:34:13.333Z"
   },
   {
    "duration": 174,
    "start_time": "2023-03-28T20:34:13.338Z"
   },
   {
    "duration": 18,
    "start_time": "2023-03-28T20:34:13.515Z"
   },
   {
    "duration": 116,
    "start_time": "2023-03-28T20:34:13.535Z"
   },
   {
    "duration": 10,
    "start_time": "2023-03-28T20:34:13.652Z"
   },
   {
    "duration": 287,
    "start_time": "2023-03-28T20:34:13.665Z"
   },
   {
    "duration": 224,
    "start_time": "2023-03-28T20:34:13.954Z"
   },
   {
    "duration": 269,
    "start_time": "2023-03-28T20:34:14.394Z"
   },
   {
    "duration": 271,
    "start_time": "2023-03-28T20:34:14.798Z"
   },
   {
    "duration": 97,
    "start_time": "2023-03-28T20:34:15.653Z"
   },
   {
    "duration": 97,
    "start_time": "2023-03-28T20:34:15.752Z"
   },
   {
    "duration": 69,
    "start_time": "2023-03-28T20:34:16.497Z"
   },
   {
    "duration": 446,
    "start_time": "2023-03-28T20:34:16.686Z"
   },
   {
    "duration": 456,
    "start_time": "2023-03-28T20:34:17.312Z"
   },
   {
    "duration": 25,
    "start_time": "2023-03-28T20:34:17.770Z"
   },
   {
    "duration": 304,
    "start_time": "2023-03-28T20:34:18.812Z"
   },
   {
    "duration": 33,
    "start_time": "2023-03-28T20:34:19.118Z"
   },
   {
    "duration": 127,
    "start_time": "2023-03-28T20:34:19.256Z"
   },
   {
    "duration": 29,
    "start_time": "2023-03-28T20:34:19.429Z"
   },
   {
    "duration": 335,
    "start_time": "2023-03-28T20:34:20.657Z"
   },
   {
    "duration": 347,
    "start_time": "2023-03-28T20:34:20.994Z"
   },
   {
    "duration": 459,
    "start_time": "2023-03-28T20:34:21.343Z"
   },
   {
    "duration": 343,
    "start_time": "2023-03-28T20:34:21.804Z"
   },
   {
    "duration": 332,
    "start_time": "2023-03-28T20:34:22.149Z"
   },
   {
    "duration": 159,
    "start_time": "2023-03-28T20:34:22.767Z"
   },
   {
    "duration": 13,
    "start_time": "2023-03-28T20:34:22.969Z"
   },
   {
    "duration": 56,
    "start_time": "2023-03-28T20:34:23.246Z"
   },
   {
    "duration": 5,
    "start_time": "2023-03-28T20:34:24.053Z"
   },
   {
    "duration": 11,
    "start_time": "2023-03-28T20:34:25.190Z"
   },
   {
    "duration": 11,
    "start_time": "2023-03-28T20:34:28.893Z"
   },
   {
    "duration": 3,
    "start_time": "2023-03-28T20:34:29.103Z"
   },
   {
    "duration": 40,
    "start_time": "2023-03-28T20:34:37.072Z"
   },
   {
    "duration": 561,
    "start_time": "2023-03-28T20:34:38.216Z"
   },
   {
    "duration": 18,
    "start_time": "2023-03-28T20:34:43.765Z"
   },
   {
    "duration": 301,
    "start_time": "2023-03-28T20:35:31.914Z"
   },
   {
    "duration": 162,
    "start_time": "2023-03-28T20:36:23.134Z"
   },
   {
    "duration": 6,
    "start_time": "2023-03-28T20:36:34.101Z"
   },
   {
    "duration": 11,
    "start_time": "2023-03-28T20:41:05.985Z"
   },
   {
    "duration": 13,
    "start_time": "2023-03-28T20:41:16.779Z"
   },
   {
    "duration": 11,
    "start_time": "2023-03-28T20:44:22.448Z"
   },
   {
    "duration": 6,
    "start_time": "2023-03-28T20:44:39.908Z"
   },
   {
    "duration": 881,
    "start_time": "2023-03-28T20:44:40.345Z"
   },
   {
    "duration": 143,
    "start_time": "2023-03-28T20:44:41.228Z"
   },
   {
    "duration": 144,
    "start_time": "2023-03-28T20:44:41.373Z"
   },
   {
    "duration": 456,
    "start_time": "2023-03-28T20:44:41.675Z"
   },
   {
    "duration": 495,
    "start_time": "2023-03-28T20:44:42.133Z"
   },
   {
    "duration": 4,
    "start_time": "2023-03-28T20:44:42.630Z"
   },
   {
    "duration": 162,
    "start_time": "2023-03-28T20:44:42.635Z"
   },
   {
    "duration": 20,
    "start_time": "2023-03-28T20:44:42.799Z"
   },
   {
    "duration": 106,
    "start_time": "2023-03-28T20:44:43.369Z"
   },
   {
    "duration": 4,
    "start_time": "2023-03-28T20:44:43.715Z"
   },
   {
    "duration": 330,
    "start_time": "2023-03-28T20:44:43.886Z"
   },
   {
    "duration": 149,
    "start_time": "2023-03-28T20:44:45.828Z"
   },
   {
    "duration": 255,
    "start_time": "2023-03-28T20:44:46.217Z"
   },
   {
    "duration": 254,
    "start_time": "2023-03-28T20:44:46.594Z"
   },
   {
    "duration": 99,
    "start_time": "2023-03-28T20:44:47.380Z"
   },
   {
    "duration": 92,
    "start_time": "2023-03-28T20:44:47.598Z"
   },
   {
    "duration": 72,
    "start_time": "2023-03-28T20:44:48.160Z"
   },
   {
    "duration": 573,
    "start_time": "2023-03-28T20:44:49.058Z"
   },
   {
    "duration": 386,
    "start_time": "2023-03-28T20:44:49.658Z"
   },
   {
    "duration": 36,
    "start_time": "2023-03-28T20:44:50.046Z"
   },
   {
    "duration": 304,
    "start_time": "2023-03-28T20:44:51.039Z"
   },
   {
    "duration": 37,
    "start_time": "2023-03-28T20:44:51.345Z"
   },
   {
    "duration": 126,
    "start_time": "2023-03-28T20:44:51.549Z"
   },
   {
    "duration": 28,
    "start_time": "2023-03-28T20:44:51.714Z"
   },
   {
    "duration": 343,
    "start_time": "2023-03-28T20:44:52.860Z"
   },
   {
    "duration": 490,
    "start_time": "2023-03-28T20:44:53.205Z"
   },
   {
    "duration": 398,
    "start_time": "2023-03-28T20:44:53.697Z"
   },
   {
    "duration": 374,
    "start_time": "2023-03-28T20:44:54.769Z"
   },
   {
    "duration": 331,
    "start_time": "2023-03-28T20:44:57.343Z"
   },
   {
    "duration": 169,
    "start_time": "2023-03-28T20:44:59.153Z"
   },
   {
    "duration": 12,
    "start_time": "2023-03-28T20:44:59.600Z"
   },
   {
    "duration": 52,
    "start_time": "2023-03-28T20:44:59.938Z"
   },
   {
    "duration": 4,
    "start_time": "2023-03-28T20:45:02.454Z"
   },
   {
    "duration": 12,
    "start_time": "2023-03-28T20:45:06.501Z"
   },
   {
    "duration": 12,
    "start_time": "2023-03-28T20:45:07.834Z"
   },
   {
    "duration": 3,
    "start_time": "2023-03-28T20:45:08.530Z"
   },
   {
    "duration": 40,
    "start_time": "2023-03-28T20:45:10.886Z"
   },
   {
    "duration": 12,
    "start_time": "2023-03-28T20:45:12.117Z"
   },
   {
    "duration": 767,
    "start_time": "2023-03-28T20:46:01.714Z"
   },
   {
    "duration": 31,
    "start_time": "2023-03-28T20:46:13.315Z"
   },
   {
    "duration": 17,
    "start_time": "2023-03-28T20:47:32.182Z"
   },
   {
    "duration": 5,
    "start_time": "2023-03-28T20:48:55.580Z"
   },
   {
    "duration": 848,
    "start_time": "2023-03-28T20:48:55.991Z"
   },
   {
    "duration": 136,
    "start_time": "2023-03-28T20:48:56.841Z"
   },
   {
    "duration": 130,
    "start_time": "2023-03-28T20:48:56.979Z"
   },
   {
    "duration": 470,
    "start_time": "2023-03-28T20:48:57.267Z"
   },
   {
    "duration": 484,
    "start_time": "2023-03-28T20:48:57.739Z"
   },
   {
    "duration": 4,
    "start_time": "2023-03-28T20:48:58.226Z"
   },
   {
    "duration": 159,
    "start_time": "2023-03-28T20:48:58.231Z"
   },
   {
    "duration": 20,
    "start_time": "2023-03-28T20:48:58.392Z"
   },
   {
    "duration": 97,
    "start_time": "2023-03-28T20:48:58.747Z"
   },
   {
    "duration": 5,
    "start_time": "2023-03-28T20:48:58.925Z"
   },
   {
    "duration": 266,
    "start_time": "2023-03-28T20:48:59.156Z"
   },
   {
    "duration": 150,
    "start_time": "2023-03-28T20:48:59.945Z"
   },
   {
    "duration": 276,
    "start_time": "2023-03-28T20:49:00.301Z"
   },
   {
    "duration": 279,
    "start_time": "2023-03-28T20:49:00.701Z"
   },
   {
    "duration": 100,
    "start_time": "2023-03-28T20:49:01.500Z"
   },
   {
    "duration": 98,
    "start_time": "2023-03-28T20:49:01.720Z"
   },
   {
    "duration": 76,
    "start_time": "2023-03-28T20:49:02.493Z"
   },
   {
    "duration": 496,
    "start_time": "2023-03-28T20:49:02.724Z"
   },
   {
    "duration": 401,
    "start_time": "2023-03-28T20:49:03.314Z"
   },
   {
    "duration": 27,
    "start_time": "2023-03-28T20:49:03.717Z"
   },
   {
    "duration": 373,
    "start_time": "2023-03-28T20:49:04.458Z"
   },
   {
    "duration": 42,
    "start_time": "2023-03-28T20:49:04.834Z"
   },
   {
    "duration": 149,
    "start_time": "2023-03-28T20:49:04.881Z"
   },
   {
    "duration": 32,
    "start_time": "2023-03-28T20:49:05.060Z"
   },
   {
    "duration": 354,
    "start_time": "2023-03-28T20:49:05.984Z"
   },
   {
    "duration": 366,
    "start_time": "2023-03-28T20:49:06.340Z"
   },
   {
    "duration": 558,
    "start_time": "2023-03-28T20:49:06.708Z"
   },
   {
    "duration": 379,
    "start_time": "2023-03-28T20:49:07.269Z"
   },
   {
    "duration": 354,
    "start_time": "2023-03-28T20:49:07.650Z"
   },
   {
    "duration": 178,
    "start_time": "2023-03-28T20:49:08.246Z"
   },
   {
    "duration": 13,
    "start_time": "2023-03-28T20:49:08.439Z"
   },
   {
    "duration": 57,
    "start_time": "2023-03-28T20:49:08.584Z"
   },
   {
    "duration": 5,
    "start_time": "2023-03-28T20:49:09.380Z"
   },
   {
    "duration": 11,
    "start_time": "2023-03-28T20:49:11.139Z"
   },
   {
    "duration": 12,
    "start_time": "2023-03-28T20:49:11.487Z"
   },
   {
    "duration": 3,
    "start_time": "2023-03-28T20:49:11.696Z"
   },
   {
    "duration": 59,
    "start_time": "2023-03-28T20:49:14.049Z"
   },
   {
    "duration": 354,
    "start_time": "2023-03-28T20:49:14.804Z"
   },
   {
    "duration": 5,
    "start_time": "2023-03-28T20:49:19.956Z"
   },
   {
    "duration": 267,
    "start_time": "2023-03-28T20:50:21.422Z"
   },
   {
    "duration": 4,
    "start_time": "2023-03-28T20:50:26.942Z"
   },
   {
    "duration": 951,
    "start_time": "2023-03-28T20:50:27.367Z"
   },
   {
    "duration": 155,
    "start_time": "2023-03-28T20:50:28.320Z"
   },
   {
    "duration": 152,
    "start_time": "2023-03-28T20:50:28.479Z"
   },
   {
    "duration": 435,
    "start_time": "2023-03-28T20:50:28.715Z"
   },
   {
    "duration": 480,
    "start_time": "2023-03-28T20:50:29.153Z"
   },
   {
    "duration": 4,
    "start_time": "2023-03-28T20:50:29.634Z"
   },
   {
    "duration": 157,
    "start_time": "2023-03-28T20:50:29.640Z"
   },
   {
    "duration": 19,
    "start_time": "2023-03-28T20:50:29.799Z"
   },
   {
    "duration": 93,
    "start_time": "2023-03-28T20:50:30.222Z"
   },
   {
    "duration": 4,
    "start_time": "2023-03-28T20:50:30.423Z"
   },
   {
    "duration": 281,
    "start_time": "2023-03-28T20:50:30.554Z"
   },
   {
    "duration": 146,
    "start_time": "2023-03-28T20:50:31.288Z"
   },
   {
    "duration": 260,
    "start_time": "2023-03-28T20:50:31.683Z"
   },
   {
    "duration": 265,
    "start_time": "2023-03-28T20:50:32.041Z"
   },
   {
    "duration": 97,
    "start_time": "2023-03-28T20:50:32.718Z"
   },
   {
    "duration": 94,
    "start_time": "2023-03-28T20:50:32.890Z"
   },
   {
    "duration": 70,
    "start_time": "2023-03-28T20:50:33.483Z"
   },
   {
    "duration": 539,
    "start_time": "2023-03-28T20:50:33.746Z"
   },
   {
    "duration": 363,
    "start_time": "2023-03-28T20:50:34.287Z"
   },
   {
    "duration": 26,
    "start_time": "2023-03-28T20:50:34.723Z"
   },
   {
    "duration": 481,
    "start_time": "2023-03-28T20:50:35.443Z"
   },
   {
    "duration": 39,
    "start_time": "2023-03-28T20:50:35.926Z"
   },
   {
    "duration": 132,
    "start_time": "2023-03-28T20:50:35.967Z"
   },
   {
    "duration": 24,
    "start_time": "2023-03-28T20:50:36.102Z"
   },
   {
    "duration": 362,
    "start_time": "2023-03-28T20:50:36.976Z"
   },
   {
    "duration": 342,
    "start_time": "2023-03-28T20:50:37.340Z"
   },
   {
    "duration": 346,
    "start_time": "2023-03-28T20:50:37.684Z"
   },
   {
    "duration": 353,
    "start_time": "2023-03-28T20:50:38.032Z"
   },
   {
    "duration": 535,
    "start_time": "2023-03-28T20:50:38.387Z"
   },
   {
    "duration": 170,
    "start_time": "2023-03-28T20:50:38.925Z"
   },
   {
    "duration": 13,
    "start_time": "2023-03-28T20:50:39.122Z"
   },
   {
    "duration": 55,
    "start_time": "2023-03-28T20:50:39.317Z"
   },
   {
    "duration": 4,
    "start_time": "2023-03-28T20:50:40.085Z"
   },
   {
    "duration": 11,
    "start_time": "2023-03-28T20:50:41.428Z"
   },
   {
    "duration": 13,
    "start_time": "2023-03-28T20:50:41.636Z"
   },
   {
    "duration": 3,
    "start_time": "2023-03-28T20:50:42.360Z"
   },
   {
    "duration": 42,
    "start_time": "2023-03-28T20:50:45.091Z"
   },
   {
    "duration": 362,
    "start_time": "2023-03-28T20:50:46.282Z"
   },
   {
    "duration": 16,
    "start_time": "2023-03-28T20:52:01.000Z"
   },
   {
    "duration": 15,
    "start_time": "2023-03-28T20:52:39.553Z"
   },
   {
    "duration": 47,
    "start_time": "2023-03-28T20:52:51.454Z"
   },
   {
    "duration": 620,
    "start_time": "2023-03-28T20:52:52.295Z"
   },
   {
    "duration": 30,
    "start_time": "2023-03-28T20:53:08.282Z"
   },
   {
    "duration": 18,
    "start_time": "2023-03-28T20:53:12.145Z"
   },
   {
    "duration": 6,
    "start_time": "2023-03-28T21:01:06.673Z"
   },
   {
    "duration": 824,
    "start_time": "2023-03-28T21:01:07.070Z"
   },
   {
    "duration": 128,
    "start_time": "2023-03-28T21:01:07.896Z"
   },
   {
    "duration": 127,
    "start_time": "2023-03-28T21:01:08.026Z"
   },
   {
    "duration": 436,
    "start_time": "2023-03-28T21:01:08.282Z"
   },
   {
    "duration": 463,
    "start_time": "2023-03-28T21:01:08.721Z"
   },
   {
    "duration": 5,
    "start_time": "2023-03-28T21:01:09.185Z"
   },
   {
    "duration": 161,
    "start_time": "2023-03-28T21:01:09.191Z"
   },
   {
    "duration": 23,
    "start_time": "2023-03-28T21:01:09.354Z"
   },
   {
    "duration": 95,
    "start_time": "2023-03-28T21:01:09.838Z"
   },
   {
    "duration": 5,
    "start_time": "2023-03-28T21:01:10.026Z"
   },
   {
    "duration": 259,
    "start_time": "2023-03-28T21:01:10.216Z"
   },
   {
    "duration": 151,
    "start_time": "2023-03-28T21:01:11.021Z"
   },
   {
    "duration": 276,
    "start_time": "2023-03-28T21:01:11.350Z"
   },
   {
    "duration": 264,
    "start_time": "2023-03-28T21:01:11.746Z"
   },
   {
    "duration": 104,
    "start_time": "2023-03-28T21:01:12.511Z"
   },
   {
    "duration": 91,
    "start_time": "2023-03-28T21:01:12.714Z"
   },
   {
    "duration": 70,
    "start_time": "2023-03-28T21:01:13.491Z"
   },
   {
    "duration": 563,
    "start_time": "2023-03-28T21:01:13.744Z"
   },
   {
    "duration": 367,
    "start_time": "2023-03-28T21:01:14.314Z"
   },
   {
    "duration": 29,
    "start_time": "2023-03-28T21:01:15.387Z"
   },
   {
    "duration": 300,
    "start_time": "2023-03-28T21:01:16.300Z"
   },
   {
    "duration": 36,
    "start_time": "2023-03-28T21:01:16.601Z"
   },
   {
    "duration": 127,
    "start_time": "2023-03-28T21:01:16.785Z"
   },
   {
    "duration": 24,
    "start_time": "2023-03-28T21:01:16.965Z"
   },
   {
    "duration": 330,
    "start_time": "2023-03-28T21:01:18.010Z"
   },
   {
    "duration": 339,
    "start_time": "2023-03-28T21:01:18.500Z"
   },
   {
    "duration": 341,
    "start_time": "2023-03-28T21:01:18.927Z"
   },
   {
    "duration": 616,
    "start_time": "2023-03-28T21:01:19.270Z"
   },
   {
    "duration": 370,
    "start_time": "2023-03-28T21:01:19.889Z"
   },
   {
    "duration": 157,
    "start_time": "2023-03-28T21:01:20.454Z"
   },
   {
    "duration": 13,
    "start_time": "2023-03-28T21:01:20.659Z"
   },
   {
    "duration": 52,
    "start_time": "2023-03-28T21:01:20.857Z"
   },
   {
    "duration": 4,
    "start_time": "2023-03-28T21:01:21.684Z"
   },
   {
    "duration": 11,
    "start_time": "2023-03-28T21:01:22.806Z"
   },
   {
    "duration": 12,
    "start_time": "2023-03-28T21:01:23.090Z"
   },
   {
    "duration": 3,
    "start_time": "2023-03-28T21:01:26.232Z"
   },
   {
    "duration": 47,
    "start_time": "2023-03-28T21:01:27.226Z"
   },
   {
    "duration": 649,
    "start_time": "2023-03-28T21:01:34.370Z"
   },
   {
    "duration": 29,
    "start_time": "2023-03-28T21:01:36.977Z"
   },
   {
    "duration": 18,
    "start_time": "2023-03-28T21:01:41.066Z"
   },
   {
    "duration": 16,
    "start_time": "2023-03-28T21:02:11.963Z"
   },
   {
    "duration": 61,
    "start_time": "2023-03-28T21:07:27.655Z"
   },
   {
    "duration": 3,
    "start_time": "2023-03-28T21:10:15.186Z"
   },
   {
    "duration": 61,
    "start_time": "2023-03-28T21:10:21.453Z"
   },
   {
    "duration": 73,
    "start_time": "2023-03-28T21:11:27.167Z"
   },
   {
    "duration": 72,
    "start_time": "2023-03-28T21:12:01.270Z"
   },
   {
    "duration": 63,
    "start_time": "2023-03-28T21:12:10.032Z"
   },
   {
    "duration": 5,
    "start_time": "2023-03-28T21:12:36.365Z"
   },
   {
    "duration": 840,
    "start_time": "2023-03-28T21:12:36.538Z"
   },
   {
    "duration": 127,
    "start_time": "2023-03-28T21:12:43.665Z"
   },
   {
    "duration": 144,
    "start_time": "2023-03-28T21:12:44.080Z"
   },
   {
    "duration": 461,
    "start_time": "2023-03-28T21:12:44.865Z"
   },
   {
    "duration": 506,
    "start_time": "2023-03-28T21:12:45.328Z"
   },
   {
    "duration": 5,
    "start_time": "2023-03-28T21:12:45.836Z"
   },
   {
    "duration": 168,
    "start_time": "2023-03-28T21:12:45.843Z"
   },
   {
    "duration": 29,
    "start_time": "2023-03-28T21:12:46.013Z"
   },
   {
    "duration": 133,
    "start_time": "2023-03-28T21:12:46.575Z"
   },
   {
    "duration": 4,
    "start_time": "2023-03-28T21:12:46.761Z"
   },
   {
    "duration": 264,
    "start_time": "2023-03-28T21:12:46.898Z"
   },
   {
    "duration": 141,
    "start_time": "2023-03-28T21:12:47.615Z"
   },
   {
    "duration": 261,
    "start_time": "2023-03-28T21:12:48.033Z"
   },
   {
    "duration": 265,
    "start_time": "2023-03-28T21:12:48.393Z"
   },
   {
    "duration": 100,
    "start_time": "2023-03-28T21:12:49.215Z"
   },
   {
    "duration": 103,
    "start_time": "2023-03-28T21:12:49.464Z"
   },
   {
    "duration": 69,
    "start_time": "2023-03-28T21:12:49.992Z"
   },
   {
    "duration": 502,
    "start_time": "2023-03-28T21:12:50.178Z"
   },
   {
    "duration": 380,
    "start_time": "2023-03-28T21:12:51.238Z"
   },
   {
    "duration": 24,
    "start_time": "2023-03-28T21:12:51.623Z"
   },
   {
    "duration": 297,
    "start_time": "2023-03-28T21:12:52.332Z"
   },
   {
    "duration": 38,
    "start_time": "2023-03-28T21:12:52.631Z"
   },
   {
    "duration": 131,
    "start_time": "2023-03-28T21:12:52.690Z"
   },
   {
    "duration": 24,
    "start_time": "2023-03-28T21:12:52.861Z"
   },
   {
    "duration": 370,
    "start_time": "2023-03-28T21:12:53.722Z"
   },
   {
    "duration": 380,
    "start_time": "2023-03-28T21:12:54.095Z"
   },
   {
    "duration": 647,
    "start_time": "2023-03-28T21:12:54.477Z"
   },
   {
    "duration": 402,
    "start_time": "2023-03-28T21:12:55.126Z"
   },
   {
    "duration": 373,
    "start_time": "2023-03-28T21:12:55.529Z"
   },
   {
    "duration": 196,
    "start_time": "2023-03-28T21:12:55.905Z"
   },
   {
    "duration": 13,
    "start_time": "2023-03-28T21:12:56.103Z"
   },
   {
    "duration": 72,
    "start_time": "2023-03-28T21:12:56.118Z"
   },
   {
    "duration": 4,
    "start_time": "2023-03-28T21:12:56.764Z"
   },
   {
    "duration": 11,
    "start_time": "2023-03-28T21:12:59.401Z"
   },
   {
    "duration": 11,
    "start_time": "2023-03-28T21:12:59.632Z"
   },
   {
    "duration": 4,
    "start_time": "2023-03-28T21:13:00.821Z"
   },
   {
    "duration": 39,
    "start_time": "2023-03-28T21:13:03.230Z"
   },
   {
    "duration": 720,
    "start_time": "2023-03-28T21:13:03.586Z"
   },
   {
    "duration": 25,
    "start_time": "2023-03-28T21:13:05.174Z"
   },
   {
    "duration": 18,
    "start_time": "2023-03-28T21:13:05.609Z"
   },
   {
    "duration": 10,
    "start_time": "2023-03-28T21:13:08.475Z"
   },
   {
    "duration": 64,
    "start_time": "2023-03-28T21:13:20.540Z"
   },
   {
    "duration": 59,
    "start_time": "2023-03-28T21:13:36.340Z"
   },
   {
    "duration": 24,
    "start_time": "2023-03-28T21:20:49.819Z"
   },
   {
    "duration": 4,
    "start_time": "2023-03-28T21:21:01.896Z"
   },
   {
    "duration": 818,
    "start_time": "2023-03-28T21:21:02.105Z"
   },
   {
    "duration": 137,
    "start_time": "2023-03-28T21:21:02.926Z"
   },
   {
    "duration": 140,
    "start_time": "2023-03-28T21:21:03.065Z"
   },
   {
    "duration": 457,
    "start_time": "2023-03-28T21:21:03.433Z"
   },
   {
    "duration": 483,
    "start_time": "2023-03-28T21:21:03.892Z"
   },
   {
    "duration": 5,
    "start_time": "2023-03-28T21:21:04.378Z"
   },
   {
    "duration": 193,
    "start_time": "2023-03-28T21:21:04.386Z"
   },
   {
    "duration": 19,
    "start_time": "2023-03-28T21:21:04.582Z"
   },
   {
    "duration": 101,
    "start_time": "2023-03-28T21:21:04.762Z"
   },
   {
    "duration": 4,
    "start_time": "2023-03-28T21:21:05.011Z"
   },
   {
    "duration": 293,
    "start_time": "2023-03-28T21:21:05.144Z"
   },
   {
    "duration": 145,
    "start_time": "2023-03-28T21:21:05.808Z"
   },
   {
    "duration": 286,
    "start_time": "2023-03-28T21:21:06.194Z"
   },
   {
    "duration": 294,
    "start_time": "2023-03-28T21:21:06.559Z"
   },
   {
    "duration": 120,
    "start_time": "2023-03-28T21:21:07.261Z"
   },
   {
    "duration": 102,
    "start_time": "2023-03-28T21:21:07.443Z"
   },
   {
    "duration": 70,
    "start_time": "2023-03-28T21:21:07.990Z"
   },
   {
    "duration": 514,
    "start_time": "2023-03-28T21:21:08.196Z"
   },
   {
    "duration": 364,
    "start_time": "2023-03-28T21:21:13.181Z"
   },
   {
    "duration": 25,
    "start_time": "2023-03-28T21:21:13.571Z"
   },
   {
    "duration": 330,
    "start_time": "2023-03-28T21:21:14.302Z"
   },
   {
    "duration": 32,
    "start_time": "2023-03-28T21:21:14.634Z"
   },
   {
    "duration": 130,
    "start_time": "2023-03-28T21:21:14.673Z"
   },
   {
    "duration": 25,
    "start_time": "2023-03-28T21:21:14.861Z"
   },
   {
    "duration": 335,
    "start_time": "2023-03-28T21:21:16.017Z"
   },
   {
    "duration": 360,
    "start_time": "2023-03-28T21:21:16.354Z"
   },
   {
    "duration": 655,
    "start_time": "2023-03-28T21:21:16.716Z"
   },
   {
    "duration": 360,
    "start_time": "2023-03-28T21:21:17.373Z"
   },
   {
    "duration": 331,
    "start_time": "2023-03-28T21:21:17.735Z"
   },
   {
    "duration": 158,
    "start_time": "2023-03-28T21:21:18.298Z"
   },
   {
    "duration": 14,
    "start_time": "2023-03-28T21:21:18.463Z"
   },
   {
    "duration": 54,
    "start_time": "2023-03-28T21:21:18.676Z"
   },
   {
    "duration": 4,
    "start_time": "2023-03-28T21:21:19.643Z"
   },
   {
    "duration": 11,
    "start_time": "2023-03-28T21:21:21.561Z"
   },
   {
    "duration": 10,
    "start_time": "2023-03-28T21:21:21.777Z"
   },
   {
    "duration": 3,
    "start_time": "2023-03-28T21:21:21.918Z"
   },
   {
    "duration": 48,
    "start_time": "2023-03-28T21:21:26.461Z"
   },
   {
    "duration": 649,
    "start_time": "2023-03-28T21:21:27.180Z"
   },
   {
    "duration": 446,
    "start_time": "2023-03-28T21:21:47.666Z"
   },
   {
    "duration": 20,
    "start_time": "2023-03-28T21:21:50.335Z"
   },
   {
    "duration": 20,
    "start_time": "2023-03-28T21:22:01.968Z"
   },
   {
    "duration": 232,
    "start_time": "2023-03-28T21:23:50.690Z"
   },
   {
    "duration": 18,
    "start_time": "2023-03-28T21:23:59.037Z"
   },
   {
    "duration": 19,
    "start_time": "2023-03-28T21:24:04.534Z"
   },
   {
    "duration": 423,
    "start_time": "2023-03-28T21:25:15.869Z"
   },
   {
    "duration": 223,
    "start_time": "2023-03-28T21:25:18.258Z"
   },
   {
    "duration": 19,
    "start_time": "2023-03-28T21:25:24.025Z"
   },
   {
    "duration": 18,
    "start_time": "2023-03-28T21:25:38.894Z"
   },
   {
    "duration": 12,
    "start_time": "2023-03-28T21:27:57.588Z"
   },
   {
    "duration": 3,
    "start_time": "2023-03-28T21:28:03.267Z"
   },
   {
    "duration": 117,
    "start_time": "2023-03-28T21:28:04.142Z"
   },
   {
    "duration": 32766,
    "start_time": "2023-03-28T21:28:10.004Z"
   },
   {
    "duration": 342738,
    "start_time": "2023-03-28T21:29:19.392Z"
   },
   {
    "duration": 5,
    "start_time": "2023-03-28T21:35:32.527Z"
   },
   {
    "duration": 3096,
    "start_time": "2023-03-28T21:35:45.706Z"
   },
   {
    "duration": 886046,
    "start_time": "2023-03-28T21:36:27.628Z"
   },
   {
    "duration": 1826,
    "start_time": "2023-03-29T07:30:50.907Z"
   },
   {
    "duration": 3328,
    "start_time": "2023-03-29T07:31:11.403Z"
   },
   {
    "duration": 145,
    "start_time": "2023-03-29T07:31:23.048Z"
   },
   {
    "duration": 132,
    "start_time": "2023-03-29T07:31:23.926Z"
   },
   {
    "duration": 533,
    "start_time": "2023-03-29T07:31:24.677Z"
   },
   {
    "duration": 575,
    "start_time": "2023-03-29T07:31:25.212Z"
   },
   {
    "duration": 5,
    "start_time": "2023-03-29T07:31:25.790Z"
   },
   {
    "duration": 163,
    "start_time": "2023-03-29T07:31:25.797Z"
   },
   {
    "duration": 32,
    "start_time": "2023-03-29T07:31:25.962Z"
   },
   {
    "duration": 103,
    "start_time": "2023-03-29T07:31:26.305Z"
   },
   {
    "duration": 4,
    "start_time": "2023-03-29T07:31:26.506Z"
   },
   {
    "duration": 298,
    "start_time": "2023-03-29T07:31:26.726Z"
   },
   {
    "duration": 184,
    "start_time": "2023-03-29T07:31:28.226Z"
   },
   {
    "duration": 295,
    "start_time": "2023-03-29T07:31:28.601Z"
   },
   {
    "duration": 286,
    "start_time": "2023-03-29T07:31:28.947Z"
   },
   {
    "duration": 105,
    "start_time": "2023-03-29T07:31:30.123Z"
   },
   {
    "duration": 136,
    "start_time": "2023-03-29T07:31:30.322Z"
   },
   {
    "duration": 75,
    "start_time": "2023-03-29T07:31:30.974Z"
   },
   {
    "duration": 499,
    "start_time": "2023-03-29T07:31:31.128Z"
   },
   {
    "duration": 465,
    "start_time": "2023-03-29T07:31:31.669Z"
   },
   {
    "duration": 24,
    "start_time": "2023-03-29T07:31:32.136Z"
   },
   {
    "duration": 364,
    "start_time": "2023-03-29T07:31:32.711Z"
   },
   {
    "duration": 43,
    "start_time": "2023-03-29T07:31:33.077Z"
   },
   {
    "duration": 169,
    "start_time": "2023-03-29T07:31:33.251Z"
   },
   {
    "duration": 36,
    "start_time": "2023-03-29T07:31:33.427Z"
   },
   {
    "duration": 361,
    "start_time": "2023-03-29T07:31:34.345Z"
   },
   {
    "duration": 405,
    "start_time": "2023-03-29T07:31:34.708Z"
   },
   {
    "duration": 475,
    "start_time": "2023-03-29T07:31:35.115Z"
   },
   {
    "duration": 420,
    "start_time": "2023-03-29T07:31:35.593Z"
   },
   {
    "duration": 357,
    "start_time": "2023-03-29T07:31:36.015Z"
   },
   {
    "duration": 194,
    "start_time": "2023-03-29T07:31:36.382Z"
   },
   {
    "duration": 12,
    "start_time": "2023-03-29T07:31:36.597Z"
   },
   {
    "duration": 68,
    "start_time": "2023-03-29T07:31:36.788Z"
   },
   {
    "duration": 4,
    "start_time": "2023-03-29T07:31:37.790Z"
   },
   {
    "duration": 15,
    "start_time": "2023-03-29T07:31:39.037Z"
   },
   {
    "duration": 11,
    "start_time": "2023-03-29T07:31:39.273Z"
   },
   {
    "duration": 4,
    "start_time": "2023-03-29T07:31:39.458Z"
   },
   {
    "duration": 56,
    "start_time": "2023-03-29T07:31:40.070Z"
   },
   {
    "duration": 641,
    "start_time": "2023-03-29T07:31:41.895Z"
   },
   {
    "duration": 22,
    "start_time": "2023-03-29T07:31:42.538Z"
   },
   {
    "duration": 39,
    "start_time": "2023-03-29T07:31:42.562Z"
   },
   {
    "duration": 14,
    "start_time": "2023-03-29T07:31:43.016Z"
   },
   {
    "duration": 295,
    "start_time": "2023-03-29T07:31:43.256Z"
   },
   {
    "duration": 412,
    "start_time": "2023-03-29T07:31:43.879Z"
   },
   {
    "duration": 275,
    "start_time": "2023-03-29T07:31:44.294Z"
   },
   {
    "duration": 3,
    "start_time": "2023-03-29T07:31:44.571Z"
   },
   {
    "duration": 104,
    "start_time": "2023-03-29T07:31:44.576Z"
   },
   {
    "duration": 2820427,
    "start_time": "2023-03-29T07:32:28.873Z"
   },
   {
    "duration": 18429,
    "start_time": "2023-03-29T08:21:19.599Z"
   },
   {
    "duration": 255,
    "start_time": "2023-03-29T08:22:36.302Z"
   },
   {
    "duration": 40635,
    "start_time": "2023-03-29T08:22:40.156Z"
   },
   {
    "duration": 471,
    "start_time": "2023-03-29T08:25:04.140Z"
   },
   {
    "duration": 43119,
    "start_time": "2023-03-29T08:26:38.674Z"
   },
   {
    "duration": 309,
    "start_time": "2023-03-29T08:27:21.796Z"
   },
   {
    "duration": 4088,
    "start_time": "2023-03-29T08:27:37.228Z"
   },
   {
    "duration": 296,
    "start_time": "2023-03-29T08:27:46.914Z"
   },
   {
    "duration": 41322,
    "start_time": "2023-03-29T08:30:36.098Z"
   },
   {
    "duration": 44792,
    "start_time": "2023-03-29T08:32:17.857Z"
   },
   {
    "duration": 53361,
    "start_time": "2023-03-29T08:34:48.348Z"
   },
   {
    "duration": 259,
    "start_time": "2023-03-29T08:40:18.008Z"
   },
   {
    "duration": 264,
    "start_time": "2023-03-29T08:41:31.741Z"
   },
   {
    "duration": 41601,
    "start_time": "2023-03-29T08:41:56.095Z"
   },
   {
    "duration": 14,
    "start_time": "2023-03-29T08:43:39.508Z"
   },
   {
    "duration": 396213,
    "start_time": "2023-03-29T08:44:19.796Z"
   },
   {
    "duration": 15,
    "start_time": "2023-03-29T08:51:09.016Z"
   },
   {
    "duration": 3651,
    "start_time": "2023-03-29T08:51:20.381Z"
   },
   {
    "duration": 272,
    "start_time": "2023-03-29T08:51:24.034Z"
   },
   {
    "duration": 11,
    "start_time": "2023-03-29T08:51:28.919Z"
   },
   {
    "duration": 24,
    "start_time": "2023-03-29T08:52:00.583Z"
   },
   {
    "duration": 1546992,
    "start_time": "2023-03-29T08:52:11.633Z"
   },
   {
    "duration": 19069,
    "start_time": "2023-03-29T09:17:58.627Z"
   },
   {
    "duration": 10,
    "start_time": "2023-03-29T09:23:36.464Z"
   },
   {
    "duration": 10,
    "start_time": "2023-03-29T09:23:48.392Z"
   },
   {
    "duration": 5,
    "start_time": "2023-03-29T09:24:15.014Z"
   },
   {
    "duration": 5829,
    "start_time": "2023-03-29T09:24:23.400Z"
   },
   {
    "duration": 1858,
    "start_time": "2023-03-29T22:17:59.913Z"
   },
   {
    "duration": 1149,
    "start_time": "2023-03-29T22:18:01.773Z"
   },
   {
    "duration": 119,
    "start_time": "2023-03-29T22:18:02.924Z"
   },
   {
    "duration": 118,
    "start_time": "2023-03-29T22:18:03.045Z"
   },
   {
    "duration": 511,
    "start_time": "2023-03-29T22:18:03.165Z"
   },
   {
    "duration": 580,
    "start_time": "2023-03-29T22:18:03.678Z"
   },
   {
    "duration": 4,
    "start_time": "2023-03-29T22:18:04.260Z"
   },
   {
    "duration": 150,
    "start_time": "2023-03-29T22:18:04.265Z"
   },
   {
    "duration": 20,
    "start_time": "2023-03-29T22:18:04.417Z"
   },
   {
    "duration": 94,
    "start_time": "2023-03-29T22:18:04.439Z"
   },
   {
    "duration": 6,
    "start_time": "2023-03-29T22:18:04.535Z"
   },
   {
    "duration": 273,
    "start_time": "2023-03-29T22:18:04.542Z"
   },
   {
    "duration": 165,
    "start_time": "2023-03-29T22:18:04.817Z"
   },
   {
    "duration": 5,
    "start_time": "2023-03-29T22:19:08.877Z"
   },
   {
    "duration": 250,
    "start_time": "2023-03-29T22:19:10.492Z"
   },
   {
    "duration": 4,
    "start_time": "2023-03-29T22:19:46.836Z"
   },
   {
    "duration": 236,
    "start_time": "2023-03-29T22:19:48.398Z"
   },
   {
    "duration": 84,
    "start_time": "2023-03-29T22:20:14.308Z"
   },
   {
    "duration": 75,
    "start_time": "2023-03-29T22:20:26.186Z"
   },
   {
    "duration": 5,
    "start_time": "2023-03-29T22:20:40.229Z"
   },
   {
    "duration": 238,
    "start_time": "2023-03-29T22:20:41.337Z"
   },
   {
    "duration": 2041,
    "start_time": "2023-03-29T22:21:30.082Z"
   },
   {
    "duration": 840,
    "start_time": "2023-03-29T22:21:32.125Z"
   },
   {
    "duration": 125,
    "start_time": "2023-03-29T22:21:32.967Z"
   },
   {
    "duration": 119,
    "start_time": "2023-03-29T22:21:33.095Z"
   },
   {
    "duration": 519,
    "start_time": "2023-03-29T22:21:33.216Z"
   },
   {
    "duration": 585,
    "start_time": "2023-03-29T22:21:33.737Z"
   },
   {
    "duration": 5,
    "start_time": "2023-03-29T22:21:34.324Z"
   },
   {
    "duration": 161,
    "start_time": "2023-03-29T22:21:34.330Z"
   },
   {
    "duration": 20,
    "start_time": "2023-03-29T22:21:34.492Z"
   },
   {
    "duration": 94,
    "start_time": "2023-03-29T22:21:34.514Z"
   },
   {
    "duration": 4,
    "start_time": "2023-03-29T22:21:34.610Z"
   },
   {
    "duration": 276,
    "start_time": "2023-03-29T22:21:34.615Z"
   },
   {
    "duration": 163,
    "start_time": "2023-03-29T22:21:34.893Z"
   },
   {
    "duration": 278,
    "start_time": "2023-03-29T22:21:35.058Z"
   },
   {
    "duration": 1957,
    "start_time": "2023-03-29T22:25:38.280Z"
   },
   {
    "duration": 830,
    "start_time": "2023-03-29T22:25:40.239Z"
   },
   {
    "duration": 124,
    "start_time": "2023-03-29T22:25:41.070Z"
   },
   {
    "duration": 112,
    "start_time": "2023-03-29T22:25:41.196Z"
   },
   {
    "duration": 492,
    "start_time": "2023-03-29T22:25:41.309Z"
   },
   {
    "duration": 536,
    "start_time": "2023-03-29T22:25:41.803Z"
   },
   {
    "duration": 4,
    "start_time": "2023-03-29T22:25:42.340Z"
   },
   {
    "duration": 150,
    "start_time": "2023-03-29T22:25:42.345Z"
   },
   {
    "duration": 18,
    "start_time": "2023-03-29T22:25:42.497Z"
   },
   {
    "duration": 91,
    "start_time": "2023-03-29T22:25:42.517Z"
   },
   {
    "duration": 5,
    "start_time": "2023-03-29T22:25:42.609Z"
   },
   {
    "duration": 269,
    "start_time": "2023-03-29T22:25:42.616Z"
   },
   {
    "duration": 165,
    "start_time": "2023-03-29T22:25:42.887Z"
   },
   {
    "duration": 274,
    "start_time": "2023-03-29T22:25:43.054Z"
   },
   {
    "duration": 273,
    "start_time": "2023-03-29T22:25:43.329Z"
   },
   {
    "duration": 87,
    "start_time": "2023-03-29T22:25:43.604Z"
   },
   {
    "duration": 88,
    "start_time": "2023-03-29T22:25:43.692Z"
   },
   {
    "duration": 70,
    "start_time": "2023-03-29T22:25:43.781Z"
   },
   {
    "duration": 505,
    "start_time": "2023-03-29T22:25:43.853Z"
   },
   {
    "duration": 470,
    "start_time": "2023-03-29T22:25:44.359Z"
   },
   {
    "duration": 25,
    "start_time": "2023-03-29T22:25:44.831Z"
   },
   {
    "duration": 330,
    "start_time": "2023-03-29T22:25:44.859Z"
   },
   {
    "duration": 35,
    "start_time": "2023-03-29T22:25:45.190Z"
   },
   {
    "duration": 127,
    "start_time": "2023-03-29T22:25:45.227Z"
   },
   {
    "duration": 46,
    "start_time": "2023-03-29T22:25:45.355Z"
   },
   {
    "duration": 350,
    "start_time": "2023-03-29T22:25:45.403Z"
   },
   {
    "duration": 347,
    "start_time": "2023-03-29T22:25:45.755Z"
   },
   {
    "duration": 448,
    "start_time": "2023-03-29T22:25:46.104Z"
   },
   {
    "duration": 346,
    "start_time": "2023-03-29T22:25:46.553Z"
   },
   {
    "duration": 323,
    "start_time": "2023-03-29T22:25:46.900Z"
   },
   {
    "duration": 174,
    "start_time": "2023-03-29T22:25:47.227Z"
   },
   {
    "duration": 12,
    "start_time": "2023-03-29T22:25:47.403Z"
   },
   {
    "duration": 59,
    "start_time": "2023-03-29T22:25:47.417Z"
   },
   {
    "duration": 3,
    "start_time": "2023-03-29T22:25:47.478Z"
   },
   {
    "duration": 15,
    "start_time": "2023-03-29T22:25:47.482Z"
   },
   {
    "duration": 13,
    "start_time": "2023-03-29T22:25:47.499Z"
   },
   {
    "duration": 3,
    "start_time": "2023-03-29T22:25:47.514Z"
   },
   {
    "duration": 39,
    "start_time": "2023-03-29T22:25:50.129Z"
   },
   {
    "duration": 586,
    "start_time": "2023-03-29T22:25:50.620Z"
   },
   {
    "duration": 21,
    "start_time": "2023-03-29T22:25:54.887Z"
   },
   {
    "duration": 21,
    "start_time": "2023-03-29T22:25:55.427Z"
   },
   {
    "duration": 13,
    "start_time": "2023-03-29T22:25:56.865Z"
   },
   {
    "duration": 200,
    "start_time": "2023-03-29T22:25:57.973Z"
   },
   {
    "duration": 16,
    "start_time": "2023-03-29T22:26:06.043Z"
   },
   {
    "duration": 60,
    "start_time": "2023-03-30T06:23:31.137Z"
   },
   {
    "duration": 1743,
    "start_time": "2023-03-30T06:23:51.032Z"
   },
   {
    "duration": 2947,
    "start_time": "2023-03-30T06:23:52.778Z"
   },
   {
    "duration": 142,
    "start_time": "2023-03-30T06:23:55.727Z"
   },
   {
    "duration": 147,
    "start_time": "2023-03-30T06:23:55.871Z"
   },
   {
    "duration": 598,
    "start_time": "2023-03-30T06:23:56.020Z"
   },
   {
    "duration": 686,
    "start_time": "2023-03-30T06:23:56.621Z"
   },
   {
    "duration": 6,
    "start_time": "2023-03-30T06:23:57.311Z"
   },
   {
    "duration": 193,
    "start_time": "2023-03-30T06:23:57.318Z"
   },
   {
    "duration": 28,
    "start_time": "2023-03-30T06:23:57.513Z"
   },
   {
    "duration": 122,
    "start_time": "2023-03-30T06:23:57.544Z"
   },
   {
    "duration": 5,
    "start_time": "2023-03-30T06:30:52.058Z"
   },
   {
    "duration": 1783,
    "start_time": "2023-03-30T06:30:53.226Z"
   },
   {
    "duration": 311,
    "start_time": "2023-03-30T06:30:55.012Z"
   },
   {
    "duration": 287,
    "start_time": "2023-03-30T06:30:55.325Z"
   },
   {
    "duration": 934,
    "start_time": "2023-03-30T06:30:55.864Z"
   },
   {
    "duration": 1007,
    "start_time": "2023-03-30T06:30:56.801Z"
   },
   {
    "duration": 5,
    "start_time": "2023-03-30T06:30:57.810Z"
   },
   {
    "duration": 395,
    "start_time": "2023-03-30T06:30:57.817Z"
   },
   {
    "duration": 206,
    "start_time": "2023-03-30T06:30:58.215Z"
   },
   {
    "duration": 213,
    "start_time": "2023-03-30T06:30:59.278Z"
   },
   {
    "duration": 4,
    "start_time": "2023-03-30T06:31:00.343Z"
   },
   {
    "duration": 719,
    "start_time": "2023-03-30T06:31:01.610Z"
   },
   {
    "duration": 4,
    "start_time": "2023-03-30T06:31:18.828Z"
   },
   {
    "duration": 2410,
    "start_time": "2023-03-30T06:31:19.088Z"
   },
   {
    "duration": 10,
    "start_time": "2023-03-30T06:34:14.488Z"
   },
   {
    "duration": 2235,
    "start_time": "2023-03-30T06:34:14.662Z"
   },
   {
    "duration": 116,
    "start_time": "2023-03-30T06:44:16.088Z"
   },
   {
    "duration": 2112,
    "start_time": "2023-03-30T06:45:18.588Z"
   },
   {
    "duration": 2412,
    "start_time": "2023-03-30T06:46:02.480Z"
   },
   {
    "duration": 2292,
    "start_time": "2023-03-30T06:46:26.403Z"
   },
   {
    "duration": 2305,
    "start_time": "2023-03-30T06:47:09.789Z"
   },
   {
    "duration": 2616,
    "start_time": "2023-03-30T11:24:23.918Z"
   },
   {
    "duration": 3677,
    "start_time": "2023-03-30T11:24:26.540Z"
   },
   {
    "duration": 172,
    "start_time": "2023-03-30T11:24:30.219Z"
   },
   {
    "duration": 239,
    "start_time": "2023-03-30T11:24:30.394Z"
   },
   {
    "duration": 745,
    "start_time": "2023-03-30T11:24:30.636Z"
   },
   {
    "duration": 712,
    "start_time": "2023-03-30T11:24:31.384Z"
   },
   {
    "duration": 5,
    "start_time": "2023-03-30T11:24:32.098Z"
   },
   {
    "duration": 337,
    "start_time": "2023-03-30T11:24:32.113Z"
   },
   {
    "duration": 23,
    "start_time": "2023-03-30T11:24:32.452Z"
   },
   {
    "duration": 233,
    "start_time": "2023-03-30T11:24:32.486Z"
   },
   {
    "duration": 469,
    "start_time": "2023-03-30T11:24:32.721Z"
   },
   {
    "duration": 225,
    "start_time": "2023-03-30T11:24:33.193Z"
   },
   {
    "duration": 396,
    "start_time": "2023-03-30T11:24:33.421Z"
   },
   {
    "duration": 372,
    "start_time": "2023-03-30T11:24:33.820Z"
   },
   {
    "duration": 143,
    "start_time": "2023-03-30T11:24:34.194Z"
   },
   {
    "duration": 158,
    "start_time": "2023-03-30T11:24:34.339Z"
   },
   {
    "duration": 118,
    "start_time": "2023-03-30T11:24:34.507Z"
   },
   {
    "duration": 698,
    "start_time": "2023-03-30T11:24:34.629Z"
   },
   {
    "duration": 590,
    "start_time": "2023-03-30T11:24:35.329Z"
   },
   {
    "duration": 32,
    "start_time": "2023-03-30T11:24:35.922Z"
   },
   {
    "duration": 1553,
    "start_time": "2023-03-30T15:06:43.537Z"
   },
   {
    "duration": 2890,
    "start_time": "2023-03-30T15:06:45.092Z"
   },
   {
    "duration": 126,
    "start_time": "2023-03-30T15:06:47.983Z"
   },
   {
    "duration": 126,
    "start_time": "2023-03-30T15:06:48.111Z"
   },
   {
    "duration": 434,
    "start_time": "2023-03-30T15:06:51.269Z"
   },
   {
    "duration": 524,
    "start_time": "2023-03-30T15:06:54.245Z"
   },
   {
    "duration": 4,
    "start_time": "2023-03-30T15:06:57.356Z"
   },
   {
    "duration": 137,
    "start_time": "2023-03-30T15:06:59.928Z"
   },
   {
    "duration": 18,
    "start_time": "2023-03-30T15:07:02.251Z"
   },
   {
    "duration": 92,
    "start_time": "2023-03-30T15:07:03.940Z"
   },
   {
    "duration": 258,
    "start_time": "2023-03-30T15:07:15.945Z"
   },
   {
    "duration": 146,
    "start_time": "2023-03-30T15:07:20.714Z"
   },
   {
    "duration": 251,
    "start_time": "2023-03-30T15:07:21.052Z"
   },
   {
    "duration": 242,
    "start_time": "2023-03-30T15:07:21.755Z"
   },
   {
    "duration": 89,
    "start_time": "2023-03-30T15:07:22.736Z"
   },
   {
    "duration": 97,
    "start_time": "2023-03-30T15:07:23.309Z"
   },
   {
    "duration": 64,
    "start_time": "2023-03-30T15:07:24.423Z"
   },
   {
    "duration": 406,
    "start_time": "2023-03-30T15:07:24.852Z"
   },
   {
    "duration": 392,
    "start_time": "2023-03-30T15:08:46.800Z"
   },
   {
    "duration": 24,
    "start_time": "2023-03-30T15:08:49.049Z"
   },
   {
    "duration": 297,
    "start_time": "2023-03-30T15:08:51.804Z"
   },
   {
    "duration": 304,
    "start_time": "2023-03-30T15:09:23.879Z"
   },
   {
    "duration": 36,
    "start_time": "2023-03-30T15:09:26.938Z"
   },
   {
    "duration": 115,
    "start_time": "2023-03-30T15:09:27.176Z"
   },
   {
    "duration": 29,
    "start_time": "2023-03-30T15:09:29.191Z"
   },
   {
    "duration": 316,
    "start_time": "2023-03-30T15:09:47.692Z"
   },
   {
    "duration": 435,
    "start_time": "2023-03-30T15:10:11.752Z"
   },
   {
    "duration": 309,
    "start_time": "2023-03-30T15:10:17.602Z"
   },
   {
    "duration": 334,
    "start_time": "2023-03-30T15:10:26.932Z"
   },
   {
    "duration": 312,
    "start_time": "2023-03-30T15:10:49.642Z"
   },
   {
    "duration": 280,
    "start_time": "2023-03-30T15:11:15.628Z"
   },
   {
    "duration": 12,
    "start_time": "2023-03-30T15:11:20.669Z"
   },
   {
    "duration": 49,
    "start_time": "2023-03-30T15:11:23.385Z"
   },
   {
    "duration": 3,
    "start_time": "2023-03-30T15:11:25.545Z"
   },
   {
    "duration": 4,
    "start_time": "2023-03-31T14:58:39.134Z"
   },
   {
    "duration": 869,
    "start_time": "2023-03-31T14:58:39.218Z"
   },
   {
    "duration": 152,
    "start_time": "2023-03-31T14:58:40.089Z"
   },
   {
    "duration": 170,
    "start_time": "2023-03-31T14:58:40.243Z"
   },
   {
    "duration": 535,
    "start_time": "2023-03-31T14:58:40.416Z"
   },
   {
    "duration": 508,
    "start_time": "2023-03-31T14:58:40.953Z"
   },
   {
    "duration": 4,
    "start_time": "2023-03-31T14:58:41.463Z"
   },
   {
    "duration": 167,
    "start_time": "2023-03-31T14:58:41.469Z"
   },
   {
    "duration": 19,
    "start_time": "2023-03-31T14:58:41.637Z"
   },
   {
    "duration": 170,
    "start_time": "2023-03-31T14:58:41.659Z"
   },
   {
    "duration": 301,
    "start_time": "2023-03-31T14:58:41.832Z"
   },
   {
    "duration": 157,
    "start_time": "2023-03-31T14:58:42.135Z"
   },
   {
    "duration": 289,
    "start_time": "2023-03-31T14:58:42.294Z"
   },
   {
    "duration": 287,
    "start_time": "2023-03-31T14:58:42.587Z"
   },
   {
    "duration": 115,
    "start_time": "2023-03-31T14:58:42.875Z"
   },
   {
    "duration": 111,
    "start_time": "2023-03-31T14:58:42.993Z"
   },
   {
    "duration": 82,
    "start_time": "2023-03-31T14:58:43.106Z"
   },
   {
    "duration": 463,
    "start_time": "2023-03-31T14:58:43.189Z"
   },
   {
    "duration": 395,
    "start_time": "2023-03-31T14:58:43.653Z"
   },
   {
    "duration": 37,
    "start_time": "2023-03-31T14:58:44.050Z"
   },
   {
    "duration": 344,
    "start_time": "2023-03-31T14:58:44.090Z"
   },
   {
    "duration": 30,
    "start_time": "2023-03-31T14:58:44.436Z"
   },
   {
    "duration": 161,
    "start_time": "2023-03-31T14:58:44.468Z"
   },
   {
    "duration": 27,
    "start_time": "2023-03-31T14:58:44.632Z"
   },
   {
    "duration": 481,
    "start_time": "2023-03-31T14:58:44.661Z"
   },
   {
    "duration": 375,
    "start_time": "2023-03-31T14:58:45.144Z"
   },
   {
    "duration": 367,
    "start_time": "2023-03-31T14:58:45.520Z"
   },
   {
    "duration": 379,
    "start_time": "2023-03-31T14:58:45.889Z"
   },
   {
    "duration": 482,
    "start_time": "2023-03-31T14:58:46.270Z"
   },
   {
    "duration": 205,
    "start_time": "2023-03-31T14:58:46.755Z"
   },
   {
    "duration": 12,
    "start_time": "2023-03-31T14:58:46.962Z"
   },
   {
    "duration": 67,
    "start_time": "2023-03-31T14:58:46.975Z"
   },
   {
    "duration": 4,
    "start_time": "2023-03-31T14:58:47.044Z"
   }
  ],
  "kernelspec": {
   "display_name": "Python 3 (ipykernel)",
   "language": "python",
   "name": "python3"
  },
  "language_info": {
   "codemirror_mode": {
    "name": "ipython",
    "version": 3
   },
   "file_extension": ".py",
   "mimetype": "text/x-python",
   "name": "python",
   "nbconvert_exporter": "python",
   "pygments_lexer": "ipython3",
   "version": "3.9.13"
  },
  "toc": {
   "base_numbering": 1,
   "nav_menu": {},
   "number_sections": true,
   "sideBar": true,
   "skip_h1_title": true,
   "title_cell": "Table of Contents",
   "title_sidebar": "Contents",
   "toc_cell": false,
   "toc_position": {
    "height": "525.6px",
    "left": "267px",
    "top": "248.525px",
    "width": "165px"
   },
   "toc_section_display": true,
   "toc_window_display": true
  }
 },
 "nbformat": 4,
 "nbformat_minor": 2
}
