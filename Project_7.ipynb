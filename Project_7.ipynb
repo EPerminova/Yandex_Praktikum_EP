{
 "cells": [
  {
   "cell_type": "markdown",
   "metadata": {
    "toc": true
   },
   "source": [
    "<h1>Содержание<span class=\"tocSkip\"></span></h1>\n",
    "<div class=\"toc\"><ul class=\"toc-item\"><li><span><a href=\"#Подготовка-данных\" data-toc-modified-id=\"Подготовка-данных-1\"><span class=\"toc-item-num\">1&nbsp;&nbsp;</span>Подготовка данных</a></span></li><li><span><a href=\"#Исследование-задачи\" data-toc-modified-id=\"Исследование-задачи-2\"><span class=\"toc-item-num\">2&nbsp;&nbsp;</span>Исследование задачи</a></span><ul class=\"toc-item\"><li><span><a href=\"#One-Hot-Encoder,-StandardScaler,-разбиение-на-выбороки\" data-toc-modified-id=\"One-Hot-Encoder,-StandardScaler,-разбиение-на-выбороки-2.1\"><span class=\"toc-item-num\">2.1&nbsp;&nbsp;</span>One Hot Encoder, StandardScaler, разбиение на выбороки</a></span></li><li><span><a href=\"#DecisionTreeClassifier\" data-toc-modified-id=\"DecisionTreeClassifier-2.2\"><span class=\"toc-item-num\">2.2&nbsp;&nbsp;</span>DecisionTreeClassifier</a></span></li><li><span><a href=\"#RandomForestClassifier\" data-toc-modified-id=\"RandomForestClassifier-2.3\"><span class=\"toc-item-num\">2.3&nbsp;&nbsp;</span>RandomForestClassifier</a></span></li><li><span><a href=\"#LogisticRegression\" data-toc-modified-id=\"LogisticRegression-2.4\"><span class=\"toc-item-num\">2.4&nbsp;&nbsp;</span>LogisticRegression</a></span></li></ul></li><li><span><a href=\"#Борьба-с-дисбалансом\" data-toc-modified-id=\"Борьба-с-дисбалансом-3\"><span class=\"toc-item-num\">3&nbsp;&nbsp;</span>Борьба с дисбалансом</a></span><ul class=\"toc-item\"><li><span><a href=\"#DecisionTreeClassifier\" data-toc-modified-id=\"DecisionTreeClassifier-3.1\"><span class=\"toc-item-num\">3.1&nbsp;&nbsp;</span>DecisionTreeClassifier</a></span></li><li><span><a href=\"#RandomForestClassifier\" data-toc-modified-id=\"RandomForestClassifier-3.2\"><span class=\"toc-item-num\">3.2&nbsp;&nbsp;</span>RandomForestClassifier</a></span></li><li><span><a href=\"#LogisticRegression\" data-toc-modified-id=\"LogisticRegression-3.3\"><span class=\"toc-item-num\">3.3&nbsp;&nbsp;</span>LogisticRegression</a></span></li></ul></li><li><span><a href=\"#Тестирование-модели\" data-toc-modified-id=\"Тестирование-модели-4\"><span class=\"toc-item-num\">4&nbsp;&nbsp;</span>Тестирование модели</a></span><ul class=\"toc-item\"><li><span><a href=\"#AUC-ROC\" data-toc-modified-id=\"AUC-ROC-4.1\"><span class=\"toc-item-num\">4.1&nbsp;&nbsp;</span>AUC-ROC</a></span></li></ul></li><li><span><a href=\"#Чек-лист-готовности-проекта\" data-toc-modified-id=\"Чек-лист-готовности-проекта-5\"><span class=\"toc-item-num\">5&nbsp;&nbsp;</span>Чек-лист готовности проекта</a></span></li></ul></div>"
   ]
  },
  {
   "cell_type": "markdown",
   "metadata": {},
   "source": [
    "# Отток клиентов"
   ]
  },
  {
   "cell_type": "markdown",
   "metadata": {},
   "source": [
    "Из «Бета-Банка» стали уходить клиенты. Каждый месяц. Немного, но заметно. Банковские маркетологи посчитали: сохранять текущих клиентов дешевле, чем привлекать новых.\n",
    "\n",
    "Нужно спрогнозировать, уйдёт клиент из банка в ближайшее время или нет. Вам предоставлены исторические данные о поведении клиентов и расторжении договоров с банком. \n",
    "\n",
    "Постройте модель с предельно большим значением *F1*-меры. Чтобы сдать проект успешно, нужно довести метрику до 0.59. Проверьте *F1*-меру на тестовой выборке самостоятельно.\n",
    "\n",
    "Дополнительно измеряйте *AUC-ROC*, сравнивайте её значение с *F1*-мерой.\n",
    "\n",
    "Источник данных: [https://www.kaggle.com/barelydedicated/bank-customer-churn-modeling](https://www.kaggle.com/barelydedicated/bank-customer-churn-modeling)"
   ]
  },
  {
   "cell_type": "markdown",
   "metadata": {},
   "source": [
    "## Подготовка данных"
   ]
  },
  {
   "cell_type": "code",
   "execution_count": 1,
   "metadata": {},
   "outputs": [],
   "source": [
    "import pandas as pd\n",
    "from sklearn.model_selection import train_test_split\n",
    "from sklearn.tree import DecisionTreeClassifier\n",
    "from sklearn.ensemble import RandomForestClassifier\n",
    "from sklearn.linear_model import LogisticRegression \n",
    "from sklearn.metrics import mean_absolute_error\n",
    "from sklearn.preprocessing import StandardScaler\n",
    "from tqdm import tqdm\n",
    "from sklearn.metrics import f1_score\n",
    "from sklearn.utils import shuffle\n",
    "from sklearn.metrics import roc_curve\n",
    "from sklearn.metrics import roc_auc_score\n",
    "import matplotlib.pyplot as plt\n",
    "import warnings"
   ]
  },
  {
   "cell_type": "code",
   "execution_count": 2,
   "metadata": {},
   "outputs": [
    {
     "data": {
      "text/html": [
       "<div>\n",
       "<style scoped>\n",
       "    .dataframe tbody tr th:only-of-type {\n",
       "        vertical-align: middle;\n",
       "    }\n",
       "\n",
       "    .dataframe tbody tr th {\n",
       "        vertical-align: top;\n",
       "    }\n",
       "\n",
       "    .dataframe thead th {\n",
       "        text-align: right;\n",
       "    }\n",
       "</style>\n",
       "<table border=\"1\" class=\"dataframe\">\n",
       "  <thead>\n",
       "    <tr style=\"text-align: right;\">\n",
       "      <th></th>\n",
       "      <th>RowNumber</th>\n",
       "      <th>CustomerId</th>\n",
       "      <th>Surname</th>\n",
       "      <th>CreditScore</th>\n",
       "      <th>Geography</th>\n",
       "      <th>Gender</th>\n",
       "      <th>Age</th>\n",
       "      <th>Tenure</th>\n",
       "      <th>Balance</th>\n",
       "      <th>NumOfProducts</th>\n",
       "      <th>HasCrCard</th>\n",
       "      <th>IsActiveMember</th>\n",
       "      <th>EstimatedSalary</th>\n",
       "      <th>Exited</th>\n",
       "    </tr>\n",
       "  </thead>\n",
       "  <tbody>\n",
       "    <tr>\n",
       "      <th>0</th>\n",
       "      <td>1</td>\n",
       "      <td>15634602</td>\n",
       "      <td>Hargrave</td>\n",
       "      <td>619</td>\n",
       "      <td>France</td>\n",
       "      <td>Female</td>\n",
       "      <td>42</td>\n",
       "      <td>2.0</td>\n",
       "      <td>0.00</td>\n",
       "      <td>1</td>\n",
       "      <td>1</td>\n",
       "      <td>1</td>\n",
       "      <td>101348.88</td>\n",
       "      <td>1</td>\n",
       "    </tr>\n",
       "    <tr>\n",
       "      <th>1</th>\n",
       "      <td>2</td>\n",
       "      <td>15647311</td>\n",
       "      <td>Hill</td>\n",
       "      <td>608</td>\n",
       "      <td>Spain</td>\n",
       "      <td>Female</td>\n",
       "      <td>41</td>\n",
       "      <td>1.0</td>\n",
       "      <td>83807.86</td>\n",
       "      <td>1</td>\n",
       "      <td>0</td>\n",
       "      <td>1</td>\n",
       "      <td>112542.58</td>\n",
       "      <td>0</td>\n",
       "    </tr>\n",
       "    <tr>\n",
       "      <th>2</th>\n",
       "      <td>3</td>\n",
       "      <td>15619304</td>\n",
       "      <td>Onio</td>\n",
       "      <td>502</td>\n",
       "      <td>France</td>\n",
       "      <td>Female</td>\n",
       "      <td>42</td>\n",
       "      <td>8.0</td>\n",
       "      <td>159660.80</td>\n",
       "      <td>3</td>\n",
       "      <td>1</td>\n",
       "      <td>0</td>\n",
       "      <td>113931.57</td>\n",
       "      <td>1</td>\n",
       "    </tr>\n",
       "    <tr>\n",
       "      <th>3</th>\n",
       "      <td>4</td>\n",
       "      <td>15701354</td>\n",
       "      <td>Boni</td>\n",
       "      <td>699</td>\n",
       "      <td>France</td>\n",
       "      <td>Female</td>\n",
       "      <td>39</td>\n",
       "      <td>1.0</td>\n",
       "      <td>0.00</td>\n",
       "      <td>2</td>\n",
       "      <td>0</td>\n",
       "      <td>0</td>\n",
       "      <td>93826.63</td>\n",
       "      <td>0</td>\n",
       "    </tr>\n",
       "    <tr>\n",
       "      <th>4</th>\n",
       "      <td>5</td>\n",
       "      <td>15737888</td>\n",
       "      <td>Mitchell</td>\n",
       "      <td>850</td>\n",
       "      <td>Spain</td>\n",
       "      <td>Female</td>\n",
       "      <td>43</td>\n",
       "      <td>2.0</td>\n",
       "      <td>125510.82</td>\n",
       "      <td>1</td>\n",
       "      <td>1</td>\n",
       "      <td>1</td>\n",
       "      <td>79084.10</td>\n",
       "      <td>0</td>\n",
       "    </tr>\n",
       "  </tbody>\n",
       "</table>\n",
       "</div>"
      ],
      "text/plain": [
       "   RowNumber  CustomerId   Surname  CreditScore Geography  Gender  Age  \\\n",
       "0          1    15634602  Hargrave          619    France  Female   42   \n",
       "1          2    15647311      Hill          608     Spain  Female   41   \n",
       "2          3    15619304      Onio          502    France  Female   42   \n",
       "3          4    15701354      Boni          699    France  Female   39   \n",
       "4          5    15737888  Mitchell          850     Spain  Female   43   \n",
       "\n",
       "   Tenure    Balance  NumOfProducts  HasCrCard  IsActiveMember  \\\n",
       "0     2.0       0.00              1          1               1   \n",
       "1     1.0   83807.86              1          0               1   \n",
       "2     8.0  159660.80              3          1               0   \n",
       "3     1.0       0.00              2          0               0   \n",
       "4     2.0  125510.82              1          1               1   \n",
       "\n",
       "   EstimatedSalary  Exited  \n",
       "0        101348.88       1  \n",
       "1        112542.58       0  \n",
       "2        113931.57       1  \n",
       "3         93826.63       0  \n",
       "4         79084.10       0  "
      ]
     },
     "execution_count": 2,
     "metadata": {},
     "output_type": "execute_result"
    }
   ],
   "source": [
    "df = pd.read_csv('/datasets/Churn.csv')\n",
    "df.head()"
   ]
  },
  {
   "cell_type": "code",
   "execution_count": 3,
   "metadata": {},
   "outputs": [
    {
     "name": "stdout",
     "output_type": "stream",
     "text": [
      "<class 'pandas.core.frame.DataFrame'>\n",
      "RangeIndex: 10000 entries, 0 to 9999\n",
      "Data columns (total 14 columns):\n",
      " #   Column           Non-Null Count  Dtype  \n",
      "---  ------           --------------  -----  \n",
      " 0   RowNumber        10000 non-null  int64  \n",
      " 1   CustomerId       10000 non-null  int64  \n",
      " 2   Surname          10000 non-null  object \n",
      " 3   CreditScore      10000 non-null  int64  \n",
      " 4   Geography        10000 non-null  object \n",
      " 5   Gender           10000 non-null  object \n",
      " 6   Age              10000 non-null  int64  \n",
      " 7   Tenure           9091 non-null   float64\n",
      " 8   Balance          10000 non-null  float64\n",
      " 9   NumOfProducts    10000 non-null  int64  \n",
      " 10  HasCrCard        10000 non-null  int64  \n",
      " 11  IsActiveMember   10000 non-null  int64  \n",
      " 12  EstimatedSalary  10000 non-null  float64\n",
      " 13  Exited           10000 non-null  int64  \n",
      "dtypes: float64(3), int64(8), object(3)\n",
      "memory usage: 1.1+ MB\n"
     ]
    }
   ],
   "source": [
    "df.info()"
   ]
  },
  {
   "cell_type": "code",
   "execution_count": 4,
   "metadata": {},
   "outputs": [
    {
     "data": {
      "text/plain": [
       "0"
      ]
     },
     "execution_count": 4,
     "metadata": {},
     "output_type": "execute_result"
    }
   ],
   "source": [
    "df.duplicated().sum()"
   ]
  },
  {
   "cell_type": "code",
   "execution_count": 5,
   "metadata": {},
   "outputs": [
    {
     "data": {
      "text/plain": [
       "RowNumber            0\n",
       "CustomerId           0\n",
       "Surname              0\n",
       "CreditScore          0\n",
       "Geography            0\n",
       "Gender               0\n",
       "Age                  0\n",
       "Tenure             909\n",
       "Balance              0\n",
       "NumOfProducts        0\n",
       "HasCrCard            0\n",
       "IsActiveMember       0\n",
       "EstimatedSalary      0\n",
       "Exited               0\n",
       "dtype: int64"
      ]
     },
     "execution_count": 5,
     "metadata": {},
     "output_type": "execute_result"
    }
   ],
   "source": [
    "df.isna().sum()"
   ]
  },
  {
   "cell_type": "markdown",
   "metadata": {},
   "source": [
    "Пропуски в столбце Tenure, их 9%. Не вижу варинта заменить их на какое нибуть значение, так как есть варинт что просто не были заполнены данные (забыли), заполнить медианным значением нельзя, будет переобучение модели. Остается вариант удалить, так как таких значений достаточно мало. "
   ]
  },
  {
   "cell_type": "code",
   "execution_count": 6,
   "metadata": {},
   "outputs": [
    {
     "data": {
      "text/plain": [
       "RowNumber          0\n",
       "CustomerId         0\n",
       "Surname            0\n",
       "CreditScore        0\n",
       "Geography          0\n",
       "Gender             0\n",
       "Age                0\n",
       "Tenure             0\n",
       "Balance            0\n",
       "NumOfProducts      0\n",
       "HasCrCard          0\n",
       "IsActiveMember     0\n",
       "EstimatedSalary    0\n",
       "Exited             0\n",
       "dtype: int64"
      ]
     },
     "execution_count": 6,
     "metadata": {},
     "output_type": "execute_result"
    }
   ],
   "source": [
    "df = df.dropna(subset=['Tenure'])\n",
    "df['Tenure'] = df['Tenure'].astype('int')\n",
    "df.isna().sum()"
   ]
  },
  {
   "cell_type": "code",
   "execution_count": 7,
   "metadata": {},
   "outputs": [],
   "source": [
    "#Решила удалить данные столбцы, они не нужны для обучения моделей, не влияют на результат.\n",
    "#Ну и с ними логическая модель совсем не работает, выдает 0. \n",
    "name = ['RowNumber','CustomerId','Surname']\n",
    "df = df.drop(name, axis=1)"
   ]
  },
  {
   "cell_type": "markdown",
   "metadata": {},
   "source": [
    "## Исследование задачи"
   ]
  },
  {
   "cell_type": "code",
   "execution_count": 8,
   "metadata": {},
   "outputs": [
    {
     "data": {
      "text/plain": [
       "0    7237\n",
       "1    1854\n",
       "Name: Exited, dtype: int64"
      ]
     },
     "execution_count": 8,
     "metadata": {},
     "output_type": "execute_result"
    },
    {
     "data": {
      "image/png": "[encoded data removed]",
      "text/plain": [
       "<Figure size 432x288 with 1 Axes>"
      ]
     },
     "metadata": {
      "needs_background": "light"
     },
     "output_type": "display_data"
    }
   ],
   "source": [
    "#дисбаланс\n",
    "df['Exited'].value_counts().plot(kind='bar',grid=True)\n",
    "plt.title('Баланс классов Exited')\n",
    "df['Exited'].value_counts()"
   ]
  },
  {
   "cell_type": "markdown",
   "metadata": {},
   "source": [
    "Как видно, классы являются несбалансированными, поскольку делятся примерно в соотношении 80% и 20% (4:1). "
   ]
  },
  {
   "cell_type": "markdown",
   "metadata": {},
   "source": [
    "### One Hot Encoder, StandardScaler, разбиение на выбороки"
   ]
  },
  {
   "cell_type": "markdown",
   "metadata": {},
   "source": [
    "Признаки:\n",
    "* RowNumber  -          категориальный\n",
    "* CustomerId -          категориальный\n",
    "* Surname    -          категориальный\n",
    "* CreditScore-          колличественный\n",
    "* Geography  -          категориальный\n",
    "* Gender     -          категориальный\n",
    "* Age        -          колличественный\n",
    "* Tenure     -          колличественный\n",
    "* Balance    -          колличественный\n",
    "* NumOfProducts -       колличественный\n",
    "* HasCrCard      -      категориальный\n",
    "* IsActiveMember  -     категориальный\n",
    "* EstimatedSalary  -    колличественный\n",
    "* Exited            -   целевой признак"
   ]
  },
  {
   "cell_type": "markdown",
   "metadata": {},
   "source": [
    "Переведем все категориальные признаки в численные методом One Hot Encoder. "
   ]
  },
  {
   "cell_type": "code",
   "execution_count": 9,
   "metadata": {},
   "outputs": [
    {
     "data": {
      "text/html": [
       "<div>\n",
       "<style scoped>\n",
       "    .dataframe tbody tr th:only-of-type {\n",
       "        vertical-align: middle;\n",
       "    }\n",
       "\n",
       "    .dataframe tbody tr th {\n",
       "        vertical-align: top;\n",
       "    }\n",
       "\n",
       "    .dataframe thead th {\n",
       "        text-align: right;\n",
       "    }\n",
       "</style>\n",
       "<table border=\"1\" class=\"dataframe\">\n",
       "  <thead>\n",
       "    <tr style=\"text-align: right;\">\n",
       "      <th></th>\n",
       "      <th>CreditScore</th>\n",
       "      <th>Age</th>\n",
       "      <th>Tenure</th>\n",
       "      <th>Balance</th>\n",
       "      <th>NumOfProducts</th>\n",
       "      <th>HasCrCard</th>\n",
       "      <th>IsActiveMember</th>\n",
       "      <th>EstimatedSalary</th>\n",
       "      <th>Exited</th>\n",
       "      <th>Geography_Germany</th>\n",
       "      <th>Geography_Spain</th>\n",
       "      <th>Gender_Male</th>\n",
       "    </tr>\n",
       "  </thead>\n",
       "  <tbody>\n",
       "    <tr>\n",
       "      <th>0</th>\n",
       "      <td>619</td>\n",
       "      <td>42</td>\n",
       "      <td>2</td>\n",
       "      <td>0.00</td>\n",
       "      <td>1</td>\n",
       "      <td>1</td>\n",
       "      <td>1</td>\n",
       "      <td>101348.88</td>\n",
       "      <td>1</td>\n",
       "      <td>0</td>\n",
       "      <td>0</td>\n",
       "      <td>0</td>\n",
       "    </tr>\n",
       "    <tr>\n",
       "      <th>1</th>\n",
       "      <td>608</td>\n",
       "      <td>41</td>\n",
       "      <td>1</td>\n",
       "      <td>83807.86</td>\n",
       "      <td>1</td>\n",
       "      <td>0</td>\n",
       "      <td>1</td>\n",
       "      <td>112542.58</td>\n",
       "      <td>0</td>\n",
       "      <td>0</td>\n",
       "      <td>1</td>\n",
       "      <td>0</td>\n",
       "    </tr>\n",
       "    <tr>\n",
       "      <th>2</th>\n",
       "      <td>502</td>\n",
       "      <td>42</td>\n",
       "      <td>8</td>\n",
       "      <td>159660.80</td>\n",
       "      <td>3</td>\n",
       "      <td>1</td>\n",
       "      <td>0</td>\n",
       "      <td>113931.57</td>\n",
       "      <td>1</td>\n",
       "      <td>0</td>\n",
       "      <td>0</td>\n",
       "      <td>0</td>\n",
       "    </tr>\n",
       "    <tr>\n",
       "      <th>3</th>\n",
       "      <td>699</td>\n",
       "      <td>39</td>\n",
       "      <td>1</td>\n",
       "      <td>0.00</td>\n",
       "      <td>2</td>\n",
       "      <td>0</td>\n",
       "      <td>0</td>\n",
       "      <td>93826.63</td>\n",
       "      <td>0</td>\n",
       "      <td>0</td>\n",
       "      <td>0</td>\n",
       "      <td>0</td>\n",
       "    </tr>\n",
       "    <tr>\n",
       "      <th>4</th>\n",
       "      <td>850</td>\n",
       "      <td>43</td>\n",
       "      <td>2</td>\n",
       "      <td>125510.82</td>\n",
       "      <td>1</td>\n",
       "      <td>1</td>\n",
       "      <td>1</td>\n",
       "      <td>79084.10</td>\n",
       "      <td>0</td>\n",
       "      <td>0</td>\n",
       "      <td>1</td>\n",
       "      <td>0</td>\n",
       "    </tr>\n",
       "    <tr>\n",
       "      <th>...</th>\n",
       "      <td>...</td>\n",
       "      <td>...</td>\n",
       "      <td>...</td>\n",
       "      <td>...</td>\n",
       "      <td>...</td>\n",
       "      <td>...</td>\n",
       "      <td>...</td>\n",
       "      <td>...</td>\n",
       "      <td>...</td>\n",
       "      <td>...</td>\n",
       "      <td>...</td>\n",
       "      <td>...</td>\n",
       "    </tr>\n",
       "    <tr>\n",
       "      <th>9994</th>\n",
       "      <td>800</td>\n",
       "      <td>29</td>\n",
       "      <td>2</td>\n",
       "      <td>0.00</td>\n",
       "      <td>2</td>\n",
       "      <td>0</td>\n",
       "      <td>0</td>\n",
       "      <td>167773.55</td>\n",
       "      <td>0</td>\n",
       "      <td>0</td>\n",
       "      <td>0</td>\n",
       "      <td>0</td>\n",
       "    </tr>\n",
       "    <tr>\n",
       "      <th>9995</th>\n",
       "      <td>771</td>\n",
       "      <td>39</td>\n",
       "      <td>5</td>\n",
       "      <td>0.00</td>\n",
       "      <td>2</td>\n",
       "      <td>1</td>\n",
       "      <td>0</td>\n",
       "      <td>96270.64</td>\n",
       "      <td>0</td>\n",
       "      <td>0</td>\n",
       "      <td>0</td>\n",
       "      <td>1</td>\n",
       "    </tr>\n",
       "    <tr>\n",
       "      <th>9996</th>\n",
       "      <td>516</td>\n",
       "      <td>35</td>\n",
       "      <td>10</td>\n",
       "      <td>57369.61</td>\n",
       "      <td>1</td>\n",
       "      <td>1</td>\n",
       "      <td>1</td>\n",
       "      <td>101699.77</td>\n",
       "      <td>0</td>\n",
       "      <td>0</td>\n",
       "      <td>0</td>\n",
       "      <td>1</td>\n",
       "    </tr>\n",
       "    <tr>\n",
       "      <th>9997</th>\n",
       "      <td>709</td>\n",
       "      <td>36</td>\n",
       "      <td>7</td>\n",
       "      <td>0.00</td>\n",
       "      <td>1</td>\n",
       "      <td>0</td>\n",
       "      <td>1</td>\n",
       "      <td>42085.58</td>\n",
       "      <td>1</td>\n",
       "      <td>0</td>\n",
       "      <td>0</td>\n",
       "      <td>0</td>\n",
       "    </tr>\n",
       "    <tr>\n",
       "      <th>9998</th>\n",
       "      <td>772</td>\n",
       "      <td>42</td>\n",
       "      <td>3</td>\n",
       "      <td>75075.31</td>\n",
       "      <td>2</td>\n",
       "      <td>1</td>\n",
       "      <td>0</td>\n",
       "      <td>92888.52</td>\n",
       "      <td>1</td>\n",
       "      <td>1</td>\n",
       "      <td>0</td>\n",
       "      <td>1</td>\n",
       "    </tr>\n",
       "  </tbody>\n",
       "</table>\n",
       "<p>9091 rows × 12 columns</p>\n",
       "</div>"
      ],
      "text/plain": [
       "      CreditScore  Age  Tenure    Balance  NumOfProducts  HasCrCard  \\\n",
       "0             619   42       2       0.00              1          1   \n",
       "1             608   41       1   83807.86              1          0   \n",
       "2             502   42       8  159660.80              3          1   \n",
       "3             699   39       1       0.00              2          0   \n",
       "4             850   43       2  125510.82              1          1   \n",
       "...           ...  ...     ...        ...            ...        ...   \n",
       "9994          800   29       2       0.00              2          0   \n",
       "9995          771   39       5       0.00              2          1   \n",
       "9996          516   35      10   57369.61              1          1   \n",
       "9997          709   36       7       0.00              1          0   \n",
       "9998          772   42       3   75075.31              2          1   \n",
       "\n",
       "      IsActiveMember  EstimatedSalary  Exited  Geography_Germany  \\\n",
       "0                  1        101348.88       1                  0   \n",
       "1                  1        112542.58       0                  0   \n",
       "2                  0        113931.57       1                  0   \n",
       "3                  0         93826.63       0                  0   \n",
       "4                  1         79084.10       0                  0   \n",
       "...              ...              ...     ...                ...   \n",
       "9994               0        167773.55       0                  0   \n",
       "9995               0         96270.64       0                  0   \n",
       "9996               1        101699.77       0                  0   \n",
       "9997               1         42085.58       1                  0   \n",
       "9998               0         92888.52       1                  1   \n",
       "\n",
       "      Geography_Spain  Gender_Male  \n",
       "0                   0            0  \n",
       "1                   1            0  \n",
       "2                   0            0  \n",
       "3                   0            0  \n",
       "4                   1            0  \n",
       "...               ...          ...  \n",
       "9994                0            0  \n",
       "9995                0            1  \n",
       "9996                0            1  \n",
       "9997                0            0  \n",
       "9998                0            1  \n",
       "\n",
       "[9091 rows x 12 columns]"
      ]
     },
     "execution_count": 9,
     "metadata": {},
     "output_type": "execute_result"
    }
   ],
   "source": [
    "df_OHE = pd.get_dummies(df,drop_first=True)\n",
    "df_OHE"
   ]
  },
  {
   "cell_type": "code",
   "execution_count": 10,
   "metadata": {},
   "outputs": [
    {
     "name": "stdout",
     "output_type": "stream",
     "text": [
      "<class 'pandas.core.frame.DataFrame'>\n",
      "Int64Index: 9091 entries, 0 to 9998\n",
      "Data columns (total 11 columns):\n",
      " #   Column           Non-Null Count  Dtype  \n",
      "---  ------           --------------  -----  \n",
      " 0   CreditScore      9091 non-null   int64  \n",
      " 1   Geography        9091 non-null   object \n",
      " 2   Gender           9091 non-null   object \n",
      " 3   Age              9091 non-null   int64  \n",
      " 4   Tenure           9091 non-null   int64  \n",
      " 5   Balance          9091 non-null   float64\n",
      " 6   NumOfProducts    9091 non-null   int64  \n",
      " 7   HasCrCard        9091 non-null   int64  \n",
      " 8   IsActiveMember   9091 non-null   int64  \n",
      " 9   EstimatedSalary  9091 non-null   float64\n",
      " 10  Exited           9091 non-null   int64  \n",
      "dtypes: float64(2), int64(7), object(2)\n",
      "memory usage: 852.3+ KB\n"
     ]
    }
   ],
   "source": [
    "df.info()"
   ]
  },
  {
   "cell_type": "code",
   "execution_count": 11,
   "metadata": {},
   "outputs": [
    {
     "name": "stdout",
     "output_type": "stream",
     "text": [
      "Количество строк в features_train: (5454, 11)\n",
      "Количество строк в target_train: (5454,)\n"
     ]
    }
   ],
   "source": [
    "target = df_OHE['Exited']\n",
    "features = df_OHE.drop(['Exited'] , axis=1)\n",
    "features_train, features_test, target_train, target_test = train_test_split(\n",
    "    features, target, test_size=0.4, random_state=12345, stratify=target)\n",
    "print(f\"Количество строк в features_train: {features_train.shape}\")\n",
    "print(f\"Количество строк в target_train: {target_train.shape}\")"
   ]
  },
  {
   "cell_type": "code",
   "execution_count": 12,
   "metadata": {},
   "outputs": [
    {
     "name": "stdout",
     "output_type": "stream",
     "text": [
      "Количество строк в features_test: (1818, 11)\n",
      "Количество строк в features_valid: (1819, 11)\n",
      "Количество строк в target_test: (1818,)\n",
      "Количество строк в target_valid: (1819,)\n"
     ]
    }
   ],
   "source": [
    "features_test, features_valid, target_test, target_valid = train_test_split(\n",
    "    features_test, target_test, test_size=0.5, random_state=12345, stratify=target_test)\n",
    "print(f\"Количество строк в features_test: {features_test.shape}\")\n",
    "print(f\"Количество строк в features_valid: {features_valid.shape}\")\n",
    "print(f\"Количество строк в target_test: {target_test.shape}\")\n",
    "print(f\"Количество строк в target_valid: {target_valid.shape}\")"
   ]
  },
  {
   "cell_type": "code",
   "execution_count": 14,
   "metadata": {},
   "outputs": [],
   "source": [
    "#маштабирование признаков\n",
    "warnings.filterwarnings('ignore')\n",
    "numeric=['CreditScore','Age','Tenure','Balance','NumOfProducts','EstimatedSalary']\n",
    "scaler=StandardScaler()\n",
    "scaler.fit(features_train[numeric])\n",
    "features_train[numeric] = scaler.transform(features_train[numeric])\n",
    "features_valid[numeric] = scaler.transform(features_valid[numeric])\n",
    "features_test[numeric] = scaler.transform(features_test[numeric])"
   ]
  },
  {
   "cell_type": "markdown",
   "metadata": {},
   "source": [
    "Проведена предоработка данных. Сначала избавились от категориальных признаков методом OHE, затем рабили датасет на 3 выборки: обучающая, валидационая и тестовая. И дальше провели маштабирование признаков методом StandardScaler."
   ]
  },
  {
   "cell_type": "markdown",
   "metadata": {},
   "source": [
    "# Исследуем моделей"
   ]
  },
  {
   "cell_type": "markdown",
   "metadata": {},
   "source": [
    "### DecisionTreeClassifier"
   ]
  },
  {
   "cell_type": "code",
   "execution_count": 76,
   "metadata": {},
   "outputs": [
    {
     "name": "stderr",
     "output_type": "stream",
     "text": [
      "100%|██████████| 21/21 [00:00<00:00, 46.33it/s]"
     ]
    },
    {
     "name": "stdout",
     "output_type": "stream",
     "text": [
      "F1-мера на валидационной выборке: 0.557659208261618 Максимальная глубина: 7\n",
      "CPU times: user 437 ms, sys: 11.6 ms, total: 449 ms\n",
      "Wall time: 457 ms\n"
     ]
    },
    {
     "name": "stderr",
     "output_type": "stream",
     "text": [
      "\n"
     ]
    }
   ],
   "source": [
    "%%time\n",
    "best_model_DTC = None\n",
    "best_f1_DTC = 0\n",
    "best_depth_DTC = 0\n",
    "list_valid = []\n",
    "for i in tqdm(range(1, 22)):\n",
    "    model_DTC = DecisionTreeClassifier(max_depth=i, random_state=12345)\n",
    "    model_DTC.fit(features_train, target_train)\n",
    "    predictions_valid_DTC  = model_DTC.predict(features_valid)\n",
    "    f1 = f1_score(target_valid, predictions_valid_DTC)\n",
    "    list_valid.append(f1)\n",
    "    if f1 > best_f1_DTC:\n",
    "        best_model_DTC = model_DTC\n",
    "        best_f1_DTC = f1\n",
    "        best_depth_DTC = i\n",
    "print(\"F1-мера на валидационной выборке:\", best_f1_DTC, \n",
    "      \"Максимальная глубина:\", best_depth_DTC)"
   ]
  },
  {
   "cell_type": "markdown",
   "metadata": {},
   "source": [
    "### RandomForestClassifier"
   ]
  },
  {
   "cell_type": "code",
   "execution_count": 77,
   "metadata": {},
   "outputs": [
    {
     "name": "stderr",
     "output_type": "stream",
     "text": [
      "100%|██████████| 19/19 [00:21<00:00,  1.13s/it]"
     ]
    },
    {
     "name": "stdout",
     "output_type": "stream",
     "text": [
      "F1-мера на валидационной выборке: 0.5831903945111492 Количество деревьев: 16 Максимальная глубина: 10\n"
     ]
    },
    {
     "name": "stderr",
     "output_type": "stream",
     "text": [
      "\n"
     ]
    }
   ],
   "source": [
    "best_model_RFC = None\n",
    "best_f1_RFC = 0\n",
    "best_est_RFC = 0\n",
    "best_depth_RFC = 0\n",
    "for est in tqdm(range(1, 20)):\n",
    "    for depth in range (1,22):\n",
    "        model_RFC = RandomForestClassifier(random_state=12345, n_estimators=est, max_depth=depth) \n",
    "        model_RFC.fit(features_train, target_train) \n",
    "        predictions_valid_RFC = model_RFC.predict(features_valid)\n",
    "        f1_RFC = f1_score(target_valid, predictions_valid_RFC) \n",
    "        if f1_RFC > best_f1_RFC:\n",
    "            best_model_RFC = model_RFC\n",
    "            best_f1_RFC = f1_RFC\n",
    "            best_est_RFC = est\n",
    "            best_depth_RFC = depth \n",
    "print(\"F1-мера на валидационной выборке:\", best_f1_RFC, \n",
    "      \"Количество деревьев:\", best_est_RFC, \"Максимальная глубина:\", best_depth_RFC)"
   ]
  },
  {
   "cell_type": "markdown",
   "metadata": {},
   "source": [
    "### LogisticRegression"
   ]
  },
  {
   "cell_type": "code",
   "execution_count": 78,
   "metadata": {},
   "outputs": [
    {
     "name": "stdout",
     "output_type": "stream",
     "text": [
      "F1-мера на валидационной выборке: 0.35203094777562866\n",
      "CPU times: user 23.7 ms, sys: 11.9 ms, total: 35.6 ms\n",
      "Wall time: 22.2 ms\n"
     ]
    }
   ],
   "source": [
    "%%time\n",
    "model_LR = LogisticRegression(random_state=12345, solver='liblinear')\n",
    "model_LR.fit(features_train, target_train) \n",
    "predictions_valid_LR = model_LR.predict(features_valid) \n",
    "f1_LR = f1_score(target_valid, predictions_valid_LR)\n",
    "print(\"F1-мера на валидационной выборке:\", f1_LR)"
   ]
  },
  {
   "cell_type": "markdown",
   "metadata": {},
   "source": [
    "Без учета дисбаланса выходит значения F1 следующие: \n",
    "*  DecisionTreeClassifier = 0.56\n",
    "*  RandomForestClassifier = 0.58\n",
    "*  LogisticRegression = 0.35"
   ]
  },
  {
   "cell_type": "markdown",
   "metadata": {},
   "source": [
    "## Борьба с дисбалансом"
   ]
  },
  {
   "cell_type": "code",
   "execution_count": 79,
   "metadata": {
    "scrolled": true
   },
   "outputs": [
    {
     "name": "stdout",
     "output_type": "stream",
     "text": [
      "F1-мера на валидационной выборке: 0.35203094777562866\n"
     ]
    }
   ],
   "source": [
    "model = LogisticRegression(class_weight='balanced', solver='liblinear', random_state=12345)\n",
    "model.fit(features_train, target_train) \n",
    "predictions_valid = model.predict(features_valid) \n",
    "f1 = f1_score(target_valid, predictions_valid_LR)\n",
    "print(\"F1-мера на валидационной выборке:\", f1)"
   ]
  },
  {
   "cell_type": "code",
   "execution_count": 80,
   "metadata": {},
   "outputs": [
    {
     "name": "stderr",
     "output_type": "stream",
     "text": [
      "100%|██████████| 21/21 [00:00<00:00, 46.97it/s]"
     ]
    },
    {
     "name": "stdout",
     "output_type": "stream",
     "text": [
      "F1-мера на валидационной выборке: 0.5675675675675674 Максимальная глубина: 8\n"
     ]
    },
    {
     "name": "stderr",
     "output_type": "stream",
     "text": [
      "\n"
     ]
    }
   ],
   "source": [
    "best_f1_DTC = 0\n",
    "best_depth_DTC = 0\n",
    "list_valid = []\n",
    "for i in tqdm(range(1, 22)):\n",
    "    model_DTC = DecisionTreeClassifier(max_depth=i, class_weight='balanced', random_state=12345)\n",
    "    model_DTC.fit(features_train, target_train)\n",
    "    predictions_valid_DTC  = model_DTC.predict(features_valid)\n",
    "    f1 = f1_score(target_valid, predictions_valid_DTC)\n",
    "    list_valid.append(f1)\n",
    "    if f1 > best_f1_DTC:\n",
    "        best_model_DTC = model_DTC\n",
    "        best_f1_DTC = f1\n",
    "        best_depth_DTC = i\n",
    "print(\"F1-мера на валидационной выборке:\", best_f1_DTC, \n",
    "      \"Максимальная глубина:\", best_depth_DTC)"
   ]
  },
  {
   "cell_type": "code",
   "execution_count": 81,
   "metadata": {},
   "outputs": [
    {
     "name": "stderr",
     "output_type": "stream",
     "text": [
      "100%|██████████| 19/19 [00:21<00:00,  1.14s/it]"
     ]
    },
    {
     "name": "stdout",
     "output_type": "stream",
     "text": [
      "F1-мера на валидационной выборке: 0.6084337349397592 Количество деревьев: 17 Максимальная глубина: 12\n"
     ]
    },
    {
     "name": "stderr",
     "output_type": "stream",
     "text": [
      "\n"
     ]
    }
   ],
   "source": [
    "best_model_RFC = None\n",
    "best_f1_RFC = 0\n",
    "best_est_RFC = 0\n",
    "best_depth_RFC = 0\n",
    "for est in tqdm(range(1, 20)):\n",
    "    for depth in range (1,22):\n",
    "        model_RFC = RandomForestClassifier(class_weight='balanced', random_state=12345, n_estimators=est, max_depth=depth) \n",
    "        model_RFC.fit(features_train, target_train) \n",
    "        predictions_valid_RFC = model_RFC.predict(features_valid)\n",
    "        f1_RFC = f1_score(target_valid, predictions_valid_RFC) \n",
    "        if f1_RFC > best_f1_RFC:\n",
    "            best_model_RFC = model_RFC\n",
    "            best_f1_RFC = f1_RFC\n",
    "            best_est_RFC = est\n",
    "            best_depth_RFC = depth \n",
    "print(\"F1-мера на валидационной выборке:\", best_f1_RFC, \n",
    "      \"Количество деревьев:\", best_est_RFC, \"Максимальная глубина:\", best_depth_RFC)"
   ]
  },
  {
   "cell_type": "markdown",
   "metadata": {},
   "source": [
    "Добавив class_weight='balanced', на результат не повлияло сильно, хоть и стало учитывать во сколько раз 0 больше чем 1.\n",
    "   \n",
    "   Было: \n",
    "*  DecisionTreeClassifier = 0.56\n",
    "*  RandomForestClassifier = 0.58\n",
    "*  LogisticRegression = 0.35\n",
    "   \n",
    "   Стало: \n",
    "*  DecisionTreeClassifier = 0.57\n",
    "*  RandomForestClassifier = 0.608\n",
    "*  LogisticRegression = 0.35\n",
    "\n",
    "Поэтому применим метод upsampling. "
   ]
  },
  {
   "cell_type": "code",
   "execution_count": 82,
   "metadata": {},
   "outputs": [],
   "source": [
    "def upsample(features, target, repeat):\n",
    "    features_zeros = features[target == 0]\n",
    "    features_ones = features[target == 1]\n",
    "    target_zeros = target[target == 0]\n",
    "    target_ones = target[target == 1]\n",
    "\n",
    "    features_upsampled = pd.concat([features_zeros] + [features_ones] * repeat)\n",
    "    target_upsampled = pd.concat([target_zeros] + [target_ones] * repeat)\n",
    "    \n",
    "    features_upsampled, target_upsampled = shuffle(\n",
    "        features_upsampled, target_upsampled, random_state=12345)\n",
    "    \n",
    "    return features_upsampled, target_upsampled"
   ]
  },
  {
   "cell_type": "code",
   "execution_count": 83,
   "metadata": {},
   "outputs": [],
   "source": [
    "features_upsampled, target_upsampled = upsample(features_train, target_train, 4)"
   ]
  },
  {
   "cell_type": "markdown",
   "metadata": {},
   "source": [
    "Увеличила в features_train и target_train выборки где в целевом признаки встречаются 1 в 4 раза, чтобы убрать дисбаланс."
   ]
  },
  {
   "cell_type": "markdown",
   "metadata": {},
   "source": [
    "### DecisionTreeClassifier"
   ]
  },
  {
   "cell_type": "code",
   "execution_count": 84,
   "metadata": {},
   "outputs": [
    {
     "name": "stderr",
     "output_type": "stream",
     "text": [
      "100%|██████████| 21/21 [00:00<00:00, 37.43it/s]"
     ]
    },
    {
     "name": "stdout",
     "output_type": "stream",
     "text": [
      "F1-мера на валидационной выборке: 0.5711060948081264 Максимальная глубина: 8\n",
      "CPU times: user 555 ms, sys: 4 ms, total: 559 ms\n",
      "Wall time: 563 ms\n"
     ]
    },
    {
     "name": "stderr",
     "output_type": "stream",
     "text": [
      "\n"
     ]
    }
   ],
   "source": [
    "%%time\n",
    "best_model_DTC_upsampled = None\n",
    "best_f1_DTC_upsampled = 0\n",
    "best_depth_DTC_upsampled = 0\n",
    "list_valid = []\n",
    "for i in tqdm(range(1, 22)):\n",
    "    model_DTC_upsampled = DecisionTreeClassifier(max_depth=i, random_state=12345)\n",
    "    model_DTC_upsampled.fit(features_upsampled, target_upsampled)\n",
    "    predictions_valid_DTC_upsampled  = model_DTC_upsampled.predict(features_valid)\n",
    "    f1 = f1_score(target_valid, predictions_valid_DTC_upsampled)\n",
    "    list_valid.append(f1)\n",
    "    if f1 > best_f1_DTC_upsampled:\n",
    "        best_model_DTC_upsampled = model_DTC_upsampled\n",
    "        best_f1_DTC_upsampled = f1\n",
    "        best_depth_DTC_upsampled = i\n",
    "print(\"F1-мера на валидационной выборке:\", best_f1_DTC_upsampled, \n",
    "      \"Максимальная глубина:\", best_depth_DTC_upsampled)"
   ]
  },
  {
   "cell_type": "markdown",
   "metadata": {},
   "source": [
    "### RandomForestClassifier"
   ]
  },
  {
   "cell_type": "code",
   "execution_count": 85,
   "metadata": {},
   "outputs": [
    {
     "name": "stderr",
     "output_type": "stream",
     "text": [
      "100%|██████████| 19/19 [00:31<00:00,  1.63s/it]"
     ]
    },
    {
     "name": "stdout",
     "output_type": "stream",
     "text": [
      "F1-мера на валидационной выборке: 0.6177285318559558 Количество деревьев: 17 Максимальная глубина: 13\n"
     ]
    },
    {
     "name": "stderr",
     "output_type": "stream",
     "text": [
      "\n"
     ]
    }
   ],
   "source": [
    "best_model_RFC_upsampled = None\n",
    "best_f1_RFC_upsampled = 0\n",
    "best_est_RFC_upsampled = 0\n",
    "best_depth_RFC_upsampled = 0\n",
    "for est in tqdm(range(1, 20)):\n",
    "    for depth in range (1,22):\n",
    "        model_RFC = RandomForestClassifier(random_state=12345, n_estimators=est, max_depth=depth) \n",
    "        model_RFC.fit(features_upsampled, target_upsampled) \n",
    "        predictions_valid_RFC = model_RFC.predict(features_valid)\n",
    "        f1_RFC = f1_score(target_valid, predictions_valid_RFC) \n",
    "        if f1_RFC > best_f1_RFC_upsampled:\n",
    "            best_model_RFC_upsampled = model_RFC\n",
    "            best_f1_RFC_upsampled = f1_RFC\n",
    "            best_est_RFC_upsampled = est\n",
    "            best_depth_RFC_upsampled = depth \n",
    "print(\"F1-мера на валидационной выборке:\", best_f1_RFC_upsampled, \n",
    "      \"Количество деревьев:\", best_est_RFC_upsampled, \"Максимальная глубина:\", best_depth_RFC_upsampled)"
   ]
  },
  {
   "cell_type": "markdown",
   "metadata": {},
   "source": [
    "### LogisticRegression"
   ]
  },
  {
   "cell_type": "code",
   "execution_count": 86,
   "metadata": {},
   "outputs": [
    {
     "name": "stdout",
     "output_type": "stream",
     "text": [
      "F1-мера на валидационной выборке: 0.5042816365366317\n",
      "CPU times: user 51.4 ms, sys: 36 ms, total: 87.4 ms\n",
      "Wall time: 35.6 ms\n"
     ]
    }
   ],
   "source": [
    "%%time\n",
    "model_LR_upsampled = LogisticRegression(random_state=12345, solver='liblinear')\n",
    "model_LR_upsampled.fit(features_upsampled, target_upsampled) \n",
    "predictions_valid_LR_upsampled = model_LR_upsampled.predict(features_valid) \n",
    "f1_LR_upsampled = f1_score(target_valid, predictions_valid_LR_upsampled)\n",
    "print(\"F1-мера на валидационной выборке:\", f1_LR_upsampled)"
   ]
  },
  {
   "cell_type": "markdown",
   "metadata": {},
   "source": [
    "Итог в значениях F1:\n",
    "*  DecisionTreeClassifier = 0.57\n",
    "*  RandomForestClassifier = 0.617\n",
    "*  LogisticRegression = 0.504"
   ]
  },
  {
   "cell_type": "markdown",
   "metadata": {},
   "source": [
    "Хоть и не на много, но видно увеличение в показателе у модели RandomForestClassifier. Она и буде для нас являться лучшей моделью для предсказания. "
   ]
  },
  {
   "cell_type": "markdown",
   "metadata": {},
   "source": [
    "## Тестирование модели"
   ]
  },
  {
   "cell_type": "markdown",
   "metadata": {},
   "source": [
    "Проверим качество модели на тестовой выборке."
   ]
  },
  {
   "cell_type": "code",
   "execution_count": 87,
   "metadata": {},
   "outputs": [
    {
     "data": {
      "text/plain": [
       "RandomForestClassifier(max_depth=13, n_estimators=17, random_state=12345)"
      ]
     },
     "execution_count": 87,
     "metadata": {},
     "output_type": "execute_result"
    }
   ],
   "source": [
    "best_model_RFC_upsampled"
   ]
  },
  {
   "cell_type": "code",
   "execution_count": 88,
   "metadata": {},
   "outputs": [],
   "source": [
    "predictions_test_RFC_upsampled = best_model_RFC_upsampled.predict(features_test)"
   ]
  },
  {
   "cell_type": "code",
   "execution_count": 89,
   "metadata": {},
   "outputs": [
    {
     "name": "stdout",
     "output_type": "stream",
     "text": [
      "Лучшая модель случайный лес:  0.6236559139784946\n"
     ]
    }
   ],
   "source": [
    "print('Лучшая модель случайный лес: ', f1_score(target_test, predictions_test_RFC_upsampled))"
   ]
  },
  {
   "cell_type": "markdown",
   "metadata": {},
   "source": [
    "Показатель стал еще больше, был 0.617"
   ]
  },
  {
   "cell_type": "markdown",
   "metadata": {},
   "source": [
    "### AUC-ROC"
   ]
  },
  {
   "cell_type": "code",
   "execution_count": 90,
   "metadata": {},
   "outputs": [
    {
     "data": {
      "text/plain": [
       "0.8305637667346727"
      ]
     },
     "execution_count": 90,
     "metadata": {},
     "output_type": "execute_result"
    }
   ],
   "source": [
    "probabilities = best_model_RFC_upsampled.predict_proba(features_valid)\n",
    "probabilities_one_valid = probabilities[:,1]\n",
    "fpr, tpr, thresholds = roc_curve(target_valid, probabilities_one_valid)\n",
    "\n",
    "auc_roc = roc_auc_score(target_valid, probabilities_one_valid)\n",
    "auc_roc"
   ]
  },
  {
   "cell_type": "code",
   "execution_count": 91,
   "metadata": {},
   "outputs": [
    {
     "data": {
      "text/plain": [
       "0.8083321543982964"
      ]
     },
     "execution_count": 91,
     "metadata": {},
     "output_type": "execute_result"
    }
   ],
   "source": [
    "probabilities_DTC = best_model_DTC_upsampled.predict_proba(features_valid)\n",
    "probabilities_one_valid__DTC = probabilities_DTC[:,1]\n",
    "fpr_DTC, tpr_DTC, thresholds_DTC = roc_curve(target_valid, probabilities_one_valid__DTC)\n",
    "\n",
    "auc_roc_DTC = roc_auc_score(target_valid, probabilities_one_valid__DTC)\n",
    "auc_roc_DTC"
   ]
  },
  {
   "cell_type": "code",
   "execution_count": 92,
   "metadata": {},
   "outputs": [
    {
     "data": {
      "text/plain": [
       "0.7781846137808819"
      ]
     },
     "execution_count": 92,
     "metadata": {},
     "output_type": "execute_result"
    }
   ],
   "source": [
    "probabilities_LR = model_LR_upsampled.predict_proba(features_valid)\n",
    "probabilities_one_valid_LR = probabilities_LR[:,1]\n",
    "fpr_LR, tpr_LR, thresholds_LR = roc_curve(target_valid, probabilities_one_valid_LR)\n",
    "\n",
    "auc_roc_LR = roc_auc_score(target_valid, probabilities_one_valid_LR)\n",
    "auc_roc_LR"
   ]
  },
  {
   "cell_type": "code",
   "execution_count": 93,
   "metadata": {},
   "outputs": [
    {
     "data": {
      "text/plain": [
       "<Figure size 432x288 with 0 Axes>"
      ]
     },
     "metadata": {},
     "output_type": "display_data"
    },
    {
     "data": {
      "image/png": "[encoded data removed]",
      "text/plain": [
       "<Figure size 1440x576 with 1 Axes>"
      ]
     },
     "metadata": {
      "needs_background": "light"
     },
     "output_type": "display_data"
    }
   ],
   "source": [
    "plt.figure()\n",
    "plt.figure(figsize=(20,8))\n",
    "plt.plot(fpr,tpr)\n",
    "plt.plot(fpr_DTC,tpr_DTC)\n",
    "plt.plot(fpr_LR,tpr_LR)\n",
    "plt.plot([0, 1], [0, 1], linestyle='--')\n",
    "plt.xlim([0.0, 1.0])\n",
    "plt.ylim([0.0, 1.0])\n",
    "plt.legend(('RFC', 'DTC', 'LR', 'случайная модель'))\n",
    "plt.xlabel(\"False Positive Rate\")\n",
    "plt.ylabel(\"True Positive Rate\")\n",
    "plt.title(\"ROC-кривая\")\n",
    "plt.show()"
   ]
  },
  {
   "cell_type": "markdown",
   "metadata": {},
   "source": [
    "У нашей лучшей модели самая большая площадь, по графигу видно что доганяет по значениям DTC. Так же наша модель на много лучше случайной, у нашей 0.83 площадь, а у случайной 0,5. Итог: подтвердилось , что у нашей лучшей модели самое высокое качество. "
   ]
  },
  {
   "cell_type": "markdown",
   "metadata": {},
   "source": [
    "Спасибо за проверку, изучила( доизучаю еще) все комментарии, график подписала и добавила вывод."
   ]
  },
  {
   "cell_type": "markdown",
   "metadata": {},
   "source": [
    "## Чек-лист готовности проекта"
   ]
  },
  {
   "cell_type": "markdown",
   "metadata": {},
   "source": [
    "- [x]  Jupyter Notebook открыт\n",
    "- [ ]  Весь код выполняется без ошибок\n",
    "- [ ]  Ячейки с кодом расположены в порядке исполнения\n",
    "- [ ]  Выполнен шаг 1: данные подготовлены\n",
    "- [ ]  Выполнен шаг 2: задача исследована\n",
    "    - [ ]  Исследован баланс классов\n",
    "    - [ ]  Изучены модели без учёта дисбаланса\n",
    "    - [ ]  Написаны выводы по результатам исследования\n",
    "- [ ]  Выполнен шаг 3: учтён дисбаланс\n",
    "    - [ ]  Применено несколько способов борьбы с дисбалансом\n",
    "    - [ ]  Написаны выводы по результатам исследования\n",
    "- [ ]  Выполнен шаг 4: проведено тестирование\n",
    "- [ ]  Удалось достичь *F1*-меры не менее 0.59\n",
    "- [ ]  Исследована метрика *AUC-ROC*"
   ]
  }
 ],
 "metadata": {
  "ExecuteTimeLog": [
   {
    "duration": 1283,
    "start_time": "2023-01-26T10:55:48.309Z"
   },
   {
    "duration": 175,
    "start_time": "2023-01-26T10:55:49.593Z"
   },
   {
    "duration": 64,
    "start_time": "2023-01-26T10:58:56.671Z"
   },
   {
    "duration": 99,
    "start_time": "2023-01-26T10:59:19.387Z"
   },
   {
    "duration": 58,
    "start_time": "2023-01-26T10:59:31.382Z"
   },
   {
    "duration": 17,
    "start_time": "2023-01-26T10:59:33.219Z"
   },
   {
    "duration": 14,
    "start_time": "2023-01-26T10:59:46.277Z"
   },
   {
    "duration": 26,
    "start_time": "2023-01-26T11:01:41.243Z"
   },
   {
    "duration": 7,
    "start_time": "2023-01-26T11:02:37.213Z"
   },
   {
    "duration": 12,
    "start_time": "2023-01-26T11:04:00.916Z"
   },
   {
    "duration": 9,
    "start_time": "2023-01-26T11:04:12.076Z"
   },
   {
    "duration": 48,
    "start_time": "2023-01-27T09:33:35.215Z"
   },
   {
    "duration": 1248,
    "start_time": "2023-01-27T09:33:45.560Z"
   },
   {
    "duration": 195,
    "start_time": "2023-01-27T09:33:46.810Z"
   },
   {
    "duration": 13,
    "start_time": "2023-01-27T09:33:47.509Z"
   },
   {
    "duration": 12,
    "start_time": "2023-01-27T09:33:47.715Z"
   },
   {
    "duration": 8,
    "start_time": "2023-01-27T09:33:49.472Z"
   },
   {
    "duration": 6,
    "start_time": "2023-01-27T09:33:52.419Z"
   },
   {
    "duration": 628,
    "start_time": "2023-01-27T09:34:15.664Z"
   },
   {
    "duration": 196,
    "start_time": "2023-01-27T09:34:31.537Z"
   },
   {
    "duration": 115,
    "start_time": "2023-01-27T09:34:40.089Z"
   },
   {
    "duration": 199,
    "start_time": "2023-01-27T10:27:19.500Z"
   },
   {
    "duration": 4,
    "start_time": "2023-01-27T10:30:26.038Z"
   },
   {
    "duration": 4,
    "start_time": "2023-01-27T10:35:46.631Z"
   },
   {
    "duration": 51,
    "start_time": "2023-01-27T10:35:46.828Z"
   },
   {
    "duration": 14,
    "start_time": "2023-01-27T10:35:46.987Z"
   },
   {
    "duration": 12,
    "start_time": "2023-01-27T10:35:47.131Z"
   },
   {
    "duration": 8,
    "start_time": "2023-01-27T10:35:47.289Z"
   },
   {
    "duration": 106,
    "start_time": "2023-01-27T10:35:48.379Z"
   },
   {
    "duration": 212,
    "start_time": "2023-01-27T10:35:54.050Z"
   },
   {
    "duration": 135,
    "start_time": "2023-01-27T10:36:00.587Z"
   },
   {
    "duration": 31,
    "start_time": "2023-01-27T10:36:06.679Z"
   },
   {
    "duration": 43,
    "start_time": "2023-01-27T10:39:51.934Z"
   },
   {
    "duration": 28,
    "start_time": "2023-01-27T10:40:02.968Z"
   },
   {
    "duration": 82,
    "start_time": "2023-01-27T10:49:44.329Z"
   },
   {
    "duration": 7,
    "start_time": "2023-01-27T10:50:04.436Z"
   },
   {
    "duration": 87,
    "start_time": "2023-01-27T10:50:08.919Z"
   },
   {
    "duration": 3,
    "start_time": "2023-01-27T10:50:49.620Z"
   },
   {
    "duration": 207,
    "start_time": "2023-01-27T10:50:59.072Z"
   },
   {
    "duration": 12,
    "start_time": "2023-01-27T11:01:39.745Z"
   },
   {
    "duration": 50,
    "start_time": "2023-01-27T11:01:45.044Z"
   },
   {
    "duration": 11,
    "start_time": "2023-01-27T11:02:02.399Z"
   },
   {
    "duration": 15,
    "start_time": "2023-01-27T11:02:09.421Z"
   },
   {
    "duration": 4,
    "start_time": "2023-01-27T11:02:15.570Z"
   },
   {
    "duration": 47,
    "start_time": "2023-01-27T11:02:15.724Z"
   },
   {
    "duration": 13,
    "start_time": "2023-01-27T11:02:15.906Z"
   },
   {
    "duration": 14,
    "start_time": "2023-01-27T11:02:16.068Z"
   },
   {
    "duration": 8,
    "start_time": "2023-01-27T11:02:16.225Z"
   },
   {
    "duration": 13,
    "start_time": "2023-01-27T11:02:16.621Z"
   },
   {
    "duration": 111,
    "start_time": "2023-01-27T11:02:19.772Z"
   },
   {
    "duration": 178,
    "start_time": "2023-01-27T11:02:21.683Z"
   },
   {
    "duration": 92,
    "start_time": "2023-01-27T11:02:22.108Z"
   },
   {
    "duration": 26,
    "start_time": "2023-01-27T11:02:22.378Z"
   },
   {
    "duration": 29,
    "start_time": "2023-01-27T11:02:22.592Z"
   },
   {
    "duration": 261,
    "start_time": "2023-01-27T11:02:24.384Z"
   },
   {
    "duration": 3,
    "start_time": "2023-01-27T11:05:11.782Z"
   },
   {
    "duration": 47,
    "start_time": "2023-01-27T11:05:12.420Z"
   },
   {
    "duration": 88,
    "start_time": "2023-01-27T11:05:12.591Z"
   },
   {
    "duration": 11,
    "start_time": "2023-01-27T11:05:12.742Z"
   },
   {
    "duration": 7,
    "start_time": "2023-01-27T11:05:12.905Z"
   },
   {
    "duration": 12,
    "start_time": "2023-01-27T11:05:13.408Z"
   },
   {
    "duration": 103,
    "start_time": "2023-01-27T11:05:13.744Z"
   },
   {
    "duration": 170,
    "start_time": "2023-01-27T11:05:15.308Z"
   },
   {
    "duration": 88,
    "start_time": "2023-01-27T11:05:16.213Z"
   },
   {
    "duration": 25,
    "start_time": "2023-01-27T11:05:16.777Z"
   },
   {
    "duration": 28,
    "start_time": "2023-01-27T11:05:17.272Z"
   },
   {
    "duration": 257,
    "start_time": "2023-01-27T11:05:20.853Z"
   },
   {
    "duration": 7065,
    "start_time": "2023-01-27T11:05:41.937Z"
   },
   {
    "duration": 7678,
    "start_time": "2023-01-27T11:07:13.719Z"
   },
   {
    "duration": 69938,
    "start_time": "2023-01-27T11:10:09.763Z"
   },
   {
    "duration": 181558,
    "start_time": "2023-01-27T11:12:27.991Z"
   },
   {
    "duration": 67756,
    "start_time": "2023-01-27T11:15:45.184Z"
   },
   {
    "duration": 445863,
    "start_time": "2023-01-27T11:17:45.645Z"
   },
   {
    "duration": 1597,
    "start_time": "2023-01-27T11:25:13.102Z"
   },
   {
    "duration": 379,
    "start_time": "2023-01-27T11:43:49.320Z"
   },
   {
    "duration": 87235,
    "start_time": "2023-01-27T11:45:48.301Z"
   },
   {
    "duration": 1245,
    "start_time": "2023-01-27T12:29:07.315Z"
   },
   {
    "duration": 105,
    "start_time": "2023-01-27T12:29:08.563Z"
   },
   {
    "duration": 14,
    "start_time": "2023-01-27T12:29:08.669Z"
   },
   {
    "duration": 28,
    "start_time": "2023-01-27T12:29:08.684Z"
   },
   {
    "duration": 11,
    "start_time": "2023-01-27T12:29:09.906Z"
   },
   {
    "duration": 166,
    "start_time": "2023-01-27T12:29:11.313Z"
   },
   {
    "duration": 13,
    "start_time": "2023-01-27T12:29:25.325Z"
   },
   {
    "duration": 622,
    "start_time": "2023-01-27T12:29:30.031Z"
   },
   {
    "duration": 184,
    "start_time": "2023-01-27T12:29:34.661Z"
   },
   {
    "duration": 128,
    "start_time": "2023-01-27T12:29:35.120Z"
   },
   {
    "duration": 29,
    "start_time": "2023-01-27T12:29:35.506Z"
   },
   {
    "duration": 32,
    "start_time": "2023-01-27T12:29:36.002Z"
   },
   {
    "duration": 9227,
    "start_time": "2023-01-27T12:29:42.267Z"
   },
   {
    "duration": 1641238,
    "start_time": "2023-01-27T12:30:00.809Z"
   },
   {
    "duration": 642,
    "start_time": "2023-01-27T13:04:11.326Z"
   },
   {
    "duration": 41,
    "start_time": "2023-01-27T13:14:09.016Z"
   },
   {
    "duration": 460,
    "start_time": "2023-01-27T13:14:30.382Z"
   },
   {
    "duration": 5,
    "start_time": "2023-01-27T13:21:23.163Z"
   },
   {
    "duration": 62,
    "start_time": "2023-01-27T13:21:23.333Z"
   },
   {
    "duration": 17,
    "start_time": "2023-01-27T13:21:23.486Z"
   },
   {
    "duration": 13,
    "start_time": "2023-01-27T13:21:23.664Z"
   },
   {
    "duration": 10,
    "start_time": "2023-01-27T13:21:23.817Z"
   },
   {
    "duration": 31,
    "start_time": "2023-01-27T13:21:24.139Z"
   },
   {
    "duration": 5,
    "start_time": "2023-01-27T13:21:24.312Z"
   },
   {
    "duration": 133,
    "start_time": "2023-01-27T13:21:24.631Z"
   },
   {
    "duration": 7,
    "start_time": "2023-01-27T13:21:49.268Z"
   },
   {
    "duration": 62,
    "start_time": "2023-01-27T13:21:49.436Z"
   },
   {
    "duration": 35,
    "start_time": "2023-01-27T13:21:49.640Z"
   },
   {
    "duration": 11,
    "start_time": "2023-01-27T13:21:49.770Z"
   },
   {
    "duration": 8,
    "start_time": "2023-01-27T13:21:49.928Z"
   },
   {
    "duration": 13,
    "start_time": "2023-01-27T13:21:50.980Z"
   },
   {
    "duration": 5,
    "start_time": "2023-01-27T13:21:51.413Z"
   },
   {
    "duration": 155,
    "start_time": "2023-01-27T13:21:54.771Z"
   },
   {
    "duration": 15,
    "start_time": "2023-01-27T13:22:01.253Z"
   },
   {
    "duration": 12,
    "start_time": "2023-01-27T13:22:03.574Z"
   },
   {
    "duration": 11,
    "start_time": "2023-01-27T13:22:03.915Z"
   },
   {
    "duration": 44,
    "start_time": "2023-01-27T13:22:04.165Z"
   },
   {
    "duration": 565,
    "start_time": "2023-01-27T13:22:11.830Z"
   },
   {
    "duration": 26900,
    "start_time": "2023-01-27T13:22:30.507Z"
   },
   {
    "duration": 33,
    "start_time": "2023-01-27T13:23:07.810Z"
   },
   {
    "duration": 25,
    "start_time": "2023-01-27T13:23:23.611Z"
   },
   {
    "duration": 4,
    "start_time": "2023-01-27T15:23:33.395Z"
   },
   {
    "duration": 25,
    "start_time": "2023-01-27T15:23:34.280Z"
   },
   {
    "duration": 8,
    "start_time": "2023-01-27T15:24:08.239Z"
   },
   {
    "duration": 22,
    "start_time": "2023-01-27T15:24:08.434Z"
   },
   {
    "duration": 20,
    "start_time": "2023-01-27T15:24:14.774Z"
   },
   {
    "duration": 4,
    "start_time": "2023-01-27T15:24:20.047Z"
   },
   {
    "duration": 4,
    "start_time": "2023-01-27T15:24:23.314Z"
   },
   {
    "duration": 10,
    "start_time": "2023-01-27T15:24:23.955Z"
   },
   {
    "duration": 23,
    "start_time": "2023-01-27T15:24:35.398Z"
   },
   {
    "duration": 28,
    "start_time": "2023-01-27T15:25:13.614Z"
   },
   {
    "duration": 69,
    "start_time": "2023-01-27T19:54:11.490Z"
   },
   {
    "duration": 1281,
    "start_time": "2023-01-27T19:54:16.665Z"
   },
   {
    "duration": 192,
    "start_time": "2023-01-27T19:54:17.948Z"
   },
   {
    "duration": 14,
    "start_time": "2023-01-27T19:54:20.808Z"
   },
   {
    "duration": 14,
    "start_time": "2023-01-27T19:54:21.361Z"
   },
   {
    "duration": 12,
    "start_time": "2023-01-27T19:54:21.803Z"
   },
   {
    "duration": 13,
    "start_time": "2023-01-27T19:54:24.020Z"
   },
   {
    "duration": 6,
    "start_time": "2023-01-27T19:54:26.455Z"
   },
   {
    "duration": 658,
    "start_time": "2023-01-27T19:54:28.261Z"
   },
   {
    "duration": 153,
    "start_time": "2023-01-27T19:55:27.891Z"
   },
   {
    "duration": 100,
    "start_time": "2023-01-27T19:58:55.355Z"
   },
   {
    "duration": 147,
    "start_time": "2023-01-27T19:59:06.051Z"
   },
   {
    "duration": 13,
    "start_time": "2023-01-27T19:59:08.029Z"
   },
   {
    "duration": 12,
    "start_time": "2023-01-27T19:59:08.397Z"
   },
   {
    "duration": 11,
    "start_time": "2023-01-27T19:59:08.837Z"
   },
   {
    "duration": 42,
    "start_time": "2023-01-27T19:59:09.217Z"
   },
   {
    "duration": 491,
    "start_time": "2023-01-27T19:59:11.217Z"
   },
   {
    "duration": 23316,
    "start_time": "2023-01-27T19:59:13.500Z"
   },
   {
    "duration": 79,
    "start_time": "2023-01-27T19:59:36.818Z"
   },
   {
    "duration": 35,
    "start_time": "2023-01-27T19:59:50.972Z"
   },
   {
    "duration": 11,
    "start_time": "2023-01-27T19:59:58.081Z"
   },
   {
    "duration": 13,
    "start_time": "2023-01-27T20:00:45.976Z"
   },
   {
    "duration": 173,
    "start_time": "2023-01-27T20:00:47.717Z"
   },
   {
    "duration": 39,
    "start_time": "2023-01-27T20:03:47.412Z"
   },
   {
    "duration": 592,
    "start_time": "2023-01-27T20:09:07.082Z"
   },
   {
    "duration": 33615,
    "start_time": "2023-01-27T20:10:49.377Z"
   },
   {
    "duration": 470,
    "start_time": "2023-01-27T20:14:00.932Z"
   },
   {
    "duration": 24391,
    "start_time": "2023-01-27T20:14:02.744Z"
   },
   {
    "duration": 5,
    "start_time": "2023-01-27T20:32:30.270Z"
   },
   {
    "duration": 14,
    "start_time": "2023-01-27T20:33:15.869Z"
   },
   {
    "duration": 6,
    "start_time": "2023-01-27T20:34:15.841Z"
   },
   {
    "duration": 5,
    "start_time": "2023-01-27T20:40:38.111Z"
   },
   {
    "duration": 13,
    "start_time": "2023-01-27T20:44:42.260Z"
   },
   {
    "duration": 13,
    "start_time": "2023-01-27T20:44:58.310Z"
   },
   {
    "duration": 36,
    "start_time": "2023-01-27T20:46:13.447Z"
   },
   {
    "duration": 14,
    "start_time": "2023-01-27T20:46:37.331Z"
   },
   {
    "duration": 18,
    "start_time": "2023-01-27T20:47:29.704Z"
   },
   {
    "duration": 25,
    "start_time": "2023-01-27T20:47:36.091Z"
   },
   {
    "duration": 6,
    "start_time": "2023-01-27T20:49:39.091Z"
   },
   {
    "duration": 129,
    "start_time": "2023-01-27T20:49:48.960Z"
   },
   {
    "duration": 12,
    "start_time": "2023-01-27T20:53:45.420Z"
   },
   {
    "duration": 11,
    "start_time": "2023-01-27T20:54:19.356Z"
   },
   {
    "duration": 218,
    "start_time": "2023-01-27T20:54:38.113Z"
   },
   {
    "duration": 12,
    "start_time": "2023-01-27T20:56:31.320Z"
   },
   {
    "duration": 113,
    "start_time": "2023-01-27T20:56:44.147Z"
   },
   {
    "duration": 118,
    "start_time": "2023-01-27T21:01:04.073Z"
   },
   {
    "duration": 129,
    "start_time": "2023-01-27T21:01:29.886Z"
   },
   {
    "duration": 155,
    "start_time": "2023-01-27T21:01:43.047Z"
   },
   {
    "duration": 122,
    "start_time": "2023-01-27T21:01:52.717Z"
   },
   {
    "duration": 585,
    "start_time": "2023-01-27T21:02:28.883Z"
   },
   {
    "duration": 526,
    "start_time": "2023-01-27T21:02:53.498Z"
   },
   {
    "duration": 194,
    "start_time": "2023-01-27T21:03:02.663Z"
   },
   {
    "duration": 183,
    "start_time": "2023-01-27T21:03:13.591Z"
   },
   {
    "duration": 173,
    "start_time": "2023-01-27T21:05:04.791Z"
   },
   {
    "duration": 185,
    "start_time": "2023-01-27T21:05:22.398Z"
   },
   {
    "duration": 227,
    "start_time": "2023-01-27T21:05:47.750Z"
   },
   {
    "duration": 17,
    "start_time": "2023-01-27T21:10:49.073Z"
   },
   {
    "duration": 3,
    "start_time": "2023-01-27T21:10:55.179Z"
   },
   {
    "duration": 48,
    "start_time": "2023-01-27T21:10:56.605Z"
   },
   {
    "duration": 15,
    "start_time": "2023-01-27T21:10:58.159Z"
   },
   {
    "duration": 14,
    "start_time": "2023-01-27T21:11:00.829Z"
   },
   {
    "duration": 8,
    "start_time": "2023-01-27T21:11:02.723Z"
   },
   {
    "duration": 12,
    "start_time": "2023-01-27T21:11:16.909Z"
   },
   {
    "duration": 3,
    "start_time": "2023-01-27T21:11:39.258Z"
   },
   {
    "duration": 56,
    "start_time": "2023-01-27T21:11:39.823Z"
   },
   {
    "duration": 13,
    "start_time": "2023-01-27T21:11:40.247Z"
   },
   {
    "duration": 11,
    "start_time": "2023-01-27T21:11:40.690Z"
   },
   {
    "duration": 7,
    "start_time": "2023-01-27T21:11:41.248Z"
   },
   {
    "duration": 15,
    "start_time": "2023-01-27T21:11:42.546Z"
   },
   {
    "duration": 6,
    "start_time": "2023-01-27T21:12:09.389Z"
   },
   {
    "duration": 106,
    "start_time": "2023-01-27T21:12:17.951Z"
   },
   {
    "duration": 15,
    "start_time": "2023-01-27T21:12:35.866Z"
   },
   {
    "duration": 15,
    "start_time": "2023-01-27T21:12:37.196Z"
   },
   {
    "duration": 10,
    "start_time": "2023-01-27T21:12:38.159Z"
   },
   {
    "duration": 30,
    "start_time": "2023-01-27T21:12:38.487Z"
   },
   {
    "duration": 460,
    "start_time": "2023-01-27T21:12:42.192Z"
   },
   {
    "duration": 21531,
    "start_time": "2023-01-27T21:12:45.163Z"
   },
   {
    "duration": 33,
    "start_time": "2023-01-27T21:14:13.304Z"
   },
   {
    "duration": 23,
    "start_time": "2023-01-27T21:14:17.666Z"
   },
   {
    "duration": 454,
    "start_time": "2023-01-27T21:14:18.350Z"
   },
   {
    "duration": 21610,
    "start_time": "2023-01-27T21:14:20.546Z"
   },
   {
    "duration": 5,
    "start_time": "2023-01-27T21:14:45.351Z"
   },
   {
    "duration": 10,
    "start_time": "2023-01-27T21:14:47.095Z"
   },
   {
    "duration": 568,
    "start_time": "2023-01-27T21:14:49.574Z"
   },
   {
    "duration": 31041,
    "start_time": "2023-01-27T21:14:52.411Z"
   },
   {
    "duration": 104,
    "start_time": "2023-01-27T21:15:30.288Z"
   },
   {
    "duration": 6,
    "start_time": "2023-01-27T21:15:35.827Z"
   },
   {
    "duration": 18,
    "start_time": "2023-01-27T21:15:36.308Z"
   },
   {
    "duration": 8,
    "start_time": "2023-01-27T21:15:36.850Z"
   },
   {
    "duration": 17,
    "start_time": "2023-01-27T21:15:40.849Z"
   },
   {
    "duration": 9,
    "start_time": "2023-01-27T21:15:42.050Z"
   },
   {
    "duration": 40,
    "start_time": "2023-01-27T21:15:44.452Z"
   },
   {
    "duration": 308,
    "start_time": "2023-01-27T21:15:45.377Z"
   },
   {
    "duration": 1682,
    "start_time": "2023-01-29T08:37:36.633Z"
   },
   {
    "duration": 192,
    "start_time": "2023-01-29T08:37:38.440Z"
   },
   {
    "duration": 18,
    "start_time": "2023-01-29T08:37:39.794Z"
   },
   {
    "duration": 17,
    "start_time": "2023-01-29T08:37:39.998Z"
   },
   {
    "duration": 9,
    "start_time": "2023-01-29T08:37:40.170Z"
   },
   {
    "duration": 12,
    "start_time": "2023-01-29T08:37:40.556Z"
   },
   {
    "duration": 6,
    "start_time": "2023-01-29T08:37:41.226Z"
   },
   {
    "duration": 131,
    "start_time": "2023-01-29T08:37:50.053Z"
   },
   {
    "duration": 137,
    "start_time": "2023-01-29T08:38:38.463Z"
   },
   {
    "duration": 141,
    "start_time": "2023-01-29T08:38:50.239Z"
   },
   {
    "duration": 126,
    "start_time": "2023-01-29T08:39:10.040Z"
   },
   {
    "duration": 118,
    "start_time": "2023-01-29T08:41:22.597Z"
   },
   {
    "duration": 115,
    "start_time": "2023-01-29T08:41:35.565Z"
   },
   {
    "duration": 242,
    "start_time": "2023-01-29T08:42:07.651Z"
   },
   {
    "duration": 126,
    "start_time": "2023-01-29T08:42:20.667Z"
   },
   {
    "duration": 102,
    "start_time": "2023-01-29T08:42:44.579Z"
   },
   {
    "duration": 61,
    "start_time": "2023-01-30T06:12:36.442Z"
   },
   {
    "duration": 1719,
    "start_time": "2023-01-30T06:13:55.755Z"
   },
   {
    "duration": 92,
    "start_time": "2023-01-30T06:13:57.786Z"
   },
   {
    "duration": 15,
    "start_time": "2023-01-30T06:13:57.998Z"
   },
   {
    "duration": 11,
    "start_time": "2023-01-30T06:13:58.230Z"
   },
   {
    "duration": 9,
    "start_time": "2023-01-30T06:13:58.344Z"
   },
   {
    "duration": 19,
    "start_time": "2023-01-30T06:13:58.756Z"
   },
   {
    "duration": 6,
    "start_time": "2023-01-30T06:13:59.869Z"
   },
   {
    "duration": 144,
    "start_time": "2023-01-30T06:14:00.871Z"
   },
   {
    "duration": 16,
    "start_time": "2023-01-30T06:14:05.421Z"
   },
   {
    "duration": 17,
    "start_time": "2023-01-30T06:14:05.991Z"
   },
   {
    "duration": 11,
    "start_time": "2023-01-30T06:14:07.618Z"
   },
   {
    "duration": 28,
    "start_time": "2023-01-30T06:14:29.399Z"
   },
   {
    "duration": 41,
    "start_time": "2023-01-30T06:16:08.132Z"
   },
   {
    "duration": 1281,
    "start_time": "2023-03-24T20:45:20.031Z"
   },
   {
    "duration": 97,
    "start_time": "2023-03-24T20:45:22.058Z"
   },
   {
    "duration": 15,
    "start_time": "2023-03-24T20:45:22.289Z"
   },
   {
    "duration": 14,
    "start_time": "2023-03-24T20:45:22.496Z"
   },
   {
    "duration": 8,
    "start_time": "2023-03-24T20:45:22.659Z"
   },
   {
    "duration": 11,
    "start_time": "2023-03-24T20:45:22.977Z"
   },
   {
    "duration": 4,
    "start_time": "2023-03-24T20:45:23.311Z"
   },
   {
    "duration": 110,
    "start_time": "2023-03-24T20:45:23.829Z"
   },
   {
    "duration": 22,
    "start_time": "2023-03-24T20:45:26.414Z"
   },
   {
    "duration": 10,
    "start_time": "2023-03-24T20:45:29.156Z"
   }
  ],
  "kernelspec": {
   "display_name": "Python 3 (ipykernel)",
   "language": "python",
   "name": "python3"
  },
  "language_info": {
   "codemirror_mode": {
    "name": "ipython",
    "version": 3
   },
   "file_extension": ".py",
   "mimetype": "text/x-python",
   "name": "python",
   "nbconvert_exporter": "python",
   "pygments_lexer": "ipython3",
   "version": "3.9.13"
  },
  "toc": {
   "base_numbering": 1,
   "nav_menu": {},
   "number_sections": true,
   "sideBar": true,
   "skip_h1_title": true,
   "title_cell": "Содержание",
   "title_sidebar": "Contents",
   "toc_cell": true,
   "toc_position": {
    "height": "calc(100% - 180px)",
    "left": "10px",
    "top": "150px",
    "width": "165px"
   },
   "toc_section_display": true,
   "toc_window_display": true
  }
 },
 "nbformat": 4,
 "nbformat_minor": 2
}
