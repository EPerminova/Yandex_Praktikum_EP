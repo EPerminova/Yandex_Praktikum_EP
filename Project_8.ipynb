{
 "cells": [
  {
   "cell_type": "markdown",
   "metadata": {},
   "source": [
    "# Выбор локации для скважины"
   ]
  },
  {
   "cell_type": "markdown",
   "metadata": {},
   "source": [
    "Допустим, вы работаете в добывающей компании «ГлавРосГосНефть». Нужно решить, где бурить новую скважину.\n",
    "\n",
    "Вам предоставлены пробы нефти в трёх регионах: в каждом 10 000 месторождений, где измерили качество нефти и объём её запасов. Постройте модель машинного обучения, которая поможет определить регион, где добыча принесёт наибольшую прибыль. Проанализируйте возможную прибыль и риски техникой *Bootstrap.*\n",
    "\n",
    "Шаги для выбора локации:\n",
    "\n",
    "- В избранном регионе ищут месторождения, для каждого определяют значения признаков;\n",
    "- Строят модель и оценивают объём запасов;\n",
    "- Выбирают месторождения с самым высокими оценками значений. Количество месторождений зависит от бюджета компании и стоимости разработки одной скважины;\n",
    "- Прибыль равна суммарной прибыли отобранных месторождений."
   ]
  },
  {
   "cell_type": "markdown",
   "metadata": {},
   "source": [
    "## Загрузка и подготовка данных"
   ]
  },
  {
   "cell_type": "code",
   "execution_count": 5,
   "metadata": {},
   "outputs": [],
   "source": [
    "import pandas as pd\n",
    "import numpy as np\n",
    "from sklearn.model_selection import train_test_split\n",
    "from sklearn.metrics import mean_absolute_error, mean_squared_error\n",
    "from sklearn.preprocessing import StandardScaler\n",
    "from sklearn.linear_model import LinearRegression\n",
    "\n",
    "\n",
    "from sklearn.metrics import f1_score\n",
    "from sklearn.utils import shuffle\n",
    "from sklearn.metrics import roc_curve\n",
    "from sklearn.metrics import roc_auc_score\n",
    "import matplotlib.pyplot as plt\n",
    "import warnings"
   ]
  },
  {
   "cell_type": "code",
   "execution_count": 6,
   "metadata": {},
   "outputs": [],
   "source": [
    "df0 = pd.read_csv('/datasets/geo_data_0.csv')\n",
    "df1 = pd.read_csv('/datasets/geo_data_1.csv')\n",
    "df2 = pd.read_csv('/datasets/geo_data_2.csv')"
   ]
  },
  {
   "cell_type": "code",
   "execution_count": 7,
   "metadata": {},
   "outputs": [
    {
     "data": {
      "text/html": [
       "<div>\n",
       "<style scoped>\n",
       "    .dataframe tbody tr th:only-of-type {\n",
       "        vertical-align: middle;\n",
       "    }\n",
       "\n",
       "    .dataframe tbody tr th {\n",
       "        vertical-align: top;\n",
       "    }\n",
       "\n",
       "    .dataframe thead th {\n",
       "        text-align: right;\n",
       "    }\n",
       "</style>\n",
       "<table border=\"1\" class=\"dataframe\">\n",
       "  <thead>\n",
       "    <tr style=\"text-align: right;\">\n",
       "      <th></th>\n",
       "      <th>id</th>\n",
       "      <th>f0</th>\n",
       "      <th>f1</th>\n",
       "      <th>f2</th>\n",
       "      <th>product</th>\n",
       "    </tr>\n",
       "  </thead>\n",
       "  <tbody>\n",
       "    <tr>\n",
       "      <th>0</th>\n",
       "      <td>txEyH</td>\n",
       "      <td>0.705745</td>\n",
       "      <td>-0.497823</td>\n",
       "      <td>1.221170</td>\n",
       "      <td>105.280062</td>\n",
       "    </tr>\n",
       "    <tr>\n",
       "      <th>1</th>\n",
       "      <td>2acmU</td>\n",
       "      <td>1.334711</td>\n",
       "      <td>-0.340164</td>\n",
       "      <td>4.365080</td>\n",
       "      <td>73.037750</td>\n",
       "    </tr>\n",
       "    <tr>\n",
       "      <th>2</th>\n",
       "      <td>409Wp</td>\n",
       "      <td>1.022732</td>\n",
       "      <td>0.151990</td>\n",
       "      <td>1.419926</td>\n",
       "      <td>85.265647</td>\n",
       "    </tr>\n",
       "    <tr>\n",
       "      <th>3</th>\n",
       "      <td>iJLyR</td>\n",
       "      <td>-0.032172</td>\n",
       "      <td>0.139033</td>\n",
       "      <td>2.978566</td>\n",
       "      <td>168.620776</td>\n",
       "    </tr>\n",
       "    <tr>\n",
       "      <th>4</th>\n",
       "      <td>Xdl7t</td>\n",
       "      <td>1.988431</td>\n",
       "      <td>0.155413</td>\n",
       "      <td>4.751769</td>\n",
       "      <td>154.036647</td>\n",
       "    </tr>\n",
       "  </tbody>\n",
       "</table>\n",
       "</div>"
      ],
      "text/plain": [
       "      id        f0        f1        f2     product\n",
       "0  txEyH  0.705745 -0.497823  1.221170  105.280062\n",
       "1  2acmU  1.334711 -0.340164  4.365080   73.037750\n",
       "2  409Wp  1.022732  0.151990  1.419926   85.265647\n",
       "3  iJLyR -0.032172  0.139033  2.978566  168.620776\n",
       "4  Xdl7t  1.988431  0.155413  4.751769  154.036647"
      ]
     },
     "execution_count": 7,
     "metadata": {},
     "output_type": "execute_result"
    }
   ],
   "source": [
    "df0.head()"
   ]
  },
  {
   "cell_type": "code",
   "execution_count": 8,
   "metadata": {},
   "outputs": [
    {
     "name": "stdout",
     "output_type": "stream",
     "text": [
      "<class 'pandas.core.frame.DataFrame'>\n",
      "RangeIndex: 100000 entries, 0 to 99999\n",
      "Data columns (total 5 columns):\n",
      " #   Column   Non-Null Count   Dtype  \n",
      "---  ------   --------------   -----  \n",
      " 0   id       100000 non-null  object \n",
      " 1   f0       100000 non-null  float64\n",
      " 2   f1       100000 non-null  float64\n",
      " 3   f2       100000 non-null  float64\n",
      " 4   product  100000 non-null  float64\n",
      "dtypes: float64(4), object(1)\n",
      "memory usage: 3.8+ MB\n",
      "None\n",
      "ПРОПУСКИ\n",
      "id         0\n",
      "f0         0\n",
      "f1         0\n",
      "f2         0\n",
      "product    0\n",
      "dtype: int64\n",
      "ДУБЛИКАТЫ 0\n",
      "\n",
      "<class 'pandas.core.frame.DataFrame'>\n",
      "RangeIndex: 100000 entries, 0 to 99999\n",
      "Data columns (total 5 columns):\n",
      " #   Column   Non-Null Count   Dtype  \n",
      "---  ------   --------------   -----  \n",
      " 0   id       100000 non-null  object \n",
      " 1   f0       100000 non-null  float64\n",
      " 2   f1       100000 non-null  float64\n",
      " 3   f2       100000 non-null  float64\n",
      " 4   product  100000 non-null  float64\n",
      "dtypes: float64(4), object(1)\n",
      "memory usage: 3.8+ MB\n",
      "None\n",
      "ПРОПУСКИ\n",
      "id         0\n",
      "f0         0\n",
      "f1         0\n",
      "f2         0\n",
      "product    0\n",
      "dtype: int64\n",
      "ДУБЛИКАТЫ 0\n",
      "\n",
      "<class 'pandas.core.frame.DataFrame'>\n",
      "RangeIndex: 100000 entries, 0 to 99999\n",
      "Data columns (total 5 columns):\n",
      " #   Column   Non-Null Count   Dtype  \n",
      "---  ------   --------------   -----  \n",
      " 0   id       100000 non-null  object \n",
      " 1   f0       100000 non-null  float64\n",
      " 2   f1       100000 non-null  float64\n",
      " 3   f2       100000 non-null  float64\n",
      " 4   product  100000 non-null  float64\n",
      "dtypes: float64(4), object(1)\n",
      "memory usage: 3.8+ MB\n",
      "None\n",
      "ПРОПУСКИ\n",
      "id         0\n",
      "f0         0\n",
      "f1         0\n",
      "f2         0\n",
      "product    0\n",
      "dtype: int64\n",
      "ДУБЛИКАТЫ 0\n"
     ]
    }
   ],
   "source": [
    "print(df0.info())\n",
    "print('ПРОПУСКИ')\n",
    "print(df0.isna().sum())\n",
    "print('ДУБЛИКАТЫ', df0.duplicated().sum())\n",
    "print()\n",
    "print(df1.info())\n",
    "print('ПРОПУСКИ')\n",
    "print(df1.isna().sum())\n",
    "print('ДУБЛИКАТЫ', df1.duplicated().sum())\n",
    "print()\n",
    "print(df2.info())\n",
    "print('ПРОПУСКИ')\n",
    "print(df2.isna().sum())\n",
    "print('ДУБЛИКАТЫ', df2.duplicated().sum())"
   ]
  },
  {
   "cell_type": "markdown",
   "metadata": {},
   "source": [
    "В таблицах нет пропусков и дубликатов, типы данных верны. Данные готовы к работе. "
   ]
  },
  {
   "cell_type": "markdown",
   "metadata": {},
   "source": [
    "## Обучение и проверка модели"
   ]
  },
  {
   "cell_type": "markdown",
   "metadata": {},
   "source": [
    "### Разбеение данных"
   ]
  },
  {
   "cell_type": "code",
   "execution_count": 9,
   "metadata": {},
   "outputs": [],
   "source": [
    "target_0 = df0['product']\n",
    "features_0 = df0.drop(['product', 'id'] , axis=1)\n",
    "\n",
    "target_1 = df1['product']\n",
    "features_1 = df1.drop(['product', 'id'] , axis=1)\n",
    "\n",
    "target_2 = df2['product']\n",
    "features_2 = df2.drop(['product', 'id'] , axis=1)"
   ]
  },
  {
   "cell_type": "code",
   "execution_count": 10,
   "metadata": {},
   "outputs": [],
   "source": [
    "#Разбеение данных на обучающую и валидационную выборки\n",
    "features_0_train, features_0_valid, target_0_train, target_0_valid = train_test_split(\n",
    "    features_0, target_0, test_size=0.25, random_state=12345)\n",
    "features_1_train, features_1_valid, target_1_train, target_1_valid = train_test_split(\n",
    "    features_1, target_1, test_size=0.25, random_state=12345)\n",
    "features_2_train, features_2_valid, target_2_train, target_2_valid = train_test_split(\n",
    "    features_2, target_2, test_size=0.25, random_state=12345)"
   ]
  },
  {
   "cell_type": "code",
   "execution_count": 11,
   "metadata": {},
   "outputs": [],
   "source": [
    "#маштабирование признаков\n",
    "warnings.filterwarnings('ignore')\n",
    "scaler=StandardScaler()\n",
    "scaler.fit(features_0_train)\n",
    "features_0_train = scaler.transform(features_0_train)\n",
    "features_0_valid = scaler.transform(features_0_valid)\n",
    "scaler.fit(features_1_train)\n",
    "features_1_train = scaler.transform(features_1_train)\n",
    "features_1_valid = scaler.transform(features_1_valid)\n",
    "scaler.fit(features_2_train)\n",
    "features_2_train = scaler.transform(features_2_train)\n",
    "features_2_valid = scaler.transform(features_2_valid)"
   ]
  },
  {
   "cell_type": "markdown",
   "metadata": {},
   "source": [
    "### обучение модели и предсказание"
   ]
  },
  {
   "cell_type": "markdown",
   "metadata": {},
   "source": [
    "#### регион 0"
   ]
  },
  {
   "cell_type": "code",
   "execution_count": 12,
   "metadata": {},
   "outputs": [
    {
     "name": "stdout",
     "output_type": "stream",
     "text": [
      "Mean Absolute Error: 30.919600777151313\n",
      "Mean Squared Error: 1412.2129364399243\n",
      "Root Mean Squared Error: 37.5794217150813\n"
     ]
    },
    {
     "data": {
      "text/html": [
       "<div>\n",
       "<style scoped>\n",
       "    .dataframe tbody tr th:only-of-type {\n",
       "        vertical-align: middle;\n",
       "    }\n",
       "\n",
       "    .dataframe tbody tr th {\n",
       "        vertical-align: top;\n",
       "    }\n",
       "\n",
       "    .dataframe thead th {\n",
       "        text-align: right;\n",
       "    }\n",
       "</style>\n",
       "<table border=\"1\" class=\"dataframe\">\n",
       "  <thead>\n",
       "    <tr style=\"text-align: right;\">\n",
       "      <th></th>\n",
       "      <th>Coefficient</th>\n",
       "    </tr>\n",
       "  </thead>\n",
       "  <tbody>\n",
       "    <tr>\n",
       "      <th>f0</th>\n",
       "      <td>3.132274</td>\n",
       "    </tr>\n",
       "    <tr>\n",
       "      <th>f1</th>\n",
       "      <td>-7.108177</td>\n",
       "    </tr>\n",
       "    <tr>\n",
       "      <th>f2</th>\n",
       "      <td>21.425564</td>\n",
       "    </tr>\n",
       "  </tbody>\n",
       "</table>\n",
       "</div>"
      ],
      "text/plain": [
       "    Coefficient\n",
       "f0     3.132274\n",
       "f1    -7.108177\n",
       "f2    21.425564"
      ]
     },
     "execution_count": 12,
     "metadata": {},
     "output_type": "execute_result"
    }
   ],
   "source": [
    "model_0 = LinearRegression()\n",
    "\n",
    "model_0.fit(features_0_train, target_0_train)\n",
    "predicted_valid_0 = model_0.predict(features_0_valid)\n",
    "\n",
    "print('Mean Absolute Error:', mean_absolute_error(target_0_valid, predicted_valid_0)) \n",
    "print('Mean Squared Error:', mean_squared_error(target_0_valid, predicted_valid_0)) \n",
    "print('Root Mean Squared Error:', np.sqrt(mean_squared_error(target_0_valid, predicted_valid_0)))\n",
    "\n",
    "\n",
    "#коэффициенты регрессионной модели\n",
    "coeff_0 = pd.DataFrame(model_0.coef_, features_0.columns, columns=['Coefficient'])\n",
    "coeff_0"
   ]
  },
  {
   "cell_type": "markdown",
   "metadata": {},
   "source": [
    "Регрессионная модель должна находить наиболее оптимальные коэффициенты для всех атрибутов.\n",
    "У нас при увеличении на единицу объемов запасов скважены признак f0 увеличивается на 3.1 а f2 на 21.4, признак f1 учменьшается на 7.1. Очень большой показатель средней аболютной ошибки (далек от 0,0), так же MSE, RMSE больше 0 на много. Это говорит о том что наша модель переоценена и алгоритм не был очень точным. Причиной этому скорей всего ложное предположение, что данные имеют линейную зависимость. "
   ]
  },
  {
   "cell_type": "code",
   "execution_count": 13,
   "metadata": {},
   "outputs": [
    {
     "data": {
      "text/plain": [
       "<AxesSubplot:xlabel='product'>"
      ]
     },
     "execution_count": 13,
     "metadata": {},
     "output_type": "execute_result"
    },
    {
     "data": {
      "image/png": "[encoded data removed]",
      "text/plain": [
       "<Figure size 720x432 with 1 Axes>"
      ]
     },
     "metadata": {
      "needs_background": "light"
     },
     "output_type": "display_data"
    }
   ],
   "source": [
    "df0.plot(x='product', y=['f2'], style='o', figsize=(10,6), alpha=0.2)"
   ]
  },
  {
   "cell_type": "code",
   "execution_count": 14,
   "metadata": {},
   "outputs": [
    {
     "data": {
      "text/html": [
       "<div>\n",
       "<style scoped>\n",
       "    .dataframe tbody tr th:only-of-type {\n",
       "        vertical-align: middle;\n",
       "    }\n",
       "\n",
       "    .dataframe tbody tr th {\n",
       "        vertical-align: top;\n",
       "    }\n",
       "\n",
       "    .dataframe thead th {\n",
       "        text-align: right;\n",
       "    }\n",
       "</style>\n",
       "<table border=\"1\" class=\"dataframe\">\n",
       "  <thead>\n",
       "    <tr style=\"text-align: right;\">\n",
       "      <th></th>\n",
       "      <th>f0</th>\n",
       "      <th>f1</th>\n",
       "      <th>f2</th>\n",
       "      <th>product</th>\n",
       "    </tr>\n",
       "  </thead>\n",
       "  <tbody>\n",
       "    <tr>\n",
       "      <th>f0</th>\n",
       "      <td>1.000000</td>\n",
       "      <td>-0.440723</td>\n",
       "      <td>-0.003153</td>\n",
       "      <td>0.143536</td>\n",
       "    </tr>\n",
       "    <tr>\n",
       "      <th>f1</th>\n",
       "      <td>-0.440723</td>\n",
       "      <td>1.000000</td>\n",
       "      <td>0.001724</td>\n",
       "      <td>-0.192356</td>\n",
       "    </tr>\n",
       "    <tr>\n",
       "      <th>f2</th>\n",
       "      <td>-0.003153</td>\n",
       "      <td>0.001724</td>\n",
       "      <td>1.000000</td>\n",
       "      <td>0.483663</td>\n",
       "    </tr>\n",
       "    <tr>\n",
       "      <th>product</th>\n",
       "      <td>0.143536</td>\n",
       "      <td>-0.192356</td>\n",
       "      <td>0.483663</td>\n",
       "      <td>1.000000</td>\n",
       "    </tr>\n",
       "  </tbody>\n",
       "</table>\n",
       "</div>"
      ],
      "text/plain": [
       "               f0        f1        f2   product\n",
       "f0       1.000000 -0.440723 -0.003153  0.143536\n",
       "f1      -0.440723  1.000000  0.001724 -0.192356\n",
       "f2      -0.003153  0.001724  1.000000  0.483663\n",
       "product  0.143536 -0.192356  0.483663  1.000000"
      ]
     },
     "execution_count": 14,
     "metadata": {},
     "output_type": "execute_result"
    }
   ],
   "source": [
    "df0.corr()"
   ]
  },
  {
   "cell_type": "markdown",
   "metadata": {},
   "source": [
    "    И правда линейной зависимости не прослеживается, она очень слабая, только у f2 есть слабая линейная зависимость. "
   ]
  },
  {
   "cell_type": "code",
   "execution_count": 15,
   "metadata": {},
   "outputs": [
    {
     "name": "stdout",
     "output_type": "stream",
     "text": [
      "           Actual   Predicted\n",
      "71751   10.038645   95.894952\n",
      "80493  114.551489   77.572583\n",
      "2655   132.603635   77.892640\n",
      "53233  169.072125   90.175134\n",
      "91141  122.325180   70.510088\n",
      "...           ...         ...\n",
      "12581  170.116726  103.037104\n",
      "18456   93.632175   85.403255\n",
      "73035  127.352259   61.509833\n",
      "63834   99.782700  118.180397\n",
      "43558  177.821022  118.169392\n",
      "\n",
      "[25000 rows x 2 columns]\n",
      "\n",
      "СРЕДНИЙ ЗАПАС СЫРЬЯ\n"
     ]
    },
    {
     "data": {
      "text/plain": [
       "Actual       92.078597\n",
       "Predicted    92.592568\n",
       "dtype: float64"
      ]
     },
     "execution_count": 15,
     "metadata": {},
     "output_type": "execute_result"
    }
   ],
   "source": [
    "#сравнение фактических выходные значения с прогнозируемыми значениями\n",
    "data_0 = pd.DataFrame({'Actual': target_0_valid, 'Predicted': predicted_valid_0})\n",
    "print(data_0)\n",
    "print()\n",
    "print('СРЕДНИЙ ЗАПАС СЫРЬЯ')\n",
    "data_0.mean()"
   ]
  },
  {
   "cell_type": "markdown",
   "metadata": {},
   "source": [
    "Наблюдается низкая точность прогнозов. Средние значения отличаются начиная с десятых. "
   ]
  },
  {
   "cell_type": "markdown",
   "metadata": {},
   "source": [
    "#### регион 1"
   ]
  },
  {
   "cell_type": "code",
   "execution_count": 16,
   "metadata": {},
   "outputs": [
    {
     "name": "stdout",
     "output_type": "stream",
     "text": [
      "Mean Absolute Error: 0.7187662442124758\n",
      "Mean Squared Error: 0.7976263360391157\n",
      "Root Mean Squared Error: 0.893099286775617\n"
     ]
    },
    {
     "data": {
      "text/html": [
       "<div>\n",
       "<style scoped>\n",
       "    .dataframe tbody tr th:only-of-type {\n",
       "        vertical-align: middle;\n",
       "    }\n",
       "\n",
       "    .dataframe tbody tr th {\n",
       "        vertical-align: top;\n",
       "    }\n",
       "\n",
       "    .dataframe thead th {\n",
       "        text-align: right;\n",
       "    }\n",
       "</style>\n",
       "<table border=\"1\" class=\"dataframe\">\n",
       "  <thead>\n",
       "    <tr style=\"text-align: right;\">\n",
       "      <th></th>\n",
       "      <th>Coefficient</th>\n",
       "    </tr>\n",
       "  </thead>\n",
       "  <tbody>\n",
       "    <tr>\n",
       "      <th>f0</th>\n",
       "      <td>-1.299483</td>\n",
       "    </tr>\n",
       "    <tr>\n",
       "      <th>f1</th>\n",
       "      <td>-0.112935</td>\n",
       "    </tr>\n",
       "    <tr>\n",
       "      <th>f2</th>\n",
       "      <td>45.886033</td>\n",
       "    </tr>\n",
       "  </tbody>\n",
       "</table>\n",
       "</div>"
      ],
      "text/plain": [
       "    Coefficient\n",
       "f0    -1.299483\n",
       "f1    -0.112935\n",
       "f2    45.886033"
      ]
     },
     "execution_count": 16,
     "metadata": {},
     "output_type": "execute_result"
    }
   ],
   "source": [
    "model_1 = LinearRegression()\n",
    "\n",
    "model_1.fit(features_1_train, target_1_train)\n",
    "predicted_valid_1 = model_1.predict(features_1_valid)\n",
    "\n",
    "print('Mean Absolute Error:', mean_absolute_error(target_1_valid, predicted_valid_1)) \n",
    "print('Mean Squared Error:', mean_squared_error(target_1_valid, predicted_valid_1)) \n",
    "print('Root Mean Squared Error:', np.sqrt(mean_squared_error(target_1_valid, predicted_valid_1)))\n",
    "\n",
    "\n",
    "#коэффициенты регрессионной модели\n",
    "coeff_1 = pd.DataFrame(model_1.coef_, features_1.columns, columns=['Coefficient'])\n",
    "coeff_1"
   ]
  },
  {
   "cell_type": "markdown",
   "metadata": {},
   "source": [
    "Регрессионная модель должна находить наиболее оптимальные коэффициенты для всех атрибутов. У нас при увеличении на единицу объемов запасов скважены признак f0 уменьшается на 1,2 а f1 на 0,11, признак f2 увеличивается на 45,8. Хороший показатель средней аболютной ошибки (близок 0,0), так же MSE, RMSE близко к 0. Это говорит о том что наш алгоритм достаточно точный. "
   ]
  },
  {
   "cell_type": "code",
   "execution_count": 17,
   "metadata": {},
   "outputs": [
    {
     "data": {
      "text/html": [
       "<div>\n",
       "<style scoped>\n",
       "    .dataframe tbody tr th:only-of-type {\n",
       "        vertical-align: middle;\n",
       "    }\n",
       "\n",
       "    .dataframe tbody tr th {\n",
       "        vertical-align: top;\n",
       "    }\n",
       "\n",
       "    .dataframe thead th {\n",
       "        text-align: right;\n",
       "    }\n",
       "</style>\n",
       "<table border=\"1\" class=\"dataframe\">\n",
       "  <thead>\n",
       "    <tr style=\"text-align: right;\">\n",
       "      <th></th>\n",
       "      <th>f0</th>\n",
       "      <th>f1</th>\n",
       "      <th>f2</th>\n",
       "      <th>product</th>\n",
       "    </tr>\n",
       "  </thead>\n",
       "  <tbody>\n",
       "    <tr>\n",
       "      <th>f0</th>\n",
       "      <td>1.000000</td>\n",
       "      <td>0.182287</td>\n",
       "      <td>-0.001777</td>\n",
       "      <td>-0.030491</td>\n",
       "    </tr>\n",
       "    <tr>\n",
       "      <th>f1</th>\n",
       "      <td>0.182287</td>\n",
       "      <td>1.000000</td>\n",
       "      <td>-0.002595</td>\n",
       "      <td>-0.010155</td>\n",
       "    </tr>\n",
       "    <tr>\n",
       "      <th>f2</th>\n",
       "      <td>-0.001777</td>\n",
       "      <td>-0.002595</td>\n",
       "      <td>1.000000</td>\n",
       "      <td>0.999397</td>\n",
       "    </tr>\n",
       "    <tr>\n",
       "      <th>product</th>\n",
       "      <td>-0.030491</td>\n",
       "      <td>-0.010155</td>\n",
       "      <td>0.999397</td>\n",
       "      <td>1.000000</td>\n",
       "    </tr>\n",
       "  </tbody>\n",
       "</table>\n",
       "</div>"
      ],
      "text/plain": [
       "               f0        f1        f2   product\n",
       "f0       1.000000  0.182287 -0.001777 -0.030491\n",
       "f1       0.182287  1.000000 -0.002595 -0.010155\n",
       "f2      -0.001777 -0.002595  1.000000  0.999397\n",
       "product -0.030491 -0.010155  0.999397  1.000000"
      ]
     },
     "execution_count": 17,
     "metadata": {},
     "output_type": "execute_result"
    }
   ],
   "source": [
    "df1.corr()"
   ]
  },
  {
   "cell_type": "markdown",
   "metadata": {},
   "source": [
    "Как мы видим очень хорошая корреляция у f2 с product, линейная зависимость прослеживается однозначно. "
   ]
  },
  {
   "cell_type": "code",
   "execution_count": 18,
   "metadata": {},
   "outputs": [
    {
     "data": {
      "text/plain": [
       "<AxesSubplot:xlabel='product'>"
      ]
     },
     "execution_count": 18,
     "metadata": {},
     "output_type": "execute_result"
    },
    {
     "data": {
      "image/png": "[encoded data removed]",
      "text/plain": [
       "<Figure size 720x432 with 1 Axes>"
      ]
     },
     "metadata": {
      "needs_background": "light"
     },
     "output_type": "display_data"
    }
   ],
   "source": [
    "df1.plot(x='product', y=['f2'], style='o', figsize=(10,6), alpha=0.2)"
   ]
  },
  {
   "cell_type": "code",
   "execution_count": 19,
   "metadata": {},
   "outputs": [
    {
     "name": "stdout",
     "output_type": "stream",
     "text": [
      "           Actual   Predicted\n",
      "71751   80.859783   82.663314\n",
      "80493   53.906522   54.431786\n",
      "2655    30.132364   29.748760\n",
      "53233   53.906522   53.552133\n",
      "91141    0.000000    1.243856\n",
      "...           ...         ...\n",
      "12581  137.945408  136.869211\n",
      "18456  110.992147  110.693465\n",
      "73035  137.945408  137.879341\n",
      "63834   84.038886   83.761966\n",
      "43558   53.906522   53.958466\n",
      "\n",
      "[25000 rows x 2 columns]\n",
      "\n",
      "СРЕДНИЙ ЗАПАС СЫРЬЯ\n"
     ]
    },
    {
     "data": {
      "text/plain": [
       "Actual       68.723136\n",
       "Predicted    68.728547\n",
       "dtype: float64"
      ]
     },
     "execution_count": 19,
     "metadata": {},
     "output_type": "execute_result"
    }
   ],
   "source": [
    "#сравнение фактических выходные значения с прогнозируемыми значениями\n",
    "data_1 = pd.DataFrame({'Actual': target_1_valid, 'Predicted': predicted_valid_1})\n",
    "print(data_1)\n",
    "print()\n",
    "print('СРЕДНИЙ ЗАПАС СЫРЬЯ')\n",
    "data_1.mean()"
   ]
  },
  {
   "cell_type": "markdown",
   "metadata": {},
   "source": [
    "Модель очень точно предсказывает показатель product, среднее значение табличные и предсказанные отличаются после тысячного числа, в отличии от региона 0, где отличия в числах были уже в десятых. Наблюдается высокая точность прогнозов."
   ]
  },
  {
   "cell_type": "markdown",
   "metadata": {},
   "source": [
    "#### регион 2"
   ]
  },
  {
   "cell_type": "code",
   "execution_count": 20,
   "metadata": {},
   "outputs": [
    {
     "name": "stdout",
     "output_type": "stream",
     "text": [
      "Mean Absolute Error: 32.792652105481814\n",
      "Mean Squared Error: 1602.3775813236196\n",
      "Root Mean Squared Error: 40.02970873393434\n"
     ]
    },
    {
     "data": {
      "text/html": [
       "<div>\n",
       "<style scoped>\n",
       "    .dataframe tbody tr th:only-of-type {\n",
       "        vertical-align: middle;\n",
       "    }\n",
       "\n",
       "    .dataframe tbody tr th {\n",
       "        vertical-align: top;\n",
       "    }\n",
       "\n",
       "    .dataframe thead th {\n",
       "        text-align: right;\n",
       "    }\n",
       "</style>\n",
       "<table border=\"1\" class=\"dataframe\">\n",
       "  <thead>\n",
       "    <tr style=\"text-align: right;\">\n",
       "      <th></th>\n",
       "      <th>Coefficient</th>\n",
       "    </tr>\n",
       "  </thead>\n",
       "  <tbody>\n",
       "    <tr>\n",
       "      <th>f0</th>\n",
       "      <td>0.053581</td>\n",
       "    </tr>\n",
       "    <tr>\n",
       "      <th>f1</th>\n",
       "      <td>-0.072505</td>\n",
       "    </tr>\n",
       "    <tr>\n",
       "      <th>f2</th>\n",
       "      <td>19.819652</td>\n",
       "    </tr>\n",
       "  </tbody>\n",
       "</table>\n",
       "</div>"
      ],
      "text/plain": [
       "    Coefficient\n",
       "f0     0.053581\n",
       "f1    -0.072505\n",
       "f2    19.819652"
      ]
     },
     "execution_count": 20,
     "metadata": {},
     "output_type": "execute_result"
    }
   ],
   "source": [
    "model_2 = LinearRegression()\n",
    "\n",
    "model_2.fit(features_2_train, target_2_train)\n",
    "predicted_valid_2 = model_2.predict(features_2_valid)\n",
    "\n",
    "print('Mean Absolute Error:', mean_absolute_error(target_2_valid, predicted_valid_2)) \n",
    "print('Mean Squared Error:', mean_squared_error(target_2_valid, predicted_valid_2)) \n",
    "print('Root Mean Squared Error:', np.sqrt(mean_squared_error(target_2_valid, predicted_valid_2)))\n",
    "\n",
    "\n",
    "#коэффициенты регрессионной модели\n",
    "coeff_2 = pd.DataFrame(model_2.coef_, features_2.columns, columns=['Coefficient'])\n",
    "coeff_2"
   ]
  },
  {
   "cell_type": "markdown",
   "metadata": {},
   "source": [
    "Регрессионная модель должна находить наиболее оптимальные коэффициенты для всех атрибутов. У нас при увеличении на единицу объемов запасов скважены признак f0 увеличивается на 0,05 а f2 на 19,8, признак f1 учменьшается на 0,07. Очень большой показатель средней аболютной ошибки (далек от 0,0), так же MSE, RMSE больше 0 на много. Это говорит о том что наша модель переоценена и алгоритм не был очень точным. Причиной этому скорей всего ложное предположение, что данные имеют линейную зависимость."
   ]
  },
  {
   "cell_type": "code",
   "execution_count": 21,
   "metadata": {},
   "outputs": [
    {
     "data": {
      "text/html": [
       "<div>\n",
       "<style scoped>\n",
       "    .dataframe tbody tr th:only-of-type {\n",
       "        vertical-align: middle;\n",
       "    }\n",
       "\n",
       "    .dataframe tbody tr th {\n",
       "        vertical-align: top;\n",
       "    }\n",
       "\n",
       "    .dataframe thead th {\n",
       "        text-align: right;\n",
       "    }\n",
       "</style>\n",
       "<table border=\"1\" class=\"dataframe\">\n",
       "  <thead>\n",
       "    <tr style=\"text-align: right;\">\n",
       "      <th></th>\n",
       "      <th>f0</th>\n",
       "      <th>f1</th>\n",
       "      <th>f2</th>\n",
       "      <th>product</th>\n",
       "    </tr>\n",
       "  </thead>\n",
       "  <tbody>\n",
       "    <tr>\n",
       "      <th>f0</th>\n",
       "      <td>1.000000</td>\n",
       "      <td>0.000528</td>\n",
       "      <td>-0.000448</td>\n",
       "      <td>-0.001987</td>\n",
       "    </tr>\n",
       "    <tr>\n",
       "      <th>f1</th>\n",
       "      <td>0.000528</td>\n",
       "      <td>1.000000</td>\n",
       "      <td>0.000779</td>\n",
       "      <td>-0.001012</td>\n",
       "    </tr>\n",
       "    <tr>\n",
       "      <th>f2</th>\n",
       "      <td>-0.000448</td>\n",
       "      <td>0.000779</td>\n",
       "      <td>1.000000</td>\n",
       "      <td>0.445871</td>\n",
       "    </tr>\n",
       "    <tr>\n",
       "      <th>product</th>\n",
       "      <td>-0.001987</td>\n",
       "      <td>-0.001012</td>\n",
       "      <td>0.445871</td>\n",
       "      <td>1.000000</td>\n",
       "    </tr>\n",
       "  </tbody>\n",
       "</table>\n",
       "</div>"
      ],
      "text/plain": [
       "               f0        f1        f2   product\n",
       "f0       1.000000  0.000528 -0.000448 -0.001987\n",
       "f1       0.000528  1.000000  0.000779 -0.001012\n",
       "f2      -0.000448  0.000779  1.000000  0.445871\n",
       "product -0.001987 -0.001012  0.445871  1.000000"
      ]
     },
     "execution_count": 21,
     "metadata": {},
     "output_type": "execute_result"
    }
   ],
   "source": [
    "df2.corr()"
   ]
  },
  {
   "cell_type": "markdown",
   "metadata": {},
   "source": [
    "Видно что у f2 с product корреляция чуть больше чем у f0 и f1, но до значения 0,99, как у региона 1 далеко. График это подтверждает.  "
   ]
  },
  {
   "cell_type": "code",
   "execution_count": 22,
   "metadata": {},
   "outputs": [
    {
     "data": {
      "text/plain": [
       "<AxesSubplot:xlabel='product'>"
      ]
     },
     "execution_count": 22,
     "metadata": {},
     "output_type": "execute_result"
    },
    {
     "data": {
      "image/png": "[encoded data removed]",
      "text/plain": [
       "<Figure size 720x432 with 1 Axes>"
      ]
     },
     "metadata": {
      "needs_background": "light"
     },
     "output_type": "display_data"
    }
   ],
   "source": [
    "df2.plot(x='product', y=['f2'], style='o', figsize=(10,6), alpha=0.2)"
   ]
  },
  {
   "cell_type": "code",
   "execution_count": 23,
   "metadata": {},
   "outputs": [
    {
     "name": "stdout",
     "output_type": "stream",
     "text": [
      "           Actual   Predicted\n",
      "71751   61.212375   93.599633\n",
      "80493   41.850118   75.105159\n",
      "2655    57.776581   90.066809\n",
      "53233  100.053761  105.162375\n",
      "91141  109.897122  115.303310\n",
      "...           ...         ...\n",
      "12581   28.492402   78.765887\n",
      "18456   21.431303   95.603394\n",
      "73035  125.487229   99.407281\n",
      "63834   99.422903   77.779912\n",
      "43558  127.445075  129.032417\n",
      "\n",
      "[25000 rows x 2 columns]\n",
      "\n",
      "СРЕДНИЙ ЗАПАС СЫРЬЯ\n"
     ]
    },
    {
     "data": {
      "text/plain": [
       "Actual       94.884233\n",
       "Predicted    94.965046\n",
       "dtype: float64"
      ]
     },
     "execution_count": 23,
     "metadata": {},
     "output_type": "execute_result"
    }
   ],
   "source": [
    "#сравнение фактических выходные значения с прогнозируемыми значениями\n",
    "data_2 = pd.DataFrame({'Actual': target_2_valid, 'Predicted': predicted_valid_2})\n",
    "print(data_2)\n",
    "print()\n",
    "print('СРЕДНИЙ ЗАПАС СЫРЬЯ')\n",
    "data_2.mean()"
   ]
  },
  {
   "cell_type": "markdown",
   "metadata": {},
   "source": [
    "СРедние значения различаются с десятых, как у региона 0. По данным видно, причем хорошо что можель предсказывает плохо, данные имеют большие различия с предсказанными. "
   ]
  },
  {
   "cell_type": "markdown",
   "metadata": {},
   "source": [
    "Итог: Лучше всего модель линейной регрессии предсказывает на регионе 1. Там хорошие показатели средних и абсолютной ошиьок. И видно по предсказанным данным как близко они находятся к реальным.  "
   ]
  },
  {
   "cell_type": "code",
   "execution_count": 24,
   "metadata": {},
   "outputs": [
    {
     "name": "stdout",
     "output_type": "stream",
     "text": [
      "       Actual  Predicted\n",
      "60458     0.0  -0.387515\n",
      "52697     0.0  -0.044624\n",
      "32583     0.0  -0.246723\n",
      "98899     0.0  -0.347300\n",
      "95594     0.0  -0.132285\n",
      "...       ...        ...\n",
      "68293     0.0  -0.208028\n",
      "93243     0.0  -0.436497\n",
      "25841     0.0  -0.782472\n",
      "89110     0.0  -0.247937\n",
      "68985     0.0  -0.219393\n",
      "\n",
      "[539 rows x 2 columns]\n",
      "\n"
     ]
    },
    {
     "data": {
      "text/html": [
       "<div>\n",
       "<style scoped>\n",
       "    .dataframe tbody tr th:only-of-type {\n",
       "        vertical-align: middle;\n",
       "    }\n",
       "\n",
       "    .dataframe tbody tr th {\n",
       "        vertical-align: top;\n",
       "    }\n",
       "\n",
       "    .dataframe thead th {\n",
       "        text-align: right;\n",
       "    }\n",
       "</style>\n",
       "<table border=\"1\" class=\"dataframe\">\n",
       "  <thead>\n",
       "    <tr style=\"text-align: right;\">\n",
       "      <th></th>\n",
       "      <th>Actual</th>\n",
       "      <th>Predicted</th>\n",
       "    </tr>\n",
       "  </thead>\n",
       "  <tbody>\n",
       "    <tr>\n",
       "      <th>71751</th>\n",
       "      <td>80.859783</td>\n",
       "      <td>82.663314</td>\n",
       "    </tr>\n",
       "    <tr>\n",
       "      <th>80493</th>\n",
       "      <td>53.906522</td>\n",
       "      <td>54.431786</td>\n",
       "    </tr>\n",
       "    <tr>\n",
       "      <th>2655</th>\n",
       "      <td>30.132364</td>\n",
       "      <td>29.748760</td>\n",
       "    </tr>\n",
       "    <tr>\n",
       "      <th>53233</th>\n",
       "      <td>53.906522</td>\n",
       "      <td>53.552133</td>\n",
       "    </tr>\n",
       "    <tr>\n",
       "      <th>91141</th>\n",
       "      <td>0.000000</td>\n",
       "      <td>1.243856</td>\n",
       "    </tr>\n",
       "  </tbody>\n",
       "</table>\n",
       "</div>"
      ],
      "text/plain": [
       "          Actual  Predicted\n",
       "71751  80.859783  82.663314\n",
       "80493  53.906522  54.431786\n",
       "2655   30.132364  29.748760\n",
       "53233  53.906522  53.552133\n",
       "91141   0.000000   1.243856"
      ]
     },
     "execution_count": 24,
     "metadata": {},
     "output_type": "execute_result"
    }
   ],
   "source": [
    "#Есть отрицательные предсказанные значения для региона 1 \n",
    "print(data_1[data_1['Predicted'] < 0])\n",
    "print()\n",
    "#видно что отрицательные значения появляются когда Actual 0. \n",
    "#Но отрицательных знач. не может быть, т.к. запас скважены не может уходить в минус.\n",
    "#Заменим их на 0. Это логично, если в скважене 0 объем то и по предсказаниям он должен быть 0. \n",
    "data_1.loc[data_1['Predicted'] < 0, 'Predicted'] = 0\n",
    "data_1.head()"
   ]
  },
  {
   "cell_type": "markdown",
   "metadata": {},
   "source": [
    "## Подготовка к расчёту прибыли"
   ]
  },
  {
   "cell_type": "markdown",
   "metadata": {},
   "source": [
    "на 200скважин выделяется 10млр.р. в одном регионе. На одну скважину выделяется 50мил.р. Если 1 баррель приносит 450р. Тогда примерно 111111,1 баррель должно быть в одной скважине - это и будет досаточный объем сырья для безубыточной разработки одной новой скважины. "
   ]
  },
  {
   "cell_type": "code",
   "execution_count": 25,
   "metadata": {},
   "outputs": [],
   "source": [
    "amount = 10**10\n",
    "barrel = 450000"
   ]
  },
  {
   "cell_type": "markdown",
   "metadata": {},
   "source": [
    "Если сравнивать со средним запаом в регионах то все числа меньше чем 111111 баррель. Получается запас сырья в скважинах меньше, чем точка безубыточности.\n",
    "* Среднее в скважине 0 = 92.078597 тыс.б.\n",
    "* Среднее в скважине 1 = 68.723136 тыс.б.\n",
    "* Среднее в скважине 2 = 94.884233 тыс.б."
   ]
  },
  {
   "cell_type": "markdown",
   "metadata": {},
   "source": [
    "## Расчёт прибыли"
   ]
  },
  {
   "cell_type": "code",
   "execution_count": 26,
   "metadata": {},
   "outputs": [],
   "source": [
    "#прибылm по выбранным скважинам и предсказаниям модели\n",
    "def profit(predicted, actual):\n",
    "    predicted_best = predicted.sort_values(ascending=False)\n",
    "    profit_actual = actual[predicted_best.index][:200].sum() * barrel - amount\n",
    "    profit_predict = predicted_best.sum() * barrel - amount\n",
    "    return profit_actual, profit_predict"
   ]
  },
  {
   "cell_type": "markdown",
   "metadata": {},
   "source": [
    "## Расчёт рисков "
   ]
  },
  {
   "cell_type": "code",
   "execution_count": 27,
   "metadata": {},
   "outputs": [],
   "source": [
    "state = np.random.RandomState(12345)"
   ]
  },
  {
   "cell_type": "code",
   "execution_count": 28,
   "metadata": {},
   "outputs": [],
   "source": [
    "def bootstrap(data):\n",
    "    values_actual=[]\n",
    "    values_predict=[]\n",
    "    actual = data['Actual']\n",
    "    predicted = data['Predicted']\n",
    "    \n",
    "    for i in range(1000):\n",
    "        target_sample = actual.sample(500, replace=True, random_state=state)\n",
    "        predicted_sample = predicted[target_sample.index]\n",
    "        profit_actual, profit_predict = profit(predicted_sample, target_sample)\n",
    "        values_actual.append(profit_actual)\n",
    "        values_predict.append(profit_predict)\n",
    "    \n",
    "    values_actual = pd.Series(values_actual)\n",
    "    values_predict = pd.Series(values_predict)\n",
    "    \n",
    "    mean_actual = values_actual.sum() / len(values_actual)\n",
    "    mean_predict = values_predict.sum() / len(values_predict)\n",
    "    \n",
    "    quantile_low_actual = values_actual.quantile(0.025)\n",
    "    quantile_up_actual = values_actual.quantile(0.975)\n",
    "    \n",
    "    quantile_low_predict = values_predict.quantile(0.025)\n",
    "    quantile_up_predict = values_predict.quantile(0.975)\n",
    "    \n",
    "    lesion_actual = values_actual[values_actual < 0].count() / len(values_actual) #убыток\n",
    "    lesion_predict = values_predict[values_predict < 0].count() / len(values_predict)\n",
    "    return ('ACTUAL','средняя прибыль actual:', mean_actual,\n",
    "            '95%-й доверительный интервал actual:', (quantile_low_actual, quantile_up_actual), \n",
    "            'убыток actual:', lesion_actual,\n",
    "           'PREDICT','средняя прибыль predict:', mean_predict,\n",
    "            '95%-й доверительный интервал predict:', (quantile_low_predict, quantile_up_predict), \n",
    "            'убыток predict:', lesion_predict)"
   ]
  },
  {
   "cell_type": "code",
   "execution_count": 29,
   "metadata": {},
   "outputs": [
    {
     "data": {
      "text/plain": [
       "('ACTUAL',\n",
       " 'средняя прибыль actual:',\n",
       " 425938526.91059244,\n",
       " '95%-й доверительный интервал actual:',\n",
       " (-102090094.83793654, 947976353.3583689),\n",
       " 'убыток actual:',\n",
       " 0.06,\n",
       " 'PREDICT',\n",
       " 'средняя прибыль predict:',\n",
       " 10835010714.818865,\n",
       " '95%-й доверительный интервал predict:',\n",
       " (10390103762.87162, 11286405231.783585),\n",
       " 'убыток predict:',\n",
       " 0.0)"
      ]
     },
     "execution_count": 29,
     "metadata": {},
     "output_type": "execute_result"
    }
   ],
   "source": [
    "bootstrap(data_0)"
   ]
  },
  {
   "cell_type": "code",
   "execution_count": 30,
   "metadata": {},
   "outputs": [
    {
     "data": {
      "text/plain": [
       "('ACTUAL',\n",
       " 'средняя прибыль actual:',\n",
       " 518259493.6973249,\n",
       " '95%-й доверительный интервал actual:',\n",
       " (128123231.43308444, 953612982.0669085),\n",
       " 'убыток actual:',\n",
       " 0.003,\n",
       " 'PREDICT',\n",
       " 'средняя прибыль predict:',\n",
       " 5484872853.625756,\n",
       " '95%-й доверительный интервал predict:',\n",
       " (4603164684.383744, 6412617141.447488),\n",
       " 'убыток predict:',\n",
       " 0.0)"
      ]
     },
     "execution_count": 30,
     "metadata": {},
     "output_type": "execute_result"
    }
   ],
   "source": [
    "bootstrap(data_1)"
   ]
  },
  {
   "cell_type": "code",
   "execution_count": 31,
   "metadata": {},
   "outputs": [
    {
     "data": {
      "text/plain": [
       "('ACTUAL',\n",
       " 'средняя прибыль actual:',\n",
       " 420194005.3440501,\n",
       " '95%-й доверительный интервал actual:',\n",
       " (-115852609.16001143, 989629939.8445739),\n",
       " 'убыток actual:',\n",
       " 0.062,\n",
       " 'PREDICT',\n",
       " 'средняя прибыль predict:',\n",
       " 11363458457.133598,\n",
       " '95%-й доверительный интервал predict:',\n",
       " (11017604873.174583, 11745577856.646103),\n",
       " 'убыток predict:',\n",
       " 0.0)"
      ]
     },
     "execution_count": 31,
     "metadata": {},
     "output_type": "execute_result"
    }
   ],
   "source": [
    "bootstrap(data_2)"
   ]
  },
  {
   "cell_type": "markdown",
   "metadata": {},
   "source": [
    "По данным результатам видно, что и по предсказанным данным модели и по целевым лучший регион номер 1 (по условию регион 2). Так как у него самая большая прибыль, процент убытков самый низки 0,3%. 95% доверительный интервал (128123231.43308444, 953612982.0669085). Стоит отметить что модель лучше всего предсказывает как раз для региона 1. "
   ]
  },
  {
   "cell_type": "markdown",
   "metadata": {},
   "source": [
    "## Чек-лист готовности проекта"
   ]
  },
  {
   "cell_type": "markdown",
   "metadata": {},
   "source": [
    "- [x]  Jupyter Notebook открыт\n",
    "- [ ]  Весь код выполняется без ошибок\n",
    "- [ ]  Ячейки с кодом расположены в порядке исполнения\n",
    "- [ ]  Выполнен шаг 1: данные подготовлены\n",
    "- [ ]  Выполнен шаг 2: модели обучены и проверены\n",
    "    - [ ]  Данные корректно разбиты на обучающую и валидационную выборки\n",
    "    - [ ]  Модели обучены, предсказания сделаны\n",
    "    - [ ]  Предсказания и правильные ответы на валидационной выборке сохранены\n",
    "    - [ ]  На экране напечатаны результаты\n",
    "    - [ ]  Сделаны выводы\n",
    "- [ ]  Выполнен шаг 3: проведена подготовка к расчёту прибыли\n",
    "    - [ ]  Для всех ключевых значений созданы константы Python\n",
    "    - [ ]  Посчитано минимальное среднее количество продукта в месторождениях региона, достаточное для разработки\n",
    "    - [ ]  По предыдущему пункту сделаны выводы\n",
    "    - [ ]  Написана функция расчёта прибыли\n",
    "- [ ]  Выполнен шаг 4: посчитаны риски и прибыль\n",
    "    - [ ]  Проведена процедура *Bootstrap*\n",
    "    - [ ]  Все параметры бутстрепа соответствуют условию\n",
    "    - [ ]  Найдены все нужные величины\n",
    "    - [ ]  Предложен регион для разработки месторождения\n",
    "    - [ ]  Выбор региона обоснован"
   ]
  },
  {
   "cell_type": "code",
   "execution_count": null,
   "metadata": {},
   "outputs": [],
   "source": []
  }
 ],
 "metadata": {
  "ExecuteTimeLog": [
   {
    "duration": 1480,
    "start_time": "2023-02-08T05:58:57.706Z"
   },
   {
    "duration": 912,
    "start_time": "2023-02-08T05:58:59.189Z"
   },
   {
    "duration": 15,
    "start_time": "2023-02-08T06:01:04.135Z"
   },
   {
    "duration": 117,
    "start_time": "2023-02-08T06:01:21.116Z"
   },
   {
    "duration": 15,
    "start_time": "2023-02-08T06:01:27.215Z"
   },
   {
    "duration": 10,
    "start_time": "2023-02-08T06:01:41.900Z"
   },
   {
    "duration": 55,
    "start_time": "2023-02-08T06:02:32.626Z"
   },
   {
    "duration": 10,
    "start_time": "2023-02-08T06:02:39.266Z"
   },
   {
    "duration": 46,
    "start_time": "2023-02-08T06:03:06.996Z"
   },
   {
    "duration": 184,
    "start_time": "2023-02-08T06:04:41.584Z"
   },
   {
    "duration": 172,
    "start_time": "2023-02-08T06:05:42.654Z"
   },
   {
    "duration": 179,
    "start_time": "2023-02-08T06:06:37.845Z"
   },
   {
    "duration": 10,
    "start_time": "2023-02-08T06:10:28.510Z"
   },
   {
    "duration": 29,
    "start_time": "2023-02-08T06:13:02.414Z"
   },
   {
    "duration": 35,
    "start_time": "2023-02-08T06:15:11.028Z"
   },
   {
    "duration": 11,
    "start_time": "2023-02-08T06:20:47.569Z"
   },
   {
    "duration": 22,
    "start_time": "2023-02-08T06:21:02.677Z"
   },
   {
    "duration": 39,
    "start_time": "2023-02-08T06:21:07.281Z"
   },
   {
    "duration": 35,
    "start_time": "2023-02-08T06:25:53.882Z"
   },
   {
    "duration": 14,
    "start_time": "2023-02-08T06:26:13.827Z"
   },
   {
    "duration": 32,
    "start_time": "2023-02-08T06:26:21.479Z"
   },
   {
    "duration": 29,
    "start_time": "2023-02-08T06:26:50.437Z"
   },
   {
    "duration": 3,
    "start_time": "2023-02-08T06:32:16.529Z"
   },
   {
    "duration": 109,
    "start_time": "2023-02-08T07:58:23.002Z"
   },
   {
    "duration": 3,
    "start_time": "2023-02-08T07:59:23.603Z"
   },
   {
    "duration": 19,
    "start_time": "2023-02-08T07:59:29.482Z"
   },
   {
    "duration": 3,
    "start_time": "2023-02-08T08:10:44.514Z"
   },
   {
    "duration": 10,
    "start_time": "2023-02-08T08:10:53.736Z"
   },
   {
    "duration": 7,
    "start_time": "2023-02-08T08:13:21.228Z"
   },
   {
    "duration": 10,
    "start_time": "2023-02-08T08:13:34.667Z"
   },
   {
    "duration": 10,
    "start_time": "2023-02-08T08:14:08.678Z"
   },
   {
    "duration": 12,
    "start_time": "2023-02-08T08:14:22.505Z"
   },
   {
    "duration": 391,
    "start_time": "2023-02-08T08:44:14.773Z"
   },
   {
    "duration": 367,
    "start_time": "2023-02-08T08:46:46.448Z"
   },
   {
    "duration": 356,
    "start_time": "2023-02-08T08:46:51.354Z"
   },
   {
    "duration": 15,
    "start_time": "2023-02-08T08:49:11.447Z"
   },
   {
    "duration": 357,
    "start_time": "2023-02-08T08:54:50.662Z"
   },
   {
    "duration": 46,
    "start_time": "2023-02-08T08:55:46.027Z"
   },
   {
    "duration": 43,
    "start_time": "2023-02-08T08:55:52.182Z"
   },
   {
    "duration": 55,
    "start_time": "2023-02-08T08:55:55.363Z"
   },
   {
    "duration": 403,
    "start_time": "2023-02-08T08:57:25.818Z"
   },
   {
    "duration": 419,
    "start_time": "2023-02-08T08:57:38.334Z"
   },
   {
    "duration": 43,
    "start_time": "2023-02-08T08:58:41.418Z"
   },
   {
    "duration": 399,
    "start_time": "2023-02-08T08:58:49.201Z"
   },
   {
    "duration": 495,
    "start_time": "2023-02-08T08:58:57.137Z"
   },
   {
    "duration": 432,
    "start_time": "2023-02-08T08:59:09.855Z"
   },
   {
    "duration": 425,
    "start_time": "2023-02-08T08:59:14.677Z"
   },
   {
    "duration": 638,
    "start_time": "2023-02-08T08:59:40.416Z"
   },
   {
    "duration": 968,
    "start_time": "2023-02-08T09:01:44.148Z"
   },
   {
    "duration": 767,
    "start_time": "2023-02-08T09:02:22.632Z"
   },
   {
    "duration": 419,
    "start_time": "2023-02-08T09:41:50.939Z"
   },
   {
    "duration": 398,
    "start_time": "2023-02-08T09:41:58.193Z"
   },
   {
    "duration": 65,
    "start_time": "2023-02-08T09:54:05.047Z"
   },
   {
    "duration": 14,
    "start_time": "2023-02-08T09:57:30.637Z"
   },
   {
    "duration": 374,
    "start_time": "2023-02-08T09:58:40.905Z"
   },
   {
    "duration": 382,
    "start_time": "2023-02-08T09:58:46.351Z"
   },
   {
    "duration": 448,
    "start_time": "2023-02-08T09:59:00.699Z"
   },
   {
    "duration": 391,
    "start_time": "2023-02-08T09:59:08.480Z"
   },
   {
    "duration": 11,
    "start_time": "2023-02-08T09:59:51.459Z"
   },
   {
    "duration": 48,
    "start_time": "2023-02-08T10:06:31.061Z"
   },
   {
    "duration": 15,
    "start_time": "2023-02-08T10:06:38.707Z"
   },
   {
    "duration": 406,
    "start_time": "2023-02-08T10:08:18.993Z"
   },
   {
    "duration": 444,
    "start_time": "2023-02-08T10:08:32.971Z"
   },
   {
    "duration": 390,
    "start_time": "2023-02-08T10:08:38.898Z"
   },
   {
    "duration": 407,
    "start_time": "2023-02-08T10:08:43.799Z"
   },
   {
    "duration": 10,
    "start_time": "2023-02-08T10:09:36.981Z"
   },
   {
    "duration": 16,
    "start_time": "2023-02-08T10:13:17.340Z"
   },
   {
    "duration": 47,
    "start_time": "2023-02-08T10:16:42.455Z"
   },
   {
    "duration": 19,
    "start_time": "2023-02-08T10:21:18.933Z"
   },
   {
    "duration": 5,
    "start_time": "2023-02-08T10:21:30.714Z"
   },
   {
    "duration": 11,
    "start_time": "2023-02-08T10:21:37.586Z"
   },
   {
    "duration": 9,
    "start_time": "2023-02-08T10:21:44.708Z"
   },
   {
    "duration": 13,
    "start_time": "2023-02-08T10:21:54.219Z"
   },
   {
    "duration": 9,
    "start_time": "2023-02-08T10:22:08.737Z"
   },
   {
    "duration": 10,
    "start_time": "2023-02-08T10:22:39.161Z"
   },
   {
    "duration": 4,
    "start_time": "2023-02-08T10:22:50.838Z"
   },
   {
    "duration": 335,
    "start_time": "2023-02-08T10:22:51.012Z"
   },
   {
    "duration": 9,
    "start_time": "2023-02-08T10:22:51.349Z"
   },
   {
    "duration": 180,
    "start_time": "2023-02-08T10:22:51.360Z"
   },
   {
    "duration": 8,
    "start_time": "2023-02-08T10:22:52.037Z"
   },
   {
    "duration": 22,
    "start_time": "2023-02-08T10:22:52.200Z"
   },
   {
    "duration": 26,
    "start_time": "2023-02-08T10:22:52.374Z"
   },
   {
    "duration": 22,
    "start_time": "2023-02-08T10:22:52.892Z"
   },
   {
    "duration": 424,
    "start_time": "2023-02-08T10:22:53.258Z"
   },
   {
    "duration": 15,
    "start_time": "2023-02-08T10:22:53.684Z"
   },
   {
    "duration": 11,
    "start_time": "2023-02-08T10:22:53.801Z"
   },
   {
    "duration": 19,
    "start_time": "2023-02-08T10:22:54.377Z"
   },
   {
    "duration": 15,
    "start_time": "2023-02-08T10:22:54.747Z"
   },
   {
    "duration": 383,
    "start_time": "2023-02-08T10:22:55.257Z"
   },
   {
    "duration": 10,
    "start_time": "2023-02-08T10:22:55.642Z"
   },
   {
    "duration": 19,
    "start_time": "2023-02-08T10:22:56.436Z"
   },
   {
    "duration": 15,
    "start_time": "2023-02-08T10:22:57.945Z"
   },
   {
    "duration": 397,
    "start_time": "2023-02-08T10:22:58.832Z"
   },
   {
    "duration": 11,
    "start_time": "2023-02-08T10:22:59.279Z"
   },
   {
    "duration": 14,
    "start_time": "2023-02-08T10:23:00.973Z"
   },
   {
    "duration": 1455,
    "start_time": "2023-02-08T20:57:30.549Z"
   },
   {
    "duration": 1491,
    "start_time": "2023-02-08T20:57:32.006Z"
   },
   {
    "duration": 13,
    "start_time": "2023-02-08T20:57:33.499Z"
   },
   {
    "duration": 169,
    "start_time": "2023-02-08T20:57:33.514Z"
   },
   {
    "duration": 9,
    "start_time": "2023-02-08T20:57:33.684Z"
   },
   {
    "duration": 30,
    "start_time": "2023-02-08T20:57:33.695Z"
   },
   {
    "duration": 43,
    "start_time": "2023-02-08T20:57:33.727Z"
   },
   {
    "duration": 179,
    "start_time": "2023-02-08T20:57:33.771Z"
   },
   {
    "duration": 514,
    "start_time": "2023-02-08T20:57:33.953Z"
   },
   {
    "duration": 14,
    "start_time": "2023-02-08T20:57:34.469Z"
   },
   {
    "duration": 11,
    "start_time": "2023-02-08T20:57:34.484Z"
   },
   {
    "duration": 55,
    "start_time": "2023-02-08T20:57:34.496Z"
   },
   {
    "duration": 99,
    "start_time": "2023-02-08T20:57:34.553Z"
   },
   {
    "duration": 347,
    "start_time": "2023-02-08T20:57:34.781Z"
   },
   {
    "duration": 20,
    "start_time": "2023-02-08T20:57:35.130Z"
   },
   {
    "duration": 63,
    "start_time": "2023-02-08T20:57:35.491Z"
   },
   {
    "duration": 15,
    "start_time": "2023-02-08T20:57:35.874Z"
   },
   {
    "duration": 347,
    "start_time": "2023-02-08T20:57:36.607Z"
   },
   {
    "duration": 10,
    "start_time": "2023-02-08T20:57:36.956Z"
   },
   {
    "duration": 12,
    "start_time": "2023-02-08T20:57:37.359Z"
   },
   {
    "duration": 103,
    "start_time": "2023-02-08T20:57:39.025Z"
   },
   {
    "duration": 5,
    "start_time": "2023-02-08T20:59:09.100Z"
   },
   {
    "duration": 9,
    "start_time": "2023-02-08T21:00:00.779Z"
   },
   {
    "duration": 9,
    "start_time": "2023-02-08T21:01:36.460Z"
   },
   {
    "duration": 12,
    "start_time": "2023-02-08T21:02:01.869Z"
   },
   {
    "duration": 50,
    "start_time": "2023-02-09T11:14:41.352Z"
   },
   {
    "duration": 1564,
    "start_time": "2023-02-09T11:14:49.098Z"
   },
   {
    "duration": 1501,
    "start_time": "2023-02-09T11:14:50.665Z"
   },
   {
    "duration": 14,
    "start_time": "2023-02-09T11:14:52.168Z"
   },
   {
    "duration": 170,
    "start_time": "2023-02-09T11:14:52.197Z"
   },
   {
    "duration": 8,
    "start_time": "2023-02-09T11:14:54.814Z"
   },
   {
    "duration": 39,
    "start_time": "2023-02-09T11:14:56.666Z"
   },
   {
    "duration": 30,
    "start_time": "2023-02-09T11:14:57.413Z"
   },
   {
    "duration": 38,
    "start_time": "2023-02-09T11:14:58.761Z"
   },
   {
    "duration": 438,
    "start_time": "2023-02-09T11:14:59.106Z"
   },
   {
    "duration": 15,
    "start_time": "2023-02-09T11:14:59.547Z"
   },
   {
    "duration": 11,
    "start_time": "2023-02-09T11:14:59.653Z"
   },
   {
    "duration": 27,
    "start_time": "2023-02-09T11:15:00.181Z"
   },
   {
    "duration": 14,
    "start_time": "2023-02-09T11:15:00.551Z"
   },
   {
    "duration": 364,
    "start_time": "2023-02-09T11:15:00.903Z"
   },
   {
    "duration": 25,
    "start_time": "2023-02-09T11:15:01.269Z"
   },
   {
    "duration": 19,
    "start_time": "2023-02-09T11:15:01.639Z"
   },
   {
    "duration": 13,
    "start_time": "2023-02-09T11:15:02.024Z"
   },
   {
    "duration": 406,
    "start_time": "2023-02-09T11:15:02.375Z"
   },
   {
    "duration": 11,
    "start_time": "2023-02-09T11:15:02.795Z"
   },
   {
    "duration": 14,
    "start_time": "2023-02-09T11:15:03.130Z"
   },
   {
    "duration": 12,
    "start_time": "2023-02-09T11:15:04.424Z"
   },
   {
    "duration": 13,
    "start_time": "2023-02-09T11:15:30.902Z"
   },
   {
    "duration": 8,
    "start_time": "2023-02-09T11:18:02.569Z"
   },
   {
    "duration": 9,
    "start_time": "2023-02-09T11:19:05.463Z"
   },
   {
    "duration": 22,
    "start_time": "2023-02-09T11:26:05.875Z"
   },
   {
    "duration": 77,
    "start_time": "2023-02-09T11:37:28.664Z"
   },
   {
    "duration": 9,
    "start_time": "2023-02-09T11:39:07.005Z"
   },
   {
    "duration": 4,
    "start_time": "2023-02-09T11:39:13.599Z"
   },
   {
    "duration": 3,
    "start_time": "2023-02-09T11:43:10.955Z"
   },
   {
    "duration": 736,
    "start_time": "2023-02-09T11:43:10.961Z"
   },
   {
    "duration": 9,
    "start_time": "2023-02-09T11:43:12.227Z"
   },
   {
    "duration": 193,
    "start_time": "2023-02-09T11:43:12.237Z"
   },
   {
    "duration": 8,
    "start_time": "2023-02-09T11:43:12.432Z"
   },
   {
    "duration": 51,
    "start_time": "2023-02-09T11:43:12.441Z"
   },
   {
    "duration": 28,
    "start_time": "2023-02-09T11:43:12.494Z"
   },
   {
    "duration": 85,
    "start_time": "2023-02-09T11:43:12.798Z"
   },
   {
    "duration": 441,
    "start_time": "2023-02-09T11:43:13.167Z"
   },
   {
    "duration": 17,
    "start_time": "2023-02-09T11:43:13.611Z"
   },
   {
    "duration": 11,
    "start_time": "2023-02-09T11:43:13.739Z"
   },
   {
    "duration": 18,
    "start_time": "2023-02-09T11:43:14.248Z"
   },
   {
    "duration": 15,
    "start_time": "2023-02-09T11:43:14.628Z"
   },
   {
    "duration": 400,
    "start_time": "2023-02-09T11:43:14.995Z"
   },
   {
    "duration": 11,
    "start_time": "2023-02-09T11:43:15.398Z"
   },
   {
    "duration": 19,
    "start_time": "2023-02-09T11:43:15.905Z"
   },
   {
    "duration": 17,
    "start_time": "2023-02-09T11:43:16.321Z"
   },
   {
    "duration": 398,
    "start_time": "2023-02-09T11:43:16.727Z"
   },
   {
    "duration": 10,
    "start_time": "2023-02-09T11:43:17.126Z"
   },
   {
    "duration": 19,
    "start_time": "2023-02-09T11:43:17.579Z"
   },
   {
    "duration": 6,
    "start_time": "2023-02-09T11:45:31.243Z"
   },
   {
    "duration": 6,
    "start_time": "2023-02-09T12:19:16.436Z"
   },
   {
    "duration": 7,
    "start_time": "2023-02-09T12:20:49.278Z"
   },
   {
    "duration": 1418,
    "start_time": "2023-02-10T08:01:07.896Z"
   },
   {
    "duration": 1805,
    "start_time": "2023-02-10T08:01:09.316Z"
   },
   {
    "duration": 14,
    "start_time": "2023-02-10T08:01:11.123Z"
   },
   {
    "duration": 168,
    "start_time": "2023-02-10T08:01:11.139Z"
   },
   {
    "duration": 8,
    "start_time": "2023-02-10T08:01:11.309Z"
   },
   {
    "duration": 37,
    "start_time": "2023-02-10T08:01:11.319Z"
   },
   {
    "duration": 33,
    "start_time": "2023-02-10T08:01:11.357Z"
   },
   {
    "duration": 180,
    "start_time": "2023-02-10T08:01:11.391Z"
   },
   {
    "duration": 519,
    "start_time": "2023-02-10T08:01:11.573Z"
   },
   {
    "duration": 15,
    "start_time": "2023-02-10T08:01:12.095Z"
   },
   {
    "duration": 15,
    "start_time": "2023-02-10T08:01:12.112Z"
   },
   {
    "duration": 41,
    "start_time": "2023-02-10T08:01:12.128Z"
   },
   {
    "duration": 113,
    "start_time": "2023-02-10T08:01:12.172Z"
   },
   {
    "duration": 370,
    "start_time": "2023-02-10T08:01:12.287Z"
   },
   {
    "duration": 17,
    "start_time": "2023-02-10T08:01:12.659Z"
   },
   {
    "duration": 107,
    "start_time": "2023-02-10T08:01:13.062Z"
   },
   {
    "duration": 14,
    "start_time": "2023-02-10T08:01:13.335Z"
   },
   {
    "duration": 374,
    "start_time": "2023-02-10T08:01:13.718Z"
   },
   {
    "duration": 11,
    "start_time": "2023-02-10T08:01:14.095Z"
   },
   {
    "duration": 14,
    "start_time": "2023-02-10T08:01:14.598Z"
   },
   {
    "duration": 3,
    "start_time": "2023-02-10T08:01:16.342Z"
   },
   {
    "duration": 3,
    "start_time": "2023-02-10T08:01:20.434Z"
   },
   {
    "duration": 8,
    "start_time": "2023-02-10T08:31:08.355Z"
   },
   {
    "duration": 12,
    "start_time": "2023-02-10T08:34:49.498Z"
   },
   {
    "duration": 6,
    "start_time": "2023-02-10T08:39:36.556Z"
   },
   {
    "duration": 8,
    "start_time": "2023-02-10T08:39:53.598Z"
   },
   {
    "duration": 10,
    "start_time": "2023-02-10T08:40:12.596Z"
   },
   {
    "duration": 15,
    "start_time": "2023-02-10T08:40:32.359Z"
   },
   {
    "duration": 2,
    "start_time": "2023-02-10T08:47:21.551Z"
   },
   {
    "duration": 3,
    "start_time": "2023-02-10T08:47:22.370Z"
   },
   {
    "duration": 97,
    "start_time": "2023-02-10T08:47:23.599Z"
   },
   {
    "duration": 6,
    "start_time": "2023-02-10T08:47:29.436Z"
   },
   {
    "duration": 3,
    "start_time": "2023-02-10T08:47:46.127Z"
   },
   {
    "duration": 7,
    "start_time": "2023-02-10T08:47:47.765Z"
   },
   {
    "duration": 1475,
    "start_time": "2023-02-10T10:42:56.640Z"
   },
   {
    "duration": 1786,
    "start_time": "2023-02-10T10:42:58.116Z"
   },
   {
    "duration": 13,
    "start_time": "2023-02-10T10:42:59.904Z"
   },
   {
    "duration": 173,
    "start_time": "2023-02-10T10:42:59.919Z"
   },
   {
    "duration": 9,
    "start_time": "2023-02-10T10:43:00.093Z"
   },
   {
    "duration": 60,
    "start_time": "2023-02-10T10:43:00.103Z"
   },
   {
    "duration": 29,
    "start_time": "2023-02-10T10:43:00.165Z"
   },
   {
    "duration": 177,
    "start_time": "2023-02-10T10:43:00.196Z"
   },
   {
    "duration": 545,
    "start_time": "2023-02-10T10:43:00.375Z"
   },
   {
    "duration": 21,
    "start_time": "2023-02-10T10:43:00.923Z"
   },
   {
    "duration": 16,
    "start_time": "2023-02-10T10:43:00.946Z"
   },
   {
    "duration": 104,
    "start_time": "2023-02-10T10:43:00.966Z"
   },
   {
    "duration": 36,
    "start_time": "2023-02-10T10:43:01.169Z"
   },
   {
    "duration": 445,
    "start_time": "2023-02-10T10:43:01.565Z"
   },
   {
    "duration": 9,
    "start_time": "2023-02-10T10:43:02.012Z"
   },
   {
    "duration": 78,
    "start_time": "2023-02-10T10:43:02.291Z"
   },
   {
    "duration": 14,
    "start_time": "2023-02-10T10:43:02.678Z"
   },
   {
    "duration": 377,
    "start_time": "2023-02-10T10:43:03.041Z"
   },
   {
    "duration": 12,
    "start_time": "2023-02-10T10:43:03.420Z"
   },
   {
    "duration": 15,
    "start_time": "2023-02-10T10:43:03.839Z"
   },
   {
    "duration": 191,
    "start_time": "2023-02-10T10:43:04.814Z"
   },
   {
    "duration": 3,
    "start_time": "2023-02-10T10:43:25.905Z"
   },
   {
    "duration": 3,
    "start_time": "2023-02-10T10:43:29.542Z"
   },
   {
    "duration": 2,
    "start_time": "2023-02-10T11:22:10.623Z"
   },
   {
    "duration": 5,
    "start_time": "2023-02-10T11:22:10.927Z"
   },
   {
    "duration": 111,
    "start_time": "2023-02-10T11:26:02.431Z"
   },
   {
    "duration": 14,
    "start_time": "2023-02-10T11:27:41.867Z"
   },
   {
    "duration": 4,
    "start_time": "2023-02-10T11:27:48.953Z"
   },
   {
    "duration": 3,
    "start_time": "2023-02-10T11:27:49.880Z"
   },
   {
    "duration": 4,
    "start_time": "2023-02-10T11:27:50.298Z"
   },
   {
    "duration": 13,
    "start_time": "2023-02-10T11:27:50.899Z"
   },
   {
    "duration": 4,
    "start_time": "2023-02-10T11:30:08.124Z"
   },
   {
    "duration": 3,
    "start_time": "2023-02-10T11:31:33.512Z"
   },
   {
    "duration": 2,
    "start_time": "2023-02-10T11:31:34.295Z"
   },
   {
    "duration": 6,
    "start_time": "2023-02-10T11:31:34.913Z"
   },
   {
    "duration": 16,
    "start_time": "2023-02-10T11:31:35.569Z"
   },
   {
    "duration": 5,
    "start_time": "2023-02-10T11:56:30.766Z"
   },
   {
    "duration": 7,
    "start_time": "2023-02-10T11:56:32.647Z"
   },
   {
    "duration": 6,
    "start_time": "2023-02-10T12:06:37.234Z"
   },
   {
    "duration": 6,
    "start_time": "2023-02-10T12:06:38.535Z"
   },
   {
    "duration": 5,
    "start_time": "2023-02-10T12:13:31.293Z"
   },
   {
    "duration": 9,
    "start_time": "2023-02-10T12:13:31.804Z"
   },
   {
    "duration": 92,
    "start_time": "2023-02-10T12:13:41.642Z"
   },
   {
    "duration": 8,
    "start_time": "2023-02-10T12:13:42.251Z"
   },
   {
    "duration": 5,
    "start_time": "2023-02-10T12:14:03.360Z"
   },
   {
    "duration": 8,
    "start_time": "2023-02-10T12:14:05.857Z"
   },
   {
    "duration": 8,
    "start_time": "2023-02-10T12:16:56.656Z"
   },
   {
    "duration": 9,
    "start_time": "2023-02-10T12:16:56.961Z"
   },
   {
    "duration": 7,
    "start_time": "2023-02-10T12:17:19.135Z"
   },
   {
    "duration": 9,
    "start_time": "2023-02-10T12:17:19.682Z"
   },
   {
    "duration": 7,
    "start_time": "2023-02-10T12:17:21.805Z"
   },
   {
    "duration": 11,
    "start_time": "2023-02-10T12:17:22.076Z"
   },
   {
    "duration": 7,
    "start_time": "2023-02-10T12:17:23.633Z"
   },
   {
    "duration": 10,
    "start_time": "2023-02-10T12:17:23.823Z"
   },
   {
    "duration": 4,
    "start_time": "2023-02-10T12:18:04.587Z"
   },
   {
    "duration": 477,
    "start_time": "2023-02-10T12:18:04.761Z"
   },
   {
    "duration": 12,
    "start_time": "2023-02-10T12:18:05.241Z"
   },
   {
    "duration": 216,
    "start_time": "2023-02-10T12:18:05.255Z"
   },
   {
    "duration": 7,
    "start_time": "2023-02-10T12:18:05.823Z"
   },
   {
    "duration": 26,
    "start_time": "2023-02-10T12:18:06.003Z"
   },
   {
    "duration": 32,
    "start_time": "2023-02-10T12:18:06.193Z"
   },
   {
    "duration": 58,
    "start_time": "2023-02-10T12:18:06.725Z"
   },
   {
    "duration": 422,
    "start_time": "2023-02-10T12:18:07.094Z"
   },
   {
    "duration": 17,
    "start_time": "2023-02-10T12:18:07.518Z"
   },
   {
    "duration": 11,
    "start_time": "2023-02-10T12:18:07.637Z"
   },
   {
    "duration": 71,
    "start_time": "2023-02-10T12:18:08.197Z"
   },
   {
    "duration": 14,
    "start_time": "2023-02-10T12:18:08.547Z"
   },
   {
    "duration": 348,
    "start_time": "2023-02-10T12:18:08.947Z"
   },
   {
    "duration": 10,
    "start_time": "2023-02-10T12:18:09.296Z"
   },
   {
    "duration": 184,
    "start_time": "2023-02-10T12:18:09.688Z"
   },
   {
    "duration": 19,
    "start_time": "2023-02-10T12:18:10.059Z"
   },
   {
    "duration": 445,
    "start_time": "2023-02-10T12:18:10.791Z"
   },
   {
    "duration": 12,
    "start_time": "2023-02-10T12:18:11.281Z"
   },
   {
    "duration": 16,
    "start_time": "2023-02-10T12:18:16.060Z"
   },
   {
    "duration": 4,
    "start_time": "2023-02-10T12:18:18.481Z"
   },
   {
    "duration": 3,
    "start_time": "2023-02-10T12:18:19.450Z"
   },
   {
    "duration": 8,
    "start_time": "2023-02-10T12:18:21.441Z"
   },
   {
    "duration": 9,
    "start_time": "2023-02-10T12:18:22.302Z"
   },
   {
    "duration": 79,
    "start_time": "2023-02-10T12:20:00.734Z"
   },
   {
    "duration": 4,
    "start_time": "2023-02-10T12:20:10.299Z"
   },
   {
    "duration": 404,
    "start_time": "2023-02-10T12:20:10.474Z"
   },
   {
    "duration": 9,
    "start_time": "2023-02-10T12:20:10.880Z"
   },
   {
    "duration": 199,
    "start_time": "2023-02-10T12:20:11.163Z"
   },
   {
    "duration": 9,
    "start_time": "2023-02-10T12:20:11.882Z"
   },
   {
    "duration": 26,
    "start_time": "2023-02-10T12:20:12.075Z"
   },
   {
    "duration": 27,
    "start_time": "2023-02-10T12:20:12.265Z"
   },
   {
    "duration": 42,
    "start_time": "2023-02-10T12:20:12.830Z"
   },
   {
    "duration": 435,
    "start_time": "2023-02-10T12:20:13.213Z"
   },
   {
    "duration": 27,
    "start_time": "2023-02-10T12:20:13.650Z"
   },
   {
    "duration": 14,
    "start_time": "2023-02-10T12:20:13.780Z"
   },
   {
    "duration": 208,
    "start_time": "2023-02-10T12:20:14.366Z"
   },
   {
    "duration": 27,
    "start_time": "2023-02-10T12:20:14.773Z"
   },
   {
    "duration": 385,
    "start_time": "2023-02-10T12:20:15.367Z"
   },
   {
    "duration": 18,
    "start_time": "2023-02-10T12:20:15.753Z"
   },
   {
    "duration": 92,
    "start_time": "2023-02-10T12:20:16.176Z"
   },
   {
    "duration": 15,
    "start_time": "2023-02-10T12:20:16.593Z"
   },
   {
    "duration": 377,
    "start_time": "2023-02-10T12:20:17.120Z"
   },
   {
    "duration": 12,
    "start_time": "2023-02-10T12:20:17.500Z"
   },
   {
    "duration": 13,
    "start_time": "2023-02-10T12:20:17.890Z"
   },
   {
    "duration": 4,
    "start_time": "2023-02-10T12:20:18.967Z"
   },
   {
    "duration": 3,
    "start_time": "2023-02-10T12:20:20.477Z"
   },
   {
    "duration": 8,
    "start_time": "2023-02-10T12:20:22.394Z"
   },
   {
    "duration": 12,
    "start_time": "2023-02-10T12:20:23.455Z"
   },
   {
    "duration": 12,
    "start_time": "2023-02-10T12:20:24.174Z"
   },
   {
    "duration": 12,
    "start_time": "2023-02-10T12:20:24.846Z"
   },
   {
    "duration": 7,
    "start_time": "2023-02-10T12:22:50.385Z"
   },
   {
    "duration": 9,
    "start_time": "2023-02-10T12:22:50.660Z"
   },
   {
    "duration": 4,
    "start_time": "2023-02-10T12:23:08.850Z"
   },
   {
    "duration": 377,
    "start_time": "2023-02-10T12:23:09.022Z"
   },
   {
    "duration": 10,
    "start_time": "2023-02-10T12:23:09.401Z"
   },
   {
    "duration": 175,
    "start_time": "2023-02-10T12:23:09.413Z"
   },
   {
    "duration": 6,
    "start_time": "2023-02-10T12:23:10.083Z"
   },
   {
    "duration": 25,
    "start_time": "2023-02-10T12:23:10.272Z"
   },
   {
    "duration": 25,
    "start_time": "2023-02-10T12:23:10.437Z"
   },
   {
    "duration": 82,
    "start_time": "2023-02-10T12:23:10.999Z"
   },
   {
    "duration": 393,
    "start_time": "2023-02-10T12:23:11.360Z"
   },
   {
    "duration": 22,
    "start_time": "2023-02-10T12:23:11.755Z"
   },
   {
    "duration": 9,
    "start_time": "2023-02-10T12:23:11.927Z"
   },
   {
    "duration": 35,
    "start_time": "2023-02-10T12:23:12.536Z"
   },
   {
    "duration": 14,
    "start_time": "2023-02-10T12:23:12.843Z"
   },
   {
    "duration": 365,
    "start_time": "2023-02-10T12:23:13.221Z"
   },
   {
    "duration": 11,
    "start_time": "2023-02-10T12:23:13.588Z"
   },
   {
    "duration": 23,
    "start_time": "2023-02-10T12:23:13.956Z"
   },
   {
    "duration": 18,
    "start_time": "2023-02-10T12:23:14.340Z"
   },
   {
    "duration": 382,
    "start_time": "2023-02-10T12:23:14.708Z"
   },
   {
    "duration": 10,
    "start_time": "2023-02-10T12:23:15.092Z"
   },
   {
    "duration": 17,
    "start_time": "2023-02-10T12:23:15.511Z"
   },
   {
    "duration": 4,
    "start_time": "2023-02-10T12:23:16.711Z"
   },
   {
    "duration": 2,
    "start_time": "2023-02-10T12:23:17.094Z"
   },
   {
    "duration": 5,
    "start_time": "2023-02-10T12:23:17.307Z"
   },
   {
    "duration": 1091,
    "start_time": "2023-02-10T12:23:19.396Z"
   },
   {
    "duration": 1090,
    "start_time": "2023-02-10T12:23:26.730Z"
   },
   {
    "duration": 1058,
    "start_time": "2023-02-10T12:23:28.831Z"
   },
   {
    "duration": 7,
    "start_time": "2023-02-10T12:24:05.038Z"
   },
   {
    "duration": 1174,
    "start_time": "2023-02-10T12:24:05.630Z"
   },
   {
    "duration": 1274,
    "start_time": "2023-02-10T12:24:06.806Z"
   },
   {
    "duration": 1232,
    "start_time": "2023-02-10T12:24:08.082Z"
   },
   {
    "duration": 6,
    "start_time": "2023-02-10T12:25:55.371Z"
   },
   {
    "duration": 1190,
    "start_time": "2023-02-10T12:25:56.442Z"
   },
   {
    "duration": 6,
    "start_time": "2023-02-10T12:26:13.687Z"
   },
   {
    "duration": 1222,
    "start_time": "2023-02-10T12:26:14.123Z"
   },
   {
    "duration": 6,
    "start_time": "2023-02-10T12:26:30.279Z"
   },
   {
    "duration": 1125,
    "start_time": "2023-02-10T12:26:30.949Z"
   },
   {
    "duration": 1177,
    "start_time": "2023-02-10T12:26:32.179Z"
   },
   {
    "duration": 1200,
    "start_time": "2023-02-10T12:26:33.358Z"
   },
   {
    "duration": 8,
    "start_time": "2023-02-10T12:28:39.116Z"
   },
   {
    "duration": 1095,
    "start_time": "2023-02-10T12:28:39.316Z"
   },
   {
    "duration": 1105,
    "start_time": "2023-02-10T12:28:40.413Z"
   },
   {
    "duration": 1083,
    "start_time": "2023-02-10T12:28:41.520Z"
   },
   {
    "duration": 5,
    "start_time": "2023-02-10T12:28:55.909Z"
   },
   {
    "duration": 1156,
    "start_time": "2023-02-10T12:28:56.115Z"
   },
   {
    "duration": 1170,
    "start_time": "2023-02-10T12:28:57.273Z"
   },
   {
    "duration": 1145,
    "start_time": "2023-02-10T12:28:58.445Z"
   },
   {
    "duration": 2935,
    "start_time": "2023-02-10T21:09:01.754Z"
   },
   {
    "duration": 967,
    "start_time": "2023-02-10T21:09:04.692Z"
   },
   {
    "duration": 14,
    "start_time": "2023-02-10T21:09:05.661Z"
   },
   {
    "duration": 202,
    "start_time": "2023-02-10T21:09:05.677Z"
   },
   {
    "duration": 10,
    "start_time": "2023-02-10T21:09:05.882Z"
   },
   {
    "duration": 52,
    "start_time": "2023-02-10T21:09:05.894Z"
   },
   {
    "duration": 35,
    "start_time": "2023-02-10T21:09:05.948Z"
   },
   {
    "duration": 157,
    "start_time": "2023-02-10T21:09:05.985Z"
   },
   {
    "duration": 488,
    "start_time": "2023-02-10T21:09:06.144Z"
   },
   {
    "duration": 19,
    "start_time": "2023-02-10T21:09:06.635Z"
   },
   {
    "duration": 15,
    "start_time": "2023-02-10T21:09:06.657Z"
   },
   {
    "duration": 167,
    "start_time": "2023-02-10T21:09:06.675Z"
   },
   {
    "duration": 17,
    "start_time": "2023-02-10T21:09:06.844Z"
   },
   {
    "duration": 533,
    "start_time": "2023-02-10T21:09:06.864Z"
   },
   {
    "duration": 12,
    "start_time": "2023-02-10T21:09:07.399Z"
   },
   {
    "duration": 227,
    "start_time": "2023-02-10T21:09:07.412Z"
   },
   {
    "duration": 21,
    "start_time": "2023-02-10T21:09:07.642Z"
   },
   {
    "duration": 430,
    "start_time": "2023-02-10T21:09:07.665Z"
   },
   {
    "duration": 17,
    "start_time": "2023-02-10T21:09:08.098Z"
   },
   {
    "duration": 37,
    "start_time": "2023-02-10T21:09:08.117Z"
   },
   {
    "duration": 8,
    "start_time": "2023-02-10T21:09:08.156Z"
   },
   {
    "duration": 16,
    "start_time": "2023-02-10T21:09:08.166Z"
   },
   {
    "duration": 11,
    "start_time": "2023-02-10T21:09:08.184Z"
   },
   {
    "duration": 1422,
    "start_time": "2023-02-10T21:09:08.197Z"
   },
   {
    "duration": 1329,
    "start_time": "2023-02-10T21:09:09.621Z"
   },
   {
    "duration": 1287,
    "start_time": "2023-02-10T21:09:10.952Z"
   },
   {
    "duration": 4,
    "start_time": "2023-02-10T21:12:53.171Z"
   },
   {
    "duration": 4,
    "start_time": "2023-02-10T21:12:54.113Z"
   },
   {
    "duration": 8,
    "start_time": "2023-02-10T21:12:54.269Z"
   },
   {
    "duration": 1360,
    "start_time": "2023-02-10T21:12:54.782Z"
   },
   {
    "duration": 1409,
    "start_time": "2023-02-10T21:12:56.144Z"
   },
   {
    "duration": 1529,
    "start_time": "2023-02-10T21:12:57.555Z"
   },
   {
    "duration": 11,
    "start_time": "2023-02-11T06:42:46.281Z"
   },
   {
    "duration": 2,
    "start_time": "2023-02-11T06:46:24.543Z"
   },
   {
    "duration": 5,
    "start_time": "2023-02-11T06:47:20.049Z"
   },
   {
    "duration": 3,
    "start_time": "2023-02-11T06:48:02.890Z"
   },
   {
    "duration": 1621,
    "start_time": "2023-02-11T06:57:54.951Z"
   },
   {
    "duration": 1658,
    "start_time": "2023-02-11T06:57:56.574Z"
   },
   {
    "duration": 23,
    "start_time": "2023-02-11T06:57:58.235Z"
   },
   {
    "duration": 221,
    "start_time": "2023-02-11T06:57:58.260Z"
   },
   {
    "duration": 9,
    "start_time": "2023-02-11T06:57:58.483Z"
   },
   {
    "duration": 51,
    "start_time": "2023-02-11T06:57:58.494Z"
   },
   {
    "duration": 35,
    "start_time": "2023-02-11T06:57:58.547Z"
   },
   {
    "duration": 159,
    "start_time": "2023-02-11T06:57:58.583Z"
   },
   {
    "duration": 610,
    "start_time": "2023-02-11T06:57:58.745Z"
   },
   {
    "duration": 23,
    "start_time": "2023-02-11T06:57:59.358Z"
   },
   {
    "duration": 15,
    "start_time": "2023-02-11T06:57:59.384Z"
   },
   {
    "duration": 48,
    "start_time": "2023-02-11T06:57:59.897Z"
   },
   {
    "duration": 15,
    "start_time": "2023-02-11T06:58:00.219Z"
   },
   {
    "duration": 409,
    "start_time": "2023-02-11T06:58:00.570Z"
   },
   {
    "duration": 11,
    "start_time": "2023-02-11T06:58:00.981Z"
   },
   {
    "duration": 106,
    "start_time": "2023-02-11T06:58:01.231Z"
   },
   {
    "duration": 18,
    "start_time": "2023-02-11T06:58:01.613Z"
   },
   {
    "duration": 419,
    "start_time": "2023-02-11T06:58:01.952Z"
   },
   {
    "duration": 10,
    "start_time": "2023-02-11T06:58:02.373Z"
   },
   {
    "duration": 16,
    "start_time": "2023-02-11T06:58:03.461Z"
   },
   {
    "duration": 3,
    "start_time": "2023-02-11T06:58:05.023Z"
   },
   {
    "duration": 11,
    "start_time": "2023-02-11T06:58:07.235Z"
   },
   {
    "duration": 4,
    "start_time": "2023-02-11T06:58:10.553Z"
   },
   {
    "duration": 7,
    "start_time": "2023-02-11T06:58:12.325Z"
   },
   {
    "duration": 1551,
    "start_time": "2023-02-11T06:58:16.369Z"
   },
   {
    "duration": 1531,
    "start_time": "2023-02-11T06:58:18.766Z"
   },
   {
    "duration": 1557,
    "start_time": "2023-02-11T06:58:20.861Z"
   }
  ],
  "kernelspec": {
   "display_name": "Python 3 (ipykernel)",
   "language": "python",
   "name": "python3"
  },
  "language_info": {
   "codemirror_mode": {
    "name": "ipython",
    "version": 3
   },
   "file_extension": ".py",
   "mimetype": "text/x-python",
   "name": "python",
   "nbconvert_exporter": "python",
   "pygments_lexer": "ipython3",
   "version": "3.9.13"
  },
  "toc": {
   "base_numbering": 1,
   "nav_menu": {},
   "number_sections": true,
   "sideBar": true,
   "skip_h1_title": true,
   "title_cell": "Table of Contents",
   "title_sidebar": "Contents",
   "toc_cell": false,
   "toc_position": {
    "height": "calc(100% - 180px)",
    "left": "10px",
    "top": "150px",
    "width": "255.391px"
   },
   "toc_section_display": true,
   "toc_window_display": true
  }
 },
 "nbformat": 4,
 "nbformat_minor": 2
}
