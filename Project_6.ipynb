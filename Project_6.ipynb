{
 "cells": [
  {
   "cell_type": "markdown",
   "metadata": {},
   "source": [
    "# Рекомендация тарифов"
   ]
  },
  {
   "cell_type": "markdown",
   "metadata": {},
   "source": [
    "В вашем распоряжении данные о поведении клиентов, которые уже перешли на эти тарифы (из проекта курса «Статистический анализ данных»). Нужно построить модель для задачи классификации, которая выберет подходящий тариф. Предобработка данных не понадобится — вы её уже сделали.\n",
    "\n",
    "Постройте модель с максимально большим значением *accuracy*. Чтобы сдать проект успешно, нужно довести долю правильных ответов по крайней мере до 0.75. Проверьте *accuracy* на тестовой выборке самостоятельно.\n",
    "\n",
    "    сalls — количество звонков,\n",
    "    minutes — суммарная длительность звонков в минутах,\n",
    "    messages — количество sms-сообщений,\n",
    "    mb_used — израсходованный интернет-трафик в Мб,\n",
    "    is_ultra — каким тарифом пользовался в течение месяца («Ультра» — 1, «Смарт» — 0)."
   ]
  },
  {
   "cell_type": "markdown",
   "metadata": {},
   "source": [
    "## Откройте и изучите файл"
   ]
  },
  {
   "cell_type": "code",
   "execution_count": 14,
   "metadata": {},
   "outputs": [],
   "source": [
    "#Библиотеки\n",
    "import pandas as pd\n",
    "from sklearn.model_selection import train_test_split\n",
    "from sklearn.tree import DecisionTreeClassifier\n",
    "from sklearn.ensemble import RandomForestClassifier\n",
    "from sklearn.linear_model import LogisticRegression \n",
    "from sklearn.metrics import accuracy_score\n",
    "#from sklearn.metrics import mean_squared_error, r2_score, median_absolute_error\n",
    "#from sklearn.dummy import DummyRegressor\n",
    "from sklearn.dummy import DummyClassifier\n",
    "from sklearn.neighbors import KNeighborsClassifier\n",
    "from tqdm import tqdm\n",
    "import matplotlib.pyplot as plt"
   ]
  },
  {
   "cell_type": "code",
   "execution_count": 2,
   "metadata": {},
   "outputs": [
    {
     "data": {
      "text/html": [
       "<div>\n",
       "<style scoped>\n",
       "    .dataframe tbody tr th:only-of-type {\n",
       "        vertical-align: middle;\n",
       "    }\n",
       "\n",
       "    .dataframe tbody tr th {\n",
       "        vertical-align: top;\n",
       "    }\n",
       "\n",
       "    .dataframe thead th {\n",
       "        text-align: right;\n",
       "    }\n",
       "</style>\n",
       "<table border=\"1\" class=\"dataframe\">\n",
       "  <thead>\n",
       "    <tr style=\"text-align: right;\">\n",
       "      <th></th>\n",
       "      <th>calls</th>\n",
       "      <th>minutes</th>\n",
       "      <th>messages</th>\n",
       "      <th>mb_used</th>\n",
       "      <th>is_ultra</th>\n",
       "    </tr>\n",
       "  </thead>\n",
       "  <tbody>\n",
       "    <tr>\n",
       "      <th>0</th>\n",
       "      <td>40.0</td>\n",
       "      <td>311.90</td>\n",
       "      <td>83.0</td>\n",
       "      <td>19915.42</td>\n",
       "      <td>0</td>\n",
       "    </tr>\n",
       "    <tr>\n",
       "      <th>1</th>\n",
       "      <td>85.0</td>\n",
       "      <td>516.75</td>\n",
       "      <td>56.0</td>\n",
       "      <td>22696.96</td>\n",
       "      <td>0</td>\n",
       "    </tr>\n",
       "    <tr>\n",
       "      <th>2</th>\n",
       "      <td>77.0</td>\n",
       "      <td>467.66</td>\n",
       "      <td>86.0</td>\n",
       "      <td>21060.45</td>\n",
       "      <td>0</td>\n",
       "    </tr>\n",
       "    <tr>\n",
       "      <th>3</th>\n",
       "      <td>106.0</td>\n",
       "      <td>745.53</td>\n",
       "      <td>81.0</td>\n",
       "      <td>8437.39</td>\n",
       "      <td>1</td>\n",
       "    </tr>\n",
       "    <tr>\n",
       "      <th>4</th>\n",
       "      <td>66.0</td>\n",
       "      <td>418.74</td>\n",
       "      <td>1.0</td>\n",
       "      <td>14502.75</td>\n",
       "      <td>0</td>\n",
       "    </tr>\n",
       "  </tbody>\n",
       "</table>\n",
       "</div>"
      ],
      "text/plain": [
       "   calls  minutes  messages   mb_used  is_ultra\n",
       "0   40.0   311.90      83.0  19915.42         0\n",
       "1   85.0   516.75      56.0  22696.96         0\n",
       "2   77.0   467.66      86.0  21060.45         0\n",
       "3  106.0   745.53      81.0   8437.39         1\n",
       "4   66.0   418.74       1.0  14502.75         0"
      ]
     },
     "execution_count": 2,
     "metadata": {},
     "output_type": "execute_result"
    }
   ],
   "source": [
    "df = pd.read_csv('/datasets/users_behavior.csv')\n",
    "df.head()"
   ]
  },
  {
   "cell_type": "code",
   "execution_count": 3,
   "metadata": {
    "scrolled": true
   },
   "outputs": [
    {
     "name": "stdout",
     "output_type": "stream",
     "text": [
      "<class 'pandas.core.frame.DataFrame'>\n",
      "RangeIndex: 3214 entries, 0 to 3213\n",
      "Data columns (total 5 columns):\n",
      " #   Column    Non-Null Count  Dtype  \n",
      "---  ------    --------------  -----  \n",
      " 0   calls     3214 non-null   float64\n",
      " 1   minutes   3214 non-null   float64\n",
      " 2   messages  3214 non-null   float64\n",
      " 3   mb_used   3214 non-null   float64\n",
      " 4   is_ultra  3214 non-null   int64  \n",
      "dtypes: float64(4), int64(1)\n",
      "memory usage: 125.7 KB\n"
     ]
    }
   ],
   "source": [
    "df.info()"
   ]
  },
  {
   "cell_type": "code",
   "execution_count": 4,
   "metadata": {},
   "outputs": [
    {
     "data": {
      "text/plain": [
       "0"
      ]
     },
     "execution_count": 4,
     "metadata": {},
     "output_type": "execute_result"
    }
   ],
   "source": [
    "df.duplicated().sum()"
   ]
  },
  {
   "cell_type": "code",
   "execution_count": 5,
   "metadata": {},
   "outputs": [],
   "source": [
    "df.calls = df.calls.astype(\"int\")\n",
    "df.messages = df.messages.astype(\"int\")"
   ]
  },
  {
   "cell_type": "markdown",
   "metadata": {},
   "source": [
    "Так как количество звонков и сообщений не может быть вещественны числом, превели данные колонки в целый тип данны. "
   ]
  },
  {
   "cell_type": "code",
   "execution_count": 6,
   "metadata": {},
   "outputs": [
    {
     "data": {
      "text/html": [
       "<div>\n",
       "<style scoped>\n",
       "    .dataframe tbody tr th:only-of-type {\n",
       "        vertical-align: middle;\n",
       "    }\n",
       "\n",
       "    .dataframe tbody tr th {\n",
       "        vertical-align: top;\n",
       "    }\n",
       "\n",
       "    .dataframe thead th {\n",
       "        text-align: right;\n",
       "    }\n",
       "</style>\n",
       "<table border=\"1\" class=\"dataframe\">\n",
       "  <thead>\n",
       "    <tr style=\"text-align: right;\">\n",
       "      <th></th>\n",
       "      <th>calls</th>\n",
       "      <th>minutes</th>\n",
       "      <th>messages</th>\n",
       "      <th>mb_used</th>\n",
       "      <th>is_ultra</th>\n",
       "    </tr>\n",
       "  </thead>\n",
       "  <tbody>\n",
       "    <tr>\n",
       "      <th>count</th>\n",
       "      <td>3214.000000</td>\n",
       "      <td>3214.000000</td>\n",
       "      <td>3214.000000</td>\n",
       "      <td>3214.000000</td>\n",
       "      <td>3214.000000</td>\n",
       "    </tr>\n",
       "    <tr>\n",
       "      <th>mean</th>\n",
       "      <td>63.038892</td>\n",
       "      <td>438.208787</td>\n",
       "      <td>38.281269</td>\n",
       "      <td>17207.673836</td>\n",
       "      <td>0.306472</td>\n",
       "    </tr>\n",
       "    <tr>\n",
       "      <th>std</th>\n",
       "      <td>33.236368</td>\n",
       "      <td>234.569872</td>\n",
       "      <td>36.148326</td>\n",
       "      <td>7570.968246</td>\n",
       "      <td>0.461100</td>\n",
       "    </tr>\n",
       "    <tr>\n",
       "      <th>min</th>\n",
       "      <td>0.000000</td>\n",
       "      <td>0.000000</td>\n",
       "      <td>0.000000</td>\n",
       "      <td>0.000000</td>\n",
       "      <td>0.000000</td>\n",
       "    </tr>\n",
       "    <tr>\n",
       "      <th>25%</th>\n",
       "      <td>40.000000</td>\n",
       "      <td>274.575000</td>\n",
       "      <td>9.000000</td>\n",
       "      <td>12491.902500</td>\n",
       "      <td>0.000000</td>\n",
       "    </tr>\n",
       "    <tr>\n",
       "      <th>50%</th>\n",
       "      <td>62.000000</td>\n",
       "      <td>430.600000</td>\n",
       "      <td>30.000000</td>\n",
       "      <td>16943.235000</td>\n",
       "      <td>0.000000</td>\n",
       "    </tr>\n",
       "    <tr>\n",
       "      <th>75%</th>\n",
       "      <td>82.000000</td>\n",
       "      <td>571.927500</td>\n",
       "      <td>57.000000</td>\n",
       "      <td>21424.700000</td>\n",
       "      <td>1.000000</td>\n",
       "    </tr>\n",
       "    <tr>\n",
       "      <th>max</th>\n",
       "      <td>244.000000</td>\n",
       "      <td>1632.060000</td>\n",
       "      <td>224.000000</td>\n",
       "      <td>49745.730000</td>\n",
       "      <td>1.000000</td>\n",
       "    </tr>\n",
       "  </tbody>\n",
       "</table>\n",
       "</div>"
      ],
      "text/plain": [
       "             calls      minutes     messages       mb_used     is_ultra\n",
       "count  3214.000000  3214.000000  3214.000000   3214.000000  3214.000000\n",
       "mean     63.038892   438.208787    38.281269  17207.673836     0.306472\n",
       "std      33.236368   234.569872    36.148326   7570.968246     0.461100\n",
       "min       0.000000     0.000000     0.000000      0.000000     0.000000\n",
       "25%      40.000000   274.575000     9.000000  12491.902500     0.000000\n",
       "50%      62.000000   430.600000    30.000000  16943.235000     0.000000\n",
       "75%      82.000000   571.927500    57.000000  21424.700000     1.000000\n",
       "max     244.000000  1632.060000   224.000000  49745.730000     1.000000"
      ]
     },
     "execution_count": 6,
     "metadata": {},
     "output_type": "execute_result"
    }
   ],
   "source": [
    "df.describe()"
   ]
  },
  {
   "cell_type": "code",
   "execution_count": 7,
   "metadata": {},
   "outputs": [
    {
     "data": {
      "text/html": [
       "<div>\n",
       "<style scoped>\n",
       "    .dataframe tbody tr th:only-of-type {\n",
       "        vertical-align: middle;\n",
       "    }\n",
       "\n",
       "    .dataframe tbody tr th {\n",
       "        vertical-align: top;\n",
       "    }\n",
       "\n",
       "    .dataframe thead th {\n",
       "        text-align: right;\n",
       "    }\n",
       "</style>\n",
       "<table border=\"1\" class=\"dataframe\">\n",
       "  <thead>\n",
       "    <tr style=\"text-align: right;\">\n",
       "      <th></th>\n",
       "      <th>calls</th>\n",
       "      <th>minutes</th>\n",
       "      <th>messages</th>\n",
       "      <th>mb_used</th>\n",
       "      <th>is_ultra</th>\n",
       "    </tr>\n",
       "  </thead>\n",
       "  <tbody>\n",
       "    <tr>\n",
       "      <th>calls</th>\n",
       "      <td>1.000000</td>\n",
       "      <td>0.982083</td>\n",
       "      <td>0.177385</td>\n",
       "      <td>0.286442</td>\n",
       "      <td>0.207122</td>\n",
       "    </tr>\n",
       "    <tr>\n",
       "      <th>minutes</th>\n",
       "      <td>0.982083</td>\n",
       "      <td>1.000000</td>\n",
       "      <td>0.173110</td>\n",
       "      <td>0.280967</td>\n",
       "      <td>0.206955</td>\n",
       "    </tr>\n",
       "    <tr>\n",
       "      <th>messages</th>\n",
       "      <td>0.177385</td>\n",
       "      <td>0.173110</td>\n",
       "      <td>1.000000</td>\n",
       "      <td>0.195721</td>\n",
       "      <td>0.203830</td>\n",
       "    </tr>\n",
       "    <tr>\n",
       "      <th>mb_used</th>\n",
       "      <td>0.286442</td>\n",
       "      <td>0.280967</td>\n",
       "      <td>0.195721</td>\n",
       "      <td>1.000000</td>\n",
       "      <td>0.198568</td>\n",
       "    </tr>\n",
       "    <tr>\n",
       "      <th>is_ultra</th>\n",
       "      <td>0.207122</td>\n",
       "      <td>0.206955</td>\n",
       "      <td>0.203830</td>\n",
       "      <td>0.198568</td>\n",
       "      <td>1.000000</td>\n",
       "    </tr>\n",
       "  </tbody>\n",
       "</table>\n",
       "</div>"
      ],
      "text/plain": [
       "             calls   minutes  messages   mb_used  is_ultra\n",
       "calls     1.000000  0.982083  0.177385  0.286442  0.207122\n",
       "minutes   0.982083  1.000000  0.173110  0.280967  0.206955\n",
       "messages  0.177385  0.173110  1.000000  0.195721  0.203830\n",
       "mb_used   0.286442  0.280967  0.195721  1.000000  0.198568\n",
       "is_ultra  0.207122  0.206955  0.203830  0.198568  1.000000"
      ]
     },
     "execution_count": 7,
     "metadata": {},
     "output_type": "execute_result"
    }
   ],
   "source": [
    "df.corr()"
   ]
  },
  {
   "cell_type": "markdown",
   "metadata": {},
   "source": [
    "Мультиколлинеарность возникает, когда в модели множественной регрессии есть две или более независимых переменных, которые имеют между собой высокую корреляцию. Мультиколлинеарность может быть обнаружена с помощью различных методов, одним из которых является фактор инфляции дисперсии ( VIF )."
   ]
  },
  {
   "cell_type": "code",
   "execution_count": 8,
   "metadata": {},
   "outputs": [
    {
     "name": "stdout",
     "output_type": "stream",
     "text": [
      "    feature         VIF\n",
      "0     calls  129.355144\n",
      "1   minutes  126.502139\n",
      "2  messages    2.236643\n",
      "3   mb_used    4.467798\n",
      "4  is_ultra    1.577978\n"
     ]
    }
   ],
   "source": [
    "from statsmodels.stats.outliers_influence import variance_inflation_factor\n",
    "X = df[[ 'calls', 'minutes' , 'messages' , 'mb_used', 'is_ultra' ]]\n",
    "\n",
    "vif_data = pd.DataFrame()\n",
    "vif_data[ \"feature\" ] = X.columns\n",
    "\n",
    "vif_data[ \"VIF\" ] = [variance_inflation_factor(X.values, i)\n",
    "for i in range ( len (X.columns))]\n",
    "\n",
    "print (vif_data)"
   ]
  },
  {
   "cell_type": "markdown",
   "metadata": {},
   "source": [
    "Про мультиколлинеарность, раньше не знала, выше то что смогла найти, но до коца не поняла верно или нет. Увидела большую корреляцию между минутами и звонками, что походу и подтврдило фактор инфляции дисперсии ( VIF ). Можешь пояснить правильно я поняла и сделала или нет...? И не поняла что ты имел под этим преложением:  Можно еще отдельно проверить датасет на сбалансированность классов в таргете. "
   ]
  },
  {
   "cell_type": "markdown",
   "metadata": {},
   "source": [
    "## Разбейте данные на выборки"
   ]
  },
  {
   "cell_type": "markdown",
   "metadata": {},
   "source": [
    "Разделим исходные данные на обучающую, валидационную и тестовую выборки. 60% - train set,\n",
    "20% - validation set,\n",
    "20% - test set"
   ]
  },
  {
   "cell_type": "code",
   "execution_count": 9,
   "metadata": {},
   "outputs": [],
   "source": [
    "features = df.drop(['is_ultra'], axis=1)\n",
    "target = df['is_ultra']"
   ]
  },
  {
   "cell_type": "code",
   "execution_count": 10,
   "metadata": {},
   "outputs": [
    {
     "name": "stdout",
     "output_type": "stream",
     "text": [
      "Количество строк в features_train: (1928, 4)\n",
      "Количество строк в target_train: (1928,)\n"
     ]
    }
   ],
   "source": [
    "features_train, features_test, target_train, target_test = train_test_split(\n",
    "    features, target, test_size=0.4, random_state=12345, stratify=target)\n",
    "print(f\"Количество строк в features_train: {features_train.shape}\")\n",
    "print(f\"Количество строк в target_train: {target_train.shape}\")"
   ]
  },
  {
   "cell_type": "code",
   "execution_count": 11,
   "metadata": {},
   "outputs": [
    {
     "name": "stdout",
     "output_type": "stream",
     "text": [
      "Количество строк в features_test: (643, 4)\n",
      "Количество строк в features_valid: (643, 4)\n",
      "Количество строк в target_test: (643,)\n",
      "Количество строк в target_valid: (643,)\n"
     ]
    }
   ],
   "source": [
    "features_test, features_valid, target_test, target_valid = train_test_split(\n",
    "    features_test, target_test, test_size=0.5, random_state=12345, stratify=target_test)\n",
    "print(f\"Количество строк в features_test: {features_test.shape}\")\n",
    "print(f\"Количество строк в features_valid: {features_valid.shape}\")\n",
    "print(f\"Количество строк в target_test: {target_test.shape}\")\n",
    "print(f\"Количество строк в target_valid: {target_valid.shape}\")"
   ]
  },
  {
   "cell_type": "markdown",
   "metadata": {},
   "source": [
    "## Исследуйте модели"
   ]
  },
  {
   "cell_type": "markdown",
   "metadata": {},
   "source": [
    "Исследуем качество разных моделей, меняя гиперпараметры. Кратко напишем выводы исследования."
   ]
  },
  {
   "cell_type": "markdown",
   "metadata": {},
   "source": [
    "### DecisionTreeClassifier"
   ]
  },
  {
   "cell_type": "code",
   "execution_count": 21,
   "metadata": {},
   "outputs": [
    {
     "name": "stderr",
     "output_type": "stream",
     "text": [
      " 23%|██▎       | 13/57 [00:00<00:00, 125.63it/s]"
     ]
    },
    {
     "name": "stdout",
     "output_type": "stream",
     "text": [
      "max_depth = 1 : 0.7293934681181959\n",
      "max_depth = 2 : 0.7682737169517885\n",
      "max_depth = 3 : 0.7993779160186625\n",
      "max_depth = 4 : 0.7744945567651633\n",
      "max_depth = 5 : 0.8118195956454122\n",
      "max_depth = 6 : 0.7993779160186625\n",
      "max_depth = 7 : 0.7978227060653188\n",
      "max_depth = 8 : 0.7838258164852255\n",
      "max_depth = 9 : 0.7947122861586314\n",
      "max_depth = 10 : 0.80248833592535\n",
      "max_depth = 11 : 0.7807153965785381\n",
      "max_depth = 12 : 0.7682737169517885\n",
      "max_depth = 13 : 0.7589424572317263\n",
      "max_depth = 14 : 0.7402799377916018\n",
      "max_depth = 15 : 0.7402799377916018\n",
      "max_depth = 16 : 0.7278382581648523\n",
      "max_depth = 17 : 0.7371695178849145\n",
      "max_depth = 18 : 0.7309486780715396\n",
      "max_depth = 19 : 0.7200622083981337\n",
      "max_depth = 20 : 0.7200622083981337\n",
      "max_depth = 21 : 0.7247278382581649\n",
      "max_depth = 22 : 0.7247278382581649\n"
     ]
    },
    {
     "name": "stderr",
     "output_type": "stream",
     "text": [
      " 65%|██████▍   | 37/57 [00:00<00:00, 93.58it/s] "
     ]
    },
    {
     "name": "stdout",
     "output_type": "stream",
     "text": [
      "max_depth = 23 : 0.7247278382581649\n",
      "max_depth = 24 : 0.7247278382581649\n",
      "max_depth = 25 : 0.7247278382581649\n",
      "max_depth = 26 : 0.7247278382581649\n",
      "max_depth = 27 : 0.7247278382581649\n",
      "max_depth = 28 : 0.7247278382581649\n",
      "max_depth = 29 : 0.7247278382581649\n",
      "max_depth = 30 : 0.7247278382581649\n",
      "max_depth = 31 : 0.7247278382581649\n",
      "max_depth = 32 : 0.7247278382581649\n",
      "max_depth = 33 : 0.7247278382581649\n",
      "max_depth = 34 : 0.7247278382581649\n",
      "max_depth = 35 : 0.7247278382581649\n",
      "max_depth = 36 : 0.7247278382581649\n",
      "max_depth = 37 : 0.7247278382581649\n",
      "max_depth = 38 : 0.7247278382581649\n",
      "max_depth = 39 : 0.7247278382581649\n",
      "max_depth = 40 : 0.7247278382581649\n"
     ]
    },
    {
     "name": "stderr",
     "output_type": "stream",
     "text": [
      "100%|██████████| 57/57 [00:00<00:00, 95.84it/s]"
     ]
    },
    {
     "name": "stdout",
     "output_type": "stream",
     "text": [
      "max_depth = 41 : 0.7247278382581649\n",
      "max_depth = 42 : 0.7247278382581649\n",
      "max_depth = 43 : 0.7247278382581649\n",
      "max_depth = 44 : 0.7247278382581649\n",
      "max_depth = 45 : 0.7247278382581649\n",
      "max_depth = 46 : 0.7247278382581649\n",
      "max_depth = 47 : 0.7247278382581649\n",
      "max_depth = 48 : 0.7247278382581649\n",
      "max_depth = 49 : 0.7247278382581649\n",
      "max_depth = 50 : 0.7247278382581649\n",
      "max_depth = 51 : 0.7247278382581649\n",
      "max_depth = 52 : 0.7247278382581649\n",
      "max_depth = 53 : 0.7247278382581649\n",
      "max_depth = 54 : 0.7247278382581649\n",
      "max_depth = 55 : 0.7247278382581649\n",
      "max_depth = 56 : 0.7247278382581649\n",
      "max_depth = 57 : 0.7247278382581649\n",
      "Оценка правильности наилучшей модели на валидационной выборке: 0.8118195956454122 Максимальная глубина: 5\n"
     ]
    },
    {
     "name": "stderr",
     "output_type": "stream",
     "text": [
      "\n"
     ]
    },
    {
     "data": {
      "text/plain": [
       "[<matplotlib.lines.Line2D at 0x7f648b60e130>]"
      ]
     },
     "execution_count": 21,
     "metadata": {},
     "output_type": "execute_result"
    },
    {
     "data": {
      "image/png": "[encoded data removed]",
      "text/plain": [
       "<Figure size 432x288 with 1 Axes>"
      ]
     },
     "metadata": {
      "needs_background": "light"
     },
     "output_type": "display_data"
    }
   ],
   "source": [
    "\n",
    "best_model_DTC = None\n",
    "best_result_DTC = 0\n",
    "best_depth_DTC = 0\n",
    "list_valid = []\n",
    "for i in tqdm(range(1, 58)):\n",
    "    model_DTC = DecisionTreeClassifier(max_depth=i, random_state=12345)\n",
    "    model_DTC.fit(features_train, target_train)\n",
    "    predictions_valid_DTC  = model_DTC.predict(features_valid)\n",
    "    result = accuracy_score(target_valid, predictions_valid_DTC)\n",
    "    list_valid.append(result)\n",
    "    if result > best_result_DTC:\n",
    "        best_model_DTC = model_DTC\n",
    "        best_result_DTC = result\n",
    "        best_depth_DTC = i\n",
    "    print(\"max_depth =\", i, \": \", end='')\n",
    "    print(result) \n",
    "print(\"Оценка правильности наилучшей модели на валидационной выборке:\", best_result_DTC, \n",
    "      \"Максимальная глубина:\", best_depth_DTC)\n",
    "plt.plot(range(1, 58), list_valid)\n"
   ]
  },
  {
   "cell_type": "markdown",
   "metadata": {},
   "source": [
    "Для модели best_model_DTC дерево решений оценка правильности равна 0.7993779160186625."
   ]
  },
  {
   "cell_type": "code",
   "execution_count": 25,
   "metadata": {},
   "outputs": [
    {
     "data": {
      "image/png": "[encoded data removed]",
      "text/plain": [
       "<Figure size 432x288 with 1 Axes>"
      ]
     },
     "metadata": {
      "needs_background": "light"
     },
     "output_type": "display_data"
    }
   ],
   "source": [
    "from sklearn.datasets import load_iris\n",
    "from sklearn import tree\n",
    "model = DecisionTreeClassifier(max_depth=2, random_state=12345)\n",
    "model.fit(features_train, target_train)\n",
    "tree.plot_tree(model)\n",
    "plt.show()"
   ]
  },
  {
   "cell_type": "markdown",
   "metadata": {},
   "source": [
    "наверное первое"
   ]
  },
  {
   "cell_type": "markdown",
   "metadata": {},
   "source": [
    "### RandomForestClassifier"
   ]
  },
  {
   "cell_type": "code",
   "execution_count": 22,
   "metadata": {},
   "outputs": [
    {
     "name": "stderr",
     "output_type": "stream",
     "text": [
      "100%|██████████| 55/55 [00:46<00:00,  1.19it/s]"
     ]
    },
    {
     "name": "stdout",
     "output_type": "stream",
     "text": [
      "Оценка правильности наилучшей модели на валидационной выборке: 0.8211508553654744 Количество деревьев: 20 Максимальная глубина: 6\n"
     ]
    },
    {
     "name": "stderr",
     "output_type": "stream",
     "text": [
      "\n"
     ]
    }
   ],
   "source": [
    "best_model_RFC = None\n",
    "best_result_RFC = 0\n",
    "best_est_RFC = 0\n",
    "best_depth_RFC = 0\n",
    "for est in tqdm(range(3,58)):\n",
    "    for depth in range (1, 11):\n",
    "        model_RFC = RandomForestClassifier(random_state=12345, n_estimators=est, max_depth=depth) \n",
    "        model_RFC.fit(features_train, target_train) \n",
    "        predictions_valid_RFC = model_RFC.predict(features_valid)\n",
    "        result_RFC = accuracy_score(target_valid, predictions_valid_RFC) \n",
    "        if result_RFC > best_result_RFC:\n",
    "            best_model_RFC = model_RFC\n",
    "            best_result_RFC = result_RFC\n",
    "            best_est_RFC = est\n",
    "            best_depth_RFC = depth \n",
    "print(\"Оценка правильности наилучшей модели на валидационной выборке:\", best_result_RFC, \n",
    "      \"Количество деревьев:\", best_est_RFC, \"Максимальная глубина:\", best_depth_RFC)"
   ]
  },
  {
   "cell_type": "markdown",
   "metadata": {},
   "source": [
    "Для модели best_model_RFC случайные лес оценка правильности равна 0.8133748055987559."
   ]
  },
  {
   "cell_type": "markdown",
   "metadata": {},
   "source": [
    "### LogisticRegression"
   ]
  },
  {
   "cell_type": "code",
   "execution_count": 12,
   "metadata": {},
   "outputs": [
    {
     "name": "stdout",
     "output_type": "stream",
     "text": [
      "Оценка правильности наилучшей модели на валидационной выборке: 0.6842923794712286\n"
     ]
    }
   ],
   "source": [
    "model_LR = LogisticRegression(random_state=12345, solver='lbfgs', max_iter=1000)\n",
    "model_LR.fit(features_train, target_train) \n",
    "predictions_valid_LR = model_LR.predict(features_valid) \n",
    "result_LR = accuracy_score(target_valid, predictions_valid_LR)\n",
    "print(\"Оценка правильности наилучшей модели на валидационной выборке:\", result_LR)"
   ]
  },
  {
   "cell_type": "markdown",
   "metadata": {},
   "source": [
    "Для модели model_LR линейная регрессия оценка правильности равна 0.6842923794712286."
   ]
  },
  {
   "cell_type": "markdown",
   "metadata": {},
   "source": [
    "Наилучшая модел с самым высоким показателей это случайные лес:best_model_RFC (оценка=0.8133748055987559)"
   ]
  },
  {
   "cell_type": "markdown",
   "metadata": {},
   "source": [
    "* может быть переобучение, на train наверное так же себя вела.\n",
    "* Из-за того что у RF не такая сильная точость как у остальных\n",
    "* В отличие от обычной регрессии, в методе логистической регрессии не производится предсказание значения числовой переменной исходя из выборки исходных значений. Вместо этого, значением функции является вероятность того, что данное исходное значение принадлежит к определенному классу. Постранство разделено линиеной границей - прямой, и точки исходных данных разделены в записимости от прямой или плоскости по разные стороны. \n",
    "* Может быть потому что Лоическая регрессия требует усреднения или отсутствия мультиколлинеарности между независимыми переменными."
   ]
  },
  {
   "cell_type": "markdown",
   "metadata": {},
   "source": [
    "## Проверьте модель на тестовой выборке"
   ]
  },
  {
   "cell_type": "markdown",
   "metadata": {},
   "source": [
    "Проверим  качество модели на тестовой выборке."
   ]
  },
  {
   "cell_type": "code",
   "execution_count": 14,
   "metadata": {},
   "outputs": [
    {
     "data": {
      "text/plain": [
       "RandomForestClassifier(max_depth=9, n_estimators=8, random_state=12345)"
      ]
     },
     "execution_count": 14,
     "metadata": {},
     "output_type": "execute_result"
    }
   ],
   "source": [
    "best_model_RFC"
   ]
  },
  {
   "cell_type": "code",
   "execution_count": 15,
   "metadata": {},
   "outputs": [],
   "source": [
    "predictions_test_RFC = best_model_RFC.predict(features_test)"
   ]
  },
  {
   "cell_type": "code",
   "execution_count": 17,
   "metadata": {},
   "outputs": [
    {
     "name": "stdout",
     "output_type": "stream",
     "text": [
      "Лучшая модель best_model_RFC:  0.7791601866251944\n"
     ]
    }
   ],
   "source": [
    "print('Лучшая модель best_model_RFC: ',accuracy_score(target_test, predictions_test_RFC))"
   ]
  },
  {
   "cell_type": "markdown",
   "metadata": {},
   "source": [
    "На тестовой выборки лучшя модель показала оценку качества чуть ниже: 0.779, а была 0.813. "
   ]
  },
  {
   "cell_type": "markdown",
   "metadata": {},
   "source": [
    "* Мы потом можем новых клиентов анализировать и модель будет предсказывать какой тариф он выберет и благодаря этому компания может опираясь на это добавлять какие то фишки, или подстраивать так что бы клиент выбрал более выгодный тариф для компании.\n",
    "* Прочитаю про метрики чуть позже, не успеваю подготовится к экзаменам в универе, извините, потом вернусь сама доделаю, думаю в первом и последнем пункте я разберусь. "
   ]
  },
  {
   "cell_type": "markdown",
   "metadata": {},
   "source": [
    "## (бонус) Проверьте модели на адекватность"
   ]
  },
  {
   "cell_type": "code",
   "execution_count": 18,
   "metadata": {},
   "outputs": [
    {
     "data": {
      "text/html": [
       "<div>\n",
       "<style scoped>\n",
       "    .dataframe tbody tr th:only-of-type {\n",
       "        vertical-align: middle;\n",
       "    }\n",
       "\n",
       "    .dataframe tbody tr th {\n",
       "        vertical-align: top;\n",
       "    }\n",
       "\n",
       "    .dataframe thead th {\n",
       "        text-align: right;\n",
       "    }\n",
       "</style>\n",
       "<table border=\"1\" class=\"dataframe\">\n",
       "  <thead>\n",
       "    <tr style=\"text-align: right;\">\n",
       "      <th></th>\n",
       "      <th>feature</th>\n",
       "      <th>importance</th>\n",
       "    </tr>\n",
       "  </thead>\n",
       "  <tbody>\n",
       "    <tr>\n",
       "      <th>0</th>\n",
       "      <td>mb_used</td>\n",
       "      <td>0.339895</td>\n",
       "    </tr>\n",
       "    <tr>\n",
       "      <th>1</th>\n",
       "      <td>messages</td>\n",
       "      <td>0.230718</td>\n",
       "    </tr>\n",
       "    <tr>\n",
       "      <th>2</th>\n",
       "      <td>minutes</td>\n",
       "      <td>0.223804</td>\n",
       "    </tr>\n",
       "    <tr>\n",
       "      <th>3</th>\n",
       "      <td>calls</td>\n",
       "      <td>0.205584</td>\n",
       "    </tr>\n",
       "  </tbody>\n",
       "</table>\n",
       "</div>"
      ],
      "text/plain": [
       "    feature  importance\n",
       "0   mb_used    0.339895\n",
       "1  messages    0.230718\n",
       "2   minutes    0.223804\n",
       "3     calls    0.205584"
      ]
     },
     "execution_count": 18,
     "metadata": {},
     "output_type": "execute_result"
    }
   ],
   "source": [
    "importances = best_model_RFC.feature_importances_\n",
    "feature_list = list(features_train.columns)\n",
    "feature_results = pd.DataFrame({'feature': feature_list,'importance': importances})\n",
    "feature_results = feature_results.sort_values('importance',ascending = False).reset_index(drop=True)\n",
    "feature_results"
   ]
  },
  {
   "cell_type": "markdown",
   "metadata": {},
   "source": [
    "Самый важный признак количество используемых МБ."
   ]
  },
  {
   "cell_type": "markdown",
   "metadata": {},
   "source": [
    "DummyClassifier от Sklearn — это классификатор, который использует очень простые правила и полезен в качестве простой основы для сравнения других классификаторов.Ожидается, что любой другой классификатор будет лучше работать с данным набором данных. "
   ]
  },
  {
   "cell_type": "code",
   "execution_count": 19,
   "metadata": {},
   "outputs": [
    {
     "data": {
      "text/plain": [
       "0.6924273858921162"
      ]
     },
     "execution_count": 19,
     "metadata": {},
     "output_type": "execute_result"
    }
   ],
   "source": [
    "dummy_clf = DummyClassifier(strategy = \"most_frequent\", random_state=12345).fit(features_train, target_train)\n",
    "score = dummy_clf.score(features_train, target_train)\n",
    "score\n"
   ]
  },
  {
   "cell_type": "code",
   "execution_count": 20,
   "metadata": {},
   "outputs": [
    {
     "name": "stdout",
     "output_type": "stream",
     "text": [
      "0.8241701244813278\n"
     ]
    },
    {
     "name": "stderr",
     "output_type": "stream",
     "text": [
      "/opt/conda/lib/python3.9/site-packages/sklearn/neighbors/_classification.py:211: FutureWarning: Unlike other reduction functions (e.g. `skew`, `kurtosis`), the default behavior of `mode` typically preserves the axis it acts along. In SciPy 1.11.0, this behavior will change: the default value of `keepdims` will become False, the `axis` over which the statistic is taken will be eliminated, and the value None will no longer be accepted. Set `keepdims` to True or False to avoid this warning.\n",
      "  mode, _ = stats.mode(_y[neigh_ind, k], axis=1)\n"
     ]
    }
   ],
   "source": [
    "clf = KNeighborsClassifier(n_neighbors = 5)\n",
    "clf.fit(features_train, target_train)\n",
    "print(clf.score(features_train, target_train))"
   ]
  },
  {
   "cell_type": "markdown",
   "metadata": {},
   "source": [
    "Сравнивая оценки классификатора KNN с фиктивным классификатором, мы приходим к выводу, что классификатор KNN на самом деле является хорошим классификатором для данных данных или другой вид модели классификаторов.\n",
    "\n",
    "Так же наша лучша выбранная модель best_model_RFC имеет больший показатель accuracy чем фиктивный классификатор.\n",
    "Получается что  фиктивный классификатор может ошибится в 30% случаев. А наша модель в best_model_RFC в 20%."
   ]
  },
  {
   "cell_type": "code",
   "execution_count": 21,
   "metadata": {},
   "outputs": [
    {
     "data": {
      "text/plain": [
       "0    1335\n",
       "1     593\n",
       "Name: is_ultra, dtype: int64"
      ]
     },
     "execution_count": 21,
     "metadata": {},
     "output_type": "execute_result"
    }
   ],
   "source": [
    "target_train.value_counts()"
   ]
  },
  {
   "cell_type": "code",
   "execution_count": 22,
   "metadata": {},
   "outputs": [
    {
     "data": {
      "text/plain": [
       "0.6924273858921162"
      ]
     },
     "execution_count": 22,
     "metadata": {},
     "output_type": "execute_result"
    }
   ],
   "source": [
    "1335 / (1335 + 593)"
   ]
  },
  {
   "cell_type": "markdown",
   "metadata": {},
   "source": [
    "Лучшая модель с самой большой оценкой это случайные лес, проверка на тестовой выбоке подтвердила это, так как достинута accuracy не меньше 0.75. Модель прошла оценку на адекватность и подтвердила ее. "
   ]
  },
  {
   "cell_type": "markdown",
   "metadata": {},
   "source": [
    "## Чек-лист готовности проекта"
   ]
  },
  {
   "cell_type": "markdown",
   "metadata": {},
   "source": [
    "- [x] Jupyter Notebook открыт\n",
    "- [x] Весь код исполняется без ошибок\n",
    "- [x] Ячейки с кодом расположены в порядке исполнения\n",
    "- [x] Выполнено задание 1: данные загружены и изучены\n",
    "- [x] Выполнено задание 2: данные разбиты на три выборки\n",
    "- [x] Выполнено задание 3: проведено исследование моделей\n",
    "    - [x] Рассмотрено больше одной модели\n",
    "    - [x] Рассмотрено хотя бы 3 значения гипепараметров для какой-нибудь модели\n",
    "    - [x] Написаны выводы по результатам исследования\n",
    "- [x] Выполнено задание 3: Проведено тестирование\n",
    "- [x] Удалось достичь accuracy не меньше 0.75\n"
   ]
  }
 ],
 "metadata": {
  "ExecuteTimeLog": [
   {
    "duration": 62,
    "start_time": "2023-01-07T14:48:19.173Z"
   },
   {
    "duration": 380,
    "start_time": "2023-01-07T14:48:22.121Z"
   },
   {
    "duration": 83,
    "start_time": "2023-01-07T14:48:22.555Z"
   },
   {
    "duration": 11,
    "start_time": "2023-01-07T14:48:40.497Z"
   },
   {
    "duration": 870,
    "start_time": "2023-01-07T15:29:51.263Z"
   },
   {
    "duration": 5,
    "start_time": "2023-01-07T15:32:04.215Z"
   },
   {
    "duration": 10,
    "start_time": "2023-01-07T15:32:05.375Z"
   },
   {
    "duration": 97,
    "start_time": "2023-01-07T15:33:15.795Z"
   },
   {
    "duration": 14,
    "start_time": "2023-01-07T15:33:36.408Z"
   },
   {
    "duration": 3,
    "start_time": "2023-01-07T15:35:36.722Z"
   },
   {
    "duration": 41,
    "start_time": "2023-01-07T15:35:37.304Z"
   },
   {
    "duration": 13,
    "start_time": "2023-01-07T15:35:37.846Z"
   },
   {
    "duration": 4,
    "start_time": "2023-01-07T15:35:39.263Z"
   },
   {
    "duration": 6,
    "start_time": "2023-01-07T15:35:39.720Z"
   },
   {
    "duration": 8,
    "start_time": "2023-01-07T15:35:40.420Z"
   },
   {
    "duration": 48,
    "start_time": "2023-01-07T15:40:49.656Z"
   },
   {
    "duration": 1116,
    "start_time": "2023-01-08T16:37:59.786Z"
   },
   {
    "duration": 164,
    "start_time": "2023-01-08T16:38:00.904Z"
   },
   {
    "duration": 14,
    "start_time": "2023-01-08T16:38:01.069Z"
   },
   {
    "duration": 3,
    "start_time": "2023-01-08T16:38:03.467Z"
   },
   {
    "duration": 9,
    "start_time": "2023-01-08T16:38:03.675Z"
   },
   {
    "duration": 7,
    "start_time": "2023-01-08T16:38:03.832Z"
   },
   {
    "duration": 32,
    "start_time": "2023-01-08T16:38:10.825Z"
   },
   {
    "duration": 96,
    "start_time": "2023-01-08T19:34:52.012Z"
   },
   {
    "duration": 35,
    "start_time": "2023-01-08T19:37:00.783Z"
   },
   {
    "duration": 77,
    "start_time": "2023-01-08T19:37:20.190Z"
   },
   {
    "duration": 30,
    "start_time": "2023-01-08T19:39:20.433Z"
   },
   {
    "duration": 31,
    "start_time": "2023-01-08T19:40:03.140Z"
   },
   {
    "duration": 79,
    "start_time": "2023-01-08T19:40:08.961Z"
   },
   {
    "duration": 156,
    "start_time": "2023-01-08T19:40:42.663Z"
   },
   {
    "duration": 30,
    "start_time": "2023-01-08T19:40:50.681Z"
   },
   {
    "duration": 34,
    "start_time": "2023-01-08T19:40:55.914Z"
   },
   {
    "duration": 68,
    "start_time": "2023-01-08T19:41:07.948Z"
   },
   {
    "duration": 9,
    "start_time": "2023-01-08T19:43:31.505Z"
   },
   {
    "duration": 3,
    "start_time": "2023-01-08T19:44:09.434Z"
   },
   {
    "duration": 88,
    "start_time": "2023-01-08T19:44:09.953Z"
   },
   {
    "duration": 10,
    "start_time": "2023-01-08T19:44:10.744Z"
   },
   {
    "duration": 8,
    "start_time": "2023-01-08T19:44:11.435Z"
   },
   {
    "duration": 8,
    "start_time": "2023-01-08T19:44:22.964Z"
   },
   {
    "duration": 4,
    "start_time": "2023-01-08T19:44:47.016Z"
   },
   {
    "duration": 8,
    "start_time": "2023-01-08T19:45:51.346Z"
   },
   {
    "duration": 6,
    "start_time": "2023-01-08T19:46:07.233Z"
   },
   {
    "duration": 4,
    "start_time": "2023-01-08T19:46:15.433Z"
   },
   {
    "duration": 4,
    "start_time": "2023-01-08T19:46:22.005Z"
   },
   {
    "duration": 6,
    "start_time": "2023-01-08T19:46:22.217Z"
   },
   {
    "duration": 6,
    "start_time": "2023-01-08T19:46:22.443Z"
   },
   {
    "duration": 61,
    "start_time": "2023-01-08T19:46:25.532Z"
   },
   {
    "duration": 11,
    "start_time": "2023-01-08T19:50:28.740Z"
   },
   {
    "duration": 72,
    "start_time": "2023-01-08T19:51:49.041Z"
   },
   {
    "duration": 3,
    "start_time": "2023-01-08T19:58:07.751Z"
   },
   {
    "duration": 37,
    "start_time": "2023-01-08T19:58:08.338Z"
   },
   {
    "duration": 10,
    "start_time": "2023-01-08T19:58:09.039Z"
   },
   {
    "duration": 6,
    "start_time": "2023-01-08T19:58:09.717Z"
   },
   {
    "duration": 5,
    "start_time": "2023-01-08T19:58:10.254Z"
   },
   {
    "duration": 5,
    "start_time": "2023-01-08T19:58:11.979Z"
   },
   {
    "duration": 6,
    "start_time": "2023-01-08T19:58:12.534Z"
   },
   {
    "duration": 6,
    "start_time": "2023-01-08T19:58:13.064Z"
   },
   {
    "duration": 9,
    "start_time": "2023-01-08T19:58:22.323Z"
   },
   {
    "duration": 62,
    "start_time": "2023-01-08T19:58:32.764Z"
   },
   {
    "duration": 8,
    "start_time": "2023-01-08T20:00:03.394Z"
   },
   {
    "duration": 3,
    "start_time": "2023-01-08T20:06:53.651Z"
   },
   {
    "duration": 38,
    "start_time": "2023-01-08T20:06:53.841Z"
   },
   {
    "duration": 9,
    "start_time": "2023-01-08T20:06:54.020Z"
   },
   {
    "duration": 6,
    "start_time": "2023-01-08T20:06:54.208Z"
   },
   {
    "duration": 4,
    "start_time": "2023-01-08T20:06:54.366Z"
   },
   {
    "duration": 30,
    "start_time": "2023-01-08T20:06:54.738Z"
   },
   {
    "duration": 9,
    "start_time": "2023-01-08T20:20:25.776Z"
   },
   {
    "duration": 11,
    "start_time": "2023-01-08T20:20:33.544Z"
   },
   {
    "duration": 31,
    "start_time": "2023-01-08T20:20:38.738Z"
   },
   {
    "duration": 260,
    "start_time": "2023-01-08T20:24:14.581Z"
   },
   {
    "duration": 270,
    "start_time": "2023-01-08T20:25:03.680Z"
   },
   {
    "duration": 868,
    "start_time": "2023-01-08T20:25:39.435Z"
   },
   {
    "duration": 210,
    "start_time": "2023-01-08T20:25:45.837Z"
   },
   {
    "duration": 270,
    "start_time": "2023-01-08T20:28:24.860Z"
   },
   {
    "duration": 57,
    "start_time": "2023-01-08T20:29:57.166Z"
   },
   {
    "duration": 87,
    "start_time": "2023-01-08T20:30:35.606Z"
   },
   {
    "duration": 4,
    "start_time": "2023-01-08T20:31:19.870Z"
   },
   {
    "duration": 8,
    "start_time": "2023-01-08T20:36:10.582Z"
   },
   {
    "duration": 22,
    "start_time": "2023-01-08T20:36:25.968Z"
   },
   {
    "duration": 26,
    "start_time": "2023-01-08T20:38:28.000Z"
   },
   {
    "duration": 1147,
    "start_time": "2023-01-08T20:55:58.383Z"
   },
   {
    "duration": 97,
    "start_time": "2023-01-08T20:55:59.532Z"
   },
   {
    "duration": 14,
    "start_time": "2023-01-08T20:55:59.631Z"
   },
   {
    "duration": 28,
    "start_time": "2023-01-08T20:55:59.647Z"
   },
   {
    "duration": 10,
    "start_time": "2023-01-08T20:55:59.677Z"
   },
   {
    "duration": 28,
    "start_time": "2023-01-08T20:55:59.848Z"
   },
   {
    "duration": 5,
    "start_time": "2023-01-08T20:56:00.596Z"
   },
   {
    "duration": 6,
    "start_time": "2023-01-08T20:56:01.112Z"
   },
   {
    "duration": 7,
    "start_time": "2023-01-08T20:56:01.397Z"
   },
   {
    "duration": 70,
    "start_time": "2023-01-08T20:56:02.457Z"
   },
   {
    "duration": 119,
    "start_time": "2023-01-08T20:56:03.012Z"
   },
   {
    "duration": 25,
    "start_time": "2023-01-08T20:56:03.576Z"
   },
   {
    "duration": 241,
    "start_time": "2023-01-08T20:57:01.338Z"
   },
   {
    "duration": 40,
    "start_time": "2023-01-08T20:57:49.226Z"
   },
   {
    "duration": 5,
    "start_time": "2023-01-08T20:59:14.233Z"
   },
   {
    "duration": 6,
    "start_time": "2023-01-08T20:59:16.775Z"
   },
   {
    "duration": 6,
    "start_time": "2023-01-08T20:59:26.806Z"
   },
   {
    "duration": 1072,
    "start_time": "2023-01-09T08:01:19.621Z"
   },
   {
    "duration": 138,
    "start_time": "2023-01-09T08:01:20.878Z"
   },
   {
    "duration": 11,
    "start_time": "2023-01-09T08:01:22.119Z"
   },
   {
    "duration": 7,
    "start_time": "2023-01-09T08:01:22.644Z"
   },
   {
    "duration": 5,
    "start_time": "2023-01-09T08:01:22.849Z"
   },
   {
    "duration": 22,
    "start_time": "2023-01-09T08:01:23.234Z"
   },
   {
    "duration": 4,
    "start_time": "2023-01-09T08:01:23.766Z"
   },
   {
    "duration": 7,
    "start_time": "2023-01-09T08:01:23.945Z"
   },
   {
    "duration": 7,
    "start_time": "2023-01-09T08:01:24.123Z"
   },
   {
    "duration": 63,
    "start_time": "2023-01-09T08:01:25.041Z"
   },
   {
    "duration": 250,
    "start_time": "2023-01-09T08:01:25.429Z"
   },
   {
    "duration": 25,
    "start_time": "2023-01-09T08:01:25.809Z"
   },
   {
    "duration": 5,
    "start_time": "2023-01-09T08:01:27.076Z"
   },
   {
    "duration": 5,
    "start_time": "2023-01-09T08:01:29.150Z"
   },
   {
    "duration": 4,
    "start_time": "2023-01-09T08:01:30.857Z"
   },
   {
    "duration": 4,
    "start_time": "2023-01-09T08:01:54.570Z"
   },
   {
    "duration": 9,
    "start_time": "2023-01-09T08:03:57.551Z"
   },
   {
    "duration": 6,
    "start_time": "2023-01-09T08:04:30.645Z"
   },
   {
    "duration": 79,
    "start_time": "2023-01-09T08:10:11.060Z"
   },
   {
    "duration": 87,
    "start_time": "2023-01-09T08:10:17.925Z"
   },
   {
    "duration": 3,
    "start_time": "2023-01-09T08:10:42.680Z"
   },
   {
    "duration": 36,
    "start_time": "2023-01-09T08:10:42.871Z"
   },
   {
    "duration": 10,
    "start_time": "2023-01-09T08:10:43.062Z"
   },
   {
    "duration": 7,
    "start_time": "2023-01-09T08:10:43.213Z"
   },
   {
    "duration": 4,
    "start_time": "2023-01-09T08:10:43.377Z"
   },
   {
    "duration": 34,
    "start_time": "2023-01-09T08:10:43.725Z"
   },
   {
    "duration": 4,
    "start_time": "2023-01-09T08:10:44.218Z"
   },
   {
    "duration": 6,
    "start_time": "2023-01-09T08:10:44.403Z"
   },
   {
    "duration": 9,
    "start_time": "2023-01-09T08:10:44.570Z"
   },
   {
    "duration": 85,
    "start_time": "2023-01-09T08:10:45.277Z"
   },
   {
    "duration": 85,
    "start_time": "2023-01-09T08:10:45.643Z"
   },
   {
    "duration": 105,
    "start_time": "2023-01-09T08:11:14.461Z"
   },
   {
    "duration": 101,
    "start_time": "2023-01-09T08:12:22.374Z"
   },
   {
    "duration": 79,
    "start_time": "2023-01-09T08:12:44.117Z"
   },
   {
    "duration": 103,
    "start_time": "2023-01-09T08:13:09.045Z"
   },
   {
    "duration": 1534,
    "start_time": "2023-01-09T08:13:19.346Z"
   },
   {
    "duration": 1611,
    "start_time": "2023-01-09T08:14:00.036Z"
   },
   {
    "duration": 36,
    "start_time": "2023-01-09T08:14:12.547Z"
   },
   {
    "duration": 5,
    "start_time": "2023-01-09T08:14:14.175Z"
   },
   {
    "duration": 12,
    "start_time": "2023-01-09T08:14:16.421Z"
   },
   {
    "duration": 15,
    "start_time": "2023-01-09T08:14:21.553Z"
   },
   {
    "duration": 8,
    "start_time": "2023-01-09T08:14:23.954Z"
   },
   {
    "duration": 12,
    "start_time": "2023-01-09T10:15:10.915Z"
   },
   {
    "duration": 10,
    "start_time": "2023-01-09T10:15:19.569Z"
   },
   {
    "duration": 4,
    "start_time": "2023-01-09T10:50:18.100Z"
   },
   {
    "duration": 11,
    "start_time": "2023-01-09T11:01:55.724Z"
   },
   {
    "duration": 13,
    "start_time": "2023-01-09T11:02:05.070Z"
   },
   {
    "duration": 6,
    "start_time": "2023-01-09T11:02:09.909Z"
   },
   {
    "duration": 11,
    "start_time": "2023-01-09T11:03:02.072Z"
   },
   {
    "duration": 53,
    "start_time": "2023-01-09T11:03:11.872Z"
   },
   {
    "duration": 11,
    "start_time": "2023-01-09T11:03:20.159Z"
   },
   {
    "duration": 6,
    "start_time": "2023-01-09T11:04:11.110Z"
   },
   {
    "duration": 6,
    "start_time": "2023-01-09T11:04:32.840Z"
   },
   {
    "duration": 9,
    "start_time": "2023-01-09T11:09:44.534Z"
   },
   {
    "duration": 4,
    "start_time": "2023-01-09T11:10:35.629Z"
   },
   {
    "duration": 56,
    "start_time": "2023-01-09T11:10:39.025Z"
   },
   {
    "duration": 6,
    "start_time": "2023-01-09T11:22:04.859Z"
   },
   {
    "duration": 4,
    "start_time": "2023-01-09T11:24:34.598Z"
   },
   {
    "duration": 6,
    "start_time": "2023-01-09T11:32:56.138Z"
   },
   {
    "duration": 6,
    "start_time": "2023-01-09T11:33:08.443Z"
   },
   {
    "duration": 4,
    "start_time": "2023-01-09T11:33:36.866Z"
   },
   {
    "duration": 1960,
    "start_time": "2023-01-09T12:10:36.599Z"
   },
   {
    "duration": 39,
    "start_time": "2023-01-09T12:10:38.561Z"
   },
   {
    "duration": 12,
    "start_time": "2023-01-09T12:10:38.602Z"
   },
   {
    "duration": 10,
    "start_time": "2023-01-09T12:10:38.616Z"
   },
   {
    "duration": 6,
    "start_time": "2023-01-09T12:10:38.627Z"
   },
   {
    "duration": 29,
    "start_time": "2023-01-09T12:10:38.634Z"
   },
   {
    "duration": 4,
    "start_time": "2023-01-09T12:10:38.664Z"
   },
   {
    "duration": 17,
    "start_time": "2023-01-09T12:10:38.670Z"
   },
   {
    "duration": 36,
    "start_time": "2023-01-09T12:10:38.689Z"
   },
   {
    "duration": 71,
    "start_time": "2023-01-09T12:10:38.728Z"
   },
   {
    "duration": 1321,
    "start_time": "2023-01-09T12:10:38.800Z"
   },
   {
    "duration": 26,
    "start_time": "2023-01-09T12:10:40.122Z"
   },
   {
    "duration": 13,
    "start_time": "2023-01-09T12:10:40.150Z"
   },
   {
    "duration": 26,
    "start_time": "2023-01-09T12:10:40.165Z"
   },
   {
    "duration": 30,
    "start_time": "2023-01-09T12:10:40.193Z"
   },
   {
    "duration": 32,
    "start_time": "2023-01-09T12:10:40.224Z"
   },
   {
    "duration": 58,
    "start_time": "2023-01-09T12:10:40.258Z"
   },
   {
    "duration": 69,
    "start_time": "2023-01-09T12:10:40.318Z"
   },
   {
    "duration": 71,
    "start_time": "2023-01-09T12:10:40.389Z"
   },
   {
    "duration": 111,
    "start_time": "2023-01-09T12:10:40.462Z"
   },
   {
    "duration": 8,
    "start_time": "2023-01-09T12:10:40.575Z"
   },
   {
    "duration": 34,
    "start_time": "2023-01-09T12:10:40.585Z"
   },
   {
    "duration": 1104,
    "start_time": "2023-01-13T09:32:27.616Z"
   },
   {
    "duration": 146,
    "start_time": "2023-01-13T09:32:29.159Z"
   },
   {
    "duration": 15,
    "start_time": "2023-01-13T09:32:29.453Z"
   },
   {
    "duration": 6,
    "start_time": "2023-01-13T09:32:29.757Z"
   },
   {
    "duration": 5,
    "start_time": "2023-01-13T09:32:30.043Z"
   },
   {
    "duration": 23,
    "start_time": "2023-01-13T09:32:30.594Z"
   },
   {
    "duration": 45,
    "start_time": "2023-01-13T09:32:36.125Z"
   },
   {
    "duration": 122,
    "start_time": "2023-01-13T09:32:46.467Z"
   },
   {
    "duration": 11,
    "start_time": "2023-01-13T09:32:53.355Z"
   },
   {
    "duration": 12,
    "start_time": "2023-01-13T09:32:59.164Z"
   },
   {
    "duration": 66,
    "start_time": "2023-01-13T09:49:33.693Z"
   },
   {
    "duration": 22,
    "start_time": "2023-01-13T09:50:09.300Z"
   },
   {
    "duration": 58,
    "start_time": "2023-01-13T09:51:01.557Z"
   },
   {
    "duration": 15,
    "start_time": "2023-01-13T09:56:50.616Z"
   },
   {
    "duration": 18,
    "start_time": "2023-01-13T09:57:20.582Z"
   },
   {
    "duration": 65,
    "start_time": "2023-01-13T10:40:51.255Z"
   },
   {
    "duration": 20,
    "start_time": "2023-01-13T10:40:56.809Z"
   },
   {
    "duration": 9,
    "start_time": "2023-01-13T10:40:57.432Z"
   },
   {
    "duration": 8,
    "start_time": "2023-01-13T10:40:59.656Z"
   },
   {
    "duration": 82,
    "start_time": "2023-01-13T10:42:21.440Z"
   },
   {
    "duration": 7,
    "start_time": "2023-01-13T10:45:49.188Z"
   },
   {
    "duration": 46383,
    "start_time": "2023-01-13T10:46:41.842Z"
   },
   {
    "duration": 83,
    "start_time": "2023-01-13T10:47:28.234Z"
   },
   {
    "duration": 1105,
    "start_time": "2023-01-15T11:58:20.945Z"
   },
   {
    "duration": 76,
    "start_time": "2023-01-15T11:58:22.052Z"
   },
   {
    "duration": 10,
    "start_time": "2023-01-15T11:58:22.129Z"
   },
   {
    "duration": 17,
    "start_time": "2023-01-15T11:58:22.141Z"
   },
   {
    "duration": 12,
    "start_time": "2023-01-15T11:58:22.159Z"
   },
   {
    "duration": 21,
    "start_time": "2023-01-15T11:58:22.294Z"
   },
   {
    "duration": 9,
    "start_time": "2023-01-15T11:58:22.668Z"
   },
   {
    "duration": 120,
    "start_time": "2023-01-15T11:58:23.058Z"
   },
   {
    "duration": 4,
    "start_time": "2023-01-15T11:58:26.891Z"
   },
   {
    "duration": 6,
    "start_time": "2023-01-15T11:58:27.277Z"
   },
   {
    "duration": 6,
    "start_time": "2023-01-15T11:58:27.660Z"
   },
   {
    "duration": 62,
    "start_time": "2023-01-15T11:58:30.408Z"
   },
   {
    "duration": 64,
    "start_time": "2023-01-15T11:58:43.203Z"
   },
   {
    "duration": 392,
    "start_time": "2023-01-15T12:01:47.009Z"
   },
   {
    "duration": 172,
    "start_time": "2023-01-15T12:02:29.312Z"
   },
   {
    "duration": 177,
    "start_time": "2023-01-15T12:05:01.676Z"
   },
   {
    "duration": 674,
    "start_time": "2023-01-15T12:05:53.272Z"
   },
   {
    "duration": 121,
    "start_time": "2023-01-15T12:24:28.567Z"
   },
   {
    "duration": 21,
    "start_time": "2023-01-15T12:24:45.137Z"
   },
   {
    "duration": 21,
    "start_time": "2023-01-15T12:26:01.905Z"
   },
   {
    "duration": 712,
    "start_time": "2023-01-15T12:26:48.213Z"
   },
   {
    "duration": 1708,
    "start_time": "2023-01-15T12:32:14.413Z"
   },
   {
    "duration": 1545,
    "start_time": "2023-01-15T12:33:35.393Z"
   },
   {
    "duration": 449,
    "start_time": "2023-01-15T12:39:38.043Z"
   },
   {
    "duration": 231,
    "start_time": "2023-01-15T12:39:46.299Z"
   }
  ],
  "kernelspec": {
   "display_name": "Python 3 (ipykernel)",
   "language": "python",
   "name": "python3"
  },
  "language_info": {
   "codemirror_mode": {
    "name": "ipython",
    "version": 3
   },
   "file_extension": ".py",
   "mimetype": "text/x-python",
   "name": "python",
   "nbconvert_exporter": "python",
   "pygments_lexer": "ipython3",
   "version": "3.9.13"
  },
  "toc": {
   "base_numbering": 1,
   "nav_menu": {},
   "number_sections": true,
   "sideBar": true,
   "skip_h1_title": true,
   "title_cell": "Table of Contents",
   "title_sidebar": "Contents",
   "toc_cell": false,
   "toc_position": {
    "height": "calc(100% - 180px)",
    "left": "10px",
    "top": "150px",
    "width": "255.391px"
   },
   "toc_section_display": true,
   "toc_window_display": false
  }
 },
 "nbformat": 4,
 "nbformat_minor": 2
}
