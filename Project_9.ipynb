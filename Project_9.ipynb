{
 "cells": [
  {
   "cell_type": "markdown",
   "metadata": {
    "toc": true
   },
   "source": [
    "<h1>Содержание<span class=\"tocSkip\"></span></h1>\n",
    "<div class=\"toc\"><ul class=\"toc-item\"><li><span><a href=\"#Подготовка-данных\" data-toc-modified-id=\"Подготовка-данных-1\"><span class=\"toc-item-num\">1&nbsp;&nbsp;</span>Подготовка данных</a></span><ul class=\"toc-item\"><li><span><a href=\"#Проверка-recovery-для-rougher.output.recovery.\" data-toc-modified-id=\"Проверка-recovery-для-rougher.output.recovery.-1.1\"><span class=\"toc-item-num\">1.1&nbsp;&nbsp;</span>Проверка recovery для rougher.output.recovery.</a></span></li><li><span><a href=\"#Проверка-recovery-для-final.output.recovery.\" data-toc-modified-id=\"Проверка-recovery-для-final.output.recovery.-1.2\"><span class=\"toc-item-num\">1.2&nbsp;&nbsp;</span>Проверка recovery для final.output.recovery.</a></span></li></ul></li><li><span><a href=\"#Анализ-данных\" data-toc-modified-id=\"Анализ-данных-2\"><span class=\"toc-item-num\">2&nbsp;&nbsp;</span>Анализ данных</a></span><ul class=\"toc-item\"><li><span><a href=\"#Изменение-Au\" data-toc-modified-id=\"Изменение-Au-2.1\"><span class=\"toc-item-num\">2.1&nbsp;&nbsp;</span>Изменение Au</a></span></li><li><span><a href=\"#Изменение--Ag\" data-toc-modified-id=\"Изменение--Ag-2.2\"><span class=\"toc-item-num\">2.2&nbsp;&nbsp;</span>Изменение  Ag</a></span></li><li><span><a href=\"#Изменение-Pb\" data-toc-modified-id=\"Изменение-Pb-2.3\"><span class=\"toc-item-num\">2.3&nbsp;&nbsp;</span>Изменение Pb</a></span></li><li><span><a href=\"#Сравним-распределение-размеров-гранул-сырья-на-обучающей-и-тестовой-выборках.\" data-toc-modified-id=\"Сравним-распределение-размеров-гранул-сырья-на-обучающей-и-тестовой-выборках.-2.4\"><span class=\"toc-item-num\">2.4&nbsp;&nbsp;</span>Сравним распределение размеров гранул сырья на обучающей и тестовой выборках.</a></span></li><li><span><a href=\"#Исследуем-суммарную-концентрацию-всех-веществ-на-разных-стадиях:-в-сырье,-в-черновом-и-финальном-концентратах.\" data-toc-modified-id=\"Исследуем-суммарную-концентрацию-всех-веществ-на-разных-стадиях:-в-сырье,-в-черновом-и-финальном-концентратах.-2.5\"><span class=\"toc-item-num\">2.5&nbsp;&nbsp;</span>Исследуем суммарную концентрацию всех веществ на разных стадиях: в сырье, в черновом и финальном концентратах.</a></span></li></ul></li><li><span><a href=\"#Модель\" data-toc-modified-id=\"Модель-3\"><span class=\"toc-item-num\">3&nbsp;&nbsp;</span>Модель</a></span><ul class=\"toc-item\"><li><span><a href=\"#sMAPE.\" data-toc-modified-id=\"sMAPE.-3.1\"><span class=\"toc-item-num\">3.1&nbsp;&nbsp;</span>sMAPE.</a></span></li><li><span><a href=\"#Обучение-разныx-моделей\" data-toc-modified-id=\"Обучение-разныx-моделей-3.2\"><span class=\"toc-item-num\">3.2&nbsp;&nbsp;</span>Обучение разныx моделей</a></span><ul class=\"toc-item\"><li><span><a href=\"#DecisionTreeRegressor\" data-toc-modified-id=\"DecisionTreeRegressor-3.2.1\"><span class=\"toc-item-num\">3.2.1&nbsp;&nbsp;</span>DecisionTreeRegressor</a></span></li><li><span><a href=\"#RandomForestRegressor\" data-toc-modified-id=\"RandomForestRegressor-3.2.2\"><span class=\"toc-item-num\">3.2.2&nbsp;&nbsp;</span>RandomForestRegressor</a></span></li><li><span><a href=\"#LinearRegression\" data-toc-modified-id=\"LinearRegression-3.2.3\"><span class=\"toc-item-num\">3.2.3&nbsp;&nbsp;</span>LinearRegression</a></span></li></ul></li><li><span><a href=\"#Проверим-лучшую-модель-на-тестовой-выборки.\" data-toc-modified-id=\"Проверим-лучшую-модель-на-тестовой-выборки.-3.3\"><span class=\"toc-item-num\">3.3&nbsp;&nbsp;</span>Проверим лучшую модель на тестовой выборки.</a></span></li></ul></li><li><span><a href=\"#Чек-лист-готовности-проекта\" data-toc-modified-id=\"Чек-лист-готовности-проекта-4\"><span class=\"toc-item-num\">4&nbsp;&nbsp;</span>Чек-лист готовности проекта</a></span></li></ul></div>"
   ]
  },
  {
   "cell_type": "markdown",
   "metadata": {},
   "source": [
    "# Восстановление золота из руды"
   ]
  },
  {
   "cell_type": "markdown",
   "metadata": {},
   "source": [
    "Подготовьте прототип модели машинного обучения для «Цифры». Компания разрабатывает решения для эффективной работы промышленных предприятий.\n",
    "\n",
    "Модель должна предсказать коэффициент восстановления золота из золотосодержащей руды. Используйте данные с параметрами добычи и очистки. \n",
    "\n",
    "Модель поможет оптимизировать производство, чтобы не запускать предприятие с убыточными характеристиками.\n",
    "\n",
    "Вам нужно:\n",
    "\n",
    "1. Подготовить данные;\n",
    "2. Провести исследовательский анализ данных;\n",
    "3. Построить и обучить модель.\n",
    "\n",
    "Чтобы выполнить проект, обращайтесь к библиотекам *pandas*, *matplotlib* и *sklearn.* Вам поможет их документация."
   ]
  },
  {
   "cell_type": "markdown",
   "metadata": {},
   "source": [
    "## Подготовка данных"
   ]
  },
  {
   "cell_type": "code",
   "execution_count": 46,
   "metadata": {},
   "outputs": [],
   "source": [
    "#библиотеки\n",
    "import pandas as pd\n",
    "import numpy as np\n",
    "from sklearn.metrics import mean_absolute_error, mean_squared_error\n",
    "import matplotlib.pyplot as plt\n",
    "import seaborn as sns\n",
    "from numpy.random import RandomState\n",
    "from sklearn.tree import DecisionTreeRegressor \n",
    "from sklearn.linear_model import LinearRegression\n",
    "from sklearn.ensemble import RandomForestRegressor\n",
    "from sklearn.model_selection import cross_val_score\n",
    "from sklearn.metrics import fbeta_score, make_scorer\n",
    "from tqdm import tqdm\n",
    "from sklearn.dummy import DummyRegressor\n",
    "\n",
    "from sklearn.model_selection import train_test_split\n",
    "from sklearn.preprocessing import StandardScaler\n",
    "from sklearn.metrics import f1_score\n",
    "from sklearn.utils import shuffle\n",
    "from sklearn.metrics import roc_curve\n",
    "from sklearn.metrics import roc_auc_score\n",
    "import matplotlib.pyplot as plt\n",
    "import warnings"
   ]
  },
  {
   "cell_type": "code",
   "execution_count": 47,
   "metadata": {},
   "outputs": [],
   "source": [
    "df = pd.read_csv('/datasets/gold_recovery_full_new.csv')\n",
    "df_train = pd.read_csv('/datasets/gold_recovery_train_new.csv')\n",
    "df_test = pd.read_csv('/datasets/gold_recovery_test_new.csv')"
   ]
  },
  {
   "cell_type": "code",
   "execution_count": 48,
   "metadata": {},
   "outputs": [
    {
     "name": "stdout",
     "output_type": "stream",
     "text": [
      "<class 'pandas.core.frame.DataFrame'>\n",
      "RangeIndex: 19439 entries, 0 to 19438\n",
      "Data columns (total 87 columns):\n",
      " #   Column                                              Non-Null Count  Dtype  \n",
      "---  ------                                              --------------  -----  \n",
      " 0   date                                                19439 non-null  object \n",
      " 1   final.output.concentrate_ag                         19438 non-null  float64\n",
      " 2   final.output.concentrate_pb                         19438 non-null  float64\n",
      " 3   final.output.concentrate_sol                        19228 non-null  float64\n",
      " 4   final.output.concentrate_au                         19439 non-null  float64\n",
      " 5   final.output.recovery                               19439 non-null  float64\n",
      " 6   final.output.tail_ag                                19438 non-null  float64\n",
      " 7   final.output.tail_pb                                19338 non-null  float64\n",
      " 8   final.output.tail_sol                               19433 non-null  float64\n",
      " 9   final.output.tail_au                                19439 non-null  float64\n",
      " 10  primary_cleaner.input.sulfate                       19415 non-null  float64\n",
      " 11  primary_cleaner.input.depressant                    19402 non-null  float64\n",
      " 12  primary_cleaner.input.feed_size                     19439 non-null  float64\n",
      " 13  primary_cleaner.input.xanthate                      19335 non-null  float64\n",
      " 14  primary_cleaner.output.concentrate_ag               19439 non-null  float64\n",
      " 15  primary_cleaner.output.concentrate_pb               19323 non-null  float64\n",
      " 16  primary_cleaner.output.concentrate_sol              19069 non-null  float64\n",
      " 17  primary_cleaner.output.concentrate_au               19439 non-null  float64\n",
      " 18  primary_cleaner.output.tail_ag                      19435 non-null  float64\n",
      " 19  primary_cleaner.output.tail_pb                      19418 non-null  float64\n",
      " 20  primary_cleaner.output.tail_sol                     19377 non-null  float64\n",
      " 21  primary_cleaner.output.tail_au                      19439 non-null  float64\n",
      " 22  primary_cleaner.state.floatbank8_a_air              19435 non-null  float64\n",
      " 23  primary_cleaner.state.floatbank8_a_level            19438 non-null  float64\n",
      " 24  primary_cleaner.state.floatbank8_b_air              19435 non-null  float64\n",
      " 25  primary_cleaner.state.floatbank8_b_level            19438 non-null  float64\n",
      " 26  primary_cleaner.state.floatbank8_c_air              19437 non-null  float64\n",
      " 27  primary_cleaner.state.floatbank8_c_level            19438 non-null  float64\n",
      " 28  primary_cleaner.state.floatbank8_d_air              19436 non-null  float64\n",
      " 29  primary_cleaner.state.floatbank8_d_level            19438 non-null  float64\n",
      " 30  rougher.calculation.sulfate_to_au_concentrate       19437 non-null  float64\n",
      " 31  rougher.calculation.floatbank10_sulfate_to_au_feed  19437 non-null  float64\n",
      " 32  rougher.calculation.floatbank11_sulfate_to_au_feed  19437 non-null  float64\n",
      " 33  rougher.calculation.au_pb_ratio                     19439 non-null  float64\n",
      " 34  rougher.input.feed_ag                               19439 non-null  float64\n",
      " 35  rougher.input.feed_pb                               19339 non-null  float64\n",
      " 36  rougher.input.feed_rate                             19428 non-null  float64\n",
      " 37  rougher.input.feed_size                             19294 non-null  float64\n",
      " 38  rougher.input.feed_sol                              19340 non-null  float64\n",
      " 39  rougher.input.feed_au                               19439 non-null  float64\n",
      " 40  rougher.input.floatbank10_sulfate                   19405 non-null  float64\n",
      " 41  rougher.input.floatbank10_xanthate                  19431 non-null  float64\n",
      " 42  rougher.input.floatbank11_sulfate                   19395 non-null  float64\n",
      " 43  rougher.input.floatbank11_xanthate                  18986 non-null  float64\n",
      " 44  rougher.output.concentrate_ag                       19439 non-null  float64\n",
      " 45  rougher.output.concentrate_pb                       19439 non-null  float64\n",
      " 46  rougher.output.concentrate_sol                      19416 non-null  float64\n",
      " 47  rougher.output.concentrate_au                       19439 non-null  float64\n",
      " 48  rougher.output.recovery                             19439 non-null  float64\n",
      " 49  rougher.output.tail_ag                              19438 non-null  float64\n",
      " 50  rougher.output.tail_pb                              19439 non-null  float64\n",
      " 51  rougher.output.tail_sol                             19439 non-null  float64\n",
      " 52  rougher.output.tail_au                              19439 non-null  float64\n",
      " 53  rougher.state.floatbank10_a_air                     19438 non-null  float64\n",
      " 54  rougher.state.floatbank10_a_level                   19438 non-null  float64\n",
      " 55  rougher.state.floatbank10_b_air                     19438 non-null  float64\n",
      " 56  rougher.state.floatbank10_b_level                   19438 non-null  float64\n",
      " 57  rougher.state.floatbank10_c_air                     19438 non-null  float64\n",
      " 58  rougher.state.floatbank10_c_level                   19438 non-null  float64\n",
      " 59  rougher.state.floatbank10_d_air                     19439 non-null  float64\n",
      " 60  rougher.state.floatbank10_d_level                   19439 non-null  float64\n",
      " 61  rougher.state.floatbank10_e_air                     19003 non-null  float64\n",
      " 62  rougher.state.floatbank10_e_level                   19439 non-null  float64\n",
      " 63  rougher.state.floatbank10_f_air                     19439 non-null  float64\n",
      " 64  rougher.state.floatbank10_f_level                   19439 non-null  float64\n",
      " 65  secondary_cleaner.output.tail_ag                    19437 non-null  float64\n",
      " 66  secondary_cleaner.output.tail_pb                    19427 non-null  float64\n",
      " 67  secondary_cleaner.output.tail_sol                   17691 non-null  float64\n",
      " 68  secondary_cleaner.output.tail_au                    19439 non-null  float64\n",
      " 69  secondary_cleaner.state.floatbank2_a_air            19219 non-null  float64\n",
      " 70  secondary_cleaner.state.floatbank2_a_level          19438 non-null  float64\n",
      " 71  secondary_cleaner.state.floatbank2_b_air            19416 non-null  float64\n",
      " 72  secondary_cleaner.state.floatbank2_b_level          19438 non-null  float64\n",
      " 73  secondary_cleaner.state.floatbank3_a_air            19426 non-null  float64\n",
      " 74  secondary_cleaner.state.floatbank3_a_level          19438 non-null  float64\n",
      " 75  secondary_cleaner.state.floatbank3_b_air            19438 non-null  float64\n",
      " 76  secondary_cleaner.state.floatbank3_b_level          19438 non-null  float64\n",
      " 77  secondary_cleaner.state.floatbank4_a_air            19433 non-null  float64\n",
      " 78  secondary_cleaner.state.floatbank4_a_level          19438 non-null  float64\n",
      " 79  secondary_cleaner.state.floatbank4_b_air            19438 non-null  float64\n",
      " 80  secondary_cleaner.state.floatbank4_b_level          19438 non-null  float64\n",
      " 81  secondary_cleaner.state.floatbank5_a_air            19438 non-null  float64\n",
      " 82  secondary_cleaner.state.floatbank5_a_level          19438 non-null  float64\n",
      " 83  secondary_cleaner.state.floatbank5_b_air            19438 non-null  float64\n",
      " 84  secondary_cleaner.state.floatbank5_b_level          19438 non-null  float64\n",
      " 85  secondary_cleaner.state.floatbank6_a_air            19437 non-null  float64\n",
      " 86  secondary_cleaner.state.floatbank6_a_level          19438 non-null  float64\n",
      "dtypes: float64(86), object(1)\n",
      "memory usage: 12.9+ MB\n",
      "None\n",
      "----------------------------------------------------------------------------------------------------\n",
      "ПРОПУСКИ df\n",
      "date                                            0\n",
      "final.output.concentrate_ag                     1\n",
      "final.output.concentrate_pb                     1\n",
      "final.output.concentrate_sol                  211\n",
      "final.output.concentrate_au                     0\n",
      "                                             ... \n",
      "secondary_cleaner.state.floatbank5_a_level      1\n",
      "secondary_cleaner.state.floatbank5_b_air        1\n",
      "secondary_cleaner.state.floatbank5_b_level      1\n",
      "secondary_cleaner.state.floatbank6_a_air        2\n",
      "secondary_cleaner.state.floatbank6_a_level      1\n",
      "Length: 87, dtype: int64\n",
      "----------------------------------------------------------------------------------------------------\n",
      "ДУБЛИКАТЫ df 0\n",
      "----------------------------------------------------------------------------------------------------\n"
     ]
    }
   ],
   "source": [
    "print(df.info())\n",
    "print('-' * 100)\n",
    "\n",
    "print('ПРОПУСКИ df')\n",
    "print(df.isna().sum())\n",
    "print('-' * 100)\n",
    "      \n",
    "print('ДУБЛИКАТЫ df', df.duplicated().sum())\n",
    "print('-' * 100)"
   ]
  },
  {
   "cell_type": "code",
   "execution_count": 49,
   "metadata": {
    "scrolled": true
   },
   "outputs": [
    {
     "name": "stdout",
     "output_type": "stream",
     "text": [
      "<class 'pandas.core.frame.DataFrame'>\n",
      "RangeIndex: 14149 entries, 0 to 14148\n",
      "Data columns (total 87 columns):\n",
      " #   Column                                              Non-Null Count  Dtype  \n",
      "---  ------                                              --------------  -----  \n",
      " 0   date                                                14149 non-null  object \n",
      " 1   final.output.concentrate_ag                         14148 non-null  float64\n",
      " 2   final.output.concentrate_pb                         14148 non-null  float64\n",
      " 3   final.output.concentrate_sol                        13938 non-null  float64\n",
      " 4   final.output.concentrate_au                         14149 non-null  float64\n",
      " 5   final.output.recovery                               14149 non-null  float64\n",
      " 6   final.output.tail_ag                                14149 non-null  float64\n",
      " 7   final.output.tail_pb                                14049 non-null  float64\n",
      " 8   final.output.tail_sol                               14144 non-null  float64\n",
      " 9   final.output.tail_au                                14149 non-null  float64\n",
      " 10  primary_cleaner.input.sulfate                       14129 non-null  float64\n",
      " 11  primary_cleaner.input.depressant                    14117 non-null  float64\n",
      " 12  primary_cleaner.input.feed_size                     14149 non-null  float64\n",
      " 13  primary_cleaner.input.xanthate                      14049 non-null  float64\n",
      " 14  primary_cleaner.output.concentrate_ag               14149 non-null  float64\n",
      " 15  primary_cleaner.output.concentrate_pb               14063 non-null  float64\n",
      " 16  primary_cleaner.output.concentrate_sol              13863 non-null  float64\n",
      " 17  primary_cleaner.output.concentrate_au               14149 non-null  float64\n",
      " 18  primary_cleaner.output.tail_ag                      14148 non-null  float64\n",
      " 19  primary_cleaner.output.tail_pb                      14134 non-null  float64\n",
      " 20  primary_cleaner.output.tail_sol                     14103 non-null  float64\n",
      " 21  primary_cleaner.output.tail_au                      14149 non-null  float64\n",
      " 22  primary_cleaner.state.floatbank8_a_air              14145 non-null  float64\n",
      " 23  primary_cleaner.state.floatbank8_a_level            14148 non-null  float64\n",
      " 24  primary_cleaner.state.floatbank8_b_air              14145 non-null  float64\n",
      " 25  primary_cleaner.state.floatbank8_b_level            14148 non-null  float64\n",
      " 26  primary_cleaner.state.floatbank8_c_air              14147 non-null  float64\n",
      " 27  primary_cleaner.state.floatbank8_c_level            14148 non-null  float64\n",
      " 28  primary_cleaner.state.floatbank8_d_air              14146 non-null  float64\n",
      " 29  primary_cleaner.state.floatbank8_d_level            14148 non-null  float64\n",
      " 30  rougher.calculation.sulfate_to_au_concentrate       14148 non-null  float64\n",
      " 31  rougher.calculation.floatbank10_sulfate_to_au_feed  14148 non-null  float64\n",
      " 32  rougher.calculation.floatbank11_sulfate_to_au_feed  14148 non-null  float64\n",
      " 33  rougher.calculation.au_pb_ratio                     14149 non-null  float64\n",
      " 34  rougher.input.feed_ag                               14149 non-null  float64\n",
      " 35  rougher.input.feed_pb                               14049 non-null  float64\n",
      " 36  rougher.input.feed_rate                             14141 non-null  float64\n",
      " 37  rougher.input.feed_size                             14005 non-null  float64\n",
      " 38  rougher.input.feed_sol                              14071 non-null  float64\n",
      " 39  rougher.input.feed_au                               14149 non-null  float64\n",
      " 40  rougher.input.floatbank10_sulfate                   14120 non-null  float64\n",
      " 41  rougher.input.floatbank10_xanthate                  14141 non-null  float64\n",
      " 42  rougher.input.floatbank11_sulfate                   14113 non-null  float64\n",
      " 43  rougher.input.floatbank11_xanthate                  13721 non-null  float64\n",
      " 44  rougher.output.concentrate_ag                       14149 non-null  float64\n",
      " 45  rougher.output.concentrate_pb                       14149 non-null  float64\n",
      " 46  rougher.output.concentrate_sol                      14127 non-null  float64\n",
      " 47  rougher.output.concentrate_au                       14149 non-null  float64\n",
      " 48  rougher.output.recovery                             14149 non-null  float64\n",
      " 49  rougher.output.tail_ag                              14148 non-null  float64\n",
      " 50  rougher.output.tail_pb                              14149 non-null  float64\n",
      " 51  rougher.output.tail_sol                             14149 non-null  float64\n",
      " 52  rougher.output.tail_au                              14149 non-null  float64\n",
      " 53  rougher.state.floatbank10_a_air                     14148 non-null  float64\n",
      " 54  rougher.state.floatbank10_a_level                   14148 non-null  float64\n",
      " 55  rougher.state.floatbank10_b_air                     14148 non-null  float64\n",
      " 56  rougher.state.floatbank10_b_level                   14148 non-null  float64\n",
      " 57  rougher.state.floatbank10_c_air                     14148 non-null  float64\n",
      " 58  rougher.state.floatbank10_c_level                   14148 non-null  float64\n",
      " 59  rougher.state.floatbank10_d_air                     14149 non-null  float64\n",
      " 60  rougher.state.floatbank10_d_level                   14149 non-null  float64\n",
      " 61  rougher.state.floatbank10_e_air                     13713 non-null  float64\n",
      " 62  rougher.state.floatbank10_e_level                   14149 non-null  float64\n",
      " 63  rougher.state.floatbank10_f_air                     14149 non-null  float64\n",
      " 64  rougher.state.floatbank10_f_level                   14149 non-null  float64\n",
      " 65  secondary_cleaner.output.tail_ag                    14147 non-null  float64\n",
      " 66  secondary_cleaner.output.tail_pb                    14139 non-null  float64\n",
      " 67  secondary_cleaner.output.tail_sol                   12544 non-null  float64\n",
      " 68  secondary_cleaner.output.tail_au                    14149 non-null  float64\n",
      " 69  secondary_cleaner.state.floatbank2_a_air            13932 non-null  float64\n",
      " 70  secondary_cleaner.state.floatbank2_a_level          14148 non-null  float64\n",
      " 71  secondary_cleaner.state.floatbank2_b_air            14128 non-null  float64\n",
      " 72  secondary_cleaner.state.floatbank2_b_level          14148 non-null  float64\n",
      " 73  secondary_cleaner.state.floatbank3_a_air            14145 non-null  float64\n",
      " 74  secondary_cleaner.state.floatbank3_a_level          14148 non-null  float64\n",
      " 75  secondary_cleaner.state.floatbank3_b_air            14148 non-null  float64\n",
      " 76  secondary_cleaner.state.floatbank3_b_level          14148 non-null  float64\n",
      " 77  secondary_cleaner.state.floatbank4_a_air            14143 non-null  float64\n",
      " 78  secondary_cleaner.state.floatbank4_a_level          14148 non-null  float64\n",
      " 79  secondary_cleaner.state.floatbank4_b_air            14148 non-null  float64\n",
      " 80  secondary_cleaner.state.floatbank4_b_level          14148 non-null  float64\n",
      " 81  secondary_cleaner.state.floatbank5_a_air            14148 non-null  float64\n",
      " 82  secondary_cleaner.state.floatbank5_a_level          14148 non-null  float64\n",
      " 83  secondary_cleaner.state.floatbank5_b_air            14148 non-null  float64\n",
      " 84  secondary_cleaner.state.floatbank5_b_level          14148 non-null  float64\n",
      " 85  secondary_cleaner.state.floatbank6_a_air            14147 non-null  float64\n",
      " 86  secondary_cleaner.state.floatbank6_a_level          14148 non-null  float64\n",
      "dtypes: float64(86), object(1)\n",
      "memory usage: 9.4+ MB\n",
      "None\n",
      "----------------------------------------------------------------------------------------------------\n",
      "ПРОПУСКИ df_train\n",
      "date                                            0\n",
      "final.output.concentrate_ag                     1\n",
      "final.output.concentrate_pb                     1\n",
      "final.output.concentrate_sol                  211\n",
      "final.output.concentrate_au                     0\n",
      "                                             ... \n",
      "secondary_cleaner.state.floatbank5_a_level      1\n",
      "secondary_cleaner.state.floatbank5_b_air        1\n",
      "secondary_cleaner.state.floatbank5_b_level      1\n",
      "secondary_cleaner.state.floatbank6_a_air        2\n",
      "secondary_cleaner.state.floatbank6_a_level      1\n",
      "Length: 87, dtype: int64\n",
      "----------------------------------------------------------------------------------------------------\n",
      "ДУБЛИКАТЫ df_train 0\n",
      "----------------------------------------------------------------------------------------------------\n"
     ]
    }
   ],
   "source": [
    "print(df_train.info())\n",
    "print('-' * 100)\n",
    "\n",
    "print('ПРОПУСКИ df_train')\n",
    "print(df_train.isna().sum())\n",
    "print('-' * 100)\n",
    "      \n",
    "print('ДУБЛИКАТЫ df_train', df_train.duplicated().sum())\n",
    "print('-' * 100)"
   ]
  },
  {
   "cell_type": "code",
   "execution_count": 50,
   "metadata": {},
   "outputs": [
    {
     "name": "stdout",
     "output_type": "stream",
     "text": [
      "<class 'pandas.core.frame.DataFrame'>\n",
      "RangeIndex: 5290 entries, 0 to 5289\n",
      "Data columns (total 53 columns):\n",
      " #   Column                                      Non-Null Count  Dtype  \n",
      "---  ------                                      --------------  -----  \n",
      " 0   date                                        5290 non-null   object \n",
      " 1   primary_cleaner.input.sulfate               5286 non-null   float64\n",
      " 2   primary_cleaner.input.depressant            5285 non-null   float64\n",
      " 3   primary_cleaner.input.feed_size             5290 non-null   float64\n",
      " 4   primary_cleaner.input.xanthate              5286 non-null   float64\n",
      " 5   primary_cleaner.state.floatbank8_a_air      5290 non-null   float64\n",
      " 6   primary_cleaner.state.floatbank8_a_level    5290 non-null   float64\n",
      " 7   primary_cleaner.state.floatbank8_b_air      5290 non-null   float64\n",
      " 8   primary_cleaner.state.floatbank8_b_level    5290 non-null   float64\n",
      " 9   primary_cleaner.state.floatbank8_c_air      5290 non-null   float64\n",
      " 10  primary_cleaner.state.floatbank8_c_level    5290 non-null   float64\n",
      " 11  primary_cleaner.state.floatbank8_d_air      5290 non-null   float64\n",
      " 12  primary_cleaner.state.floatbank8_d_level    5290 non-null   float64\n",
      " 13  rougher.input.feed_ag                       5290 non-null   float64\n",
      " 14  rougher.input.feed_pb                       5290 non-null   float64\n",
      " 15  rougher.input.feed_rate                     5287 non-null   float64\n",
      " 16  rougher.input.feed_size                     5289 non-null   float64\n",
      " 17  rougher.input.feed_sol                      5269 non-null   float64\n",
      " 18  rougher.input.feed_au                       5290 non-null   float64\n",
      " 19  rougher.input.floatbank10_sulfate           5285 non-null   float64\n",
      " 20  rougher.input.floatbank10_xanthate          5290 non-null   float64\n",
      " 21  rougher.input.floatbank11_sulfate           5282 non-null   float64\n",
      " 22  rougher.input.floatbank11_xanthate          5265 non-null   float64\n",
      " 23  rougher.state.floatbank10_a_air             5290 non-null   float64\n",
      " 24  rougher.state.floatbank10_a_level           5290 non-null   float64\n",
      " 25  rougher.state.floatbank10_b_air             5290 non-null   float64\n",
      " 26  rougher.state.floatbank10_b_level           5290 non-null   float64\n",
      " 27  rougher.state.floatbank10_c_air             5290 non-null   float64\n",
      " 28  rougher.state.floatbank10_c_level           5290 non-null   float64\n",
      " 29  rougher.state.floatbank10_d_air             5290 non-null   float64\n",
      " 30  rougher.state.floatbank10_d_level           5290 non-null   float64\n",
      " 31  rougher.state.floatbank10_e_air             5290 non-null   float64\n",
      " 32  rougher.state.floatbank10_e_level           5290 non-null   float64\n",
      " 33  rougher.state.floatbank10_f_air             5290 non-null   float64\n",
      " 34  rougher.state.floatbank10_f_level           5290 non-null   float64\n",
      " 35  secondary_cleaner.state.floatbank2_a_air    5287 non-null   float64\n",
      " 36  secondary_cleaner.state.floatbank2_a_level  5290 non-null   float64\n",
      " 37  secondary_cleaner.state.floatbank2_b_air    5288 non-null   float64\n",
      " 38  secondary_cleaner.state.floatbank2_b_level  5290 non-null   float64\n",
      " 39  secondary_cleaner.state.floatbank3_a_air    5281 non-null   float64\n",
      " 40  secondary_cleaner.state.floatbank3_a_level  5290 non-null   float64\n",
      " 41  secondary_cleaner.state.floatbank3_b_air    5290 non-null   float64\n",
      " 42  secondary_cleaner.state.floatbank3_b_level  5290 non-null   float64\n",
      " 43  secondary_cleaner.state.floatbank4_a_air    5290 non-null   float64\n",
      " 44  secondary_cleaner.state.floatbank4_a_level  5290 non-null   float64\n",
      " 45  secondary_cleaner.state.floatbank4_b_air    5290 non-null   float64\n",
      " 46  secondary_cleaner.state.floatbank4_b_level  5290 non-null   float64\n",
      " 47  secondary_cleaner.state.floatbank5_a_air    5290 non-null   float64\n",
      " 48  secondary_cleaner.state.floatbank5_a_level  5290 non-null   float64\n",
      " 49  secondary_cleaner.state.floatbank5_b_air    5290 non-null   float64\n",
      " 50  secondary_cleaner.state.floatbank5_b_level  5290 non-null   float64\n",
      " 51  secondary_cleaner.state.floatbank6_a_air    5290 non-null   float64\n",
      " 52  secondary_cleaner.state.floatbank6_a_level  5290 non-null   float64\n",
      "dtypes: float64(52), object(1)\n",
      "memory usage: 2.1+ MB\n",
      "None\n",
      "----------------------------------------------------------------------------------------------------\n",
      "ПРОПУСКИ df\n",
      "date                                           0\n",
      "primary_cleaner.input.sulfate                  4\n",
      "primary_cleaner.input.depressant               5\n",
      "primary_cleaner.input.feed_size                0\n",
      "primary_cleaner.input.xanthate                 4\n",
      "primary_cleaner.state.floatbank8_a_air         0\n",
      "primary_cleaner.state.floatbank8_a_level       0\n",
      "primary_cleaner.state.floatbank8_b_air         0\n",
      "primary_cleaner.state.floatbank8_b_level       0\n",
      "primary_cleaner.state.floatbank8_c_air         0\n",
      "primary_cleaner.state.floatbank8_c_level       0\n",
      "primary_cleaner.state.floatbank8_d_air         0\n",
      "primary_cleaner.state.floatbank8_d_level       0\n",
      "rougher.input.feed_ag                          0\n",
      "rougher.input.feed_pb                          0\n",
      "rougher.input.feed_rate                        3\n",
      "rougher.input.feed_size                        1\n",
      "rougher.input.feed_sol                        21\n",
      "rougher.input.feed_au                          0\n",
      "rougher.input.floatbank10_sulfate              5\n",
      "rougher.input.floatbank10_xanthate             0\n",
      "rougher.input.floatbank11_sulfate              8\n",
      "rougher.input.floatbank11_xanthate            25\n",
      "rougher.state.floatbank10_a_air                0\n",
      "rougher.state.floatbank10_a_level              0\n",
      "rougher.state.floatbank10_b_air                0\n",
      "rougher.state.floatbank10_b_level              0\n",
      "rougher.state.floatbank10_c_air                0\n",
      "rougher.state.floatbank10_c_level              0\n",
      "rougher.state.floatbank10_d_air                0\n",
      "rougher.state.floatbank10_d_level              0\n",
      "rougher.state.floatbank10_e_air                0\n",
      "rougher.state.floatbank10_e_level              0\n",
      "rougher.state.floatbank10_f_air                0\n",
      "rougher.state.floatbank10_f_level              0\n",
      "secondary_cleaner.state.floatbank2_a_air       3\n",
      "secondary_cleaner.state.floatbank2_a_level     0\n",
      "secondary_cleaner.state.floatbank2_b_air       2\n",
      "secondary_cleaner.state.floatbank2_b_level     0\n",
      "secondary_cleaner.state.floatbank3_a_air       9\n",
      "secondary_cleaner.state.floatbank3_a_level     0\n",
      "secondary_cleaner.state.floatbank3_b_air       0\n",
      "secondary_cleaner.state.floatbank3_b_level     0\n",
      "secondary_cleaner.state.floatbank4_a_air       0\n",
      "secondary_cleaner.state.floatbank4_a_level     0\n",
      "secondary_cleaner.state.floatbank4_b_air       0\n",
      "secondary_cleaner.state.floatbank4_b_level     0\n",
      "secondary_cleaner.state.floatbank5_a_air       0\n",
      "secondary_cleaner.state.floatbank5_a_level     0\n",
      "secondary_cleaner.state.floatbank5_b_air       0\n",
      "secondary_cleaner.state.floatbank5_b_level     0\n",
      "secondary_cleaner.state.floatbank6_a_air       0\n",
      "secondary_cleaner.state.floatbank6_a_level     0\n",
      "dtype: int64\n",
      "----------------------------------------------------------------------------------------------------\n",
      "ДУБЛИКАТЫ df 0\n",
      "----------------------------------------------------------------------------------------------------\n"
     ]
    }
   ],
   "source": [
    "print(df_test.info())\n",
    "print('-' * 100)\n",
    "\n",
    "print('ПРОПУСКИ df')\n",
    "print(df_test.isna().sum())\n",
    "print('-' * 100)\n",
    "      \n",
    "print('ДУБЛИКАТЫ df', df_test.duplicated().sum())\n",
    "print('-' * 100)"
   ]
  },
  {
   "cell_type": "markdown",
   "metadata": {},
   "source": [
    "Данные индексируются датой и временем получения информации (признак date). Соседние по времени параметры часто похожи.(из условия)"
   ]
  },
  {
   "cell_type": "code",
   "execution_count": 51,
   "metadata": {},
   "outputs": [],
   "source": [
    "df.date = pd.to_datetime(df.date, format='%Y-%m-%d %H:%M:%S')\n",
    "df_train.date = pd.to_datetime(df_train.date, format='%Y-%m-%d %H:%M:%S')\n",
    "df_test.date = pd.to_datetime(df_test.date, format='%Y-%m-%d %H:%M:%S')"
   ]
  },
  {
   "cell_type": "code",
   "execution_count": 52,
   "metadata": {},
   "outputs": [],
   "source": [
    "#избавились от попусков\n",
    "df = df.fillna(method='ffill')\n",
    "df_train = df_train.fillna(method='ffill')\n",
    "df_test = df_test.fillna(method='ffill')"
   ]
  },
  {
   "cell_type": "markdown",
   "metadata": {},
   "source": [
    "### Проверка recovery для rougher.output.recovery."
   ]
  },
  {
   "attachments": {
    "image.png": {
     "image/png": "[encoded data removed]"
    }
   },
   "cell_type": "markdown",
   "metadata": {
    "collapsed": true
   },
   "source": [
    "Проверим, что эффективность обогащения рассчитана правильно. \n",
    "Вычислим её на обучающей выборке для признака rougher.output.recovery. \n",
    "![image.png](attachment:image.png)\n",
    "\n",
    "* C — доля золота в концентрате после флотации/очистки; rougher.output.concentrate_au\n",
    "* F — доля золота в сырье/концентрате до флотации/очистки; rougher.input.feed_au \n",
    "* T — доля золота в отвальных хвостах после флотации/очистки. rougher.output.tail_au"
   ]
  },
  {
   "cell_type": "code",
   "execution_count": 53,
   "metadata": {},
   "outputs": [
    {
     "name": "stdout",
     "output_type": "stream",
     "text": [
      "   check_recovery_train  rougher.output.recovery\n",
      "0             87.107763                87.107763\n",
      "1             86.843261                86.843261\n",
      "2             86.842308                86.842308\n",
      "3             87.226430                87.226430\n",
      "4             86.688794                86.688794\n",
      "Mean Absolute Error: 9.73512347450521e-15\n"
     ]
    }
   ],
   "source": [
    "C = df_train['rougher.output.concentrate_au']\n",
    "F = df_train['rougher.input.feed_au']\n",
    "T = df_train['rougher.output.tail_au']\n",
    "check_recovery = ((C * (F - T)) / (F * (C - T))) * 100\n",
    "check_recovery_train = pd.DataFrame({'check_recovery_train': check_recovery, 'rougher.output.recovery': df_train['rougher.output.recovery']})\n",
    "print(check_recovery_train.head())\n",
    "print('Mean Absolute Error:', mean_absolute_error(df_train['rougher.output.recovery'], check_recovery))"
   ]
  },
  {
   "cell_type": "markdown",
   "metadata": {},
   "source": [
    "MAE не сильно большое 9,7. Можно сказать что эффективность обогащения рассчитана правильно, погрешность достаточно мала. "
   ]
  },
  {
   "cell_type": "markdown",
   "metadata": {},
   "source": [
    "### Проверка recovery для final.output.recovery."
   ]
  },
  {
   "cell_type": "markdown",
   "metadata": {},
   "source": [
    "Эффективность обогащения финального концентрата final.output.recovery. \n",
    "* C — доля золота в концентрате после флотации/очистки; final.output.concentrate_au \n",
    "* F — доля золота в сырье/концентрате до флотации/очистки; rougher.input.feed_au \n",
    "* T — доля золота в отвальных хвостах после флотации/очистки. final.output.tail_au "
   ]
  },
  {
   "cell_type": "code",
   "execution_count": 54,
   "metadata": {},
   "outputs": [
    {
     "name": "stdout",
     "output_type": "stream",
     "text": [
      "Mean Absolute Error: 8.538049763979541e-15\n"
     ]
    }
   ],
   "source": [
    "C = df_train['final.output.concentrate_au']\n",
    "F = df_train['rougher.input.feed_au']\n",
    "T = df_train['final.output.tail_au']\n",
    "check_recovery_final = ((C * (F - T)) / (F * (C - T))) * 100\n",
    "check_recovery_final_train = pd.DataFrame({'check_recovery_final_train': check_recovery_final, 'final.output.recovery': df_train['final.output.recovery']})\n",
    "print('Mean Absolute Error:', mean_absolute_error(df_train['final.output.recovery'], check_recovery_final))"
   ]
  },
  {
   "cell_type": "markdown",
   "metadata": {},
   "source": [
    "Проанализируйте признаки, недоступные в тестовой выборке. Сравним их с признаками обучающей выборки. \n",
    "\n",
    "    (из условия) Некоторые параметры недоступны, потому что замеряются и/или рассчитываются значительно позже. Из-за этого в тестовой выборке отсутствуют некоторые признаки, которые могут быть в обучающей. Также в тестовом наборе нет целевых признаков."
   ]
  },
  {
   "cell_type": "code",
   "execution_count": 55,
   "metadata": {},
   "outputs": [
    {
     "name": "stdout",
     "output_type": "stream",
     "text": [
      "df_train 87\n",
      "df_test 53\n"
     ]
    }
   ],
   "source": [
    "#колличество колонок\n",
    "print('df_train', df_train.shape[1])\n",
    "print('df_test', df_test.shape[1])"
   ]
  },
  {
   "cell_type": "code",
   "execution_count": 56,
   "metadata": {},
   "outputs": [
    {
     "name": "stdout",
     "output_type": "stream",
     "text": [
      "Колличество недоступных признаков: 34\n"
     ]
    }
   ],
   "source": [
    "df_train_columns = pd.Series(df_train.columns)\n",
    "df_test_columns = pd.Series(df_test.columns)\n",
    "inaccessible_signs = df_train_columns.loc[~df_train_columns.isin(df_test_columns)]\n",
    "print('Колличество недоступных признаков:', inaccessible_signs.count())"
   ]
  },
  {
   "cell_type": "code",
   "execution_count": 57,
   "metadata": {},
   "outputs": [
    {
     "data": {
      "text/plain": [
       "1                           final.output.concentrate_ag\n",
       "2                           final.output.concentrate_pb\n",
       "3                          final.output.concentrate_sol\n",
       "4                           final.output.concentrate_au\n",
       "5                                 final.output.recovery\n",
       "6                                  final.output.tail_ag\n",
       "7                                  final.output.tail_pb\n",
       "8                                 final.output.tail_sol\n",
       "9                                  final.output.tail_au\n",
       "14                primary_cleaner.output.concentrate_ag\n",
       "15                primary_cleaner.output.concentrate_pb\n",
       "16               primary_cleaner.output.concentrate_sol\n",
       "17                primary_cleaner.output.concentrate_au\n",
       "18                       primary_cleaner.output.tail_ag\n",
       "19                       primary_cleaner.output.tail_pb\n",
       "20                      primary_cleaner.output.tail_sol\n",
       "21                       primary_cleaner.output.tail_au\n",
       "30        rougher.calculation.sulfate_to_au_concentrate\n",
       "31    rougher.calculation.floatbank10_sulfate_to_au_...\n",
       "32    rougher.calculation.floatbank11_sulfate_to_au_...\n",
       "33                      rougher.calculation.au_pb_ratio\n",
       "44                        rougher.output.concentrate_ag\n",
       "45                        rougher.output.concentrate_pb\n",
       "46                       rougher.output.concentrate_sol\n",
       "47                        rougher.output.concentrate_au\n",
       "48                              rougher.output.recovery\n",
       "49                               rougher.output.tail_ag\n",
       "50                               rougher.output.tail_pb\n",
       "51                              rougher.output.tail_sol\n",
       "52                               rougher.output.tail_au\n",
       "65                     secondary_cleaner.output.tail_ag\n",
       "66                     secondary_cleaner.output.tail_pb\n",
       "67                    secondary_cleaner.output.tail_sol\n",
       "68                     secondary_cleaner.output.tail_au\n",
       "dtype: object"
      ]
     },
     "execution_count": 57,
     "metadata": {},
     "output_type": "execute_result"
    }
   ],
   "source": [
    "inaccessible_signs"
   ]
  },
  {
   "cell_type": "markdown",
   "metadata": {},
   "source": [
    "Отсутствуют параметры: \n",
    "* final.output. ... - финальные характеристики параметра продукта, такие данные получают в конце технологического процесса \n",
    "* primary_cleaner.output. ... - первичная очистка параметра продукта, отсутствует для концентратов и хвостов.\n",
    "* rougher.calculation. ... - флотация расчётных характеристик\n",
    "* rougher.output. ... - флотация параметра продукта, отсутствуют и концентраты и эффективность и хвосты.\n",
    "* secondary_cleaner.output. ... -  вторичная очистка параметра продукта, отсутствуют только у хвостов"
   ]
  },
  {
   "cell_type": "markdown",
   "metadata": {},
   "source": [
    "Отсутствуют два целевых признака: rougher.output.recovery и final.output.recovery. Добавим их в тестовую выборку. "
   ]
  },
  {
   "cell_type": "code",
   "execution_count": 58,
   "metadata": {},
   "outputs": [
    {
     "data": {
      "text/plain": [
       "55"
      ]
     },
     "execution_count": 58,
     "metadata": {},
     "output_type": "execute_result"
    }
   ],
   "source": [
    "df_test = df_test.merge(df.loc[:, ['date','rougher.output.recovery','final.output.recovery']], on='date', how='left')\n",
    "df_test.shape[1]"
   ]
  },
  {
   "cell_type": "code",
   "execution_count": 59,
   "metadata": {
    "scrolled": true
   },
   "outputs": [
    {
     "data": {
      "text/plain": [
       "date                                          0\n",
       "primary_cleaner.input.sulfate                 0\n",
       "primary_cleaner.input.depressant              0\n",
       "primary_cleaner.input.feed_size               0\n",
       "primary_cleaner.input.xanthate                0\n",
       "primary_cleaner.state.floatbank8_a_air        0\n",
       "primary_cleaner.state.floatbank8_a_level      0\n",
       "primary_cleaner.state.floatbank8_b_air        0\n",
       "primary_cleaner.state.floatbank8_b_level      0\n",
       "primary_cleaner.state.floatbank8_c_air        0\n",
       "primary_cleaner.state.floatbank8_c_level      0\n",
       "primary_cleaner.state.floatbank8_d_air        0\n",
       "primary_cleaner.state.floatbank8_d_level      0\n",
       "rougher.input.feed_ag                         0\n",
       "rougher.input.feed_pb                         0\n",
       "rougher.input.feed_rate                       0\n",
       "rougher.input.feed_size                       0\n",
       "rougher.input.feed_sol                        0\n",
       "rougher.input.feed_au                         0\n",
       "rougher.input.floatbank10_sulfate             0\n",
       "rougher.input.floatbank10_xanthate            0\n",
       "rougher.input.floatbank11_sulfate             0\n",
       "rougher.input.floatbank11_xanthate            0\n",
       "rougher.state.floatbank10_a_air               0\n",
       "rougher.state.floatbank10_a_level             0\n",
       "rougher.state.floatbank10_b_air               0\n",
       "rougher.state.floatbank10_b_level             0\n",
       "rougher.state.floatbank10_c_air               0\n",
       "rougher.state.floatbank10_c_level             0\n",
       "rougher.state.floatbank10_d_air               0\n",
       "rougher.state.floatbank10_d_level             0\n",
       "rougher.state.floatbank10_e_air               0\n",
       "rougher.state.floatbank10_e_level             0\n",
       "rougher.state.floatbank10_f_air               0\n",
       "rougher.state.floatbank10_f_level             0\n",
       "secondary_cleaner.state.floatbank2_a_air      0\n",
       "secondary_cleaner.state.floatbank2_a_level    0\n",
       "secondary_cleaner.state.floatbank2_b_air      0\n",
       "secondary_cleaner.state.floatbank2_b_level    0\n",
       "secondary_cleaner.state.floatbank3_a_air      0\n",
       "secondary_cleaner.state.floatbank3_a_level    0\n",
       "secondary_cleaner.state.floatbank3_b_air      0\n",
       "secondary_cleaner.state.floatbank3_b_level    0\n",
       "secondary_cleaner.state.floatbank4_a_air      0\n",
       "secondary_cleaner.state.floatbank4_a_level    0\n",
       "secondary_cleaner.state.floatbank4_b_air      0\n",
       "secondary_cleaner.state.floatbank4_b_level    0\n",
       "secondary_cleaner.state.floatbank5_a_air      0\n",
       "secondary_cleaner.state.floatbank5_a_level    0\n",
       "secondary_cleaner.state.floatbank5_b_air      0\n",
       "secondary_cleaner.state.floatbank5_b_level    0\n",
       "secondary_cleaner.state.floatbank6_a_air      0\n",
       "secondary_cleaner.state.floatbank6_a_level    0\n",
       "rougher.output.recovery                       0\n",
       "final.output.recovery                         0\n",
       "dtype: int64"
      ]
     },
     "execution_count": 59,
     "metadata": {},
     "output_type": "execute_result"
    }
   ],
   "source": [
    "df_test.isna().sum()"
   ]
  },
  {
   "cell_type": "markdown",
   "metadata": {},
   "source": [
    "## Анализ данных"
   ]
  },
  {
   "cell_type": "markdown",
   "metadata": {},
   "source": [
    "Рассмотрим, как меняется концентрация металлов (Au, Ag, Pb) на различных этапах очистки.\n",
    "### Изменение Au"
   ]
  },
  {
   "cell_type": "code",
   "execution_count": 60,
   "metadata": {},
   "outputs": [],
   "source": [
    "def graph(x1, lx1, x2, lx2, x3, lx3, x4, lx4, title):\n",
    "    plt.figure(figsize=(15,7), dpi= 80)\n",
    "    plt.hist(x1, density = True, histtype ='bar', color = 'blue', label = lx1, edgecolor = 'black', bins = int(180/10), alpha=0.5) \n",
    "    plt.hist(x2, density = True, histtype ='bar', color = 'pink', label = lx2, edgecolor = 'black', bins = int(180/10), alpha=0.3) \n",
    "    plt.hist(x3, density = True, histtype ='bar', color = 'orange', label = lx3, edgecolor = 'black', bins = int(180/10),  alpha=0.3)\n",
    "    plt.hist(x4, density = True, histtype ='bar', color = 'green', label = lx4, edgecolor = 'black', bins = int(180/10), alpha=0.3) \n",
    "    plt.legend(prop ={'size': 10}) \n",
    "    plt.title(title)\n",
    "    plt.show()\n"
   ]
  },
  {
   "cell_type": "code",
   "execution_count": 61,
   "metadata": {},
   "outputs": [
    {
     "data": {
      "image/png": "[encoded data removed]",
      "text/plain": [
       "<Figure size 1200x560 with 1 Axes>"
      ]
     },
     "metadata": {
      "needs_background": "light"
     },
     "output_type": "display_data"
    }
   ],
   "source": [
    "graph(df_train['rougher.input.feed_au'], \n",
    "      'сырье', \n",
    "      df_train['rougher.output.concentrate_au'], \n",
    "      'после плотации', \n",
    "      df_train['primary_cleaner.output.concentrate_au'], \n",
    "      'после первой очистки', \n",
    "      df_train['final.output.concentrate_au'], \n",
    "      'финальная', \n",
    "      'Изменение концентрации металлов Au')"
   ]
  },
  {
   "cell_type": "markdown",
   "metadata": {},
   "source": [
    "Концентрация металлов постоянно повышалась. В финальной обраотке концентрация самая высокая."
   ]
  },
  {
   "cell_type": "markdown",
   "metadata": {},
   "source": [
    "### Изменение  Ag"
   ]
  },
  {
   "cell_type": "code",
   "execution_count": 62,
   "metadata": {},
   "outputs": [
    {
     "data": {
      "image/png": "[encoded data removed]",
      "text/plain": [
       "<Figure size 1200x560 with 1 Axes>"
      ]
     },
     "metadata": {
      "needs_background": "light"
     },
     "output_type": "display_data"
    }
   ],
   "source": [
    "# ПЕРВЫЙ вариант\n",
    "graph(df_train['rougher.input.feed_ag'], \n",
    "      'сырье', \n",
    "      df_train['rougher.output.concentrate_ag'], \n",
    "      'после флотации', \n",
    "      df_train['primary_cleaner.output.concentrate_ag'], \n",
    "      'после первой очистки', \n",
    "      df_train['final.output.concentrate_ag'], \n",
    "      'финальная', \n",
    "      'Изменение концентрации металлов Ag')"
   ]
  },
  {
   "cell_type": "code",
   "execution_count": 63,
   "metadata": {},
   "outputs": [
    {
     "data": {
      "image/png": "[encoded data removed]",
      "text/plain": [
       "<Figure size 1080x360 with 1 Axes>"
      ]
     },
     "metadata": {
      "needs_background": "light"
     },
     "output_type": "display_data"
    }
   ],
   "source": [
    "# ВТОРОЙ вариант\n",
    "bins = np.linspace(-1, 20, 20)\n",
    "plt.figure(figsize=(15,5))\n",
    "plt.hist([df_train['rougher.input.feed_ag'], \n",
    "          df_train['rougher.output.concentrate_ag'],\n",
    "         df_train['primary_cleaner.output.concentrate_ag'],\n",
    "         df_train['final.output.concentrate_ag']], \n",
    "         bins, \n",
    "         label=['сырье', 'после плотации', 'после первой очистки', 'финальная'])\n",
    "plt.legend(loc='upper right')\n",
    "plt.title('Изменение концентрации металлов Ag')\n",
    "plt.show()"
   ]
  },
  {
   "cell_type": "markdown",
   "metadata": {},
   "source": [
    "Концентрация металлов после флотации повысилась достаточно сильно, после первой очистки понизилась, и финальная доля концентрации в большинстве еще понизилась."
   ]
  },
  {
   "cell_type": "markdown",
   "metadata": {},
   "source": [
    "### Изменение Pb"
   ]
  },
  {
   "cell_type": "code",
   "execution_count": 64,
   "metadata": {},
   "outputs": [
    {
     "data": {
      "image/png": "[encoded data removed]",
      "text/plain": [
       "<Figure size 1200x560 with 1 Axes>"
      ]
     },
     "metadata": {
      "needs_background": "light"
     },
     "output_type": "display_data"
    }
   ],
   "source": [
    "# ПЕРВЫЙ вариант\n",
    "graph(df_train['rougher.input.feed_pb'], \n",
    "      'сырье', \n",
    "      df_train['rougher.output.concentrate_pb'], \n",
    "      'после плотации', \n",
    "      df_train['primary_cleaner.output.concentrate_pb'], \n",
    "      'после первой очистки', \n",
    "      df_train['final.output.concentrate_pb'], \n",
    "      'финальная', \n",
    "      'Изменение концентрации металлов Pb')"
   ]
  },
  {
   "cell_type": "code",
   "execution_count": 65,
   "metadata": {},
   "outputs": [
    {
     "data": {
      "image/png": "[encoded data removed]",
      "text/plain": [
       "<Figure size 1080x360 with 1 Axes>"
      ]
     },
     "metadata": {
      "needs_background": "light"
     },
     "output_type": "display_data"
    }
   ],
   "source": [
    "# ВТОРОЙ вариант\n",
    "bins = np.linspace(-1, 18, 15)\n",
    "plt.figure(figsize=(15,5))\n",
    "plt.hist([df_train['rougher.input.feed_pb'], \n",
    "          df_train['rougher.output.concentrate_pb'],\n",
    "         df_train['primary_cleaner.output.concentrate_pb'],\n",
    "         df_train['final.output.concentrate_pb']], \n",
    "         bins, \n",
    "         label=['сырье', 'после флотации', 'после первой очистки', 'финальная'])\n",
    "plt.legend(loc='upper right')\n",
    "plt.title('Изменение концентрации металлов Pb')\n",
    "plt.show()"
   ]
  },
  {
   "cell_type": "markdown",
   "metadata": {},
   "source": [
    "Концентрация металлов после флотации повысилась, а после первой очистки и финальная почти на одном уровне. "
   ]
  },
  {
   "cell_type": "markdown",
   "metadata": {},
   "source": [
    "### Сравним распределение размеров гранул сырья на обучающей и тестовой выборках."
   ]
  },
  {
   "cell_type": "code",
   "execution_count": 66,
   "metadata": {},
   "outputs": [
    {
     "data": {
      "image/png": "[encoded data removed]",
      "text/plain": [
       "<Figure size 360x360 with 1 Axes>"
      ]
     },
     "metadata": {
      "needs_background": "light"
     },
     "output_type": "display_data"
    }
   ],
   "source": [
    "#после флотации\n",
    "plt.figure(figsize=(5,5))\n",
    "df_train['rougher.input.feed_size'].hist(bins=20, label='train', range=(0,100))\n",
    "df_test['rougher.input.feed_size'].hist(bins=20, label='test', range=(0,100))\n",
    "plt.legend(loc='upper right')\n",
    "plt.title('распределение гранул сырья до 100')\n",
    "plt.show()"
   ]
  },
  {
   "cell_type": "code",
   "execution_count": 67,
   "metadata": {
    "scrolled": true
   },
   "outputs": [
    {
     "data": {
      "image/png": "[encoded data removed]",
      "text/plain": [
       "<Figure size 360x360 with 1 Axes>"
      ]
     },
     "metadata": {
      "needs_background": "light"
     },
     "output_type": "display_data"
    }
   ],
   "source": [
    "plt.figure(figsize=(5,5))\n",
    "df_train['rougher.input.feed_size'].hist(bins=20, label='train')\n",
    "df_test['rougher.input.feed_size'].hist(bins=20, label='test')\n",
    "plt.legend(loc='upper right')\n",
    "plt.title('распределение гранул сырья полностью')\n",
    "plt.show()"
   ]
  },
  {
   "cell_type": "code",
   "execution_count": 68,
   "metadata": {},
   "outputs": [
    {
     "data": {
      "image/png": "[encoded data removed]",
      "text/plain": [
       "<Figure size 1080x504 with 1 Axes>"
      ]
     },
     "metadata": {
      "needs_background": "light"
     },
     "output_type": "display_data"
    }
   ],
   "source": [
    "plt.figure(figsize=(15,7))\n",
    "sns.kdeplot(df_train['rougher.input.feed_size'], shade = True ,  bw_adjust=0.3)\n",
    "sns.kdeplot(df_test['rougher.input.feed_size'], shade = True,  bw_adjust=0.3)\n",
    "plt.show()"
   ]
  },
  {
   "cell_type": "markdown",
   "metadata": {},
   "source": [
    "После флотации распределение гранул между 20 и 100 частое, но на тестовой выбоки в этом диапозоне значения встречаютя чуть реже на примерно 1000. Есть так же редкие значения, их очень мало. Я бы не сказала что распределения похоже, но будем считать что похожи. \n",
    "\n",
    "\n",
    "\n",
    "(??? а что реально делать в такой ситуаци, я в чате увидела что тут проверяют гипотезу тестом, и пушут что не совпадает, нужно ли тут так проверять? )"
   ]
  },
  {
   "cell_type": "code",
   "execution_count": 69,
   "metadata": {},
   "outputs": [
    {
     "data": {
      "image/png": "[encoded data removed]",
      "text/plain": [
       "<Figure size 360x360 with 1 Axes>"
      ]
     },
     "metadata": {
      "needs_background": "light"
     },
     "output_type": "display_data"
    }
   ],
   "source": [
    "#после первичной очистки\n",
    "plt.figure(figsize=(5,5))\n",
    "df_train['primary_cleaner.input.feed_size'].hist(bins=20, label='train', range=(6,9))\n",
    "df_test['primary_cleaner.input.feed_size'].hist(bins=20, label='test', range=(6,9))\n",
    "plt.legend(loc='upper right')\n",
    "plt.title('распределение гранул сырья до 9')\n",
    "plt.show()"
   ]
  },
  {
   "cell_type": "code",
   "execution_count": 70,
   "metadata": {},
   "outputs": [
    {
     "data": {
      "image/png": "[encoded data removed]",
      "text/plain": [
       "<Figure size 360x360 with 1 Axes>"
      ]
     },
     "metadata": {
      "needs_background": "light"
     },
     "output_type": "display_data"
    }
   ],
   "source": [
    "plt.figure(figsize=(5,5))\n",
    "df_train['primary_cleaner.input.feed_size'].hist(bins=20, label='train')\n",
    "df_test['primary_cleaner.input.feed_size'].hist(bins=20, label='test')\n",
    "plt.legend(loc='upper right')\n",
    "plt.title('распределение гранул сырья полностью')\n",
    "plt.show()"
   ]
  },
  {
   "cell_type": "markdown",
   "metadata": {},
   "source": [
    "После первой очистки диапозон распределений уже совпадает, и выбросов нет. Опять же количество наблюдений на тестовой выборки явно меньше в 2 раза точно. "
   ]
  },
  {
   "cell_type": "code",
   "execution_count": 71,
   "metadata": {},
   "outputs": [
    {
     "data": {
      "image/png": "[encoded data removed]",
      "text/plain": [
       "<Figure size 1080x504 with 1 Axes>"
      ]
     },
     "metadata": {
      "needs_background": "light"
     },
     "output_type": "display_data"
    }
   ],
   "source": [
    "plt.figure(figsize=(15,7))\n",
    "sns.kdeplot(df_train['primary_cleaner.input.feed_size'], shade = True ,  bw_adjust=0.5)\n",
    "sns.kdeplot(df_test['primary_cleaner.input.feed_size'], shade = True,  bw_adjust=0.7)\n",
    "plt.show()"
   ]
  },
  {
   "cell_type": "markdown",
   "metadata": {},
   "source": [
    "### Исследуем суммарную концентрацию всех веществ на разных стадиях: в сырье, в черновом и финальном концентратах. "
   ]
  },
  {
   "cell_type": "code",
   "execution_count": 72,
   "metadata": {},
   "outputs": [
    {
     "data": {
      "text/html": [
       "<div>\n",
       "<style scoped>\n",
       "    .dataframe tbody tr th:only-of-type {\n",
       "        vertical-align: middle;\n",
       "    }\n",
       "\n",
       "    .dataframe tbody tr th {\n",
       "        vertical-align: top;\n",
       "    }\n",
       "\n",
       "    .dataframe thead th {\n",
       "        text-align: right;\n",
       "    }\n",
       "</style>\n",
       "<table border=\"1\" class=\"dataframe\">\n",
       "  <thead>\n",
       "    <tr style=\"text-align: right;\">\n",
       "      <th></th>\n",
       "      <th>rougher.input.feed_ag</th>\n",
       "      <th>rougher.input.feed_pb</th>\n",
       "      <th>rougher.input.feed_sol</th>\n",
       "      <th>rougher.input.feed_au</th>\n",
       "      <th>total concentration</th>\n",
       "    </tr>\n",
       "  </thead>\n",
       "  <tbody>\n",
       "    <tr>\n",
       "      <th>0</th>\n",
       "      <td>6.100378</td>\n",
       "      <td>2.284912</td>\n",
       "      <td>36.808594</td>\n",
       "      <td>6.486150</td>\n",
       "      <td>51.680034</td>\n",
       "    </tr>\n",
       "    <tr>\n",
       "      <th>1</th>\n",
       "      <td>6.161113</td>\n",
       "      <td>2.266033</td>\n",
       "      <td>35.753385</td>\n",
       "      <td>6.478583</td>\n",
       "      <td>50.659114</td>\n",
       "    </tr>\n",
       "    <tr>\n",
       "      <th>2</th>\n",
       "      <td>6.116455</td>\n",
       "      <td>2.159622</td>\n",
       "      <td>35.971630</td>\n",
       "      <td>6.362222</td>\n",
       "      <td>50.609929</td>\n",
       "    </tr>\n",
       "    <tr>\n",
       "      <th>3</th>\n",
       "      <td>6.043309</td>\n",
       "      <td>2.037807</td>\n",
       "      <td>36.862241</td>\n",
       "      <td>6.118189</td>\n",
       "      <td>51.061546</td>\n",
       "    </tr>\n",
       "    <tr>\n",
       "      <th>4</th>\n",
       "      <td>6.060915</td>\n",
       "      <td>1.786875</td>\n",
       "      <td>34.347666</td>\n",
       "      <td>5.663707</td>\n",
       "      <td>47.859163</td>\n",
       "    </tr>\n",
       "    <tr>\n",
       "      <th>...</th>\n",
       "      <td>...</td>\n",
       "      <td>...</td>\n",
       "      <td>...</td>\n",
       "      <td>...</td>\n",
       "      <td>...</td>\n",
       "    </tr>\n",
       "    <tr>\n",
       "      <th>14144</th>\n",
       "      <td>6.091855</td>\n",
       "      <td>4.617558</td>\n",
       "      <td>37.369774</td>\n",
       "      <td>5.335862</td>\n",
       "      <td>53.415050</td>\n",
       "    </tr>\n",
       "    <tr>\n",
       "      <th>14145</th>\n",
       "      <td>6.121323</td>\n",
       "      <td>4.144989</td>\n",
       "      <td>38.591551</td>\n",
       "      <td>4.838619</td>\n",
       "      <td>53.696482</td>\n",
       "    </tr>\n",
       "    <tr>\n",
       "      <th>14146</th>\n",
       "      <td>5.970515</td>\n",
       "      <td>4.020002</td>\n",
       "      <td>40.074026</td>\n",
       "      <td>4.525061</td>\n",
       "      <td>54.589604</td>\n",
       "    </tr>\n",
       "    <tr>\n",
       "      <th>14147</th>\n",
       "      <td>6.048130</td>\n",
       "      <td>3.902537</td>\n",
       "      <td>39.713906</td>\n",
       "      <td>4.362781</td>\n",
       "      <td>54.027355</td>\n",
       "    </tr>\n",
       "    <tr>\n",
       "      <th>14148</th>\n",
       "      <td>6.158718</td>\n",
       "      <td>3.875727</td>\n",
       "      <td>39.135119</td>\n",
       "      <td>4.365491</td>\n",
       "      <td>53.535054</td>\n",
       "    </tr>\n",
       "  </tbody>\n",
       "</table>\n",
       "<p>14149 rows × 5 columns</p>\n",
       "</div>"
      ],
      "text/plain": [
       "       rougher.input.feed_ag  rougher.input.feed_pb  rougher.input.feed_sol  \\\n",
       "0                   6.100378               2.284912               36.808594   \n",
       "1                   6.161113               2.266033               35.753385   \n",
       "2                   6.116455               2.159622               35.971630   \n",
       "3                   6.043309               2.037807               36.862241   \n",
       "4                   6.060915               1.786875               34.347666   \n",
       "...                      ...                    ...                     ...   \n",
       "14144               6.091855               4.617558               37.369774   \n",
       "14145               6.121323               4.144989               38.591551   \n",
       "14146               5.970515               4.020002               40.074026   \n",
       "14147               6.048130               3.902537               39.713906   \n",
       "14148               6.158718               3.875727               39.135119   \n",
       "\n",
       "       rougher.input.feed_au  total concentration  \n",
       "0                   6.486150            51.680034  \n",
       "1                   6.478583            50.659114  \n",
       "2                   6.362222            50.609929  \n",
       "3                   6.118189            51.061546  \n",
       "4                   5.663707            47.859163  \n",
       "...                      ...                  ...  \n",
       "14144               5.335862            53.415050  \n",
       "14145               4.838619            53.696482  \n",
       "14146               4.525061            54.589604  \n",
       "14147               4.362781            54.027355  \n",
       "14148               4.365491            53.535054  \n",
       "\n",
       "[14149 rows x 5 columns]"
      ]
     },
     "execution_count": 72,
     "metadata": {},
     "output_type": "execute_result"
    }
   ],
   "source": [
    "#сырье\n",
    "feed = df_train[['rougher.input.feed_ag', \n",
    "                 'rougher.input.feed_pb', \n",
    "                 'rougher.input.feed_sol', \n",
    "                 'rougher.input.feed_au']].copy()\n",
    "feed['total concentration'] = (feed['rougher.input.feed_ag'] + \n",
    "                               feed['rougher.input.feed_pb'] + \n",
    "                               feed['rougher.input.feed_sol'] + \n",
    "                               feed['rougher.input.feed_au'])\n",
    "feed"
   ]
  },
  {
   "cell_type": "code",
   "execution_count": 73,
   "metadata": {},
   "outputs": [
    {
     "data": {
      "text/html": [
       "<div>\n",
       "<style scoped>\n",
       "    .dataframe tbody tr th:only-of-type {\n",
       "        vertical-align: middle;\n",
       "    }\n",
       "\n",
       "    .dataframe tbody tr th {\n",
       "        vertical-align: top;\n",
       "    }\n",
       "\n",
       "    .dataframe thead th {\n",
       "        text-align: right;\n",
       "    }\n",
       "</style>\n",
       "<table border=\"1\" class=\"dataframe\">\n",
       "  <thead>\n",
       "    <tr style=\"text-align: right;\">\n",
       "      <th></th>\n",
       "      <th>rougher.output.concentrate_ag</th>\n",
       "      <th>rougher.output.concentrate_pb</th>\n",
       "      <th>rougher.output.concentrate_sol</th>\n",
       "      <th>rougher.output.concentrate_au</th>\n",
       "      <th>total concentration</th>\n",
       "    </tr>\n",
       "  </thead>\n",
       "  <tbody>\n",
       "    <tr>\n",
       "      <th>0</th>\n",
       "      <td>11.500771</td>\n",
       "      <td>7.101074</td>\n",
       "      <td>28.029297</td>\n",
       "      <td>19.793808</td>\n",
       "      <td>66.424950</td>\n",
       "    </tr>\n",
       "    <tr>\n",
       "      <th>1</th>\n",
       "      <td>11.615865</td>\n",
       "      <td>7.278807</td>\n",
       "      <td>28.067063</td>\n",
       "      <td>20.050975</td>\n",
       "      <td>67.012710</td>\n",
       "    </tr>\n",
       "    <tr>\n",
       "      <th>2</th>\n",
       "      <td>11.695753</td>\n",
       "      <td>7.216833</td>\n",
       "      <td>27.454037</td>\n",
       "      <td>19.737170</td>\n",
       "      <td>66.103793</td>\n",
       "    </tr>\n",
       "    <tr>\n",
       "      <th>3</th>\n",
       "      <td>11.915047</td>\n",
       "      <td>7.175616</td>\n",
       "      <td>27.341277</td>\n",
       "      <td>19.320810</td>\n",
       "      <td>65.752751</td>\n",
       "    </tr>\n",
       "    <tr>\n",
       "      <th>4</th>\n",
       "      <td>12.411054</td>\n",
       "      <td>7.240205</td>\n",
       "      <td>27.041023</td>\n",
       "      <td>19.216101</td>\n",
       "      <td>65.908382</td>\n",
       "    </tr>\n",
       "    <tr>\n",
       "      <th>...</th>\n",
       "      <td>...</td>\n",
       "      <td>...</td>\n",
       "      <td>...</td>\n",
       "      <td>...</td>\n",
       "      <td>...</td>\n",
       "    </tr>\n",
       "    <tr>\n",
       "      <th>14144</th>\n",
       "      <td>11.124896</td>\n",
       "      <td>10.984003</td>\n",
       "      <td>30.068876</td>\n",
       "      <td>18.603550</td>\n",
       "      <td>70.781325</td>\n",
       "    </tr>\n",
       "    <tr>\n",
       "      <th>14145</th>\n",
       "      <td>11.425983</td>\n",
       "      <td>10.888213</td>\n",
       "      <td>29.783972</td>\n",
       "      <td>18.441436</td>\n",
       "      <td>70.539603</td>\n",
       "    </tr>\n",
       "    <tr>\n",
       "      <th>14146</th>\n",
       "      <td>8.523497</td>\n",
       "      <td>8.955135</td>\n",
       "      <td>22.786467</td>\n",
       "      <td>15.111231</td>\n",
       "      <td>55.376330</td>\n",
       "    </tr>\n",
       "    <tr>\n",
       "      <th>14147</th>\n",
       "      <td>11.658799</td>\n",
       "      <td>10.655377</td>\n",
       "      <td>29.052742</td>\n",
       "      <td>17.834772</td>\n",
       "      <td>69.201689</td>\n",
       "    </tr>\n",
       "    <tr>\n",
       "      <th>14148</th>\n",
       "      <td>11.959486</td>\n",
       "      <td>10.702148</td>\n",
       "      <td>29.078235</td>\n",
       "      <td>17.804134</td>\n",
       "      <td>69.544003</td>\n",
       "    </tr>\n",
       "  </tbody>\n",
       "</table>\n",
       "<p>14149 rows × 5 columns</p>\n",
       "</div>"
      ],
      "text/plain": [
       "       rougher.output.concentrate_ag  rougher.output.concentrate_pb  \\\n",
       "0                          11.500771                       7.101074   \n",
       "1                          11.615865                       7.278807   \n",
       "2                          11.695753                       7.216833   \n",
       "3                          11.915047                       7.175616   \n",
       "4                          12.411054                       7.240205   \n",
       "...                              ...                            ...   \n",
       "14144                      11.124896                      10.984003   \n",
       "14145                      11.425983                      10.888213   \n",
       "14146                       8.523497                       8.955135   \n",
       "14147                      11.658799                      10.655377   \n",
       "14148                      11.959486                      10.702148   \n",
       "\n",
       "       rougher.output.concentrate_sol  rougher.output.concentrate_au  \\\n",
       "0                           28.029297                      19.793808   \n",
       "1                           28.067063                      20.050975   \n",
       "2                           27.454037                      19.737170   \n",
       "3                           27.341277                      19.320810   \n",
       "4                           27.041023                      19.216101   \n",
       "...                               ...                            ...   \n",
       "14144                       30.068876                      18.603550   \n",
       "14145                       29.783972                      18.441436   \n",
       "14146                       22.786467                      15.111231   \n",
       "14147                       29.052742                      17.834772   \n",
       "14148                       29.078235                      17.804134   \n",
       "\n",
       "       total concentration  \n",
       "0                66.424950  \n",
       "1                67.012710  \n",
       "2                66.103793  \n",
       "3                65.752751  \n",
       "4                65.908382  \n",
       "...                    ...  \n",
       "14144            70.781325  \n",
       "14145            70.539603  \n",
       "14146            55.376330  \n",
       "14147            69.201689  \n",
       "14148            69.544003  \n",
       "\n",
       "[14149 rows x 5 columns]"
      ]
     },
     "execution_count": 73,
     "metadata": {},
     "output_type": "execute_result"
    }
   ],
   "source": [
    "#после флотации\n",
    "rougher_conc = df_train[['rougher.output.concentrate_ag', \n",
    "                 'rougher.output.concentrate_pb', \n",
    "                 'rougher.output.concentrate_sol', \n",
    "                 'rougher.output.concentrate_au']].copy()\n",
    "rougher_conc['total concentration'] = (rougher_conc['rougher.output.concentrate_ag'] + \n",
    "                                       rougher_conc['rougher.output.concentrate_pb'] + \n",
    "                                       rougher_conc['rougher.output.concentrate_sol'] + \n",
    "                                       rougher_conc['rougher.output.concentrate_au'])\n",
    "rougher_conc"
   ]
  },
  {
   "cell_type": "code",
   "execution_count": 74,
   "metadata": {},
   "outputs": [
    {
     "data": {
      "text/html": [
       "<div>\n",
       "<style scoped>\n",
       "    .dataframe tbody tr th:only-of-type {\n",
       "        vertical-align: middle;\n",
       "    }\n",
       "\n",
       "    .dataframe tbody tr th {\n",
       "        vertical-align: top;\n",
       "    }\n",
       "\n",
       "    .dataframe thead th {\n",
       "        text-align: right;\n",
       "    }\n",
       "</style>\n",
       "<table border=\"1\" class=\"dataframe\">\n",
       "  <thead>\n",
       "    <tr style=\"text-align: right;\">\n",
       "      <th></th>\n",
       "      <th>final.output.concentrate_ag</th>\n",
       "      <th>final.output.concentrate_pb</th>\n",
       "      <th>final.output.concentrate_sol</th>\n",
       "      <th>final.output.concentrate_au</th>\n",
       "      <th>total concentration</th>\n",
       "    </tr>\n",
       "  </thead>\n",
       "  <tbody>\n",
       "    <tr>\n",
       "      <th>0</th>\n",
       "      <td>6.055403</td>\n",
       "      <td>9.889648</td>\n",
       "      <td>5.507324</td>\n",
       "      <td>42.192020</td>\n",
       "      <td>63.644396</td>\n",
       "    </tr>\n",
       "    <tr>\n",
       "      <th>1</th>\n",
       "      <td>6.029369</td>\n",
       "      <td>9.968944</td>\n",
       "      <td>5.257781</td>\n",
       "      <td>42.701629</td>\n",
       "      <td>63.957723</td>\n",
       "    </tr>\n",
       "    <tr>\n",
       "      <th>2</th>\n",
       "      <td>6.055926</td>\n",
       "      <td>10.213995</td>\n",
       "      <td>5.383759</td>\n",
       "      <td>42.657501</td>\n",
       "      <td>64.311180</td>\n",
       "    </tr>\n",
       "    <tr>\n",
       "      <th>3</th>\n",
       "      <td>6.047977</td>\n",
       "      <td>9.977019</td>\n",
       "      <td>4.858634</td>\n",
       "      <td>42.689819</td>\n",
       "      <td>63.573449</td>\n",
       "    </tr>\n",
       "    <tr>\n",
       "      <th>4</th>\n",
       "      <td>6.148599</td>\n",
       "      <td>10.142511</td>\n",
       "      <td>4.939416</td>\n",
       "      <td>42.774141</td>\n",
       "      <td>64.004667</td>\n",
       "    </tr>\n",
       "    <tr>\n",
       "      <th>...</th>\n",
       "      <td>...</td>\n",
       "      <td>...</td>\n",
       "      <td>...</td>\n",
       "      <td>...</td>\n",
       "      <td>...</td>\n",
       "    </tr>\n",
       "    <tr>\n",
       "      <th>14144</th>\n",
       "      <td>3.224920</td>\n",
       "      <td>11.356233</td>\n",
       "      <td>6.803482</td>\n",
       "      <td>46.713954</td>\n",
       "      <td>68.098589</td>\n",
       "    </tr>\n",
       "    <tr>\n",
       "      <th>14145</th>\n",
       "      <td>3.195978</td>\n",
       "      <td>11.349355</td>\n",
       "      <td>6.862249</td>\n",
       "      <td>46.866780</td>\n",
       "      <td>68.274362</td>\n",
       "    </tr>\n",
       "    <tr>\n",
       "      <th>14146</th>\n",
       "      <td>3.109998</td>\n",
       "      <td>11.434366</td>\n",
       "      <td>6.886013</td>\n",
       "      <td>46.795691</td>\n",
       "      <td>68.226068</td>\n",
       "    </tr>\n",
       "    <tr>\n",
       "      <th>14147</th>\n",
       "      <td>3.367241</td>\n",
       "      <td>11.625587</td>\n",
       "      <td>6.799433</td>\n",
       "      <td>46.408188</td>\n",
       "      <td>68.200449</td>\n",
       "    </tr>\n",
       "    <tr>\n",
       "      <th>14148</th>\n",
       "      <td>3.598375</td>\n",
       "      <td>11.737832</td>\n",
       "      <td>6.717509</td>\n",
       "      <td>46.299438</td>\n",
       "      <td>68.353154</td>\n",
       "    </tr>\n",
       "  </tbody>\n",
       "</table>\n",
       "<p>14149 rows × 5 columns</p>\n",
       "</div>"
      ],
      "text/plain": [
       "       final.output.concentrate_ag  final.output.concentrate_pb  \\\n",
       "0                         6.055403                     9.889648   \n",
       "1                         6.029369                     9.968944   \n",
       "2                         6.055926                    10.213995   \n",
       "3                         6.047977                     9.977019   \n",
       "4                         6.148599                    10.142511   \n",
       "...                            ...                          ...   \n",
       "14144                     3.224920                    11.356233   \n",
       "14145                     3.195978                    11.349355   \n",
       "14146                     3.109998                    11.434366   \n",
       "14147                     3.367241                    11.625587   \n",
       "14148                     3.598375                    11.737832   \n",
       "\n",
       "       final.output.concentrate_sol  final.output.concentrate_au  \\\n",
       "0                          5.507324                    42.192020   \n",
       "1                          5.257781                    42.701629   \n",
       "2                          5.383759                    42.657501   \n",
       "3                          4.858634                    42.689819   \n",
       "4                          4.939416                    42.774141   \n",
       "...                             ...                          ...   \n",
       "14144                      6.803482                    46.713954   \n",
       "14145                      6.862249                    46.866780   \n",
       "14146                      6.886013                    46.795691   \n",
       "14147                      6.799433                    46.408188   \n",
       "14148                      6.717509                    46.299438   \n",
       "\n",
       "       total concentration  \n",
       "0                63.644396  \n",
       "1                63.957723  \n",
       "2                64.311180  \n",
       "3                63.573449  \n",
       "4                64.004667  \n",
       "...                    ...  \n",
       "14144            68.098589  \n",
       "14145            68.274362  \n",
       "14146            68.226068  \n",
       "14147            68.200449  \n",
       "14148            68.353154  \n",
       "\n",
       "[14149 rows x 5 columns]"
      ]
     },
     "execution_count": 74,
     "metadata": {},
     "output_type": "execute_result"
    }
   ],
   "source": [
    "# финальный концентрат\n",
    "final_conc = df_train[['final.output.concentrate_ag', \n",
    "                 'final.output.concentrate_pb', \n",
    "                 'final.output.concentrate_sol', \n",
    "                 'final.output.concentrate_au']].copy()\n",
    "final_conc['total concentration'] = (final_conc['final.output.concentrate_ag'] + \n",
    "                                       final_conc['final.output.concentrate_pb'] + \n",
    "                                       final_conc['final.output.concentrate_sol'] + \n",
    "                                       final_conc['final.output.concentrate_au'])\n",
    "final_conc"
   ]
  },
  {
   "cell_type": "code",
   "execution_count": 75,
   "metadata": {},
   "outputs": [
    {
     "data": {
      "image/png": "[encoded data removed]",
      "text/plain": [
       "<Figure size 1080x648 with 1 Axes>"
      ]
     },
     "metadata": {
      "needs_background": "light"
     },
     "output_type": "display_data"
    }
   ],
   "source": [
    "plt.figure(figsize=(15,9))\n",
    "plt.hist(feed['total concentration'], \n",
    "         density = True, \n",
    "         histtype ='bar', \n",
    "         color = 'blue', \n",
    "         label = 'сырье', \n",
    "         edgecolor = 'black', \n",
    "         bins = 50, \n",
    "         alpha=0.5) \n",
    "plt.hist(rougher_conc['total concentration'], \n",
    "         density = True, \n",
    "         histtype ='bar', \n",
    "         color = 'pink', \n",
    "         label = 'после флотации', \n",
    "         edgecolor = 'black', \n",
    "         bins = 50,  \n",
    "         alpha=0.8) \n",
    "plt.hist(final_conc['total concentration'], \n",
    "         density = True, \n",
    "         histtype ='bar', \n",
    "         color = 'orange', \n",
    "         label = 'финальный концентрат', \n",
    "         edgecolor = 'black', \n",
    "         bins = 50,  \n",
    "         alpha=0.5)\n",
    "plt.legend(prop ={'size': 10}) \n",
    "plt.title('Cуммарная концентрация всех веществ на разных стадиях')\n",
    "plt.show()"
   ]
  },
  {
   "cell_type": "markdown",
   "metadata": {},
   "source": [
    "По графику  видно что сумрная концентрация увеличилась после стадии флотации, на финальной стадии диапозон сохранился, но можем сказать что увеличилась частота значений в районе 70 в 2 раза."
   ]
  },
  {
   "cell_type": "markdown",
   "metadata": {},
   "source": [
    "Как и замечалось ранье присутствуют аномальные значения при 0. Думаю их стоит убрать. "
   ]
  },
  {
   "cell_type": "code",
   "execution_count": 76,
   "metadata": {},
   "outputs": [
    {
     "data": {
      "text/plain": [
       "(13792, 87)"
      ]
     },
     "execution_count": 76,
     "metadata": {},
     "output_type": "execute_result"
    }
   ],
   "source": [
    "df_train = df_train[(df_train['rougher.output.concentrate_au'] != 0) & (df_train['rougher.output.concentrate_ag'] != 0) & (df_train['rougher.output.concentrate_pb'] != 0) & (df_train['rougher.output.concentrate_sol'] != 0)]\n",
    "df_train = df_train[(df_train['final.output.concentrate_au'] != 0) & (df_train['final.output.concentrate_ag'] != 0) & (df_train['final.output.concentrate_pb'] != 0) & (df_train['final.output.concentrate_sol'] != 0)]\n",
    "\n",
    "df = df[(df['rougher.output.concentrate_au'] != 0) & (df['rougher.output.concentrate_ag'] != 0) & (df['rougher.output.concentrate_pb'] != 0) & (df['rougher.output.concentrate_sol'] != 0)]\n",
    "df = df[(df['final.output.concentrate_au'] != 0) & (df['final.output.concentrate_ag'] != 0) & (df['final.output.concentrate_pb'] != 0) & (df['final.output.concentrate_sol'] != 0)]\n",
    "df_train.shape"
   ]
  },
  {
   "cell_type": "code",
   "execution_count": 77,
   "metadata": {},
   "outputs": [
    {
     "data": {
      "text/plain": [
       "(5290, 54)"
      ]
     },
     "execution_count": 77,
     "metadata": {},
     "output_type": "execute_result"
    }
   ],
   "source": [
    "df_train = df_train.drop('date', axis= 1 )\n",
    "df_test = df_test.drop('date', axis= 1 )\n",
    "df = df.drop('date', axis= 1 )\n",
    "df_test.shape"
   ]
  },
  {
   "cell_type": "markdown",
   "metadata": {},
   "source": [
    "## Модель"
   ]
  },
  {
   "cell_type": "code",
   "execution_count": 78,
   "metadata": {},
   "outputs": [
    {
     "data": {
      "text/plain": [
       "(13792, 54)"
      ]
     },
     "execution_count": 78,
     "metadata": {},
     "output_type": "execute_result"
    }
   ],
   "source": [
    "#удалили из обучающей выбоки столбцы которых нет в тестовой выборки, чтобы небыло утечки целевых признаков. \n",
    "missing = list(inaccessible_signs)\n",
    "missing.remove('final.output.recovery') #удаляем из списка отсутствующих столбцов целевые признаки\n",
    "missing.remove('rougher.output.recovery')\n",
    "# 86 df_train.shape\n",
    "for i in missing:\n",
    "    df_train = df_train.drop(i, axis= 1 )\n",
    "df_train.shape"
   ]
  },
  {
   "cell_type": "code",
   "execution_count": 79,
   "metadata": {},
   "outputs": [
    {
     "data": {
      "text/plain": [
       "(5290, 54)"
      ]
     },
     "execution_count": 79,
     "metadata": {},
     "output_type": "execute_result"
    }
   ],
   "source": [
    "df_test.shape"
   ]
  },
  {
   "attachments": {
    "image.png": {
     "image/png": "[encoded data removed]"
    }
   },
   "cell_type": "markdown",
   "metadata": {},
   "source": [
    "### sMAPE.\n",
    "\n",
    "![image.png](attachment:image.png)"
   ]
  },
  {
   "cell_type": "code",
   "execution_count": 80,
   "metadata": {},
   "outputs": [],
   "source": [
    "def smape(target, predicted):\n",
    "    fraction = (2 * abs(target - predicted)) / (abs(target) + abs(predicted))\n",
    "    sm = (1 / len (predicted)) * sum(fraction) * 100\n",
    "    return sm\n",
    "#target = np.array([12, 13, 14, 15, 15,22, 27])\n",
    "#predicted = np.array([11, 13, 14, 14, 15, 16, 18])\n",
    "#smape(target, predicted)"
   ]
  },
  {
   "cell_type": "code",
   "execution_count": 81,
   "metadata": {},
   "outputs": [],
   "source": [
    "#target = np.array([12, 13, 14, 15, 15,22, 27])\n",
    "#predicted = np.array([11, 13, 14, 14, 15, 16, 18])\n",
    "#mean_absolute_percentage_error(target, predicted)"
   ]
  },
  {
   "attachments": {
    "image.png": {
     "image/png": "[encoded data removed]"
    }
   },
   "cell_type": "markdown",
   "metadata": {},
   "source": [
    "Итоговая метрика складывается из двух величин: \n",
    "![image.png](attachment:image.png)"
   ]
  },
  {
   "cell_type": "code",
   "execution_count": 82,
   "metadata": {},
   "outputs": [],
   "source": [
    "def final_smape(rougher, final):\n",
    "    final = 0.25 * rougher + 0.75 * final\n",
    "    return final"
   ]
  },
  {
   "cell_type": "markdown",
   "metadata": {},
   "source": [
    "### Обучение разныx моделей"
   ]
  },
  {
   "cell_type": "code",
   "execution_count": 83,
   "metadata": {},
   "outputs": [],
   "source": [
    "features_train = df_train.drop(['final.output.recovery', 'rougher.output.recovery'], axis=1)\n",
    "target_train_rougher = df_train['rougher.output.recovery']\n",
    "target_train_final = df_train['final.output.recovery']"
   ]
  },
  {
   "cell_type": "code",
   "execution_count": 84,
   "metadata": {},
   "outputs": [],
   "source": [
    "state = RandomState(12345)"
   ]
  },
  {
   "cell_type": "markdown",
   "metadata": {},
   "source": [
    "#### DecisionTreeRegressor"
   ]
  },
  {
   "cell_type": "code",
   "execution_count": 85,
   "metadata": {},
   "outputs": [
    {
     "name": "stderr",
     "output_type": "stream",
     "text": [
      "100%|██████████| 19/19 [01:25<00:00,  4.49s/it]"
     ]
    },
    {
     "name": "stdout",
     "output_type": "stream",
     "text": [
      "sMAPE: -8.925785452030953 Максимальная глубина: 3\n"
     ]
    },
    {
     "name": "stderr",
     "output_type": "stream",
     "text": [
      "\n"
     ]
    }
   ],
   "source": [
    "best_final_smape_DTR = -10\n",
    "best_depth_DTR = 0\n",
    "best_smape_DTR = []\n",
    "for i in tqdm(range(1, 20, 1)):\n",
    "    model_DTR_rougher = DecisionTreeRegressor(max_depth=i, random_state=state)  #флотация\n",
    "    scores_rougher = cross_val_score(model_DTR_rougher,\n",
    "                             features_train,\n",
    "                             target_train_rougher,\n",
    "                             cv=5,\n",
    "                             scoring=make_scorer(smape, greater_is_better=False))  \n",
    "    #функция преобразует метрики в вызываемые объекты, которые можно использовать для оценки модели.\n",
    "    final_score_rougher = scores_rougher.mean()  # среднее для флотации\n",
    "    \n",
    "    model_DTR_final = DecisionTreeRegressor(max_depth=i, random_state=state)   #финальная\n",
    "    scores_final = cross_val_score(model_DTR_final,\n",
    "                             features_train,\n",
    "                             target_train_final,\n",
    "                             cv=5, \n",
    "                             scoring=make_scorer(smape, greater_is_better=False))\n",
    "    final_score_final = scores_final.mean()     # среднее для финальой\n",
    "    final_smape_DTR = final_smape(final_score_rougher, final_score_final)\n",
    "    best_smape_DTR.append(final_smape_DTR)\n",
    "    \n",
    "    if final_smape_DTR > best_final_smape_DTR:\n",
    "        best_final_smape_DTR = final_smape_DTR \n",
    "        best_depth_DTR = i\n",
    "\n",
    "print('sMAPE:', best_final_smape_DTR, 'Максимальная глубина:', best_depth_DTR)"
   ]
  },
  {
   "cell_type": "markdown",
   "metadata": {},
   "source": [
    "https://towardsdatascience.com/how-to-master-the-subtle-art-of-train-test-set-generation-7a8408bcd578\n",
    "https://scikit-learn.org/stable/modules/model_evaluation.html#scoring"
   ]
  },
  {
   "cell_type": "markdown",
   "metadata": {},
   "source": [
    "#### RandomForestRegressor"
   ]
  },
  {
   "cell_type": "code",
   "execution_count": 86,
   "metadata": {},
   "outputs": [
    {
     "name": "stdout",
     "output_type": "stream",
     "text": [
      "sMAPE: -8.587270440851361 Максимальная глубина: 4 Количество деревьев: 2\n",
      "CPU times: user 10.8 s, sys: 20.9 ms, total: 10.8 s\n",
      "Wall time: 10.8 s\n"
     ]
    }
   ],
   "source": [
    "%%time\n",
    "best_final_smape_RTR = -10\n",
    "best_depth_RTR = 0\n",
    "best_est_RTR = 0\n",
    "best_smape_RTR = []\n",
    "for i in range(1, 5, 1):\n",
    "    for est in range(1, 3, 1):\n",
    "        model_RTR_rougher = RandomForestRegressor(max_depth=i, random_state=state, n_estimators=est)  #флотация\n",
    "        scores_rougher = cross_val_score(model_RTR_rougher,\n",
    "                                         features_train,\n",
    "                                         target_train_rougher,\n",
    "                                         cv=5,\n",
    "                                         scoring=make_scorer(smape, greater_is_better=False))  \n",
    "    #функция преобразует метрики в вызываемые объекты, которые можно использовать для оценки модели.\n",
    "        final_score_rougher = scores_rougher.mean()  # среднее для флотации\n",
    "    \n",
    "        model_RTR_final = RandomForestRegressor(max_depth=i, random_state=state, n_estimators=est)   #финальная\n",
    "        scores_final = cross_val_score(model_RTR_final,\n",
    "                                       features_train,\n",
    "                                       target_train_final,\n",
    "                                       cv=5, \n",
    "                                       scoring=make_scorer(smape, greater_is_better=False))\n",
    "        final_score_final = scores_final.mean()     # среднее для финальой\n",
    "        final_smape_RTR = final_smape(final_score_rougher, final_score_final)\n",
    "        best_smape_RTR.append(final_smape_RTR)\n",
    "    \n",
    "        if final_smape_RTR > best_final_smape_RTR:\n",
    "            best_final_smape_RTR = final_smape_RTR \n",
    "            best_depth_RTR = i\n",
    "            best_est_RTR = est\n",
    "\n",
    "#print(best_smape_RTR)\n",
    "print('sMAPE:', best_final_smape_RTR, 'Максимальная глубина:', best_depth_RTR, \"Количество деревьев:\", best_est_RTR)"
   ]
  },
  {
   "cell_type": "markdown",
   "metadata": {},
   "source": [
    "#### LinearRegression"
   ]
  },
  {
   "cell_type": "code",
   "execution_count": 87,
   "metadata": {},
   "outputs": [
    {
     "name": "stdout",
     "output_type": "stream",
     "text": [
      "[-10.05926144348279]\n"
     ]
    }
   ],
   "source": [
    "best_smape_LR = []\n",
    "best_final_smape_LR = -10\n",
    "model_LR_rougher = LinearRegression()  #флотация\n",
    "scores_rougher = cross_val_score(model_LR_rougher,\n",
    "                                 features_train,\n",
    "                                 target_train_rougher,\n",
    "                                 cv=5,\n",
    "                                 scoring=make_scorer(smape, greater_is_better=False))  \n",
    "    #функция преобразует метрики в вызываемые объекты, которые можно использовать для оценки модели.\n",
    "final_score_rougher = scores_rougher.mean()  # среднее для флотации\n",
    "\n",
    "model_LR_final = LinearRegression()   #финальная\n",
    "scores_final = cross_val_score(model_LR_final,\n",
    "                               features_train,\n",
    "                               target_train_final,\n",
    "                               cv=5, \n",
    "                               scoring=make_scorer(smape, greater_is_better=False))\n",
    "final_score_final = scores_final.mean()     # среднее для финальой\n",
    "final_smape_LR = final_smape(final_score_rougher, final_score_final)\n",
    "best_smape_LR.append(final_smape_LR)\n",
    "    \n",
    "if final_smape_LR > best_final_smape_LR:\n",
    "    best_final_smape_LR = final_smape_LR \n",
    "\n",
    "print(best_smape_LR)\n",
    "#print('sMAPE:', best_final_smape_LR)"
   ]
  },
  {
   "cell_type": "markdown",
   "metadata": {},
   "source": [
    "Лучшая модель по паказателям sMAPE - это модель RandomForestRegressor. Так как у нее самый маленький процент ошибки.(в нашем случае самый большой потому что получаются отрицательные числа)"
   ]
  },
  {
   "cell_type": "markdown",
   "metadata": {},
   "source": [
    "### Проверим лучшую модель на тестовой выборки."
   ]
  },
  {
   "cell_type": "code",
   "execution_count": 88,
   "metadata": {},
   "outputs": [
    {
     "data": {
      "text/plain": [
       "0       89.993421\n",
       "1       88.089657\n",
       "2       88.412756\n",
       "3       87.360133\n",
       "4       83.236367\n",
       "          ...    \n",
       "5285    95.172585\n",
       "5286    94.575036\n",
       "5287    93.018138\n",
       "5288    92.599042\n",
       "5289    91.177695\n",
       "Name: rougher.output.recovery, Length: 5290, dtype: float64"
      ]
     },
     "execution_count": 88,
     "metadata": {},
     "output_type": "execute_result"
    }
   ],
   "source": [
    "df_test['rougher.output.recovery']"
   ]
  },
  {
   "cell_type": "code",
   "execution_count": 89,
   "metadata": {},
   "outputs": [],
   "source": [
    "features_test = df_test.drop(['final.output.recovery', 'rougher.output.recovery'], axis=1)\n",
    "target_test_rougher = df_test['rougher.output.recovery']\n",
    "target_test_final = df_test['final.output.recovery']"
   ]
  },
  {
   "cell_type": "code",
   "execution_count": 90,
   "metadata": {},
   "outputs": [
    {
     "data": {
      "text/plain": [
       "9.522456116740269"
      ]
     },
     "execution_count": 90,
     "metadata": {},
     "output_type": "execute_result"
    }
   ],
   "source": [
    "model_RTR_rougher_b = RandomForestRegressor(max_depth=4, random_state=state, n_estimators=2)\n",
    "model_RTR_rougher_b.fit(features_train, target_train_rougher) \n",
    "predictions_RTR_rougher = model_RTR_rougher_b.predict(features_test) \n",
    "smape_RTR_rougher = smape(target_test_rougher, predictions_RTR_rougher)\n",
    "\n",
    "model_RTR_final_b = RandomForestRegressor(max_depth=4, random_state=state, n_estimators=2)\n",
    "model_RTR_final_b.fit(features_train, target_train_final) \n",
    "predictions_RTR_final = model_RTR_final_b.predict(features_test) \n",
    "smape_RTR_final = smape(target_test_final, predictions_RTR_final)\n",
    "\n",
    "smape_RTR = final_smape(smape_RTR_rougher, smape_RTR_final)\n",
    "smape_RTR"
   ]
  },
  {
   "cell_type": "code",
   "execution_count": 95,
   "metadata": {},
   "outputs": [
    {
     "data": {
      "text/plain": [
       "9.821468391820279"
      ]
     },
     "execution_count": 95,
     "metadata": {},
     "output_type": "execute_result"
    }
   ],
   "source": [
    "dummy_clf_1 = DummyRegressor(strategy = \"mean\")\n",
    "dummy_clf_1.fit(features_train, target_train_rougher)\n",
    "predictions_dummy_clf_rougher = dummy_clf_1.predict(features_test)\n",
    "score_rougher = smape(target_test_rougher, predictions_dummy_clf_rougher)\n",
    "\n",
    "dummy_clf_2 = DummyRegressor(strategy = \"mean\")\n",
    "dummy_clf_2.fit(features_train, target_train_final)\n",
    "predictions_dummy_clf_final = dummy_clf_2.predict(features_test)\n",
    "score_final = smape(target_test_final, predictions_dummy_clf_final)\n",
    "\n",
    "smape_dummy = final_smape(score_rougher, score_final)\n",
    "smape_dummy"
   ]
  },
  {
   "cell_type": "markdown",
   "metadata": {},
   "source": [
    "Лучшая модель RandomForestRegressor, на тестовой выборке показатель намного меньше чем у классификатора DummyClassifier(случайная модель). Конечно на обучащей выборке показатель был поменьше но не сильно. Модель предсказывает коэффициент восстановления золота из золотосодержащей руды с точностью 9.559."
   ]
  },
  {
   "cell_type": "markdown",
   "metadata": {},
   "source": [
    "## Чек-лист готовности проекта"
   ]
  },
  {
   "cell_type": "markdown",
   "metadata": {},
   "source": [
    "- [x]  Jupyter Notebook открыт\n",
    "- [ ]  Весь код выполняется без ошибок\n",
    "- [ ]  Ячейки с кодом расположены в порядке выполнения\n",
    "- [ ]  Выполнен шаг 1: данные подготовлены\n",
    "    - [ ]  Проверена формула вычисления эффективности обогащения\n",
    "    - [ ]  Проанализированы признаки, недоступные в тестовой выборке\n",
    "    - [ ]  Проведена предобработка данных\n",
    "- [ ]  Выполнен шаг 2: данные проанализированы\n",
    "    - [ ]  Исследовано изменение концентрации элементов на каждом этапе\n",
    "    - [ ]  Проанализированы распределения размеров гранул на обучающей и тестовой выборках\n",
    "    - [ ]  Исследованы суммарные концентрации\n",
    "- [ ]  Выполнен шаг 3: построена модель прогнозирования\n",
    "    - [ ]  Написана функция для вычисления итогового *sMAPE*\n",
    "    - [ ]  Обучено и проверено несколько моделей\n",
    "    - [ ]  Выбрана лучшая модель, её качество проверено на тестовой выборке"
   ]
  }
 ],
 "metadata": {
  "ExecuteTimeLog": [
   {
    "duration": 1536,
    "start_time": "2023-02-17T12:16:41.916Z"
   },
   {
    "duration": 2411,
    "start_time": "2023-02-17T12:16:45.227Z"
   },
   {
    "duration": 36,
    "start_time": "2023-02-17T12:17:05.215Z"
   },
   {
    "duration": 29,
    "start_time": "2023-02-17T12:17:05.431Z"
   },
   {
    "duration": 33,
    "start_time": "2023-02-17T12:17:05.631Z"
   },
   {
    "duration": 21,
    "start_time": "2023-02-17T12:17:18.596Z"
   },
   {
    "duration": 18,
    "start_time": "2023-02-17T12:18:19.727Z"
   },
   {
    "duration": 24,
    "start_time": "2023-02-17T12:18:48.040Z"
   },
   {
    "duration": 30,
    "start_time": "2023-02-17T12:18:58.870Z"
   },
   {
    "duration": 97,
    "start_time": "2023-02-17T13:29:44.097Z"
   },
   {
    "duration": 9,
    "start_time": "2023-02-17T13:29:48.227Z"
   },
   {
    "duration": 87,
    "start_time": "2023-02-17T13:35:01.414Z"
   },
   {
    "duration": 99,
    "start_time": "2023-02-17T13:35:11.606Z"
   },
   {
    "duration": 87,
    "start_time": "2023-02-17T13:35:20.880Z"
   },
   {
    "duration": 86,
    "start_time": "2023-02-17T13:35:27.659Z"
   },
   {
    "duration": 19,
    "start_time": "2023-02-17T13:39:51.359Z"
   },
   {
    "duration": 377,
    "start_time": "2023-02-17T13:41:22.502Z"
   },
   {
    "duration": 352,
    "start_time": "2023-02-17T13:41:43.213Z"
   },
   {
    "duration": 10,
    "start_time": "2023-02-17T13:42:35.259Z"
   },
   {
    "duration": 18,
    "start_time": "2023-02-17T13:43:43.945Z"
   },
   {
    "duration": 15,
    "start_time": "2023-02-17T13:43:49.395Z"
   },
   {
    "duration": 16,
    "start_time": "2023-02-17T13:43:59.171Z"
   },
   {
    "duration": 33,
    "start_time": "2023-02-17T13:47:45.341Z"
   },
   {
    "duration": 21,
    "start_time": "2023-02-17T13:48:14.882Z"
   },
   {
    "duration": 29,
    "start_time": "2023-02-17T13:49:28.340Z"
   },
   {
    "duration": 13,
    "start_time": "2023-02-17T13:54:28.510Z"
   },
   {
    "duration": 22,
    "start_time": "2023-02-17T13:54:36.783Z"
   },
   {
    "duration": 16,
    "start_time": "2023-02-17T13:56:23.424Z"
   },
   {
    "duration": 14,
    "start_time": "2023-02-17T13:56:30.553Z"
   },
   {
    "duration": 51,
    "start_time": "2023-02-17T13:58:56.663Z"
   },
   {
    "duration": 97,
    "start_time": "2023-02-17T13:59:02.688Z"
   },
   {
    "duration": 4,
    "start_time": "2023-02-17T15:29:12.205Z"
   },
   {
    "duration": 707,
    "start_time": "2023-02-17T15:29:13.060Z"
   },
   {
    "duration": 137,
    "start_time": "2023-02-17T15:29:13.931Z"
   },
   {
    "duration": 149,
    "start_time": "2023-02-17T15:29:17.012Z"
   },
   {
    "duration": 32,
    "start_time": "2023-02-17T15:29:17.677Z"
   },
   {
    "duration": 1571,
    "start_time": "2023-02-18T08:35:20.488Z"
   },
   {
    "duration": 2183,
    "start_time": "2023-02-18T08:35:22.068Z"
   },
   {
    "duration": 130,
    "start_time": "2023-02-18T08:35:25.612Z"
   },
   {
    "duration": 151,
    "start_time": "2023-02-18T08:38:37.925Z"
   },
   {
    "duration": 37,
    "start_time": "2023-02-18T08:38:39.071Z"
   },
   {
    "duration": 15,
    "start_time": "2023-02-18T08:40:26.517Z"
   },
   {
    "duration": 35,
    "start_time": "2023-02-18T08:40:28.886Z"
   },
   {
    "duration": 30,
    "start_time": "2023-02-18T08:40:38.220Z"
   },
   {
    "duration": 26,
    "start_time": "2023-02-18T08:40:45.426Z"
   },
   {
    "duration": 17,
    "start_time": "2023-02-18T08:42:11.128Z"
   },
   {
    "duration": 1704,
    "start_time": "2023-02-18T18:54:51.596Z"
   },
   {
    "duration": 3580,
    "start_time": "2023-02-18T18:54:53.302Z"
   },
   {
    "duration": 122,
    "start_time": "2023-02-18T18:54:56.883Z"
   },
   {
    "duration": 152,
    "start_time": "2023-02-18T18:54:57.007Z"
   },
   {
    "duration": 35,
    "start_time": "2023-02-18T18:54:57.161Z"
   },
   {
    "duration": 22,
    "start_time": "2023-02-18T18:54:59.788Z"
   },
   {
    "duration": 27,
    "start_time": "2023-02-18T18:55:00.735Z"
   },
   {
    "duration": 26,
    "start_time": "2023-02-18T19:02:38.945Z"
   },
   {
    "duration": 13,
    "start_time": "2023-02-18T19:12:09.800Z"
   },
   {
    "duration": 19,
    "start_time": "2023-02-18T19:15:04.623Z"
   },
   {
    "duration": 12,
    "start_time": "2023-02-18T19:17:12.195Z"
   },
   {
    "duration": 5,
    "start_time": "2023-02-18T19:17:48.224Z"
   },
   {
    "duration": 778,
    "start_time": "2023-02-18T19:17:48.393Z"
   },
   {
    "duration": 123,
    "start_time": "2023-02-18T19:17:49.173Z"
   },
   {
    "duration": 160,
    "start_time": "2023-02-18T19:17:49.298Z"
   },
   {
    "duration": 35,
    "start_time": "2023-02-18T19:17:49.460Z"
   },
   {
    "duration": 15,
    "start_time": "2023-02-18T19:17:49.497Z"
   },
   {
    "duration": 23,
    "start_time": "2023-02-18T19:17:49.633Z"
   },
   {
    "duration": 13,
    "start_time": "2023-02-18T19:17:50.742Z"
   },
   {
    "duration": 13,
    "start_time": "2023-02-18T19:17:56.911Z"
   },
   {
    "duration": 10,
    "start_time": "2023-02-18T19:18:20.442Z"
   },
   {
    "duration": 4,
    "start_time": "2023-02-18T19:20:04.987Z"
   },
   {
    "duration": 11,
    "start_time": "2023-02-18T19:21:15.227Z"
   },
   {
    "duration": 10,
    "start_time": "2023-02-18T19:22:57.820Z"
   },
   {
    "duration": 12,
    "start_time": "2023-02-18T19:23:17.636Z"
   },
   {
    "duration": 79,
    "start_time": "2023-02-18T19:23:57.247Z"
   },
   {
    "duration": 11,
    "start_time": "2023-02-18T19:24:03.402Z"
   },
   {
    "duration": 11,
    "start_time": "2023-02-18T19:25:40.235Z"
   },
   {
    "duration": 9,
    "start_time": "2023-02-18T19:26:18.492Z"
   },
   {
    "duration": 76,
    "start_time": "2023-02-18T19:27:31.482Z"
   },
   {
    "duration": 73,
    "start_time": "2023-02-18T19:28:20.590Z"
   },
   {
    "duration": 70,
    "start_time": "2023-02-18T19:28:39.189Z"
   },
   {
    "duration": 86,
    "start_time": "2023-02-18T19:29:03.318Z"
   },
   {
    "duration": 74,
    "start_time": "2023-02-18T19:29:13.711Z"
   },
   {
    "duration": 95,
    "start_time": "2023-02-18T19:29:26.185Z"
   },
   {
    "duration": 11,
    "start_time": "2023-02-18T19:29:53.272Z"
   },
   {
    "duration": 8,
    "start_time": "2023-02-18T19:30:23.614Z"
   },
   {
    "duration": 9,
    "start_time": "2023-02-18T19:30:41.207Z"
   },
   {
    "duration": 9,
    "start_time": "2023-02-18T19:31:00.386Z"
   },
   {
    "duration": 9,
    "start_time": "2023-02-18T19:31:13.357Z"
   },
   {
    "duration": 12,
    "start_time": "2023-02-18T19:31:42.001Z"
   },
   {
    "duration": 4,
    "start_time": "2023-02-18T20:51:30.209Z"
   },
   {
    "duration": 4,
    "start_time": "2023-02-18T20:51:49.187Z"
   },
   {
    "duration": 4,
    "start_time": "2023-02-18T20:52:33.020Z"
   },
   {
    "duration": 4,
    "start_time": "2023-02-18T20:52:38.373Z"
   },
   {
    "duration": 4,
    "start_time": "2023-02-18T20:53:12.350Z"
   },
   {
    "duration": 113,
    "start_time": "2023-02-18T20:53:30.033Z"
   },
   {
    "duration": 13,
    "start_time": "2023-02-18T20:55:42.351Z"
   },
   {
    "duration": 5,
    "start_time": "2023-02-18T20:56:23.779Z"
   },
   {
    "duration": 4,
    "start_time": "2023-02-18T20:56:32.932Z"
   },
   {
    "duration": 4,
    "start_time": "2023-02-18T20:56:39.241Z"
   },
   {
    "duration": 9,
    "start_time": "2023-02-18T20:56:51.955Z"
   },
   {
    "duration": 5,
    "start_time": "2023-02-18T20:57:10.055Z"
   },
   {
    "duration": 5,
    "start_time": "2023-02-18T20:58:21.512Z"
   },
   {
    "duration": 7,
    "start_time": "2023-02-18T21:29:26.504Z"
   },
   {
    "duration": 10,
    "start_time": "2023-02-18T21:38:23.549Z"
   },
   {
    "duration": 6,
    "start_time": "2023-02-18T21:38:45.663Z"
   },
   {
    "duration": 5,
    "start_time": "2023-02-18T21:39:05.137Z"
   },
   {
    "duration": 5,
    "start_time": "2023-02-18T21:40:47.425Z"
   },
   {
    "duration": 11,
    "start_time": "2023-02-18T21:41:10.080Z"
   },
   {
    "duration": 13,
    "start_time": "2023-02-18T21:42:49.515Z"
   },
   {
    "duration": 9,
    "start_time": "2023-02-18T21:47:18.061Z"
   },
   {
    "duration": 6,
    "start_time": "2023-02-18T21:48:08.876Z"
   },
   {
    "duration": 7,
    "start_time": "2023-02-18T21:48:26.496Z"
   },
   {
    "duration": 7,
    "start_time": "2023-02-18T21:52:10.446Z"
   },
   {
    "duration": 88,
    "start_time": "2023-02-18T21:53:46.215Z"
   },
   {
    "duration": 73,
    "start_time": "2023-02-18T21:53:49.655Z"
   },
   {
    "duration": 76,
    "start_time": "2023-02-18T21:54:05.175Z"
   },
   {
    "duration": 6,
    "start_time": "2023-02-18T21:54:27.203Z"
   },
   {
    "duration": 7,
    "start_time": "2023-02-18T21:55:11.424Z"
   },
   {
    "duration": 77,
    "start_time": "2023-02-18T21:55:31.873Z"
   },
   {
    "duration": 6,
    "start_time": "2023-02-18T21:55:42.136Z"
   },
   {
    "duration": 74,
    "start_time": "2023-02-18T21:55:55.039Z"
   },
   {
    "duration": 6,
    "start_time": "2023-02-18T21:55:58.970Z"
   },
   {
    "duration": 5,
    "start_time": "2023-02-18T21:56:09.334Z"
   },
   {
    "duration": 5,
    "start_time": "2023-02-18T21:56:20.037Z"
   },
   {
    "duration": 15,
    "start_time": "2023-02-18T22:16:50.160Z"
   },
   {
    "duration": 13,
    "start_time": "2023-02-18T22:20:08.251Z"
   },
   {
    "duration": 12,
    "start_time": "2023-02-18T22:20:47.134Z"
   },
   {
    "duration": 3,
    "start_time": "2023-02-18T22:20:56.389Z"
   },
   {
    "duration": 3,
    "start_time": "2023-02-18T22:21:02.809Z"
   },
   {
    "duration": 4,
    "start_time": "2023-02-18T22:21:17.663Z"
   },
   {
    "duration": 736,
    "start_time": "2023-02-18T22:21:18.448Z"
   },
   {
    "duration": 114,
    "start_time": "2023-02-18T22:21:19.186Z"
   },
   {
    "duration": 151,
    "start_time": "2023-02-18T22:21:19.302Z"
   },
   {
    "duration": 32,
    "start_time": "2023-02-18T22:21:19.455Z"
   },
   {
    "duration": 12,
    "start_time": "2023-02-18T22:21:19.489Z"
   },
   {
    "duration": 21,
    "start_time": "2023-02-18T22:21:19.541Z"
   },
   {
    "duration": 10,
    "start_time": "2023-02-18T22:21:19.899Z"
   },
   {
    "duration": 8,
    "start_time": "2023-02-18T22:21:20.444Z"
   },
   {
    "duration": 3,
    "start_time": "2023-02-18T22:21:20.811Z"
   },
   {
    "duration": 5,
    "start_time": "2023-02-18T22:21:20.986Z"
   },
   {
    "duration": 5,
    "start_time": "2023-02-18T22:21:21.178Z"
   },
   {
    "duration": 12,
    "start_time": "2023-02-18T22:21:21.726Z"
   },
   {
    "duration": 12,
    "start_time": "2023-02-18T22:21:28.793Z"
   },
   {
    "duration": 35,
    "start_time": "2023-02-18T22:23:29.343Z"
   },
   {
    "duration": 11,
    "start_time": "2023-02-18T22:23:53.916Z"
   },
   {
    "duration": 12,
    "start_time": "2023-02-18T22:23:59.979Z"
   },
   {
    "duration": 16,
    "start_time": "2023-02-18T22:24:02.661Z"
   },
   {
    "duration": 3,
    "start_time": "2023-02-18T22:24:05.877Z"
   },
   {
    "duration": 751,
    "start_time": "2023-02-18T22:24:06.115Z"
   },
   {
    "duration": 125,
    "start_time": "2023-02-18T22:24:06.869Z"
   },
   {
    "duration": 159,
    "start_time": "2023-02-18T22:24:06.996Z"
   },
   {
    "duration": 37,
    "start_time": "2023-02-18T22:24:07.157Z"
   },
   {
    "duration": 15,
    "start_time": "2023-02-18T22:24:07.293Z"
   },
   {
    "duration": 24,
    "start_time": "2023-02-18T22:24:07.538Z"
   },
   {
    "duration": 10,
    "start_time": "2023-02-18T22:24:08.033Z"
   },
   {
    "duration": 8,
    "start_time": "2023-02-18T22:24:08.840Z"
   },
   {
    "duration": 4,
    "start_time": "2023-02-18T22:24:09.462Z"
   },
   {
    "duration": 4,
    "start_time": "2023-02-18T22:24:10.009Z"
   },
   {
    "duration": 6,
    "start_time": "2023-02-18T22:24:10.567Z"
   },
   {
    "duration": 11,
    "start_time": "2023-02-18T22:24:11.986Z"
   },
   {
    "duration": 29,
    "start_time": "2023-02-18T22:24:32.545Z"
   },
   {
    "duration": 4,
    "start_time": "2023-02-18T22:28:59.580Z"
   },
   {
    "duration": 701,
    "start_time": "2023-02-18T22:28:59.772Z"
   },
   {
    "duration": 122,
    "start_time": "2023-02-18T22:29:00.475Z"
   },
   {
    "duration": 154,
    "start_time": "2023-02-18T22:29:00.598Z"
   },
   {
    "duration": 36,
    "start_time": "2023-02-18T22:29:00.754Z"
   },
   {
    "duration": 33,
    "start_time": "2023-02-18T22:29:00.792Z"
   },
   {
    "duration": 28,
    "start_time": "2023-02-18T22:29:00.860Z"
   },
   {
    "duration": 16,
    "start_time": "2023-02-18T22:29:01.393Z"
   },
   {
    "duration": 8,
    "start_time": "2023-02-18T22:29:01.938Z"
   },
   {
    "duration": 4,
    "start_time": "2023-02-18T22:29:02.320Z"
   },
   {
    "duration": 6,
    "start_time": "2023-02-18T22:29:02.525Z"
   },
   {
    "duration": 5,
    "start_time": "2023-02-18T22:29:02.703Z"
   },
   {
    "duration": 11,
    "start_time": "2023-02-18T22:29:03.766Z"
   },
   {
    "duration": 52,
    "start_time": "2023-02-20T09:19:13.477Z"
   },
   {
    "duration": 1520,
    "start_time": "2023-02-20T09:19:46.883Z"
   },
   {
    "duration": 3084,
    "start_time": "2023-02-20T09:19:48.405Z"
   },
   {
    "duration": 116,
    "start_time": "2023-02-20T09:19:51.491Z"
   },
   {
    "duration": 155,
    "start_time": "2023-02-20T09:19:51.609Z"
   },
   {
    "duration": 34,
    "start_time": "2023-02-20T09:19:51.765Z"
   },
   {
    "duration": 14,
    "start_time": "2023-02-20T09:19:51.800Z"
   },
   {
    "duration": 43,
    "start_time": "2023-02-20T09:19:51.816Z"
   },
   {
    "duration": 13,
    "start_time": "2023-02-20T09:19:51.861Z"
   },
   {
    "duration": 10,
    "start_time": "2023-02-20T09:19:51.876Z"
   },
   {
    "duration": 17,
    "start_time": "2023-02-20T09:19:51.889Z"
   },
   {
    "duration": 35,
    "start_time": "2023-02-20T09:19:51.908Z"
   },
   {
    "duration": 16,
    "start_time": "2023-02-20T09:19:51.944Z"
   },
   {
    "duration": 28,
    "start_time": "2023-02-20T09:19:51.961Z"
   },
   {
    "duration": 86,
    "start_time": "2023-02-20T09:19:51.990Z"
   },
   {
    "duration": 10,
    "start_time": "2023-02-20T09:20:00.625Z"
   },
   {
    "duration": 156,
    "start_time": "2023-02-20T09:21:27.277Z"
   },
   {
    "duration": 217,
    "start_time": "2023-02-20T09:24:21.675Z"
   },
   {
    "duration": 205,
    "start_time": "2023-02-20T09:24:49.893Z"
   },
   {
    "duration": 379,
    "start_time": "2023-02-20T09:26:36.697Z"
   },
   {
    "duration": 274,
    "start_time": "2023-02-20T09:56:41.004Z"
   },
   {
    "duration": 281,
    "start_time": "2023-02-20T12:04:18.528Z"
   },
   {
    "duration": 324,
    "start_time": "2023-02-20T12:04:45.755Z"
   },
   {
    "duration": 322,
    "start_time": "2023-02-20T12:04:51.520Z"
   },
   {
    "duration": 4,
    "start_time": "2023-02-20T12:07:32.200Z"
   },
   {
    "duration": 425,
    "start_time": "2023-02-20T12:07:37.005Z"
   },
   {
    "duration": 335,
    "start_time": "2023-02-20T12:08:02.837Z"
   },
   {
    "duration": 113,
    "start_time": "2023-02-20T12:08:21.479Z"
   },
   {
    "duration": 162,
    "start_time": "2023-02-20T12:11:06.449Z"
   },
   {
    "duration": 137,
    "start_time": "2023-02-20T12:11:34.499Z"
   },
   {
    "duration": 159,
    "start_time": "2023-02-20T12:12:01.784Z"
   },
   {
    "duration": 138,
    "start_time": "2023-02-20T12:12:14.777Z"
   },
   {
    "duration": 142,
    "start_time": "2023-02-20T12:12:24.932Z"
   },
   {
    "duration": 13,
    "start_time": "2023-02-20T12:15:46.479Z"
   },
   {
    "duration": 122,
    "start_time": "2023-02-20T12:16:03.073Z"
   },
   {
    "duration": 79,
    "start_time": "2023-02-20T12:16:25.318Z"
   },
   {
    "duration": 102,
    "start_time": "2023-02-20T12:16:42.908Z"
   },
   {
    "duration": 147,
    "start_time": "2023-02-20T12:17:01.942Z"
   },
   {
    "duration": 108,
    "start_time": "2023-02-20T12:17:14.086Z"
   },
   {
    "duration": 134,
    "start_time": "2023-02-20T12:17:18.074Z"
   },
   {
    "duration": 78,
    "start_time": "2023-02-20T12:17:58.997Z"
   },
   {
    "duration": 150,
    "start_time": "2023-02-20T12:18:27.239Z"
   },
   {
    "duration": 330,
    "start_time": "2023-02-20T12:21:51.185Z"
   },
   {
    "duration": 120,
    "start_time": "2023-02-20T12:22:16.857Z"
   },
   {
    "duration": 210,
    "start_time": "2023-02-20T12:22:42.633Z"
   },
   {
    "duration": 341,
    "start_time": "2023-02-20T12:22:57.584Z"
   },
   {
    "duration": 213,
    "start_time": "2023-02-20T12:23:14.618Z"
   },
   {
    "duration": 205,
    "start_time": "2023-02-20T12:23:29.113Z"
   },
   {
    "duration": 220,
    "start_time": "2023-02-20T12:23:43.333Z"
   },
   {
    "duration": 240,
    "start_time": "2023-02-20T12:24:24.901Z"
   },
   {
    "duration": 231,
    "start_time": "2023-02-20T12:24:37.448Z"
   },
   {
    "duration": 387,
    "start_time": "2023-02-20T12:25:04.401Z"
   },
   {
    "duration": 65,
    "start_time": "2023-02-20T12:28:54.849Z"
   },
   {
    "duration": 5,
    "start_time": "2023-02-20T12:29:18.147Z"
   },
   {
    "duration": 281,
    "start_time": "2023-02-20T12:32:07.709Z"
   },
   {
    "duration": 6,
    "start_time": "2023-02-20T12:32:30.054Z"
   },
   {
    "duration": 269,
    "start_time": "2023-02-20T12:32:32.794Z"
   },
   {
    "duration": 1337,
    "start_time": "2023-02-20T12:33:30.990Z"
   },
   {
    "duration": 278,
    "start_time": "2023-02-20T12:33:51.719Z"
   },
   {
    "duration": 5,
    "start_time": "2023-02-20T12:38:12.725Z"
   },
   {
    "duration": 287,
    "start_time": "2023-02-20T12:38:15.309Z"
   },
   {
    "duration": 6,
    "start_time": "2023-02-20T12:38:46.788Z"
   },
   {
    "duration": 282,
    "start_time": "2023-02-20T12:38:49.824Z"
   },
   {
    "duration": 6,
    "start_time": "2023-02-20T12:39:30.652Z"
   },
   {
    "duration": 396,
    "start_time": "2023-02-20T12:39:30.891Z"
   },
   {
    "duration": 286,
    "start_time": "2023-02-20T12:39:33.794Z"
   },
   {
    "duration": 5,
    "start_time": "2023-02-20T12:40:14.606Z"
   },
   {
    "duration": 338,
    "start_time": "2023-02-20T12:40:15.076Z"
   },
   {
    "duration": 5,
    "start_time": "2023-02-20T12:40:24.832Z"
   },
   {
    "duration": 283,
    "start_time": "2023-02-20T12:40:26.930Z"
   },
   {
    "duration": 317,
    "start_time": "2023-02-20T12:40:31.655Z"
   },
   {
    "duration": 6,
    "start_time": "2023-02-20T12:41:44.247Z"
   },
   {
    "duration": 289,
    "start_time": "2023-02-20T12:41:44.587Z"
   },
   {
    "duration": 5,
    "start_time": "2023-02-20T12:42:06.854Z"
   },
   {
    "duration": 441,
    "start_time": "2023-02-20T12:42:07.217Z"
   },
   {
    "duration": 347,
    "start_time": "2023-02-20T12:42:21.519Z"
   },
   {
    "duration": 6,
    "start_time": "2023-02-20T12:42:37.592Z"
   },
   {
    "duration": 287,
    "start_time": "2023-02-20T12:42:37.874Z"
   },
   {
    "duration": 286,
    "start_time": "2023-02-20T12:42:38.683Z"
   },
   {
    "duration": 138,
    "start_time": "2023-02-20T12:44:15.294Z"
   },
   {
    "duration": 155,
    "start_time": "2023-02-20T12:44:30.352Z"
   },
   {
    "duration": 5,
    "start_time": "2023-02-20T12:45:25.928Z"
   },
   {
    "duration": 297,
    "start_time": "2023-02-20T12:45:27.058Z"
   },
   {
    "duration": 6,
    "start_time": "2023-02-20T12:45:49.925Z"
   },
   {
    "duration": 423,
    "start_time": "2023-02-20T12:45:50.605Z"
   },
   {
    "duration": 247,
    "start_time": "2023-02-20T12:46:11.106Z"
   },
   {
    "duration": 260,
    "start_time": "2023-02-20T12:46:32.312Z"
   },
   {
    "duration": 466,
    "start_time": "2023-02-20T12:47:11.325Z"
   },
   {
    "duration": 467,
    "start_time": "2023-02-20T12:47:56.792Z"
   },
   {
    "duration": 491,
    "start_time": "2023-02-20T12:48:07.498Z"
   },
   {
    "duration": 6,
    "start_time": "2023-02-20T12:50:34.241Z"
   },
   {
    "duration": 419,
    "start_time": "2023-02-20T12:50:36.859Z"
   },
   {
    "duration": 279,
    "start_time": "2023-02-20T12:50:45.579Z"
   },
   {
    "duration": 312,
    "start_time": "2023-02-20T12:50:50.654Z"
   },
   {
    "duration": 5,
    "start_time": "2023-02-20T12:51:02.244Z"
   },
   {
    "duration": 291,
    "start_time": "2023-02-20T12:51:02.943Z"
   },
   {
    "duration": 188,
    "start_time": "2023-02-20T12:54:12.397Z"
   },
   {
    "duration": 182,
    "start_time": "2023-02-20T12:54:57.955Z"
   },
   {
    "duration": 178,
    "start_time": "2023-02-20T12:55:26.195Z"
   },
   {
    "duration": 354,
    "start_time": "2023-02-20T12:56:38.454Z"
   },
   {
    "duration": 273,
    "start_time": "2023-02-20T12:56:59.698Z"
   },
   {
    "duration": 245,
    "start_time": "2023-02-20T12:57:06.120Z"
   },
   {
    "duration": 14,
    "start_time": "2023-02-20T12:57:19.091Z"
   },
   {
    "duration": 246,
    "start_time": "2023-02-20T12:57:26.996Z"
   },
   {
    "duration": 250,
    "start_time": "2023-02-20T12:57:39.832Z"
   },
   {
    "duration": 305,
    "start_time": "2023-02-20T12:58:38.555Z"
   },
   {
    "duration": 312,
    "start_time": "2023-02-20T12:58:44.107Z"
   },
   {
    "duration": 257,
    "start_time": "2023-02-20T12:58:58.448Z"
   },
   {
    "duration": 243,
    "start_time": "2023-02-20T12:59:11.828Z"
   },
   {
    "duration": 249,
    "start_time": "2023-02-20T12:59:21.459Z"
   },
   {
    "duration": 227,
    "start_time": "2023-02-20T12:59:32.594Z"
   },
   {
    "duration": 230,
    "start_time": "2023-02-20T12:59:40.912Z"
   },
   {
    "duration": 367,
    "start_time": "2023-02-20T13:00:04.434Z"
   },
   {
    "duration": 241,
    "start_time": "2023-02-20T13:00:53.987Z"
   },
   {
    "duration": 301,
    "start_time": "2023-02-20T13:01:00.988Z"
   },
   {
    "duration": 235,
    "start_time": "2023-02-20T13:01:20.648Z"
   },
   {
    "duration": 1265,
    "start_time": "2023-02-20T13:03:14.809Z"
   },
   {
    "duration": 347,
    "start_time": "2023-02-20T13:03:34.846Z"
   },
   {
    "duration": 377,
    "start_time": "2023-02-20T13:04:42.427Z"
   },
   {
    "duration": 218,
    "start_time": "2023-02-20T13:04:54.203Z"
   },
   {
    "duration": 400,
    "start_time": "2023-02-20T13:05:02.713Z"
   },
   {
    "duration": 211,
    "start_time": "2023-02-20T13:05:52.535Z"
   },
   {
    "duration": 273,
    "start_time": "2023-02-20T13:05:56.348Z"
   },
   {
    "duration": 195,
    "start_time": "2023-02-20T13:06:03.198Z"
   },
   {
    "duration": 217,
    "start_time": "2023-02-20T13:06:14.332Z"
   },
   {
    "duration": 223,
    "start_time": "2023-02-20T13:06:22.603Z"
   },
   {
    "duration": 374,
    "start_time": "2023-02-20T13:06:33.916Z"
   },
   {
    "duration": 241,
    "start_time": "2023-02-20T13:08:56.605Z"
   },
   {
    "duration": 5,
    "start_time": "2023-02-20T13:20:39.611Z"
   },
   {
    "duration": 776,
    "start_time": "2023-02-20T13:20:39.778Z"
   },
   {
    "duration": 120,
    "start_time": "2023-02-20T13:20:40.556Z"
   },
   {
    "duration": 144,
    "start_time": "2023-02-20T13:20:40.678Z"
   },
   {
    "duration": 44,
    "start_time": "2023-02-20T13:20:40.824Z"
   },
   {
    "duration": 13,
    "start_time": "2023-02-20T13:20:40.870Z"
   },
   {
    "duration": 22,
    "start_time": "2023-02-20T13:20:40.885Z"
   },
   {
    "duration": 10,
    "start_time": "2023-02-20T13:20:41.304Z"
   },
   {
    "duration": 8,
    "start_time": "2023-02-20T13:20:41.952Z"
   },
   {
    "duration": 4,
    "start_time": "2023-02-20T13:20:42.307Z"
   },
   {
    "duration": 5,
    "start_time": "2023-02-20T13:20:42.507Z"
   },
   {
    "duration": 5,
    "start_time": "2023-02-20T13:20:42.661Z"
   },
   {
    "duration": 12,
    "start_time": "2023-02-20T13:20:43.173Z"
   },
   {
    "duration": 6,
    "start_time": "2023-02-20T13:20:43.731Z"
   },
   {
    "duration": 296,
    "start_time": "2023-02-20T13:20:43.897Z"
   },
   {
    "duration": 292,
    "start_time": "2023-02-20T13:20:44.435Z"
   },
   {
    "duration": 259,
    "start_time": "2023-02-20T13:20:44.729Z"
   },
   {
    "duration": 346,
    "start_time": "2023-02-20T13:20:45.160Z"
   },
   {
    "duration": 271,
    "start_time": "2023-02-20T13:20:45.508Z"
   },
   {
    "duration": 275,
    "start_time": "2023-02-20T13:25:06.417Z"
   },
   {
    "duration": 211,
    "start_time": "2023-02-20T13:28:46.691Z"
   },
   {
    "duration": 206,
    "start_time": "2023-02-20T13:29:13.797Z"
   },
   {
    "duration": 205,
    "start_time": "2023-02-20T13:29:16.498Z"
   },
   {
    "duration": 181,
    "start_time": "2023-02-20T13:30:29.505Z"
   },
   {
    "duration": 184,
    "start_time": "2023-02-20T13:30:38.894Z"
   },
   {
    "duration": 174,
    "start_time": "2023-02-20T13:31:12.395Z"
   },
   {
    "duration": 201,
    "start_time": "2023-02-20T13:31:27.575Z"
   },
   {
    "duration": 216,
    "start_time": "2023-02-20T13:31:37.758Z"
   },
   {
    "duration": 210,
    "start_time": "2023-02-20T13:31:48.102Z"
   },
   {
    "duration": 345,
    "start_time": "2023-02-20T13:32:02.827Z"
   },
   {
    "duration": 266,
    "start_time": "2023-02-20T13:32:09.195Z"
   },
   {
    "duration": 259,
    "start_time": "2023-02-20T13:32:25.108Z"
   },
   {
    "duration": 197,
    "start_time": "2023-02-20T13:33:03.369Z"
   },
   {
    "duration": 199,
    "start_time": "2023-02-20T13:33:12.391Z"
   },
   {
    "duration": 257,
    "start_time": "2023-02-20T13:33:19.446Z"
   },
   {
    "duration": 198,
    "start_time": "2023-02-20T13:33:59.081Z"
   },
   {
    "duration": 199,
    "start_time": "2023-02-20T13:35:35.735Z"
   },
   {
    "duration": 187,
    "start_time": "2023-02-20T13:36:24.010Z"
   },
   {
    "duration": 338,
    "start_time": "2023-02-20T13:36:34.003Z"
   },
   {
    "duration": 185,
    "start_time": "2023-02-20T13:36:47.077Z"
   },
   {
    "duration": 189,
    "start_time": "2023-02-20T13:36:54.879Z"
   },
   {
    "duration": 191,
    "start_time": "2023-02-20T13:37:23.583Z"
   },
   {
    "duration": 205,
    "start_time": "2023-02-20T13:37:36.925Z"
   },
   {
    "duration": 199,
    "start_time": "2023-02-20T13:38:17.946Z"
   },
   {
    "duration": 186,
    "start_time": "2023-02-20T13:44:14.623Z"
   },
   {
    "duration": 179,
    "start_time": "2023-02-20T13:44:33.180Z"
   },
   {
    "duration": 233,
    "start_time": "2023-02-20T13:44:56.714Z"
   },
   {
    "duration": 192,
    "start_time": "2023-02-20T13:45:18.443Z"
   },
   {
    "duration": 1499,
    "start_time": "2023-02-20T21:38:41.691Z"
   },
   {
    "duration": 3047,
    "start_time": "2023-02-20T21:38:43.192Z"
   },
   {
    "duration": 130,
    "start_time": "2023-02-20T21:38:46.241Z"
   },
   {
    "duration": 166,
    "start_time": "2023-02-20T21:38:46.373Z"
   },
   {
    "duration": 35,
    "start_time": "2023-02-20T21:38:46.541Z"
   },
   {
    "duration": 14,
    "start_time": "2023-02-20T21:38:46.578Z"
   },
   {
    "duration": 46,
    "start_time": "2023-02-20T21:38:46.594Z"
   },
   {
    "duration": 13,
    "start_time": "2023-02-20T21:38:46.642Z"
   },
   {
    "duration": 8,
    "start_time": "2023-02-20T21:38:46.657Z"
   },
   {
    "duration": 4,
    "start_time": "2023-02-20T21:38:49.652Z"
   },
   {
    "duration": 5,
    "start_time": "2023-02-20T21:38:49.905Z"
   },
   {
    "duration": 6,
    "start_time": "2023-02-20T21:38:50.002Z"
   },
   {
    "duration": 13,
    "start_time": "2023-02-20T21:38:50.516Z"
   },
   {
    "duration": 6,
    "start_time": "2023-02-20T21:38:51.155Z"
   },
   {
    "duration": 308,
    "start_time": "2023-02-20T21:38:51.491Z"
   },
   {
    "duration": 309,
    "start_time": "2023-02-20T21:38:52.281Z"
   },
   {
    "duration": 363,
    "start_time": "2023-02-20T21:38:52.592Z"
   },
   {
    "duration": 353,
    "start_time": "2023-02-20T21:38:54.250Z"
   },
   {
    "duration": 257,
    "start_time": "2023-02-20T21:38:54.618Z"
   },
   {
    "duration": 187,
    "start_time": "2023-02-20T21:39:02.275Z"
   },
   {
    "duration": 215,
    "start_time": "2023-02-20T21:39:04.610Z"
   },
   {
    "duration": 198,
    "start_time": "2023-02-20T21:39:06.905Z"
   },
   {
    "duration": 193,
    "start_time": "2023-02-20T21:39:07.700Z"
   },
   {
    "duration": 6,
    "start_time": "2023-02-20T21:45:49.456Z"
   },
   {
    "duration": 1252,
    "start_time": "2023-02-20T21:47:24.626Z"
   },
   {
    "duration": 7,
    "start_time": "2023-02-20T21:47:37.222Z"
   },
   {
    "duration": 19,
    "start_time": "2023-02-20T21:48:29.306Z"
   },
   {
    "duration": 23,
    "start_time": "2023-02-20T21:48:34.332Z"
   },
   {
    "duration": 25,
    "start_time": "2023-02-20T21:48:53.980Z"
   },
   {
    "duration": 1104,
    "start_time": "2023-02-20T21:50:53.616Z"
   },
   {
    "duration": 16,
    "start_time": "2023-02-20T21:51:16.127Z"
   },
   {
    "duration": 16,
    "start_time": "2023-02-20T21:51:36.442Z"
   },
   {
    "duration": 15,
    "start_time": "2023-02-20T21:54:00.727Z"
   },
   {
    "duration": 13,
    "start_time": "2023-02-20T21:54:47.562Z"
   },
   {
    "duration": 24,
    "start_time": "2023-02-20T21:56:44.070Z"
   },
   {
    "duration": 26,
    "start_time": "2023-02-20T21:57:14.290Z"
   },
   {
    "duration": 18,
    "start_time": "2023-02-20T21:57:26.140Z"
   },
   {
    "duration": 14,
    "start_time": "2023-02-20T21:57:42.022Z"
   },
   {
    "duration": 28,
    "start_time": "2023-02-20T21:58:57.387Z"
   },
   {
    "duration": 17,
    "start_time": "2023-02-20T21:59:34.884Z"
   },
   {
    "duration": 23,
    "start_time": "2023-02-20T22:03:26.749Z"
   },
   {
    "duration": 16,
    "start_time": "2023-02-20T22:07:24.930Z"
   },
   {
    "duration": 15,
    "start_time": "2023-02-20T22:08:12.896Z"
   },
   {
    "duration": 17,
    "start_time": "2023-02-20T22:08:52.830Z"
   },
   {
    "duration": 17,
    "start_time": "2023-02-20T22:10:47.680Z"
   },
   {
    "duration": 17,
    "start_time": "2023-02-20T22:10:58.918Z"
   },
   {
    "duration": 15,
    "start_time": "2023-02-20T22:11:07.364Z"
   },
   {
    "duration": 373,
    "start_time": "2023-02-20T22:14:39.721Z"
   },
   {
    "duration": 15,
    "start_time": "2023-02-20T22:16:12.433Z"
   },
   {
    "duration": 59,
    "start_time": "2023-02-20T22:16:38.129Z"
   },
   {
    "duration": 321,
    "start_time": "2023-02-20T22:16:43.056Z"
   },
   {
    "duration": 338,
    "start_time": "2023-02-20T22:16:59.282Z"
   },
   {
    "duration": 237,
    "start_time": "2023-02-20T22:17:29.700Z"
   },
   {
    "duration": 224,
    "start_time": "2023-02-20T22:17:38.641Z"
   },
   {
    "duration": 224,
    "start_time": "2023-02-20T22:17:48.008Z"
   },
   {
    "duration": 205,
    "start_time": "2023-02-20T22:18:16.703Z"
   },
   {
    "duration": 448,
    "start_time": "2023-02-20T22:18:41.124Z"
   },
   {
    "duration": 334,
    "start_time": "2023-02-20T22:18:54.355Z"
   },
   {
    "duration": 315,
    "start_time": "2023-02-20T22:19:07.149Z"
   },
   {
    "duration": 405,
    "start_time": "2023-02-20T22:19:23.896Z"
   },
   {
    "duration": 457,
    "start_time": "2023-02-20T22:19:33.776Z"
   },
   {
    "duration": 608,
    "start_time": "2023-02-20T22:19:53.483Z"
   },
   {
    "duration": 470,
    "start_time": "2023-02-20T22:20:03.637Z"
   },
   {
    "duration": 468,
    "start_time": "2023-02-20T22:20:29.820Z"
   },
   {
    "duration": 578,
    "start_time": "2023-02-20T22:20:41.078Z"
   },
   {
    "duration": 39,
    "start_time": "2023-02-20T22:29:09.585Z"
   },
   {
    "duration": 32,
    "start_time": "2023-02-20T22:29:41.592Z"
   },
   {
    "duration": 27,
    "start_time": "2023-02-20T22:30:21.640Z"
   },
   {
    "duration": 13,
    "start_time": "2023-02-20T22:32:05.931Z"
   },
   {
    "duration": 25,
    "start_time": "2023-02-20T22:32:08.004Z"
   },
   {
    "duration": 4,
    "start_time": "2023-02-20T22:32:26.166Z"
   },
   {
    "duration": 724,
    "start_time": "2023-02-20T22:32:26.468Z"
   },
   {
    "duration": 123,
    "start_time": "2023-02-20T22:32:27.194Z"
   },
   {
    "duration": 160,
    "start_time": "2023-02-20T22:32:27.320Z"
   },
   {
    "duration": 39,
    "start_time": "2023-02-20T22:32:27.482Z"
   },
   {
    "duration": 21,
    "start_time": "2023-02-20T22:32:27.537Z"
   },
   {
    "duration": 25,
    "start_time": "2023-02-20T22:32:27.561Z"
   },
   {
    "duration": 12,
    "start_time": "2023-02-20T22:32:28.073Z"
   },
   {
    "duration": 9,
    "start_time": "2023-02-20T22:32:28.754Z"
   },
   {
    "duration": 4,
    "start_time": "2023-02-20T22:32:29.110Z"
   },
   {
    "duration": 6,
    "start_time": "2023-02-20T22:32:29.289Z"
   },
   {
    "duration": 5,
    "start_time": "2023-02-20T22:32:29.476Z"
   },
   {
    "duration": 12,
    "start_time": "2023-02-20T22:32:29.989Z"
   },
   {
    "duration": 9,
    "start_time": "2023-02-20T22:32:30.554Z"
   },
   {
    "duration": 339,
    "start_time": "2023-02-20T22:32:30.731Z"
   },
   {
    "duration": 345,
    "start_time": "2023-02-20T22:32:31.480Z"
   },
   {
    "duration": 323,
    "start_time": "2023-02-20T22:32:31.827Z"
   },
   {
    "duration": 365,
    "start_time": "2023-02-20T22:32:32.221Z"
   },
   {
    "duration": 303,
    "start_time": "2023-02-20T22:32:32.589Z"
   },
   {
    "duration": 332,
    "start_time": "2023-02-20T22:32:32.963Z"
   },
   {
    "duration": 241,
    "start_time": "2023-02-20T22:32:33.298Z"
   },
   {
    "duration": 238,
    "start_time": "2023-02-20T22:32:33.541Z"
   },
   {
    "duration": 230,
    "start_time": "2023-02-20T22:32:33.781Z"
   },
   {
    "duration": 16,
    "start_time": "2023-02-20T22:32:35.012Z"
   },
   {
    "duration": 20,
    "start_time": "2023-02-20T22:32:35.052Z"
   },
   {
    "duration": 17,
    "start_time": "2023-02-20T22:32:35.370Z"
   },
   {
    "duration": 455,
    "start_time": "2023-02-20T22:32:35.647Z"
   },
   {
    "duration": 34,
    "start_time": "2023-02-20T22:32:36.702Z"
   },
   {
    "duration": 12,
    "start_time": "2023-02-20T22:32:37.857Z"
   },
   {
    "duration": 21,
    "start_time": "2023-02-20T22:35:30.770Z"
   },
   {
    "duration": 21,
    "start_time": "2023-02-20T22:36:06.935Z"
   },
   {
    "duration": 27,
    "start_time": "2023-02-20T22:36:10.292Z"
   },
   {
    "duration": 15,
    "start_time": "2023-02-20T22:36:13.802Z"
   },
   {
    "duration": 5,
    "start_time": "2023-02-20T22:37:05.026Z"
   },
   {
    "duration": 731,
    "start_time": "2023-02-20T22:37:05.221Z"
   },
   {
    "duration": 126,
    "start_time": "2023-02-20T22:37:05.954Z"
   },
   {
    "duration": 167,
    "start_time": "2023-02-20T22:37:06.082Z"
   },
   {
    "duration": 35,
    "start_time": "2023-02-20T22:37:06.251Z"
   },
   {
    "duration": 16,
    "start_time": "2023-02-20T22:37:06.288Z"
   },
   {
    "duration": 28,
    "start_time": "2023-02-20T22:37:06.324Z"
   },
   {
    "duration": 13,
    "start_time": "2023-02-20T22:37:08.749Z"
   },
   {
    "duration": 8,
    "start_time": "2023-02-20T22:37:09.454Z"
   },
   {
    "duration": 4,
    "start_time": "2023-02-20T22:37:09.804Z"
   },
   {
    "duration": 5,
    "start_time": "2023-02-20T22:37:10.006Z"
   },
   {
    "duration": 5,
    "start_time": "2023-02-20T22:37:10.159Z"
   },
   {
    "duration": 12,
    "start_time": "2023-02-20T22:37:10.704Z"
   },
   {
    "duration": 6,
    "start_time": "2023-02-20T22:37:11.519Z"
   },
   {
    "duration": 338,
    "start_time": "2023-02-20T22:37:11.766Z"
   },
   {
    "duration": 341,
    "start_time": "2023-02-20T22:37:12.273Z"
   },
   {
    "duration": 414,
    "start_time": "2023-02-20T22:37:12.615Z"
   },
   {
    "duration": 364,
    "start_time": "2023-02-20T22:37:13.072Z"
   },
   {
    "duration": 298,
    "start_time": "2023-02-20T22:37:13.438Z"
   },
   {
    "duration": 207,
    "start_time": "2023-02-20T22:37:13.895Z"
   },
   {
    "duration": 218,
    "start_time": "2023-02-20T22:37:14.779Z"
   },
   {
    "duration": 248,
    "start_time": "2023-02-20T22:37:16.352Z"
   },
   {
    "duration": 225,
    "start_time": "2023-02-20T22:37:16.905Z"
   },
   {
    "duration": 16,
    "start_time": "2023-02-20T22:37:20.637Z"
   },
   {
    "duration": 21,
    "start_time": "2023-02-20T22:37:21.298Z"
   },
   {
    "duration": 16,
    "start_time": "2023-02-20T22:37:22.010Z"
   },
   {
    "duration": 567,
    "start_time": "2023-02-20T22:37:22.887Z"
   },
   {
    "duration": 32,
    "start_time": "2023-02-20T22:37:30.679Z"
   },
   {
    "duration": 15,
    "start_time": "2023-02-20T22:37:39.750Z"
   },
   {
    "duration": 5,
    "start_time": "2023-02-20T22:40:37.271Z"
   },
   {
    "duration": 12,
    "start_time": "2023-02-20T22:41:47.536Z"
   },
   {
    "duration": 4,
    "start_time": "2023-02-20T22:45:56.052Z"
   },
   {
    "duration": 10,
    "start_time": "2023-02-20T22:46:07.098Z"
   },
   {
    "duration": 4,
    "start_time": "2023-02-20T22:46:13.601Z"
   },
   {
    "duration": 4,
    "start_time": "2023-02-20T22:46:24.797Z"
   },
   {
    "duration": 11,
    "start_time": "2023-02-20T22:47:02.969Z"
   },
   {
    "duration": 6,
    "start_time": "2023-02-20T22:47:14.972Z"
   },
   {
    "duration": 5,
    "start_time": "2023-02-20T22:47:20.428Z"
   },
   {
    "duration": 5,
    "start_time": "2023-02-20T22:47:31.657Z"
   },
   {
    "duration": 5,
    "start_time": "2023-02-20T22:48:40.151Z"
   },
   {
    "duration": 52,
    "start_time": "2023-02-20T22:49:32.948Z"
   },
   {
    "duration": 19,
    "start_time": "2023-02-20T22:51:14.372Z"
   },
   {
    "duration": 4,
    "start_time": "2023-02-20T22:51:22.255Z"
   },
   {
    "duration": 718,
    "start_time": "2023-02-20T22:51:22.448Z"
   },
   {
    "duration": 121,
    "start_time": "2023-02-20T22:51:23.168Z"
   },
   {
    "duration": 162,
    "start_time": "2023-02-20T22:51:23.291Z"
   },
   {
    "duration": 37,
    "start_time": "2023-02-20T22:51:23.456Z"
   },
   {
    "duration": 14,
    "start_time": "2023-02-20T22:51:23.494Z"
   },
   {
    "duration": 40,
    "start_time": "2023-02-20T22:51:23.511Z"
   },
   {
    "duration": 12,
    "start_time": "2023-02-20T22:51:24.143Z"
   },
   {
    "duration": 8,
    "start_time": "2023-02-20T22:51:24.801Z"
   },
   {
    "duration": 6,
    "start_time": "2023-02-20T22:51:25.143Z"
   },
   {
    "duration": 5,
    "start_time": "2023-02-20T22:51:25.298Z"
   },
   {
    "duration": 6,
    "start_time": "2023-02-20T22:51:25.508Z"
   },
   {
    "duration": 12,
    "start_time": "2023-02-20T22:51:26.047Z"
   },
   {
    "duration": 6,
    "start_time": "2023-02-20T22:51:26.770Z"
   },
   {
    "duration": 331,
    "start_time": "2023-02-20T22:51:26.982Z"
   },
   {
    "duration": 342,
    "start_time": "2023-02-20T22:51:27.679Z"
   },
   {
    "duration": 339,
    "start_time": "2023-02-20T22:51:28.023Z"
   },
   {
    "duration": 395,
    "start_time": "2023-02-20T22:51:28.432Z"
   },
   {
    "duration": 295,
    "start_time": "2023-02-20T22:51:28.830Z"
   },
   {
    "duration": 339,
    "start_time": "2023-02-20T22:51:29.418Z"
   },
   {
    "duration": 233,
    "start_time": "2023-02-20T22:51:29.759Z"
   },
   {
    "duration": 263,
    "start_time": "2023-02-20T22:51:29.994Z"
   },
   {
    "duration": 241,
    "start_time": "2023-02-20T22:51:30.259Z"
   },
   {
    "duration": 17,
    "start_time": "2023-02-20T22:51:30.779Z"
   },
   {
    "duration": 16,
    "start_time": "2023-02-20T22:51:30.992Z"
   },
   {
    "duration": 16,
    "start_time": "2023-02-20T22:51:31.166Z"
   },
   {
    "duration": 470,
    "start_time": "2023-02-20T22:51:31.456Z"
   },
   {
    "duration": 29,
    "start_time": "2023-02-20T22:51:32.276Z"
   },
   {
    "duration": 14,
    "start_time": "2023-02-20T22:51:32.650Z"
   },
   {
    "duration": 57,
    "start_time": "2023-02-20T22:51:33.303Z"
   },
   {
    "duration": 1601,
    "start_time": "2023-02-21T08:41:43.136Z"
   },
   {
    "duration": 1976,
    "start_time": "2023-02-21T08:41:44.738Z"
   },
   {
    "duration": 121,
    "start_time": "2023-02-21T08:41:46.716Z"
   },
   {
    "duration": 147,
    "start_time": "2023-02-21T08:41:46.839Z"
   },
   {
    "duration": 41,
    "start_time": "2023-02-21T08:41:46.987Z"
   },
   {
    "duration": 14,
    "start_time": "2023-02-21T08:41:47.030Z"
   },
   {
    "duration": 26,
    "start_time": "2023-02-21T08:41:47.046Z"
   },
   {
    "duration": 33,
    "start_time": "2023-02-21T08:41:47.074Z"
   },
   {
    "duration": 9,
    "start_time": "2023-02-21T08:41:47.109Z"
   },
   {
    "duration": 4,
    "start_time": "2023-02-21T08:41:47.120Z"
   },
   {
    "duration": 8,
    "start_time": "2023-02-21T08:41:47.126Z"
   },
   {
    "duration": 11,
    "start_time": "2023-02-21T08:41:47.136Z"
   },
   {
    "duration": 16,
    "start_time": "2023-02-21T08:41:47.149Z"
   },
   {
    "duration": 5,
    "start_time": "2023-02-21T08:41:47.169Z"
   },
   {
    "duration": 350,
    "start_time": "2023-02-21T08:41:47.323Z"
   },
   {
    "duration": 339,
    "start_time": "2023-02-21T08:41:47.825Z"
   },
   {
    "duration": 357,
    "start_time": "2023-02-21T08:41:48.166Z"
   },
   {
    "duration": 348,
    "start_time": "2023-02-21T08:41:48.525Z"
   },
   {
    "duration": 256,
    "start_time": "2023-02-21T08:41:48.875Z"
   },
   {
    "duration": 200,
    "start_time": "2023-02-21T08:41:49.225Z"
   },
   {
    "duration": 219,
    "start_time": "2023-02-21T08:41:49.427Z"
   },
   {
    "duration": 211,
    "start_time": "2023-02-21T08:41:49.694Z"
   },
   {
    "duration": 204,
    "start_time": "2023-02-21T08:41:49.907Z"
   },
   {
    "duration": 17,
    "start_time": "2023-02-21T08:41:50.389Z"
   },
   {
    "duration": 20,
    "start_time": "2023-02-21T08:41:50.556Z"
   },
   {
    "duration": 110,
    "start_time": "2023-02-21T08:41:50.715Z"
   },
   {
    "duration": 437,
    "start_time": "2023-02-21T08:41:50.921Z"
   },
   {
    "duration": 38,
    "start_time": "2023-02-21T08:41:51.419Z"
   },
   {
    "duration": 15,
    "start_time": "2023-02-21T08:41:51.587Z"
   },
   {
    "duration": 50,
    "start_time": "2023-02-21T08:41:52.034Z"
   },
   {
    "duration": 3,
    "start_time": "2023-02-21T08:42:32.710Z"
   },
   {
    "duration": 3,
    "start_time": "2023-02-21T09:19:12.882Z"
   },
   {
    "duration": 4,
    "start_time": "2023-02-21T09:58:01.362Z"
   },
   {
    "duration": 3,
    "start_time": "2023-02-21T10:01:07.616Z"
   },
   {
    "duration": 811,
    "start_time": "2023-02-21T10:49:16.428Z"
   },
   {
    "duration": 7,
    "start_time": "2023-02-21T10:49:28.349Z"
   },
   {
    "duration": 22,
    "start_time": "2023-02-21T11:17:23.416Z"
   },
   {
    "duration": 12,
    "start_time": "2023-02-21T11:19:38.957Z"
   },
   {
    "duration": 6,
    "start_time": "2023-02-21T11:20:04.295Z"
   },
   {
    "duration": 4,
    "start_time": "2023-02-21T11:20:07.237Z"
   },
   {
    "duration": 11,
    "start_time": "2023-02-21T12:08:29.576Z"
   },
   {
    "duration": 13,
    "start_time": "2023-02-21T12:08:36.514Z"
   },
   {
    "duration": 32570,
    "start_time": "2023-02-21T12:08:49.537Z"
   },
   {
    "duration": 3598,
    "start_time": "2023-02-21T12:09:25.077Z"
   },
   {
    "duration": 4,
    "start_time": "2023-02-21T12:19:11.991Z"
   },
   {
    "duration": 14,
    "start_time": "2023-02-21T12:20:45.534Z"
   },
   {
    "duration": 5,
    "start_time": "2023-02-21T12:21:58.795Z"
   },
   {
    "duration": 5,
    "start_time": "2023-02-21T12:22:11.913Z"
   },
   {
    "duration": 5,
    "start_time": "2023-02-21T13:23:36.981Z"
   },
   {
    "duration": 4,
    "start_time": "2023-02-21T13:23:37.588Z"
   },
   {
    "duration": 11,
    "start_time": "2023-02-21T13:23:38.454Z"
   },
   {
    "duration": 4,
    "start_time": "2023-02-21T13:24:07.765Z"
   },
   {
    "duration": 6,
    "start_time": "2023-02-21T13:28:24.705Z"
   },
   {
    "duration": 670,
    "start_time": "2023-02-21T13:29:12.922Z"
   },
   {
    "duration": 109,
    "start_time": "2023-02-21T13:29:14.539Z"
   },
   {
    "duration": 133,
    "start_time": "2023-02-21T13:29:14.801Z"
   },
   {
    "duration": 36,
    "start_time": "2023-02-21T13:29:14.997Z"
   },
   {
    "duration": 16,
    "start_time": "2023-02-21T13:29:15.335Z"
   },
   {
    "duration": 19,
    "start_time": "2023-02-21T13:29:16.486Z"
   },
   {
    "duration": 12,
    "start_time": "2023-02-21T13:29:23.322Z"
   },
   {
    "duration": 11,
    "start_time": "2023-02-21T13:29:24.010Z"
   },
   {
    "duration": 5,
    "start_time": "2023-02-21T13:29:24.366Z"
   },
   {
    "duration": 7,
    "start_time": "2023-02-21T13:29:24.494Z"
   },
   {
    "duration": 6,
    "start_time": "2023-02-21T13:29:24.701Z"
   },
   {
    "duration": 19,
    "start_time": "2023-02-21T13:29:25.226Z"
   },
   {
    "duration": 8,
    "start_time": "2023-02-21T13:29:26.254Z"
   },
   {
    "duration": 343,
    "start_time": "2023-02-21T13:29:26.429Z"
   },
   {
    "duration": 339,
    "start_time": "2023-02-21T13:29:26.961Z"
   },
   {
    "duration": 407,
    "start_time": "2023-02-21T13:29:27.304Z"
   },
   {
    "duration": 454,
    "start_time": "2023-02-21T13:29:27.713Z"
   },
   {
    "duration": 260,
    "start_time": "2023-02-21T13:29:28.169Z"
   },
   {
    "duration": 201,
    "start_time": "2023-02-21T13:29:28.431Z"
   },
   {
    "duration": 223,
    "start_time": "2023-02-21T13:29:28.635Z"
   },
   {
    "duration": 206,
    "start_time": "2023-02-21T13:29:28.932Z"
   },
   {
    "duration": 211,
    "start_time": "2023-02-21T13:29:29.140Z"
   },
   {
    "duration": 18,
    "start_time": "2023-02-21T13:29:29.622Z"
   },
   {
    "duration": 23,
    "start_time": "2023-02-21T13:29:29.818Z"
   },
   {
    "duration": 24,
    "start_time": "2023-02-21T13:29:29.998Z"
   },
   {
    "duration": 442,
    "start_time": "2023-02-21T13:29:30.246Z"
   },
   {
    "duration": 29,
    "start_time": "2023-02-21T13:29:30.709Z"
   },
   {
    "duration": 14,
    "start_time": "2023-02-21T13:29:30.902Z"
   },
   {
    "duration": 64,
    "start_time": "2023-02-21T13:29:32.840Z"
   },
   {
    "duration": 4,
    "start_time": "2023-02-21T13:29:33.027Z"
   },
   {
    "duration": 3,
    "start_time": "2023-02-21T13:29:35.160Z"
   },
   {
    "duration": 2,
    "start_time": "2023-02-21T13:29:36.398Z"
   },
   {
    "duration": 3,
    "start_time": "2023-02-21T13:29:38.015Z"
   },
   {
    "duration": 6,
    "start_time": "2023-02-21T13:29:40.729Z"
   },
   {
    "duration": 3,
    "start_time": "2023-02-21T13:29:52.158Z"
   },
   {
    "duration": 7,
    "start_time": "2023-02-21T13:29:53.334Z"
   },
   {
    "duration": 3,
    "start_time": "2023-02-21T13:29:54.031Z"
   },
   {
    "duration": 48824,
    "start_time": "2023-02-21T13:29:55.338Z"
   },
   {
    "duration": 0,
    "start_time": "2023-02-21T13:30:44.165Z"
   },
   {
    "duration": 10,
    "start_time": "2023-02-21T13:30:47.711Z"
   },
   {
    "duration": 100635,
    "start_time": "2023-02-21T13:30:55.530Z"
   },
   {
    "duration": 4,
    "start_time": "2023-02-21T14:03:35.907Z"
   },
   {
    "duration": 696,
    "start_time": "2023-02-21T14:03:36.087Z"
   },
   {
    "duration": 116,
    "start_time": "2023-02-21T14:03:36.785Z"
   },
   {
    "duration": 142,
    "start_time": "2023-02-21T14:03:36.903Z"
   },
   {
    "duration": 38,
    "start_time": "2023-02-21T14:03:37.047Z"
   },
   {
    "duration": 26,
    "start_time": "2023-02-21T14:03:37.087Z"
   },
   {
    "duration": 24,
    "start_time": "2023-02-21T14:03:37.115Z"
   },
   {
    "duration": 9,
    "start_time": "2023-02-21T14:03:37.608Z"
   },
   {
    "duration": 9,
    "start_time": "2023-02-21T14:03:38.251Z"
   },
   {
    "duration": 3,
    "start_time": "2023-02-21T14:03:38.816Z"
   },
   {
    "duration": 5,
    "start_time": "2023-02-21T14:03:39.068Z"
   },
   {
    "duration": 6,
    "start_time": "2023-02-21T14:03:39.212Z"
   },
   {
    "duration": 13,
    "start_time": "2023-02-21T14:03:39.970Z"
   },
   {
    "duration": 5,
    "start_time": "2023-02-21T14:03:40.438Z"
   },
   {
    "duration": 310,
    "start_time": "2023-02-21T14:03:40.624Z"
   },
   {
    "duration": 320,
    "start_time": "2023-02-21T14:03:41.205Z"
   },
   {
    "duration": 304,
    "start_time": "2023-02-21T14:03:41.527Z"
   },
   {
    "duration": 320,
    "start_time": "2023-02-21T14:03:41.916Z"
   },
   {
    "duration": 252,
    "start_time": "2023-02-21T14:03:42.238Z"
   },
   {
    "duration": 281,
    "start_time": "2023-02-21T14:03:42.609Z"
   },
   {
    "duration": 235,
    "start_time": "2023-02-21T14:03:42.892Z"
   },
   {
    "duration": 218,
    "start_time": "2023-02-21T14:03:43.207Z"
   },
   {
    "duration": 213,
    "start_time": "2023-02-21T14:03:43.428Z"
   },
   {
    "duration": 16,
    "start_time": "2023-02-21T14:03:43.970Z"
   },
   {
    "duration": 23,
    "start_time": "2023-02-21T14:03:44.109Z"
   },
   {
    "duration": 17,
    "start_time": "2023-02-21T14:03:44.510Z"
   },
   {
    "duration": 428,
    "start_time": "2023-02-21T14:03:44.730Z"
   },
   {
    "duration": 27,
    "start_time": "2023-02-21T14:03:45.769Z"
   },
   {
    "duration": 14,
    "start_time": "2023-02-21T14:03:45.998Z"
   },
   {
    "duration": 62,
    "start_time": "2023-02-21T14:03:55.715Z"
   },
   {
    "duration": 4,
    "start_time": "2023-02-21T14:03:57.034Z"
   },
   {
    "duration": 4,
    "start_time": "2023-02-21T14:04:02.762Z"
   },
   {
    "duration": 3,
    "start_time": "2023-02-21T14:04:02.998Z"
   },
   {
    "duration": 3,
    "start_time": "2023-02-21T14:04:03.621Z"
   },
   {
    "duration": 6,
    "start_time": "2023-02-21T14:04:04.302Z"
   },
   {
    "duration": 3,
    "start_time": "2023-02-21T14:04:04.699Z"
   },
   {
    "duration": 98384,
    "start_time": "2023-02-21T14:04:04.921Z"
   },
   {
    "duration": 659,
    "start_time": "2023-02-21T15:10:37.552Z"
   },
   {
    "duration": 671,
    "start_time": "2023-02-21T16:11:44.639Z"
   },
   {
    "duration": 667,
    "start_time": "2023-02-21T16:11:59.638Z"
   },
   {
    "duration": 96338,
    "start_time": "2023-02-21T16:12:25.789Z"
   },
   {
    "duration": 97627,
    "start_time": "2023-02-21T17:16:08.814Z"
   },
   {
    "duration": 25106,
    "start_time": "2023-02-21T17:19:14.797Z"
   },
   {
    "duration": 83,
    "start_time": "2023-02-21T20:11:39.280Z"
   },
   {
    "duration": 22080,
    "start_time": "2023-02-21T20:12:22.329Z"
   },
   {
    "duration": 22121,
    "start_time": "2023-02-21T20:25:53.832Z"
   },
   {
    "duration": 22287,
    "start_time": "2023-02-21T20:26:52.228Z"
   },
   {
    "duration": 79806,
    "start_time": "2023-02-21T20:36:34.984Z"
   },
   {
    "duration": 19,
    "start_time": "2023-02-21T20:41:00.863Z"
   },
   {
    "duration": 1953,
    "start_time": "2023-02-21T20:41:01.027Z"
   },
   {
    "duration": 115,
    "start_time": "2023-02-21T20:41:02.982Z"
   },
   {
    "duration": 141,
    "start_time": "2023-02-21T20:41:03.098Z"
   },
   {
    "duration": 39,
    "start_time": "2023-02-21T20:41:03.242Z"
   },
   {
    "duration": 32,
    "start_time": "2023-02-21T20:41:03.283Z"
   },
   {
    "duration": 26,
    "start_time": "2023-02-21T20:41:03.317Z"
   },
   {
    "duration": 9,
    "start_time": "2023-02-21T20:41:03.345Z"
   },
   {
    "duration": 9,
    "start_time": "2023-02-21T20:41:03.356Z"
   },
   {
    "duration": 5,
    "start_time": "2023-02-21T20:41:03.651Z"
   },
   {
    "duration": 5,
    "start_time": "2023-02-21T20:41:03.880Z"
   },
   {
    "duration": 7,
    "start_time": "2023-02-21T20:41:05.249Z"
   },
   {
    "duration": 12,
    "start_time": "2023-02-21T20:41:05.774Z"
   },
   {
    "duration": 8,
    "start_time": "2023-02-21T20:41:06.313Z"
   },
   {
    "duration": 325,
    "start_time": "2023-02-21T20:41:06.500Z"
   },
   {
    "duration": 414,
    "start_time": "2023-02-21T20:41:07.141Z"
   },
   {
    "duration": 261,
    "start_time": "2023-02-21T20:41:07.557Z"
   },
   {
    "duration": 304,
    "start_time": "2023-02-21T20:41:08.015Z"
   },
   {
    "duration": 249,
    "start_time": "2023-02-21T20:41:08.321Z"
   },
   {
    "duration": 183,
    "start_time": "2023-02-21T20:41:08.820Z"
   },
   {
    "duration": 210,
    "start_time": "2023-02-21T20:41:09.013Z"
   },
   {
    "duration": 205,
    "start_time": "2023-02-21T20:41:09.423Z"
   },
   {
    "duration": 305,
    "start_time": "2023-02-21T20:41:09.630Z"
   },
   {
    "duration": 17,
    "start_time": "2023-02-21T20:41:10.249Z"
   },
   {
    "duration": 16,
    "start_time": "2023-02-21T20:41:10.470Z"
   },
   {
    "duration": 22,
    "start_time": "2023-02-21T20:41:10.730Z"
   },
   {
    "duration": 463,
    "start_time": "2023-02-21T20:41:10.924Z"
   },
   {
    "duration": 33,
    "start_time": "2023-02-21T20:41:11.542Z"
   },
   {
    "duration": 17,
    "start_time": "2023-02-21T20:41:11.713Z"
   },
   {
    "duration": 65,
    "start_time": "2023-02-21T20:41:12.085Z"
   },
   {
    "duration": 4,
    "start_time": "2023-02-21T20:41:12.285Z"
   },
   {
    "duration": 3,
    "start_time": "2023-02-21T20:41:12.680Z"
   },
   {
    "duration": 2,
    "start_time": "2023-02-21T20:41:17.904Z"
   },
   {
    "duration": 3,
    "start_time": "2023-02-21T20:41:18.706Z"
   },
   {
    "duration": 5,
    "start_time": "2023-02-21T20:41:20.255Z"
   },
   {
    "duration": 4,
    "start_time": "2023-02-21T20:41:21.912Z"
   },
   {
    "duration": 80173,
    "start_time": "2023-02-21T20:41:23.648Z"
   },
   {
    "duration": 80541,
    "start_time": "2023-02-21T20:44:15.023Z"
   },
   {
    "duration": 49,
    "start_time": "2023-02-21T20:47:46.301Z"
   },
   {
    "duration": 498760,
    "start_time": "2023-02-21T20:48:24.825Z"
   },
   {
    "duration": 0,
    "start_time": "2023-02-21T20:56:43.587Z"
   },
   {
    "duration": 595628,
    "start_time": "2023-02-21T20:57:09.095Z"
   },
   {
    "duration": 2799,
    "start_time": "2023-02-21T21:07:40.314Z"
   },
   {
    "duration": 10442,
    "start_time": "2023-02-21T21:10:19.352Z"
   },
   {
    "duration": 10180,
    "start_time": "2023-02-21T21:12:00.835Z"
   },
   {
    "duration": 10160,
    "start_time": "2023-02-21T21:13:18.311Z"
   },
   {
    "duration": 2351,
    "start_time": "2023-02-21T21:13:52.053Z"
   },
   {
    "duration": 5,
    "start_time": "2023-02-21T21:19:43.891Z"
   },
   {
    "duration": 19,
    "start_time": "2023-02-21T21:27:56.145Z"
   },
   {
    "duration": 20,
    "start_time": "2023-02-21T21:29:45.335Z"
   },
   {
    "duration": 7,
    "start_time": "2023-02-21T21:33:29.350Z"
   },
   {
    "duration": 5,
    "start_time": "2023-02-21T21:35:38.731Z"
   },
   {
    "duration": 626,
    "start_time": "2023-02-21T21:35:38.922Z"
   },
   {
    "duration": 110,
    "start_time": "2023-02-21T21:35:39.549Z"
   },
   {
    "duration": 137,
    "start_time": "2023-02-21T21:35:39.660Z"
   },
   {
    "duration": 31,
    "start_time": "2023-02-21T21:35:39.803Z"
   },
   {
    "duration": 13,
    "start_time": "2023-02-21T21:35:39.967Z"
   },
   {
    "duration": 16,
    "start_time": "2023-02-21T21:35:40.137Z"
   },
   {
    "duration": 10,
    "start_time": "2023-02-21T21:35:42.321Z"
   },
   {
    "duration": 8,
    "start_time": "2023-02-21T21:35:45.729Z"
   },
   {
    "duration": 3,
    "start_time": "2023-02-21T21:35:47.318Z"
   },
   {
    "duration": 5,
    "start_time": "2023-02-21T21:35:49.065Z"
   },
   {
    "duration": 6,
    "start_time": "2023-02-21T21:35:49.418Z"
   },
   {
    "duration": 11,
    "start_time": "2023-02-21T21:35:51.660Z"
   },
   {
    "duration": 8,
    "start_time": "2023-02-21T21:35:53.041Z"
   },
   {
    "duration": 12,
    "start_time": "2023-02-21T21:37:29.065Z"
   },
   {
    "duration": 9,
    "start_time": "2023-02-21T21:37:30.917Z"
   },
   {
    "duration": 4,
    "start_time": "2023-02-21T21:37:46.952Z"
   },
   {
    "duration": 663,
    "start_time": "2023-02-21T21:37:47.575Z"
   },
   {
    "duration": 104,
    "start_time": "2023-02-21T21:37:48.573Z"
   },
   {
    "duration": 129,
    "start_time": "2023-02-21T21:37:49.367Z"
   },
   {
    "duration": 33,
    "start_time": "2023-02-21T21:37:50.067Z"
   },
   {
    "duration": 14,
    "start_time": "2023-02-21T21:37:51.040Z"
   },
   {
    "duration": 22,
    "start_time": "2023-02-21T21:37:51.231Z"
   },
   {
    "duration": 12,
    "start_time": "2023-02-21T21:37:51.764Z"
   },
   {
    "duration": 11,
    "start_time": "2023-02-21T21:37:53.420Z"
   },
   {
    "duration": 4,
    "start_time": "2023-02-21T21:37:55.046Z"
   },
   {
    "duration": 5,
    "start_time": "2023-02-21T21:37:55.698Z"
   },
   {
    "duration": 5,
    "start_time": "2023-02-21T21:37:55.911Z"
   },
   {
    "duration": 12,
    "start_time": "2023-02-21T21:37:57.293Z"
   },
   {
    "duration": 7,
    "start_time": "2023-02-21T21:37:58.635Z"
   },
   {
    "duration": 5,
    "start_time": "2023-02-21T21:38:17.538Z"
   },
   {
    "duration": 304,
    "start_time": "2023-02-21T21:38:17.744Z"
   },
   {
    "duration": 405,
    "start_time": "2023-02-21T21:38:18.311Z"
   },
   {
    "duration": 257,
    "start_time": "2023-02-21T21:38:18.718Z"
   },
   {
    "duration": 338,
    "start_time": "2023-02-21T21:38:19.037Z"
   },
   {
    "duration": 307,
    "start_time": "2023-02-21T21:38:19.378Z"
   },
   {
    "duration": 196,
    "start_time": "2023-02-21T21:38:19.791Z"
   },
   {
    "duration": 205,
    "start_time": "2023-02-21T21:38:19.989Z"
   },
   {
    "duration": 195,
    "start_time": "2023-02-21T21:38:20.330Z"
   },
   {
    "duration": 294,
    "start_time": "2023-02-21T21:38:20.533Z"
   },
   {
    "duration": 15,
    "start_time": "2023-02-21T21:38:21.098Z"
   },
   {
    "duration": 16,
    "start_time": "2023-02-21T21:38:21.259Z"
   },
   {
    "duration": 16,
    "start_time": "2023-02-21T21:38:21.466Z"
   },
   {
    "duration": 416,
    "start_time": "2023-02-21T21:38:21.631Z"
   },
   {
    "duration": 32,
    "start_time": "2023-02-21T21:38:22.229Z"
   },
   {
    "duration": 15,
    "start_time": "2023-02-21T21:38:22.350Z"
   },
   {
    "duration": 62,
    "start_time": "2023-02-21T21:38:22.761Z"
   },
   {
    "duration": 4,
    "start_time": "2023-02-21T21:38:22.926Z"
   },
   {
    "duration": 4,
    "start_time": "2023-02-21T21:38:23.302Z"
   },
   {
    "duration": 2,
    "start_time": "2023-02-21T21:38:23.483Z"
   },
   {
    "duration": 3,
    "start_time": "2023-02-21T21:38:23.831Z"
   },
   {
    "duration": 7,
    "start_time": "2023-02-21T21:38:24.198Z"
   },
   {
    "duration": 3,
    "start_time": "2023-02-21T21:38:24.420Z"
   },
   {
    "duration": 79681,
    "start_time": "2023-02-21T21:38:24.760Z"
   },
   {
    "duration": 10242,
    "start_time": "2023-02-21T21:39:44.443Z"
   },
   {
    "duration": 2625,
    "start_time": "2023-02-21T21:39:54.686Z"
   },
   {
    "duration": 8,
    "start_time": "2023-02-21T21:39:57.404Z"
   },
   {
    "duration": 5,
    "start_time": "2023-02-21T21:41:56.775Z"
   },
   {
    "duration": 247,
    "start_time": "2023-02-21T21:41:57.539Z"
   },
   {
    "duration": 292,
    "start_time": "2023-02-21T21:42:13.043Z"
   },
   {
    "duration": 12,
    "start_time": "2023-02-21T21:42:34.421Z"
   },
   {
    "duration": 6,
    "start_time": "2023-02-21T21:42:45.834Z"
   },
   {
    "duration": 687,
    "start_time": "2023-02-21T21:44:27.339Z"
   },
   {
    "duration": 642,
    "start_time": "2023-02-21T21:46:34.497Z"
   },
   {
    "duration": 10,
    "start_time": "2023-02-21T21:57:57.977Z"
   },
   {
    "duration": 7,
    "start_time": "2023-02-21T21:58:21.078Z"
   },
   {
    "duration": 13,
    "start_time": "2023-02-21T21:58:36.364Z"
   },
   {
    "duration": 1796,
    "start_time": "2023-02-22T18:29:27.820Z"
   },
   {
    "duration": 3294,
    "start_time": "2023-02-22T18:29:43.915Z"
   },
   {
    "duration": 151,
    "start_time": "2023-02-22T18:29:47.212Z"
   },
   {
    "duration": 201,
    "start_time": "2023-02-22T18:29:47.365Z"
   },
   {
    "duration": 57,
    "start_time": "2023-02-22T18:29:47.569Z"
   },
   {
    "duration": 19,
    "start_time": "2023-02-22T18:29:47.628Z"
   },
   {
    "duration": 45,
    "start_time": "2023-02-22T18:29:47.649Z"
   },
   {
    "duration": 15,
    "start_time": "2023-02-22T18:29:47.696Z"
   },
   {
    "duration": 12,
    "start_time": "2023-02-22T18:29:47.713Z"
   },
   {
    "duration": 11,
    "start_time": "2023-02-22T18:29:47.727Z"
   },
   {
    "duration": 12,
    "start_time": "2023-02-22T18:29:47.742Z"
   },
   {
    "duration": 38,
    "start_time": "2023-02-22T18:29:47.756Z"
   },
   {
    "duration": 11,
    "start_time": "2023-02-22T18:29:48.037Z"
   },
   {
    "duration": 7,
    "start_time": "2023-02-22T18:29:48.548Z"
   },
   {
    "duration": 5,
    "start_time": "2023-02-22T18:29:49.355Z"
   },
   {
    "duration": 315,
    "start_time": "2023-02-22T18:29:49.501Z"
   },
   {
    "duration": 465,
    "start_time": "2023-02-22T18:29:51.099Z"
   },
   {
    "duration": 346,
    "start_time": "2023-02-22T18:29:51.567Z"
   },
   {
    "duration": 355,
    "start_time": "2023-02-22T18:29:51.915Z"
   },
   {
    "duration": 266,
    "start_time": "2023-02-22T18:29:52.273Z"
   },
   {
    "duration": 203,
    "start_time": "2023-02-22T18:29:53.718Z"
   },
   {
    "duration": 198,
    "start_time": "2023-02-22T18:29:53.947Z"
   },
   {
    "duration": 257,
    "start_time": "2023-02-22T18:29:55.377Z"
   },
   {
    "duration": 419,
    "start_time": "2023-02-22T18:29:55.848Z"
   },
   {
    "duration": 403,
    "start_time": "2023-02-22T18:59:25.745Z"
   },
   {
    "duration": 627,
    "start_time": "2023-02-22T19:00:07.775Z"
   },
   {
    "duration": 447,
    "start_time": "2023-02-22T19:00:21.640Z"
   },
   {
    "duration": 496,
    "start_time": "2023-02-22T19:03:57.567Z"
   },
   {
    "duration": 432,
    "start_time": "2023-02-22T19:04:11.735Z"
   },
   {
    "duration": 407,
    "start_time": "2023-02-22T19:04:21.890Z"
   },
   {
    "duration": 363,
    "start_time": "2023-02-22T19:04:34.939Z"
   },
   {
    "duration": 484,
    "start_time": "2023-02-22T19:04:41.210Z"
   },
   {
    "duration": 405,
    "start_time": "2023-02-22T19:04:48.723Z"
   },
   {
    "duration": 377,
    "start_time": "2023-02-22T19:05:13.835Z"
   },
   {
    "duration": 349,
    "start_time": "2023-02-22T19:07:48.134Z"
   },
   {
    "duration": 439,
    "start_time": "2023-02-22T19:07:55.219Z"
   },
   {
    "duration": 524,
    "start_time": "2023-02-22T19:08:29.864Z"
   },
   {
    "duration": 408,
    "start_time": "2023-02-22T19:08:51.246Z"
   },
   {
    "duration": 10,
    "start_time": "2023-02-22T19:09:42.700Z"
   },
   {
    "duration": 8,
    "start_time": "2023-02-22T19:09:51.613Z"
   },
   {
    "duration": 3,
    "start_time": "2023-02-22T19:09:52.187Z"
   },
   {
    "duration": 7,
    "start_time": "2023-02-22T19:10:03.784Z"
   },
   {
    "duration": 7,
    "start_time": "2023-02-22T19:10:05.164Z"
   },
   {
    "duration": 127,
    "start_time": "2023-02-22T19:10:11.617Z"
   },
   {
    "duration": 15,
    "start_time": "2023-02-22T19:10:17.196Z"
   },
   {
    "duration": 5,
    "start_time": "2023-02-22T19:10:28.761Z"
   },
   {
    "duration": 675,
    "start_time": "2023-02-22T19:10:28.960Z"
   },
   {
    "duration": 112,
    "start_time": "2023-02-22T19:10:29.637Z"
   },
   {
    "duration": 142,
    "start_time": "2023-02-22T19:10:29.750Z"
   },
   {
    "duration": 32,
    "start_time": "2023-02-22T19:10:29.894Z"
   },
   {
    "duration": 14,
    "start_time": "2023-02-22T19:10:29.928Z"
   },
   {
    "duration": 21,
    "start_time": "2023-02-22T19:10:30.021Z"
   },
   {
    "duration": 12,
    "start_time": "2023-02-22T19:10:30.732Z"
   },
   {
    "duration": 10,
    "start_time": "2023-02-22T19:10:31.633Z"
   },
   {
    "duration": 5,
    "start_time": "2023-02-22T19:10:32.092Z"
   },
   {
    "duration": 5,
    "start_time": "2023-02-22T19:10:32.240Z"
   },
   {
    "duration": 5,
    "start_time": "2023-02-22T19:10:32.390Z"
   },
   {
    "duration": 16,
    "start_time": "2023-02-22T19:10:33.131Z"
   },
   {
    "duration": 7,
    "start_time": "2023-02-22T19:10:33.539Z"
   },
   {
    "duration": 6,
    "start_time": "2023-02-22T19:10:34.387Z"
   },
   {
    "duration": 301,
    "start_time": "2023-02-22T19:10:34.862Z"
   },
   {
    "duration": 341,
    "start_time": "2023-02-22T19:10:35.494Z"
   },
   {
    "duration": 290,
    "start_time": "2023-02-22T19:10:35.837Z"
   },
   {
    "duration": 371,
    "start_time": "2023-02-22T19:10:36.277Z"
   },
   {
    "duration": 332,
    "start_time": "2023-02-22T19:10:36.650Z"
   },
   {
    "duration": 174,
    "start_time": "2023-02-22T19:10:37.314Z"
   },
   {
    "duration": 220,
    "start_time": "2023-02-22T19:10:37.541Z"
   },
   {
    "duration": 516,
    "start_time": "2023-02-22T19:10:37.763Z"
   },
   {
    "duration": 222,
    "start_time": "2023-02-22T19:10:38.281Z"
   },
   {
    "duration": 211,
    "start_time": "2023-02-22T19:10:38.505Z"
   },
   {
    "duration": 363,
    "start_time": "2023-02-22T19:10:38.816Z"
   },
   {
    "duration": 21,
    "start_time": "2023-02-22T19:10:39.491Z"
   },
   {
    "duration": 18,
    "start_time": "2023-02-22T19:10:39.711Z"
   },
   {
    "duration": 21,
    "start_time": "2023-02-22T19:10:39.917Z"
   },
   {
    "duration": 429,
    "start_time": "2023-02-22T19:10:40.108Z"
   },
   {
    "duration": 27,
    "start_time": "2023-02-22T19:10:40.840Z"
   },
   {
    "duration": 14,
    "start_time": "2023-02-22T19:10:41.037Z"
   },
   {
    "duration": 52,
    "start_time": "2023-02-22T19:10:41.659Z"
   },
   {
    "duration": 4,
    "start_time": "2023-02-22T19:10:41.875Z"
   },
   {
    "duration": 5,
    "start_time": "2023-02-22T19:10:42.329Z"
   },
   {
    "duration": 2,
    "start_time": "2023-02-22T19:10:42.548Z"
   },
   {
    "duration": 3,
    "start_time": "2023-02-22T19:10:43.011Z"
   },
   {
    "duration": 6,
    "start_time": "2023-02-22T19:10:43.733Z"
   },
   {
    "duration": 4,
    "start_time": "2023-02-22T19:10:44.019Z"
   },
   {
    "duration": 85269,
    "start_time": "2023-02-22T19:10:44.469Z"
   },
   {
    "duration": 10804,
    "start_time": "2023-02-22T19:12:09.741Z"
   },
   {
    "duration": 3658,
    "start_time": "2023-02-22T19:12:20.547Z"
   },
   {
    "duration": 87,
    "start_time": "2023-02-22T19:12:24.207Z"
   },
   {
    "duration": 5,
    "start_time": "2023-02-22T19:15:08.060Z"
   },
   {
    "duration": 723,
    "start_time": "2023-02-22T19:15:08.546Z"
   },
   {
    "duration": 13,
    "start_time": "2023-02-22T19:15:11.044Z"
   },
   {
    "duration": 12,
    "start_time": "2023-02-22T19:15:28.415Z"
   },
   {
    "duration": 16,
    "start_time": "2023-02-22T19:15:39.432Z"
   },
   {
    "duration": 13,
    "start_time": "2023-02-22T19:16:23.746Z"
   },
   {
    "duration": 12,
    "start_time": "2023-02-22T19:16:35.930Z"
   }
  ],
  "kernelspec": {
   "display_name": "Python 3 (ipykernel)",
   "language": "python",
   "name": "python3"
  },
  "language_info": {
   "codemirror_mode": {
    "name": "ipython",
    "version": 3
   },
   "file_extension": ".py",
   "mimetype": "text/x-python",
   "name": "python",
   "nbconvert_exporter": "python",
   "pygments_lexer": "ipython3",
   "version": "3.9.13"
  },
  "toc": {
   "base_numbering": 1,
   "nav_menu": {},
   "number_sections": true,
   "sideBar": true,
   "skip_h1_title": true,
   "title_cell": "Содержание",
   "title_sidebar": "Contents",
   "toc_cell": true,
   "toc_position": {
    "height": "calc(100% - 180px)",
    "left": "10px",
    "top": "150px",
    "width": "165px"
   },
   "toc_section_display": true,
   "toc_window_display": true
  }
 },
 "nbformat": 4,
 "nbformat_minor": 2
}
